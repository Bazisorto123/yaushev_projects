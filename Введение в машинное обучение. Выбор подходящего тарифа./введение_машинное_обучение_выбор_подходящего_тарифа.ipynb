{
 "cells": [
  {
   "cell_type": "markdown",
   "metadata": {},
   "source": [
    "# Рекомендация тарифов"
   ]
  },
  {
   "cell_type": "markdown",
   "metadata": {},
   "source": [
    "В вашем распоряжении данные о поведении клиентов, которые уже перешли на эти тарифы (из проекта курса «Статистический анализ данных»). Нужно построить модель для задачи классификации, которая выберет подходящий тариф. Предобработка данных не понадобится — вы её уже сделали.\n",
    "\n",
    "Постройте модель с максимально большим значением *accuracy*. Чтобы сдать проект успешно, нужно довести долю правильных ответов по крайней мере до 0.75. Проверьте *accuracy* на тестовой выборке самостоятельно."
   ]
  },
  {
   "cell_type": "markdown",
   "metadata": {},
   "source": [
    "## Откройте и изучите файл"
   ]
  },
  {
   "cell_type": "markdown",
   "metadata": {},
   "source": [
    "Импортирование всех необходимых библиотек."
   ]
  },
  {
   "cell_type": "code",
   "execution_count": 1,
   "metadata": {},
   "outputs": [],
   "source": [
    "import pandas as pd\n",
    "from sklearn.model_selection import train_test_split\n",
    "from sklearn.tree import DecisionTreeClassifier\n",
    "from sklearn.ensemble import RandomForestClassifier\n",
    "from sklearn.linear_model import LogisticRegression \n",
    "from sklearn.metrics import accuracy_score"
   ]
  },
  {
   "cell_type": "markdown",
   "metadata": {},
   "source": [
    "Чтение датасета, получение информации о таблице. Очевидно, что за целевое значение нужно взять столбец is_ultra, за параметры - все остальное. Также есть очень сильная корреляция столбцом minutes и calls. Удалим calls."
   ]
  },
  {
   "cell_type": "code",
   "execution_count": 2,
   "metadata": {},
   "outputs": [
    {
     "data": {
      "text/html": [
       "<div>\n",
       "<style scoped>\n",
       "    .dataframe tbody tr th:only-of-type {\n",
       "        vertical-align: middle;\n",
       "    }\n",
       "\n",
       "    .dataframe tbody tr th {\n",
       "        vertical-align: top;\n",
       "    }\n",
       "\n",
       "    .dataframe thead th {\n",
       "        text-align: right;\n",
       "    }\n",
       "</style>\n",
       "<table border=\"1\" class=\"dataframe\">\n",
       "  <thead>\n",
       "    <tr style=\"text-align: right;\">\n",
       "      <th></th>\n",
       "      <th>calls</th>\n",
       "      <th>minutes</th>\n",
       "      <th>messages</th>\n",
       "      <th>mb_used</th>\n",
       "      <th>is_ultra</th>\n",
       "    </tr>\n",
       "  </thead>\n",
       "  <tbody>\n",
       "    <tr>\n",
       "      <th>0</th>\n",
       "      <td>40.0</td>\n",
       "      <td>311.90</td>\n",
       "      <td>83.0</td>\n",
       "      <td>19915.42</td>\n",
       "      <td>0</td>\n",
       "    </tr>\n",
       "    <tr>\n",
       "      <th>1</th>\n",
       "      <td>85.0</td>\n",
       "      <td>516.75</td>\n",
       "      <td>56.0</td>\n",
       "      <td>22696.96</td>\n",
       "      <td>0</td>\n",
       "    </tr>\n",
       "    <tr>\n",
       "      <th>2</th>\n",
       "      <td>77.0</td>\n",
       "      <td>467.66</td>\n",
       "      <td>86.0</td>\n",
       "      <td>21060.45</td>\n",
       "      <td>0</td>\n",
       "    </tr>\n",
       "    <tr>\n",
       "      <th>3</th>\n",
       "      <td>106.0</td>\n",
       "      <td>745.53</td>\n",
       "      <td>81.0</td>\n",
       "      <td>8437.39</td>\n",
       "      <td>1</td>\n",
       "    </tr>\n",
       "    <tr>\n",
       "      <th>4</th>\n",
       "      <td>66.0</td>\n",
       "      <td>418.74</td>\n",
       "      <td>1.0</td>\n",
       "      <td>14502.75</td>\n",
       "      <td>0</td>\n",
       "    </tr>\n",
       "  </tbody>\n",
       "</table>\n",
       "</div>"
      ],
      "text/plain": [
       "   calls  minutes  messages   mb_used  is_ultra\n",
       "0   40.0   311.90      83.0  19915.42         0\n",
       "1   85.0   516.75      56.0  22696.96         0\n",
       "2   77.0   467.66      86.0  21060.45         0\n",
       "3  106.0   745.53      81.0   8437.39         1\n",
       "4   66.0   418.74       1.0  14502.75         0"
      ]
     },
     "metadata": {},
     "output_type": "display_data"
    },
    {
     "name": "stdout",
     "output_type": "stream",
     "text": [
      "<class 'pandas.core.frame.DataFrame'>\n",
      "RangeIndex: 3214 entries, 0 to 3213\n",
      "Data columns (total 5 columns):\n",
      " #   Column    Non-Null Count  Dtype  \n",
      "---  ------    --------------  -----  \n",
      " 0   calls     3214 non-null   float64\n",
      " 1   minutes   3214 non-null   float64\n",
      " 2   messages  3214 non-null   float64\n",
      " 3   mb_used   3214 non-null   float64\n",
      " 4   is_ultra  3214 non-null   int64  \n",
      "dtypes: float64(4), int64(1)\n",
      "memory usage: 125.7 KB\n"
     ]
    }
   ],
   "source": [
    "data = pd.read_csv('/datasets/users_behavior.csv')\n",
    "display(data.head()) \n",
    "data.info()\n",
    "data.shape\n",
    "data.corr()\n",
    "data = data.drop(['calls'], axis=1)"
   ]
  },
  {
   "cell_type": "markdown",
   "metadata": {},
   "source": [
    "## Разбейте данные на выборки"
   ]
  },
  {
   "cell_type": "markdown",
   "metadata": {},
   "source": [
    "Разделение датасета на параметры и целевые значения. \n",
    "Далее осуществляется разбивка данных на выборки. Сначала из общей выборки 60% остаются в тренировочной выборке. Затем оставшиеся 40% пополам разбиваются на тренировочную и тестовую. Затем проверяется их размерность. Она соответсвует заданной."
   ]
  },
  {
   "cell_type": "code",
   "execution_count": 3,
   "metadata": {},
   "outputs": [
    {
     "name": "stdout",
     "output_type": "stream",
     "text": [
      "1928 643 643\n",
      "1928 643 643\n"
     ]
    }
   ],
   "source": [
    "features = data.drop(['is_ultra'], axis=1)\n",
    "target = data['is_ultra']\n",
    "features_train, features_x, target_train, target_x = train_test_split(features, target, test_size=0.4, random_state=12345)\n",
    "features_valid, features_test, target_valid, target_test = train_test_split(features_x, target_x, test_size=0.5, random_state=12345)\n",
    "print(len(features_train), len(features_valid), len(features_test))\n",
    "print(len(target_train), len(target_valid), len(target_test))"
   ]
  },
  {
   "cell_type": "markdown",
   "metadata": {},
   "source": [
    "## Исследуйте модели"
   ]
  },
  {
   "cell_type": "markdown",
   "metadata": {},
   "source": [
    "Строим модели 3 видов: дерево решений, случайный лес и регрессия, затем переибираем гиперпараметры, обучаем модели на тренировочной выборке и тестируем на валидационной выборке:\n",
    "1. У дерева решений тестируем глубину от 1 до 20. Лучшую точность модели записываем в best_result_1. Лучший показатель 0,79 получился при глубине 3.  \n",
    "2. У случайного леса тестируем количество характеристик для деления (от 1 до 3), количество деревьев (от 10 до 51 с шагом 10) и глубину деревьев (от 1 до 10). Лучшую точность модели записываем в best_result_2. Лучший показатель 0,81 получился при глубине 8, количестве критериев 2 и количестве деревьев 40.\n",
    "3. У логической регрессии получили результат 0,71 при максимальном количестве итераций 1000.\n",
    "\n",
    "Лучший результат у модели случайного леса."
   ]
  },
  {
   "cell_type": "code",
   "execution_count": 4,
   "metadata": {},
   "outputs": [
    {
     "name": "stdout",
     "output_type": "stream",
     "text": [
      "Accuracy лучшей модели дерева решений на валидационной выборке: 0.7884914463452566 DecisionTreeClassifier(max_depth=4, random_state=12345)\n",
      "Accuracy наилучшей модели леса на валидационной выборке: 0.7993779160186625 RandomForestClassifier(max_depth=8, max_features=1, n_estimators=20,\n",
      "                       random_state=12345)\n",
      "Accuracy регрессии на валидационной выборке: 0.7076205287713841\n"
     ]
    }
   ],
   "source": [
    "best_model = None\n",
    "best_result_1 = 0\n",
    "for depth in range(1, 20):\n",
    "    model_1 = DecisionTreeClassifier(random_state=12345, max_depth=depth)\n",
    "    model_1.fit(features_train,target_train)  \n",
    "    result = model_1.score(features_valid, target_valid)\n",
    "    if result > best_result_1:\n",
    "        best_model_1 = model_1\n",
    "        best_result_1 = result\n",
    "        \n",
    "print(\"Accuracy лучшей модели дерева решений на валидационной выборке:\", best_result_1, best_model_1)\n",
    "\n",
    "best_model = None\n",
    "best_result_2 = 0\n",
    "for max_features in range(1, 4):\n",
    "    for est in range(10, 51, 10):\n",
    "        for depth in range (1, 11):\n",
    "            model_2 = RandomForestClassifier(random_state=12345, n_estimators=est, max_depth=depth, max_features=max_features )\n",
    "            model_2.fit(features_train, target_train) \n",
    "            result = model_2.score(features_valid, target_valid) \n",
    "            if result > best_result_2:\n",
    "                best_model_2 = model_2\n",
    "                best_result_2 = result\n",
    "\n",
    "print(\"Accuracy наилучшей модели леса на валидационной выборке:\", best_result_2, best_model_2)\n",
    "\n",
    "model_3 = LogisticRegression(random_state=12345, solver='lbfgs', max_iter=1000)\n",
    "model_3.fit(features_train, target_train) \n",
    "best_result_3 = model_3.score(features_valid, target_valid)\n",
    "print(\"Accuracy регрессии на валидационной выборке:\", best_result_3)"
   ]
  },
  {
   "cell_type": "markdown",
   "metadata": {},
   "source": [
    "## Проверьте модель на тестовой выборке"
   ]
  },
  {
   "cell_type": "markdown",
   "metadata": {},
   "source": [
    "Проверяем получившуюся модель случайного леса на тестовой выборке. Результат 0.8, достаточно точный."
   ]
  },
  {
   "cell_type": "code",
   "execution_count": 5,
   "metadata": {},
   "outputs": [
    {
     "name": "stdout",
     "output_type": "stream",
     "text": [
      "Accuracy лучшей модели случайного леса на тестовой выборке: 0.80248833592535\n"
     ]
    }
   ],
   "source": [
    "print(\"Accuracy лучшей модели случайного леса на тестовой выборке:\", best_model_2.score(features_test, target_test))\n"
   ]
  },
  {
   "cell_type": "markdown",
   "metadata": {},
   "source": [
    "## (бонус) Проверьте модели на адекватность"
   ]
  },
  {
   "cell_type": "markdown",
   "metadata": {},
   "source": [
    "Для проверки модели на адекватность, необходимо обучить новые простые модели, без корректировки гиперпараметров. Accuracy базовой модели случайного леса немного ниже той, что получилась в предыдущем разделе. Следовательно, модель адекватна и работает лучше базовой. Кроме того, видно, насколько сидьно базовая модель дерева решений отстает от обученной нами с глубиной 3."
   ]
  },
  {
   "cell_type": "code",
   "execution_count": 6,
   "metadata": {},
   "outputs": [
    {
     "name": "stdout",
     "output_type": "stream",
     "text": [
      "Accuracy базовой модели дерева решений на тестовой выборке: 0.7169517884914464\n",
      "Accuracy базовой модели случайного леса на тестовой выборке: 0.7978227060653188\n",
      "Accuracy базовой модели регрессии на тестовой выборке: 0.6982892690513219\n"
     ]
    }
   ],
   "source": [
    "model = DecisionTreeClassifier(random_state=123)\n",
    "model.fit(features_train,target_train)  \n",
    "print(\"Accuracy базовой модели дерева решений на тестовой выборке:\", model.score(features_test, target_test))\n",
    "model = RandomForestClassifier(random_state=123)\n",
    "model.fit(features_train,target_train)  \n",
    "print(\"Accuracy базовой модели случайного леса на тестовой выборке:\", model.score(features_test, target_test))\n",
    "model = LogisticRegression(random_state=123)\n",
    "model.fit(features_train, target_train) \n",
    "print(\"Accuracy базовой модели регрессии на тестовой выборке:\", model.score(features_test, target_test))\n"
   ]
  },
  {
   "cell_type": "markdown",
   "metadata": {},
   "source": [
    "### Вывод\n",
    "Полученный датафрейм был разбит на группы для обучения и тестирования моделей. Были протестированы модели 3 типов, были протестированы разные гиперпараметры. По результатам тестирования, лучшый результат показала модель случайного леса при глубине 8, количестве критериев 2 и количестве деревьев 40. Ее accuracy составила почти 0.81, что ситается хорошим показателем. При этом, Accuracy у модели дерева решений глубины 3 около 0.79, что также является высоким показателем, но при этом она работает значительно быстрее. Можно назвать ее наиболее удачной из протестированных."
   ]
  },
  {
   "cell_type": "markdown",
   "metadata": {},
   "source": [
    "<div style=\"border:solid Chocolate 2px; padding: 40px\">\n",
    "\n",
    "\n",
    "<h2> Итоговый комментарий ревьюера v.2 <a class=\"tocSkip\"> </h2>    \n",
    "    \n",
    "     \n",
    "  \n",
    "    \n",
    "Могу посоветовать посмотреть видеоразбор <a href=\"https://www.youtube.com/watch?v=YTLDATQLK6w\">Как обучить модель по шагам в Data Science?</a>\n",
    "    \n",
    "Рекомендую тебе ознакомиться с  `GridSearchCV` для подбора гиперпараметров, это избавит тебя от написания циклов. Полезные ссылки: https://vc.ru/ml/147132-kak-avtomaticheski-podobrat-parametry-dlya-modeli-mashinnogo-obucheniya-ispolzuem-gridsearchcv\n",
    "        \n",
    "https://newtechaudit.ru/gridsearchcv-pomoshhnik-v-vybore/        \n",
    "    \n",
    "    \n",
    "  \n",
    "</div>"
   ]
  },
  {
   "cell_type": "markdown",
   "metadata": {},
   "source": [
    "## Чек-лист готовности проекта"
   ]
  },
  {
   "cell_type": "markdown",
   "metadata": {},
   "source": [
    "Поставьте 'x' в выполненных пунктах. Далее нажмите Shift+Enter."
   ]
  },
  {
   "cell_type": "markdown",
   "metadata": {},
   "source": [
    "- [x] Jupyter Notebook открыт\n",
    "- [x] Весь код исполняется без ошибок\n",
    "- [x] Ячейки с кодом расположены в порядке исполнения\n",
    "- [x] Выполнено задание 1: данные загружены и изучены\n",
    "- [x] Выполнено задание 2: данные разбиты на три выборки\n",
    "- [x] Выполнено задание 3: проведено исследование моделей\n",
    "    - [x] Рассмотрено больше одной модели\n",
    "    - [x] Рассмотрено хотя бы 3 значения гипепараметров для какой-нибудь модели\n",
    "    - [x] Написаны выводы по результатам исследования\n",
    "- [x] Выполнено задание 3: Проведено тестирование\n",
    "- [x] Удалось достичь accuracy не меньше 0.75\n"
   ]
  },
  {
   "cell_type": "code",
   "execution_count": null,
   "metadata": {},
   "outputs": [],
   "source": []
  }
 ],
 "metadata": {
  "ExecuteTimeLog": [
   {
    "duration": 430,
    "start_time": "2022-11-07T10:22:02.078Z"
   },
   {
    "duration": 85,
    "start_time": "2022-11-07T10:22:25.593Z"
   },
   {
    "duration": 3,
    "start_time": "2022-11-07T10:23:30.320Z"
   },
   {
    "duration": 22,
    "start_time": "2022-11-07T10:23:32.381Z"
   },
   {
    "duration": 22,
    "start_time": "2022-11-07T10:25:06.592Z"
   },
   {
    "duration": 349,
    "start_time": "2022-11-07T10:25:14.368Z"
   },
   {
    "duration": 90,
    "start_time": "2022-11-07T10:25:14.719Z"
   },
   {
    "duration": 23,
    "start_time": "2022-11-07T10:26:52.729Z"
   },
   {
    "duration": 49,
    "start_time": "2022-11-08T09:43:58.087Z"
   },
   {
    "duration": 444,
    "start_time": "2022-11-08T09:43:59.706Z"
   },
   {
    "duration": 126,
    "start_time": "2022-11-08T09:44:01.299Z"
   },
   {
    "duration": 30,
    "start_time": "2022-11-08T09:44:29.839Z"
   },
   {
    "duration": 75,
    "start_time": "2022-11-08T09:45:02.095Z"
   },
   {
    "duration": 43,
    "start_time": "2022-11-08T09:45:07.475Z"
   },
   {
    "duration": 10,
    "start_time": "2022-11-08T09:49:14.283Z"
   },
   {
    "duration": 801,
    "start_time": "2022-11-08T09:49:19.511Z"
   },
   {
    "duration": 53,
    "start_time": "2022-11-08T09:49:20.639Z"
   },
   {
    "duration": 8,
    "start_time": "2022-11-08T09:49:22.092Z"
   },
   {
    "duration": 10,
    "start_time": "2022-11-08T09:50:01.131Z"
   },
   {
    "duration": 54,
    "start_time": "2022-11-08T09:50:50.083Z"
   },
   {
    "duration": 10,
    "start_time": "2022-11-08T09:50:54.990Z"
   },
   {
    "duration": 9,
    "start_time": "2022-11-08T09:53:15.298Z"
   },
   {
    "duration": 47,
    "start_time": "2022-11-08T09:53:17.846Z"
   },
   {
    "duration": 9,
    "start_time": "2022-11-08T09:53:19.478Z"
   },
   {
    "duration": 15,
    "start_time": "2022-11-08T09:53:22.330Z"
   },
   {
    "duration": 3,
    "start_time": "2022-11-08T09:55:29.438Z"
   },
   {
    "duration": 50,
    "start_time": "2022-11-08T09:57:03.250Z"
   },
   {
    "duration": 157,
    "start_time": "2022-11-08T09:58:23.666Z"
   },
   {
    "duration": 102,
    "start_time": "2022-11-08T09:58:31.294Z"
   },
   {
    "duration": 1210,
    "start_time": "2022-11-08T09:58:42.511Z"
   },
   {
    "duration": 55,
    "start_time": "2022-11-08T09:58:43.723Z"
   },
   {
    "duration": 10,
    "start_time": "2022-11-08T09:58:43.780Z"
   },
   {
    "duration": 47,
    "start_time": "2022-11-08T09:58:43.792Z"
   },
   {
    "duration": 33,
    "start_time": "2022-11-08T10:00:44.434Z"
   },
   {
    "duration": 35,
    "start_time": "2022-11-08T10:01:30.410Z"
   },
   {
    "duration": 45,
    "start_time": "2022-11-08T10:01:41.750Z"
   },
   {
    "duration": 32,
    "start_time": "2022-11-08T10:01:53.561Z"
   },
   {
    "duration": 35,
    "start_time": "2022-11-08T10:02:15.522Z"
   },
   {
    "duration": 12,
    "start_time": "2022-11-08T10:03:43.029Z"
   },
   {
    "duration": 333,
    "start_time": "2022-11-08T10:04:46.106Z"
   },
   {
    "duration": 1124,
    "start_time": "2022-11-08T10:05:19.953Z"
   },
   {
    "duration": 56,
    "start_time": "2022-11-08T10:05:21.079Z"
   },
   {
    "duration": 11,
    "start_time": "2022-11-08T10:05:21.137Z"
   },
   {
    "duration": 149,
    "start_time": "2022-11-08T10:05:21.150Z"
   },
   {
    "duration": 314,
    "start_time": "2022-11-08T10:05:31.077Z"
   },
   {
    "duration": 317,
    "start_time": "2022-11-08T10:05:49.929Z"
   },
   {
    "duration": 44,
    "start_time": "2022-11-08T10:07:33.444Z"
   },
   {
    "duration": 3992,
    "start_time": "2022-11-08T10:07:47.521Z"
   },
   {
    "duration": 3,
    "start_time": "2022-11-08T10:09:55.281Z"
   },
   {
    "duration": 4028,
    "start_time": "2022-11-08T10:11:13.173Z"
   },
   {
    "duration": 1142,
    "start_time": "2022-11-08T10:11:30.157Z"
   },
   {
    "duration": 51,
    "start_time": "2022-11-08T10:11:31.301Z"
   },
   {
    "duration": 9,
    "start_time": "2022-11-08T10:11:31.354Z"
   },
   {
    "duration": 4042,
    "start_time": "2022-11-08T10:11:31.366Z"
   },
   {
    "duration": 3937,
    "start_time": "2022-11-08T10:11:50.377Z"
   },
   {
    "duration": 11130,
    "start_time": "2022-11-08T10:12:29.293Z"
   },
   {
    "duration": 7244,
    "start_time": "2022-11-08T10:12:54.893Z"
   },
   {
    "duration": 114,
    "start_time": "2022-11-08T10:16:26.925Z"
   },
   {
    "duration": 7189,
    "start_time": "2022-11-08T10:17:23.949Z"
   },
   {
    "duration": 1078,
    "start_time": "2022-11-08T10:17:33.377Z"
   },
   {
    "duration": 54,
    "start_time": "2022-11-08T10:17:34.457Z"
   },
   {
    "duration": 12,
    "start_time": "2022-11-08T10:17:34.512Z"
   },
   {
    "duration": 7181,
    "start_time": "2022-11-08T10:17:34.526Z"
   },
   {
    "duration": 1127,
    "start_time": "2022-11-08T10:18:33.546Z"
   },
   {
    "duration": 52,
    "start_time": "2022-11-08T10:18:34.676Z"
   },
   {
    "duration": 11,
    "start_time": "2022-11-08T10:18:34.729Z"
   },
   {
    "duration": 7290,
    "start_time": "2022-11-08T10:18:34.742Z"
   },
   {
    "duration": 7133,
    "start_time": "2022-11-08T10:19:27.365Z"
   },
   {
    "duration": 1212,
    "start_time": "2022-11-08T10:19:39.768Z"
   },
   {
    "duration": 52,
    "start_time": "2022-11-08T10:19:40.982Z"
   },
   {
    "duration": 12,
    "start_time": "2022-11-08T10:19:41.037Z"
   },
   {
    "duration": 121,
    "start_time": "2022-11-08T10:19:41.051Z"
   },
   {
    "duration": 7356,
    "start_time": "2022-11-08T10:19:56.981Z"
   },
   {
    "duration": 1170,
    "start_time": "2022-11-08T10:20:11.778Z"
   },
   {
    "duration": 52,
    "start_time": "2022-11-08T10:20:12.950Z"
   },
   {
    "duration": 9,
    "start_time": "2022-11-08T10:20:13.004Z"
   },
   {
    "duration": 7236,
    "start_time": "2022-11-08T10:20:13.015Z"
   },
   {
    "duration": 9294,
    "start_time": "2022-11-08T10:20:28.144Z"
   },
   {
    "duration": 1195,
    "start_time": "2022-11-08T10:20:46.169Z"
   },
   {
    "duration": 53,
    "start_time": "2022-11-08T10:20:47.366Z"
   },
   {
    "duration": 14,
    "start_time": "2022-11-08T10:20:47.421Z"
   },
   {
    "duration": 9498,
    "start_time": "2022-11-08T10:20:47.437Z"
   },
   {
    "duration": 1098,
    "start_time": "2022-11-08T10:22:33.520Z"
   },
   {
    "duration": 54,
    "start_time": "2022-11-08T10:22:34.620Z"
   },
   {
    "duration": 11,
    "start_time": "2022-11-08T10:22:34.675Z"
   },
   {
    "duration": 9733,
    "start_time": "2022-11-08T10:22:34.688Z"
   },
   {
    "duration": 114,
    "start_time": "2022-11-08T10:24:17.712Z"
   },
   {
    "duration": 1128,
    "start_time": "2022-11-08T10:24:33.896Z"
   },
   {
    "duration": 50,
    "start_time": "2022-11-08T10:24:35.027Z"
   },
   {
    "duration": 10,
    "start_time": "2022-11-08T10:24:35.079Z"
   },
   {
    "duration": 9500,
    "start_time": "2022-11-08T10:24:35.092Z"
   },
   {
    "duration": 6,
    "start_time": "2022-11-08T10:24:44.594Z"
   },
   {
    "duration": 9419,
    "start_time": "2022-11-08T10:25:12.688Z"
   },
   {
    "duration": 9554,
    "start_time": "2022-11-08T10:25:44.284Z"
   },
   {
    "duration": 1154,
    "start_time": "2022-11-08T10:26:02.692Z"
   },
   {
    "duration": 53,
    "start_time": "2022-11-08T10:26:03.848Z"
   },
   {
    "duration": 8,
    "start_time": "2022-11-08T10:26:03.903Z"
   },
   {
    "duration": 16167,
    "start_time": "2022-11-08T10:26:03.913Z"
   },
   {
    "duration": 6,
    "start_time": "2022-11-08T10:26:20.081Z"
   },
   {
    "duration": 30553,
    "start_time": "2022-11-08T10:26:26.688Z"
   },
   {
    "duration": 7254,
    "start_time": "2022-11-08T10:27:18.976Z"
   },
   {
    "duration": 121,
    "start_time": "2022-11-08T10:27:57.096Z"
   },
   {
    "duration": 29,
    "start_time": "2022-11-08T10:28:07.541Z"
   },
   {
    "duration": 73550,
    "start_time": "2022-11-08T10:30:07.533Z"
   },
   {
    "duration": 51,
    "start_time": "2022-11-08T10:35:08.008Z"
   },
   {
    "duration": 1139,
    "start_time": "2022-11-08T10:35:21.698Z"
   },
   {
    "duration": 49,
    "start_time": "2022-11-08T10:35:22.839Z"
   },
   {
    "duration": 8,
    "start_time": "2022-11-08T10:35:22.890Z"
   },
   {
    "duration": 17208,
    "start_time": "2022-11-08T10:35:22.900Z"
   },
   {
    "duration": 0,
    "start_time": "2022-11-08T10:35:40.109Z"
   },
   {
    "duration": 82,
    "start_time": "2022-11-08T10:36:05.300Z"
   },
   {
    "duration": 1347,
    "start_time": "2022-11-08T10:36:14.539Z"
   },
   {
    "duration": 56,
    "start_time": "2022-11-08T10:36:15.888Z"
   },
   {
    "duration": 9,
    "start_time": "2022-11-08T10:36:15.946Z"
   },
   {
    "duration": 201,
    "start_time": "2022-11-08T10:36:15.957Z"
   },
   {
    "duration": 0,
    "start_time": "2022-11-08T10:36:16.160Z"
   },
   {
    "duration": 85,
    "start_time": "2022-11-08T10:36:31.985Z"
   },
   {
    "duration": 16833,
    "start_time": "2022-11-08T10:36:35.403Z"
   },
   {
    "duration": 21,
    "start_time": "2022-11-08T10:37:03.183Z"
   },
   {
    "duration": 46,
    "start_time": "2022-11-08T10:42:29.911Z"
   },
   {
    "duration": 17,
    "start_time": "2022-11-08T10:42:37.043Z"
   },
   {
    "duration": 406,
    "start_time": "2022-11-08T10:43:05.063Z"
   },
   {
    "duration": 448,
    "start_time": "2022-11-08T10:44:10.371Z"
   },
   {
    "duration": 105,
    "start_time": "2022-11-08T10:46:00.059Z"
   },
   {
    "duration": 50,
    "start_time": "2022-11-08T10:46:07.046Z"
   },
   {
    "duration": 20,
    "start_time": "2022-11-08T10:46:12.087Z"
   },
   {
    "duration": 1168,
    "start_time": "2022-11-08T10:49:45.802Z"
   },
   {
    "duration": 52,
    "start_time": "2022-11-08T10:49:46.972Z"
   },
   {
    "duration": 9,
    "start_time": "2022-11-08T10:49:47.026Z"
   },
   {
    "duration": 17776,
    "start_time": "2022-11-08T10:49:47.037Z"
   },
   {
    "duration": 24,
    "start_time": "2022-11-08T10:50:04.815Z"
   },
   {
    "duration": 479,
    "start_time": "2022-11-08T10:50:04.842Z"
   },
   {
    "duration": 42,
    "start_time": "2022-11-08T10:54:03.182Z"
   },
   {
    "duration": 122,
    "start_time": "2022-11-08T10:54:16.742Z"
   },
   {
    "duration": 20,
    "start_time": "2022-11-08T10:54:27.358Z"
   },
   {
    "duration": 13,
    "start_time": "2022-11-08T10:56:00.702Z"
   },
   {
    "duration": 12,
    "start_time": "2022-11-08T10:56:34.030Z"
   },
   {
    "duration": 18340,
    "start_time": "2022-11-08T10:56:37.086Z"
   },
   {
    "duration": 1210,
    "start_time": "2022-11-08T10:57:31.765Z"
   },
   {
    "duration": 55,
    "start_time": "2022-11-08T10:57:32.977Z"
   },
   {
    "duration": 14,
    "start_time": "2022-11-08T10:57:33.033Z"
   },
   {
    "duration": 18562,
    "start_time": "2022-11-08T10:57:33.050Z"
   },
   {
    "duration": 30,
    "start_time": "2022-11-08T10:57:51.615Z"
   },
   {
    "duration": 526,
    "start_time": "2022-11-08T10:57:51.648Z"
   },
   {
    "duration": 1190,
    "start_time": "2022-11-08T10:58:35.034Z"
   },
   {
    "duration": 54,
    "start_time": "2022-11-08T10:58:36.227Z"
   },
   {
    "duration": 10,
    "start_time": "2022-11-08T10:58:36.283Z"
   },
   {
    "duration": 17928,
    "start_time": "2022-11-08T10:58:36.296Z"
   },
   {
    "duration": 22,
    "start_time": "2022-11-08T10:58:54.226Z"
   },
   {
    "duration": 481,
    "start_time": "2022-11-08T10:58:54.250Z"
   },
   {
    "duration": 17638,
    "start_time": "2022-11-08T11:07:18.753Z"
   },
   {
    "duration": 18,
    "start_time": "2022-11-08T11:07:50.942Z"
   },
   {
    "duration": 1162,
    "start_time": "2022-11-08T11:07:58.569Z"
   },
   {
    "duration": 60,
    "start_time": "2022-11-08T11:07:59.733Z"
   },
   {
    "duration": 17,
    "start_time": "2022-11-08T11:07:59.796Z"
   },
   {
    "duration": 17856,
    "start_time": "2022-11-08T11:07:59.816Z"
   },
   {
    "duration": 18,
    "start_time": "2022-11-08T11:08:17.674Z"
   },
   {
    "duration": 488,
    "start_time": "2022-11-08T11:08:17.694Z"
   },
   {
    "duration": 18,
    "start_time": "2022-11-08T11:15:33.388Z"
   },
   {
    "duration": 1132,
    "start_time": "2022-11-08T11:15:37.816Z"
   },
   {
    "duration": 55,
    "start_time": "2022-11-08T11:15:38.951Z"
   },
   {
    "duration": 11,
    "start_time": "2022-11-08T11:15:39.008Z"
   },
   {
    "duration": 17932,
    "start_time": "2022-11-08T11:15:39.022Z"
   },
   {
    "duration": 21,
    "start_time": "2022-11-08T11:15:56.957Z"
   },
   {
    "duration": 478,
    "start_time": "2022-11-08T11:15:56.980Z"
   },
   {
    "duration": 1154,
    "start_time": "2022-11-08T11:23:39.216Z"
   },
   {
    "duration": 57,
    "start_time": "2022-11-08T11:23:40.372Z"
   },
   {
    "duration": 9,
    "start_time": "2022-11-08T11:23:40.431Z"
   },
   {
    "duration": 17670,
    "start_time": "2022-11-08T11:23:40.442Z"
   },
   {
    "duration": 21,
    "start_time": "2022-11-08T11:23:58.114Z"
   },
   {
    "duration": 479,
    "start_time": "2022-11-08T11:23:58.137Z"
   },
   {
    "duration": 1470,
    "start_time": "2022-11-08T11:34:20.644Z"
   },
   {
    "duration": 47,
    "start_time": "2022-11-08T11:34:22.116Z"
   },
   {
    "duration": 8,
    "start_time": "2022-11-08T11:34:22.166Z"
   },
   {
    "duration": 15374,
    "start_time": "2022-11-08T11:34:22.175Z"
   },
   {
    "duration": 17,
    "start_time": "2022-11-08T11:34:37.551Z"
   },
   {
    "duration": 427,
    "start_time": "2022-11-08T11:34:37.569Z"
   },
   {
    "duration": 47,
    "start_time": "2022-11-09T18:10:58.522Z"
   },
   {
    "duration": 1067,
    "start_time": "2022-11-09T18:11:04.717Z"
   },
   {
    "duration": 88,
    "start_time": "2022-11-09T18:11:05.786Z"
   },
   {
    "duration": 10,
    "start_time": "2022-11-09T18:11:05.875Z"
   },
   {
    "duration": 16352,
    "start_time": "2022-11-09T18:11:05.887Z"
   },
   {
    "duration": 26,
    "start_time": "2022-11-09T18:11:22.241Z"
   },
   {
    "duration": 510,
    "start_time": "2022-11-09T18:11:22.268Z"
   },
   {
    "duration": 44,
    "start_time": "2022-11-09T18:11:22.780Z"
   },
   {
    "duration": 138,
    "start_time": "2022-11-09T18:13:36.371Z"
   },
   {
    "duration": 36,
    "start_time": "2022-11-09T18:14:08.875Z"
   },
   {
    "duration": 9,
    "start_time": "2022-11-09T18:15:11.464Z"
   },
   {
    "duration": 11338,
    "start_time": "2022-11-09T18:15:27.428Z"
   },
   {
    "duration": 11,
    "start_time": "2022-11-09T18:16:58.655Z"
   },
   {
    "duration": 2437,
    "start_time": "2022-11-10T11:43:22.922Z"
   },
   {
    "duration": 90,
    "start_time": "2022-11-10T11:43:25.362Z"
   },
   {
    "duration": 68,
    "start_time": "2022-11-10T11:43:25.454Z"
   },
   {
    "duration": 26727,
    "start_time": "2022-11-10T11:43:25.525Z"
   },
   {
    "duration": 69,
    "start_time": "2022-11-10T11:43:52.254Z"
   },
   {
    "duration": 637,
    "start_time": "2022-11-10T11:43:52.324Z"
   }
  ],
  "kernelspec": {
   "display_name": "Python 3 (ipykernel)",
   "language": "python",
   "name": "python3"
  },
  "language_info": {
   "codemirror_mode": {
    "name": "ipython",
    "version": 3
   },
   "file_extension": ".py",
   "mimetype": "text/x-python",
   "name": "python",
   "nbconvert_exporter": "python",
   "pygments_lexer": "ipython3",
   "version": "3.9.5"
  },
  "toc": {
   "base_numbering": 1,
   "nav_menu": {},
   "number_sections": true,
   "sideBar": true,
   "skip_h1_title": true,
   "title_cell": "Table of Contents",
   "title_sidebar": "Contents",
   "toc_cell": false,
   "toc_position": {
    "height": "calc(100% - 180px)",
    "left": "10px",
    "top": "150px",
    "width": "165px"
   },
   "toc_section_display": true,
   "toc_window_display": true
  }
 },
 "nbformat": 4,
 "nbformat_minor": 2
}
