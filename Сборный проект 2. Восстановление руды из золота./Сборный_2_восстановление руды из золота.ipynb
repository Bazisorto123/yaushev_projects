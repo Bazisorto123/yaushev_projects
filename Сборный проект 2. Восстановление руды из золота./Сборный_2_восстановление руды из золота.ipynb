{
 "cells": [
  {
   "cell_type": "markdown",
   "metadata": {
    "toc": true
   },
   "source": [
    "<h1>Содержание<span class=\"tocSkip\"></span></h1>\n",
    "<div class=\"toc\"><ul class=\"toc-item\"><li><span><a href=\"#Подготовка-данных\" data-toc-modified-id=\"Подготовка-данных-1\"><span class=\"toc-item-num\">1&nbsp;&nbsp;</span>Подготовка данных</a></span><ul class=\"toc-item\"><li><span><a href=\"#Подгружаем-библиотеки,-которые-будем-использовать-далее.\" data-toc-modified-id=\"Подгружаем-библиотеки,-которые-будем-использовать-далее.-1.1\"><span class=\"toc-item-num\">1.1&nbsp;&nbsp;</span>Подгружаем библиотеки, которые будем использовать далее.</a></span></li><li><span><a href=\"#Открываем-файлы-и-изучаем-их.\" data-toc-modified-id=\"Открываем-файлы-и-изучаем-их.-1.2\"><span class=\"toc-item-num\">1.2&nbsp;&nbsp;</span>Открываем файлы и изучаем их.</a></span></li><li><span><a href=\"#Проверим,-что-эффективность-обогащения-рассчитана-правильно.-Вычислим-её-на-обучающей-выборке-для-признака-rougher.output.recovery.-Найдем-MAE-между-нашими-расчётами-и-значением-признака.-Опишем-выводы.\" data-toc-modified-id=\"Проверим,-что-эффективность-обогащения-рассчитана-правильно.-Вычислим-её-на-обучающей-выборке-для-признака-rougher.output.recovery.-Найдем-MAE-между-нашими-расчётами-и-значением-признака.-Опишем-выводы.-1.3\"><span class=\"toc-item-num\">1.3&nbsp;&nbsp;</span>Проверим, что эффективность обогащения рассчитана правильно. Вычислим её на обучающей выборке для признака rougher.output.recovery. Найдем MAE между нашими расчётами и значением признака. Опишем выводы.</a></span></li><li><span><a href=\"#Проведем-предобработку-данных.-Проанализируем-признаки,-недоступные-в-тестовой-выборке.-Что-это-за-параметры?-К-какому-типу-относятся?-Формулировка-взята-из-условия.\" data-toc-modified-id=\"Проведем-предобработку-данных.-Проанализируем-признаки,-недоступные-в-тестовой-выборке.-Что-это-за-параметры?-К-какому-типу-относятся?-Формулировка-взята-из-условия.-1.4\"><span class=\"toc-item-num\">1.4&nbsp;&nbsp;</span><font color=\"green\">Проведем предобработку данных. Проанализируем признаки, недоступные в тестовой выборке. Что это за параметры? К какому типу относятся? Формулировка взята из условия.</font></a></span></li></ul></li><li><span><a href=\"#Анализ-данных\" data-toc-modified-id=\"Анализ-данных-2\"><span class=\"toc-item-num\">2&nbsp;&nbsp;</span>Анализ данных</a></span></li><li><span><a href=\"#Модель\" data-toc-modified-id=\"Модель-3\"><span class=\"toc-item-num\">3&nbsp;&nbsp;</span>Модель</a></span><ul class=\"toc-item\"><li><span><a href=\"#Напишем-функцию-для-вычисления-sMAPE\" data-toc-modified-id=\"Напишем-функцию-для-вычисления-sMAPE-3.1\"><span class=\"toc-item-num\">3.1&nbsp;&nbsp;</span>Напишем функцию для вычисления sMAPE</a></span></li><li><span><a href=\"#Далее-обучим-модели-3-видов-и-оценим-их-качество-с-помощью-кросс-валидации,-где-в-качестве-метрики-качества-будет-final_smape\" data-toc-modified-id=\"Далее-обучим-модели-3-видов-и-оценим-их-качество-с-помощью-кросс-валидации,-где-в-качестве-метрики-качества-будет-final_smape-3.2\"><span class=\"toc-item-num\">3.2&nbsp;&nbsp;</span>Далее обучим модели 3 видов и оценим их качество с помощью кросс-валидации, где в качестве метрики качества будет final_smape</a></span></li><li><span><a href=\"#Вывод\" data-toc-modified-id=\"Вывод-3.3\"><span class=\"toc-item-num\">3.3&nbsp;&nbsp;</span>Вывод</a></span></li></ul></li><li><span><a href=\"#Чек-лист-готовности-проекта\" data-toc-modified-id=\"Чек-лист-готовности-проекта-4\"><span class=\"toc-item-num\">4&nbsp;&nbsp;</span>Чек-лист готовности проекта</a></span></li></ul></div>"
   ]
  },
  {
   "cell_type": "markdown",
   "metadata": {},
   "source": [
    "# Восстановление золота из руды"
   ]
  },
  {
   "cell_type": "markdown",
   "metadata": {},
   "source": [
    "Подготовьте прототип модели машинного обучения для «Цифры». Компания разрабатывает решения для эффективной работы промышленных предприятий.\n",
    "\n",
    "Модель должна предсказать коэффициент восстановления золота из золотосодержащей руды. Используйте данные с параметрами добычи и очистки. \n",
    "\n",
    "Модель поможет оптимизировать производство, чтобы не запускать предприятие с убыточными характеристиками.\n",
    "\n",
    "Вам нужно:\n",
    "\n",
    "1. Подготовить данные;\n",
    "2. Провести исследовательский анализ данных;\n",
    "3. Построить и обучить модель.\n",
    "\n",
    "Чтобы выполнить проект, обращайтесь к библиотекам *pandas*, *matplotlib* и *sklearn.* Вам поможет их документация."
   ]
  },
  {
   "cell_type": "markdown",
   "metadata": {},
   "source": [
    "## Подготовка данных"
   ]
  },
  {
   "cell_type": "markdown",
   "metadata": {},
   "source": [
    "### Подгружаем библиотеки, которые будем использовать далее."
   ]
  },
  {
   "cell_type": "code",
   "execution_count": 1,
   "metadata": {},
   "outputs": [],
   "source": [
    "import pandas as pd\n",
    "import numpy as np\n",
    "import seaborn as sns\n",
    "import matplotlib.pyplot as plt\n",
    "\n",
    "from sklearn.model_selection import train_test_split, cross_val_score, RandomizedSearchCV, GridSearchCV\n",
    "from sklearn.tree import DecisionTreeRegressor\n",
    "from sklearn.ensemble import RandomForestRegressor\n",
    "from sklearn.linear_model import LinearRegression, LassoCV\n",
    "from numpy.random import RandomState\n",
    "from sklearn.metrics import make_scorer, mean_absolute_error\n",
    "from sklearn.dummy import DummyRegressor\n",
    "from sklearn.preprocessing import StandardScaler\n"
   ]
  },
  {
   "cell_type": "markdown",
   "metadata": {},
   "source": [
    "### Открываем файлы и изучаем их."
   ]
  },
  {
   "cell_type": "code",
   "execution_count": 2,
   "metadata": {},
   "outputs": [],
   "source": [
    "data_train = pd.read_csv('/datasets/gold_recovery_train_new.csv')\n",
    "data_test = pd.read_csv('/datasets/gold_recovery_test_new.csv')\n",
    "data_full = pd.read_csv('/datasets/gold_recovery_full_new.csv')\n"
   ]
  },
  {
   "cell_type": "code",
   "execution_count": 3,
   "metadata": {},
   "outputs": [
    {
     "data": {
      "text/html": [
       "<div>\n",
       "<style scoped>\n",
       "    .dataframe tbody tr th:only-of-type {\n",
       "        vertical-align: middle;\n",
       "    }\n",
       "\n",
       "    .dataframe tbody tr th {\n",
       "        vertical-align: top;\n",
       "    }\n",
       "\n",
       "    .dataframe thead th {\n",
       "        text-align: right;\n",
       "    }\n",
       "</style>\n",
       "<table border=\"1\" class=\"dataframe\">\n",
       "  <thead>\n",
       "    <tr style=\"text-align: right;\">\n",
       "      <th></th>\n",
       "      <th>date</th>\n",
       "      <th>final.output.concentrate_ag</th>\n",
       "      <th>final.output.concentrate_pb</th>\n",
       "      <th>final.output.concentrate_sol</th>\n",
       "      <th>final.output.concentrate_au</th>\n",
       "      <th>final.output.recovery</th>\n",
       "      <th>final.output.tail_ag</th>\n",
       "      <th>final.output.tail_pb</th>\n",
       "      <th>final.output.tail_sol</th>\n",
       "      <th>final.output.tail_au</th>\n",
       "      <th>...</th>\n",
       "      <th>secondary_cleaner.state.floatbank4_a_air</th>\n",
       "      <th>secondary_cleaner.state.floatbank4_a_level</th>\n",
       "      <th>secondary_cleaner.state.floatbank4_b_air</th>\n",
       "      <th>secondary_cleaner.state.floatbank4_b_level</th>\n",
       "      <th>secondary_cleaner.state.floatbank5_a_air</th>\n",
       "      <th>secondary_cleaner.state.floatbank5_a_level</th>\n",
       "      <th>secondary_cleaner.state.floatbank5_b_air</th>\n",
       "      <th>secondary_cleaner.state.floatbank5_b_level</th>\n",
       "      <th>secondary_cleaner.state.floatbank6_a_air</th>\n",
       "      <th>secondary_cleaner.state.floatbank6_a_level</th>\n",
       "    </tr>\n",
       "  </thead>\n",
       "  <tbody>\n",
       "    <tr>\n",
       "      <th>0</th>\n",
       "      <td>2016-01-15 00:00:00</td>\n",
       "      <td>6.055403</td>\n",
       "      <td>9.889648</td>\n",
       "      <td>5.507324</td>\n",
       "      <td>42.192020</td>\n",
       "      <td>70.541216</td>\n",
       "      <td>10.411962</td>\n",
       "      <td>0.895447</td>\n",
       "      <td>16.904297</td>\n",
       "      <td>2.143149</td>\n",
       "      <td>...</td>\n",
       "      <td>14.016835</td>\n",
       "      <td>-502.488007</td>\n",
       "      <td>12.099931</td>\n",
       "      <td>-504.715942</td>\n",
       "      <td>9.925633</td>\n",
       "      <td>-498.310211</td>\n",
       "      <td>8.079666</td>\n",
       "      <td>-500.470978</td>\n",
       "      <td>14.151341</td>\n",
       "      <td>-605.841980</td>\n",
       "    </tr>\n",
       "    <tr>\n",
       "      <th>1</th>\n",
       "      <td>2016-01-15 01:00:00</td>\n",
       "      <td>6.029369</td>\n",
       "      <td>9.968944</td>\n",
       "      <td>5.257781</td>\n",
       "      <td>42.701629</td>\n",
       "      <td>69.266198</td>\n",
       "      <td>10.462676</td>\n",
       "      <td>0.927452</td>\n",
       "      <td>16.634514</td>\n",
       "      <td>2.224930</td>\n",
       "      <td>...</td>\n",
       "      <td>13.992281</td>\n",
       "      <td>-505.503262</td>\n",
       "      <td>11.950531</td>\n",
       "      <td>-501.331529</td>\n",
       "      <td>10.039245</td>\n",
       "      <td>-500.169983</td>\n",
       "      <td>7.984757</td>\n",
       "      <td>-500.582168</td>\n",
       "      <td>13.998353</td>\n",
       "      <td>-599.787184</td>\n",
       "    </tr>\n",
       "    <tr>\n",
       "      <th>2</th>\n",
       "      <td>2016-01-15 02:00:00</td>\n",
       "      <td>6.055926</td>\n",
       "      <td>10.213995</td>\n",
       "      <td>5.383759</td>\n",
       "      <td>42.657501</td>\n",
       "      <td>68.116445</td>\n",
       "      <td>10.507046</td>\n",
       "      <td>0.953716</td>\n",
       "      <td>16.208849</td>\n",
       "      <td>2.257889</td>\n",
       "      <td>...</td>\n",
       "      <td>14.015015</td>\n",
       "      <td>-502.520901</td>\n",
       "      <td>11.912783</td>\n",
       "      <td>-501.133383</td>\n",
       "      <td>10.070913</td>\n",
       "      <td>-500.129135</td>\n",
       "      <td>8.013877</td>\n",
       "      <td>-500.517572</td>\n",
       "      <td>14.028663</td>\n",
       "      <td>-601.427363</td>\n",
       "    </tr>\n",
       "    <tr>\n",
       "      <th>3</th>\n",
       "      <td>2016-01-15 03:00:00</td>\n",
       "      <td>6.047977</td>\n",
       "      <td>9.977019</td>\n",
       "      <td>4.858634</td>\n",
       "      <td>42.689819</td>\n",
       "      <td>68.347543</td>\n",
       "      <td>10.422762</td>\n",
       "      <td>0.883763</td>\n",
       "      <td>16.532835</td>\n",
       "      <td>2.146849</td>\n",
       "      <td>...</td>\n",
       "      <td>14.036510</td>\n",
       "      <td>-500.857308</td>\n",
       "      <td>11.999550</td>\n",
       "      <td>-501.193686</td>\n",
       "      <td>9.970366</td>\n",
       "      <td>-499.201640</td>\n",
       "      <td>7.977324</td>\n",
       "      <td>-500.255908</td>\n",
       "      <td>14.005551</td>\n",
       "      <td>-599.996129</td>\n",
       "    </tr>\n",
       "    <tr>\n",
       "      <th>4</th>\n",
       "      <td>2016-01-15 04:00:00</td>\n",
       "      <td>6.148599</td>\n",
       "      <td>10.142511</td>\n",
       "      <td>4.939416</td>\n",
       "      <td>42.774141</td>\n",
       "      <td>66.927016</td>\n",
       "      <td>10.360302</td>\n",
       "      <td>0.792826</td>\n",
       "      <td>16.525686</td>\n",
       "      <td>2.055292</td>\n",
       "      <td>...</td>\n",
       "      <td>14.027298</td>\n",
       "      <td>-499.838632</td>\n",
       "      <td>11.953070</td>\n",
       "      <td>-501.053894</td>\n",
       "      <td>9.925709</td>\n",
       "      <td>-501.686727</td>\n",
       "      <td>7.894242</td>\n",
       "      <td>-500.356035</td>\n",
       "      <td>13.996647</td>\n",
       "      <td>-601.496691</td>\n",
       "    </tr>\n",
       "  </tbody>\n",
       "</table>\n",
       "<p>5 rows × 87 columns</p>\n",
       "</div>"
      ],
      "text/plain": [
       "                  date  final.output.concentrate_ag  \\\n",
       "0  2016-01-15 00:00:00                     6.055403   \n",
       "1  2016-01-15 01:00:00                     6.029369   \n",
       "2  2016-01-15 02:00:00                     6.055926   \n",
       "3  2016-01-15 03:00:00                     6.047977   \n",
       "4  2016-01-15 04:00:00                     6.148599   \n",
       "\n",
       "   final.output.concentrate_pb  final.output.concentrate_sol  \\\n",
       "0                     9.889648                      5.507324   \n",
       "1                     9.968944                      5.257781   \n",
       "2                    10.213995                      5.383759   \n",
       "3                     9.977019                      4.858634   \n",
       "4                    10.142511                      4.939416   \n",
       "\n",
       "   final.output.concentrate_au  final.output.recovery  final.output.tail_ag  \\\n",
       "0                    42.192020              70.541216             10.411962   \n",
       "1                    42.701629              69.266198             10.462676   \n",
       "2                    42.657501              68.116445             10.507046   \n",
       "3                    42.689819              68.347543             10.422762   \n",
       "4                    42.774141              66.927016             10.360302   \n",
       "\n",
       "   final.output.tail_pb  final.output.tail_sol  final.output.tail_au  ...  \\\n",
       "0              0.895447              16.904297              2.143149  ...   \n",
       "1              0.927452              16.634514              2.224930  ...   \n",
       "2              0.953716              16.208849              2.257889  ...   \n",
       "3              0.883763              16.532835              2.146849  ...   \n",
       "4              0.792826              16.525686              2.055292  ...   \n",
       "\n",
       "   secondary_cleaner.state.floatbank4_a_air  \\\n",
       "0                                 14.016835   \n",
       "1                                 13.992281   \n",
       "2                                 14.015015   \n",
       "3                                 14.036510   \n",
       "4                                 14.027298   \n",
       "\n",
       "   secondary_cleaner.state.floatbank4_a_level  \\\n",
       "0                                 -502.488007   \n",
       "1                                 -505.503262   \n",
       "2                                 -502.520901   \n",
       "3                                 -500.857308   \n",
       "4                                 -499.838632   \n",
       "\n",
       "   secondary_cleaner.state.floatbank4_b_air  \\\n",
       "0                                 12.099931   \n",
       "1                                 11.950531   \n",
       "2                                 11.912783   \n",
       "3                                 11.999550   \n",
       "4                                 11.953070   \n",
       "\n",
       "   secondary_cleaner.state.floatbank4_b_level  \\\n",
       "0                                 -504.715942   \n",
       "1                                 -501.331529   \n",
       "2                                 -501.133383   \n",
       "3                                 -501.193686   \n",
       "4                                 -501.053894   \n",
       "\n",
       "   secondary_cleaner.state.floatbank5_a_air  \\\n",
       "0                                  9.925633   \n",
       "1                                 10.039245   \n",
       "2                                 10.070913   \n",
       "3                                  9.970366   \n",
       "4                                  9.925709   \n",
       "\n",
       "   secondary_cleaner.state.floatbank5_a_level  \\\n",
       "0                                 -498.310211   \n",
       "1                                 -500.169983   \n",
       "2                                 -500.129135   \n",
       "3                                 -499.201640   \n",
       "4                                 -501.686727   \n",
       "\n",
       "   secondary_cleaner.state.floatbank5_b_air  \\\n",
       "0                                  8.079666   \n",
       "1                                  7.984757   \n",
       "2                                  8.013877   \n",
       "3                                  7.977324   \n",
       "4                                  7.894242   \n",
       "\n",
       "   secondary_cleaner.state.floatbank5_b_level  \\\n",
       "0                                 -500.470978   \n",
       "1                                 -500.582168   \n",
       "2                                 -500.517572   \n",
       "3                                 -500.255908   \n",
       "4                                 -500.356035   \n",
       "\n",
       "   secondary_cleaner.state.floatbank6_a_air  \\\n",
       "0                                 14.151341   \n",
       "1                                 13.998353   \n",
       "2                                 14.028663   \n",
       "3                                 14.005551   \n",
       "4                                 13.996647   \n",
       "\n",
       "   secondary_cleaner.state.floatbank6_a_level  \n",
       "0                                 -605.841980  \n",
       "1                                 -599.787184  \n",
       "2                                 -601.427363  \n",
       "3                                 -599.996129  \n",
       "4                                 -601.496691  \n",
       "\n",
       "[5 rows x 87 columns]"
      ]
     },
     "metadata": {},
     "output_type": "display_data"
    }
   ],
   "source": [
    "display(data_train.head())"
   ]
  },
  {
   "cell_type": "code",
   "execution_count": 4,
   "metadata": {
    "collapsed": true
   },
   "outputs": [
    {
     "name": "stdout",
     "output_type": "stream",
     "text": [
      "<class 'pandas.core.frame.DataFrame'>\n",
      "RangeIndex: 14149 entries, 0 to 14148\n",
      "Data columns (total 87 columns):\n",
      " #   Column                                              Non-Null Count  Dtype  \n",
      "---  ------                                              --------------  -----  \n",
      " 0   date                                                14149 non-null  object \n",
      " 1   final.output.concentrate_ag                         14148 non-null  float64\n",
      " 2   final.output.concentrate_pb                         14148 non-null  float64\n",
      " 3   final.output.concentrate_sol                        13938 non-null  float64\n",
      " 4   final.output.concentrate_au                         14149 non-null  float64\n",
      " 5   final.output.recovery                               14149 non-null  float64\n",
      " 6   final.output.tail_ag                                14149 non-null  float64\n",
      " 7   final.output.tail_pb                                14049 non-null  float64\n",
      " 8   final.output.tail_sol                               14144 non-null  float64\n",
      " 9   final.output.tail_au                                14149 non-null  float64\n",
      " 10  primary_cleaner.input.sulfate                       14129 non-null  float64\n",
      " 11  primary_cleaner.input.depressant                    14117 non-null  float64\n",
      " 12  primary_cleaner.input.feed_size                     14149 non-null  float64\n",
      " 13  primary_cleaner.input.xanthate                      14049 non-null  float64\n",
      " 14  primary_cleaner.output.concentrate_ag               14149 non-null  float64\n",
      " 15  primary_cleaner.output.concentrate_pb               14063 non-null  float64\n",
      " 16  primary_cleaner.output.concentrate_sol              13863 non-null  float64\n",
      " 17  primary_cleaner.output.concentrate_au               14149 non-null  float64\n",
      " 18  primary_cleaner.output.tail_ag                      14148 non-null  float64\n",
      " 19  primary_cleaner.output.tail_pb                      14134 non-null  float64\n",
      " 20  primary_cleaner.output.tail_sol                     14103 non-null  float64\n",
      " 21  primary_cleaner.output.tail_au                      14149 non-null  float64\n",
      " 22  primary_cleaner.state.floatbank8_a_air              14145 non-null  float64\n",
      " 23  primary_cleaner.state.floatbank8_a_level            14148 non-null  float64\n",
      " 24  primary_cleaner.state.floatbank8_b_air              14145 non-null  float64\n",
      " 25  primary_cleaner.state.floatbank8_b_level            14148 non-null  float64\n",
      " 26  primary_cleaner.state.floatbank8_c_air              14147 non-null  float64\n",
      " 27  primary_cleaner.state.floatbank8_c_level            14148 non-null  float64\n",
      " 28  primary_cleaner.state.floatbank8_d_air              14146 non-null  float64\n",
      " 29  primary_cleaner.state.floatbank8_d_level            14148 non-null  float64\n",
      " 30  rougher.calculation.sulfate_to_au_concentrate       14148 non-null  float64\n",
      " 31  rougher.calculation.floatbank10_sulfate_to_au_feed  14148 non-null  float64\n",
      " 32  rougher.calculation.floatbank11_sulfate_to_au_feed  14148 non-null  float64\n",
      " 33  rougher.calculation.au_pb_ratio                     14149 non-null  float64\n",
      " 34  rougher.input.feed_ag                               14149 non-null  float64\n",
      " 35  rougher.input.feed_pb                               14049 non-null  float64\n",
      " 36  rougher.input.feed_rate                             14141 non-null  float64\n",
      " 37  rougher.input.feed_size                             14005 non-null  float64\n",
      " 38  rougher.input.feed_sol                              14071 non-null  float64\n",
      " 39  rougher.input.feed_au                               14149 non-null  float64\n",
      " 40  rougher.input.floatbank10_sulfate                   14120 non-null  float64\n",
      " 41  rougher.input.floatbank10_xanthate                  14141 non-null  float64\n",
      " 42  rougher.input.floatbank11_sulfate                   14113 non-null  float64\n",
      " 43  rougher.input.floatbank11_xanthate                  13721 non-null  float64\n",
      " 44  rougher.output.concentrate_ag                       14149 non-null  float64\n",
      " 45  rougher.output.concentrate_pb                       14149 non-null  float64\n",
      " 46  rougher.output.concentrate_sol                      14127 non-null  float64\n",
      " 47  rougher.output.concentrate_au                       14149 non-null  float64\n",
      " 48  rougher.output.recovery                             14149 non-null  float64\n",
      " 49  rougher.output.tail_ag                              14148 non-null  float64\n",
      " 50  rougher.output.tail_pb                              14149 non-null  float64\n",
      " 51  rougher.output.tail_sol                             14149 non-null  float64\n",
      " 52  rougher.output.tail_au                              14149 non-null  float64\n",
      " 53  rougher.state.floatbank10_a_air                     14148 non-null  float64\n",
      " 54  rougher.state.floatbank10_a_level                   14148 non-null  float64\n",
      " 55  rougher.state.floatbank10_b_air                     14148 non-null  float64\n",
      " 56  rougher.state.floatbank10_b_level                   14148 non-null  float64\n",
      " 57  rougher.state.floatbank10_c_air                     14148 non-null  float64\n",
      " 58  rougher.state.floatbank10_c_level                   14148 non-null  float64\n",
      " 59  rougher.state.floatbank10_d_air                     14149 non-null  float64\n",
      " 60  rougher.state.floatbank10_d_level                   14149 non-null  float64\n",
      " 61  rougher.state.floatbank10_e_air                     13713 non-null  float64\n",
      " 62  rougher.state.floatbank10_e_level                   14149 non-null  float64\n",
      " 63  rougher.state.floatbank10_f_air                     14149 non-null  float64\n",
      " 64  rougher.state.floatbank10_f_level                   14149 non-null  float64\n",
      " 65  secondary_cleaner.output.tail_ag                    14147 non-null  float64\n",
      " 66  secondary_cleaner.output.tail_pb                    14139 non-null  float64\n",
      " 67  secondary_cleaner.output.tail_sol                   12544 non-null  float64\n",
      " 68  secondary_cleaner.output.tail_au                    14149 non-null  float64\n",
      " 69  secondary_cleaner.state.floatbank2_a_air            13932 non-null  float64\n",
      " 70  secondary_cleaner.state.floatbank2_a_level          14148 non-null  float64\n",
      " 71  secondary_cleaner.state.floatbank2_b_air            14128 non-null  float64\n",
      " 72  secondary_cleaner.state.floatbank2_b_level          14148 non-null  float64\n",
      " 73  secondary_cleaner.state.floatbank3_a_air            14145 non-null  float64\n",
      " 74  secondary_cleaner.state.floatbank3_a_level          14148 non-null  float64\n",
      " 75  secondary_cleaner.state.floatbank3_b_air            14148 non-null  float64\n",
      " 76  secondary_cleaner.state.floatbank3_b_level          14148 non-null  float64\n",
      " 77  secondary_cleaner.state.floatbank4_a_air            14143 non-null  float64\n",
      " 78  secondary_cleaner.state.floatbank4_a_level          14148 non-null  float64\n",
      " 79  secondary_cleaner.state.floatbank4_b_air            14148 non-null  float64\n",
      " 80  secondary_cleaner.state.floatbank4_b_level          14148 non-null  float64\n",
      " 81  secondary_cleaner.state.floatbank5_a_air            14148 non-null  float64\n",
      " 82  secondary_cleaner.state.floatbank5_a_level          14148 non-null  float64\n",
      " 83  secondary_cleaner.state.floatbank5_b_air            14148 non-null  float64\n",
      " 84  secondary_cleaner.state.floatbank5_b_level          14148 non-null  float64\n",
      " 85  secondary_cleaner.state.floatbank6_a_air            14147 non-null  float64\n",
      " 86  secondary_cleaner.state.floatbank6_a_level          14148 non-null  float64\n",
      "dtypes: float64(86), object(1)\n",
      "memory usage: 9.4+ MB\n",
      "None\n"
     ]
    }
   ],
   "source": [
    "print(data_train.info())"
   ]
  },
  {
   "cell_type": "code",
   "execution_count": 5,
   "metadata": {},
   "outputs": [
    {
     "data": {
      "text/plain": [
       "(14149, 87)"
      ]
     },
     "execution_count": 5,
     "metadata": {},
     "output_type": "execute_result"
    }
   ],
   "source": [
    "data_train.shape"
   ]
  },
  {
   "cell_type": "code",
   "execution_count": 6,
   "metadata": {},
   "outputs": [
    {
     "data": {
      "text/html": [
       "<div>\n",
       "<style scoped>\n",
       "    .dataframe tbody tr th:only-of-type {\n",
       "        vertical-align: middle;\n",
       "    }\n",
       "\n",
       "    .dataframe tbody tr th {\n",
       "        vertical-align: top;\n",
       "    }\n",
       "\n",
       "    .dataframe thead th {\n",
       "        text-align: right;\n",
       "    }\n",
       "</style>\n",
       "<table border=\"1\" class=\"dataframe\">\n",
       "  <thead>\n",
       "    <tr style=\"text-align: right;\">\n",
       "      <th></th>\n",
       "      <th>date</th>\n",
       "      <th>primary_cleaner.input.sulfate</th>\n",
       "      <th>primary_cleaner.input.depressant</th>\n",
       "      <th>primary_cleaner.input.feed_size</th>\n",
       "      <th>primary_cleaner.input.xanthate</th>\n",
       "      <th>primary_cleaner.state.floatbank8_a_air</th>\n",
       "      <th>primary_cleaner.state.floatbank8_a_level</th>\n",
       "      <th>primary_cleaner.state.floatbank8_b_air</th>\n",
       "      <th>primary_cleaner.state.floatbank8_b_level</th>\n",
       "      <th>primary_cleaner.state.floatbank8_c_air</th>\n",
       "      <th>...</th>\n",
       "      <th>secondary_cleaner.state.floatbank4_a_air</th>\n",
       "      <th>secondary_cleaner.state.floatbank4_a_level</th>\n",
       "      <th>secondary_cleaner.state.floatbank4_b_air</th>\n",
       "      <th>secondary_cleaner.state.floatbank4_b_level</th>\n",
       "      <th>secondary_cleaner.state.floatbank5_a_air</th>\n",
       "      <th>secondary_cleaner.state.floatbank5_a_level</th>\n",
       "      <th>secondary_cleaner.state.floatbank5_b_air</th>\n",
       "      <th>secondary_cleaner.state.floatbank5_b_level</th>\n",
       "      <th>secondary_cleaner.state.floatbank6_a_air</th>\n",
       "      <th>secondary_cleaner.state.floatbank6_a_level</th>\n",
       "    </tr>\n",
       "  </thead>\n",
       "  <tbody>\n",
       "    <tr>\n",
       "      <th>0</th>\n",
       "      <td>2016-09-01 00:59:59</td>\n",
       "      <td>210.800909</td>\n",
       "      <td>14.993118</td>\n",
       "      <td>8.080000</td>\n",
       "      <td>1.005021</td>\n",
       "      <td>1398.981301</td>\n",
       "      <td>-500.225577</td>\n",
       "      <td>1399.144926</td>\n",
       "      <td>-499.919735</td>\n",
       "      <td>1400.102998</td>\n",
       "      <td>...</td>\n",
       "      <td>12.023554</td>\n",
       "      <td>-497.795834</td>\n",
       "      <td>8.016656</td>\n",
       "      <td>-501.289139</td>\n",
       "      <td>7.946562</td>\n",
       "      <td>-432.317850</td>\n",
       "      <td>4.872511</td>\n",
       "      <td>-500.037437</td>\n",
       "      <td>26.705889</td>\n",
       "      <td>-499.709414</td>\n",
       "    </tr>\n",
       "    <tr>\n",
       "      <th>1</th>\n",
       "      <td>2016-09-01 01:59:59</td>\n",
       "      <td>215.392455</td>\n",
       "      <td>14.987471</td>\n",
       "      <td>8.080000</td>\n",
       "      <td>0.990469</td>\n",
       "      <td>1398.777912</td>\n",
       "      <td>-500.057435</td>\n",
       "      <td>1398.055362</td>\n",
       "      <td>-499.778182</td>\n",
       "      <td>1396.151033</td>\n",
       "      <td>...</td>\n",
       "      <td>12.058140</td>\n",
       "      <td>-498.695773</td>\n",
       "      <td>8.130979</td>\n",
       "      <td>-499.634209</td>\n",
       "      <td>7.958270</td>\n",
       "      <td>-525.839648</td>\n",
       "      <td>4.878850</td>\n",
       "      <td>-500.162375</td>\n",
       "      <td>25.019940</td>\n",
       "      <td>-499.819438</td>\n",
       "    </tr>\n",
       "    <tr>\n",
       "      <th>2</th>\n",
       "      <td>2016-09-01 02:59:59</td>\n",
       "      <td>215.259946</td>\n",
       "      <td>12.884934</td>\n",
       "      <td>7.786667</td>\n",
       "      <td>0.996043</td>\n",
       "      <td>1398.493666</td>\n",
       "      <td>-500.868360</td>\n",
       "      <td>1398.860436</td>\n",
       "      <td>-499.764529</td>\n",
       "      <td>1398.075709</td>\n",
       "      <td>...</td>\n",
       "      <td>11.962366</td>\n",
       "      <td>-498.767484</td>\n",
       "      <td>8.096893</td>\n",
       "      <td>-500.827423</td>\n",
       "      <td>8.071056</td>\n",
       "      <td>-500.801673</td>\n",
       "      <td>4.905125</td>\n",
       "      <td>-499.828510</td>\n",
       "      <td>24.994862</td>\n",
       "      <td>-500.622559</td>\n",
       "    </tr>\n",
       "    <tr>\n",
       "      <th>3</th>\n",
       "      <td>2016-09-01 03:59:59</td>\n",
       "      <td>215.336236</td>\n",
       "      <td>12.006805</td>\n",
       "      <td>7.640000</td>\n",
       "      <td>0.863514</td>\n",
       "      <td>1399.618111</td>\n",
       "      <td>-498.863574</td>\n",
       "      <td>1397.440120</td>\n",
       "      <td>-499.211024</td>\n",
       "      <td>1400.129303</td>\n",
       "      <td>...</td>\n",
       "      <td>12.033091</td>\n",
       "      <td>-498.350935</td>\n",
       "      <td>8.074946</td>\n",
       "      <td>-499.474407</td>\n",
       "      <td>7.897085</td>\n",
       "      <td>-500.868509</td>\n",
       "      <td>4.931400</td>\n",
       "      <td>-499.963623</td>\n",
       "      <td>24.948919</td>\n",
       "      <td>-498.709987</td>\n",
       "    </tr>\n",
       "    <tr>\n",
       "      <th>4</th>\n",
       "      <td>2016-09-01 04:59:59</td>\n",
       "      <td>199.099327</td>\n",
       "      <td>10.682530</td>\n",
       "      <td>7.530000</td>\n",
       "      <td>0.805575</td>\n",
       "      <td>1401.268123</td>\n",
       "      <td>-500.808305</td>\n",
       "      <td>1398.128818</td>\n",
       "      <td>-499.504543</td>\n",
       "      <td>1402.172226</td>\n",
       "      <td>...</td>\n",
       "      <td>12.025367</td>\n",
       "      <td>-500.786497</td>\n",
       "      <td>8.054678</td>\n",
       "      <td>-500.397500</td>\n",
       "      <td>8.107890</td>\n",
       "      <td>-509.526725</td>\n",
       "      <td>4.957674</td>\n",
       "      <td>-500.360026</td>\n",
       "      <td>25.003331</td>\n",
       "      <td>-500.856333</td>\n",
       "    </tr>\n",
       "  </tbody>\n",
       "</table>\n",
       "<p>5 rows × 53 columns</p>\n",
       "</div>"
      ],
      "text/plain": [
       "                  date  primary_cleaner.input.sulfate  \\\n",
       "0  2016-09-01 00:59:59                     210.800909   \n",
       "1  2016-09-01 01:59:59                     215.392455   \n",
       "2  2016-09-01 02:59:59                     215.259946   \n",
       "3  2016-09-01 03:59:59                     215.336236   \n",
       "4  2016-09-01 04:59:59                     199.099327   \n",
       "\n",
       "   primary_cleaner.input.depressant  primary_cleaner.input.feed_size  \\\n",
       "0                         14.993118                         8.080000   \n",
       "1                         14.987471                         8.080000   \n",
       "2                         12.884934                         7.786667   \n",
       "3                         12.006805                         7.640000   \n",
       "4                         10.682530                         7.530000   \n",
       "\n",
       "   primary_cleaner.input.xanthate  primary_cleaner.state.floatbank8_a_air  \\\n",
       "0                        1.005021                             1398.981301   \n",
       "1                        0.990469                             1398.777912   \n",
       "2                        0.996043                             1398.493666   \n",
       "3                        0.863514                             1399.618111   \n",
       "4                        0.805575                             1401.268123   \n",
       "\n",
       "   primary_cleaner.state.floatbank8_a_level  \\\n",
       "0                               -500.225577   \n",
       "1                               -500.057435   \n",
       "2                               -500.868360   \n",
       "3                               -498.863574   \n",
       "4                               -500.808305   \n",
       "\n",
       "   primary_cleaner.state.floatbank8_b_air  \\\n",
       "0                             1399.144926   \n",
       "1                             1398.055362   \n",
       "2                             1398.860436   \n",
       "3                             1397.440120   \n",
       "4                             1398.128818   \n",
       "\n",
       "   primary_cleaner.state.floatbank8_b_level  \\\n",
       "0                               -499.919735   \n",
       "1                               -499.778182   \n",
       "2                               -499.764529   \n",
       "3                               -499.211024   \n",
       "4                               -499.504543   \n",
       "\n",
       "   primary_cleaner.state.floatbank8_c_air  ...  \\\n",
       "0                             1400.102998  ...   \n",
       "1                             1396.151033  ...   \n",
       "2                             1398.075709  ...   \n",
       "3                             1400.129303  ...   \n",
       "4                             1402.172226  ...   \n",
       "\n",
       "   secondary_cleaner.state.floatbank4_a_air  \\\n",
       "0                                 12.023554   \n",
       "1                                 12.058140   \n",
       "2                                 11.962366   \n",
       "3                                 12.033091   \n",
       "4                                 12.025367   \n",
       "\n",
       "   secondary_cleaner.state.floatbank4_a_level  \\\n",
       "0                                 -497.795834   \n",
       "1                                 -498.695773   \n",
       "2                                 -498.767484   \n",
       "3                                 -498.350935   \n",
       "4                                 -500.786497   \n",
       "\n",
       "   secondary_cleaner.state.floatbank4_b_air  \\\n",
       "0                                  8.016656   \n",
       "1                                  8.130979   \n",
       "2                                  8.096893   \n",
       "3                                  8.074946   \n",
       "4                                  8.054678   \n",
       "\n",
       "   secondary_cleaner.state.floatbank4_b_level  \\\n",
       "0                                 -501.289139   \n",
       "1                                 -499.634209   \n",
       "2                                 -500.827423   \n",
       "3                                 -499.474407   \n",
       "4                                 -500.397500   \n",
       "\n",
       "   secondary_cleaner.state.floatbank5_a_air  \\\n",
       "0                                  7.946562   \n",
       "1                                  7.958270   \n",
       "2                                  8.071056   \n",
       "3                                  7.897085   \n",
       "4                                  8.107890   \n",
       "\n",
       "   secondary_cleaner.state.floatbank5_a_level  \\\n",
       "0                                 -432.317850   \n",
       "1                                 -525.839648   \n",
       "2                                 -500.801673   \n",
       "3                                 -500.868509   \n",
       "4                                 -509.526725   \n",
       "\n",
       "   secondary_cleaner.state.floatbank5_b_air  \\\n",
       "0                                  4.872511   \n",
       "1                                  4.878850   \n",
       "2                                  4.905125   \n",
       "3                                  4.931400   \n",
       "4                                  4.957674   \n",
       "\n",
       "   secondary_cleaner.state.floatbank5_b_level  \\\n",
       "0                                 -500.037437   \n",
       "1                                 -500.162375   \n",
       "2                                 -499.828510   \n",
       "3                                 -499.963623   \n",
       "4                                 -500.360026   \n",
       "\n",
       "   secondary_cleaner.state.floatbank6_a_air  \\\n",
       "0                                 26.705889   \n",
       "1                                 25.019940   \n",
       "2                                 24.994862   \n",
       "3                                 24.948919   \n",
       "4                                 25.003331   \n",
       "\n",
       "   secondary_cleaner.state.floatbank6_a_level  \n",
       "0                                 -499.709414  \n",
       "1                                 -499.819438  \n",
       "2                                 -500.622559  \n",
       "3                                 -498.709987  \n",
       "4                                 -500.856333  \n",
       "\n",
       "[5 rows x 53 columns]"
      ]
     },
     "metadata": {},
     "output_type": "display_data"
    }
   ],
   "source": [
    "display(data_test.head())"
   ]
  },
  {
   "cell_type": "code",
   "execution_count": 7,
   "metadata": {
    "collapsed": true
   },
   "outputs": [
    {
     "name": "stdout",
     "output_type": "stream",
     "text": [
      "<class 'pandas.core.frame.DataFrame'>\n",
      "RangeIndex: 5290 entries, 0 to 5289\n",
      "Data columns (total 53 columns):\n",
      " #   Column                                      Non-Null Count  Dtype  \n",
      "---  ------                                      --------------  -----  \n",
      " 0   date                                        5290 non-null   object \n",
      " 1   primary_cleaner.input.sulfate               5286 non-null   float64\n",
      " 2   primary_cleaner.input.depressant            5285 non-null   float64\n",
      " 3   primary_cleaner.input.feed_size             5290 non-null   float64\n",
      " 4   primary_cleaner.input.xanthate              5286 non-null   float64\n",
      " 5   primary_cleaner.state.floatbank8_a_air      5290 non-null   float64\n",
      " 6   primary_cleaner.state.floatbank8_a_level    5290 non-null   float64\n",
      " 7   primary_cleaner.state.floatbank8_b_air      5290 non-null   float64\n",
      " 8   primary_cleaner.state.floatbank8_b_level    5290 non-null   float64\n",
      " 9   primary_cleaner.state.floatbank8_c_air      5290 non-null   float64\n",
      " 10  primary_cleaner.state.floatbank8_c_level    5290 non-null   float64\n",
      " 11  primary_cleaner.state.floatbank8_d_air      5290 non-null   float64\n",
      " 12  primary_cleaner.state.floatbank8_d_level    5290 non-null   float64\n",
      " 13  rougher.input.feed_ag                       5290 non-null   float64\n",
      " 14  rougher.input.feed_pb                       5290 non-null   float64\n",
      " 15  rougher.input.feed_rate                     5287 non-null   float64\n",
      " 16  rougher.input.feed_size                     5289 non-null   float64\n",
      " 17  rougher.input.feed_sol                      5269 non-null   float64\n",
      " 18  rougher.input.feed_au                       5290 non-null   float64\n",
      " 19  rougher.input.floatbank10_sulfate           5285 non-null   float64\n",
      " 20  rougher.input.floatbank10_xanthate          5290 non-null   float64\n",
      " 21  rougher.input.floatbank11_sulfate           5282 non-null   float64\n",
      " 22  rougher.input.floatbank11_xanthate          5265 non-null   float64\n",
      " 23  rougher.state.floatbank10_a_air             5290 non-null   float64\n",
      " 24  rougher.state.floatbank10_a_level           5290 non-null   float64\n",
      " 25  rougher.state.floatbank10_b_air             5290 non-null   float64\n",
      " 26  rougher.state.floatbank10_b_level           5290 non-null   float64\n",
      " 27  rougher.state.floatbank10_c_air             5290 non-null   float64\n",
      " 28  rougher.state.floatbank10_c_level           5290 non-null   float64\n",
      " 29  rougher.state.floatbank10_d_air             5290 non-null   float64\n",
      " 30  rougher.state.floatbank10_d_level           5290 non-null   float64\n",
      " 31  rougher.state.floatbank10_e_air             5290 non-null   float64\n",
      " 32  rougher.state.floatbank10_e_level           5290 non-null   float64\n",
      " 33  rougher.state.floatbank10_f_air             5290 non-null   float64\n",
      " 34  rougher.state.floatbank10_f_level           5290 non-null   float64\n",
      " 35  secondary_cleaner.state.floatbank2_a_air    5287 non-null   float64\n",
      " 36  secondary_cleaner.state.floatbank2_a_level  5290 non-null   float64\n",
      " 37  secondary_cleaner.state.floatbank2_b_air    5288 non-null   float64\n",
      " 38  secondary_cleaner.state.floatbank2_b_level  5290 non-null   float64\n",
      " 39  secondary_cleaner.state.floatbank3_a_air    5281 non-null   float64\n",
      " 40  secondary_cleaner.state.floatbank3_a_level  5290 non-null   float64\n",
      " 41  secondary_cleaner.state.floatbank3_b_air    5290 non-null   float64\n",
      " 42  secondary_cleaner.state.floatbank3_b_level  5290 non-null   float64\n",
      " 43  secondary_cleaner.state.floatbank4_a_air    5290 non-null   float64\n",
      " 44  secondary_cleaner.state.floatbank4_a_level  5290 non-null   float64\n",
      " 45  secondary_cleaner.state.floatbank4_b_air    5290 non-null   float64\n",
      " 46  secondary_cleaner.state.floatbank4_b_level  5290 non-null   float64\n",
      " 47  secondary_cleaner.state.floatbank5_a_air    5290 non-null   float64\n",
      " 48  secondary_cleaner.state.floatbank5_a_level  5290 non-null   float64\n",
      " 49  secondary_cleaner.state.floatbank5_b_air    5290 non-null   float64\n",
      " 50  secondary_cleaner.state.floatbank5_b_level  5290 non-null   float64\n",
      " 51  secondary_cleaner.state.floatbank6_a_air    5290 non-null   float64\n",
      " 52  secondary_cleaner.state.floatbank6_a_level  5290 non-null   float64\n",
      "dtypes: float64(52), object(1)\n",
      "memory usage: 2.1+ MB\n"
     ]
    }
   ],
   "source": [
    "data_test.info()"
   ]
  },
  {
   "cell_type": "code",
   "execution_count": 8,
   "metadata": {},
   "outputs": [
    {
     "data": {
      "text/plain": [
       "(5290, 53)"
      ]
     },
     "execution_count": 8,
     "metadata": {},
     "output_type": "execute_result"
    }
   ],
   "source": [
    "data_test.shape"
   ]
  },
  {
   "cell_type": "code",
   "execution_count": 9,
   "metadata": {},
   "outputs": [
    {
     "data": {
      "text/html": [
       "<div>\n",
       "<style scoped>\n",
       "    .dataframe tbody tr th:only-of-type {\n",
       "        vertical-align: middle;\n",
       "    }\n",
       "\n",
       "    .dataframe tbody tr th {\n",
       "        vertical-align: top;\n",
       "    }\n",
       "\n",
       "    .dataframe thead th {\n",
       "        text-align: right;\n",
       "    }\n",
       "</style>\n",
       "<table border=\"1\" class=\"dataframe\">\n",
       "  <thead>\n",
       "    <tr style=\"text-align: right;\">\n",
       "      <th></th>\n",
       "      <th>date</th>\n",
       "      <th>primary_cleaner.input.sulfate</th>\n",
       "      <th>primary_cleaner.input.depressant</th>\n",
       "      <th>primary_cleaner.input.feed_size</th>\n",
       "      <th>primary_cleaner.input.xanthate</th>\n",
       "      <th>primary_cleaner.state.floatbank8_a_air</th>\n",
       "      <th>primary_cleaner.state.floatbank8_a_level</th>\n",
       "      <th>primary_cleaner.state.floatbank8_b_air</th>\n",
       "      <th>primary_cleaner.state.floatbank8_b_level</th>\n",
       "      <th>primary_cleaner.state.floatbank8_c_air</th>\n",
       "      <th>...</th>\n",
       "      <th>secondary_cleaner.state.floatbank4_a_air</th>\n",
       "      <th>secondary_cleaner.state.floatbank4_a_level</th>\n",
       "      <th>secondary_cleaner.state.floatbank4_b_air</th>\n",
       "      <th>secondary_cleaner.state.floatbank4_b_level</th>\n",
       "      <th>secondary_cleaner.state.floatbank5_a_air</th>\n",
       "      <th>secondary_cleaner.state.floatbank5_a_level</th>\n",
       "      <th>secondary_cleaner.state.floatbank5_b_air</th>\n",
       "      <th>secondary_cleaner.state.floatbank5_b_level</th>\n",
       "      <th>secondary_cleaner.state.floatbank6_a_air</th>\n",
       "      <th>secondary_cleaner.state.floatbank6_a_level</th>\n",
       "    </tr>\n",
       "  </thead>\n",
       "  <tbody>\n",
       "    <tr>\n",
       "      <th>0</th>\n",
       "      <td>2016-09-01 00:59:59</td>\n",
       "      <td>210.800909</td>\n",
       "      <td>14.993118</td>\n",
       "      <td>8.080000</td>\n",
       "      <td>1.005021</td>\n",
       "      <td>1398.981301</td>\n",
       "      <td>-500.225577</td>\n",
       "      <td>1399.144926</td>\n",
       "      <td>-499.919735</td>\n",
       "      <td>1400.102998</td>\n",
       "      <td>...</td>\n",
       "      <td>12.023554</td>\n",
       "      <td>-497.795834</td>\n",
       "      <td>8.016656</td>\n",
       "      <td>-501.289139</td>\n",
       "      <td>7.946562</td>\n",
       "      <td>-432.317850</td>\n",
       "      <td>4.872511</td>\n",
       "      <td>-500.037437</td>\n",
       "      <td>26.705889</td>\n",
       "      <td>-499.709414</td>\n",
       "    </tr>\n",
       "    <tr>\n",
       "      <th>1</th>\n",
       "      <td>2016-09-01 01:59:59</td>\n",
       "      <td>215.392455</td>\n",
       "      <td>14.987471</td>\n",
       "      <td>8.080000</td>\n",
       "      <td>0.990469</td>\n",
       "      <td>1398.777912</td>\n",
       "      <td>-500.057435</td>\n",
       "      <td>1398.055362</td>\n",
       "      <td>-499.778182</td>\n",
       "      <td>1396.151033</td>\n",
       "      <td>...</td>\n",
       "      <td>12.058140</td>\n",
       "      <td>-498.695773</td>\n",
       "      <td>8.130979</td>\n",
       "      <td>-499.634209</td>\n",
       "      <td>7.958270</td>\n",
       "      <td>-525.839648</td>\n",
       "      <td>4.878850</td>\n",
       "      <td>-500.162375</td>\n",
       "      <td>25.019940</td>\n",
       "      <td>-499.819438</td>\n",
       "    </tr>\n",
       "    <tr>\n",
       "      <th>2</th>\n",
       "      <td>2016-09-01 02:59:59</td>\n",
       "      <td>215.259946</td>\n",
       "      <td>12.884934</td>\n",
       "      <td>7.786667</td>\n",
       "      <td>0.996043</td>\n",
       "      <td>1398.493666</td>\n",
       "      <td>-500.868360</td>\n",
       "      <td>1398.860436</td>\n",
       "      <td>-499.764529</td>\n",
       "      <td>1398.075709</td>\n",
       "      <td>...</td>\n",
       "      <td>11.962366</td>\n",
       "      <td>-498.767484</td>\n",
       "      <td>8.096893</td>\n",
       "      <td>-500.827423</td>\n",
       "      <td>8.071056</td>\n",
       "      <td>-500.801673</td>\n",
       "      <td>4.905125</td>\n",
       "      <td>-499.828510</td>\n",
       "      <td>24.994862</td>\n",
       "      <td>-500.622559</td>\n",
       "    </tr>\n",
       "    <tr>\n",
       "      <th>3</th>\n",
       "      <td>2016-09-01 03:59:59</td>\n",
       "      <td>215.336236</td>\n",
       "      <td>12.006805</td>\n",
       "      <td>7.640000</td>\n",
       "      <td>0.863514</td>\n",
       "      <td>1399.618111</td>\n",
       "      <td>-498.863574</td>\n",
       "      <td>1397.440120</td>\n",
       "      <td>-499.211024</td>\n",
       "      <td>1400.129303</td>\n",
       "      <td>...</td>\n",
       "      <td>12.033091</td>\n",
       "      <td>-498.350935</td>\n",
       "      <td>8.074946</td>\n",
       "      <td>-499.474407</td>\n",
       "      <td>7.897085</td>\n",
       "      <td>-500.868509</td>\n",
       "      <td>4.931400</td>\n",
       "      <td>-499.963623</td>\n",
       "      <td>24.948919</td>\n",
       "      <td>-498.709987</td>\n",
       "    </tr>\n",
       "    <tr>\n",
       "      <th>4</th>\n",
       "      <td>2016-09-01 04:59:59</td>\n",
       "      <td>199.099327</td>\n",
       "      <td>10.682530</td>\n",
       "      <td>7.530000</td>\n",
       "      <td>0.805575</td>\n",
       "      <td>1401.268123</td>\n",
       "      <td>-500.808305</td>\n",
       "      <td>1398.128818</td>\n",
       "      <td>-499.504543</td>\n",
       "      <td>1402.172226</td>\n",
       "      <td>...</td>\n",
       "      <td>12.025367</td>\n",
       "      <td>-500.786497</td>\n",
       "      <td>8.054678</td>\n",
       "      <td>-500.397500</td>\n",
       "      <td>8.107890</td>\n",
       "      <td>-509.526725</td>\n",
       "      <td>4.957674</td>\n",
       "      <td>-500.360026</td>\n",
       "      <td>25.003331</td>\n",
       "      <td>-500.856333</td>\n",
       "    </tr>\n",
       "  </tbody>\n",
       "</table>\n",
       "<p>5 rows × 53 columns</p>\n",
       "</div>"
      ],
      "text/plain": [
       "                  date  primary_cleaner.input.sulfate  \\\n",
       "0  2016-09-01 00:59:59                     210.800909   \n",
       "1  2016-09-01 01:59:59                     215.392455   \n",
       "2  2016-09-01 02:59:59                     215.259946   \n",
       "3  2016-09-01 03:59:59                     215.336236   \n",
       "4  2016-09-01 04:59:59                     199.099327   \n",
       "\n",
       "   primary_cleaner.input.depressant  primary_cleaner.input.feed_size  \\\n",
       "0                         14.993118                         8.080000   \n",
       "1                         14.987471                         8.080000   \n",
       "2                         12.884934                         7.786667   \n",
       "3                         12.006805                         7.640000   \n",
       "4                         10.682530                         7.530000   \n",
       "\n",
       "   primary_cleaner.input.xanthate  primary_cleaner.state.floatbank8_a_air  \\\n",
       "0                        1.005021                             1398.981301   \n",
       "1                        0.990469                             1398.777912   \n",
       "2                        0.996043                             1398.493666   \n",
       "3                        0.863514                             1399.618111   \n",
       "4                        0.805575                             1401.268123   \n",
       "\n",
       "   primary_cleaner.state.floatbank8_a_level  \\\n",
       "0                               -500.225577   \n",
       "1                               -500.057435   \n",
       "2                               -500.868360   \n",
       "3                               -498.863574   \n",
       "4                               -500.808305   \n",
       "\n",
       "   primary_cleaner.state.floatbank8_b_air  \\\n",
       "0                             1399.144926   \n",
       "1                             1398.055362   \n",
       "2                             1398.860436   \n",
       "3                             1397.440120   \n",
       "4                             1398.128818   \n",
       "\n",
       "   primary_cleaner.state.floatbank8_b_level  \\\n",
       "0                               -499.919735   \n",
       "1                               -499.778182   \n",
       "2                               -499.764529   \n",
       "3                               -499.211024   \n",
       "4                               -499.504543   \n",
       "\n",
       "   primary_cleaner.state.floatbank8_c_air  ...  \\\n",
       "0                             1400.102998  ...   \n",
       "1                             1396.151033  ...   \n",
       "2                             1398.075709  ...   \n",
       "3                             1400.129303  ...   \n",
       "4                             1402.172226  ...   \n",
       "\n",
       "   secondary_cleaner.state.floatbank4_a_air  \\\n",
       "0                                 12.023554   \n",
       "1                                 12.058140   \n",
       "2                                 11.962366   \n",
       "3                                 12.033091   \n",
       "4                                 12.025367   \n",
       "\n",
       "   secondary_cleaner.state.floatbank4_a_level  \\\n",
       "0                                 -497.795834   \n",
       "1                                 -498.695773   \n",
       "2                                 -498.767484   \n",
       "3                                 -498.350935   \n",
       "4                                 -500.786497   \n",
       "\n",
       "   secondary_cleaner.state.floatbank4_b_air  \\\n",
       "0                                  8.016656   \n",
       "1                                  8.130979   \n",
       "2                                  8.096893   \n",
       "3                                  8.074946   \n",
       "4                                  8.054678   \n",
       "\n",
       "   secondary_cleaner.state.floatbank4_b_level  \\\n",
       "0                                 -501.289139   \n",
       "1                                 -499.634209   \n",
       "2                                 -500.827423   \n",
       "3                                 -499.474407   \n",
       "4                                 -500.397500   \n",
       "\n",
       "   secondary_cleaner.state.floatbank5_a_air  \\\n",
       "0                                  7.946562   \n",
       "1                                  7.958270   \n",
       "2                                  8.071056   \n",
       "3                                  7.897085   \n",
       "4                                  8.107890   \n",
       "\n",
       "   secondary_cleaner.state.floatbank5_a_level  \\\n",
       "0                                 -432.317850   \n",
       "1                                 -525.839648   \n",
       "2                                 -500.801673   \n",
       "3                                 -500.868509   \n",
       "4                                 -509.526725   \n",
       "\n",
       "   secondary_cleaner.state.floatbank5_b_air  \\\n",
       "0                                  4.872511   \n",
       "1                                  4.878850   \n",
       "2                                  4.905125   \n",
       "3                                  4.931400   \n",
       "4                                  4.957674   \n",
       "\n",
       "   secondary_cleaner.state.floatbank5_b_level  \\\n",
       "0                                 -500.037437   \n",
       "1                                 -500.162375   \n",
       "2                                 -499.828510   \n",
       "3                                 -499.963623   \n",
       "4                                 -500.360026   \n",
       "\n",
       "   secondary_cleaner.state.floatbank6_a_air  \\\n",
       "0                                 26.705889   \n",
       "1                                 25.019940   \n",
       "2                                 24.994862   \n",
       "3                                 24.948919   \n",
       "4                                 25.003331   \n",
       "\n",
       "   secondary_cleaner.state.floatbank6_a_level  \n",
       "0                                 -499.709414  \n",
       "1                                 -499.819438  \n",
       "2                                 -500.622559  \n",
       "3                                 -498.709987  \n",
       "4                                 -500.856333  \n",
       "\n",
       "[5 rows x 53 columns]"
      ]
     },
     "metadata": {},
     "output_type": "display_data"
    }
   ],
   "source": [
    "display(data_test.head())"
   ]
  },
  {
   "cell_type": "code",
   "execution_count": 10,
   "metadata": {
    "collapsed": true
   },
   "outputs": [
    {
     "name": "stdout",
     "output_type": "stream",
     "text": [
      "<class 'pandas.core.frame.DataFrame'>\n",
      "RangeIndex: 19439 entries, 0 to 19438\n",
      "Data columns (total 87 columns):\n",
      " #   Column                                              Non-Null Count  Dtype  \n",
      "---  ------                                              --------------  -----  \n",
      " 0   date                                                19439 non-null  object \n",
      " 1   final.output.concentrate_ag                         19438 non-null  float64\n",
      " 2   final.output.concentrate_pb                         19438 non-null  float64\n",
      " 3   final.output.concentrate_sol                        19228 non-null  float64\n",
      " 4   final.output.concentrate_au                         19439 non-null  float64\n",
      " 5   final.output.recovery                               19439 non-null  float64\n",
      " 6   final.output.tail_ag                                19438 non-null  float64\n",
      " 7   final.output.tail_pb                                19338 non-null  float64\n",
      " 8   final.output.tail_sol                               19433 non-null  float64\n",
      " 9   final.output.tail_au                                19439 non-null  float64\n",
      " 10  primary_cleaner.input.sulfate                       19415 non-null  float64\n",
      " 11  primary_cleaner.input.depressant                    19402 non-null  float64\n",
      " 12  primary_cleaner.input.feed_size                     19439 non-null  float64\n",
      " 13  primary_cleaner.input.xanthate                      19335 non-null  float64\n",
      " 14  primary_cleaner.output.concentrate_ag               19439 non-null  float64\n",
      " 15  primary_cleaner.output.concentrate_pb               19323 non-null  float64\n",
      " 16  primary_cleaner.output.concentrate_sol              19069 non-null  float64\n",
      " 17  primary_cleaner.output.concentrate_au               19439 non-null  float64\n",
      " 18  primary_cleaner.output.tail_ag                      19435 non-null  float64\n",
      " 19  primary_cleaner.output.tail_pb                      19418 non-null  float64\n",
      " 20  primary_cleaner.output.tail_sol                     19377 non-null  float64\n",
      " 21  primary_cleaner.output.tail_au                      19439 non-null  float64\n",
      " 22  primary_cleaner.state.floatbank8_a_air              19435 non-null  float64\n",
      " 23  primary_cleaner.state.floatbank8_a_level            19438 non-null  float64\n",
      " 24  primary_cleaner.state.floatbank8_b_air              19435 non-null  float64\n",
      " 25  primary_cleaner.state.floatbank8_b_level            19438 non-null  float64\n",
      " 26  primary_cleaner.state.floatbank8_c_air              19437 non-null  float64\n",
      " 27  primary_cleaner.state.floatbank8_c_level            19438 non-null  float64\n",
      " 28  primary_cleaner.state.floatbank8_d_air              19436 non-null  float64\n",
      " 29  primary_cleaner.state.floatbank8_d_level            19438 non-null  float64\n",
      " 30  rougher.calculation.sulfate_to_au_concentrate       19437 non-null  float64\n",
      " 31  rougher.calculation.floatbank10_sulfate_to_au_feed  19437 non-null  float64\n",
      " 32  rougher.calculation.floatbank11_sulfate_to_au_feed  19437 non-null  float64\n",
      " 33  rougher.calculation.au_pb_ratio                     19439 non-null  float64\n",
      " 34  rougher.input.feed_ag                               19439 non-null  float64\n",
      " 35  rougher.input.feed_pb                               19339 non-null  float64\n",
      " 36  rougher.input.feed_rate                             19428 non-null  float64\n",
      " 37  rougher.input.feed_size                             19294 non-null  float64\n",
      " 38  rougher.input.feed_sol                              19340 non-null  float64\n",
      " 39  rougher.input.feed_au                               19439 non-null  float64\n",
      " 40  rougher.input.floatbank10_sulfate                   19405 non-null  float64\n",
      " 41  rougher.input.floatbank10_xanthate                  19431 non-null  float64\n",
      " 42  rougher.input.floatbank11_sulfate                   19395 non-null  float64\n",
      " 43  rougher.input.floatbank11_xanthate                  18986 non-null  float64\n",
      " 44  rougher.output.concentrate_ag                       19439 non-null  float64\n",
      " 45  rougher.output.concentrate_pb                       19439 non-null  float64\n",
      " 46  rougher.output.concentrate_sol                      19416 non-null  float64\n",
      " 47  rougher.output.concentrate_au                       19439 non-null  float64\n",
      " 48  rougher.output.recovery                             19439 non-null  float64\n",
      " 49  rougher.output.tail_ag                              19438 non-null  float64\n",
      " 50  rougher.output.tail_pb                              19439 non-null  float64\n",
      " 51  rougher.output.tail_sol                             19439 non-null  float64\n",
      " 52  rougher.output.tail_au                              19439 non-null  float64\n",
      " 53  rougher.state.floatbank10_a_air                     19438 non-null  float64\n",
      " 54  rougher.state.floatbank10_a_level                   19438 non-null  float64\n",
      " 55  rougher.state.floatbank10_b_air                     19438 non-null  float64\n",
      " 56  rougher.state.floatbank10_b_level                   19438 non-null  float64\n",
      " 57  rougher.state.floatbank10_c_air                     19438 non-null  float64\n",
      " 58  rougher.state.floatbank10_c_level                   19438 non-null  float64\n",
      " 59  rougher.state.floatbank10_d_air                     19439 non-null  float64\n",
      " 60  rougher.state.floatbank10_d_level                   19439 non-null  float64\n",
      " 61  rougher.state.floatbank10_e_air                     19003 non-null  float64\n",
      " 62  rougher.state.floatbank10_e_level                   19439 non-null  float64\n",
      " 63  rougher.state.floatbank10_f_air                     19439 non-null  float64\n",
      " 64  rougher.state.floatbank10_f_level                   19439 non-null  float64\n",
      " 65  secondary_cleaner.output.tail_ag                    19437 non-null  float64\n",
      " 66  secondary_cleaner.output.tail_pb                    19427 non-null  float64\n",
      " 67  secondary_cleaner.output.tail_sol                   17691 non-null  float64\n",
      " 68  secondary_cleaner.output.tail_au                    19439 non-null  float64\n",
      " 69  secondary_cleaner.state.floatbank2_a_air            19219 non-null  float64\n",
      " 70  secondary_cleaner.state.floatbank2_a_level          19438 non-null  float64\n",
      " 71  secondary_cleaner.state.floatbank2_b_air            19416 non-null  float64\n",
      " 72  secondary_cleaner.state.floatbank2_b_level          19438 non-null  float64\n",
      " 73  secondary_cleaner.state.floatbank3_a_air            19426 non-null  float64\n",
      " 74  secondary_cleaner.state.floatbank3_a_level          19438 non-null  float64\n",
      " 75  secondary_cleaner.state.floatbank3_b_air            19438 non-null  float64\n",
      " 76  secondary_cleaner.state.floatbank3_b_level          19438 non-null  float64\n",
      " 77  secondary_cleaner.state.floatbank4_a_air            19433 non-null  float64\n",
      " 78  secondary_cleaner.state.floatbank4_a_level          19438 non-null  float64\n",
      " 79  secondary_cleaner.state.floatbank4_b_air            19438 non-null  float64\n",
      " 80  secondary_cleaner.state.floatbank4_b_level          19438 non-null  float64\n",
      " 81  secondary_cleaner.state.floatbank5_a_air            19438 non-null  float64\n",
      " 82  secondary_cleaner.state.floatbank5_a_level          19438 non-null  float64\n",
      " 83  secondary_cleaner.state.floatbank5_b_air            19438 non-null  float64\n",
      " 84  secondary_cleaner.state.floatbank5_b_level          19438 non-null  float64\n",
      " 85  secondary_cleaner.state.floatbank6_a_air            19437 non-null  float64\n",
      " 86  secondary_cleaner.state.floatbank6_a_level          19438 non-null  float64\n",
      "dtypes: float64(86), object(1)\n",
      "memory usage: 12.9+ MB\n"
     ]
    }
   ],
   "source": [
    "data_full.info()"
   ]
  },
  {
   "cell_type": "code",
   "execution_count": 11,
   "metadata": {},
   "outputs": [
    {
     "data": {
      "text/plain": [
       "(19439, 87)"
      ]
     },
     "execution_count": 11,
     "metadata": {},
     "output_type": "execute_result"
    }
   ],
   "source": [
    "data_full.shape"
   ]
  },
  {
   "cell_type": "markdown",
   "metadata": {},
   "source": [
    "<font color='green'>После первичного изучения данных видно, что количество столбцов в полной и тренировочных выборках совпадает, при этом в тестовой их на 34 меньше. Также видно, что все столбцы, кроме даты имеют тип float64. Дату приведем к формату datetime позже. Кроме того, видно, что во многих столбцах есть разное количество пропусков. Более подробно ознакомимся с ними позже и постараемся их устранить.</font>"
   ]
  },
  {
   "cell_type": "markdown",
   "metadata": {},
   "source": [
    "<font color='green'>Проверим данные на полные дубликаты</font>"
   ]
  },
  {
   "cell_type": "code",
   "execution_count": 12,
   "metadata": {},
   "outputs": [
    {
     "name": "stdout",
     "output_type": "stream",
     "text": [
      "0\n",
      "0\n",
      "0\n"
     ]
    }
   ],
   "source": [
    "print(data_train.duplicated().sum())\n",
    "print(data_full.duplicated().sum())\n",
    "print(data_test.duplicated().sum())"
   ]
  },
  {
   "cell_type": "markdown",
   "metadata": {},
   "source": [
    "<font color='green'>Полные дубликаты отсутсвуют</font>"
   ]
  },
  {
   "cell_type": "markdown",
   "metadata": {},
   "source": [
    "Зафиксируем псевдослучайную последовательность."
   ]
  },
  {
   "cell_type": "code",
   "execution_count": 13,
   "metadata": {},
   "outputs": [],
   "source": [
    "STATE = 12345"
   ]
  },
  {
   "cell_type": "markdown",
   "metadata": {},
   "source": [
    "### Проверим, что эффективность обогащения рассчитана правильно. Вычислим её на обучающей выборке для признака rougher.output.recovery. Найдем MAE между нашими расчётами и значением признака. Опишем выводы."
   ]
  },
  {
   "cell_type": "markdown",
   "metadata": {},
   "source": [
    "<font color='green'>Данная формулировка полностью взята из задания</font>"
   ]
  },
  {
   "cell_type": "markdown",
   "metadata": {},
   "source": [
    "<font color='green'>Формула расчета взята из условия recovery = ((c*(f-t))/(f*(c-t))) * 100. \n",
    "1. C — доля золота в концентрате после флотации/очистки;\n",
    "2. F — доля золота в сырье/концентрате до флотации/очистки;\n",
    "3. T — доля золота в отвальных хвостах после флотации/очистки. \n",
    "\n",
    "    Очевидно, нам нужны данные из этапа флотации - rougher.</font>"
   ]
  },
  {
   "cell_type": "code",
   "execution_count": 14,
   "metadata": {},
   "outputs": [
    {
     "name": "stdout",
     "output_type": "stream",
     "text": [
      "0    87.107763\n",
      "1    86.843261\n",
      "2    86.842308\n",
      "3    87.226430\n",
      "4    86.688794\n",
      "dtype: float64\n",
      "0    87.107763\n",
      "1    86.843261\n",
      "2    86.842308\n",
      "3    87.226430\n",
      "4    86.688794\n",
      "Name: rougher.output.recovery, dtype: float64\n"
     ]
    }
   ],
   "source": [
    "c = data_train['rougher.output.concentrate_au']\n",
    "f = data_train['rougher.input.feed_au']\n",
    "t = data_train['rougher.output.tail_au']\n",
    "recovery = ((c*(f-t))/(f*(c-t))) * 100\n",
    "print(recovery.head())\n",
    "print(data_train['rougher.output.recovery'].head())"
   ]
  },
  {
   "cell_type": "markdown",
   "metadata": {},
   "source": [
    "<font color='green'>Видно, что получившиеся данные визуально совпадают. Найдем MAE -  метрику, которая сообщает нам среднюю абсолютную разницу между прогнозируемыми значениями и фактическими значениями в наборе данных. Чем ниже MAE, тем лучше модель соответствует набору данных. Сравним данные в столбце rougher.output.recovery и получившимся recovery</font>"
   ]
  },
  {
   "cell_type": "code",
   "execution_count": 15,
   "metadata": {},
   "outputs": [
    {
     "name": "stdout",
     "output_type": "stream",
     "text": [
      "9.73512347450521e-15\n"
     ]
    }
   ],
   "source": [
    "print(mean_absolute_error(data_train['rougher.output.recovery'], recovery))"
   ]
  },
  {
   "cell_type": "markdown",
   "metadata": {},
   "source": [
    "Полученное значение очень мало, что говорит о верности расчета.\n",
    "<font color='green'>Ведь, как написано выше, МАЕ тем лучше - чем меньше, а полученное число примерно равно 0.000000000000009735..., что можно принять за погрешность. Таким образом, rougher.output.recovery рассчитан правильно</font>\n"
   ]
  },
  {
   "cell_type": "markdown",
   "metadata": {},
   "source": [
    "### <font color='green'>Проведем предобработку данных. Проанализируем признаки, недоступные в тестовой выборке. Что это за параметры? К какому типу относятся? Формулировка взята из условия.</font>"
   ]
  },
  {
   "cell_type": "code",
   "execution_count": 16,
   "metadata": {
    "collapsed": true
   },
   "outputs": [
    {
     "data": {
      "text/plain": [
       "['final.output.concentrate_ag',\n",
       " 'final.output.concentrate_au',\n",
       " 'final.output.concentrate_pb',\n",
       " 'final.output.concentrate_sol',\n",
       " 'final.output.recovery',\n",
       " 'final.output.tail_ag',\n",
       " 'final.output.tail_au',\n",
       " 'final.output.tail_pb',\n",
       " 'final.output.tail_sol',\n",
       " 'primary_cleaner.output.concentrate_ag',\n",
       " 'primary_cleaner.output.concentrate_au',\n",
       " 'primary_cleaner.output.concentrate_pb',\n",
       " 'primary_cleaner.output.concentrate_sol',\n",
       " 'primary_cleaner.output.tail_ag',\n",
       " 'primary_cleaner.output.tail_au',\n",
       " 'primary_cleaner.output.tail_pb',\n",
       " 'primary_cleaner.output.tail_sol',\n",
       " 'rougher.calculation.au_pb_ratio',\n",
       " 'rougher.calculation.floatbank10_sulfate_to_au_feed',\n",
       " 'rougher.calculation.floatbank11_sulfate_to_au_feed',\n",
       " 'rougher.calculation.sulfate_to_au_concentrate',\n",
       " 'rougher.output.concentrate_ag',\n",
       " 'rougher.output.concentrate_au',\n",
       " 'rougher.output.concentrate_pb',\n",
       " 'rougher.output.concentrate_sol',\n",
       " 'rougher.output.recovery',\n",
       " 'rougher.output.tail_ag',\n",
       " 'rougher.output.tail_au',\n",
       " 'rougher.output.tail_pb',\n",
       " 'rougher.output.tail_sol',\n",
       " 'secondary_cleaner.output.tail_ag',\n",
       " 'secondary_cleaner.output.tail_au',\n",
       " 'secondary_cleaner.output.tail_pb',\n",
       " 'secondary_cleaner.output.tail_sol']"
      ]
     },
     "execution_count": 16,
     "metadata": {},
     "output_type": "execute_result"
    }
   ],
   "source": [
    "data_add_cols = data_train.columns.difference(data_test.columns)\n",
    "data_add_cols.to_list()"
   ]
  },
  {
   "cell_type": "markdown",
   "metadata": {},
   "source": [
    " <font color='green'>Также рассмотрим другой способ поиска отстуствующих признаков, для разнообразия, наверное</font>"
   ]
  },
  {
   "cell_type": "code",
   "execution_count": 17,
   "metadata": {},
   "outputs": [
    {
     "name": "stdout",
     "output_type": "stream",
     "text": [
      "['final.output.concentrate_ag', 'final.output.concentrate_pb', 'final.output.concentrate_sol', 'final.output.concentrate_au', 'final.output.recovery', 'final.output.tail_ag', 'final.output.tail_pb', 'final.output.tail_sol', 'final.output.tail_au', 'primary_cleaner.output.concentrate_ag', 'primary_cleaner.output.concentrate_pb', 'primary_cleaner.output.concentrate_sol', 'primary_cleaner.output.concentrate_au', 'primary_cleaner.output.tail_ag', 'primary_cleaner.output.tail_pb', 'primary_cleaner.output.tail_sol', 'primary_cleaner.output.tail_au', 'rougher.calculation.sulfate_to_au_concentrate', 'rougher.calculation.floatbank10_sulfate_to_au_feed', 'rougher.calculation.floatbank11_sulfate_to_au_feed', 'rougher.calculation.au_pb_ratio', 'rougher.output.concentrate_ag', 'rougher.output.concentrate_pb', 'rougher.output.concentrate_sol', 'rougher.output.concentrate_au', 'rougher.output.recovery', 'rougher.output.tail_ag', 'rougher.output.tail_pb', 'rougher.output.tail_sol', 'rougher.output.tail_au', 'secondary_cleaner.output.tail_ag', 'secondary_cleaner.output.tail_pb', 'secondary_cleaner.output.tail_sol', 'secondary_cleaner.output.tail_au'] 34\n"
     ]
    }
   ],
   "source": [
    "data_del = []\n",
    "for a in list(data_train.columns):\n",
    "    if a not in (list(data_test.columns)):\n",
    "        data_del.append(a)\n",
    "print(data_del, len(data_del))"
   ]
  },
  {
   "cell_type": "markdown",
   "metadata": {},
   "source": [
    " <font color='green'>Видно, что их 34. 2 из них - 'final.output.recovery' и 'rougher.output.recovery' - целевые признаки по условию, их добавим в тестовый датасет позже. Остальные отсуствующие признаки вероятно связаны с разными составами и параметрами получающихся на разных этапах продуктов. Скорее всего, они отсутствуют из-за получения в процессе эксперимента</font>"
   ]
  },
  {
   "cell_type": "markdown",
   "metadata": {},
   "source": [
    " <font color='green'>Приведем колонки с датой к формату datetime и проверим, ессть ли повторяющиеся даты. Предположим, что каждый эксперимент можно идентифицировать по дате и даты не повторяются. Тогда Можно будет использовать дату как идентификатор для добавления в тестовую выборку необходимых соответсвующих целевых признаков из полного датафрейма</font>"
   ]
  },
  {
   "cell_type": "code",
   "execution_count": 18,
   "metadata": {},
   "outputs": [
    {
     "name": "stdout",
     "output_type": "stream",
     "text": [
      "0\n"
     ]
    }
   ],
   "source": [
    "data_train['date'] = pd.to_datetime(data_train['date'], format='%Y-%m-%dT%H:%M:%S')\n",
    "data_test['date'] = pd.to_datetime(data_test['date'], format='%Y-%m-%dT%H:%M:%S')\n",
    "data_full['date'] = pd.to_datetime(data_full['date'], format='%Y-%m-%dT%H:%M:%S')\n",
    "print(data_full['date'].duplicated().sum())"
   ]
  },
  {
   "cell_type": "markdown",
   "metadata": {},
   "source": [
    "Дубликаты не обнаружены, все даты неповторимы."
   ]
  },
  {
   "cell_type": "markdown",
   "metadata": {},
   "source": [
    "<font color='green'></font>\n",
    "Добавим целевые столбцы в тестовую выборку, возьмем их из полного датафрейма, по соответсвующим датам."
   ]
  },
  {
   "cell_type": "code",
   "execution_count": 19,
   "metadata": {},
   "outputs": [
    {
     "name": "stdout",
     "output_type": "stream",
     "text": [
      "(5290, 55)\n"
     ]
    },
    {
     "data": {
      "text/html": [
       "<div>\n",
       "<style scoped>\n",
       "    .dataframe tbody tr th:only-of-type {\n",
       "        vertical-align: middle;\n",
       "    }\n",
       "\n",
       "    .dataframe tbody tr th {\n",
       "        vertical-align: top;\n",
       "    }\n",
       "\n",
       "    .dataframe thead th {\n",
       "        text-align: right;\n",
       "    }\n",
       "</style>\n",
       "<table border=\"1\" class=\"dataframe\">\n",
       "  <thead>\n",
       "    <tr style=\"text-align: right;\">\n",
       "      <th></th>\n",
       "      <th>date</th>\n",
       "      <th>primary_cleaner.input.sulfate</th>\n",
       "      <th>primary_cleaner.input.depressant</th>\n",
       "      <th>primary_cleaner.input.feed_size</th>\n",
       "      <th>primary_cleaner.input.xanthate</th>\n",
       "      <th>primary_cleaner.state.floatbank8_a_air</th>\n",
       "      <th>primary_cleaner.state.floatbank8_a_level</th>\n",
       "      <th>primary_cleaner.state.floatbank8_b_air</th>\n",
       "      <th>primary_cleaner.state.floatbank8_b_level</th>\n",
       "      <th>primary_cleaner.state.floatbank8_c_air</th>\n",
       "      <th>...</th>\n",
       "      <th>secondary_cleaner.state.floatbank4_b_air</th>\n",
       "      <th>secondary_cleaner.state.floatbank4_b_level</th>\n",
       "      <th>secondary_cleaner.state.floatbank5_a_air</th>\n",
       "      <th>secondary_cleaner.state.floatbank5_a_level</th>\n",
       "      <th>secondary_cleaner.state.floatbank5_b_air</th>\n",
       "      <th>secondary_cleaner.state.floatbank5_b_level</th>\n",
       "      <th>secondary_cleaner.state.floatbank6_a_air</th>\n",
       "      <th>secondary_cleaner.state.floatbank6_a_level</th>\n",
       "      <th>rougher.output.recovery</th>\n",
       "      <th>final.output.recovery</th>\n",
       "    </tr>\n",
       "  </thead>\n",
       "  <tbody>\n",
       "    <tr>\n",
       "      <th>0</th>\n",
       "      <td>2016-09-01 00:59:59</td>\n",
       "      <td>210.800909</td>\n",
       "      <td>14.993118</td>\n",
       "      <td>8.080000</td>\n",
       "      <td>1.005021</td>\n",
       "      <td>1398.981301</td>\n",
       "      <td>-500.225577</td>\n",
       "      <td>1399.144926</td>\n",
       "      <td>-499.919735</td>\n",
       "      <td>1400.102998</td>\n",
       "      <td>...</td>\n",
       "      <td>8.016656</td>\n",
       "      <td>-501.289139</td>\n",
       "      <td>7.946562</td>\n",
       "      <td>-432.317850</td>\n",
       "      <td>4.872511</td>\n",
       "      <td>-500.037437</td>\n",
       "      <td>26.705889</td>\n",
       "      <td>-499.709414</td>\n",
       "      <td>89.993421</td>\n",
       "      <td>70.273583</td>\n",
       "    </tr>\n",
       "    <tr>\n",
       "      <th>1</th>\n",
       "      <td>2016-09-01 01:59:59</td>\n",
       "      <td>215.392455</td>\n",
       "      <td>14.987471</td>\n",
       "      <td>8.080000</td>\n",
       "      <td>0.990469</td>\n",
       "      <td>1398.777912</td>\n",
       "      <td>-500.057435</td>\n",
       "      <td>1398.055362</td>\n",
       "      <td>-499.778182</td>\n",
       "      <td>1396.151033</td>\n",
       "      <td>...</td>\n",
       "      <td>8.130979</td>\n",
       "      <td>-499.634209</td>\n",
       "      <td>7.958270</td>\n",
       "      <td>-525.839648</td>\n",
       "      <td>4.878850</td>\n",
       "      <td>-500.162375</td>\n",
       "      <td>25.019940</td>\n",
       "      <td>-499.819438</td>\n",
       "      <td>88.089657</td>\n",
       "      <td>68.910432</td>\n",
       "    </tr>\n",
       "    <tr>\n",
       "      <th>2</th>\n",
       "      <td>2016-09-01 02:59:59</td>\n",
       "      <td>215.259946</td>\n",
       "      <td>12.884934</td>\n",
       "      <td>7.786667</td>\n",
       "      <td>0.996043</td>\n",
       "      <td>1398.493666</td>\n",
       "      <td>-500.868360</td>\n",
       "      <td>1398.860436</td>\n",
       "      <td>-499.764529</td>\n",
       "      <td>1398.075709</td>\n",
       "      <td>...</td>\n",
       "      <td>8.096893</td>\n",
       "      <td>-500.827423</td>\n",
       "      <td>8.071056</td>\n",
       "      <td>-500.801673</td>\n",
       "      <td>4.905125</td>\n",
       "      <td>-499.828510</td>\n",
       "      <td>24.994862</td>\n",
       "      <td>-500.622559</td>\n",
       "      <td>88.412756</td>\n",
       "      <td>68.143213</td>\n",
       "    </tr>\n",
       "    <tr>\n",
       "      <th>3</th>\n",
       "      <td>2016-09-01 03:59:59</td>\n",
       "      <td>215.336236</td>\n",
       "      <td>12.006805</td>\n",
       "      <td>7.640000</td>\n",
       "      <td>0.863514</td>\n",
       "      <td>1399.618111</td>\n",
       "      <td>-498.863574</td>\n",
       "      <td>1397.440120</td>\n",
       "      <td>-499.211024</td>\n",
       "      <td>1400.129303</td>\n",
       "      <td>...</td>\n",
       "      <td>8.074946</td>\n",
       "      <td>-499.474407</td>\n",
       "      <td>7.897085</td>\n",
       "      <td>-500.868509</td>\n",
       "      <td>4.931400</td>\n",
       "      <td>-499.963623</td>\n",
       "      <td>24.948919</td>\n",
       "      <td>-498.709987</td>\n",
       "      <td>87.360133</td>\n",
       "      <td>67.776393</td>\n",
       "    </tr>\n",
       "    <tr>\n",
       "      <th>4</th>\n",
       "      <td>2016-09-01 04:59:59</td>\n",
       "      <td>199.099327</td>\n",
       "      <td>10.682530</td>\n",
       "      <td>7.530000</td>\n",
       "      <td>0.805575</td>\n",
       "      <td>1401.268123</td>\n",
       "      <td>-500.808305</td>\n",
       "      <td>1398.128818</td>\n",
       "      <td>-499.504543</td>\n",
       "      <td>1402.172226</td>\n",
       "      <td>...</td>\n",
       "      <td>8.054678</td>\n",
       "      <td>-500.397500</td>\n",
       "      <td>8.107890</td>\n",
       "      <td>-509.526725</td>\n",
       "      <td>4.957674</td>\n",
       "      <td>-500.360026</td>\n",
       "      <td>25.003331</td>\n",
       "      <td>-500.856333</td>\n",
       "      <td>83.236367</td>\n",
       "      <td>61.467078</td>\n",
       "    </tr>\n",
       "  </tbody>\n",
       "</table>\n",
       "<p>5 rows × 55 columns</p>\n",
       "</div>"
      ],
      "text/plain": [
       "                 date  primary_cleaner.input.sulfate  \\\n",
       "0 2016-09-01 00:59:59                     210.800909   \n",
       "1 2016-09-01 01:59:59                     215.392455   \n",
       "2 2016-09-01 02:59:59                     215.259946   \n",
       "3 2016-09-01 03:59:59                     215.336236   \n",
       "4 2016-09-01 04:59:59                     199.099327   \n",
       "\n",
       "   primary_cleaner.input.depressant  primary_cleaner.input.feed_size  \\\n",
       "0                         14.993118                         8.080000   \n",
       "1                         14.987471                         8.080000   \n",
       "2                         12.884934                         7.786667   \n",
       "3                         12.006805                         7.640000   \n",
       "4                         10.682530                         7.530000   \n",
       "\n",
       "   primary_cleaner.input.xanthate  primary_cleaner.state.floatbank8_a_air  \\\n",
       "0                        1.005021                             1398.981301   \n",
       "1                        0.990469                             1398.777912   \n",
       "2                        0.996043                             1398.493666   \n",
       "3                        0.863514                             1399.618111   \n",
       "4                        0.805575                             1401.268123   \n",
       "\n",
       "   primary_cleaner.state.floatbank8_a_level  \\\n",
       "0                               -500.225577   \n",
       "1                               -500.057435   \n",
       "2                               -500.868360   \n",
       "3                               -498.863574   \n",
       "4                               -500.808305   \n",
       "\n",
       "   primary_cleaner.state.floatbank8_b_air  \\\n",
       "0                             1399.144926   \n",
       "1                             1398.055362   \n",
       "2                             1398.860436   \n",
       "3                             1397.440120   \n",
       "4                             1398.128818   \n",
       "\n",
       "   primary_cleaner.state.floatbank8_b_level  \\\n",
       "0                               -499.919735   \n",
       "1                               -499.778182   \n",
       "2                               -499.764529   \n",
       "3                               -499.211024   \n",
       "4                               -499.504543   \n",
       "\n",
       "   primary_cleaner.state.floatbank8_c_air  ...  \\\n",
       "0                             1400.102998  ...   \n",
       "1                             1396.151033  ...   \n",
       "2                             1398.075709  ...   \n",
       "3                             1400.129303  ...   \n",
       "4                             1402.172226  ...   \n",
       "\n",
       "   secondary_cleaner.state.floatbank4_b_air  \\\n",
       "0                                  8.016656   \n",
       "1                                  8.130979   \n",
       "2                                  8.096893   \n",
       "3                                  8.074946   \n",
       "4                                  8.054678   \n",
       "\n",
       "   secondary_cleaner.state.floatbank4_b_level  \\\n",
       "0                                 -501.289139   \n",
       "1                                 -499.634209   \n",
       "2                                 -500.827423   \n",
       "3                                 -499.474407   \n",
       "4                                 -500.397500   \n",
       "\n",
       "   secondary_cleaner.state.floatbank5_a_air  \\\n",
       "0                                  7.946562   \n",
       "1                                  7.958270   \n",
       "2                                  8.071056   \n",
       "3                                  7.897085   \n",
       "4                                  8.107890   \n",
       "\n",
       "   secondary_cleaner.state.floatbank5_a_level  \\\n",
       "0                                 -432.317850   \n",
       "1                                 -525.839648   \n",
       "2                                 -500.801673   \n",
       "3                                 -500.868509   \n",
       "4                                 -509.526725   \n",
       "\n",
       "   secondary_cleaner.state.floatbank5_b_air  \\\n",
       "0                                  4.872511   \n",
       "1                                  4.878850   \n",
       "2                                  4.905125   \n",
       "3                                  4.931400   \n",
       "4                                  4.957674   \n",
       "\n",
       "   secondary_cleaner.state.floatbank5_b_level  \\\n",
       "0                                 -500.037437   \n",
       "1                                 -500.162375   \n",
       "2                                 -499.828510   \n",
       "3                                 -499.963623   \n",
       "4                                 -500.360026   \n",
       "\n",
       "   secondary_cleaner.state.floatbank6_a_air  \\\n",
       "0                                 26.705889   \n",
       "1                                 25.019940   \n",
       "2                                 24.994862   \n",
       "3                                 24.948919   \n",
       "4                                 25.003331   \n",
       "\n",
       "   secondary_cleaner.state.floatbank6_a_level  rougher.output.recovery  \\\n",
       "0                                 -499.709414                89.993421   \n",
       "1                                 -499.819438                88.089657   \n",
       "2                                 -500.622559                88.412756   \n",
       "3                                 -498.709987                87.360133   \n",
       "4                                 -500.856333                83.236367   \n",
       "\n",
       "   final.output.recovery  \n",
       "0              70.273583  \n",
       "1              68.910432  \n",
       "2              68.143213  \n",
       "3              67.776393  \n",
       "4              61.467078  \n",
       "\n",
       "[5 rows x 55 columns]"
      ]
     },
     "metadata": {},
     "output_type": "display_data"
    }
   ],
   "source": [
    "data_test = data_test.merge(data_full[['date', 'rougher.output.recovery', 'final.output.recovery']], on='date', how='left')\n",
    "print(data_test.shape)\n",
    "display(data_test.head())"
   ]
  },
  {
   "cell_type": "markdown",
   "metadata": {},
   "source": [
    "Удалим столбы с датами, они не понадобятся для обучения, а наоборот будут только мешать.  "
   ]
  },
  {
   "cell_type": "code",
   "execution_count": 20,
   "metadata": {},
   "outputs": [
    {
     "name": "stdout",
     "output_type": "stream",
     "text": [
      "<class 'pandas.core.frame.DataFrame'>\n",
      "RangeIndex: 14149 entries, 0 to 14148\n",
      "Data columns (total 86 columns):\n",
      " #   Column                                              Non-Null Count  Dtype  \n",
      "---  ------                                              --------------  -----  \n",
      " 0   final.output.concentrate_ag                         14148 non-null  float64\n",
      " 1   final.output.concentrate_pb                         14148 non-null  float64\n",
      " 2   final.output.concentrate_sol                        13938 non-null  float64\n",
      " 3   final.output.concentrate_au                         14149 non-null  float64\n",
      " 4   final.output.recovery                               14149 non-null  float64\n",
      " 5   final.output.tail_ag                                14149 non-null  float64\n",
      " 6   final.output.tail_pb                                14049 non-null  float64\n",
      " 7   final.output.tail_sol                               14144 non-null  float64\n",
      " 8   final.output.tail_au                                14149 non-null  float64\n",
      " 9   primary_cleaner.input.sulfate                       14129 non-null  float64\n",
      " 10  primary_cleaner.input.depressant                    14117 non-null  float64\n",
      " 11  primary_cleaner.input.feed_size                     14149 non-null  float64\n",
      " 12  primary_cleaner.input.xanthate                      14049 non-null  float64\n",
      " 13  primary_cleaner.output.concentrate_ag               14149 non-null  float64\n",
      " 14  primary_cleaner.output.concentrate_pb               14063 non-null  float64\n",
      " 15  primary_cleaner.output.concentrate_sol              13863 non-null  float64\n",
      " 16  primary_cleaner.output.concentrate_au               14149 non-null  float64\n",
      " 17  primary_cleaner.output.tail_ag                      14148 non-null  float64\n",
      " 18  primary_cleaner.output.tail_pb                      14134 non-null  float64\n",
      " 19  primary_cleaner.output.tail_sol                     14103 non-null  float64\n",
      " 20  primary_cleaner.output.tail_au                      14149 non-null  float64\n",
      " 21  primary_cleaner.state.floatbank8_a_air              14145 non-null  float64\n",
      " 22  primary_cleaner.state.floatbank8_a_level            14148 non-null  float64\n",
      " 23  primary_cleaner.state.floatbank8_b_air              14145 non-null  float64\n",
      " 24  primary_cleaner.state.floatbank8_b_level            14148 non-null  float64\n",
      " 25  primary_cleaner.state.floatbank8_c_air              14147 non-null  float64\n",
      " 26  primary_cleaner.state.floatbank8_c_level            14148 non-null  float64\n",
      " 27  primary_cleaner.state.floatbank8_d_air              14146 non-null  float64\n",
      " 28  primary_cleaner.state.floatbank8_d_level            14148 non-null  float64\n",
      " 29  rougher.calculation.sulfate_to_au_concentrate       14148 non-null  float64\n",
      " 30  rougher.calculation.floatbank10_sulfate_to_au_feed  14148 non-null  float64\n",
      " 31  rougher.calculation.floatbank11_sulfate_to_au_feed  14148 non-null  float64\n",
      " 32  rougher.calculation.au_pb_ratio                     14149 non-null  float64\n",
      " 33  rougher.input.feed_ag                               14149 non-null  float64\n",
      " 34  rougher.input.feed_pb                               14049 non-null  float64\n",
      " 35  rougher.input.feed_rate                             14141 non-null  float64\n",
      " 36  rougher.input.feed_size                             14005 non-null  float64\n",
      " 37  rougher.input.feed_sol                              14071 non-null  float64\n",
      " 38  rougher.input.feed_au                               14149 non-null  float64\n",
      " 39  rougher.input.floatbank10_sulfate                   14120 non-null  float64\n",
      " 40  rougher.input.floatbank10_xanthate                  14141 non-null  float64\n",
      " 41  rougher.input.floatbank11_sulfate                   14113 non-null  float64\n",
      " 42  rougher.input.floatbank11_xanthate                  13721 non-null  float64\n",
      " 43  rougher.output.concentrate_ag                       14149 non-null  float64\n",
      " 44  rougher.output.concentrate_pb                       14149 non-null  float64\n",
      " 45  rougher.output.concentrate_sol                      14127 non-null  float64\n",
      " 46  rougher.output.concentrate_au                       14149 non-null  float64\n",
      " 47  rougher.output.recovery                             14149 non-null  float64\n",
      " 48  rougher.output.tail_ag                              14148 non-null  float64\n",
      " 49  rougher.output.tail_pb                              14149 non-null  float64\n",
      " 50  rougher.output.tail_sol                             14149 non-null  float64\n",
      " 51  rougher.output.tail_au                              14149 non-null  float64\n",
      " 52  rougher.state.floatbank10_a_air                     14148 non-null  float64\n",
      " 53  rougher.state.floatbank10_a_level                   14148 non-null  float64\n",
      " 54  rougher.state.floatbank10_b_air                     14148 non-null  float64\n",
      " 55  rougher.state.floatbank10_b_level                   14148 non-null  float64\n",
      " 56  rougher.state.floatbank10_c_air                     14148 non-null  float64\n",
      " 57  rougher.state.floatbank10_c_level                   14148 non-null  float64\n",
      " 58  rougher.state.floatbank10_d_air                     14149 non-null  float64\n",
      " 59  rougher.state.floatbank10_d_level                   14149 non-null  float64\n",
      " 60  rougher.state.floatbank10_e_air                     13713 non-null  float64\n",
      " 61  rougher.state.floatbank10_e_level                   14149 non-null  float64\n",
      " 62  rougher.state.floatbank10_f_air                     14149 non-null  float64\n",
      " 63  rougher.state.floatbank10_f_level                   14149 non-null  float64\n",
      " 64  secondary_cleaner.output.tail_ag                    14147 non-null  float64\n",
      " 65  secondary_cleaner.output.tail_pb                    14139 non-null  float64\n",
      " 66  secondary_cleaner.output.tail_sol                   12544 non-null  float64\n",
      " 67  secondary_cleaner.output.tail_au                    14149 non-null  float64\n",
      " 68  secondary_cleaner.state.floatbank2_a_air            13932 non-null  float64\n",
      " 69  secondary_cleaner.state.floatbank2_a_level          14148 non-null  float64\n",
      " 70  secondary_cleaner.state.floatbank2_b_air            14128 non-null  float64\n",
      " 71  secondary_cleaner.state.floatbank2_b_level          14148 non-null  float64\n",
      " 72  secondary_cleaner.state.floatbank3_a_air            14145 non-null  float64\n",
      " 73  secondary_cleaner.state.floatbank3_a_level          14148 non-null  float64\n",
      " 74  secondary_cleaner.state.floatbank3_b_air            14148 non-null  float64\n",
      " 75  secondary_cleaner.state.floatbank3_b_level          14148 non-null  float64\n",
      " 76  secondary_cleaner.state.floatbank4_a_air            14143 non-null  float64\n",
      " 77  secondary_cleaner.state.floatbank4_a_level          14148 non-null  float64\n",
      " 78  secondary_cleaner.state.floatbank4_b_air            14148 non-null  float64\n",
      " 79  secondary_cleaner.state.floatbank4_b_level          14148 non-null  float64\n",
      " 80  secondary_cleaner.state.floatbank5_a_air            14148 non-null  float64\n",
      " 81  secondary_cleaner.state.floatbank5_a_level          14148 non-null  float64\n",
      " 82  secondary_cleaner.state.floatbank5_b_air            14148 non-null  float64\n",
      " 83  secondary_cleaner.state.floatbank5_b_level          14148 non-null  float64\n",
      " 84  secondary_cleaner.state.floatbank6_a_air            14147 non-null  float64\n",
      " 85  secondary_cleaner.state.floatbank6_a_level          14148 non-null  float64\n",
      "dtypes: float64(86)\n",
      "memory usage: 9.3 MB\n",
      "<class 'pandas.core.frame.DataFrame'>\n",
      "Int64Index: 5290 entries, 0 to 5289\n",
      "Data columns (total 54 columns):\n",
      " #   Column                                      Non-Null Count  Dtype  \n",
      "---  ------                                      --------------  -----  \n",
      " 0   primary_cleaner.input.sulfate               5286 non-null   float64\n",
      " 1   primary_cleaner.input.depressant            5285 non-null   float64\n",
      " 2   primary_cleaner.input.feed_size             5290 non-null   float64\n",
      " 3   primary_cleaner.input.xanthate              5286 non-null   float64\n",
      " 4   primary_cleaner.state.floatbank8_a_air      5290 non-null   float64\n",
      " 5   primary_cleaner.state.floatbank8_a_level    5290 non-null   float64\n",
      " 6   primary_cleaner.state.floatbank8_b_air      5290 non-null   float64\n",
      " 7   primary_cleaner.state.floatbank8_b_level    5290 non-null   float64\n",
      " 8   primary_cleaner.state.floatbank8_c_air      5290 non-null   float64\n",
      " 9   primary_cleaner.state.floatbank8_c_level    5290 non-null   float64\n",
      " 10  primary_cleaner.state.floatbank8_d_air      5290 non-null   float64\n",
      " 11  primary_cleaner.state.floatbank8_d_level    5290 non-null   float64\n",
      " 12  rougher.input.feed_ag                       5290 non-null   float64\n",
      " 13  rougher.input.feed_pb                       5290 non-null   float64\n",
      " 14  rougher.input.feed_rate                     5287 non-null   float64\n",
      " 15  rougher.input.feed_size                     5289 non-null   float64\n",
      " 16  rougher.input.feed_sol                      5269 non-null   float64\n",
      " 17  rougher.input.feed_au                       5290 non-null   float64\n",
      " 18  rougher.input.floatbank10_sulfate           5285 non-null   float64\n",
      " 19  rougher.input.floatbank10_xanthate          5290 non-null   float64\n",
      " 20  rougher.input.floatbank11_sulfate           5282 non-null   float64\n",
      " 21  rougher.input.floatbank11_xanthate          5265 non-null   float64\n",
      " 22  rougher.state.floatbank10_a_air             5290 non-null   float64\n",
      " 23  rougher.state.floatbank10_a_level           5290 non-null   float64\n",
      " 24  rougher.state.floatbank10_b_air             5290 non-null   float64\n",
      " 25  rougher.state.floatbank10_b_level           5290 non-null   float64\n",
      " 26  rougher.state.floatbank10_c_air             5290 non-null   float64\n",
      " 27  rougher.state.floatbank10_c_level           5290 non-null   float64\n",
      " 28  rougher.state.floatbank10_d_air             5290 non-null   float64\n",
      " 29  rougher.state.floatbank10_d_level           5290 non-null   float64\n",
      " 30  rougher.state.floatbank10_e_air             5290 non-null   float64\n",
      " 31  rougher.state.floatbank10_e_level           5290 non-null   float64\n",
      " 32  rougher.state.floatbank10_f_air             5290 non-null   float64\n",
      " 33  rougher.state.floatbank10_f_level           5290 non-null   float64\n",
      " 34  secondary_cleaner.state.floatbank2_a_air    5287 non-null   float64\n",
      " 35  secondary_cleaner.state.floatbank2_a_level  5290 non-null   float64\n",
      " 36  secondary_cleaner.state.floatbank2_b_air    5288 non-null   float64\n",
      " 37  secondary_cleaner.state.floatbank2_b_level  5290 non-null   float64\n",
      " 38  secondary_cleaner.state.floatbank3_a_air    5281 non-null   float64\n",
      " 39  secondary_cleaner.state.floatbank3_a_level  5290 non-null   float64\n",
      " 40  secondary_cleaner.state.floatbank3_b_air    5290 non-null   float64\n",
      " 41  secondary_cleaner.state.floatbank3_b_level  5290 non-null   float64\n",
      " 42  secondary_cleaner.state.floatbank4_a_air    5290 non-null   float64\n",
      " 43  secondary_cleaner.state.floatbank4_a_level  5290 non-null   float64\n",
      " 44  secondary_cleaner.state.floatbank4_b_air    5290 non-null   float64\n",
      " 45  secondary_cleaner.state.floatbank4_b_level  5290 non-null   float64\n",
      " 46  secondary_cleaner.state.floatbank5_a_air    5290 non-null   float64\n",
      " 47  secondary_cleaner.state.floatbank5_a_level  5290 non-null   float64\n",
      " 48  secondary_cleaner.state.floatbank5_b_air    5290 non-null   float64\n",
      " 49  secondary_cleaner.state.floatbank5_b_level  5290 non-null   float64\n",
      " 50  secondary_cleaner.state.floatbank6_a_air    5290 non-null   float64\n",
      " 51  secondary_cleaner.state.floatbank6_a_level  5290 non-null   float64\n",
      " 52  rougher.output.recovery                     5290 non-null   float64\n",
      " 53  final.output.recovery                       5290 non-null   float64\n",
      "dtypes: float64(54)\n",
      "memory usage: 2.2 MB\n"
     ]
    }
   ],
   "source": [
    "data_train = data_train.drop('date', axis=1)\n",
    "data_test = data_test.drop('date', axis=1)\n",
    "data_train.info()\n",
    "data_test.info()"
   ]
  },
  {
   "cell_type": "markdown",
   "metadata": {},
   "source": [
    "Проверим датафреймы на полные дубликаты и пропуски. Запоолним пропуски методом ffill, который заполняет пропуски предыдущим значением соответсвующего признака.  "
   ]
  },
  {
   "cell_type": "code",
   "execution_count": 21,
   "metadata": {},
   "outputs": [
    {
     "name": "stdout",
     "output_type": "stream",
     "text": [
      "secondary_cleaner.output.tail_sol           1605\n",
      "rougher.state.floatbank10_e_air              436\n",
      "rougher.input.floatbank11_xanthate           428\n",
      "primary_cleaner.output.concentrate_sol       286\n",
      "secondary_cleaner.state.floatbank2_a_air     217\n",
      "final.output.concentrate_sol                 211\n",
      "rougher.input.feed_size                      144\n",
      "rougher.input.feed_pb                        100\n",
      "final.output.tail_pb                         100\n",
      "primary_cleaner.input.xanthate               100\n",
      "dtype: int64\n",
      "rougher.input.floatbank11_xanthate          25\n",
      "rougher.input.feed_sol                      21\n",
      "secondary_cleaner.state.floatbank3_a_air     9\n",
      "rougher.input.floatbank11_sulfate            8\n",
      "primary_cleaner.input.depressant             5\n",
      "rougher.input.floatbank10_sulfate            5\n",
      "primary_cleaner.input.sulfate                4\n",
      "primary_cleaner.input.xanthate               4\n",
      "rougher.input.feed_rate                      3\n",
      "secondary_cleaner.state.floatbank2_a_air     3\n",
      "dtype: int64\n",
      "secondary_cleaner.output.tail_sol           1748\n",
      "rougher.input.floatbank11_xanthate           453\n",
      "rougher.state.floatbank10_e_air              436\n",
      "primary_cleaner.output.concentrate_sol       370\n",
      "secondary_cleaner.state.floatbank2_a_air     220\n",
      "final.output.concentrate_sol                 211\n",
      "rougher.input.feed_size                      145\n",
      "primary_cleaner.output.concentrate_pb        116\n",
      "primary_cleaner.input.xanthate               104\n",
      "final.output.tail_pb                         101\n",
      "dtype: int64\n",
      "\n",
      "\n",
      "0\n",
      "0\n",
      "0\n"
     ]
    }
   ],
   "source": [
    "print(data_train.isna().sum().sort_values(ascending=False).head(10))\n",
    "print(data_test.isna().sum().sort_values(ascending=False).head(10))\n",
    "print(data_full.isna().sum().sort_values(ascending=False).head(10))\n",
    "print('')\n",
    "data_train = data_train.ffill(axis=0)\n",
    "data_test = data_test.ffill(axis=0)\n",
    "data_full = data_full.ffill(axis=0)\n",
    "print('')\n",
    "print(data_train.isna().sum().sum())\n",
    "print(data_test.isna().sum().sum())\n",
    "print(data_full.isna().sum().sum())"
   ]
  },
  {
   "cell_type": "markdown",
   "metadata": {},
   "source": [
    "## Анализ данных"
   ]
  },
  {
   "cell_type": "markdown",
   "metadata": {},
   "source": [
    "Посмотрим, как меняется концентрация металлов (Au, Ag, Pb) на различных этапах очистки. Построим соответсвующие гистограммы."
   ]
  },
  {
   "cell_type": "code",
   "execution_count": 22,
   "metadata": {},
   "outputs": [
    {
     "data": {
      "image/png": "[encoded data removed]",
      "text/plain": [
       "<Figure size 1080x576 with 1 Axes>"
      ]
     },
     "metadata": {
      "needs_background": "light"
     },
     "output_type": "display_data"
    },
    {
     "data": {
      "image/png": "[encoded data removed]",
      "text/plain": [
       "<Figure size 1080x576 with 1 Axes>"
      ]
     },
     "metadata": {
      "needs_background": "light"
     },
     "output_type": "display_data"
    },
    {
     "data": {
      "image/png": "[encoded data removed]",
      "text/plain": [
       "<Figure size 1080x576 with 1 Axes>"
      ]
     },
     "metadata": {
      "needs_background": "light"
     },
     "output_type": "display_data"
    }
   ],
   "source": [
    "plt.figure(figsize=[15, 8])\n",
    "plt.title('График распределения концентрации золота на различных этапах очистки', fontsize=15)\n",
    "plt.hist(data_train['rougher.input.feed_au'], bins=30, color = 'c', alpha = 0.7,\\\n",
    "         label='Концентрация перед этапом флотации', ec='black')\n",
    "plt.hist(data_train['rougher.output.concentrate_au'], bins=50, color = 'm', alpha = 0.7,\\\n",
    "         label='Концентрация после этапа флотации', ec='black')\n",
    "plt.hist(data_train['primary_cleaner.output.concentrate_au'], bins=50, color = 'g', alpha = 0.7,\\\n",
    "         label='Концентрация после этапа первичной очистки', ec='black')\n",
    "plt.hist(data_train['final.output.concentrate_au'], bins=50, color = 'y', alpha = 0.7,\\\n",
    "         label='Финальная концетрация', ec='black')\n",
    "plt.xlabel('Концентрация металла')\n",
    "plt.ylabel('Количество наблюдений')\n",
    "plt.legend()\n",
    "plt.show()\n",
    "plt.figure(figsize=[15, 8])\n",
    "plt.title('График распределения концентрации серебра на различных этапах очистки', fontsize=15)\n",
    "plt.hist(data_train['rougher.input.feed_ag'], bins=30, color = 'c', alpha = 0.7,\\\n",
    "         label='Концентрация перед этапом флотации', ec='black')\n",
    "plt.hist(data_train['rougher.output.concentrate_ag'], bins=50, color = 'm', alpha = 0.7\\\n",
    "         , label='Концентрация после этапа флотации', ec='black')\n",
    "plt.hist(data_train['primary_cleaner.output.concentrate_ag'], bins=50, color = 'g', alpha = 0.7\\\n",
    "         , label='Концентрация после этапа первичной очистки', ec='black')\n",
    "plt.hist(data_train['final.output.concentrate_ag'], bins=50, color = 'y', alpha = 0.5\\\n",
    "         , label='Финальная концетрация', ec='black')\n",
    "plt.xlabel('Концентрация металла')\n",
    "plt.ylabel('Количество наблюдений')\n",
    "plt.legend()\n",
    "plt.show()\n",
    "plt.figure(figsize=[15, 8])\n",
    "plt.title('График распределения концентрации свинца на различных этапах очистки', fontsize=15)\n",
    "plt.hist(data_train['rougher.input.feed_pb'], bins=50, color = 'c', alpha = 0.7,\\\n",
    "         label='Концентрация перед этапом флотации', ec='black')\n",
    "plt.hist(data_train['rougher.output.concentrate_pb'], bins=50, color = 'm', alpha = 0.7,\\\n",
    "         label='Концентрация после этапа флотации', ec='black')\n",
    "plt.hist(data_train['primary_cleaner.output.concentrate_pb'], bins=50, color = 'g', alpha = 0.7,\\\n",
    "         label='Концентрация после этапа первичной очистки', ec='black')\n",
    "plt.hist(data_train['final.output.concentrate_pb'], bins=50, color = 'y', alpha = 0.7,\\\n",
    "         label='Финальная концетрация', ec='black')\n",
    "plt.xlabel('Концентрация')\n",
    "plt.ylabel('Количество наблюдений')\n",
    "plt.legend()\n",
    "plt.show()"
   ]
  },
  {
   "cell_type": "markdown",
   "metadata": {},
   "source": [
    "1. Концентрация золота растет с каждым этапом, что логично, учитывая, что смысл процесса в получении чистого золота.\n",
    "2. Концентрация серебра увеличивается после флотации, но затем последовательно снижается.\n",
    "3. Концентрация свинца последовательно увеличивается, практически не изменяясь после первой очистки."
   ]
  },
  {
   "cell_type": "markdown",
   "metadata": {},
   "source": [
    "Сравним распределения размеров гранул сырья на обучающей и тестовой выборках.  "
   ]
  },
  {
   "cell_type": "code",
   "execution_count": 23,
   "metadata": {},
   "outputs": [
    {
     "data": {
      "image/png": "[encoded data removed]",
      "text/plain": [
       "<Figure size 1080x576 with 1 Axes>"
      ]
     },
     "metadata": {
      "needs_background": "light"
     },
     "output_type": "display_data"
    },
    {
     "data": {
      "image/png": "[encoded data removed]",
      "text/plain": [
       "<Figure size 1080x576 with 1 Axes>"
      ]
     },
     "metadata": {
      "needs_background": "light"
     },
     "output_type": "display_data"
    }
   ],
   "source": [
    "plt.figure(figsize=[15, 8])\n",
    "plt.title('Распределение размеров гранул на обучающей и тестовой выборки на этапе флотации', fontsize=15)\n",
    "plt.hist(data_train['rougher.input.feed_size'], bins=30, color = 'y', alpha = 0.7,\\\n",
    "         label='Тренировочная выборка', ec='black',\\\n",
    "         weights=data_train['primary_cleaner.input.feed_size']/len(data_train['primary_cleaner.input.feed_size']))\n",
    "plt.hist(data_test['rougher.input.feed_size'], bins=30, color = 'b', alpha = 0.7,\\\n",
    "         label='Тестовая выборка', ec='black',\\\n",
    "         weights=data_test['primary_cleaner.input.feed_size']/len(data_test['primary_cleaner.input.feed_size']))\n",
    "\n",
    "plt.xlabel('Размер гранул')\n",
    "plt.ylabel('Количество наблюдений')\n",
    "plt.legend()\n",
    "plt.xlim([0, 150])\n",
    "plt.show()\n",
    "\n",
    "plt.figure(figsize=[15, 8])\n",
    "plt.title('Распределение размеров гранул на обучающей и тестовой выборке на этапе первичной очистки', fontsize=15)\n",
    "plt.hist(data_train['primary_cleaner.input.feed_size'], bins=50, color = 'y', alpha = 0.7,\\\n",
    "         label='Тренировочная выборка', ec='black',\\\n",
    "         weights=data_train['primary_cleaner.input.feed_size']/len(data_train['primary_cleaner.input.feed_size']))\n",
    "plt.hist(data_test['primary_cleaner.input.feed_size'], bins=50, color = 'b', alpha = 0.7,\\\n",
    "         label='Тестовая выборка', ec='black',\\\n",
    "         weights=data_test['primary_cleaner.input.feed_size']/len(data_test['primary_cleaner.input.feed_size']))\n",
    "\n",
    "plt.xlabel('Размер гранул')\n",
    "plt.ylabel('Количество наблюдений')\n",
    "plt.legend()\n",
    "plt.xlim([4, 12])\n",
    "plt.show()"
   ]
  },
  {
   "cell_type": "markdown",
   "metadata": {},
   "source": [
    "Видно, что распределение размеров гранул имеет похожую структуру. "
   ]
  },
  {
   "cell_type": "markdown",
   "metadata": {},
   "source": [
    "Исследуем суммарную концентрацию всех веществ на разных стадиях: в сырье, в черновом и финальном концентратах. "
   ]
  },
  {
   "cell_type": "code",
   "execution_count": 24,
   "metadata": {},
   "outputs": [
    {
     "data": {
      "image/png": "[encoded data removed]",
      "text/plain": [
       "<Figure size 1080x576 with 1 Axes>"
      ]
     },
     "metadata": {
      "needs_background": "light"
     },
     "output_type": "display_data"
    }
   ],
   "source": [
    "concentrate_of_rougher_input = data_train['rougher.input.feed_ag'] + data_train['rougher.input.feed_au']\\\n",
    "+ data_train['rougher.input.feed_pb'] + data_train['rougher.input.feed_sol']\n",
    "concentrate_of_rougher_output = data_train['rougher.output.concentrate_ag']\\\n",
    "+ data_train['rougher.output.concentrate_au'] + data_train['rougher.output.concentrate_pb']\\\n",
    "+ data_train['rougher.output.concentrate_sol']\n",
    "concentrate_of_primary_cleaner_output = data_train['primary_cleaner.output.concentrate_ag']\\\n",
    "+ data_train['primary_cleaner.output.concentrate_au'] + data_train['primary_cleaner.output.concentrate_pb']\\\n",
    "+ data_train['primary_cleaner.output.concentrate_sol']\n",
    "concentrate_of_final_output = data_train['final.output.concentrate_ag'] + data_train['final.output.concentrate_au']\\\n",
    "+ data_train['final.output.concentrate_pb'] + data_train['final.output.concentrate_sol']\n",
    "\n",
    "plt.figure(figsize=[15, 8])\n",
    "plt.title('График суммарной концентрации веществ на разных стадиях', fontsize=15)\n",
    "plt.hist(concentrate_of_rougher_input, bins=80, color = 'c', alpha = 0.7\\\n",
    "         , label='Концентрация перед этапом флотации', ec='black')\n",
    "plt.hist(concentrate_of_rougher_output, bins=80, color = 'm', alpha = 0.7\\\n",
    "         , label='Концентрация после этапа флотации', ec='black')\n",
    "plt.hist(concentrate_of_primary_cleaner_output, bins=80, color = 'g', alpha = 0.7\\\n",
    "         , label='Концентрация после этапа первичной очистки', ec='black')\n",
    "plt.hist(concentrate_of_final_output, bins=80, color = 'y', alpha = 0.7\\\n",
    "         , label='Финальная концетрация', ec='black')\n",
    "plt.xlabel('Концентрация')\n",
    "plt.ylabel('Количество наблюдений')\n",
    "plt.legend()\n",
    "plt.show()"
   ]
  },
  {
   "cell_type": "markdown",
   "metadata": {},
   "source": [
    "<font color='green'>Сделал</font>"
   ]
  },
  {
   "cell_type": "markdown",
   "metadata": {},
   "source": [
    "Видно, что суммарная концентрация веществ растет после флотации, затем немного снижается после первичной очистки, и далее растет после финальной очистки, при этом распределение финальной концентрации находится в наименьшем диапазоне. \n",
    "\n",
    "Кроме того, выявлено довольно много нулевых значений, которые следует удалить, чтобы исключить негативное влияние на качество обучения моделей. "
   ]
  },
  {
   "cell_type": "code",
   "execution_count": 25,
   "metadata": {},
   "outputs": [
    {
     "name": "stdout",
     "output_type": "stream",
     "text": [
      "(13716, 86)\n"
     ]
    }
   ],
   "source": [
    "data_train = data_train[(data_train['rougher.input.feed_au'] != 0)\\\n",
    "                        & (data_train['rougher.input.feed_ag'] != 0)\\\n",
    "                        & (data_train['rougher.input.feed_pb'] != 0)\\\n",
    "                        & (data_train['rougher.input.feed_sol'] != 0)]\n",
    "data_train = data_train[(data_train['rougher.output.concentrate_au'] != 0)\\\n",
    "                        & (data_train['rougher.output.concentrate_ag'] != 0)\\\n",
    "                        & (data_train['rougher.output.concentrate_pb'] != 0)\\\n",
    "                        & (data_train['rougher.output.concentrate_sol'] != 0)]\n",
    "data_train = data_train[(data_train['primary_cleaner.output.concentrate_au'] != 0)\\\n",
    "                        & (data_train['primary_cleaner.output.concentrate_au'] != 0)\\\n",
    "                        & (data_train['primary_cleaner.output.concentrate_pb'] != 0)\\\n",
    "                        & (data_train['primary_cleaner.output.concentrate_sol'] != 0)]\n",
    "data_train = data_train[(data_train['final.output.concentrate_au'] != 0) &\\\n",
    "                        (data_train['final.output.concentrate_ag'] != 0) &\\\n",
    "                        (data_train['final.output.concentrate_pb'] != 0) &\\\n",
    "                        (data_train['final.output.concentrate_sol'] != 0)]\n",
    "\n",
    "print(data_train.shape)"
   ]
  },
  {
   "cell_type": "code",
   "execution_count": 26,
   "metadata": {},
   "outputs": [
    {
     "name": "stdout",
     "output_type": "stream",
     "text": [
      "3.0602869460739313\n"
     ]
    }
   ],
   "source": [
    "print((1-len(data_train)/14149)*100)"
   ]
  },
  {
   "cell_type": "markdown",
   "metadata": {},
   "source": [
    "После удаления, количетсво строк уменьшилось с 14149 до 13716, то есть снижение составило около 3%, что допустимо и не критично. <font color='green'>Добавил расчет процента удаленных значений</font>"
   ]
  },
  {
   "cell_type": "markdown",
   "metadata": {},
   "source": [
    "## Модель"
   ]
  },
  {
   "cell_type": "markdown",
   "metadata": {},
   "source": [
    "### Напишем функцию для вычисления sMAPE"
   ]
  },
  {
   "cell_type": "markdown",
   "metadata": {},
   "source": [
    "<font color='green'>Формула указана в условии.</font>"
   ]
  },
  {
   "cell_type": "code",
   "execution_count": 27,
   "metadata": {},
   "outputs": [],
   "source": [
    "def smape(target, predict):\n",
    "    smape = (1/len(target))*sum((abs(target - predict))/((abs(target)+abs(predict))/2))*100\n",
    "    return smape"
   ]
  },
  {
   "cell_type": "markdown",
   "metadata": {},
   "source": [
    "<font color='green'>создадим метрику на основе функции sMAPE для использования оценки качества в кросс-валидации.</font>"
   ]
  },
  {
   "cell_type": "code",
   "execution_count": 28,
   "metadata": {},
   "outputs": [],
   "source": [
    "smape_scorer = make_scorer(smape, greater_is_better = False)"
   ]
  },
  {
   "cell_type": "markdown",
   "metadata": {},
   "source": [
    "<font color='green'>Далее будет модель GridSearchCV</font>"
   ]
  },
  {
   "cell_type": "markdown",
   "metadata": {},
   "source": [
    "Напишем функцию для вычисления итогового sMAPE\n",
    "<font color='green'>Формула указана в условии.</font>"
   ]
  },
  {
   "cell_type": "code",
   "execution_count": 29,
   "metadata": {},
   "outputs": [],
   "source": [
    "def final_smape(rougher, final):\n",
    "    final_smape = 0.25*rougher+0.75*final\n",
    "    return final_smape"
   ]
  },
  {
   "cell_type": "markdown",
   "metadata": {},
   "source": [
    "Удалим из тренировочной выборки признаки, которых нет в тестовой выборке для повышения качества обучения модели.<font color='green'>Применил другой способ удаления лишних признаков</font>"
   ]
  },
  {
   "cell_type": "code",
   "execution_count": 30,
   "metadata": {
    "collapsed": true
   },
   "outputs": [
    {
     "name": "stdout",
     "output_type": "stream",
     "text": [
      "(13716, 54)\n",
      "Index(['final.output.recovery', 'primary_cleaner.input.sulfate',\n",
      "       'primary_cleaner.input.depressant', 'primary_cleaner.input.feed_size',\n",
      "       'primary_cleaner.input.xanthate',\n",
      "       'primary_cleaner.state.floatbank8_a_air',\n",
      "       'primary_cleaner.state.floatbank8_a_level',\n",
      "       'primary_cleaner.state.floatbank8_b_air',\n",
      "       'primary_cleaner.state.floatbank8_b_level',\n",
      "       'primary_cleaner.state.floatbank8_c_air',\n",
      "       'primary_cleaner.state.floatbank8_c_level',\n",
      "       'primary_cleaner.state.floatbank8_d_air',\n",
      "       'primary_cleaner.state.floatbank8_d_level', 'rougher.input.feed_ag',\n",
      "       'rougher.input.feed_pb', 'rougher.input.feed_rate',\n",
      "       'rougher.input.feed_size', 'rougher.input.feed_sol',\n",
      "       'rougher.input.feed_au', 'rougher.input.floatbank10_sulfate',\n",
      "       'rougher.input.floatbank10_xanthate',\n",
      "       'rougher.input.floatbank11_sulfate',\n",
      "       'rougher.input.floatbank11_xanthate', 'rougher.output.recovery',\n",
      "       'rougher.state.floatbank10_a_air', 'rougher.state.floatbank10_a_level',\n",
      "       'rougher.state.floatbank10_b_air', 'rougher.state.floatbank10_b_level',\n",
      "       'rougher.state.floatbank10_c_air', 'rougher.state.floatbank10_c_level',\n",
      "       'rougher.state.floatbank10_d_air', 'rougher.state.floatbank10_d_level',\n",
      "       'rougher.state.floatbank10_e_air', 'rougher.state.floatbank10_e_level',\n",
      "       'rougher.state.floatbank10_f_air', 'rougher.state.floatbank10_f_level',\n",
      "       'secondary_cleaner.state.floatbank2_a_air',\n",
      "       'secondary_cleaner.state.floatbank2_a_level',\n",
      "       'secondary_cleaner.state.floatbank2_b_air',\n",
      "       'secondary_cleaner.state.floatbank2_b_level',\n",
      "       'secondary_cleaner.state.floatbank3_a_air',\n",
      "       'secondary_cleaner.state.floatbank3_a_level',\n",
      "       'secondary_cleaner.state.floatbank3_b_air',\n",
      "       'secondary_cleaner.state.floatbank3_b_level',\n",
      "       'secondary_cleaner.state.floatbank4_a_air',\n",
      "       'secondary_cleaner.state.floatbank4_a_level',\n",
      "       'secondary_cleaner.state.floatbank4_b_air',\n",
      "       'secondary_cleaner.state.floatbank4_b_level',\n",
      "       'secondary_cleaner.state.floatbank5_a_air',\n",
      "       'secondary_cleaner.state.floatbank5_a_level',\n",
      "       'secondary_cleaner.state.floatbank5_b_air',\n",
      "       'secondary_cleaner.state.floatbank5_b_level',\n",
      "       'secondary_cleaner.state.floatbank6_a_air',\n",
      "       'secondary_cleaner.state.floatbank6_a_level'],\n",
      "      dtype='object')\n"
     ]
    }
   ],
   "source": [
    "for_remove = ['final.output.recovery','rougher.output.recovery']\n",
    "for i in for_remove: \n",
    "    data_del.remove(i)\n",
    "\n",
    "data_train.drop(data_del, axis=1, inplace=True)\n",
    "print(data_train.shape)\n",
    "print(data_train.columns)"
   ]
  },
  {
   "cell_type": "markdown",
   "metadata": {},
   "source": [
    "Разделим тренировочную выборку на выборку с признаками и 2 целевых признака. "
   ]
  },
  {
   "cell_type": "code",
   "execution_count": 31,
   "metadata": {},
   "outputs": [],
   "source": [
    "features_train = data_train.drop(['rougher.output.recovery','final.output.recovery'], axis=1)\n",
    "target_rougher_train = data_train['rougher.output.recovery']\n",
    "target_final_train = data_train['final.output.recovery']"
   ]
  },
  {
   "cell_type": "markdown",
   "metadata": {},
   "source": [
    "### Далее обучим модели 3 видов и оценим их качество с помощью кросс-валидации, где в качестве метрики качества будет final_smape\n"
   ]
  },
  {
   "cell_type": "markdown",
   "metadata": {},
   "source": [
    "Первой протестируем модель линейной регрессии."
   ]
  },
  {
   "cell_type": "code",
   "execution_count": 32,
   "metadata": {},
   "outputs": [
    {
     "name": "stdout",
     "output_type": "stream",
     "text": [
      "10.02312452485542\n",
      "CPU times: user 883 ms, sys: 2.07 s, total: 2.95 s\n",
      "Wall time: 2.92 s\n"
     ]
    }
   ],
   "source": [
    "%%time\n",
    "model_lr_rougher = LinearRegression()\n",
    "smape_rougher = cross_val_score(model_lr_rougher, features_train, target_rougher_train, scoring=smape_scorer,cv=5)\n",
    "final_smape_rougher = smape_rougher.mean()\n",
    "model_lr_final = LinearRegression()\n",
    "smape_final = cross_val_score(model_lr_final, features_train, target_final_train, scoring=smape_scorer, cv=5)\n",
    "final_smape_final = smape_final.mean()\n",
    "result_smape_lr = final_smape(final_smape_rougher, final_smape_final)*(-1)\n",
    "print(result_smape_lr)"
   ]
  },
  {
   "cell_type": "markdown",
   "metadata": {},
   "source": [
    "Получили очень быстрое вычисление и оценку качества около 10.02"
   ]
  },
  {
   "cell_type": "markdown",
   "metadata": {},
   "source": [
    "Далее протестируем модель дерева решений с перебором гиперпараметра глубины.\n"
   ]
  },
  {
   "cell_type": "code",
   "execution_count": 33,
   "metadata": {},
   "outputs": [
    {
     "name": "stdout",
     "output_type": "stream",
     "text": [
      "10.274427578573517 4 1\n",
      "CPU times: user 32.5 s, sys: 203 ms, total: 32.7 s\n",
      "Wall time: 32.8 s\n"
     ]
    }
   ],
   "source": [
    "%%time\n",
    "result_dt_rougher = 100\n",
    "param_dt_rougher = 0\n",
    "for n in range(1, 10, 1):\n",
    "    model_dt_rougher = DecisionTreeRegressor(max_depth=n, random_state=STATE)\n",
    "    smape_rougher = cross_val_score(model_dt_rougher, features_train, target_rougher_train, scoring=smape_scorer, cv=5, n_jobs=-1)\n",
    "    final_smape_rougher = abs(smape_rougher.mean())   \n",
    "    if final_smape_rougher < result_dt_rougher:\n",
    "        result_dt_rougher = final_smape_rougher\n",
    "        param_dt_rougher = n\n",
    "result_dt_final = 100\n",
    "param_dt_final = 0\n",
    "for n in range(1, 10, 1):\n",
    "    model_dt_final = DecisionTreeRegressor(max_depth=n, random_state=STATE)\n",
    "    smape_final = cross_val_score(model_dt_rougher, features_train, target_final_train, scoring=smape_scorer, cv=5, n_jobs=-1)\n",
    "    final_smape_final = abs(smape_final.mean())   \n",
    "    if final_smape_final < result_dt_final:\n",
    "        result_dt_final = final_smape_final\n",
    "        param_dt_final = n\n",
    "result_smape = final_smape(result_dt_rougher, result_dt_final)\n",
    "print(result_smape, param_dt_rougher, param_dt_final)"
   ]
  },
  {
   "cell_type": "markdown",
   "metadata": {},
   "source": [
    "Получили значительно лучший результат, около 8.89, при этом выросло и время вычисления с 3 секунд до 24. Лучший результат при глубине 3, запомним это значение. <font color='green'>С 2 разными циклами результат получился значительно хуже - 10.27, даже хуже, чем с линейной регрессией. Посмотрим, что покажут другие модели</font>"
   ]
  },
  {
   "cell_type": "markdown",
   "metadata": {},
   "source": [
    "Далее протестируем модель случайного леса с перебором гиперпараметров количества деревьев и глубины. <font color='green'>Здесь также попробуем заменить 1 цикл на два. </font>"
   ]
  },
  {
   "cell_type": "code",
   "execution_count": 34,
   "metadata": {},
   "outputs": [
    {
     "name": "stdout",
     "output_type": "stream",
     "text": [
      "8.438600925664765 [10, 4] [10, 4]\n",
      "CPU times: user 1min 33s, sys: 227 ms, total: 1min 33s\n",
      "Wall time: 1min 33s\n"
     ]
    }
   ],
   "source": [
    "%%time\n",
    "result_rf_rougher = 100\n",
    "params_rf_rougher = []\n",
    "for n in range(10, 30, 10):\n",
    "    for i in range(2,5,1):\n",
    "        model_rf_rougher = RandomForestRegressor(n_estimators=n, max_depth=i, random_state=STATE)\n",
    "        smape_rougher = cross_val_score(model_rf_rougher, features_train, target_rougher_train, scoring=smape_scorer, cv=5, n_jobs=-1)\n",
    "        final_smape_rougher = abs(smape_rougher.mean())   \n",
    "        if final_smape_rougher < result_rf_rougher:\n",
    "            result_rf_rougher = final_smape_rougher\n",
    "            params_rf_rougher = [n,i]\n",
    "result_rf_final = 100\n",
    "params_rf_final = []\n",
    "for n in range(10, 30, 10):\n",
    "    for i in range(2,5,1):\n",
    "        model_rf_final = RandomForestRegressor(n_estimators=n, max_depth=i, random_state=STATE)\n",
    "        smape_final = cross_val_score(model_rf_final, features_train, target_final_train, scoring=smape_scorer, cv=5, n_jobs=-1)\n",
    "        final_smape_final = abs(smape_final.mean())\n",
    "        if final_smape_final < result_rf_final:\n",
    "            result_rf_final = final_smape_final\n",
    "            params_rf_final = [n,i]\n",
    "result_smape = final_smape(result_rf_rougher, result_rf_final)\n",
    "print(result_smape, params_rf_rougher, params_rf_final)"
   ]
  },
  {
   "cell_type": "markdown",
   "metadata": {},
   "source": [
    "<font color='blue'><b>Комментарий ревьюера: </b></font> ✔️\\\n",
    "<font color='green'>👍</font>"
   ]
  },
  {
   "cell_type": "markdown",
   "metadata": {},
   "source": [
    "Получили еще более низкое (а значит лучшее) значение оценки, около 8.44. Время увеличилось до 1,5 минут. Гиперпараметры для лучшего результата - количество деревьев - 10, максимальная глубина - 4. <font color='green'>Здесь результат остался таким же, если не объединять обучение обеих моелей в 1 цикл. Здесь лучшее значение метрики,  параметры для обучения модели с разными целевыми признаками одинаковые - количество деревьев 10, глубина - 4,</font>"
   ]
  },
  {
   "cell_type": "markdown",
   "metadata": {},
   "source": [
    "<font color='green'>Протестируем модель Lasso. Решил добавить, а вдруг, учитывая мультиколлинеарность, должна быть лучше обычной модели линейной регрессии?</font>"
   ]
  },
  {
   "cell_type": "code",
   "execution_count": 35,
   "metadata": {},
   "outputs": [
    {
     "name": "stderr",
     "output_type": "stream",
     "text": [
      "/opt/conda/lib/python3.9/site-packages/sklearn/linear_model/_coordinate_descent.py:526: ConvergenceWarning: Objective did not converge. You might want to increase the number of iterations. Duality gap: 87.9934107864392, tolerance: 36.13972374231923\n",
      "  model = cd_fast.enet_coordinate_descent_gram(\n",
      "/opt/conda/lib/python3.9/site-packages/sklearn/linear_model/_coordinate_descent.py:526: ConvergenceWarning: Objective did not converge. You might want to increase the number of iterations. Duality gap: 1444.1030639429518, tolerance: 45.919876975164975\n",
      "  model = cd_fast.enet_coordinate_descent_gram(\n"
     ]
    },
    {
     "name": "stdout",
     "output_type": "stream",
     "text": [
      "-6.615347644700881 {'n_alphas': 21}\n"
     ]
    },
    {
     "name": "stderr",
     "output_type": "stream",
     "text": [
      "/opt/conda/lib/python3.9/site-packages/sklearn/linear_model/_coordinate_descent.py:526: ConvergenceWarning: Objective did not converge. You might want to increase the number of iterations. Duality gap: 141.91347772191511, tolerance: 78.32150972237928\n",
      "  model = cd_fast.enet_coordinate_descent_gram(\n",
      "/opt/conda/lib/python3.9/site-packages/sklearn/linear_model/_coordinate_descent.py:526: ConvergenceWarning: Objective did not converge. You might want to increase the number of iterations. Duality gap: 654.0032556940569, tolerance: 77.30124174260406\n",
      "  model = cd_fast.enet_coordinate_descent_gram(\n",
      "/opt/conda/lib/python3.9/site-packages/sklearn/linear_model/_coordinate_descent.py:526: ConvergenceWarning: Objective did not converge. You might want to increase the number of iterations. Duality gap: 279.2331231936114, tolerance: 75.89444830991579\n",
      "  model = cd_fast.enet_coordinate_descent_gram(\n",
      "/opt/conda/lib/python3.9/site-packages/sklearn/linear_model/_coordinate_descent.py:526: ConvergenceWarning: Objective did not converge. You might want to increase the number of iterations. Duality gap: 1159.195824408438, tolerance: 76.03147000811465\n",
      "  model = cd_fast.enet_coordinate_descent_gram(\n",
      "/opt/conda/lib/python3.9/site-packages/sklearn/linear_model/_coordinate_descent.py:526: ConvergenceWarning: Objective did not converge. You might want to increase the number of iterations. Duality gap: 126.74247777287383, tolerance: 77.30124174260406\n",
      "  model = cd_fast.enet_coordinate_descent_gram(\n",
      "/opt/conda/lib/python3.9/site-packages/sklearn/linear_model/_coordinate_descent.py:526: ConvergenceWarning: Objective did not converge. You might want to increase the number of iterations. Duality gap: 157.91256315720966, tolerance: 77.30124174260406\n",
      "  model = cd_fast.enet_coordinate_descent_gram(\n",
      "/opt/conda/lib/python3.9/site-packages/sklearn/linear_model/_coordinate_descent.py:526: ConvergenceWarning: Objective did not converge. You might want to increase the number of iterations. Duality gap: 107.33687523979461, tolerance: 76.03147000811465\n",
      "  model = cd_fast.enet_coordinate_descent_gram(\n",
      "/opt/conda/lib/python3.9/site-packages/sklearn/linear_model/_coordinate_descent.py:526: ConvergenceWarning: Objective did not converge. You might want to increase the number of iterations. Duality gap: 99.41338004625868, tolerance: 76.03147000811465\n",
      "  model = cd_fast.enet_coordinate_descent_gram(\n"
     ]
    },
    {
     "name": "stdout",
     "output_type": "stream",
     "text": [
      "-9.403810069791124 {'n_alphas': 61}\n",
      "8.706694463518563\n",
      "CPU times: user 32.4 s, sys: 1min 4s, total: 1min 37s\n",
      "Wall time: 1min 37s\n"
     ]
    }
   ],
   "source": [
    "%%time\n",
    "scaler = StandardScaler()\n",
    "features_train = scaler.fit_transform(features_train)\n",
    "param = {\n",
    "     'n_alphas': range(1, 100, 20)\n",
    "    }\n",
    "model = LassoCV(random_state=STATE)\n",
    "search = GridSearchCV(model, param, scoring=smape_scorer, n_jobs=-1, cv=5)\n",
    "result = search.fit(features_train, target_rougher_train)\n",
    "print(result.best_score_, result.best_params_)\n",
    "final_smape_rougher = result.best_score_\n",
    "result = search.fit(features_train, target_final_train)\n",
    "print(result.best_score_, result.best_params_)\n",
    "final_smape_final = result.best_score_\n",
    "result_smape_l = final_smape(final_smape_rougher, final_smape_final)*(-1)\n",
    "print(result_smape_l)\n"
   ]
  },
  {
   "cell_type": "markdown",
   "metadata": {},
   "source": [
    "<font color='green'>Получили результат 8.71, что немного хуже, чем результат случайного леса.\n",
    "Таким образом, лучшие результаты у модели случайного леса</font>"
   ]
  },
  {
   "cell_type": "markdown",
   "metadata": {},
   "source": [
    "Применим модель случайного леса с полученными параметрами для тестовой выборки."
   ]
  },
  {
   "cell_type": "code",
   "execution_count": 36,
   "metadata": {},
   "outputs": [],
   "source": [
    "features_test = data_test.drop(['rougher.output.recovery','final.output.recovery'], axis=1)\n",
    "target_rougher_test = data_test['rougher.output.recovery']\n",
    "target_final_test = data_test['final.output.recovery']"
   ]
  },
  {
   "cell_type": "code",
   "execution_count": null,
   "metadata": {},
   "outputs": [],
   "source": [
    "%%time\n",
    "model_test_rougher = RandomForestRegressor(n_estimators=10, max_depth=4)\n",
    "model_test_rougher.fit(features_train, target_rougher_train)\n",
    "predict_rougher = model_test_rougher.predict(features_test)\n",
    "model_test_final = RandomForestRegressor(n_estimators=10, max_depth=4)\n",
    "model_test_final.fit(features_train, target_final_train)\n",
    "predict_final = model_test_final.predict(features_test)\n",
    "smape_rougher_test = smape(target_rougher_test, predict_rougher)\n",
    "smape_final_test = smape(target_final_test, predict_final)\n",
    "final_smape_test = final_smape(smape_rougher_test, smape_final_test)\n",
    "print(final_smape_test)"
   ]
  },
  {
   "cell_type": "markdown",
   "metadata": {},
   "source": [
    "Получили результат около 9.27 на тестовой выборке. Теперь проверим модель на адекватность, испольуя константную модель DummyRegressor."
   ]
  },
  {
   "cell_type": "code",
   "execution_count": 38,
   "metadata": {},
   "outputs": [
    {
     "name": "stdout",
     "output_type": "stream",
     "text": [
      "9.82761382259758\n"
     ]
    }
   ],
   "source": [
    "model = DummyRegressor(strategy=\"mean\")\n",
    "model.fit(features_train, target_rougher_train)\n",
    "predicted_rougher = model.predict(features_test)\n",
    "smape_rougher = smape(target_rougher_test, predicted_rougher)\n",
    "\n",
    "model.fit(features_train, target_final_train)\n",
    "predicted_final = model.predict(features_test)\n",
    "smape_final = smape(target_final_test, predicted_final)\n",
    "\n",
    "dummy_final = final_smape(smape_rougher, smape_final)\n",
    "print(dummy_final)"
   ]
  },
  {
   "cell_type": "markdown",
   "metadata": {},
   "source": [
    "Модель прошла проверку на адекватность, так как константная модель дала результат 9.82, в то время как"
   ]
  },
  {
   "cell_type": "markdown",
   "metadata": {},
   "source": [
    "### Вывод"
   ]
  },
  {
   "cell_type": "markdown",
   "metadata": {},
   "source": [
    "1. Мы изучили и подготовили данные.\n",
    "2. Проанализировали данные.\n",
    "3. Построили различные модели прогнозирования. Лучше всего себя показала модель случайного леса, которая также прошла тест на адекватность."
   ]
  },
  {
   "cell_type": "markdown",
   "metadata": {},
   "source": [
    "## Чек-лист готовности проекта"
   ]
  },
  {
   "cell_type": "markdown",
   "metadata": {},
   "source": [
    "- [x]  Jupyter Notebook открыт\n",
    "- [x]  Весь код выполняется без ошибок\n",
    "- [x]  Ячейки с кодом расположены в порядке выполнения\n",
    "- [x]  Выполнен шаг 1: данные подготовлены\n",
    "    - [x]  Проверена формула вычисления эффективности обогащения\n",
    "    - [x]  Проанализированы признаки, недоступные в тестовой выборке\n",
    "    - [x]  Проведена предобработка данных\n",
    "- [x]  Выполнен шаг 2: данные проанализированы\n",
    "    - [x]  Исследовано изменение концентрации элементов на каждом этапе\n",
    "    - [x]  Проанализированы распределения размеров гранул на обучающей и тестовой выборках\n",
    "    - [x]  Исследованы суммарные концентрации\n",
    "- [x]  Выполнен шаг 3: построена модель прогнозирования\n",
    "    - [x]  Написана функция для вычисления итогового *sMAPE*\n",
    "    - [x]  Обучено и проверено несколько моделей\n",
    "    - [x]  Выбрана лучшая модель, её качество проверено на тестовой выборке"
   ]
  }
 ],
 "metadata": {
  "ExecuteTimeLog": [
   {
    "duration": 1605,
    "start_time": "2022-12-12T09:50:00.109Z"
   },
   {
    "duration": 2490,
    "start_time": "2022-12-12T09:50:55.473Z"
   },
   {
    "duration": 2850,
    "start_time": "2022-12-12T09:51:53.090Z"
   },
   {
    "duration": 32,
    "start_time": "2022-12-12T09:52:10.548Z"
   },
   {
    "duration": 40,
    "start_time": "2022-12-12T09:53:21.365Z"
   },
   {
    "duration": 278,
    "start_time": "2022-12-12T09:53:35.604Z"
   },
   {
    "duration": 248,
    "start_time": "2022-12-12T09:53:44.304Z"
   },
   {
    "duration": 284,
    "start_time": "2022-12-12T09:54:00.693Z"
   },
   {
    "duration": 1728,
    "start_time": "2022-12-12T09:54:14.945Z"
   },
   {
    "duration": 853,
    "start_time": "2022-12-12T09:54:16.675Z"
   },
   {
    "duration": 444,
    "start_time": "2022-12-12T09:54:17.530Z"
   },
   {
    "duration": 259,
    "start_time": "2022-12-12T09:54:29.342Z"
   },
   {
    "duration": 63,
    "start_time": "2022-12-12T09:54:45.892Z"
   },
   {
    "duration": 49,
    "start_time": "2022-12-12T09:54:57.245Z"
   },
   {
    "duration": 853,
    "start_time": "2022-12-12T09:55:00.109Z"
   },
   {
    "duration": 72,
    "start_time": "2022-12-12T09:55:01.672Z"
   },
   {
    "duration": 1547,
    "start_time": "2022-12-12T09:55:06.920Z"
   },
   {
    "duration": 815,
    "start_time": "2022-12-12T09:55:08.470Z"
   },
   {
    "duration": 69,
    "start_time": "2022-12-12T09:55:09.286Z"
   },
   {
    "duration": 403,
    "start_time": "2022-12-12T09:55:14.365Z"
   },
   {
    "duration": 258,
    "start_time": "2022-12-12T09:56:46.241Z"
   },
   {
    "duration": 20,
    "start_time": "2022-12-12T09:56:58.053Z"
   },
   {
    "duration": 224,
    "start_time": "2022-12-12T09:56:59.369Z"
   },
   {
    "duration": 9,
    "start_time": "2022-12-12T09:57:11.060Z"
   },
   {
    "duration": 11,
    "start_time": "2022-12-12T09:57:20.309Z"
   },
   {
    "duration": 5,
    "start_time": "2022-12-12T09:58:06.790Z"
   },
   {
    "duration": 27,
    "start_time": "2022-12-12T09:58:54.186Z"
   },
   {
    "duration": 9,
    "start_time": "2022-12-12T09:59:00.949Z"
   },
   {
    "duration": 22,
    "start_time": "2022-12-12T09:59:06.132Z"
   },
   {
    "duration": 157,
    "start_time": "2022-12-12T09:59:19.081Z"
   },
   {
    "duration": 4,
    "start_time": "2022-12-12T09:59:38.000Z"
   },
   {
    "duration": 29,
    "start_time": "2022-12-12T09:59:58.400Z"
   },
   {
    "duration": 281,
    "start_time": "2022-12-12T10:00:19.512Z"
   },
   {
    "duration": 5,
    "start_time": "2022-12-12T10:00:44.429Z"
   },
   {
    "duration": 2,
    "start_time": "2022-12-12T10:01:03.313Z"
   },
   {
    "duration": 3,
    "start_time": "2022-12-12T10:01:05.044Z"
   },
   {
    "duration": 2,
    "start_time": "2022-12-12T10:07:27.644Z"
   },
   {
    "duration": 16,
    "start_time": "2022-12-12T10:07:39.451Z"
   },
   {
    "duration": 11,
    "start_time": "2022-12-12T10:07:51.412Z"
   },
   {
    "duration": 8,
    "start_time": "2022-12-12T10:08:21.691Z"
   },
   {
    "duration": 1425,
    "start_time": "2022-12-12T10:08:27.787Z"
   },
   {
    "duration": 678,
    "start_time": "2022-12-12T10:08:29.213Z"
   },
   {
    "duration": 33,
    "start_time": "2022-12-12T10:08:29.893Z"
   },
   {
    "duration": 236,
    "start_time": "2022-12-12T10:08:29.928Z"
   },
   {
    "duration": 4,
    "start_time": "2022-12-12T10:08:30.165Z"
   },
   {
    "duration": 54,
    "start_time": "2022-12-12T10:08:30.171Z"
   },
   {
    "duration": 132,
    "start_time": "2022-12-12T10:08:30.227Z"
   },
   {
    "duration": 4,
    "start_time": "2022-12-12T10:08:30.362Z"
   },
   {
    "duration": 38,
    "start_time": "2022-12-12T10:08:30.368Z"
   },
   {
    "duration": 272,
    "start_time": "2022-12-12T10:08:30.408Z"
   },
   {
    "duration": 5,
    "start_time": "2022-12-12T10:08:30.682Z"
   },
   {
    "duration": 49,
    "start_time": "2022-12-12T10:08:30.689Z"
   },
   {
    "duration": 49,
    "start_time": "2022-12-12T10:08:30.740Z"
   },
   {
    "duration": 104,
    "start_time": "2022-12-12T10:08:30.792Z"
   },
   {
    "duration": 6,
    "start_time": "2022-12-12T10:08:52.743Z"
   },
   {
    "duration": 1360,
    "start_time": "2022-12-12T10:08:57.672Z"
   },
   {
    "duration": 697,
    "start_time": "2022-12-12T10:08:59.035Z"
   },
   {
    "duration": 27,
    "start_time": "2022-12-12T10:08:59.734Z"
   },
   {
    "duration": 222,
    "start_time": "2022-12-12T10:08:59.763Z"
   },
   {
    "duration": 6,
    "start_time": "2022-12-12T10:08:59.987Z"
   },
   {
    "duration": 34,
    "start_time": "2022-12-12T10:08:59.995Z"
   },
   {
    "duration": 140,
    "start_time": "2022-12-12T10:09:00.031Z"
   },
   {
    "duration": 3,
    "start_time": "2022-12-12T10:09:00.173Z"
   },
   {
    "duration": 40,
    "start_time": "2022-12-12T10:09:00.178Z"
   },
   {
    "duration": 253,
    "start_time": "2022-12-12T10:09:00.220Z"
   },
   {
    "duration": 4,
    "start_time": "2022-12-12T10:09:00.475Z"
   },
   {
    "duration": 14,
    "start_time": "2022-12-12T10:09:00.480Z"
   },
   {
    "duration": 17,
    "start_time": "2022-12-12T10:09:00.495Z"
   },
   {
    "duration": 54,
    "start_time": "2022-12-12T10:09:00.514Z"
   },
   {
    "duration": 3,
    "start_time": "2022-12-12T10:09:28.603Z"
   },
   {
    "duration": 8,
    "start_time": "2022-12-12T10:09:31.923Z"
   },
   {
    "duration": 124,
    "start_time": "2022-12-12T10:11:29.995Z"
   },
   {
    "duration": 8,
    "start_time": "2022-12-12T10:11:39.919Z"
   },
   {
    "duration": 8,
    "start_time": "2022-12-12T10:13:40.703Z"
   },
   {
    "duration": 7,
    "start_time": "2022-12-12T10:22:18.469Z"
   },
   {
    "duration": 6,
    "start_time": "2022-12-12T10:32:21.792Z"
   },
   {
    "duration": 5,
    "start_time": "2022-12-12T10:32:51.505Z"
   },
   {
    "duration": 6,
    "start_time": "2022-12-12T10:34:41.472Z"
   },
   {
    "duration": 6,
    "start_time": "2022-12-12T10:34:45.596Z"
   },
   {
    "duration": 3,
    "start_time": "2022-12-13T12:20:43.307Z"
   },
   {
    "duration": 4,
    "start_time": "2022-12-13T12:20:48.534Z"
   },
   {
    "duration": 3,
    "start_time": "2022-12-13T12:21:20.640Z"
   },
   {
    "duration": 3,
    "start_time": "2022-12-13T12:21:25.161Z"
   },
   {
    "duration": 52,
    "start_time": "2022-12-13T12:21:39.813Z"
   },
   {
    "duration": 3,
    "start_time": "2022-12-13T12:21:43.280Z"
   },
   {
    "duration": 2,
    "start_time": "2022-12-13T12:22:20.522Z"
   },
   {
    "duration": 4,
    "start_time": "2022-12-13T12:22:31.506Z"
   },
   {
    "duration": 11,
    "start_time": "2022-12-13T12:22:59.829Z"
   },
   {
    "duration": 32,
    "start_time": "2022-12-13T12:23:06.641Z"
   },
   {
    "duration": 8,
    "start_time": "2022-12-13T12:23:37.073Z"
   },
   {
    "duration": 251,
    "start_time": "2022-12-13T12:24:24.564Z"
   },
   {
    "duration": 272,
    "start_time": "2022-12-13T12:24:29.299Z"
   },
   {
    "duration": 2,
    "start_time": "2022-12-13T12:25:13.069Z"
   },
   {
    "duration": 4,
    "start_time": "2022-12-13T12:25:14.228Z"
   },
   {
    "duration": 1476,
    "start_time": "2022-12-13T12:25:18.805Z"
   },
   {
    "duration": 0,
    "start_time": "2022-12-13T12:25:20.283Z"
   },
   {
    "duration": 0,
    "start_time": "2022-12-13T12:25:20.284Z"
   },
   {
    "duration": 0,
    "start_time": "2022-12-13T12:25:20.286Z"
   },
   {
    "duration": 0,
    "start_time": "2022-12-13T12:25:20.287Z"
   },
   {
    "duration": 0,
    "start_time": "2022-12-13T12:25:20.289Z"
   },
   {
    "duration": 0,
    "start_time": "2022-12-13T12:25:20.290Z"
   },
   {
    "duration": 0,
    "start_time": "2022-12-13T12:25:20.292Z"
   },
   {
    "duration": 0,
    "start_time": "2022-12-13T12:25:20.293Z"
   },
   {
    "duration": 0,
    "start_time": "2022-12-13T12:25:20.295Z"
   },
   {
    "duration": 0,
    "start_time": "2022-12-13T12:25:20.296Z"
   },
   {
    "duration": 0,
    "start_time": "2022-12-13T12:25:20.297Z"
   },
   {
    "duration": 0,
    "start_time": "2022-12-13T12:25:20.298Z"
   },
   {
    "duration": 0,
    "start_time": "2022-12-13T12:25:20.299Z"
   },
   {
    "duration": 0,
    "start_time": "2022-12-13T12:25:20.322Z"
   },
   {
    "duration": 0,
    "start_time": "2022-12-13T12:25:20.323Z"
   },
   {
    "duration": 0,
    "start_time": "2022-12-13T12:25:20.324Z"
   },
   {
    "duration": 1,
    "start_time": "2022-12-13T12:25:20.325Z"
   },
   {
    "duration": 0,
    "start_time": "2022-12-13T12:25:20.327Z"
   },
   {
    "duration": 0,
    "start_time": "2022-12-13T12:25:20.329Z"
   },
   {
    "duration": 0,
    "start_time": "2022-12-13T12:25:20.330Z"
   },
   {
    "duration": 1377,
    "start_time": "2022-12-13T12:25:46.213Z"
   },
   {
    "duration": 696,
    "start_time": "2022-12-13T12:25:47.594Z"
   },
   {
    "duration": 30,
    "start_time": "2022-12-13T12:25:48.292Z"
   },
   {
    "duration": 222,
    "start_time": "2022-12-13T12:25:48.324Z"
   },
   {
    "duration": 3,
    "start_time": "2022-12-13T12:25:48.548Z"
   },
   {
    "duration": 29,
    "start_time": "2022-12-13T12:25:48.553Z"
   },
   {
    "duration": 152,
    "start_time": "2022-12-13T12:25:48.584Z"
   },
   {
    "duration": 3,
    "start_time": "2022-12-13T12:25:48.738Z"
   },
   {
    "duration": 22,
    "start_time": "2022-12-13T12:25:48.744Z"
   },
   {
    "duration": 247,
    "start_time": "2022-12-13T12:25:48.768Z"
   },
   {
    "duration": 7,
    "start_time": "2022-12-13T12:25:49.016Z"
   },
   {
    "duration": 6,
    "start_time": "2022-12-13T12:25:49.025Z"
   },
   {
    "duration": 9,
    "start_time": "2022-12-13T12:25:49.033Z"
   },
   {
    "duration": 14,
    "start_time": "2022-12-13T12:25:49.044Z"
   },
   {
    "duration": 6,
    "start_time": "2022-12-13T12:25:49.059Z"
   },
   {
    "duration": 7,
    "start_time": "2022-12-13T12:25:49.066Z"
   },
   {
    "duration": 7,
    "start_time": "2022-12-13T12:25:49.074Z"
   },
   {
    "duration": 10,
    "start_time": "2022-12-13T12:25:49.083Z"
   },
   {
    "duration": 11,
    "start_time": "2022-12-13T12:25:49.094Z"
   },
   {
    "duration": 14,
    "start_time": "2022-12-13T12:25:49.122Z"
   },
   {
    "duration": 304,
    "start_time": "2022-12-13T12:25:49.138Z"
   },
   {
    "duration": 16,
    "start_time": "2022-12-13T12:47:23.161Z"
   },
   {
    "duration": 12,
    "start_time": "2022-12-13T12:48:21.842Z"
   },
   {
    "duration": 24,
    "start_time": "2022-12-13T12:48:49.126Z"
   },
   {
    "duration": 1368,
    "start_time": "2022-12-13T12:48:54.018Z"
   },
   {
    "duration": 710,
    "start_time": "2022-12-13T12:48:55.388Z"
   },
   {
    "duration": 25,
    "start_time": "2022-12-13T12:48:56.100Z"
   },
   {
    "duration": 214,
    "start_time": "2022-12-13T12:48:56.126Z"
   },
   {
    "duration": 4,
    "start_time": "2022-12-13T12:48:56.342Z"
   },
   {
    "duration": 21,
    "start_time": "2022-12-13T12:48:56.347Z"
   },
   {
    "duration": 123,
    "start_time": "2022-12-13T12:48:56.370Z"
   },
   {
    "duration": 4,
    "start_time": "2022-12-13T12:48:56.494Z"
   },
   {
    "duration": 27,
    "start_time": "2022-12-13T12:48:56.499Z"
   },
   {
    "duration": 237,
    "start_time": "2022-12-13T12:48:56.528Z"
   },
   {
    "duration": 4,
    "start_time": "2022-12-13T12:48:56.767Z"
   },
   {
    "duration": 5,
    "start_time": "2022-12-13T12:48:56.773Z"
   },
   {
    "duration": 5,
    "start_time": "2022-12-13T12:48:56.780Z"
   },
   {
    "duration": 15,
    "start_time": "2022-12-13T12:48:56.788Z"
   },
   {
    "duration": 17,
    "start_time": "2022-12-13T12:48:56.805Z"
   },
   {
    "duration": 15,
    "start_time": "2022-12-13T12:48:56.824Z"
   },
   {
    "duration": 4,
    "start_time": "2022-12-13T12:48:56.841Z"
   },
   {
    "duration": 19,
    "start_time": "2022-12-13T12:48:56.846Z"
   },
   {
    "duration": 6,
    "start_time": "2022-12-13T12:48:56.866Z"
   },
   {
    "duration": 8,
    "start_time": "2022-12-13T12:48:56.873Z"
   },
   {
    "duration": 10,
    "start_time": "2022-12-13T12:48:56.883Z"
   },
   {
    "duration": 32,
    "start_time": "2022-12-13T12:48:56.894Z"
   },
   {
    "duration": 116,
    "start_time": "2022-12-13T12:48:56.927Z"
   },
   {
    "duration": 15,
    "start_time": "2022-12-13T12:51:27.933Z"
   },
   {
    "duration": 15,
    "start_time": "2022-12-13T12:51:31.417Z"
   },
   {
    "duration": 5,
    "start_time": "2022-12-13T12:54:04.076Z"
   },
   {
    "duration": 16,
    "start_time": "2022-12-13T12:54:10.777Z"
   },
   {
    "duration": 437,
    "start_time": "2022-12-13T12:54:19.541Z"
   },
   {
    "duration": 208,
    "start_time": "2022-12-13T12:57:17.711Z"
   },
   {
    "duration": 215,
    "start_time": "2022-12-13T12:57:32.611Z"
   },
   {
    "duration": 294,
    "start_time": "2022-12-13T12:57:47.620Z"
   },
   {
    "duration": 202,
    "start_time": "2022-12-13T12:57:54.948Z"
   },
   {
    "duration": 290,
    "start_time": "2022-12-13T12:58:00.520Z"
   },
   {
    "duration": 200,
    "start_time": "2022-12-13T12:58:09.321Z"
   },
   {
    "duration": 199,
    "start_time": "2022-12-13T12:58:20.844Z"
   },
   {
    "duration": 256,
    "start_time": "2022-12-13T12:58:28.709Z"
   },
   {
    "duration": 27,
    "start_time": "2022-12-13T12:59:19.753Z"
   },
   {
    "duration": 452,
    "start_time": "2022-12-13T12:59:59.452Z"
   },
   {
    "duration": 28,
    "start_time": "2022-12-14T08:08:01.006Z"
   },
   {
    "duration": 22,
    "start_time": "2022-12-14T08:08:10.122Z"
   },
   {
    "duration": 3,
    "start_time": "2022-12-14T08:08:27.698Z"
   },
   {
    "duration": 4,
    "start_time": "2022-12-14T08:08:31.359Z"
   },
   {
    "duration": 5,
    "start_time": "2022-12-14T08:08:41.196Z"
   },
   {
    "duration": 3,
    "start_time": "2022-12-14T08:08:57.635Z"
   },
   {
    "duration": 91,
    "start_time": "2022-12-14T08:09:03.367Z"
   },
   {
    "duration": 2,
    "start_time": "2022-12-14T08:09:06.987Z"
   },
   {
    "duration": 4,
    "start_time": "2022-12-14T08:09:09.054Z"
   },
   {
    "duration": 24,
    "start_time": "2022-12-14T08:09:24.600Z"
   },
   {
    "duration": 1371,
    "start_time": "2022-12-14T08:09:31.607Z"
   },
   {
    "duration": 682,
    "start_time": "2022-12-14T08:09:32.979Z"
   },
   {
    "duration": 23,
    "start_time": "2022-12-14T08:09:33.663Z"
   },
   {
    "duration": 224,
    "start_time": "2022-12-14T08:09:33.688Z"
   },
   {
    "duration": 9,
    "start_time": "2022-12-14T08:09:33.914Z"
   },
   {
    "duration": 47,
    "start_time": "2022-12-14T08:09:33.925Z"
   },
   {
    "duration": 120,
    "start_time": "2022-12-14T08:09:33.974Z"
   },
   {
    "duration": 3,
    "start_time": "2022-12-14T08:09:34.096Z"
   },
   {
    "duration": 29,
    "start_time": "2022-12-14T08:09:34.101Z"
   },
   {
    "duration": 243,
    "start_time": "2022-12-14T08:09:34.133Z"
   },
   {
    "duration": 3,
    "start_time": "2022-12-14T08:09:34.378Z"
   },
   {
    "duration": 14,
    "start_time": "2022-12-14T08:09:34.383Z"
   },
   {
    "duration": 9,
    "start_time": "2022-12-14T08:09:34.398Z"
   },
   {
    "duration": 13,
    "start_time": "2022-12-14T08:09:34.409Z"
   },
   {
    "duration": 6,
    "start_time": "2022-12-14T08:09:34.423Z"
   },
   {
    "duration": 18,
    "start_time": "2022-12-14T08:09:34.431Z"
   },
   {
    "duration": 4,
    "start_time": "2022-12-14T08:09:34.451Z"
   },
   {
    "duration": 20,
    "start_time": "2022-12-14T08:09:34.457Z"
   },
   {
    "duration": 7,
    "start_time": "2022-12-14T08:09:34.479Z"
   },
   {
    "duration": 8,
    "start_time": "2022-12-14T08:09:34.487Z"
   },
   {
    "duration": 4,
    "start_time": "2022-12-14T08:09:34.521Z"
   },
   {
    "duration": 14,
    "start_time": "2022-12-14T08:09:34.527Z"
   },
   {
    "duration": 301,
    "start_time": "2022-12-14T08:09:34.542Z"
   },
   {
    "duration": 3,
    "start_time": "2022-12-14T08:09:51.735Z"
   },
   {
    "duration": 10,
    "start_time": "2022-12-14T08:09:56.151Z"
   },
   {
    "duration": 276,
    "start_time": "2022-12-14T08:10:30.826Z"
   },
   {
    "duration": 9,
    "start_time": "2022-12-14T08:11:33.826Z"
   },
   {
    "duration": 271,
    "start_time": "2022-12-14T08:11:35.306Z"
   },
   {
    "duration": 268,
    "start_time": "2022-12-14T08:12:28.392Z"
   },
   {
    "duration": 270,
    "start_time": "2022-12-14T08:12:35.930Z"
   },
   {
    "duration": 271,
    "start_time": "2022-12-14T08:13:06.574Z"
   },
   {
    "duration": 1291,
    "start_time": "2022-12-14T08:13:35.873Z"
   },
   {
    "duration": 677,
    "start_time": "2022-12-14T08:13:37.166Z"
   },
   {
    "duration": 25,
    "start_time": "2022-12-14T08:13:37.845Z"
   },
   {
    "duration": 219,
    "start_time": "2022-12-14T08:13:37.872Z"
   },
   {
    "duration": 4,
    "start_time": "2022-12-14T08:13:38.093Z"
   },
   {
    "duration": 40,
    "start_time": "2022-12-14T08:13:38.098Z"
   },
   {
    "duration": 120,
    "start_time": "2022-12-14T08:13:38.140Z"
   },
   {
    "duration": 4,
    "start_time": "2022-12-14T08:13:38.262Z"
   },
   {
    "duration": 22,
    "start_time": "2022-12-14T08:13:38.267Z"
   },
   {
    "duration": 242,
    "start_time": "2022-12-14T08:13:38.291Z"
   },
   {
    "duration": 4,
    "start_time": "2022-12-14T08:13:38.534Z"
   },
   {
    "duration": 11,
    "start_time": "2022-12-14T08:13:38.539Z"
   },
   {
    "duration": 9,
    "start_time": "2022-12-14T08:13:38.551Z"
   },
   {
    "duration": 24,
    "start_time": "2022-12-14T08:13:38.562Z"
   },
   {
    "duration": 22,
    "start_time": "2022-12-14T08:13:38.588Z"
   },
   {
    "duration": 26,
    "start_time": "2022-12-14T08:13:38.612Z"
   },
   {
    "duration": 5,
    "start_time": "2022-12-14T08:13:38.640Z"
   },
   {
    "duration": 27,
    "start_time": "2022-12-14T08:13:38.646Z"
   },
   {
    "duration": 2,
    "start_time": "2022-12-14T08:13:38.674Z"
   },
   {
    "duration": 9,
    "start_time": "2022-12-14T08:13:38.678Z"
   },
   {
    "duration": 5,
    "start_time": "2022-12-14T08:13:38.688Z"
   },
   {
    "duration": 15,
    "start_time": "2022-12-14T08:13:38.695Z"
   },
   {
    "duration": 269,
    "start_time": "2022-12-14T08:13:38.712Z"
   },
   {
    "duration": 1069,
    "start_time": "2022-12-14T08:14:39.691Z"
   },
   {
    "duration": 267,
    "start_time": "2022-12-14T08:15:34.897Z"
   },
   {
    "duration": 6,
    "start_time": "2022-12-14T08:17:39.393Z"
   },
   {
    "duration": 1353,
    "start_time": "2022-12-14T08:17:46.086Z"
   },
   {
    "duration": 739,
    "start_time": "2022-12-14T08:17:47.442Z"
   },
   {
    "duration": 24,
    "start_time": "2022-12-14T08:17:48.183Z"
   },
   {
    "duration": 229,
    "start_time": "2022-12-14T08:17:48.209Z"
   },
   {
    "duration": 4,
    "start_time": "2022-12-14T08:17:48.439Z"
   },
   {
    "duration": 23,
    "start_time": "2022-12-14T08:17:48.445Z"
   },
   {
    "duration": 144,
    "start_time": "2022-12-14T08:17:48.470Z"
   },
   {
    "duration": 3,
    "start_time": "2022-12-14T08:17:48.616Z"
   },
   {
    "duration": 23,
    "start_time": "2022-12-14T08:17:48.621Z"
   },
   {
    "duration": 266,
    "start_time": "2022-12-14T08:17:48.647Z"
   },
   {
    "duration": 7,
    "start_time": "2022-12-14T08:17:48.914Z"
   },
   {
    "duration": 2,
    "start_time": "2022-12-14T08:17:48.923Z"
   },
   {
    "duration": 6,
    "start_time": "2022-12-14T08:17:48.926Z"
   },
   {
    "duration": 19,
    "start_time": "2022-12-14T08:17:48.933Z"
   },
   {
    "duration": 7,
    "start_time": "2022-12-14T08:17:48.954Z"
   },
   {
    "duration": 21,
    "start_time": "2022-12-14T08:17:48.963Z"
   },
   {
    "duration": 5,
    "start_time": "2022-12-14T08:17:48.986Z"
   },
   {
    "duration": 38,
    "start_time": "2022-12-14T08:17:48.993Z"
   },
   {
    "duration": 6,
    "start_time": "2022-12-14T08:17:49.032Z"
   },
   {
    "duration": 10,
    "start_time": "2022-12-14T08:17:49.039Z"
   },
   {
    "duration": 11,
    "start_time": "2022-12-14T08:17:49.052Z"
   },
   {
    "duration": 13,
    "start_time": "2022-12-14T08:17:49.065Z"
   },
   {
    "duration": 1167,
    "start_time": "2022-12-14T08:17:49.080Z"
   },
   {
    "duration": 276,
    "start_time": "2022-12-14T08:18:41.191Z"
   },
   {
    "duration": 12,
    "start_time": "2022-12-14T08:19:46.221Z"
   },
   {
    "duration": 6,
    "start_time": "2022-12-14T08:20:51.624Z"
   },
   {
    "duration": 15,
    "start_time": "2022-12-14T08:21:43.986Z"
   },
   {
    "duration": 1360,
    "start_time": "2022-12-14T08:21:48.534Z"
   },
   {
    "duration": 681,
    "start_time": "2022-12-14T08:21:49.896Z"
   },
   {
    "duration": 28,
    "start_time": "2022-12-14T08:21:50.579Z"
   },
   {
    "duration": 238,
    "start_time": "2022-12-14T08:21:50.609Z"
   },
   {
    "duration": 4,
    "start_time": "2022-12-14T08:21:50.849Z"
   },
   {
    "duration": 28,
    "start_time": "2022-12-14T08:21:50.854Z"
   },
   {
    "duration": 138,
    "start_time": "2022-12-14T08:21:50.883Z"
   },
   {
    "duration": 4,
    "start_time": "2022-12-14T08:21:51.022Z"
   },
   {
    "duration": 60,
    "start_time": "2022-12-14T08:21:51.027Z"
   },
   {
    "duration": 261,
    "start_time": "2022-12-14T08:21:51.089Z"
   },
   {
    "duration": 4,
    "start_time": "2022-12-14T08:21:51.351Z"
   },
   {
    "duration": 20,
    "start_time": "2022-12-14T08:21:51.356Z"
   },
   {
    "duration": 10,
    "start_time": "2022-12-14T08:21:51.378Z"
   },
   {
    "duration": 29,
    "start_time": "2022-12-14T08:21:51.390Z"
   },
   {
    "duration": 8,
    "start_time": "2022-12-14T08:21:51.420Z"
   },
   {
    "duration": 18,
    "start_time": "2022-12-14T08:21:51.430Z"
   },
   {
    "duration": 5,
    "start_time": "2022-12-14T08:21:51.449Z"
   },
   {
    "duration": 35,
    "start_time": "2022-12-14T08:21:51.456Z"
   },
   {
    "duration": 10,
    "start_time": "2022-12-14T08:21:51.494Z"
   },
   {
    "duration": 15,
    "start_time": "2022-12-14T08:21:51.507Z"
   },
   {
    "duration": 11,
    "start_time": "2022-12-14T08:21:51.524Z"
   },
   {
    "duration": 22,
    "start_time": "2022-12-14T08:21:51.536Z"
   },
   {
    "duration": 1377,
    "start_time": "2022-12-14T08:21:51.560Z"
   },
   {
    "duration": 289,
    "start_time": "2022-12-14T08:22:36.333Z"
   },
   {
    "duration": 1302,
    "start_time": "2022-12-14T08:22:43.064Z"
   },
   {
    "duration": 706,
    "start_time": "2022-12-14T08:22:44.368Z"
   },
   {
    "duration": 24,
    "start_time": "2022-12-14T08:22:45.075Z"
   },
   {
    "duration": 237,
    "start_time": "2022-12-14T08:22:45.101Z"
   },
   {
    "duration": 5,
    "start_time": "2022-12-14T08:22:45.340Z"
   },
   {
    "duration": 43,
    "start_time": "2022-12-14T08:22:45.347Z"
   },
   {
    "duration": 169,
    "start_time": "2022-12-14T08:22:45.393Z"
   },
   {
    "duration": 4,
    "start_time": "2022-12-14T08:22:45.563Z"
   },
   {
    "duration": 49,
    "start_time": "2022-12-14T08:22:45.568Z"
   },
   {
    "duration": 239,
    "start_time": "2022-12-14T08:22:45.620Z"
   },
   {
    "duration": 5,
    "start_time": "2022-12-14T08:22:45.861Z"
   },
   {
    "duration": 13,
    "start_time": "2022-12-14T08:22:45.867Z"
   },
   {
    "duration": 28,
    "start_time": "2022-12-14T08:22:45.882Z"
   },
   {
    "duration": 25,
    "start_time": "2022-12-14T08:22:45.912Z"
   },
   {
    "duration": 7,
    "start_time": "2022-12-14T08:22:45.939Z"
   },
   {
    "duration": 17,
    "start_time": "2022-12-14T08:22:45.948Z"
   },
   {
    "duration": 5,
    "start_time": "2022-12-14T08:22:45.967Z"
   },
   {
    "duration": 28,
    "start_time": "2022-12-14T08:22:45.974Z"
   },
   {
    "duration": 3,
    "start_time": "2022-12-14T08:22:46.004Z"
   },
   {
    "duration": 4,
    "start_time": "2022-12-14T08:22:46.022Z"
   },
   {
    "duration": 13,
    "start_time": "2022-12-14T08:22:46.027Z"
   },
   {
    "duration": 1315,
    "start_time": "2022-12-14T08:22:46.042Z"
   },
   {
    "duration": 3,
    "start_time": "2022-12-14T08:23:18.916Z"
   },
   {
    "duration": 271,
    "start_time": "2022-12-14T08:23:55.904Z"
   },
   {
    "duration": 1372,
    "start_time": "2022-12-14T08:24:03.698Z"
   },
   {
    "duration": 727,
    "start_time": "2022-12-14T08:24:05.071Z"
   },
   {
    "duration": 31,
    "start_time": "2022-12-14T08:24:05.800Z"
   },
   {
    "duration": 215,
    "start_time": "2022-12-14T08:24:05.833Z"
   },
   {
    "duration": 4,
    "start_time": "2022-12-14T08:24:06.050Z"
   },
   {
    "duration": 47,
    "start_time": "2022-12-14T08:24:06.055Z"
   },
   {
    "duration": 151,
    "start_time": "2022-12-14T08:24:06.104Z"
   },
   {
    "duration": 4,
    "start_time": "2022-12-14T08:24:06.256Z"
   },
   {
    "duration": 31,
    "start_time": "2022-12-14T08:24:06.261Z"
   },
   {
    "duration": 235,
    "start_time": "2022-12-14T08:24:06.294Z"
   },
   {
    "duration": 3,
    "start_time": "2022-12-14T08:24:06.531Z"
   },
   {
    "duration": 6,
    "start_time": "2022-12-14T08:24:06.536Z"
   },
   {
    "duration": 6,
    "start_time": "2022-12-14T08:24:06.544Z"
   },
   {
    "duration": 15,
    "start_time": "2022-12-14T08:24:06.552Z"
   },
   {
    "duration": 8,
    "start_time": "2022-12-14T08:24:06.568Z"
   },
   {
    "duration": 22,
    "start_time": "2022-12-14T08:24:06.578Z"
   },
   {
    "duration": 22,
    "start_time": "2022-12-14T08:24:06.601Z"
   },
   {
    "duration": 40,
    "start_time": "2022-12-14T08:24:06.625Z"
   },
   {
    "duration": 13,
    "start_time": "2022-12-14T08:24:06.666Z"
   },
   {
    "duration": 9,
    "start_time": "2022-12-14T08:24:06.681Z"
   },
   {
    "duration": 16,
    "start_time": "2022-12-14T08:24:06.692Z"
   },
   {
    "duration": 1161,
    "start_time": "2022-12-14T08:24:06.709Z"
   },
   {
    "duration": 1375,
    "start_time": "2022-12-14T08:24:23.556Z"
   },
   {
    "duration": 727,
    "start_time": "2022-12-14T08:24:24.932Z"
   },
   {
    "duration": 24,
    "start_time": "2022-12-14T08:24:25.660Z"
   },
   {
    "duration": 216,
    "start_time": "2022-12-14T08:24:25.686Z"
   },
   {
    "duration": 4,
    "start_time": "2022-12-14T08:24:25.904Z"
   },
   {
    "duration": 28,
    "start_time": "2022-12-14T08:24:25.910Z"
   },
   {
    "duration": 138,
    "start_time": "2022-12-14T08:24:25.940Z"
   },
   {
    "duration": 5,
    "start_time": "2022-12-14T08:24:26.080Z"
   },
   {
    "duration": 44,
    "start_time": "2022-12-14T08:24:26.086Z"
   },
   {
    "duration": 235,
    "start_time": "2022-12-14T08:24:26.134Z"
   },
   {
    "duration": 4,
    "start_time": "2022-12-14T08:24:26.371Z"
   },
   {
    "duration": 8,
    "start_time": "2022-12-14T08:24:26.376Z"
   },
   {
    "duration": 8,
    "start_time": "2022-12-14T08:24:26.385Z"
   },
   {
    "duration": 23,
    "start_time": "2022-12-14T08:24:26.395Z"
   },
   {
    "duration": 11,
    "start_time": "2022-12-14T08:24:26.421Z"
   },
   {
    "duration": 16,
    "start_time": "2022-12-14T08:24:26.433Z"
   },
   {
    "duration": 4,
    "start_time": "2022-12-14T08:24:26.451Z"
   },
   {
    "duration": 36,
    "start_time": "2022-12-14T08:24:26.457Z"
   },
   {
    "duration": 4,
    "start_time": "2022-12-14T08:24:26.495Z"
   },
   {
    "duration": 5,
    "start_time": "2022-12-14T08:24:26.501Z"
   },
   {
    "duration": 26,
    "start_time": "2022-12-14T08:24:26.508Z"
   },
   {
    "duration": 271,
    "start_time": "2022-12-14T08:24:26.536Z"
   },
   {
    "duration": 110,
    "start_time": "2022-12-14T08:25:32.302Z"
   },
   {
    "duration": 5,
    "start_time": "2022-12-14T08:26:05.656Z"
   },
   {
    "duration": 3,
    "start_time": "2022-12-14T08:26:22.510Z"
   },
   {
    "duration": 1319,
    "start_time": "2022-12-14T08:26:31.876Z"
   },
   {
    "duration": 725,
    "start_time": "2022-12-14T08:26:33.197Z"
   },
   {
    "duration": 27,
    "start_time": "2022-12-14T08:26:33.924Z"
   },
   {
    "duration": 239,
    "start_time": "2022-12-14T08:26:33.953Z"
   },
   {
    "duration": 5,
    "start_time": "2022-12-14T08:26:34.193Z"
   },
   {
    "duration": 33,
    "start_time": "2022-12-14T08:26:34.199Z"
   },
   {
    "duration": 129,
    "start_time": "2022-12-14T08:26:34.233Z"
   },
   {
    "duration": 4,
    "start_time": "2022-12-14T08:26:34.364Z"
   },
   {
    "duration": 23,
    "start_time": "2022-12-14T08:26:34.370Z"
   },
   {
    "duration": 259,
    "start_time": "2022-12-14T08:26:34.396Z"
   },
   {
    "duration": 4,
    "start_time": "2022-12-14T08:26:34.656Z"
   },
   {
    "duration": 6,
    "start_time": "2022-12-14T08:26:34.661Z"
   },
   {
    "duration": 5,
    "start_time": "2022-12-14T08:26:34.669Z"
   },
   {
    "duration": 25,
    "start_time": "2022-12-14T08:26:34.676Z"
   },
   {
    "duration": 6,
    "start_time": "2022-12-14T08:26:34.703Z"
   },
   {
    "duration": 20,
    "start_time": "2022-12-14T08:26:34.710Z"
   },
   {
    "duration": 6,
    "start_time": "2022-12-14T08:26:34.731Z"
   },
   {
    "duration": 16,
    "start_time": "2022-12-14T08:26:34.739Z"
   },
   {
    "duration": 6,
    "start_time": "2022-12-14T08:26:34.757Z"
   },
   {
    "duration": 4,
    "start_time": "2022-12-14T08:26:34.765Z"
   },
   {
    "duration": 8,
    "start_time": "2022-12-14T08:26:34.771Z"
   },
   {
    "duration": 126,
    "start_time": "2022-12-14T08:26:34.781Z"
   },
   {
    "duration": 4,
    "start_time": "2022-12-14T08:27:04.219Z"
   },
   {
    "duration": 6,
    "start_time": "2022-12-14T08:27:30.703Z"
   },
   {
    "duration": 28,
    "start_time": "2022-12-14T08:28:14.694Z"
   },
   {
    "duration": 1329,
    "start_time": "2022-12-14T08:28:21.164Z"
   },
   {
    "duration": 694,
    "start_time": "2022-12-14T08:28:22.494Z"
   },
   {
    "duration": 40,
    "start_time": "2022-12-14T08:28:23.190Z"
   },
   {
    "duration": 214,
    "start_time": "2022-12-14T08:28:23.233Z"
   },
   {
    "duration": 5,
    "start_time": "2022-12-14T08:28:23.448Z"
   },
   {
    "duration": 23,
    "start_time": "2022-12-14T08:28:23.454Z"
   },
   {
    "duration": 135,
    "start_time": "2022-12-14T08:28:23.479Z"
   },
   {
    "duration": 4,
    "start_time": "2022-12-14T08:28:23.621Z"
   },
   {
    "duration": 24,
    "start_time": "2022-12-14T08:28:23.626Z"
   },
   {
    "duration": 247,
    "start_time": "2022-12-14T08:28:23.654Z"
   },
   {
    "duration": 3,
    "start_time": "2022-12-14T08:28:23.903Z"
   },
   {
    "duration": 13,
    "start_time": "2022-12-14T08:28:23.908Z"
   },
   {
    "duration": 7,
    "start_time": "2022-12-14T08:28:23.922Z"
   },
   {
    "duration": 14,
    "start_time": "2022-12-14T08:28:23.931Z"
   },
   {
    "duration": 7,
    "start_time": "2022-12-14T08:28:23.947Z"
   },
   {
    "duration": 22,
    "start_time": "2022-12-14T08:28:23.955Z"
   },
   {
    "duration": 5,
    "start_time": "2022-12-14T08:28:23.979Z"
   },
   {
    "duration": 36,
    "start_time": "2022-12-14T08:28:23.986Z"
   },
   {
    "duration": 3,
    "start_time": "2022-12-14T08:28:24.025Z"
   },
   {
    "duration": 21,
    "start_time": "2022-12-14T08:28:24.029Z"
   },
   {
    "duration": 9,
    "start_time": "2022-12-14T08:28:24.051Z"
   },
   {
    "duration": 8,
    "start_time": "2022-12-14T08:28:24.062Z"
   },
   {
    "duration": 31,
    "start_time": "2022-12-14T08:28:24.072Z"
   },
   {
    "duration": 16,
    "start_time": "2022-12-14T08:31:06.275Z"
   },
   {
    "duration": 20,
    "start_time": "2022-12-14T08:33:38.294Z"
   },
   {
    "duration": 112,
    "start_time": "2022-12-14T08:33:52.615Z"
   },
   {
    "duration": 1392,
    "start_time": "2022-12-14T08:34:13.098Z"
   },
   {
    "duration": 694,
    "start_time": "2022-12-14T08:34:14.492Z"
   },
   {
    "duration": 26,
    "start_time": "2022-12-14T08:34:15.188Z"
   },
   {
    "duration": 256,
    "start_time": "2022-12-14T08:34:15.221Z"
   },
   {
    "duration": 4,
    "start_time": "2022-12-14T08:34:15.480Z"
   },
   {
    "duration": 46,
    "start_time": "2022-12-14T08:34:15.486Z"
   },
   {
    "duration": 132,
    "start_time": "2022-12-14T08:34:15.534Z"
   },
   {
    "duration": 4,
    "start_time": "2022-12-14T08:34:15.667Z"
   },
   {
    "duration": 46,
    "start_time": "2022-12-14T08:34:15.673Z"
   },
   {
    "duration": 241,
    "start_time": "2022-12-14T08:34:15.722Z"
   },
   {
    "duration": 3,
    "start_time": "2022-12-14T08:34:15.965Z"
   },
   {
    "duration": 14,
    "start_time": "2022-12-14T08:34:15.970Z"
   },
   {
    "duration": 33,
    "start_time": "2022-12-14T08:34:15.985Z"
   },
   {
    "duration": 36,
    "start_time": "2022-12-14T08:34:16.021Z"
   },
   {
    "duration": 16,
    "start_time": "2022-12-14T08:34:16.058Z"
   },
   {
    "duration": 43,
    "start_time": "2022-12-14T08:34:16.075Z"
   },
   {
    "duration": 32,
    "start_time": "2022-12-14T08:34:16.119Z"
   },
   {
    "duration": 39,
    "start_time": "2022-12-14T08:34:16.152Z"
   },
   {
    "duration": 44,
    "start_time": "2022-12-14T08:34:16.192Z"
   },
   {
    "duration": 35,
    "start_time": "2022-12-14T08:34:16.238Z"
   },
   {
    "duration": 34,
    "start_time": "2022-12-14T08:34:16.275Z"
   },
   {
    "duration": 22,
    "start_time": "2022-12-14T08:34:16.310Z"
   },
   {
    "duration": 47,
    "start_time": "2022-12-14T08:34:16.334Z"
   },
   {
    "duration": 44,
    "start_time": "2022-12-14T08:34:16.383Z"
   },
   {
    "duration": 110,
    "start_time": "2022-12-14T08:43:14.642Z"
   },
   {
    "duration": 1305,
    "start_time": "2022-12-14T08:43:23.966Z"
   },
   {
    "duration": 738,
    "start_time": "2022-12-14T08:43:25.273Z"
   },
   {
    "duration": 28,
    "start_time": "2022-12-14T08:43:26.013Z"
   },
   {
    "duration": 219,
    "start_time": "2022-12-14T08:43:26.042Z"
   },
   {
    "duration": 3,
    "start_time": "2022-12-14T08:43:26.264Z"
   },
   {
    "duration": 23,
    "start_time": "2022-12-14T08:43:26.269Z"
   },
   {
    "duration": 139,
    "start_time": "2022-12-14T08:43:26.293Z"
   },
   {
    "duration": 3,
    "start_time": "2022-12-14T08:43:26.433Z"
   },
   {
    "duration": 21,
    "start_time": "2022-12-14T08:43:26.438Z"
   },
   {
    "duration": 247,
    "start_time": "2022-12-14T08:43:26.461Z"
   },
   {
    "duration": 4,
    "start_time": "2022-12-14T08:43:26.709Z"
   },
   {
    "duration": 8,
    "start_time": "2022-12-14T08:43:26.714Z"
   },
   {
    "duration": 11,
    "start_time": "2022-12-14T08:43:26.723Z"
   },
   {
    "duration": 9,
    "start_time": "2022-12-14T08:43:26.736Z"
   },
   {
    "duration": 5,
    "start_time": "2022-12-14T08:43:26.746Z"
   },
   {
    "duration": 19,
    "start_time": "2022-12-14T08:43:26.753Z"
   },
   {
    "duration": 6,
    "start_time": "2022-12-14T08:43:26.773Z"
   },
   {
    "duration": 40,
    "start_time": "2022-12-14T08:43:26.781Z"
   },
   {
    "duration": 2,
    "start_time": "2022-12-14T08:43:26.823Z"
   },
   {
    "duration": 10,
    "start_time": "2022-12-14T08:43:26.826Z"
   },
   {
    "duration": 13,
    "start_time": "2022-12-14T08:43:26.837Z"
   },
   {
    "duration": 12,
    "start_time": "2022-12-14T08:43:26.851Z"
   },
   {
    "duration": 29,
    "start_time": "2022-12-14T08:43:26.864Z"
   },
   {
    "duration": 44,
    "start_time": "2022-12-14T08:43:26.895Z"
   },
   {
    "duration": 8,
    "start_time": "2022-12-14T08:43:47.466Z"
   },
   {
    "duration": 10,
    "start_time": "2022-12-14T08:44:05.731Z"
   },
   {
    "duration": 9,
    "start_time": "2022-12-14T08:44:17.294Z"
   },
   {
    "duration": 16,
    "start_time": "2022-12-14T08:44:44.266Z"
   },
   {
    "duration": 14,
    "start_time": "2022-12-14T08:46:28.191Z"
   },
   {
    "duration": 16,
    "start_time": "2022-12-14T08:46:52.900Z"
   },
   {
    "duration": 12,
    "start_time": "2022-12-14T08:48:14.106Z"
   },
   {
    "duration": 16,
    "start_time": "2022-12-14T08:48:54.605Z"
   },
   {
    "duration": 17,
    "start_time": "2022-12-14T08:49:17.312Z"
   },
   {
    "duration": 21,
    "start_time": "2022-12-14T08:49:24.044Z"
   },
   {
    "duration": 16,
    "start_time": "2022-12-14T08:51:27.009Z"
   },
   {
    "duration": 34,
    "start_time": "2022-12-14T08:53:44.214Z"
   },
   {
    "duration": 86,
    "start_time": "2022-12-14T08:54:52.257Z"
   },
   {
    "duration": 53,
    "start_time": "2022-12-14T08:54:58.508Z"
   },
   {
    "duration": 1303,
    "start_time": "2022-12-14T08:55:08.653Z"
   },
   {
    "duration": 696,
    "start_time": "2022-12-14T08:55:09.958Z"
   },
   {
    "duration": 24,
    "start_time": "2022-12-14T08:55:10.656Z"
   },
   {
    "duration": 215,
    "start_time": "2022-12-14T08:55:10.682Z"
   },
   {
    "duration": 5,
    "start_time": "2022-12-14T08:55:10.898Z"
   },
   {
    "duration": 31,
    "start_time": "2022-12-14T08:55:10.905Z"
   },
   {
    "duration": 121,
    "start_time": "2022-12-14T08:55:10.938Z"
   },
   {
    "duration": 4,
    "start_time": "2022-12-14T08:55:11.061Z"
   },
   {
    "duration": 25,
    "start_time": "2022-12-14T08:55:11.066Z"
   },
   {
    "duration": 247,
    "start_time": "2022-12-14T08:55:11.094Z"
   },
   {
    "duration": 3,
    "start_time": "2022-12-14T08:55:11.343Z"
   },
   {
    "duration": 6,
    "start_time": "2022-12-14T08:55:11.347Z"
   },
   {
    "duration": 7,
    "start_time": "2022-12-14T08:55:11.355Z"
   },
   {
    "duration": 12,
    "start_time": "2022-12-14T08:55:11.363Z"
   },
   {
    "duration": 5,
    "start_time": "2022-12-14T08:55:11.377Z"
   },
   {
    "duration": 24,
    "start_time": "2022-12-14T08:55:11.383Z"
   },
   {
    "duration": 16,
    "start_time": "2022-12-14T08:55:11.408Z"
   },
   {
    "duration": 37,
    "start_time": "2022-12-14T08:55:11.425Z"
   },
   {
    "duration": 6,
    "start_time": "2022-12-14T08:55:11.464Z"
   },
   {
    "duration": 11,
    "start_time": "2022-12-14T08:55:11.472Z"
   },
   {
    "duration": 19,
    "start_time": "2022-12-14T08:55:11.485Z"
   },
   {
    "duration": 9,
    "start_time": "2022-12-14T08:55:11.505Z"
   },
   {
    "duration": 40,
    "start_time": "2022-12-14T08:55:11.516Z"
   },
   {
    "duration": 30,
    "start_time": "2022-12-14T08:55:11.558Z"
   },
   {
    "duration": 48,
    "start_time": "2022-12-14T08:55:11.590Z"
   },
   {
    "duration": 15,
    "start_time": "2022-12-14T08:55:21.517Z"
   },
   {
    "duration": 1388,
    "start_time": "2022-12-14T08:55:39.837Z"
   },
   {
    "duration": 722,
    "start_time": "2022-12-14T08:55:41.227Z"
   },
   {
    "duration": 30,
    "start_time": "2022-12-14T08:55:41.950Z"
   },
   {
    "duration": 17,
    "start_time": "2022-12-14T08:55:41.983Z"
   },
   {
    "duration": 20,
    "start_time": "2022-12-14T08:55:42.002Z"
   },
   {
    "duration": 38,
    "start_time": "2022-12-14T08:55:42.024Z"
   },
   {
    "duration": 24,
    "start_time": "2022-12-14T08:55:42.065Z"
   },
   {
    "duration": 23,
    "start_time": "2022-12-14T08:55:42.091Z"
   },
   {
    "duration": 52,
    "start_time": "2022-12-14T08:55:42.115Z"
   },
   {
    "duration": 34,
    "start_time": "2022-12-14T08:55:42.171Z"
   },
   {
    "duration": 4,
    "start_time": "2022-12-14T08:55:42.207Z"
   },
   {
    "duration": 21,
    "start_time": "2022-12-14T08:55:42.213Z"
   },
   {
    "duration": 25,
    "start_time": "2022-12-14T08:55:42.236Z"
   },
   {
    "duration": 21,
    "start_time": "2022-12-14T08:55:42.263Z"
   },
   {
    "duration": 10,
    "start_time": "2022-12-14T08:55:42.285Z"
   },
   {
    "duration": 23,
    "start_time": "2022-12-14T08:55:42.297Z"
   },
   {
    "duration": 7,
    "start_time": "2022-12-14T08:55:42.322Z"
   },
   {
    "duration": 22,
    "start_time": "2022-12-14T08:55:42.330Z"
   },
   {
    "duration": 34,
    "start_time": "2022-12-14T08:55:42.354Z"
   },
   {
    "duration": 7,
    "start_time": "2022-12-14T08:55:42.390Z"
   },
   {
    "duration": 14,
    "start_time": "2022-12-14T08:55:42.399Z"
   },
   {
    "duration": 20,
    "start_time": "2022-12-14T08:55:42.415Z"
   },
   {
    "duration": 62,
    "start_time": "2022-12-14T08:55:42.437Z"
   },
   {
    "duration": 30,
    "start_time": "2022-12-14T08:55:42.501Z"
   },
   {
    "duration": 49,
    "start_time": "2022-12-14T08:55:42.533Z"
   },
   {
    "duration": 1300,
    "start_time": "2022-12-14T08:57:08.465Z"
   },
   {
    "duration": 684,
    "start_time": "2022-12-14T08:57:09.767Z"
   },
   {
    "duration": 23,
    "start_time": "2022-12-14T08:57:10.453Z"
   },
   {
    "duration": 58,
    "start_time": "2022-12-14T08:57:10.478Z"
   },
   {
    "duration": 22,
    "start_time": "2022-12-14T08:57:10.537Z"
   },
   {
    "duration": 38,
    "start_time": "2022-12-14T08:57:10.561Z"
   },
   {
    "duration": 43,
    "start_time": "2022-12-14T08:57:10.601Z"
   },
   {
    "duration": 21,
    "start_time": "2022-12-14T08:57:10.645Z"
   },
   {
    "duration": 49,
    "start_time": "2022-12-14T08:57:10.667Z"
   },
   {
    "duration": 42,
    "start_time": "2022-12-14T08:57:10.719Z"
   },
   {
    "duration": 15,
    "start_time": "2022-12-14T08:57:10.763Z"
   },
   {
    "duration": 25,
    "start_time": "2022-12-14T08:57:10.779Z"
   },
   {
    "duration": 28,
    "start_time": "2022-12-14T08:57:10.805Z"
   },
   {
    "duration": 35,
    "start_time": "2022-12-14T08:57:10.835Z"
   },
   {
    "duration": 21,
    "start_time": "2022-12-14T08:57:10.871Z"
   },
   {
    "duration": 56,
    "start_time": "2022-12-14T08:57:10.894Z"
   },
   {
    "duration": 23,
    "start_time": "2022-12-14T08:57:10.952Z"
   },
   {
    "duration": 32,
    "start_time": "2022-12-14T08:57:10.977Z"
   },
   {
    "duration": 24,
    "start_time": "2022-12-14T08:57:11.011Z"
   },
   {
    "duration": 29,
    "start_time": "2022-12-14T08:57:11.036Z"
   },
   {
    "duration": 28,
    "start_time": "2022-12-14T08:57:11.067Z"
   },
   {
    "duration": 25,
    "start_time": "2022-12-14T08:57:11.097Z"
   },
   {
    "duration": 54,
    "start_time": "2022-12-14T08:57:11.123Z"
   },
   {
    "duration": 28,
    "start_time": "2022-12-14T08:57:11.179Z"
   },
   {
    "duration": 46,
    "start_time": "2022-12-14T08:57:11.209Z"
   },
   {
    "duration": 159,
    "start_time": "2022-12-14T08:59:45.369Z"
   },
   {
    "duration": 259,
    "start_time": "2022-12-14T08:59:59.492Z"
   },
   {
    "duration": 258,
    "start_time": "2022-12-14T09:00:07.877Z"
   },
   {
    "duration": 1413,
    "start_time": "2022-12-14T09:00:33.333Z"
   },
   {
    "duration": 776,
    "start_time": "2022-12-14T09:00:34.748Z"
   },
   {
    "duration": 27,
    "start_time": "2022-12-14T09:00:35.526Z"
   },
   {
    "duration": 16,
    "start_time": "2022-12-14T09:00:35.554Z"
   },
   {
    "duration": 4,
    "start_time": "2022-12-14T09:00:35.572Z"
   },
   {
    "duration": 45,
    "start_time": "2022-12-14T09:00:35.577Z"
   },
   {
    "duration": 11,
    "start_time": "2022-12-14T09:00:35.623Z"
   },
   {
    "duration": 21,
    "start_time": "2022-12-14T09:00:35.636Z"
   },
   {
    "duration": 30,
    "start_time": "2022-12-14T09:00:35.659Z"
   },
   {
    "duration": 16,
    "start_time": "2022-12-14T09:00:35.692Z"
   },
   {
    "duration": 4,
    "start_time": "2022-12-14T09:00:35.710Z"
   },
   {
    "duration": 7,
    "start_time": "2022-12-14T09:00:35.715Z"
   },
   {
    "duration": 8,
    "start_time": "2022-12-14T09:00:35.724Z"
   },
   {
    "duration": 12,
    "start_time": "2022-12-14T09:00:35.733Z"
   },
   {
    "duration": 12,
    "start_time": "2022-12-14T09:00:35.746Z"
   },
   {
    "duration": 35,
    "start_time": "2022-12-14T09:00:35.759Z"
   },
   {
    "duration": 4,
    "start_time": "2022-12-14T09:00:35.796Z"
   },
   {
    "duration": 19,
    "start_time": "2022-12-14T09:00:35.802Z"
   },
   {
    "duration": 2,
    "start_time": "2022-12-14T09:00:35.823Z"
   },
   {
    "duration": 6,
    "start_time": "2022-12-14T09:00:35.826Z"
   },
   {
    "duration": 9,
    "start_time": "2022-12-14T09:00:35.833Z"
   },
   {
    "duration": 13,
    "start_time": "2022-12-14T09:00:35.844Z"
   },
   {
    "duration": 39,
    "start_time": "2022-12-14T09:00:35.859Z"
   },
   {
    "duration": 32,
    "start_time": "2022-12-14T09:00:35.899Z"
   },
   {
    "duration": 256,
    "start_time": "2022-12-14T09:00:35.933Z"
   },
   {
    "duration": 103,
    "start_time": "2022-12-14T09:03:53.301Z"
   },
   {
    "duration": 5,
    "start_time": "2022-12-14T09:04:01.806Z"
   },
   {
    "duration": 5,
    "start_time": "2022-12-14T09:04:07.053Z"
   },
   {
    "duration": 4,
    "start_time": "2022-12-14T09:04:08.535Z"
   },
   {
    "duration": 1348,
    "start_time": "2022-12-14T09:04:25.649Z"
   },
   {
    "duration": 679,
    "start_time": "2022-12-14T09:04:26.999Z"
   },
   {
    "duration": 25,
    "start_time": "2022-12-14T09:04:27.680Z"
   },
   {
    "duration": 26,
    "start_time": "2022-12-14T09:04:27.707Z"
   },
   {
    "duration": 3,
    "start_time": "2022-12-14T09:04:27.735Z"
   },
   {
    "duration": 23,
    "start_time": "2022-12-14T09:04:27.739Z"
   },
   {
    "duration": 16,
    "start_time": "2022-12-14T09:04:27.764Z"
   },
   {
    "duration": 21,
    "start_time": "2022-12-14T09:04:27.782Z"
   },
   {
    "duration": 29,
    "start_time": "2022-12-14T09:04:27.804Z"
   },
   {
    "duration": 21,
    "start_time": "2022-12-14T09:04:27.835Z"
   },
   {
    "duration": 5,
    "start_time": "2022-12-14T09:04:27.857Z"
   },
   {
    "duration": 11,
    "start_time": "2022-12-14T09:04:27.863Z"
   },
   {
    "duration": 7,
    "start_time": "2022-12-14T09:04:27.876Z"
   },
   {
    "duration": 19,
    "start_time": "2022-12-14T09:04:27.885Z"
   },
   {
    "duration": 8,
    "start_time": "2022-12-14T09:04:27.905Z"
   },
   {
    "duration": 113,
    "start_time": "2022-12-14T09:04:27.915Z"
   },
   {
    "duration": 0,
    "start_time": "2022-12-14T09:04:28.030Z"
   },
   {
    "duration": 0,
    "start_time": "2022-12-14T09:04:28.031Z"
   },
   {
    "duration": 0,
    "start_time": "2022-12-14T09:04:28.032Z"
   },
   {
    "duration": 0,
    "start_time": "2022-12-14T09:04:28.033Z"
   },
   {
    "duration": 0,
    "start_time": "2022-12-14T09:04:28.034Z"
   },
   {
    "duration": 0,
    "start_time": "2022-12-14T09:04:28.035Z"
   },
   {
    "duration": 0,
    "start_time": "2022-12-14T09:04:28.036Z"
   },
   {
    "duration": 0,
    "start_time": "2022-12-14T09:04:28.037Z"
   },
   {
    "duration": 0,
    "start_time": "2022-12-14T09:04:28.038Z"
   },
   {
    "duration": 1307,
    "start_time": "2022-12-14T09:05:15.682Z"
   },
   {
    "duration": 653,
    "start_time": "2022-12-14T09:05:16.991Z"
   },
   {
    "duration": 28,
    "start_time": "2022-12-14T09:05:17.645Z"
   },
   {
    "duration": 16,
    "start_time": "2022-12-14T09:05:17.675Z"
   },
   {
    "duration": 4,
    "start_time": "2022-12-14T09:05:17.692Z"
   },
   {
    "duration": 36,
    "start_time": "2022-12-14T09:05:17.697Z"
   },
   {
    "duration": 18,
    "start_time": "2022-12-14T09:05:17.735Z"
   },
   {
    "duration": 4,
    "start_time": "2022-12-14T09:05:17.755Z"
   },
   {
    "duration": 22,
    "start_time": "2022-12-14T09:05:17.760Z"
   },
   {
    "duration": 39,
    "start_time": "2022-12-14T09:05:17.785Z"
   },
   {
    "duration": 4,
    "start_time": "2022-12-14T09:05:17.825Z"
   },
   {
    "duration": 5,
    "start_time": "2022-12-14T09:05:17.831Z"
   },
   {
    "duration": 6,
    "start_time": "2022-12-14T09:05:17.837Z"
   },
   {
    "duration": 7,
    "start_time": "2022-12-14T09:05:17.844Z"
   },
   {
    "duration": 4,
    "start_time": "2022-12-14T09:05:17.853Z"
   },
   {
    "duration": 7,
    "start_time": "2022-12-14T09:05:17.858Z"
   },
   {
    "duration": 23,
    "start_time": "2022-12-14T09:05:17.866Z"
   },
   {
    "duration": 9,
    "start_time": "2022-12-14T09:05:17.891Z"
   },
   {
    "duration": 21,
    "start_time": "2022-12-14T09:05:17.902Z"
   },
   {
    "duration": 11,
    "start_time": "2022-12-14T09:05:17.925Z"
   },
   {
    "duration": 18,
    "start_time": "2022-12-14T09:05:17.937Z"
   },
   {
    "duration": 33,
    "start_time": "2022-12-14T09:05:17.956Z"
   },
   {
    "duration": 33,
    "start_time": "2022-12-14T09:05:17.991Z"
   },
   {
    "duration": 273,
    "start_time": "2022-12-14T09:05:18.026Z"
   },
   {
    "duration": 6,
    "start_time": "2022-12-14T09:06:09.225Z"
   },
   {
    "duration": 4,
    "start_time": "2022-12-14T09:06:11.809Z"
   },
   {
    "duration": 1368,
    "start_time": "2022-12-14T09:08:34.613Z"
   },
   {
    "duration": 664,
    "start_time": "2022-12-14T09:08:35.983Z"
   },
   {
    "duration": 24,
    "start_time": "2022-12-14T09:08:36.649Z"
   },
   {
    "duration": 17,
    "start_time": "2022-12-14T09:08:36.675Z"
   },
   {
    "duration": 7,
    "start_time": "2022-12-14T09:08:36.694Z"
   },
   {
    "duration": 37,
    "start_time": "2022-12-14T09:08:36.702Z"
   },
   {
    "duration": 22,
    "start_time": "2022-12-14T09:08:36.740Z"
   },
   {
    "duration": 10,
    "start_time": "2022-12-14T09:08:36.764Z"
   },
   {
    "duration": 36,
    "start_time": "2022-12-14T09:08:36.775Z"
   },
   {
    "duration": 32,
    "start_time": "2022-12-14T09:08:36.813Z"
   },
   {
    "duration": 7,
    "start_time": "2022-12-14T09:08:36.846Z"
   },
   {
    "duration": 21,
    "start_time": "2022-12-14T09:08:36.854Z"
   },
   {
    "duration": 19,
    "start_time": "2022-12-14T09:08:36.877Z"
   },
   {
    "duration": 22,
    "start_time": "2022-12-14T09:08:36.898Z"
   },
   {
    "duration": 16,
    "start_time": "2022-12-14T09:08:36.921Z"
   },
   {
    "duration": 32,
    "start_time": "2022-12-14T09:08:36.939Z"
   },
   {
    "duration": 15,
    "start_time": "2022-12-14T09:08:36.973Z"
   },
   {
    "duration": 27,
    "start_time": "2022-12-14T09:08:36.990Z"
   },
   {
    "duration": 12,
    "start_time": "2022-12-14T09:08:37.019Z"
   },
   {
    "duration": 21,
    "start_time": "2022-12-14T09:08:37.032Z"
   },
   {
    "duration": 50,
    "start_time": "2022-12-14T09:08:37.054Z"
   },
   {
    "duration": 28,
    "start_time": "2022-12-14T09:08:37.106Z"
   },
   {
    "duration": 271,
    "start_time": "2022-12-14T09:08:37.136Z"
   },
   {
    "duration": 253,
    "start_time": "2022-12-14T09:16:47.568Z"
   },
   {
    "duration": 3008,
    "start_time": "2022-12-14T09:17:31.832Z"
   },
   {
    "duration": 133,
    "start_time": "2022-12-14T09:31:26.411Z"
   },
   {
    "duration": 164,
    "start_time": "2022-12-14T09:31:45.434Z"
   },
   {
    "duration": 156,
    "start_time": "2022-12-14T09:32:15.134Z"
   },
   {
    "duration": 4,
    "start_time": "2022-12-14T09:33:11.702Z"
   },
   {
    "duration": 199,
    "start_time": "2022-12-14T09:33:20.466Z"
   },
   {
    "duration": 231,
    "start_time": "2022-12-14T09:34:15.474Z"
   },
   {
    "duration": 268,
    "start_time": "2022-12-14T09:34:20.706Z"
   },
   {
    "duration": 448,
    "start_time": "2022-12-14T09:34:30.290Z"
   },
   {
    "duration": 529,
    "start_time": "2022-12-14T09:34:48.374Z"
   },
   {
    "duration": 601,
    "start_time": "2022-12-14T09:35:35.566Z"
   },
   {
    "duration": 708,
    "start_time": "2022-12-14T09:35:45.403Z"
   },
   {
    "duration": 706,
    "start_time": "2022-12-14T09:36:15.506Z"
   },
   {
    "duration": 553,
    "start_time": "2022-12-14T09:38:36.352Z"
   },
   {
    "duration": 606,
    "start_time": "2022-12-14T09:39:38.994Z"
   },
   {
    "duration": 819,
    "start_time": "2022-12-14T09:39:51.626Z"
   },
   {
    "duration": 125,
    "start_time": "2022-12-14T09:40:22.322Z"
   },
   {
    "duration": 109,
    "start_time": "2022-12-14T09:40:58.171Z"
   },
   {
    "duration": 692,
    "start_time": "2022-12-14T09:41:02.306Z"
   },
   {
    "duration": 243,
    "start_time": "2022-12-14T09:41:23.466Z"
   },
   {
    "duration": 810,
    "start_time": "2022-12-14T09:41:47.657Z"
   },
   {
    "duration": 723,
    "start_time": "2022-12-14T09:42:07.413Z"
   },
   {
    "duration": 6,
    "start_time": "2022-12-14T09:42:51.582Z"
   },
   {
    "duration": 9,
    "start_time": "2022-12-14T09:42:56.670Z"
   },
   {
    "duration": 1206,
    "start_time": "2022-12-14T09:43:02.869Z"
   },
   {
    "duration": 1088,
    "start_time": "2022-12-14T09:43:21.733Z"
   },
   {
    "duration": 982,
    "start_time": "2022-12-14T09:43:40.921Z"
   },
   {
    "duration": 1158,
    "start_time": "2022-12-14T09:43:47.329Z"
   },
   {
    "duration": 1130,
    "start_time": "2022-12-14T09:47:51.637Z"
   },
   {
    "duration": 1276,
    "start_time": "2022-12-14T09:48:34.021Z"
   },
   {
    "duration": 1255,
    "start_time": "2022-12-14T09:49:28.261Z"
   },
   {
    "duration": 1148,
    "start_time": "2022-12-14T09:49:44.937Z"
   },
   {
    "duration": 1350,
    "start_time": "2022-12-14T09:50:21.275Z"
   },
   {
    "duration": 1607,
    "start_time": "2022-12-14T09:50:30.277Z"
   },
   {
    "duration": 1282,
    "start_time": "2022-12-14T09:51:12.512Z"
   },
   {
    "duration": 1386,
    "start_time": "2022-12-14T09:52:37.208Z"
   },
   {
    "duration": 1395,
    "start_time": "2022-12-14T09:52:45.812Z"
   },
   {
    "duration": 1191,
    "start_time": "2022-12-14T09:52:57.866Z"
   },
   {
    "duration": 1359,
    "start_time": "2022-12-14T09:53:02.133Z"
   },
   {
    "duration": 1350,
    "start_time": "2022-12-14T09:53:10.688Z"
   },
   {
    "duration": 1273,
    "start_time": "2022-12-14T09:53:16.061Z"
   },
   {
    "duration": 1343,
    "start_time": "2022-12-14T09:53:42.973Z"
   },
   {
    "duration": 2428,
    "start_time": "2022-12-14T09:54:21.927Z"
   },
   {
    "duration": 2526,
    "start_time": "2022-12-14T09:54:30.870Z"
   },
   {
    "duration": 1431,
    "start_time": "2022-12-14T09:54:43.509Z"
   },
   {
    "duration": 1412,
    "start_time": "2022-12-14T09:54:51.088Z"
   },
   {
    "duration": 1571,
    "start_time": "2022-12-14T09:54:55.492Z"
   },
   {
    "duration": 1325,
    "start_time": "2022-12-14T09:55:16.073Z"
   },
   {
    "duration": 1241,
    "start_time": "2022-12-14T09:55:23.136Z"
   },
   {
    "duration": 1592,
    "start_time": "2022-12-14T09:55:34.240Z"
   },
   {
    "duration": 1368,
    "start_time": "2022-12-14T09:55:53.492Z"
   },
   {
    "duration": 1336,
    "start_time": "2022-12-14T09:56:17.076Z"
   },
   {
    "duration": 61,
    "start_time": "2022-12-14T09:57:15.240Z"
   },
   {
    "duration": 17,
    "start_time": "2022-12-14T09:57:24.924Z"
   },
   {
    "duration": 1329,
    "start_time": "2022-12-14T09:57:39.016Z"
   },
   {
    "duration": 1315,
    "start_time": "2022-12-14T09:57:52.499Z"
   },
   {
    "duration": 1218,
    "start_time": "2022-12-14T10:01:29.035Z"
   },
   {
    "duration": 1406,
    "start_time": "2022-12-14T10:03:11.762Z"
   },
   {
    "duration": 1412,
    "start_time": "2022-12-14T10:03:20.373Z"
   },
   {
    "duration": 1564,
    "start_time": "2022-12-14T10:03:32.419Z"
   },
   {
    "duration": 1740,
    "start_time": "2022-12-14T10:04:44.711Z"
   },
   {
    "duration": 1052,
    "start_time": "2022-12-14T10:10:59.659Z"
   },
   {
    "duration": 338,
    "start_time": "2022-12-14T10:11:10.491Z"
   },
   {
    "duration": 371,
    "start_time": "2022-12-14T10:14:03.653Z"
   },
   {
    "duration": 370,
    "start_time": "2022-12-14T10:14:09.594Z"
   },
   {
    "duration": 8,
    "start_time": "2022-12-14T10:14:25.367Z"
   },
   {
    "duration": 333,
    "start_time": "2022-12-14T10:14:29.775Z"
   },
   {
    "duration": 503,
    "start_time": "2022-12-14T10:15:00.699Z"
   },
   {
    "duration": 339,
    "start_time": "2022-12-14T10:15:06.542Z"
   },
   {
    "duration": 707,
    "start_time": "2022-12-14T10:16:42.835Z"
   },
   {
    "duration": 821,
    "start_time": "2022-12-14T10:16:55.938Z"
   },
   {
    "duration": 671,
    "start_time": "2022-12-14T10:18:10.198Z"
   },
   {
    "duration": 619,
    "start_time": "2022-12-14T10:18:19.786Z"
   },
   {
    "duration": 872,
    "start_time": "2022-12-14T10:18:24.790Z"
   },
   {
    "duration": 10,
    "start_time": "2022-12-14T10:39:18.720Z"
   },
   {
    "duration": 10,
    "start_time": "2022-12-14T10:40:46.420Z"
   },
   {
    "duration": 11,
    "start_time": "2022-12-14T10:40:58.036Z"
   },
   {
    "duration": 12,
    "start_time": "2022-12-14T10:41:13.288Z"
   },
   {
    "duration": 7,
    "start_time": "2022-12-14T10:44:28.116Z"
   },
   {
    "duration": 7,
    "start_time": "2022-12-14T10:44:57.740Z"
   },
   {
    "duration": 515,
    "start_time": "2022-12-14T10:48:21.492Z"
   },
   {
    "duration": 7,
    "start_time": "2022-12-14T10:49:13.683Z"
   },
   {
    "duration": 418,
    "start_time": "2022-12-14T10:49:16.983Z"
   },
   {
    "duration": 493,
    "start_time": "2022-12-14T10:49:23.828Z"
   },
   {
    "duration": 532,
    "start_time": "2022-12-14T10:49:50.096Z"
   },
   {
    "duration": 515,
    "start_time": "2022-12-14T10:51:14.471Z"
   },
   {
    "duration": 604,
    "start_time": "2022-12-14T10:51:19.171Z"
   },
   {
    "duration": 830,
    "start_time": "2022-12-14T10:51:24.384Z"
   },
   {
    "duration": 801,
    "start_time": "2022-12-14T10:51:29.260Z"
   },
   {
    "duration": 932,
    "start_time": "2022-12-14T10:53:03.860Z"
   },
   {
    "duration": 383,
    "start_time": "2022-12-14T10:54:54.992Z"
   },
   {
    "duration": 520,
    "start_time": "2022-12-14T10:55:06.123Z"
   },
   {
    "duration": 819,
    "start_time": "2022-12-14T10:55:21.583Z"
   },
   {
    "duration": 11,
    "start_time": "2022-12-14T11:05:37.753Z"
   },
   {
    "duration": 33,
    "start_time": "2022-12-14T11:06:22.598Z"
   },
   {
    "duration": 21,
    "start_time": "2022-12-14T11:07:09.403Z"
   },
   {
    "duration": 24,
    "start_time": "2022-12-14T11:07:23.670Z"
   },
   {
    "duration": 1047,
    "start_time": "2022-12-14T11:47:48.642Z"
   },
   {
    "duration": 12,
    "start_time": "2022-12-14T11:47:57.622Z"
   },
   {
    "duration": 877,
    "start_time": "2022-12-14T11:49:20.738Z"
   },
   {
    "duration": 8,
    "start_time": "2022-12-14T11:49:24.271Z"
   },
   {
    "duration": 8,
    "start_time": "2022-12-14T11:49:41.086Z"
   },
   {
    "duration": 1389,
    "start_time": "2022-12-14T11:49:48.106Z"
   },
   {
    "duration": 675,
    "start_time": "2022-12-14T11:49:49.497Z"
   },
   {
    "duration": 22,
    "start_time": "2022-12-14T11:49:50.173Z"
   },
   {
    "duration": 27,
    "start_time": "2022-12-14T11:49:50.197Z"
   },
   {
    "duration": 3,
    "start_time": "2022-12-14T11:49:50.226Z"
   },
   {
    "duration": 23,
    "start_time": "2022-12-14T11:49:50.231Z"
   },
   {
    "duration": 16,
    "start_time": "2022-12-14T11:49:50.256Z"
   },
   {
    "duration": 3,
    "start_time": "2022-12-14T11:49:50.273Z"
   },
   {
    "duration": 20,
    "start_time": "2022-12-14T11:49:50.278Z"
   },
   {
    "duration": 33,
    "start_time": "2022-12-14T11:49:50.300Z"
   },
   {
    "duration": 4,
    "start_time": "2022-12-14T11:49:50.334Z"
   },
   {
    "duration": 5,
    "start_time": "2022-12-14T11:49:50.339Z"
   },
   {
    "duration": 8,
    "start_time": "2022-12-14T11:49:50.345Z"
   },
   {
    "duration": 15,
    "start_time": "2022-12-14T11:49:50.354Z"
   },
   {
    "duration": 10,
    "start_time": "2022-12-14T11:49:50.370Z"
   },
   {
    "duration": 22,
    "start_time": "2022-12-14T11:49:50.382Z"
   },
   {
    "duration": 15,
    "start_time": "2022-12-14T11:49:50.405Z"
   },
   {
    "duration": 6,
    "start_time": "2022-12-14T11:49:50.421Z"
   },
   {
    "duration": 8,
    "start_time": "2022-12-14T11:49:50.428Z"
   },
   {
    "duration": 19,
    "start_time": "2022-12-14T11:49:50.437Z"
   },
   {
    "duration": 41,
    "start_time": "2022-12-14T11:49:50.457Z"
   },
   {
    "duration": 27,
    "start_time": "2022-12-14T11:49:50.500Z"
   },
   {
    "duration": 271,
    "start_time": "2022-12-14T11:49:50.529Z"
   },
   {
    "duration": 1474,
    "start_time": "2022-12-14T11:49:50.802Z"
   },
   {
    "duration": 606,
    "start_time": "2022-12-14T11:49:52.277Z"
   },
   {
    "duration": 722,
    "start_time": "2022-12-14T11:49:52.885Z"
   },
   {
    "duration": 31,
    "start_time": "2022-12-14T11:49:53.609Z"
   },
   {
    "duration": 14,
    "start_time": "2022-12-14T11:49:53.643Z"
   },
   {
    "duration": 104,
    "start_time": "2022-12-14T11:50:08.162Z"
   },
   {
    "duration": 1335,
    "start_time": "2022-12-14T11:50:55.623Z"
   },
   {
    "duration": 670,
    "start_time": "2022-12-14T11:50:56.960Z"
   },
   {
    "duration": 24,
    "start_time": "2022-12-14T11:50:57.631Z"
   },
   {
    "duration": 17,
    "start_time": "2022-12-14T11:50:57.657Z"
   },
   {
    "duration": 4,
    "start_time": "2022-12-14T11:50:57.675Z"
   },
   {
    "duration": 41,
    "start_time": "2022-12-14T11:50:57.680Z"
   },
   {
    "duration": 11,
    "start_time": "2022-12-14T11:50:57.723Z"
   },
   {
    "duration": 4,
    "start_time": "2022-12-14T11:50:57.735Z"
   },
   {
    "duration": 20,
    "start_time": "2022-12-14T11:50:57.740Z"
   },
   {
    "duration": 16,
    "start_time": "2022-12-14T11:50:57.763Z"
   },
   {
    "duration": 4,
    "start_time": "2022-12-14T11:50:57.781Z"
   },
   {
    "duration": 34,
    "start_time": "2022-12-14T11:50:57.787Z"
   },
   {
    "duration": 5,
    "start_time": "2022-12-14T11:50:57.823Z"
   },
   {
    "duration": 7,
    "start_time": "2022-12-14T11:50:57.830Z"
   },
   {
    "duration": 6,
    "start_time": "2022-12-14T11:50:57.838Z"
   },
   {
    "duration": 17,
    "start_time": "2022-12-14T11:50:57.846Z"
   },
   {
    "duration": 3,
    "start_time": "2022-12-14T11:50:57.865Z"
   },
   {
    "duration": 6,
    "start_time": "2022-12-14T11:50:57.870Z"
   },
   {
    "duration": 7,
    "start_time": "2022-12-14T11:50:57.877Z"
   },
   {
    "duration": 42,
    "start_time": "2022-12-14T11:50:57.885Z"
   },
   {
    "duration": 32,
    "start_time": "2022-12-14T11:50:57.929Z"
   },
   {
    "duration": 28,
    "start_time": "2022-12-14T11:50:57.962Z"
   },
   {
    "duration": 286,
    "start_time": "2022-12-14T11:50:57.992Z"
   },
   {
    "duration": 1501,
    "start_time": "2022-12-14T11:50:58.280Z"
   },
   {
    "duration": 631,
    "start_time": "2022-12-14T11:50:59.783Z"
   },
   {
    "duration": 744,
    "start_time": "2022-12-14T11:51:00.420Z"
   },
   {
    "duration": 25,
    "start_time": "2022-12-14T11:51:01.166Z"
   },
   {
    "duration": 15,
    "start_time": "2022-12-14T11:51:01.194Z"
   },
   {
    "duration": 111,
    "start_time": "2022-12-14T11:51:14.662Z"
   },
   {
    "duration": 9,
    "start_time": "2022-12-14T11:51:22.854Z"
   },
   {
    "duration": 47,
    "start_time": "2022-12-14T11:53:43.386Z"
   },
   {
    "duration": 10,
    "start_time": "2022-12-14T11:53:46.581Z"
   },
   {
    "duration": 1475,
    "start_time": "2022-12-14T11:53:53.845Z"
   },
   {
    "duration": 706,
    "start_time": "2022-12-14T11:53:55.322Z"
   },
   {
    "duration": 24,
    "start_time": "2022-12-14T11:53:56.029Z"
   },
   {
    "duration": 20,
    "start_time": "2022-12-14T11:53:56.054Z"
   },
   {
    "duration": 4,
    "start_time": "2022-12-14T11:53:56.075Z"
   },
   {
    "duration": 21,
    "start_time": "2022-12-14T11:53:56.081Z"
   },
   {
    "duration": 12,
    "start_time": "2022-12-14T11:53:56.121Z"
   },
   {
    "duration": 4,
    "start_time": "2022-12-14T11:53:56.134Z"
   },
   {
    "duration": 20,
    "start_time": "2022-12-14T11:53:56.139Z"
   },
   {
    "duration": 16,
    "start_time": "2022-12-14T11:53:56.162Z"
   },
   {
    "duration": 4,
    "start_time": "2022-12-14T11:53:56.179Z"
   },
   {
    "duration": 11,
    "start_time": "2022-12-14T11:53:56.184Z"
   },
   {
    "duration": 26,
    "start_time": "2022-12-14T11:53:56.197Z"
   },
   {
    "duration": 8,
    "start_time": "2022-12-14T11:53:56.225Z"
   },
   {
    "duration": 9,
    "start_time": "2022-12-14T11:53:56.234Z"
   },
   {
    "duration": 22,
    "start_time": "2022-12-14T11:53:56.245Z"
   },
   {
    "duration": 13,
    "start_time": "2022-12-14T11:53:56.268Z"
   },
   {
    "duration": 23,
    "start_time": "2022-12-14T11:53:56.283Z"
   },
   {
    "duration": 15,
    "start_time": "2022-12-14T11:53:56.308Z"
   },
   {
    "duration": 12,
    "start_time": "2022-12-14T11:53:56.324Z"
   },
   {
    "duration": 28,
    "start_time": "2022-12-14T11:53:56.338Z"
   },
   {
    "duration": 30,
    "start_time": "2022-12-14T11:53:56.368Z"
   },
   {
    "duration": 291,
    "start_time": "2022-12-14T11:53:56.400Z"
   },
   {
    "duration": 1460,
    "start_time": "2022-12-14T11:53:56.693Z"
   },
   {
    "duration": 604,
    "start_time": "2022-12-14T11:53:58.155Z"
   },
   {
    "duration": 732,
    "start_time": "2022-12-14T11:53:58.761Z"
   },
   {
    "duration": 30,
    "start_time": "2022-12-14T11:53:59.495Z"
   },
   {
    "duration": 118,
    "start_time": "2022-12-14T11:53:59.528Z"
   },
   {
    "duration": 0,
    "start_time": "2022-12-14T11:53:59.647Z"
   },
   {
    "duration": 9,
    "start_time": "2022-12-14T11:54:12.950Z"
   },
   {
    "duration": 11,
    "start_time": "2022-12-14T11:54:15.762Z"
   },
   {
    "duration": 9,
    "start_time": "2022-12-14T11:54:17.714Z"
   },
   {
    "duration": 1297,
    "start_time": "2022-12-14T11:54:22.666Z"
   },
   {
    "duration": 674,
    "start_time": "2022-12-14T11:54:23.965Z"
   },
   {
    "duration": 22,
    "start_time": "2022-12-14T11:54:24.641Z"
   },
   {
    "duration": 17,
    "start_time": "2022-12-14T11:54:24.665Z"
   },
   {
    "duration": 4,
    "start_time": "2022-12-14T11:54:24.684Z"
   },
   {
    "duration": 42,
    "start_time": "2022-12-14T11:54:24.689Z"
   },
   {
    "duration": 12,
    "start_time": "2022-12-14T11:54:24.732Z"
   },
   {
    "duration": 3,
    "start_time": "2022-12-14T11:54:24.745Z"
   },
   {
    "duration": 19,
    "start_time": "2022-12-14T11:54:24.750Z"
   },
   {
    "duration": 24,
    "start_time": "2022-12-14T11:54:24.772Z"
   },
   {
    "duration": 3,
    "start_time": "2022-12-14T11:54:24.797Z"
   },
   {
    "duration": 20,
    "start_time": "2022-12-14T11:54:24.802Z"
   },
   {
    "duration": 12,
    "start_time": "2022-12-14T11:54:24.824Z"
   },
   {
    "duration": 5,
    "start_time": "2022-12-14T11:54:24.837Z"
   },
   {
    "duration": 6,
    "start_time": "2022-12-14T11:54:24.843Z"
   },
   {
    "duration": 19,
    "start_time": "2022-12-14T11:54:24.851Z"
   },
   {
    "duration": 3,
    "start_time": "2022-12-14T11:54:24.872Z"
   },
   {
    "duration": 11,
    "start_time": "2022-12-14T11:54:24.877Z"
   },
   {
    "duration": 11,
    "start_time": "2022-12-14T11:54:24.889Z"
   },
   {
    "duration": 19,
    "start_time": "2022-12-14T11:54:24.902Z"
   },
   {
    "duration": 29,
    "start_time": "2022-12-14T11:54:24.922Z"
   },
   {
    "duration": 28,
    "start_time": "2022-12-14T11:54:24.953Z"
   },
   {
    "duration": 279,
    "start_time": "2022-12-14T11:54:24.983Z"
   },
   {
    "duration": 1571,
    "start_time": "2022-12-14T11:54:25.264Z"
   },
   {
    "duration": 630,
    "start_time": "2022-12-14T11:54:26.836Z"
   },
   {
    "duration": 758,
    "start_time": "2022-12-14T11:54:27.468Z"
   },
   {
    "duration": 22,
    "start_time": "2022-12-14T11:54:28.228Z"
   },
   {
    "duration": 3,
    "start_time": "2022-12-14T11:54:28.254Z"
   },
   {
    "duration": 121,
    "start_time": "2022-12-14T11:54:28.259Z"
   },
   {
    "duration": 9,
    "start_time": "2022-12-14T11:55:27.034Z"
   },
   {
    "duration": 1340,
    "start_time": "2022-12-14T11:55:33.346Z"
   },
   {
    "duration": 708,
    "start_time": "2022-12-14T11:55:34.688Z"
   },
   {
    "duration": 38,
    "start_time": "2022-12-14T11:55:35.398Z"
   },
   {
    "duration": 20,
    "start_time": "2022-12-14T11:55:35.438Z"
   },
   {
    "duration": 4,
    "start_time": "2022-12-14T11:55:35.460Z"
   },
   {
    "duration": 25,
    "start_time": "2022-12-14T11:55:35.465Z"
   },
   {
    "duration": 30,
    "start_time": "2022-12-14T11:55:35.492Z"
   },
   {
    "duration": 3,
    "start_time": "2022-12-14T11:55:35.524Z"
   },
   {
    "duration": 20,
    "start_time": "2022-12-14T11:55:35.528Z"
   },
   {
    "duration": 17,
    "start_time": "2022-12-14T11:55:35.551Z"
   },
   {
    "duration": 3,
    "start_time": "2022-12-14T11:55:35.570Z"
   },
   {
    "duration": 4,
    "start_time": "2022-12-14T11:55:35.575Z"
   },
   {
    "duration": 14,
    "start_time": "2022-12-14T11:55:35.580Z"
   },
   {
    "duration": 28,
    "start_time": "2022-12-14T11:55:35.595Z"
   },
   {
    "duration": 5,
    "start_time": "2022-12-14T11:55:35.625Z"
   },
   {
    "duration": 21,
    "start_time": "2022-12-14T11:55:35.631Z"
   },
   {
    "duration": 5,
    "start_time": "2022-12-14T11:55:35.653Z"
   },
   {
    "duration": 6,
    "start_time": "2022-12-14T11:55:35.659Z"
   },
   {
    "duration": 8,
    "start_time": "2022-12-14T11:55:35.666Z"
   },
   {
    "duration": 20,
    "start_time": "2022-12-14T11:55:35.675Z"
   },
   {
    "duration": 44,
    "start_time": "2022-12-14T11:55:35.697Z"
   },
   {
    "duration": 30,
    "start_time": "2022-12-14T11:55:35.743Z"
   },
   {
    "duration": 283,
    "start_time": "2022-12-14T11:55:35.774Z"
   },
   {
    "duration": 1462,
    "start_time": "2022-12-14T11:55:36.059Z"
   },
   {
    "duration": 588,
    "start_time": "2022-12-14T11:55:37.522Z"
   },
   {
    "duration": 753,
    "start_time": "2022-12-14T11:55:38.112Z"
   },
   {
    "duration": 24,
    "start_time": "2022-12-14T11:55:38.866Z"
   },
   {
    "duration": 4,
    "start_time": "2022-12-14T11:55:38.893Z"
   },
   {
    "duration": 126,
    "start_time": "2022-12-14T11:55:38.899Z"
   },
   {
    "duration": 12,
    "start_time": "2022-12-14T11:56:00.631Z"
   },
   {
    "duration": 6,
    "start_time": "2022-12-14T11:56:15.395Z"
   },
   {
    "duration": 6,
    "start_time": "2022-12-14T11:56:17.877Z"
   },
   {
    "duration": 17,
    "start_time": "2022-12-14T11:56:22.830Z"
   },
   {
    "duration": 30,
    "start_time": "2022-12-14T11:56:32.531Z"
   },
   {
    "duration": 19,
    "start_time": "2022-12-14T11:56:41.553Z"
   },
   {
    "duration": 28,
    "start_time": "2022-12-14T11:56:48.833Z"
   },
   {
    "duration": 33,
    "start_time": "2022-12-14T11:56:58.658Z"
   },
   {
    "duration": 6,
    "start_time": "2022-12-14T11:57:25.641Z"
   },
   {
    "duration": 3,
    "start_time": "2022-12-14T12:03:15.297Z"
   },
   {
    "duration": 3,
    "start_time": "2022-12-14T12:05:13.496Z"
   },
   {
    "duration": 1055,
    "start_time": "2022-12-15T08:06:16.691Z"
   },
   {
    "duration": 1311,
    "start_time": "2022-12-15T08:06:35.239Z"
   },
   {
    "duration": 678,
    "start_time": "2022-12-15T08:06:36.552Z"
   },
   {
    "duration": 21,
    "start_time": "2022-12-15T08:06:37.232Z"
   },
   {
    "duration": 16,
    "start_time": "2022-12-15T08:06:37.255Z"
   },
   {
    "duration": 3,
    "start_time": "2022-12-15T08:06:37.273Z"
   },
   {
    "duration": 19,
    "start_time": "2022-12-15T08:06:37.278Z"
   },
   {
    "duration": 32,
    "start_time": "2022-12-15T08:06:37.299Z"
   },
   {
    "duration": 5,
    "start_time": "2022-12-15T08:06:37.333Z"
   },
   {
    "duration": 30,
    "start_time": "2022-12-15T08:06:37.339Z"
   },
   {
    "duration": 16,
    "start_time": "2022-12-15T08:06:37.372Z"
   },
   {
    "duration": 3,
    "start_time": "2022-12-15T08:06:37.390Z"
   },
   {
    "duration": 29,
    "start_time": "2022-12-15T08:06:37.395Z"
   },
   {
    "duration": 10,
    "start_time": "2022-12-15T08:06:37.425Z"
   },
   {
    "duration": 5,
    "start_time": "2022-12-15T08:06:37.437Z"
   },
   {
    "duration": 14,
    "start_time": "2022-12-15T08:06:37.443Z"
   },
   {
    "duration": 19,
    "start_time": "2022-12-15T08:06:37.459Z"
   },
   {
    "duration": 5,
    "start_time": "2022-12-15T08:06:37.479Z"
   },
   {
    "duration": 6,
    "start_time": "2022-12-15T08:06:37.485Z"
   },
   {
    "duration": 5,
    "start_time": "2022-12-15T08:06:37.494Z"
   },
   {
    "duration": 25,
    "start_time": "2022-12-15T08:06:37.500Z"
   },
   {
    "duration": 28,
    "start_time": "2022-12-15T08:06:37.527Z"
   },
   {
    "duration": 27,
    "start_time": "2022-12-15T08:06:37.556Z"
   },
   {
    "duration": 280,
    "start_time": "2022-12-15T08:06:37.584Z"
   },
   {
    "duration": 1497,
    "start_time": "2022-12-15T08:06:37.866Z"
   },
   {
    "duration": 638,
    "start_time": "2022-12-15T08:06:39.365Z"
   },
   {
    "duration": 771,
    "start_time": "2022-12-15T08:06:40.004Z"
   },
   {
    "duration": 22,
    "start_time": "2022-12-15T08:06:40.777Z"
   },
   {
    "duration": 4,
    "start_time": "2022-12-15T08:06:40.802Z"
   },
   {
    "duration": 5,
    "start_time": "2022-12-15T08:06:40.821Z"
   },
   {
    "duration": 17,
    "start_time": "2022-12-15T08:06:40.828Z"
   },
   {
    "duration": 8,
    "start_time": "2022-12-15T08:06:40.847Z"
   },
   {
    "duration": 112,
    "start_time": "2022-12-15T08:06:40.856Z"
   },
   {
    "duration": 846,
    "start_time": "2022-12-15T08:07:19.179Z"
   },
   {
    "duration": 834,
    "start_time": "2022-12-15T08:07:53.235Z"
   },
   {
    "duration": 1305,
    "start_time": "2022-12-15T08:08:06.874Z"
   },
   {
    "duration": 697,
    "start_time": "2022-12-15T08:08:08.181Z"
   },
   {
    "duration": 25,
    "start_time": "2022-12-15T08:08:08.880Z"
   },
   {
    "duration": 26,
    "start_time": "2022-12-15T08:08:08.907Z"
   },
   {
    "duration": 4,
    "start_time": "2022-12-15T08:08:08.935Z"
   },
   {
    "duration": 35,
    "start_time": "2022-12-15T08:08:08.940Z"
   },
   {
    "duration": 14,
    "start_time": "2022-12-15T08:08:08.977Z"
   },
   {
    "duration": 3,
    "start_time": "2022-12-15T08:08:08.993Z"
   },
   {
    "duration": 35,
    "start_time": "2022-12-15T08:08:08.998Z"
   },
   {
    "duration": 18,
    "start_time": "2022-12-15T08:08:09.036Z"
   },
   {
    "duration": 3,
    "start_time": "2022-12-15T08:08:09.056Z"
   },
   {
    "duration": 27,
    "start_time": "2022-12-15T08:08:09.060Z"
   },
   {
    "duration": 10,
    "start_time": "2022-12-15T08:08:09.088Z"
   },
   {
    "duration": 5,
    "start_time": "2022-12-15T08:08:09.100Z"
   },
   {
    "duration": 19,
    "start_time": "2022-12-15T08:08:09.106Z"
   },
   {
    "duration": 28,
    "start_time": "2022-12-15T08:08:09.127Z"
   },
   {
    "duration": 3,
    "start_time": "2022-12-15T08:08:09.156Z"
   },
   {
    "duration": 12,
    "start_time": "2022-12-15T08:08:09.161Z"
   },
   {
    "duration": 11,
    "start_time": "2022-12-15T08:08:09.175Z"
   },
   {
    "duration": 14,
    "start_time": "2022-12-15T08:08:09.188Z"
   },
   {
    "duration": 37,
    "start_time": "2022-12-15T08:08:09.203Z"
   },
   {
    "duration": 28,
    "start_time": "2022-12-15T08:08:09.242Z"
   },
   {
    "duration": 288,
    "start_time": "2022-12-15T08:08:09.272Z"
   },
   {
    "duration": 1506,
    "start_time": "2022-12-15T08:08:09.562Z"
   },
   {
    "duration": 616,
    "start_time": "2022-12-15T08:08:11.070Z"
   },
   {
    "duration": 762,
    "start_time": "2022-12-15T08:08:11.688Z"
   },
   {
    "duration": 23,
    "start_time": "2022-12-15T08:08:12.452Z"
   },
   {
    "duration": 4,
    "start_time": "2022-12-15T08:08:12.478Z"
   },
   {
    "duration": 8,
    "start_time": "2022-12-15T08:08:12.483Z"
   },
   {
    "duration": 6,
    "start_time": "2022-12-15T08:08:12.492Z"
   },
   {
    "duration": 22,
    "start_time": "2022-12-15T08:08:12.499Z"
   },
   {
    "duration": 123,
    "start_time": "2022-12-15T08:08:12.523Z"
   },
   {
    "duration": 6,
    "start_time": "2022-12-15T08:08:57.863Z"
   },
   {
    "duration": 3,
    "start_time": "2022-12-15T08:23:08.550Z"
   },
   {
    "duration": 1288,
    "start_time": "2022-12-15T08:24:58.173Z"
   },
   {
    "duration": 2673,
    "start_time": "2022-12-15T08:26:26.850Z"
   },
   {
    "duration": 53,
    "start_time": "2022-12-15T08:36:27.725Z"
   },
   {
    "duration": 54,
    "start_time": "2022-12-15T08:36:44.585Z"
   },
   {
    "duration": 5,
    "start_time": "2022-12-15T08:36:48.175Z"
   },
   {
    "duration": 3043,
    "start_time": "2022-12-15T08:36:48.182Z"
   },
   {
    "duration": 22333,
    "start_time": "2022-12-15T08:36:51.361Z"
   },
   {
    "duration": 22597,
    "start_time": "2022-12-15T08:44:55.200Z"
   },
   {
    "duration": 67,
    "start_time": "2022-12-15T08:47:34.612Z"
   },
   {
    "duration": 1308,
    "start_time": "2022-12-15T08:55:03.563Z"
   },
   {
    "duration": 729,
    "start_time": "2022-12-15T08:55:04.873Z"
   },
   {
    "duration": 29,
    "start_time": "2022-12-15T08:55:05.603Z"
   },
   {
    "duration": 21,
    "start_time": "2022-12-15T08:55:05.634Z"
   },
   {
    "duration": 3,
    "start_time": "2022-12-15T08:55:05.657Z"
   },
   {
    "duration": 33,
    "start_time": "2022-12-15T08:55:05.661Z"
   },
   {
    "duration": 19,
    "start_time": "2022-12-15T08:55:05.696Z"
   },
   {
    "duration": 3,
    "start_time": "2022-12-15T08:55:05.716Z"
   },
   {
    "duration": 25,
    "start_time": "2022-12-15T08:55:05.720Z"
   },
   {
    "duration": 28,
    "start_time": "2022-12-15T08:55:05.747Z"
   },
   {
    "duration": 11,
    "start_time": "2022-12-15T08:55:05.776Z"
   },
   {
    "duration": 37,
    "start_time": "2022-12-15T08:55:05.789Z"
   },
   {
    "duration": 25,
    "start_time": "2022-12-15T08:55:05.828Z"
   },
   {
    "duration": 30,
    "start_time": "2022-12-15T08:55:05.855Z"
   },
   {
    "duration": 25,
    "start_time": "2022-12-15T08:55:05.886Z"
   },
   {
    "duration": 33,
    "start_time": "2022-12-15T08:55:05.913Z"
   },
   {
    "duration": 11,
    "start_time": "2022-12-15T08:55:05.948Z"
   },
   {
    "duration": 19,
    "start_time": "2022-12-15T08:55:05.961Z"
   },
   {
    "duration": 28,
    "start_time": "2022-12-15T08:55:05.981Z"
   },
   {
    "duration": 42,
    "start_time": "2022-12-15T08:55:06.010Z"
   },
   {
    "duration": 45,
    "start_time": "2022-12-15T08:55:06.054Z"
   },
   {
    "duration": 28,
    "start_time": "2022-12-15T08:55:06.101Z"
   },
   {
    "duration": 274,
    "start_time": "2022-12-15T08:55:06.130Z"
   },
   {
    "duration": 1472,
    "start_time": "2022-12-15T08:55:06.406Z"
   },
   {
    "duration": 588,
    "start_time": "2022-12-15T08:55:07.879Z"
   },
   {
    "duration": 734,
    "start_time": "2022-12-15T08:55:08.469Z"
   },
   {
    "duration": 30,
    "start_time": "2022-12-15T08:55:09.204Z"
   },
   {
    "duration": 3,
    "start_time": "2022-12-15T08:55:09.237Z"
   },
   {
    "duration": 10,
    "start_time": "2022-12-15T08:55:09.242Z"
   },
   {
    "duration": 12,
    "start_time": "2022-12-15T08:55:09.253Z"
   },
   {
    "duration": 10,
    "start_time": "2022-12-15T08:55:09.266Z"
   },
   {
    "duration": 6,
    "start_time": "2022-12-15T08:55:09.277Z"
   },
   {
    "duration": 9,
    "start_time": "2022-12-15T08:55:09.285Z"
   },
   {
    "duration": 202,
    "start_time": "2022-12-15T08:55:09.295Z"
   },
   {
    "duration": 54,
    "start_time": "2022-12-15T08:55:09.498Z"
   },
   {
    "duration": 52,
    "start_time": "2022-12-15T08:55:09.553Z"
   },
   {
    "duration": 1403,
    "start_time": "2022-12-15T08:55:44.390Z"
   },
   {
    "duration": 685,
    "start_time": "2022-12-15T08:55:45.795Z"
   },
   {
    "duration": 24,
    "start_time": "2022-12-15T08:55:46.482Z"
   },
   {
    "duration": 26,
    "start_time": "2022-12-15T08:55:46.508Z"
   },
   {
    "duration": 3,
    "start_time": "2022-12-15T08:55:46.536Z"
   },
   {
    "duration": 22,
    "start_time": "2022-12-15T08:55:46.541Z"
   },
   {
    "duration": 14,
    "start_time": "2022-12-15T08:55:46.564Z"
   },
   {
    "duration": 4,
    "start_time": "2022-12-15T08:55:46.579Z"
   },
   {
    "duration": 46,
    "start_time": "2022-12-15T08:55:46.584Z"
   },
   {
    "duration": 16,
    "start_time": "2022-12-15T08:55:46.632Z"
   },
   {
    "duration": 3,
    "start_time": "2022-12-15T08:55:46.650Z"
   },
   {
    "duration": 6,
    "start_time": "2022-12-15T08:55:46.654Z"
   },
   {
    "duration": 19,
    "start_time": "2022-12-15T08:55:46.661Z"
   },
   {
    "duration": 4,
    "start_time": "2022-12-15T08:55:46.681Z"
   },
   {
    "duration": 10,
    "start_time": "2022-12-15T08:55:46.687Z"
   },
   {
    "duration": 33,
    "start_time": "2022-12-15T08:55:46.699Z"
   },
   {
    "duration": 2,
    "start_time": "2022-12-15T08:55:46.734Z"
   },
   {
    "duration": 6,
    "start_time": "2022-12-15T08:55:46.738Z"
   },
   {
    "duration": 6,
    "start_time": "2022-12-15T08:55:46.745Z"
   },
   {
    "duration": 12,
    "start_time": "2022-12-15T08:55:46.753Z"
   },
   {
    "duration": 30,
    "start_time": "2022-12-15T08:55:46.767Z"
   },
   {
    "duration": 28,
    "start_time": "2022-12-15T08:55:46.820Z"
   },
   {
    "duration": 275,
    "start_time": "2022-12-15T08:55:46.849Z"
   },
   {
    "duration": 1523,
    "start_time": "2022-12-15T08:55:47.126Z"
   },
   {
    "duration": 652,
    "start_time": "2022-12-15T08:55:48.650Z"
   },
   {
    "duration": 730,
    "start_time": "2022-12-15T08:55:49.304Z"
   },
   {
    "duration": 20,
    "start_time": "2022-12-15T08:55:50.036Z"
   },
   {
    "duration": 3,
    "start_time": "2022-12-15T08:55:50.059Z"
   },
   {
    "duration": 12,
    "start_time": "2022-12-15T08:55:50.063Z"
   },
   {
    "duration": 8,
    "start_time": "2022-12-15T08:55:50.076Z"
   },
   {
    "duration": 8,
    "start_time": "2022-12-15T08:55:50.085Z"
   },
   {
    "duration": 8,
    "start_time": "2022-12-15T08:55:50.095Z"
   },
   {
    "duration": 19,
    "start_time": "2022-12-15T08:55:50.104Z"
   },
   {
    "duration": 155,
    "start_time": "2022-12-15T08:55:50.124Z"
   },
   {
    "duration": 52,
    "start_time": "2022-12-15T08:55:50.281Z"
   },
   {
    "duration": 98,
    "start_time": "2022-12-15T08:55:50.335Z"
   },
   {
    "duration": 1322,
    "start_time": "2022-12-15T08:58:05.551Z"
   },
   {
    "duration": 700,
    "start_time": "2022-12-15T08:58:06.874Z"
   },
   {
    "duration": 22,
    "start_time": "2022-12-15T08:58:07.575Z"
   },
   {
    "duration": 26,
    "start_time": "2022-12-15T08:58:07.599Z"
   },
   {
    "duration": 9,
    "start_time": "2022-12-15T08:58:07.627Z"
   },
   {
    "duration": 39,
    "start_time": "2022-12-15T08:58:07.637Z"
   },
   {
    "duration": 28,
    "start_time": "2022-12-15T08:58:07.677Z"
   },
   {
    "duration": 5,
    "start_time": "2022-12-15T08:58:07.706Z"
   },
   {
    "duration": 52,
    "start_time": "2022-12-15T08:58:07.712Z"
   },
   {
    "duration": 29,
    "start_time": "2022-12-15T08:58:07.766Z"
   },
   {
    "duration": 4,
    "start_time": "2022-12-15T08:58:07.796Z"
   },
   {
    "duration": 14,
    "start_time": "2022-12-15T08:58:07.801Z"
   },
   {
    "duration": 10,
    "start_time": "2022-12-15T08:58:07.816Z"
   },
   {
    "duration": 8,
    "start_time": "2022-12-15T08:58:07.827Z"
   },
   {
    "duration": 14,
    "start_time": "2022-12-15T08:58:07.836Z"
   },
   {
    "duration": 20,
    "start_time": "2022-12-15T08:58:07.851Z"
   },
   {
    "duration": 4,
    "start_time": "2022-12-15T08:58:07.873Z"
   },
   {
    "duration": 7,
    "start_time": "2022-12-15T08:58:07.878Z"
   },
   {
    "duration": 10,
    "start_time": "2022-12-15T08:58:07.886Z"
   },
   {
    "duration": 19,
    "start_time": "2022-12-15T08:58:07.897Z"
   },
   {
    "duration": 29,
    "start_time": "2022-12-15T08:58:07.917Z"
   },
   {
    "duration": 27,
    "start_time": "2022-12-15T08:58:07.947Z"
   },
   {
    "duration": 276,
    "start_time": "2022-12-15T08:58:07.975Z"
   },
   {
    "duration": 1483,
    "start_time": "2022-12-15T08:58:08.253Z"
   },
   {
    "duration": 623,
    "start_time": "2022-12-15T08:58:09.738Z"
   },
   {
    "duration": 756,
    "start_time": "2022-12-15T08:58:10.363Z"
   },
   {
    "duration": 23,
    "start_time": "2022-12-15T08:58:11.120Z"
   },
   {
    "duration": 3,
    "start_time": "2022-12-15T08:58:11.146Z"
   },
   {
    "duration": 8,
    "start_time": "2022-12-15T08:58:11.151Z"
   },
   {
    "duration": 11,
    "start_time": "2022-12-15T08:58:11.160Z"
   },
   {
    "duration": 16,
    "start_time": "2022-12-15T08:58:11.172Z"
   },
   {
    "duration": 11,
    "start_time": "2022-12-15T08:58:11.190Z"
   },
   {
    "duration": 18,
    "start_time": "2022-12-15T08:58:11.203Z"
   },
   {
    "duration": 2703,
    "start_time": "2022-12-15T08:58:11.222Z"
   },
   {
    "duration": 22692,
    "start_time": "2022-12-15T08:58:13.928Z"
   },
   {
    "duration": 1299,
    "start_time": "2022-12-15T09:06:41.057Z"
   },
   {
    "duration": 718,
    "start_time": "2022-12-15T09:06:42.359Z"
   },
   {
    "duration": 24,
    "start_time": "2022-12-15T09:06:43.078Z"
   },
   {
    "duration": 28,
    "start_time": "2022-12-15T09:06:43.104Z"
   },
   {
    "duration": 5,
    "start_time": "2022-12-15T09:06:43.133Z"
   },
   {
    "duration": 49,
    "start_time": "2022-12-15T09:06:43.140Z"
   },
   {
    "duration": 43,
    "start_time": "2022-12-15T09:06:43.191Z"
   },
   {
    "duration": 18,
    "start_time": "2022-12-15T09:06:43.236Z"
   },
   {
    "duration": 35,
    "start_time": "2022-12-15T09:06:43.256Z"
   },
   {
    "duration": 30,
    "start_time": "2022-12-15T09:06:43.294Z"
   },
   {
    "duration": 4,
    "start_time": "2022-12-15T09:06:43.325Z"
   },
   {
    "duration": 17,
    "start_time": "2022-12-15T09:06:43.331Z"
   },
   {
    "duration": 27,
    "start_time": "2022-12-15T09:06:43.349Z"
   },
   {
    "duration": 20,
    "start_time": "2022-12-15T09:06:43.378Z"
   },
   {
    "duration": 33,
    "start_time": "2022-12-15T09:06:43.401Z"
   },
   {
    "duration": 37,
    "start_time": "2022-12-15T09:06:43.436Z"
   },
   {
    "duration": 11,
    "start_time": "2022-12-15T09:06:43.476Z"
   },
   {
    "duration": 15,
    "start_time": "2022-12-15T09:06:43.489Z"
   },
   {
    "duration": 29,
    "start_time": "2022-12-15T09:06:43.506Z"
   },
   {
    "duration": 30,
    "start_time": "2022-12-15T09:06:43.536Z"
   },
   {
    "duration": 46,
    "start_time": "2022-12-15T09:06:43.567Z"
   },
   {
    "duration": 30,
    "start_time": "2022-12-15T09:06:43.615Z"
   },
   {
    "duration": 320,
    "start_time": "2022-12-15T09:06:43.647Z"
   },
   {
    "duration": 1620,
    "start_time": "2022-12-15T09:06:43.969Z"
   },
   {
    "duration": 606,
    "start_time": "2022-12-15T09:06:45.591Z"
   },
   {
    "duration": 800,
    "start_time": "2022-12-15T09:06:46.199Z"
   },
   {
    "duration": 27,
    "start_time": "2022-12-15T09:06:47.000Z"
   },
   {
    "duration": 4,
    "start_time": "2022-12-15T09:06:47.031Z"
   },
   {
    "duration": 9,
    "start_time": "2022-12-15T09:06:47.036Z"
   },
   {
    "duration": 8,
    "start_time": "2022-12-15T09:06:47.047Z"
   },
   {
    "duration": 4,
    "start_time": "2022-12-15T09:06:47.057Z"
   },
   {
    "duration": 5,
    "start_time": "2022-12-15T09:06:47.063Z"
   },
   {
    "duration": 8,
    "start_time": "2022-12-15T09:06:47.069Z"
   },
   {
    "duration": 3445,
    "start_time": "2022-12-15T09:06:47.079Z"
   },
   {
    "duration": 22837,
    "start_time": "2022-12-15T09:06:50.527Z"
   },
   {
    "duration": 1512,
    "start_time": "2022-12-15T09:08:45.314Z"
   },
   {
    "duration": 687,
    "start_time": "2022-12-15T09:08:46.829Z"
   },
   {
    "duration": 23,
    "start_time": "2022-12-15T09:08:47.517Z"
   },
   {
    "duration": 17,
    "start_time": "2022-12-15T09:08:47.541Z"
   },
   {
    "duration": 3,
    "start_time": "2022-12-15T09:08:47.560Z"
   },
   {
    "duration": 20,
    "start_time": "2022-12-15T09:08:47.565Z"
   },
   {
    "duration": 35,
    "start_time": "2022-12-15T09:08:47.587Z"
   },
   {
    "duration": 3,
    "start_time": "2022-12-15T09:08:47.624Z"
   },
   {
    "duration": 32,
    "start_time": "2022-12-15T09:08:47.628Z"
   },
   {
    "duration": 17,
    "start_time": "2022-12-15T09:08:47.662Z"
   },
   {
    "duration": 4,
    "start_time": "2022-12-15T09:08:47.680Z"
   },
   {
    "duration": 8,
    "start_time": "2022-12-15T09:08:47.685Z"
   },
   {
    "duration": 9,
    "start_time": "2022-12-15T09:08:47.695Z"
   },
   {
    "duration": 17,
    "start_time": "2022-12-15T09:08:47.706Z"
   },
   {
    "duration": 8,
    "start_time": "2022-12-15T09:08:47.725Z"
   },
   {
    "duration": 21,
    "start_time": "2022-12-15T09:08:47.734Z"
   },
   {
    "duration": 3,
    "start_time": "2022-12-15T09:08:47.756Z"
   },
   {
    "duration": 24,
    "start_time": "2022-12-15T09:08:47.760Z"
   },
   {
    "duration": 7,
    "start_time": "2022-12-15T09:08:47.785Z"
   },
   {
    "duration": 15,
    "start_time": "2022-12-15T09:08:47.793Z"
   },
   {
    "duration": 32,
    "start_time": "2022-12-15T09:08:47.810Z"
   },
   {
    "duration": 27,
    "start_time": "2022-12-15T09:08:47.843Z"
   },
   {
    "duration": 283,
    "start_time": "2022-12-15T09:08:47.872Z"
   },
   {
    "duration": 1505,
    "start_time": "2022-12-15T09:08:48.157Z"
   },
   {
    "duration": 603,
    "start_time": "2022-12-15T09:08:49.663Z"
   },
   {
    "duration": 748,
    "start_time": "2022-12-15T09:08:50.268Z"
   },
   {
    "duration": 23,
    "start_time": "2022-12-15T09:08:51.018Z"
   },
   {
    "duration": 4,
    "start_time": "2022-12-15T09:08:51.044Z"
   },
   {
    "duration": 13,
    "start_time": "2022-12-15T09:08:51.050Z"
   },
   {
    "duration": 8,
    "start_time": "2022-12-15T09:08:51.064Z"
   },
   {
    "duration": 6,
    "start_time": "2022-12-15T09:08:51.073Z"
   },
   {
    "duration": 19,
    "start_time": "2022-12-15T09:08:51.081Z"
   },
   {
    "duration": 16,
    "start_time": "2022-12-15T09:08:51.101Z"
   },
   {
    "duration": 2609,
    "start_time": "2022-12-15T09:08:51.118Z"
   },
   {
    "duration": 22792,
    "start_time": "2022-12-15T09:08:53.729Z"
   },
   {
    "duration": 1303,
    "start_time": "2022-12-15T09:13:29.280Z"
   },
   {
    "duration": 697,
    "start_time": "2022-12-15T09:13:30.585Z"
   },
   {
    "duration": 23,
    "start_time": "2022-12-15T09:13:31.283Z"
   },
   {
    "duration": 33,
    "start_time": "2022-12-15T09:13:31.308Z"
   },
   {
    "duration": 6,
    "start_time": "2022-12-15T09:13:31.343Z"
   },
   {
    "duration": 48,
    "start_time": "2022-12-15T09:13:31.351Z"
   },
   {
    "duration": 34,
    "start_time": "2022-12-15T09:13:31.400Z"
   },
   {
    "duration": 5,
    "start_time": "2022-12-15T09:13:31.436Z"
   },
   {
    "duration": 32,
    "start_time": "2022-12-15T09:13:31.442Z"
   },
   {
    "duration": 51,
    "start_time": "2022-12-15T09:13:31.477Z"
   },
   {
    "duration": 10,
    "start_time": "2022-12-15T09:13:31.530Z"
   },
   {
    "duration": 8,
    "start_time": "2022-12-15T09:13:31.542Z"
   },
   {
    "duration": 23,
    "start_time": "2022-12-15T09:13:31.552Z"
   },
   {
    "duration": 12,
    "start_time": "2022-12-15T09:13:31.576Z"
   },
   {
    "duration": 42,
    "start_time": "2022-12-15T09:13:31.589Z"
   },
   {
    "duration": 44,
    "start_time": "2022-12-15T09:13:31.633Z"
   },
   {
    "duration": 3,
    "start_time": "2022-12-15T09:13:31.679Z"
   },
   {
    "duration": 14,
    "start_time": "2022-12-15T09:13:31.684Z"
   },
   {
    "duration": 7,
    "start_time": "2022-12-15T09:13:31.699Z"
   },
   {
    "duration": 22,
    "start_time": "2022-12-15T09:13:31.708Z"
   },
   {
    "duration": 37,
    "start_time": "2022-12-15T09:13:31.731Z"
   },
   {
    "duration": 29,
    "start_time": "2022-12-15T09:13:31.769Z"
   },
   {
    "duration": 268,
    "start_time": "2022-12-15T09:13:31.800Z"
   },
   {
    "duration": 1536,
    "start_time": "2022-12-15T09:13:32.069Z"
   },
   {
    "duration": 628,
    "start_time": "2022-12-15T09:13:33.606Z"
   },
   {
    "duration": 780,
    "start_time": "2022-12-15T09:13:34.236Z"
   },
   {
    "duration": 25,
    "start_time": "2022-12-15T09:13:35.017Z"
   },
   {
    "duration": 13,
    "start_time": "2022-12-15T09:13:35.045Z"
   },
   {
    "duration": 20,
    "start_time": "2022-12-15T09:13:35.060Z"
   },
   {
    "duration": 6,
    "start_time": "2022-12-15T09:13:35.081Z"
   },
   {
    "duration": 10,
    "start_time": "2022-12-15T09:13:35.089Z"
   },
   {
    "duration": 7,
    "start_time": "2022-12-15T09:13:35.100Z"
   },
   {
    "duration": 25,
    "start_time": "2022-12-15T09:13:35.108Z"
   },
   {
    "duration": 2791,
    "start_time": "2022-12-15T09:13:35.134Z"
   },
   {
    "duration": 22567,
    "start_time": "2022-12-15T09:13:37.926Z"
   },
   {
    "duration": 16696,
    "start_time": "2022-12-15T09:14:00.494Z"
   },
   {
    "duration": 29181,
    "start_time": "2022-12-15T09:14:56.617Z"
   },
   {
    "duration": 87544,
    "start_time": "2022-12-15T09:16:05.545Z"
   },
   {
    "duration": 4,
    "start_time": "2022-12-15T09:19:12.077Z"
   },
   {
    "duration": 4,
    "start_time": "2022-12-15T09:27:10.542Z"
   },
   {
    "duration": 3274,
    "start_time": "2022-12-15T09:27:10.547Z"
   },
   {
    "duration": 3244,
    "start_time": "2022-12-15T09:27:28.555Z"
   },
   {
    "duration": 8,
    "start_time": "2022-12-15T09:34:34.382Z"
   },
   {
    "duration": 62,
    "start_time": "2022-12-15T09:41:07.949Z"
   },
   {
    "duration": 57,
    "start_time": "2022-12-15T12:05:53.724Z"
   },
   {
    "duration": 1584,
    "start_time": "2022-12-15T12:06:09.020Z"
   },
   {
    "duration": 1975,
    "start_time": "2022-12-15T12:06:10.606Z"
   },
   {
    "duration": 26,
    "start_time": "2022-12-15T12:06:12.583Z"
   },
   {
    "duration": 18,
    "start_time": "2022-12-15T12:06:12.611Z"
   },
   {
    "duration": 3,
    "start_time": "2022-12-15T12:06:12.631Z"
   },
   {
    "duration": 39,
    "start_time": "2022-12-15T12:06:12.636Z"
   },
   {
    "duration": 32,
    "start_time": "2022-12-15T12:06:12.676Z"
   },
   {
    "duration": 11,
    "start_time": "2022-12-15T12:06:12.710Z"
   },
   {
    "duration": 29,
    "start_time": "2022-12-15T12:06:12.723Z"
   },
   {
    "duration": 37,
    "start_time": "2022-12-15T12:06:12.755Z"
   },
   {
    "duration": 6,
    "start_time": "2022-12-15T12:06:12.793Z"
   },
   {
    "duration": 34,
    "start_time": "2022-12-15T12:06:12.800Z"
   },
   {
    "duration": 29,
    "start_time": "2022-12-15T12:06:12.836Z"
   },
   {
    "duration": 31,
    "start_time": "2022-12-15T12:06:12.867Z"
   },
   {
    "duration": 20,
    "start_time": "2022-12-15T12:06:12.900Z"
   },
   {
    "duration": 34,
    "start_time": "2022-12-15T12:06:12.922Z"
   },
   {
    "duration": 13,
    "start_time": "2022-12-15T12:06:12.958Z"
   },
   {
    "duration": 18,
    "start_time": "2022-12-15T12:06:12.972Z"
   },
   {
    "duration": 18,
    "start_time": "2022-12-15T12:06:12.991Z"
   },
   {
    "duration": 27,
    "start_time": "2022-12-15T12:06:13.010Z"
   },
   {
    "duration": 44,
    "start_time": "2022-12-15T12:06:13.039Z"
   },
   {
    "duration": 31,
    "start_time": "2022-12-15T12:06:13.085Z"
   },
   {
    "duration": 274,
    "start_time": "2022-12-15T12:06:13.117Z"
   },
   {
    "duration": 1724,
    "start_time": "2022-12-15T12:06:13.393Z"
   },
   {
    "duration": 634,
    "start_time": "2022-12-15T12:06:15.122Z"
   },
   {
    "duration": 819,
    "start_time": "2022-12-15T12:06:15.758Z"
   },
   {
    "duration": 24,
    "start_time": "2022-12-15T12:06:16.579Z"
   },
   {
    "duration": 4,
    "start_time": "2022-12-15T12:06:16.606Z"
   },
   {
    "duration": 6,
    "start_time": "2022-12-15T12:06:16.622Z"
   },
   {
    "duration": 4,
    "start_time": "2022-12-15T12:06:16.630Z"
   },
   {
    "duration": 5,
    "start_time": "2022-12-15T12:06:16.636Z"
   },
   {
    "duration": 10,
    "start_time": "2022-12-15T12:06:16.643Z"
   },
   {
    "duration": 9,
    "start_time": "2022-12-15T12:06:16.654Z"
   },
   {
    "duration": 2659,
    "start_time": "2022-12-15T12:06:16.665Z"
   },
   {
    "duration": 22827,
    "start_time": "2022-12-15T12:06:19.327Z"
   },
   {
    "duration": 88797,
    "start_time": "2022-12-15T12:06:42.156Z"
   },
   {
    "duration": 4,
    "start_time": "2022-12-15T12:08:10.955Z"
   },
   {
    "duration": 3286,
    "start_time": "2022-12-15T12:08:10.961Z"
   },
   {
    "duration": 10,
    "start_time": "2022-12-15T12:08:14.249Z"
   },
   {
    "duration": 105,
    "start_time": "2022-12-15T12:08:14.262Z"
   },
   {
    "duration": 1238,
    "start_time": "2022-12-15T12:22:57.359Z"
   },
   {
    "duration": 74,
    "start_time": "2022-12-15T12:23:04.083Z"
   },
   {
    "duration": 1399,
    "start_time": "2022-12-15T12:23:15.655Z"
   },
   {
    "duration": 660,
    "start_time": "2022-12-15T12:23:17.055Z"
   },
   {
    "duration": 26,
    "start_time": "2022-12-15T12:23:17.717Z"
   },
   {
    "duration": 20,
    "start_time": "2022-12-15T12:23:17.745Z"
   },
   {
    "duration": 5,
    "start_time": "2022-12-15T12:23:17.766Z"
   },
   {
    "duration": 49,
    "start_time": "2022-12-15T12:23:17.773Z"
   },
   {
    "duration": 13,
    "start_time": "2022-12-15T12:23:17.824Z"
   },
   {
    "duration": 4,
    "start_time": "2022-12-15T12:23:17.840Z"
   },
   {
    "duration": 26,
    "start_time": "2022-12-15T12:23:17.847Z"
   },
   {
    "duration": 46,
    "start_time": "2022-12-15T12:23:17.877Z"
   },
   {
    "duration": 5,
    "start_time": "2022-12-15T12:23:17.925Z"
   },
   {
    "duration": 5,
    "start_time": "2022-12-15T12:23:17.932Z"
   },
   {
    "duration": 8,
    "start_time": "2022-12-15T12:23:17.939Z"
   },
   {
    "duration": 17,
    "start_time": "2022-12-15T12:23:17.949Z"
   },
   {
    "duration": 6,
    "start_time": "2022-12-15T12:23:17.968Z"
   },
   {
    "duration": 16,
    "start_time": "2022-12-15T12:23:17.975Z"
   },
   {
    "duration": 30,
    "start_time": "2022-12-15T12:23:17.993Z"
   },
   {
    "duration": 5,
    "start_time": "2022-12-15T12:23:18.025Z"
   },
   {
    "duration": 9,
    "start_time": "2022-12-15T12:23:18.031Z"
   },
   {
    "duration": 12,
    "start_time": "2022-12-15T12:23:18.041Z"
   },
   {
    "duration": 33,
    "start_time": "2022-12-15T12:23:18.055Z"
   },
   {
    "duration": 51,
    "start_time": "2022-12-15T12:23:18.089Z"
   },
   {
    "duration": 290,
    "start_time": "2022-12-15T12:23:18.142Z"
   },
   {
    "duration": 1688,
    "start_time": "2022-12-15T12:23:18.433Z"
   },
   {
    "duration": 665,
    "start_time": "2022-12-15T12:23:20.123Z"
   },
   {
    "duration": 815,
    "start_time": "2022-12-15T12:23:20.790Z"
   },
   {
    "duration": 34,
    "start_time": "2022-12-15T12:23:21.607Z"
   },
   {
    "duration": 14,
    "start_time": "2022-12-15T12:23:21.645Z"
   },
   {
    "duration": 20,
    "start_time": "2022-12-15T12:23:21.661Z"
   },
   {
    "duration": 27,
    "start_time": "2022-12-15T12:23:21.683Z"
   },
   {
    "duration": 17,
    "start_time": "2022-12-15T12:23:21.712Z"
   },
   {
    "duration": 33,
    "start_time": "2022-12-15T12:23:21.731Z"
   },
   {
    "duration": 21,
    "start_time": "2022-12-15T12:23:21.766Z"
   },
   {
    "duration": 3037,
    "start_time": "2022-12-15T12:23:21.788Z"
   },
   {
    "duration": 23065,
    "start_time": "2022-12-15T12:23:24.827Z"
   },
   {
    "duration": 88533,
    "start_time": "2022-12-15T12:23:47.894Z"
   },
   {
    "duration": 4,
    "start_time": "2022-12-15T12:25:16.429Z"
   },
   {
    "duration": 3360,
    "start_time": "2022-12-15T12:25:16.435Z"
   },
   {
    "duration": 9,
    "start_time": "2022-12-15T12:25:19.797Z"
   },
   {
    "duration": 69,
    "start_time": "2022-12-15T12:25:19.822Z"
   },
   {
    "duration": 70,
    "start_time": "2022-12-15T12:28:58.285Z"
   },
   {
    "duration": 72,
    "start_time": "2022-12-15T12:37:49.166Z"
   },
   {
    "duration": 1563,
    "start_time": "2022-12-15T12:44:45.783Z"
   },
   {
    "duration": 687,
    "start_time": "2022-12-15T12:44:47.347Z"
   },
   {
    "duration": 26,
    "start_time": "2022-12-15T12:44:48.036Z"
   },
   {
    "duration": 19,
    "start_time": "2022-12-15T12:44:48.065Z"
   },
   {
    "duration": 4,
    "start_time": "2022-12-15T12:44:48.085Z"
   },
   {
    "duration": 49,
    "start_time": "2022-12-15T12:44:48.091Z"
   },
   {
    "duration": 16,
    "start_time": "2022-12-15T12:44:48.141Z"
   },
   {
    "duration": 4,
    "start_time": "2022-12-15T12:44:48.159Z"
   },
   {
    "duration": 23,
    "start_time": "2022-12-15T12:44:48.164Z"
   },
   {
    "duration": 44,
    "start_time": "2022-12-15T12:44:48.190Z"
   },
   {
    "duration": 4,
    "start_time": "2022-12-15T12:44:48.236Z"
   },
   {
    "duration": 6,
    "start_time": "2022-12-15T12:44:48.242Z"
   },
   {
    "duration": 15,
    "start_time": "2022-12-15T12:44:48.249Z"
   },
   {
    "duration": 6,
    "start_time": "2022-12-15T12:44:48.266Z"
   },
   {
    "duration": 6,
    "start_time": "2022-12-15T12:44:48.274Z"
   },
   {
    "duration": 40,
    "start_time": "2022-12-15T12:44:48.282Z"
   },
   {
    "duration": 3,
    "start_time": "2022-12-15T12:44:48.324Z"
   },
   {
    "duration": 5,
    "start_time": "2022-12-15T12:44:48.329Z"
   },
   {
    "duration": 6,
    "start_time": "2022-12-15T12:44:48.336Z"
   },
   {
    "duration": 11,
    "start_time": "2022-12-15T12:44:48.343Z"
   },
   {
    "duration": 35,
    "start_time": "2022-12-15T12:44:48.355Z"
   },
   {
    "duration": 51,
    "start_time": "2022-12-15T12:44:48.391Z"
   },
   {
    "duration": 298,
    "start_time": "2022-12-15T12:44:48.444Z"
   },
   {
    "duration": 1694,
    "start_time": "2022-12-15T12:44:48.744Z"
   },
   {
    "duration": 658,
    "start_time": "2022-12-15T12:44:50.439Z"
   },
   {
    "duration": 852,
    "start_time": "2022-12-15T12:44:51.099Z"
   },
   {
    "duration": 25,
    "start_time": "2022-12-15T12:44:51.953Z"
   },
   {
    "duration": 3,
    "start_time": "2022-12-15T12:44:51.981Z"
   },
   {
    "duration": 13,
    "start_time": "2022-12-15T12:44:51.986Z"
   },
   {
    "duration": 24,
    "start_time": "2022-12-15T12:44:52.001Z"
   },
   {
    "duration": 7,
    "start_time": "2022-12-15T12:44:52.027Z"
   },
   {
    "duration": 7,
    "start_time": "2022-12-15T12:44:52.035Z"
   },
   {
    "duration": 12,
    "start_time": "2022-12-15T12:44:52.044Z"
   },
   {
    "duration": 3968,
    "start_time": "2022-12-15T12:44:52.058Z"
   },
   {
    "duration": 36761,
    "start_time": "2022-12-15T12:44:56.030Z"
   },
   {
    "duration": 1436,
    "start_time": "2022-12-15T12:47:14.309Z"
   },
   {
    "duration": 722,
    "start_time": "2022-12-15T12:47:15.747Z"
   },
   {
    "duration": 27,
    "start_time": "2022-12-15T12:47:16.470Z"
   },
   {
    "duration": 36,
    "start_time": "2022-12-15T12:47:16.500Z"
   },
   {
    "duration": 4,
    "start_time": "2022-12-15T12:47:16.537Z"
   },
   {
    "duration": 22,
    "start_time": "2022-12-15T12:47:16.543Z"
   },
   {
    "duration": 14,
    "start_time": "2022-12-15T12:47:16.568Z"
   },
   {
    "duration": 4,
    "start_time": "2022-12-15T12:47:16.585Z"
   },
   {
    "duration": 22,
    "start_time": "2022-12-15T12:47:16.623Z"
   },
   {
    "duration": 18,
    "start_time": "2022-12-15T12:47:16.648Z"
   },
   {
    "duration": 3,
    "start_time": "2022-12-15T12:47:16.668Z"
   },
   {
    "duration": 6,
    "start_time": "2022-12-15T12:47:16.673Z"
   },
   {
    "duration": 8,
    "start_time": "2022-12-15T12:47:16.680Z"
   },
   {
    "duration": 34,
    "start_time": "2022-12-15T12:47:16.690Z"
   },
   {
    "duration": 6,
    "start_time": "2022-12-15T12:47:16.726Z"
   },
   {
    "duration": 21,
    "start_time": "2022-12-15T12:47:16.734Z"
   },
   {
    "duration": 5,
    "start_time": "2022-12-15T12:47:16.757Z"
   },
   {
    "duration": 6,
    "start_time": "2022-12-15T12:47:16.764Z"
   },
   {
    "duration": 8,
    "start_time": "2022-12-15T12:47:16.772Z"
   },
   {
    "duration": 11,
    "start_time": "2022-12-15T12:47:16.782Z"
   },
   {
    "duration": 30,
    "start_time": "2022-12-15T12:47:16.822Z"
   },
   {
    "duration": 33,
    "start_time": "2022-12-15T12:47:16.854Z"
   },
   {
    "duration": 332,
    "start_time": "2022-12-15T12:47:16.890Z"
   },
   {
    "duration": 1655,
    "start_time": "2022-12-15T12:47:17.224Z"
   },
   {
    "duration": 752,
    "start_time": "2022-12-15T12:47:18.882Z"
   },
   {
    "duration": 863,
    "start_time": "2022-12-15T12:47:19.636Z"
   },
   {
    "duration": 36,
    "start_time": "2022-12-15T12:47:20.501Z"
   },
   {
    "duration": 4,
    "start_time": "2022-12-15T12:47:20.541Z"
   },
   {
    "duration": 19,
    "start_time": "2022-12-15T12:47:20.546Z"
   },
   {
    "duration": 9,
    "start_time": "2022-12-15T12:47:20.567Z"
   },
   {
    "duration": 11,
    "start_time": "2022-12-15T12:47:20.577Z"
   },
   {
    "duration": 19,
    "start_time": "2022-12-15T12:47:20.590Z"
   },
   {
    "duration": 17,
    "start_time": "2022-12-15T12:47:20.610Z"
   },
   {
    "duration": 2697,
    "start_time": "2022-12-15T12:47:20.629Z"
   },
   {
    "duration": 24062,
    "start_time": "2022-12-15T12:47:23.327Z"
   },
   {
    "duration": 90805,
    "start_time": "2022-12-15T12:47:47.390Z"
   },
   {
    "duration": 5,
    "start_time": "2022-12-15T12:49:18.196Z"
   },
   {
    "duration": 3411,
    "start_time": "2022-12-15T12:49:18.203Z"
   },
   {
    "duration": 12,
    "start_time": "2022-12-15T12:49:21.616Z"
   },
   {
    "duration": 79,
    "start_time": "2022-12-15T12:53:07.661Z"
   },
   {
    "duration": 75,
    "start_time": "2022-12-15T12:59:34.409Z"
   },
   {
    "duration": 70,
    "start_time": "2022-12-15T13:05:28.876Z"
   },
   {
    "duration": 1436,
    "start_time": "2022-12-15T13:08:55.600Z"
   },
   {
    "duration": 707,
    "start_time": "2022-12-15T13:08:57.038Z"
   },
   {
    "duration": 28,
    "start_time": "2022-12-15T13:08:57.747Z"
   },
   {
    "duration": 19,
    "start_time": "2022-12-15T13:08:57.777Z"
   },
   {
    "duration": 4,
    "start_time": "2022-12-15T13:08:57.797Z"
   },
   {
    "duration": 28,
    "start_time": "2022-12-15T13:08:57.821Z"
   },
   {
    "duration": 15,
    "start_time": "2022-12-15T13:08:57.850Z"
   },
   {
    "duration": 5,
    "start_time": "2022-12-15T13:08:57.866Z"
   },
   {
    "duration": 52,
    "start_time": "2022-12-15T13:08:57.873Z"
   },
   {
    "duration": 19,
    "start_time": "2022-12-15T13:08:57.927Z"
   },
   {
    "duration": 4,
    "start_time": "2022-12-15T13:08:57.948Z"
   },
   {
    "duration": 6,
    "start_time": "2022-12-15T13:08:57.953Z"
   },
   {
    "duration": 9,
    "start_time": "2022-12-15T13:08:57.961Z"
   },
   {
    "duration": 6,
    "start_time": "2022-12-15T13:08:57.972Z"
   },
   {
    "duration": 7,
    "start_time": "2022-12-15T13:08:57.980Z"
   },
   {
    "duration": 43,
    "start_time": "2022-12-15T13:08:57.989Z"
   },
   {
    "duration": 3,
    "start_time": "2022-12-15T13:08:58.034Z"
   },
   {
    "duration": 6,
    "start_time": "2022-12-15T13:08:58.038Z"
   },
   {
    "duration": 8,
    "start_time": "2022-12-15T13:08:58.045Z"
   },
   {
    "duration": 13,
    "start_time": "2022-12-15T13:08:58.054Z"
   },
   {
    "duration": 33,
    "start_time": "2022-12-15T13:08:58.068Z"
   },
   {
    "duration": 46,
    "start_time": "2022-12-15T13:08:58.102Z"
   },
   {
    "duration": 318,
    "start_time": "2022-12-15T13:08:58.150Z"
   },
   {
    "duration": 1647,
    "start_time": "2022-12-15T13:08:58.470Z"
   },
   {
    "duration": 697,
    "start_time": "2022-12-15T13:09:00.119Z"
   },
   {
    "duration": 868,
    "start_time": "2022-12-15T13:09:00.817Z"
   },
   {
    "duration": 35,
    "start_time": "2022-12-15T13:09:01.687Z"
   },
   {
    "duration": 14,
    "start_time": "2022-12-15T13:09:01.725Z"
   },
   {
    "duration": 10,
    "start_time": "2022-12-15T13:09:01.741Z"
   },
   {
    "duration": 8,
    "start_time": "2022-12-15T13:09:01.752Z"
   },
   {
    "duration": 6,
    "start_time": "2022-12-15T13:09:01.762Z"
   },
   {
    "duration": 8,
    "start_time": "2022-12-15T13:09:01.770Z"
   },
   {
    "duration": 15,
    "start_time": "2022-12-15T13:09:01.780Z"
   },
   {
    "duration": 2828,
    "start_time": "2022-12-15T13:09:01.796Z"
   },
   {
    "duration": 23164,
    "start_time": "2022-12-15T13:09:04.626Z"
   },
   {
    "duration": 90643,
    "start_time": "2022-12-15T13:09:27.792Z"
   },
   {
    "duration": 5,
    "start_time": "2022-12-15T13:10:58.437Z"
   },
   {
    "duration": 3322,
    "start_time": "2022-12-15T13:10:58.443Z"
   },
   {
    "duration": 9,
    "start_time": "2022-12-15T13:11:01.766Z"
   },
   {
    "duration": 44,
    "start_time": "2022-12-16T10:36:47.328Z"
   },
   {
    "duration": 1493,
    "start_time": "2022-12-16T11:29:36.619Z"
   },
   {
    "duration": 2098,
    "start_time": "2022-12-16T11:29:38.114Z"
   },
   {
    "duration": 23,
    "start_time": "2022-12-16T11:29:40.214Z"
   },
   {
    "duration": 17,
    "start_time": "2022-12-16T11:29:40.239Z"
   },
   {
    "duration": 14,
    "start_time": "2022-12-16T11:29:40.258Z"
   },
   {
    "duration": 23,
    "start_time": "2022-12-16T11:29:40.273Z"
   },
   {
    "duration": 33,
    "start_time": "2022-12-16T11:29:40.297Z"
   },
   {
    "duration": 7,
    "start_time": "2022-12-16T11:29:40.332Z"
   },
   {
    "duration": 45,
    "start_time": "2022-12-16T11:29:40.340Z"
   },
   {
    "duration": 24,
    "start_time": "2022-12-16T11:29:40.388Z"
   },
   {
    "duration": 7,
    "start_time": "2022-12-16T11:29:40.414Z"
   },
   {
    "duration": 16,
    "start_time": "2022-12-16T11:29:40.422Z"
   },
   {
    "duration": 30,
    "start_time": "2022-12-16T11:29:40.439Z"
   },
   {
    "duration": 12,
    "start_time": "2022-12-16T11:29:40.471Z"
   },
   {
    "duration": 28,
    "start_time": "2022-12-16T11:29:40.484Z"
   },
   {
    "duration": 18,
    "start_time": "2022-12-16T11:29:40.513Z"
   },
   {
    "duration": 8,
    "start_time": "2022-12-16T11:29:40.533Z"
   },
   {
    "duration": 19,
    "start_time": "2022-12-16T11:29:40.542Z"
   },
   {
    "duration": 20,
    "start_time": "2022-12-16T11:29:40.562Z"
   },
   {
    "duration": 20,
    "start_time": "2022-12-16T11:29:40.583Z"
   },
   {
    "duration": 47,
    "start_time": "2022-12-16T11:29:40.604Z"
   },
   {
    "duration": 29,
    "start_time": "2022-12-16T11:29:40.652Z"
   },
   {
    "duration": 297,
    "start_time": "2022-12-16T11:29:40.682Z"
   },
   {
    "duration": 1505,
    "start_time": "2022-12-16T11:29:40.980Z"
   },
   {
    "duration": 649,
    "start_time": "2022-12-16T11:29:42.487Z"
   },
   {
    "duration": 770,
    "start_time": "2022-12-16T11:29:43.138Z"
   },
   {
    "duration": 26,
    "start_time": "2022-12-16T11:29:43.910Z"
   },
   {
    "duration": 4,
    "start_time": "2022-12-16T11:29:43.940Z"
   },
   {
    "duration": 19,
    "start_time": "2022-12-16T11:29:43.945Z"
   },
   {
    "duration": 4,
    "start_time": "2022-12-16T11:29:43.979Z"
   },
   {
    "duration": 9,
    "start_time": "2022-12-16T11:29:43.985Z"
   },
   {
    "duration": 11,
    "start_time": "2022-12-16T11:29:43.996Z"
   },
   {
    "duration": 9,
    "start_time": "2022-12-16T11:29:44.009Z"
   },
   {
    "duration": 3164,
    "start_time": "2022-12-16T11:29:44.020Z"
   },
   {
    "duration": 23267,
    "start_time": "2022-12-16T11:29:47.189Z"
   },
   {
    "duration": 90923,
    "start_time": "2022-12-16T11:30:10.458Z"
   },
   {
    "duration": 5,
    "start_time": "2022-12-16T11:31:41.382Z"
   },
   {
    "duration": 3373,
    "start_time": "2022-12-16T11:31:41.389Z"
   },
   {
    "duration": 15,
    "start_time": "2022-12-16T11:31:44.763Z"
   },
   {
    "duration": 181,
    "start_time": "2022-12-16T11:42:14.200Z"
   },
   {
    "duration": 75,
    "start_time": "2022-12-16T11:42:35.915Z"
   },
   {
    "duration": 111,
    "start_time": "2022-12-16T11:43:10.174Z"
   },
   {
    "duration": 106,
    "start_time": "2022-12-16T11:44:30.562Z"
   },
   {
    "duration": 1350,
    "start_time": "2022-12-16T11:50:35.454Z"
   },
   {
    "duration": 1502,
    "start_time": "2022-12-16T11:50:44.119Z"
   },
   {
    "duration": 701,
    "start_time": "2022-12-16T11:50:45.624Z"
   },
   {
    "duration": 23,
    "start_time": "2022-12-16T11:50:46.327Z"
   },
   {
    "duration": 37,
    "start_time": "2022-12-16T11:50:46.351Z"
   },
   {
    "duration": 7,
    "start_time": "2022-12-16T11:50:46.396Z"
   },
   {
    "duration": 23,
    "start_time": "2022-12-16T11:50:46.404Z"
   },
   {
    "duration": 14,
    "start_time": "2022-12-16T11:50:46.428Z"
   },
   {
    "duration": 9,
    "start_time": "2022-12-16T11:50:46.443Z"
   },
   {
    "duration": 33,
    "start_time": "2022-12-16T11:50:46.454Z"
   },
   {
    "duration": 32,
    "start_time": "2022-12-16T11:50:46.491Z"
   },
   {
    "duration": 4,
    "start_time": "2022-12-16T11:50:46.525Z"
   },
   {
    "duration": 279,
    "start_time": "2022-12-16T11:50:46.530Z"
   },
   {
    "duration": 3,
    "start_time": "2022-12-16T11:50:46.811Z"
   },
   {
    "duration": 14,
    "start_time": "2022-12-16T11:50:46.816Z"
   },
   {
    "duration": 9,
    "start_time": "2022-12-16T11:50:46.831Z"
   },
   {
    "duration": 5,
    "start_time": "2022-12-16T11:50:46.841Z"
   },
   {
    "duration": 39,
    "start_time": "2022-12-16T11:50:46.848Z"
   },
   {
    "duration": 11,
    "start_time": "2022-12-16T11:50:46.892Z"
   },
   {
    "duration": 7,
    "start_time": "2022-12-16T11:50:46.905Z"
   },
   {
    "duration": 4,
    "start_time": "2022-12-16T11:50:46.915Z"
   },
   {
    "duration": 13,
    "start_time": "2022-12-16T11:50:46.921Z"
   },
   {
    "duration": 45,
    "start_time": "2022-12-16T11:50:46.936Z"
   },
   {
    "duration": 39,
    "start_time": "2022-12-16T11:50:46.982Z"
   },
   {
    "duration": 294,
    "start_time": "2022-12-16T11:50:47.023Z"
   },
   {
    "duration": 1708,
    "start_time": "2022-12-16T11:50:47.318Z"
   },
   {
    "duration": 779,
    "start_time": "2022-12-16T11:50:49.028Z"
   },
   {
    "duration": 845,
    "start_time": "2022-12-16T11:50:49.809Z"
   },
   {
    "duration": 40,
    "start_time": "2022-12-16T11:50:50.656Z"
   },
   {
    "duration": 5,
    "start_time": "2022-12-16T11:50:50.698Z"
   },
   {
    "duration": 12,
    "start_time": "2022-12-16T11:50:50.705Z"
   },
   {
    "duration": 17,
    "start_time": "2022-12-16T11:50:50.718Z"
   },
   {
    "duration": 9,
    "start_time": "2022-12-16T11:50:50.737Z"
   },
   {
    "duration": 6,
    "start_time": "2022-12-16T11:50:50.748Z"
   },
   {
    "duration": 9,
    "start_time": "2022-12-16T11:50:50.756Z"
   },
   {
    "duration": 5809,
    "start_time": "2022-12-16T11:50:50.768Z"
   },
   {
    "duration": 26520,
    "start_time": "2022-12-16T11:50:56.580Z"
   },
   {
    "duration": 1734,
    "start_time": "2022-12-16T11:51:59.778Z"
   },
   {
    "duration": 858,
    "start_time": "2022-12-16T11:52:01.515Z"
   },
   {
    "duration": 49,
    "start_time": "2022-12-16T11:52:02.375Z"
   },
   {
    "duration": 55,
    "start_time": "2022-12-16T11:52:02.427Z"
   },
   {
    "duration": 6,
    "start_time": "2022-12-16T11:52:02.484Z"
   },
   {
    "duration": 60,
    "start_time": "2022-12-16T11:52:02.492Z"
   },
   {
    "duration": 26,
    "start_time": "2022-12-16T11:52:02.554Z"
   },
   {
    "duration": 33,
    "start_time": "2022-12-16T11:52:02.582Z"
   },
   {
    "duration": 48,
    "start_time": "2022-12-16T11:52:02.617Z"
   },
   {
    "duration": 63,
    "start_time": "2022-12-16T11:52:02.668Z"
   },
   {
    "duration": 4,
    "start_time": "2022-12-16T11:52:02.733Z"
   },
   {
    "duration": 329,
    "start_time": "2022-12-16T11:52:02.738Z"
   },
   {
    "duration": 3,
    "start_time": "2022-12-16T11:52:03.068Z"
   },
   {
    "duration": 66,
    "start_time": "2022-12-16T11:52:03.072Z"
   },
   {
    "duration": 6,
    "start_time": "2022-12-16T11:52:03.140Z"
   },
   {
    "duration": 8,
    "start_time": "2022-12-16T11:52:03.148Z"
   },
   {
    "duration": 16,
    "start_time": "2022-12-16T11:52:03.158Z"
   },
   {
    "duration": 36,
    "start_time": "2022-12-16T11:52:03.176Z"
   },
   {
    "duration": 6,
    "start_time": "2022-12-16T11:52:03.214Z"
   },
   {
    "duration": 10,
    "start_time": "2022-12-16T11:52:03.221Z"
   },
   {
    "duration": 10,
    "start_time": "2022-12-16T11:52:03.233Z"
   },
   {
    "duration": 30,
    "start_time": "2022-12-16T11:52:03.245Z"
   },
   {
    "duration": 48,
    "start_time": "2022-12-16T11:52:03.277Z"
   },
   {
    "duration": 322,
    "start_time": "2022-12-16T11:52:03.327Z"
   },
   {
    "duration": 2072,
    "start_time": "2022-12-16T11:52:03.651Z"
   },
   {
    "duration": 720,
    "start_time": "2022-12-16T11:52:05.725Z"
   },
   {
    "duration": 957,
    "start_time": "2022-12-16T11:52:06.447Z"
   },
   {
    "duration": 25,
    "start_time": "2022-12-16T11:52:07.410Z"
   },
   {
    "duration": 4,
    "start_time": "2022-12-16T11:52:07.437Z"
   },
   {
    "duration": 9,
    "start_time": "2022-12-16T11:52:07.442Z"
   },
   {
    "duration": 28,
    "start_time": "2022-12-16T11:52:07.453Z"
   },
   {
    "duration": 3,
    "start_time": "2022-12-16T11:52:07.487Z"
   },
   {
    "duration": 30,
    "start_time": "2022-12-16T11:52:07.492Z"
   },
   {
    "duration": 8,
    "start_time": "2022-12-16T11:52:07.524Z"
   },
   {
    "duration": 3885,
    "start_time": "2022-12-16T11:52:07.533Z"
   },
   {
    "duration": 1468,
    "start_time": "2022-12-16T11:52:38.450Z"
   },
   {
    "duration": 695,
    "start_time": "2022-12-16T11:52:39.920Z"
   },
   {
    "duration": 26,
    "start_time": "2022-12-16T11:52:40.617Z"
   },
   {
    "duration": 17,
    "start_time": "2022-12-16T11:52:40.645Z"
   },
   {
    "duration": 6,
    "start_time": "2022-12-16T11:52:40.680Z"
   },
   {
    "duration": 38,
    "start_time": "2022-12-16T11:52:40.687Z"
   },
   {
    "duration": 15,
    "start_time": "2022-12-16T11:52:40.727Z"
   },
   {
    "duration": 5,
    "start_time": "2022-12-16T11:52:40.744Z"
   },
   {
    "duration": 39,
    "start_time": "2022-12-16T11:52:40.751Z"
   },
   {
    "duration": 32,
    "start_time": "2022-12-16T11:52:40.793Z"
   },
   {
    "duration": 4,
    "start_time": "2022-12-16T11:52:40.826Z"
   },
   {
    "duration": 265,
    "start_time": "2022-12-16T11:52:40.831Z"
   },
   {
    "duration": 3,
    "start_time": "2022-12-16T11:52:41.098Z"
   },
   {
    "duration": 23,
    "start_time": "2022-12-16T11:52:41.103Z"
   },
   {
    "duration": 15,
    "start_time": "2022-12-16T11:52:41.128Z"
   },
   {
    "duration": 7,
    "start_time": "2022-12-16T11:52:41.144Z"
   },
   {
    "duration": 15,
    "start_time": "2022-12-16T11:52:41.153Z"
   },
   {
    "duration": 20,
    "start_time": "2022-12-16T11:52:41.170Z"
   },
   {
    "duration": 6,
    "start_time": "2022-12-16T11:52:41.193Z"
   },
   {
    "duration": 7,
    "start_time": "2022-12-16T11:52:41.201Z"
   },
   {
    "duration": 12,
    "start_time": "2022-12-16T11:52:41.209Z"
   },
   {
    "duration": 33,
    "start_time": "2022-12-16T11:52:41.222Z"
   },
   {
    "duration": 41,
    "start_time": "2022-12-16T11:52:41.256Z"
   },
   {
    "duration": 295,
    "start_time": "2022-12-16T11:52:41.299Z"
   },
   {
    "duration": 1732,
    "start_time": "2022-12-16T11:52:41.597Z"
   },
   {
    "duration": 735,
    "start_time": "2022-12-16T11:52:43.331Z"
   },
   {
    "duration": 893,
    "start_time": "2022-12-16T11:52:44.077Z"
   },
   {
    "duration": 29,
    "start_time": "2022-12-16T11:52:44.978Z"
   },
   {
    "duration": 34,
    "start_time": "2022-12-16T11:52:45.010Z"
   },
   {
    "duration": 30,
    "start_time": "2022-12-16T11:52:45.046Z"
   },
   {
    "duration": 28,
    "start_time": "2022-12-16T11:52:45.078Z"
   },
   {
    "duration": 11,
    "start_time": "2022-12-16T11:52:45.108Z"
   },
   {
    "duration": 18,
    "start_time": "2022-12-16T11:52:45.121Z"
   },
   {
    "duration": 34,
    "start_time": "2022-12-16T11:52:45.141Z"
   },
   {
    "duration": 5002,
    "start_time": "2022-12-16T11:52:45.177Z"
   },
   {
    "duration": 24936,
    "start_time": "2022-12-16T11:52:50.183Z"
   },
   {
    "duration": 95647,
    "start_time": "2022-12-16T11:53:15.121Z"
   },
   {
    "duration": 12,
    "start_time": "2022-12-16T11:54:50.770Z"
   },
   {
    "duration": 4482,
    "start_time": "2022-12-16T11:54:50.783Z"
   },
   {
    "duration": 24,
    "start_time": "2022-12-16T11:54:55.268Z"
   },
   {
    "duration": 97,
    "start_time": "2022-12-16T11:55:48.262Z"
   },
   {
    "duration": 125,
    "start_time": "2022-12-16T11:56:44.900Z"
   },
   {
    "duration": 1532,
    "start_time": "2022-12-16T11:56:50.093Z"
   },
   {
    "duration": 821,
    "start_time": "2022-12-16T11:56:51.627Z"
   },
   {
    "duration": 49,
    "start_time": "2022-12-16T11:56:52.449Z"
   },
   {
    "duration": 20,
    "start_time": "2022-12-16T11:56:52.504Z"
   },
   {
    "duration": 5,
    "start_time": "2022-12-16T11:56:52.527Z"
   },
   {
    "duration": 31,
    "start_time": "2022-12-16T11:56:52.534Z"
   },
   {
    "duration": 33,
    "start_time": "2022-12-16T11:56:52.567Z"
   },
   {
    "duration": 34,
    "start_time": "2022-12-16T11:56:52.602Z"
   },
   {
    "duration": 30,
    "start_time": "2022-12-16T11:56:52.638Z"
   },
   {
    "duration": 24,
    "start_time": "2022-12-16T11:56:52.670Z"
   },
   {
    "duration": 11,
    "start_time": "2022-12-16T11:56:52.695Z"
   },
   {
    "duration": 316,
    "start_time": "2022-12-16T11:56:52.707Z"
   },
   {
    "duration": 4,
    "start_time": "2022-12-16T11:56:53.025Z"
   },
   {
    "duration": 21,
    "start_time": "2022-12-16T11:56:53.033Z"
   },
   {
    "duration": 9,
    "start_time": "2022-12-16T11:56:53.057Z"
   },
   {
    "duration": 42,
    "start_time": "2022-12-16T11:56:53.069Z"
   },
   {
    "duration": 34,
    "start_time": "2022-12-16T11:56:53.113Z"
   },
   {
    "duration": 3,
    "start_time": "2022-12-16T11:56:53.149Z"
   },
   {
    "duration": 14,
    "start_time": "2022-12-16T11:56:53.154Z"
   },
   {
    "duration": 12,
    "start_time": "2022-12-16T11:56:53.169Z"
   },
   {
    "duration": 34,
    "start_time": "2022-12-16T11:56:53.186Z"
   },
   {
    "duration": 45,
    "start_time": "2022-12-16T11:56:53.222Z"
   },
   {
    "duration": 39,
    "start_time": "2022-12-16T11:56:53.269Z"
   },
   {
    "duration": 329,
    "start_time": "2022-12-16T11:56:53.311Z"
   },
   {
    "duration": 2011,
    "start_time": "2022-12-16T11:56:53.642Z"
   },
   {
    "duration": 910,
    "start_time": "2022-12-16T11:56:55.655Z"
   },
   {
    "duration": 849,
    "start_time": "2022-12-16T11:56:56.568Z"
   },
   {
    "duration": 32,
    "start_time": "2022-12-16T11:56:57.419Z"
   },
   {
    "duration": 5,
    "start_time": "2022-12-16T11:56:57.453Z"
   },
   {
    "duration": 42,
    "start_time": "2022-12-16T11:56:57.460Z"
   },
   {
    "duration": 7,
    "start_time": "2022-12-16T11:56:57.504Z"
   },
   {
    "duration": 6,
    "start_time": "2022-12-16T11:56:57.513Z"
   },
   {
    "duration": 5,
    "start_time": "2022-12-16T11:56:57.521Z"
   },
   {
    "duration": 9,
    "start_time": "2022-12-16T11:56:57.528Z"
   },
   {
    "duration": 3944,
    "start_time": "2022-12-16T11:56:57.539Z"
   },
   {
    "duration": 26158,
    "start_time": "2022-12-16T11:57:01.485Z"
   },
   {
    "duration": 93068,
    "start_time": "2022-12-16T11:57:27.644Z"
   },
   {
    "duration": 5,
    "start_time": "2022-12-16T11:59:00.714Z"
   },
   {
    "duration": 3511,
    "start_time": "2022-12-16T11:59:00.721Z"
   },
   {
    "duration": 9,
    "start_time": "2022-12-16T11:59:04.236Z"
   },
   {
    "duration": 135,
    "start_time": "2022-12-16T12:03:22.854Z"
   },
   {
    "duration": 24,
    "start_time": "2022-12-16T12:03:40.074Z"
   },
   {
    "duration": 1587,
    "start_time": "2022-12-16T12:03:48.529Z"
   },
   {
    "duration": 771,
    "start_time": "2022-12-16T12:03:50.118Z"
   },
   {
    "duration": 24,
    "start_time": "2022-12-16T12:03:50.891Z"
   },
   {
    "duration": 28,
    "start_time": "2022-12-16T12:03:50.917Z"
   },
   {
    "duration": 10,
    "start_time": "2022-12-16T12:03:50.947Z"
   },
   {
    "duration": 49,
    "start_time": "2022-12-16T12:03:50.958Z"
   },
   {
    "duration": 35,
    "start_time": "2022-12-16T12:03:51.009Z"
   },
   {
    "duration": 16,
    "start_time": "2022-12-16T12:03:51.047Z"
   },
   {
    "duration": 52,
    "start_time": "2022-12-16T12:03:51.065Z"
   },
   {
    "duration": 41,
    "start_time": "2022-12-16T12:03:51.120Z"
   },
   {
    "duration": 4,
    "start_time": "2022-12-16T12:03:51.164Z"
   },
   {
    "duration": 285,
    "start_time": "2022-12-16T12:03:51.170Z"
   },
   {
    "duration": 2,
    "start_time": "2022-12-16T12:03:51.459Z"
   },
   {
    "duration": 51,
    "start_time": "2022-12-16T12:03:51.462Z"
   },
   {
    "duration": 30,
    "start_time": "2022-12-16T12:03:51.515Z"
   },
   {
    "duration": 51,
    "start_time": "2022-12-16T12:03:51.546Z"
   },
   {
    "duration": 180,
    "start_time": "2022-12-16T12:03:51.599Z"
   },
   {
    "duration": 0,
    "start_time": "2022-12-16T12:03:51.783Z"
   },
   {
    "duration": 0,
    "start_time": "2022-12-16T12:03:51.786Z"
   },
   {
    "duration": 0,
    "start_time": "2022-12-16T12:03:51.787Z"
   },
   {
    "duration": 0,
    "start_time": "2022-12-16T12:03:51.787Z"
   },
   {
    "duration": 0,
    "start_time": "2022-12-16T12:03:51.788Z"
   },
   {
    "duration": 0,
    "start_time": "2022-12-16T12:03:51.789Z"
   },
   {
    "duration": 0,
    "start_time": "2022-12-16T12:03:51.790Z"
   },
   {
    "duration": 0,
    "start_time": "2022-12-16T12:03:51.791Z"
   },
   {
    "duration": 0,
    "start_time": "2022-12-16T12:03:51.792Z"
   },
   {
    "duration": 0,
    "start_time": "2022-12-16T12:03:51.793Z"
   },
   {
    "duration": 0,
    "start_time": "2022-12-16T12:03:51.794Z"
   },
   {
    "duration": 0,
    "start_time": "2022-12-16T12:03:51.794Z"
   },
   {
    "duration": 0,
    "start_time": "2022-12-16T12:03:51.795Z"
   },
   {
    "duration": 0,
    "start_time": "2022-12-16T12:03:51.797Z"
   },
   {
    "duration": 0,
    "start_time": "2022-12-16T12:03:51.798Z"
   },
   {
    "duration": 0,
    "start_time": "2022-12-16T12:03:51.800Z"
   },
   {
    "duration": 0,
    "start_time": "2022-12-16T12:03:51.803Z"
   },
   {
    "duration": 0,
    "start_time": "2022-12-16T12:03:51.805Z"
   },
   {
    "duration": 0,
    "start_time": "2022-12-16T12:03:51.805Z"
   },
   {
    "duration": 0,
    "start_time": "2022-12-16T12:03:51.806Z"
   },
   {
    "duration": 0,
    "start_time": "2022-12-16T12:03:51.807Z"
   },
   {
    "duration": 0,
    "start_time": "2022-12-16T12:03:51.808Z"
   },
   {
    "duration": 0,
    "start_time": "2022-12-16T12:03:51.809Z"
   },
   {
    "duration": 0,
    "start_time": "2022-12-16T12:03:51.810Z"
   },
   {
    "duration": 4,
    "start_time": "2022-12-16T12:06:29.806Z"
   },
   {
    "duration": 10,
    "start_time": "2022-12-16T12:06:45.999Z"
   },
   {
    "duration": 89,
    "start_time": "2022-12-16T12:09:07.315Z"
   },
   {
    "duration": 22,
    "start_time": "2022-12-16T12:09:56.277Z"
   },
   {
    "duration": 10,
    "start_time": "2022-12-16T12:10:03.357Z"
   },
   {
    "duration": 11,
    "start_time": "2022-12-16T12:10:37.494Z"
   },
   {
    "duration": 3,
    "start_time": "2022-12-16T12:10:56.025Z"
   },
   {
    "duration": 4,
    "start_time": "2022-12-16T12:10:58.722Z"
   },
   {
    "duration": 4,
    "start_time": "2022-12-16T12:11:11.101Z"
   },
   {
    "duration": 12,
    "start_time": "2022-12-16T12:14:24.161Z"
   },
   {
    "duration": 9,
    "start_time": "2022-12-16T12:15:11.565Z"
   },
   {
    "duration": 13,
    "start_time": "2022-12-16T12:23:53.336Z"
   },
   {
    "duration": 4,
    "start_time": "2022-12-16T12:24:02.137Z"
   },
   {
    "duration": 4,
    "start_time": "2022-12-16T12:24:18.025Z"
   },
   {
    "duration": 20,
    "start_time": "2022-12-16T12:30:51.856Z"
   },
   {
    "duration": 106,
    "start_time": "2022-12-16T12:30:56.943Z"
   },
   {
    "duration": 24,
    "start_time": "2022-12-16T12:31:00.016Z"
   },
   {
    "duration": 11,
    "start_time": "2022-12-16T12:42:16.265Z"
   },
   {
    "duration": 1395,
    "start_time": "2022-12-16T12:42:22.310Z"
   },
   {
    "duration": 818,
    "start_time": "2022-12-16T12:42:23.707Z"
   },
   {
    "duration": 23,
    "start_time": "2022-12-16T12:42:24.526Z"
   },
   {
    "duration": 39,
    "start_time": "2022-12-16T12:42:24.551Z"
   },
   {
    "duration": 13,
    "start_time": "2022-12-16T12:42:24.595Z"
   },
   {
    "duration": 25,
    "start_time": "2022-12-16T12:42:24.611Z"
   },
   {
    "duration": 13,
    "start_time": "2022-12-16T12:42:24.637Z"
   },
   {
    "duration": 3,
    "start_time": "2022-12-16T12:42:24.652Z"
   },
   {
    "duration": 26,
    "start_time": "2022-12-16T12:42:24.656Z"
   },
   {
    "duration": 21,
    "start_time": "2022-12-16T12:42:24.684Z"
   },
   {
    "duration": 19,
    "start_time": "2022-12-16T12:42:24.706Z"
   },
   {
    "duration": 244,
    "start_time": "2022-12-16T12:42:24.726Z"
   },
   {
    "duration": 7,
    "start_time": "2022-12-16T12:42:24.972Z"
   },
   {
    "duration": 34,
    "start_time": "2022-12-16T12:42:24.980Z"
   },
   {
    "duration": 12,
    "start_time": "2022-12-16T12:42:25.016Z"
   },
   {
    "duration": 24,
    "start_time": "2022-12-16T12:42:25.030Z"
   },
   {
    "duration": 13,
    "start_time": "2022-12-16T12:42:25.056Z"
   },
   {
    "duration": 43,
    "start_time": "2022-12-16T12:42:25.071Z"
   },
   {
    "duration": 6,
    "start_time": "2022-12-16T12:42:25.116Z"
   },
   {
    "duration": 15,
    "start_time": "2022-12-16T12:42:25.124Z"
   },
   {
    "duration": 20,
    "start_time": "2022-12-16T12:42:25.141Z"
   },
   {
    "duration": 40,
    "start_time": "2022-12-16T12:42:25.163Z"
   },
   {
    "duration": 11,
    "start_time": "2022-12-16T12:42:25.205Z"
   },
   {
    "duration": 22,
    "start_time": "2022-12-16T12:42:25.217Z"
   },
   {
    "duration": 34,
    "start_time": "2022-12-16T12:42:25.240Z"
   },
   {
    "duration": 283,
    "start_time": "2022-12-16T12:42:25.276Z"
   },
   {
    "duration": 1669,
    "start_time": "2022-12-16T12:42:25.561Z"
   },
   {
    "duration": 693,
    "start_time": "2022-12-16T12:42:27.234Z"
   },
   {
    "duration": 781,
    "start_time": "2022-12-16T12:42:27.929Z"
   },
   {
    "duration": 25,
    "start_time": "2022-12-16T12:42:28.714Z"
   },
   {
    "duration": 129,
    "start_time": "2022-12-16T12:42:28.741Z"
   },
   {
    "duration": 0,
    "start_time": "2022-12-16T12:42:28.872Z"
   },
   {
    "duration": 0,
    "start_time": "2022-12-16T12:42:28.886Z"
   },
   {
    "duration": 0,
    "start_time": "2022-12-16T12:42:28.887Z"
   },
   {
    "duration": 0,
    "start_time": "2022-12-16T12:42:28.887Z"
   },
   {
    "duration": 0,
    "start_time": "2022-12-16T12:42:28.888Z"
   },
   {
    "duration": 0,
    "start_time": "2022-12-16T12:42:28.888Z"
   },
   {
    "duration": 0,
    "start_time": "2022-12-16T12:42:28.889Z"
   },
   {
    "duration": 0,
    "start_time": "2022-12-16T12:42:28.889Z"
   },
   {
    "duration": 0,
    "start_time": "2022-12-16T12:42:28.890Z"
   },
   {
    "duration": 0,
    "start_time": "2022-12-16T12:42:28.890Z"
   },
   {
    "duration": 0,
    "start_time": "2022-12-16T12:42:28.891Z"
   },
   {
    "duration": 17,
    "start_time": "2022-12-16T12:42:54.710Z"
   },
   {
    "duration": 14,
    "start_time": "2022-12-16T12:42:58.955Z"
   },
   {
    "duration": 1448,
    "start_time": "2022-12-16T12:43:09.466Z"
   },
   {
    "duration": 752,
    "start_time": "2022-12-16T12:43:10.917Z"
   },
   {
    "duration": 33,
    "start_time": "2022-12-16T12:43:11.671Z"
   },
   {
    "duration": 22,
    "start_time": "2022-12-16T12:43:11.709Z"
   },
   {
    "duration": 4,
    "start_time": "2022-12-16T12:43:11.733Z"
   },
   {
    "duration": 24,
    "start_time": "2022-12-16T12:43:11.738Z"
   },
   {
    "duration": 27,
    "start_time": "2022-12-16T12:43:11.764Z"
   },
   {
    "duration": 5,
    "start_time": "2022-12-16T12:43:11.797Z"
   },
   {
    "duration": 24,
    "start_time": "2022-12-16T12:43:11.804Z"
   },
   {
    "duration": 25,
    "start_time": "2022-12-16T12:43:11.830Z"
   },
   {
    "duration": 5,
    "start_time": "2022-12-16T12:43:11.857Z"
   },
   {
    "duration": 257,
    "start_time": "2022-12-16T12:43:11.864Z"
   },
   {
    "duration": 3,
    "start_time": "2022-12-16T12:43:12.122Z"
   },
   {
    "duration": 11,
    "start_time": "2022-12-16T12:43:12.126Z"
   },
   {
    "duration": 4,
    "start_time": "2022-12-16T12:43:12.138Z"
   },
   {
    "duration": 8,
    "start_time": "2022-12-16T12:43:12.143Z"
   },
   {
    "duration": 6,
    "start_time": "2022-12-16T12:43:12.152Z"
   },
   {
    "duration": 43,
    "start_time": "2022-12-16T12:43:12.159Z"
   },
   {
    "duration": 5,
    "start_time": "2022-12-16T12:43:12.205Z"
   },
   {
    "duration": 5,
    "start_time": "2022-12-16T12:43:12.212Z"
   },
   {
    "duration": 6,
    "start_time": "2022-12-16T12:43:12.218Z"
   },
   {
    "duration": 5,
    "start_time": "2022-12-16T12:43:12.225Z"
   },
   {
    "duration": 5,
    "start_time": "2022-12-16T12:43:12.232Z"
   },
   {
    "duration": 118,
    "start_time": "2022-12-16T12:43:12.238Z"
   },
   {
    "duration": 0,
    "start_time": "2022-12-16T12:43:12.358Z"
   },
   {
    "duration": 0,
    "start_time": "2022-12-16T12:43:12.359Z"
   },
   {
    "duration": 0,
    "start_time": "2022-12-16T12:43:12.361Z"
   },
   {
    "duration": 0,
    "start_time": "2022-12-16T12:43:12.362Z"
   },
   {
    "duration": 0,
    "start_time": "2022-12-16T12:43:12.363Z"
   },
   {
    "duration": 0,
    "start_time": "2022-12-16T12:43:12.377Z"
   },
   {
    "duration": 0,
    "start_time": "2022-12-16T12:43:12.381Z"
   },
   {
    "duration": 0,
    "start_time": "2022-12-16T12:43:12.381Z"
   },
   {
    "duration": 0,
    "start_time": "2022-12-16T12:43:12.382Z"
   },
   {
    "duration": 0,
    "start_time": "2022-12-16T12:43:12.382Z"
   },
   {
    "duration": 0,
    "start_time": "2022-12-16T12:43:12.383Z"
   },
   {
    "duration": 0,
    "start_time": "2022-12-16T12:43:12.383Z"
   },
   {
    "duration": 0,
    "start_time": "2022-12-16T12:43:12.384Z"
   },
   {
    "duration": 0,
    "start_time": "2022-12-16T12:43:12.385Z"
   },
   {
    "duration": 0,
    "start_time": "2022-12-16T12:43:12.386Z"
   },
   {
    "duration": 0,
    "start_time": "2022-12-16T12:43:12.386Z"
   },
   {
    "duration": 0,
    "start_time": "2022-12-16T12:43:12.387Z"
   },
   {
    "duration": 0,
    "start_time": "2022-12-16T12:43:12.388Z"
   },
   {
    "duration": 11,
    "start_time": "2022-12-16T12:44:02.038Z"
   },
   {
    "duration": 1444,
    "start_time": "2022-12-16T12:44:17.821Z"
   },
   {
    "duration": 799,
    "start_time": "2022-12-16T12:44:19.269Z"
   },
   {
    "duration": 33,
    "start_time": "2022-12-16T12:44:20.069Z"
   },
   {
    "duration": 27,
    "start_time": "2022-12-16T12:44:20.109Z"
   },
   {
    "duration": 4,
    "start_time": "2022-12-16T12:44:20.137Z"
   },
   {
    "duration": 22,
    "start_time": "2022-12-16T12:44:20.143Z"
   },
   {
    "duration": 27,
    "start_time": "2022-12-16T12:44:20.166Z"
   },
   {
    "duration": 9,
    "start_time": "2022-12-16T12:44:20.202Z"
   },
   {
    "duration": 36,
    "start_time": "2022-12-16T12:44:20.213Z"
   },
   {
    "duration": 41,
    "start_time": "2022-12-16T12:44:20.251Z"
   },
   {
    "duration": 28,
    "start_time": "2022-12-16T12:44:20.300Z"
   },
   {
    "duration": 278,
    "start_time": "2022-12-16T12:44:20.329Z"
   },
   {
    "duration": 4,
    "start_time": "2022-12-16T12:44:20.613Z"
   },
   {
    "duration": 21,
    "start_time": "2022-12-16T12:44:20.618Z"
   },
   {
    "duration": 26,
    "start_time": "2022-12-16T12:44:20.641Z"
   },
   {
    "duration": 26,
    "start_time": "2022-12-16T12:44:20.669Z"
   },
   {
    "duration": 25,
    "start_time": "2022-12-16T12:44:20.703Z"
   },
   {
    "duration": 21,
    "start_time": "2022-12-16T12:44:20.730Z"
   },
   {
    "duration": 15,
    "start_time": "2022-12-16T12:44:20.753Z"
   },
   {
    "duration": 50,
    "start_time": "2022-12-16T12:44:20.770Z"
   },
   {
    "duration": 12,
    "start_time": "2022-12-16T12:44:20.822Z"
   },
   {
    "duration": 36,
    "start_time": "2022-12-16T12:44:20.836Z"
   },
   {
    "duration": 12,
    "start_time": "2022-12-16T12:44:20.874Z"
   },
   {
    "duration": 42,
    "start_time": "2022-12-16T12:44:20.887Z"
   },
   {
    "duration": 55,
    "start_time": "2022-12-16T12:44:20.931Z"
   },
   {
    "duration": 325,
    "start_time": "2022-12-16T12:44:20.987Z"
   },
   {
    "duration": 1668,
    "start_time": "2022-12-16T12:44:21.314Z"
   },
   {
    "duration": 671,
    "start_time": "2022-12-16T12:44:22.986Z"
   },
   {
    "duration": 891,
    "start_time": "2022-12-16T12:44:23.658Z"
   },
   {
    "duration": 34,
    "start_time": "2022-12-16T12:44:24.551Z"
   },
   {
    "duration": 123,
    "start_time": "2022-12-16T12:44:24.592Z"
   },
   {
    "duration": 0,
    "start_time": "2022-12-16T12:44:24.717Z"
   },
   {
    "duration": 0,
    "start_time": "2022-12-16T12:44:24.718Z"
   },
   {
    "duration": 0,
    "start_time": "2022-12-16T12:44:24.719Z"
   },
   {
    "duration": 0,
    "start_time": "2022-12-16T12:44:24.721Z"
   },
   {
    "duration": 0,
    "start_time": "2022-12-16T12:44:24.722Z"
   },
   {
    "duration": 0,
    "start_time": "2022-12-16T12:44:24.723Z"
   },
   {
    "duration": 0,
    "start_time": "2022-12-16T12:44:24.725Z"
   },
   {
    "duration": 0,
    "start_time": "2022-12-16T12:44:24.726Z"
   },
   {
    "duration": 0,
    "start_time": "2022-12-16T12:44:24.727Z"
   },
   {
    "duration": 0,
    "start_time": "2022-12-16T12:44:24.728Z"
   },
   {
    "duration": 0,
    "start_time": "2022-12-16T12:44:24.729Z"
   },
   {
    "duration": 30,
    "start_time": "2022-12-16T12:44:43.974Z"
   },
   {
    "duration": 1465,
    "start_time": "2022-12-16T12:44:50.574Z"
   },
   {
    "duration": 763,
    "start_time": "2022-12-16T12:44:52.041Z"
   },
   {
    "duration": 28,
    "start_time": "2022-12-16T12:44:52.806Z"
   },
   {
    "duration": 17,
    "start_time": "2022-12-16T12:44:52.836Z"
   },
   {
    "duration": 4,
    "start_time": "2022-12-16T12:44:52.856Z"
   },
   {
    "duration": 26,
    "start_time": "2022-12-16T12:44:52.878Z"
   },
   {
    "duration": 32,
    "start_time": "2022-12-16T12:44:52.908Z"
   },
   {
    "duration": 3,
    "start_time": "2022-12-16T12:44:52.941Z"
   },
   {
    "duration": 22,
    "start_time": "2022-12-16T12:44:52.946Z"
   },
   {
    "duration": 34,
    "start_time": "2022-12-16T12:44:52.970Z"
   },
   {
    "duration": 12,
    "start_time": "2022-12-16T12:44:53.006Z"
   },
   {
    "duration": 263,
    "start_time": "2022-12-16T12:44:53.020Z"
   },
   {
    "duration": 11,
    "start_time": "2022-12-16T12:44:53.287Z"
   },
   {
    "duration": 20,
    "start_time": "2022-12-16T12:44:53.299Z"
   },
   {
    "duration": 6,
    "start_time": "2022-12-16T12:44:53.321Z"
   },
   {
    "duration": 17,
    "start_time": "2022-12-16T12:44:53.328Z"
   },
   {
    "duration": 9,
    "start_time": "2022-12-16T12:44:53.347Z"
   },
   {
    "duration": 26,
    "start_time": "2022-12-16T12:44:53.358Z"
   },
   {
    "duration": 22,
    "start_time": "2022-12-16T12:44:53.387Z"
   },
   {
    "duration": 9,
    "start_time": "2022-12-16T12:44:53.410Z"
   },
   {
    "duration": 4,
    "start_time": "2022-12-16T12:44:53.421Z"
   },
   {
    "duration": 7,
    "start_time": "2022-12-16T12:44:53.426Z"
   },
   {
    "duration": 6,
    "start_time": "2022-12-16T12:44:53.434Z"
   },
   {
    "duration": 21,
    "start_time": "2022-12-16T12:44:53.441Z"
   },
   {
    "duration": 43,
    "start_time": "2022-12-16T12:44:53.464Z"
   },
   {
    "duration": 291,
    "start_time": "2022-12-16T12:44:53.511Z"
   },
   {
    "duration": 1770,
    "start_time": "2022-12-16T12:44:53.804Z"
   },
   {
    "duration": 679,
    "start_time": "2022-12-16T12:44:55.578Z"
   },
   {
    "duration": 829,
    "start_time": "2022-12-16T12:44:56.258Z"
   },
   {
    "duration": 32,
    "start_time": "2022-12-16T12:44:57.088Z"
   },
   {
    "duration": 142,
    "start_time": "2022-12-16T12:44:57.122Z"
   },
   {
    "duration": 0,
    "start_time": "2022-12-16T12:44:57.266Z"
   },
   {
    "duration": 0,
    "start_time": "2022-12-16T12:44:57.268Z"
   },
   {
    "duration": 0,
    "start_time": "2022-12-16T12:44:57.270Z"
   },
   {
    "duration": 0,
    "start_time": "2022-12-16T12:44:57.271Z"
   },
   {
    "duration": 0,
    "start_time": "2022-12-16T12:44:57.272Z"
   },
   {
    "duration": 0,
    "start_time": "2022-12-16T12:44:57.277Z"
   },
   {
    "duration": 0,
    "start_time": "2022-12-16T12:44:57.278Z"
   },
   {
    "duration": 0,
    "start_time": "2022-12-16T12:44:57.279Z"
   },
   {
    "duration": 0,
    "start_time": "2022-12-16T12:44:57.280Z"
   },
   {
    "duration": 0,
    "start_time": "2022-12-16T12:44:57.281Z"
   },
   {
    "duration": 0,
    "start_time": "2022-12-16T12:44:57.282Z"
   },
   {
    "duration": 250,
    "start_time": "2022-12-16T12:52:07.205Z"
   },
   {
    "duration": 43,
    "start_time": "2022-12-16T12:53:24.386Z"
   },
   {
    "duration": 1302,
    "start_time": "2022-12-16T12:53:35.137Z"
   },
   {
    "duration": 679,
    "start_time": "2022-12-16T12:53:36.441Z"
   },
   {
    "duration": 23,
    "start_time": "2022-12-16T12:53:37.122Z"
   },
   {
    "duration": 23,
    "start_time": "2022-12-16T12:53:37.147Z"
   },
   {
    "duration": 4,
    "start_time": "2022-12-16T12:53:37.178Z"
   },
   {
    "duration": 43,
    "start_time": "2022-12-16T12:53:37.183Z"
   },
   {
    "duration": 28,
    "start_time": "2022-12-16T12:53:37.227Z"
   },
   {
    "duration": 11,
    "start_time": "2022-12-16T12:53:37.257Z"
   },
   {
    "duration": 41,
    "start_time": "2022-12-16T12:53:37.269Z"
   },
   {
    "duration": 28,
    "start_time": "2022-12-16T12:53:37.312Z"
   },
   {
    "duration": 9,
    "start_time": "2022-12-16T12:53:37.341Z"
   },
   {
    "duration": 230,
    "start_time": "2022-12-16T12:53:37.352Z"
   },
   {
    "duration": 2,
    "start_time": "2022-12-16T12:53:37.584Z"
   },
   {
    "duration": 33,
    "start_time": "2022-12-16T12:53:37.588Z"
   },
   {
    "duration": 17,
    "start_time": "2022-12-16T12:53:37.622Z"
   },
   {
    "duration": 32,
    "start_time": "2022-12-16T12:53:37.640Z"
   },
   {
    "duration": 14,
    "start_time": "2022-12-16T12:53:37.673Z"
   },
   {
    "duration": 36,
    "start_time": "2022-12-16T12:53:37.688Z"
   },
   {
    "duration": 14,
    "start_time": "2022-12-16T12:53:37.726Z"
   },
   {
    "duration": 28,
    "start_time": "2022-12-16T12:53:37.742Z"
   },
   {
    "duration": 22,
    "start_time": "2022-12-16T12:53:37.772Z"
   },
   {
    "duration": 40,
    "start_time": "2022-12-16T12:53:37.795Z"
   },
   {
    "duration": 30,
    "start_time": "2022-12-16T12:53:37.837Z"
   },
   {
    "duration": 47,
    "start_time": "2022-12-16T12:53:37.869Z"
   },
   {
    "duration": 30,
    "start_time": "2022-12-16T12:53:37.918Z"
   },
   {
    "duration": 42,
    "start_time": "2022-12-16T12:53:37.950Z"
   },
   {
    "duration": 1589,
    "start_time": "2022-12-16T12:53:37.994Z"
   },
   {
    "duration": 598,
    "start_time": "2022-12-16T12:53:39.587Z"
   },
   {
    "duration": 769,
    "start_time": "2022-12-16T12:53:40.187Z"
   },
   {
    "duration": 31,
    "start_time": "2022-12-16T12:53:40.958Z"
   },
   {
    "duration": 121,
    "start_time": "2022-12-16T12:53:40.990Z"
   },
   {
    "duration": 0,
    "start_time": "2022-12-16T12:53:41.113Z"
   },
   {
    "duration": 0,
    "start_time": "2022-12-16T12:53:41.114Z"
   },
   {
    "duration": 0,
    "start_time": "2022-12-16T12:53:41.115Z"
   },
   {
    "duration": 0,
    "start_time": "2022-12-16T12:53:41.116Z"
   },
   {
    "duration": 0,
    "start_time": "2022-12-16T12:53:41.117Z"
   },
   {
    "duration": 0,
    "start_time": "2022-12-16T12:53:41.117Z"
   },
   {
    "duration": 0,
    "start_time": "2022-12-16T12:53:41.118Z"
   },
   {
    "duration": 0,
    "start_time": "2022-12-16T12:53:41.119Z"
   },
   {
    "duration": 0,
    "start_time": "2022-12-16T12:53:41.121Z"
   },
   {
    "duration": 0,
    "start_time": "2022-12-16T12:53:41.121Z"
   },
   {
    "duration": 0,
    "start_time": "2022-12-16T12:53:41.122Z"
   },
   {
    "duration": 53,
    "start_time": "2022-12-16T12:55:31.037Z"
   },
   {
    "duration": 48,
    "start_time": "2022-12-16T12:55:39.177Z"
   },
   {
    "duration": 42,
    "start_time": "2022-12-16T12:55:59.813Z"
   },
   {
    "duration": 1477,
    "start_time": "2022-12-16T12:56:05.570Z"
   },
   {
    "duration": 698,
    "start_time": "2022-12-16T12:56:07.050Z"
   },
   {
    "duration": 30,
    "start_time": "2022-12-16T12:56:07.749Z"
   },
   {
    "duration": 17,
    "start_time": "2022-12-16T12:56:07.781Z"
   },
   {
    "duration": 3,
    "start_time": "2022-12-16T12:56:07.800Z"
   },
   {
    "duration": 21,
    "start_time": "2022-12-16T12:56:07.804Z"
   },
   {
    "duration": 12,
    "start_time": "2022-12-16T12:56:07.827Z"
   },
   {
    "duration": 4,
    "start_time": "2022-12-16T12:56:07.840Z"
   },
   {
    "duration": 21,
    "start_time": "2022-12-16T12:56:07.878Z"
   },
   {
    "duration": 16,
    "start_time": "2022-12-16T12:56:07.902Z"
   },
   {
    "duration": 4,
    "start_time": "2022-12-16T12:56:07.920Z"
   },
   {
    "duration": 247,
    "start_time": "2022-12-16T12:56:07.925Z"
   },
   {
    "duration": 2,
    "start_time": "2022-12-16T12:56:08.177Z"
   },
   {
    "duration": 17,
    "start_time": "2022-12-16T12:56:08.181Z"
   },
   {
    "duration": 4,
    "start_time": "2022-12-16T12:56:08.199Z"
   },
   {
    "duration": 8,
    "start_time": "2022-12-16T12:56:08.204Z"
   },
   {
    "duration": 7,
    "start_time": "2022-12-16T12:56:08.213Z"
   },
   {
    "duration": 17,
    "start_time": "2022-12-16T12:56:08.221Z"
   },
   {
    "duration": 2,
    "start_time": "2022-12-16T12:56:08.239Z"
   },
   {
    "duration": 6,
    "start_time": "2022-12-16T12:56:08.242Z"
   },
   {
    "duration": 6,
    "start_time": "2022-12-16T12:56:08.250Z"
   },
   {
    "duration": 4,
    "start_time": "2022-12-16T12:56:08.277Z"
   },
   {
    "duration": 5,
    "start_time": "2022-12-16T12:56:08.283Z"
   },
   {
    "duration": 29,
    "start_time": "2022-12-16T12:56:08.289Z"
   },
   {
    "duration": 30,
    "start_time": "2022-12-16T12:56:08.319Z"
   },
   {
    "duration": 65,
    "start_time": "2022-12-16T12:56:08.351Z"
   },
   {
    "duration": 1635,
    "start_time": "2022-12-16T12:56:08.417Z"
   },
   {
    "duration": 657,
    "start_time": "2022-12-16T12:56:10.057Z"
   },
   {
    "duration": 865,
    "start_time": "2022-12-16T12:56:10.716Z"
   },
   {
    "duration": 26,
    "start_time": "2022-12-16T12:56:11.583Z"
   },
   {
    "duration": 123,
    "start_time": "2022-12-16T12:56:11.611Z"
   },
   {
    "duration": 0,
    "start_time": "2022-12-16T12:56:11.736Z"
   },
   {
    "duration": 0,
    "start_time": "2022-12-16T12:56:11.737Z"
   },
   {
    "duration": 0,
    "start_time": "2022-12-16T12:56:11.738Z"
   },
   {
    "duration": 0,
    "start_time": "2022-12-16T12:56:11.739Z"
   },
   {
    "duration": 0,
    "start_time": "2022-12-16T12:56:11.740Z"
   },
   {
    "duration": 0,
    "start_time": "2022-12-16T12:56:11.741Z"
   },
   {
    "duration": 0,
    "start_time": "2022-12-16T12:56:11.742Z"
   },
   {
    "duration": 0,
    "start_time": "2022-12-16T12:56:11.743Z"
   },
   {
    "duration": 0,
    "start_time": "2022-12-16T12:56:11.744Z"
   },
   {
    "duration": 0,
    "start_time": "2022-12-16T12:56:11.745Z"
   },
   {
    "duration": 0,
    "start_time": "2022-12-16T12:56:11.746Z"
   },
   {
    "duration": 46,
    "start_time": "2022-12-16T12:56:34.070Z"
   },
   {
    "duration": 1422,
    "start_time": "2022-12-16T12:56:42.990Z"
   },
   {
    "duration": 701,
    "start_time": "2022-12-16T12:56:44.414Z"
   },
   {
    "duration": 26,
    "start_time": "2022-12-16T12:56:45.117Z"
   },
   {
    "duration": 18,
    "start_time": "2022-12-16T12:56:45.145Z"
   },
   {
    "duration": 3,
    "start_time": "2022-12-16T12:56:45.178Z"
   },
   {
    "duration": 31,
    "start_time": "2022-12-16T12:56:45.183Z"
   },
   {
    "duration": 18,
    "start_time": "2022-12-16T12:56:45.215Z"
   },
   {
    "duration": 4,
    "start_time": "2022-12-16T12:56:45.234Z"
   },
   {
    "duration": 40,
    "start_time": "2022-12-16T12:56:45.239Z"
   },
   {
    "duration": 16,
    "start_time": "2022-12-16T12:56:45.281Z"
   },
   {
    "duration": 3,
    "start_time": "2022-12-16T12:56:45.299Z"
   },
   {
    "duration": 240,
    "start_time": "2022-12-16T12:56:45.304Z"
   },
   {
    "duration": 2,
    "start_time": "2022-12-16T12:56:45.546Z"
   },
   {
    "duration": 21,
    "start_time": "2022-12-16T12:56:45.550Z"
   },
   {
    "duration": 17,
    "start_time": "2022-12-16T12:56:45.572Z"
   },
   {
    "duration": 16,
    "start_time": "2022-12-16T12:56:45.591Z"
   },
   {
    "duration": 24,
    "start_time": "2022-12-16T12:56:45.608Z"
   },
   {
    "duration": 30,
    "start_time": "2022-12-16T12:56:45.634Z"
   },
   {
    "duration": 12,
    "start_time": "2022-12-16T12:56:45.665Z"
   },
   {
    "duration": 11,
    "start_time": "2022-12-16T12:56:45.679Z"
   },
   {
    "duration": 14,
    "start_time": "2022-12-16T12:56:45.691Z"
   },
   {
    "duration": 20,
    "start_time": "2022-12-16T12:56:45.707Z"
   },
   {
    "duration": 4,
    "start_time": "2022-12-16T12:56:45.729Z"
   },
   {
    "duration": 33,
    "start_time": "2022-12-16T12:56:45.735Z"
   },
   {
    "duration": 31,
    "start_time": "2022-12-16T12:56:45.769Z"
   },
   {
    "duration": 44,
    "start_time": "2022-12-16T12:56:45.802Z"
   },
   {
    "duration": 1550,
    "start_time": "2022-12-16T12:56:45.848Z"
   },
   {
    "duration": 615,
    "start_time": "2022-12-16T12:56:47.401Z"
   },
   {
    "duration": 756,
    "start_time": "2022-12-16T12:56:48.018Z"
   },
   {
    "duration": 26,
    "start_time": "2022-12-16T12:56:48.777Z"
   },
   {
    "duration": 114,
    "start_time": "2022-12-16T12:56:48.805Z"
   },
   {
    "duration": 0,
    "start_time": "2022-12-16T12:56:48.921Z"
   },
   {
    "duration": 0,
    "start_time": "2022-12-16T12:56:48.922Z"
   },
   {
    "duration": 0,
    "start_time": "2022-12-16T12:56:48.923Z"
   },
   {
    "duration": 0,
    "start_time": "2022-12-16T12:56:48.924Z"
   },
   {
    "duration": 0,
    "start_time": "2022-12-16T12:56:48.925Z"
   },
   {
    "duration": 0,
    "start_time": "2022-12-16T12:56:48.926Z"
   },
   {
    "duration": 0,
    "start_time": "2022-12-16T12:56:48.927Z"
   },
   {
    "duration": 0,
    "start_time": "2022-12-16T12:56:48.929Z"
   },
   {
    "duration": 0,
    "start_time": "2022-12-16T12:56:48.930Z"
   },
   {
    "duration": 0,
    "start_time": "2022-12-16T12:56:48.932Z"
   },
   {
    "duration": 0,
    "start_time": "2022-12-16T12:56:48.933Z"
   },
   {
    "duration": 15,
    "start_time": "2022-12-16T12:57:23.397Z"
   },
   {
    "duration": 38,
    "start_time": "2022-12-16T12:57:37.293Z"
   },
   {
    "duration": 1399,
    "start_time": "2022-12-16T12:57:42.249Z"
   },
   {
    "duration": 731,
    "start_time": "2022-12-16T12:57:43.650Z"
   },
   {
    "duration": 23,
    "start_time": "2022-12-16T12:57:44.382Z"
   },
   {
    "duration": 21,
    "start_time": "2022-12-16T12:57:44.407Z"
   },
   {
    "duration": 4,
    "start_time": "2022-12-16T12:57:44.430Z"
   },
   {
    "duration": 28,
    "start_time": "2022-12-16T12:57:44.435Z"
   },
   {
    "duration": 23,
    "start_time": "2022-12-16T12:57:44.465Z"
   },
   {
    "duration": 12,
    "start_time": "2022-12-16T12:57:44.490Z"
   },
   {
    "duration": 36,
    "start_time": "2022-12-16T12:57:44.504Z"
   },
   {
    "duration": 21,
    "start_time": "2022-12-16T12:57:44.542Z"
   },
   {
    "duration": 4,
    "start_time": "2022-12-16T12:57:44.564Z"
   },
   {
    "duration": 242,
    "start_time": "2022-12-16T12:57:44.570Z"
   },
   {
    "duration": 3,
    "start_time": "2022-12-16T12:57:44.814Z"
   },
   {
    "duration": 19,
    "start_time": "2022-12-16T12:57:44.818Z"
   },
   {
    "duration": 11,
    "start_time": "2022-12-16T12:57:44.838Z"
   },
   {
    "duration": 14,
    "start_time": "2022-12-16T12:57:44.851Z"
   },
   {
    "duration": 11,
    "start_time": "2022-12-16T12:57:44.867Z"
   },
   {
    "duration": 24,
    "start_time": "2022-12-16T12:57:44.880Z"
   },
   {
    "duration": 10,
    "start_time": "2022-12-16T12:57:44.905Z"
   },
   {
    "duration": 5,
    "start_time": "2022-12-16T12:57:44.916Z"
   },
   {
    "duration": 9,
    "start_time": "2022-12-16T12:57:44.923Z"
   },
   {
    "duration": 16,
    "start_time": "2022-12-16T12:57:44.934Z"
   },
   {
    "duration": 9,
    "start_time": "2022-12-16T12:57:44.951Z"
   },
   {
    "duration": 36,
    "start_time": "2022-12-16T12:57:44.961Z"
   },
   {
    "duration": 33,
    "start_time": "2022-12-16T12:57:44.999Z"
   },
   {
    "duration": 58,
    "start_time": "2022-12-16T12:57:45.034Z"
   },
   {
    "duration": 1495,
    "start_time": "2022-12-16T12:57:45.094Z"
   },
   {
    "duration": 593,
    "start_time": "2022-12-16T12:57:46.593Z"
   },
   {
    "duration": 724,
    "start_time": "2022-12-16T12:57:47.188Z"
   },
   {
    "duration": 23,
    "start_time": "2022-12-16T12:57:47.914Z"
   },
   {
    "duration": 112,
    "start_time": "2022-12-16T12:57:47.938Z"
   },
   {
    "duration": 0,
    "start_time": "2022-12-16T12:57:48.052Z"
   },
   {
    "duration": 0,
    "start_time": "2022-12-16T12:57:48.053Z"
   },
   {
    "duration": 0,
    "start_time": "2022-12-16T12:57:48.054Z"
   },
   {
    "duration": 0,
    "start_time": "2022-12-16T12:57:48.055Z"
   },
   {
    "duration": 0,
    "start_time": "2022-12-16T12:57:48.056Z"
   },
   {
    "duration": 0,
    "start_time": "2022-12-16T12:57:48.057Z"
   },
   {
    "duration": 0,
    "start_time": "2022-12-16T12:57:48.058Z"
   },
   {
    "duration": 0,
    "start_time": "2022-12-16T12:57:48.059Z"
   },
   {
    "duration": 0,
    "start_time": "2022-12-16T12:57:48.060Z"
   },
   {
    "duration": 0,
    "start_time": "2022-12-16T12:57:48.078Z"
   },
   {
    "duration": 0,
    "start_time": "2022-12-16T12:57:48.079Z"
   },
   {
    "duration": 38,
    "start_time": "2022-12-16T12:58:01.129Z"
   },
   {
    "duration": 1343,
    "start_time": "2022-12-16T12:58:05.332Z"
   },
   {
    "duration": 689,
    "start_time": "2022-12-16T12:58:06.677Z"
   },
   {
    "duration": 27,
    "start_time": "2022-12-16T12:58:07.367Z"
   },
   {
    "duration": 18,
    "start_time": "2022-12-16T12:58:07.396Z"
   },
   {
    "duration": 4,
    "start_time": "2022-12-16T12:58:07.415Z"
   },
   {
    "duration": 36,
    "start_time": "2022-12-16T12:58:07.420Z"
   },
   {
    "duration": 29,
    "start_time": "2022-12-16T12:58:07.458Z"
   },
   {
    "duration": 4,
    "start_time": "2022-12-16T12:58:07.489Z"
   },
   {
    "duration": 23,
    "start_time": "2022-12-16T12:58:07.494Z"
   },
   {
    "duration": 15,
    "start_time": "2022-12-16T12:58:07.519Z"
   },
   {
    "duration": 3,
    "start_time": "2022-12-16T12:58:07.536Z"
   },
   {
    "duration": 252,
    "start_time": "2022-12-16T12:58:07.541Z"
   },
   {
    "duration": 3,
    "start_time": "2022-12-16T12:58:07.794Z"
   },
   {
    "duration": 39,
    "start_time": "2022-12-16T12:58:07.798Z"
   },
   {
    "duration": 29,
    "start_time": "2022-12-16T12:58:07.838Z"
   },
   {
    "duration": 8,
    "start_time": "2022-12-16T12:58:07.868Z"
   },
   {
    "duration": 7,
    "start_time": "2022-12-16T12:58:07.878Z"
   },
   {
    "duration": 17,
    "start_time": "2022-12-16T12:58:07.887Z"
   },
   {
    "duration": 20,
    "start_time": "2022-12-16T12:58:07.906Z"
   },
   {
    "duration": 10,
    "start_time": "2022-12-16T12:58:07.927Z"
   },
   {
    "duration": 6,
    "start_time": "2022-12-16T12:58:07.938Z"
   },
   {
    "duration": 11,
    "start_time": "2022-12-16T12:58:07.945Z"
   },
   {
    "duration": 7,
    "start_time": "2022-12-16T12:58:07.957Z"
   },
   {
    "duration": 36,
    "start_time": "2022-12-16T12:58:07.966Z"
   },
   {
    "duration": 31,
    "start_time": "2022-12-16T12:58:08.003Z"
   },
   {
    "duration": 55,
    "start_time": "2022-12-16T12:58:08.035Z"
   },
   {
    "duration": 1513,
    "start_time": "2022-12-16T12:58:08.092Z"
   },
   {
    "duration": 618,
    "start_time": "2022-12-16T12:58:09.608Z"
   },
   {
    "duration": 787,
    "start_time": "2022-12-16T12:58:10.228Z"
   },
   {
    "duration": 26,
    "start_time": "2022-12-16T12:58:11.017Z"
   },
   {
    "duration": 123,
    "start_time": "2022-12-16T12:58:11.044Z"
   },
   {
    "duration": 1,
    "start_time": "2022-12-16T12:58:11.168Z"
   },
   {
    "duration": 0,
    "start_time": "2022-12-16T12:58:11.170Z"
   },
   {
    "duration": 0,
    "start_time": "2022-12-16T12:58:11.178Z"
   },
   {
    "duration": 0,
    "start_time": "2022-12-16T12:58:11.179Z"
   },
   {
    "duration": 0,
    "start_time": "2022-12-16T12:58:11.180Z"
   },
   {
    "duration": 0,
    "start_time": "2022-12-16T12:58:11.181Z"
   },
   {
    "duration": 0,
    "start_time": "2022-12-16T12:58:11.182Z"
   },
   {
    "duration": 0,
    "start_time": "2022-12-16T12:58:11.183Z"
   },
   {
    "duration": 1,
    "start_time": "2022-12-16T12:58:11.183Z"
   },
   {
    "duration": 0,
    "start_time": "2022-12-16T12:58:11.185Z"
   },
   {
    "duration": 0,
    "start_time": "2022-12-16T12:58:11.186Z"
   },
   {
    "duration": 1333,
    "start_time": "2022-12-16T12:58:36.225Z"
   },
   {
    "duration": 679,
    "start_time": "2022-12-16T12:58:37.560Z"
   },
   {
    "duration": 23,
    "start_time": "2022-12-16T12:58:38.241Z"
   },
   {
    "duration": 22,
    "start_time": "2022-12-16T12:58:38.266Z"
   },
   {
    "duration": 21,
    "start_time": "2022-12-16T12:58:38.289Z"
   },
   {
    "duration": 95,
    "start_time": "2022-12-16T12:58:38.312Z"
   },
   {
    "duration": 24,
    "start_time": "2022-12-16T12:58:38.408Z"
   },
   {
    "duration": 17,
    "start_time": "2022-12-16T12:58:38.434Z"
   },
   {
    "duration": 25,
    "start_time": "2022-12-16T12:58:38.453Z"
   },
   {
    "duration": 22,
    "start_time": "2022-12-16T12:58:38.480Z"
   },
   {
    "duration": 17,
    "start_time": "2022-12-16T12:58:38.504Z"
   },
   {
    "duration": 226,
    "start_time": "2022-12-16T12:58:38.522Z"
   },
   {
    "duration": 2,
    "start_time": "2022-12-16T12:58:38.749Z"
   },
   {
    "duration": 11,
    "start_time": "2022-12-16T12:58:38.753Z"
   },
   {
    "duration": 21,
    "start_time": "2022-12-16T12:58:38.765Z"
   },
   {
    "duration": 19,
    "start_time": "2022-12-16T12:58:38.788Z"
   },
   {
    "duration": 10,
    "start_time": "2022-12-16T12:58:38.808Z"
   },
   {
    "duration": 33,
    "start_time": "2022-12-16T12:58:38.819Z"
   },
   {
    "duration": 15,
    "start_time": "2022-12-16T12:58:38.853Z"
   },
   {
    "duration": 11,
    "start_time": "2022-12-16T12:58:38.870Z"
   },
   {
    "duration": 23,
    "start_time": "2022-12-16T12:58:38.883Z"
   },
   {
    "duration": 22,
    "start_time": "2022-12-16T12:58:38.907Z"
   },
   {
    "duration": 30,
    "start_time": "2022-12-16T12:58:38.931Z"
   },
   {
    "duration": 41,
    "start_time": "2022-12-16T12:58:38.962Z"
   },
   {
    "duration": 36,
    "start_time": "2022-12-16T12:58:39.004Z"
   },
   {
    "duration": 55,
    "start_time": "2022-12-16T12:58:39.042Z"
   },
   {
    "duration": 1488,
    "start_time": "2022-12-16T12:58:39.099Z"
   },
   {
    "duration": 644,
    "start_time": "2022-12-16T12:58:40.591Z"
   },
   {
    "duration": 749,
    "start_time": "2022-12-16T12:58:41.237Z"
   },
   {
    "duration": 24,
    "start_time": "2022-12-16T12:58:41.987Z"
   },
   {
    "duration": 117,
    "start_time": "2022-12-16T12:58:42.012Z"
   },
   {
    "duration": 0,
    "start_time": "2022-12-16T12:58:42.130Z"
   },
   {
    "duration": 0,
    "start_time": "2022-12-16T12:58:42.131Z"
   },
   {
    "duration": 0,
    "start_time": "2022-12-16T12:58:42.132Z"
   },
   {
    "duration": 0,
    "start_time": "2022-12-16T12:58:42.133Z"
   },
   {
    "duration": 0,
    "start_time": "2022-12-16T12:58:42.134Z"
   },
   {
    "duration": 0,
    "start_time": "2022-12-16T12:58:42.135Z"
   },
   {
    "duration": 0,
    "start_time": "2022-12-16T12:58:42.136Z"
   },
   {
    "duration": 0,
    "start_time": "2022-12-16T12:58:42.137Z"
   },
   {
    "duration": 0,
    "start_time": "2022-12-16T12:58:42.138Z"
   },
   {
    "duration": 0,
    "start_time": "2022-12-16T12:58:42.139Z"
   },
   {
    "duration": 0,
    "start_time": "2022-12-16T12:58:42.140Z"
   },
   {
    "duration": 1571,
    "start_time": "2022-12-16T13:04:22.492Z"
   },
   {
    "duration": 1392,
    "start_time": "2022-12-16T13:05:31.884Z"
   },
   {
    "duration": 830,
    "start_time": "2022-12-16T13:06:53.496Z"
   },
   {
    "duration": 658,
    "start_time": "2022-12-16T13:10:22.659Z"
   },
   {
    "duration": 788,
    "start_time": "2022-12-16T13:11:29.771Z"
   },
   {
    "duration": 773,
    "start_time": "2022-12-16T13:11:43.619Z"
   },
   {
    "duration": 200,
    "start_time": "2022-12-16T13:16:14.709Z"
   },
   {
    "duration": 1530,
    "start_time": "2022-12-16T13:16:55.215Z"
   },
   {
    "duration": 1550,
    "start_time": "2022-12-16T13:17:16.523Z"
   },
   {
    "duration": 627,
    "start_time": "2022-12-16T13:17:38.123Z"
   },
   {
    "duration": 1555,
    "start_time": "2022-12-16T13:18:22.124Z"
   },
   {
    "duration": 1589,
    "start_time": "2022-12-16T13:18:38.183Z"
   },
   {
    "duration": 708,
    "start_time": "2022-12-16T13:19:10.655Z"
   },
   {
    "duration": 3,
    "start_time": "2022-12-16T13:20:43.331Z"
   },
   {
    "duration": 4,
    "start_time": "2022-12-16T13:20:48.414Z"
   },
   {
    "duration": 3,
    "start_time": "2022-12-16T13:21:45.339Z"
   },
   {
    "duration": 15,
    "start_time": "2022-12-16T13:25:31.522Z"
   },
   {
    "duration": 8,
    "start_time": "2022-12-16T13:26:13.638Z"
   },
   {
    "duration": 6,
    "start_time": "2022-12-16T13:26:25.004Z"
   },
   {
    "duration": 102,
    "start_time": "2022-12-16T13:26:46.000Z"
   },
   {
    "duration": 155,
    "start_time": "2022-12-16T13:26:53.158Z"
   },
   {
    "duration": 84,
    "start_time": "2022-12-16T13:27:31.734Z"
   },
   {
    "duration": 7,
    "start_time": "2022-12-16T13:27:39.070Z"
   },
   {
    "duration": 10,
    "start_time": "2022-12-16T13:29:31.010Z"
   },
   {
    "duration": 9,
    "start_time": "2022-12-16T13:29:40.842Z"
   },
   {
    "duration": 10,
    "start_time": "2022-12-16T13:31:29.701Z"
   },
   {
    "duration": 1399,
    "start_time": "2022-12-16T13:31:39.742Z"
   },
   {
    "duration": 694,
    "start_time": "2022-12-16T13:31:41.143Z"
   },
   {
    "duration": 23,
    "start_time": "2022-12-16T13:31:41.839Z"
   },
   {
    "duration": 26,
    "start_time": "2022-12-16T13:31:41.864Z"
   },
   {
    "duration": 4,
    "start_time": "2022-12-16T13:31:41.891Z"
   },
   {
    "duration": 24,
    "start_time": "2022-12-16T13:31:41.897Z"
   },
   {
    "duration": 15,
    "start_time": "2022-12-16T13:31:41.922Z"
   },
   {
    "duration": 4,
    "start_time": "2022-12-16T13:31:41.938Z"
   },
   {
    "duration": 36,
    "start_time": "2022-12-16T13:31:41.944Z"
   },
   {
    "duration": 16,
    "start_time": "2022-12-16T13:31:41.982Z"
   },
   {
    "duration": 4,
    "start_time": "2022-12-16T13:31:41.999Z"
   },
   {
    "duration": 238,
    "start_time": "2022-12-16T13:31:42.004Z"
   },
   {
    "duration": 3,
    "start_time": "2022-12-16T13:31:42.243Z"
   },
   {
    "duration": 12,
    "start_time": "2022-12-16T13:31:42.247Z"
   },
   {
    "duration": 6,
    "start_time": "2022-12-16T13:31:42.261Z"
   },
   {
    "duration": 5,
    "start_time": "2022-12-16T13:31:42.278Z"
   },
   {
    "duration": 13,
    "start_time": "2022-12-16T13:31:42.285Z"
   },
   {
    "duration": 23,
    "start_time": "2022-12-16T13:31:42.299Z"
   },
   {
    "duration": 8,
    "start_time": "2022-12-16T13:31:42.324Z"
   },
   {
    "duration": 6,
    "start_time": "2022-12-16T13:31:42.333Z"
   },
   {
    "duration": 8,
    "start_time": "2022-12-16T13:31:42.341Z"
   },
   {
    "duration": 6,
    "start_time": "2022-12-16T13:31:42.350Z"
   },
   {
    "duration": 7,
    "start_time": "2022-12-16T13:31:42.357Z"
   },
   {
    "duration": 29,
    "start_time": "2022-12-16T13:31:42.366Z"
   },
   {
    "duration": 36,
    "start_time": "2022-12-16T13:31:42.397Z"
   },
   {
    "duration": 55,
    "start_time": "2022-12-16T13:31:42.434Z"
   },
   {
    "duration": 1545,
    "start_time": "2022-12-16T13:31:42.491Z"
   },
   {
    "duration": 638,
    "start_time": "2022-12-16T13:31:44.040Z"
   },
   {
    "duration": 770,
    "start_time": "2022-12-16T13:31:44.680Z"
   },
   {
    "duration": 28,
    "start_time": "2022-12-16T13:31:45.452Z"
   },
   {
    "duration": 3,
    "start_time": "2022-12-16T13:31:45.482Z"
   },
   {
    "duration": 118,
    "start_time": "2022-12-16T13:31:45.486Z"
   },
   {
    "duration": 0,
    "start_time": "2022-12-16T13:31:45.606Z"
   },
   {
    "duration": 0,
    "start_time": "2022-12-16T13:31:45.607Z"
   },
   {
    "duration": 0,
    "start_time": "2022-12-16T13:31:45.608Z"
   },
   {
    "duration": 0,
    "start_time": "2022-12-16T13:31:45.609Z"
   },
   {
    "duration": 0,
    "start_time": "2022-12-16T13:31:45.610Z"
   },
   {
    "duration": 0,
    "start_time": "2022-12-16T13:31:45.611Z"
   },
   {
    "duration": 0,
    "start_time": "2022-12-16T13:31:45.612Z"
   },
   {
    "duration": 0,
    "start_time": "2022-12-16T13:31:45.613Z"
   },
   {
    "duration": 0,
    "start_time": "2022-12-16T13:31:45.614Z"
   },
   {
    "duration": 0,
    "start_time": "2022-12-16T13:31:45.615Z"
   },
   {
    "duration": 0,
    "start_time": "2022-12-16T13:31:45.616Z"
   },
   {
    "duration": 6,
    "start_time": "2022-12-16T13:32:09.807Z"
   },
   {
    "duration": 17,
    "start_time": "2022-12-16T13:32:57.285Z"
   },
   {
    "duration": 13,
    "start_time": "2022-12-16T13:33:05.510Z"
   },
   {
    "duration": 1333,
    "start_time": "2022-12-16T13:33:20.426Z"
   },
   {
    "duration": 687,
    "start_time": "2022-12-16T13:33:21.761Z"
   },
   {
    "duration": 23,
    "start_time": "2022-12-16T13:33:22.449Z"
   },
   {
    "duration": 17,
    "start_time": "2022-12-16T13:33:22.478Z"
   },
   {
    "duration": 3,
    "start_time": "2022-12-16T13:33:22.497Z"
   },
   {
    "duration": 20,
    "start_time": "2022-12-16T13:33:22.502Z"
   },
   {
    "duration": 16,
    "start_time": "2022-12-16T13:33:22.524Z"
   },
   {
    "duration": 4,
    "start_time": "2022-12-16T13:33:22.541Z"
   },
   {
    "duration": 45,
    "start_time": "2022-12-16T13:33:22.546Z"
   },
   {
    "duration": 18,
    "start_time": "2022-12-16T13:33:22.595Z"
   },
   {
    "duration": 3,
    "start_time": "2022-12-16T13:33:22.614Z"
   },
   {
    "duration": 251,
    "start_time": "2022-12-16T13:33:22.619Z"
   },
   {
    "duration": 2,
    "start_time": "2022-12-16T13:33:22.878Z"
   },
   {
    "duration": 12,
    "start_time": "2022-12-16T13:33:22.882Z"
   },
   {
    "duration": 4,
    "start_time": "2022-12-16T13:33:22.895Z"
   },
   {
    "duration": 6,
    "start_time": "2022-12-16T13:33:22.901Z"
   },
   {
    "duration": 5,
    "start_time": "2022-12-16T13:33:22.909Z"
   },
   {
    "duration": 15,
    "start_time": "2022-12-16T13:33:22.915Z"
   },
   {
    "duration": 3,
    "start_time": "2022-12-16T13:33:22.932Z"
   },
   {
    "duration": 5,
    "start_time": "2022-12-16T13:33:22.936Z"
   },
   {
    "duration": 36,
    "start_time": "2022-12-16T13:33:22.942Z"
   },
   {
    "duration": 15,
    "start_time": "2022-12-16T13:33:22.980Z"
   },
   {
    "duration": 28,
    "start_time": "2022-12-16T13:33:22.996Z"
   },
   {
    "duration": 47,
    "start_time": "2022-12-16T13:33:23.026Z"
   },
   {
    "duration": 47,
    "start_time": "2022-12-16T13:33:23.075Z"
   },
   {
    "duration": 44,
    "start_time": "2022-12-16T13:33:23.123Z"
   },
   {
    "duration": 1581,
    "start_time": "2022-12-16T13:33:23.169Z"
   },
   {
    "duration": 614,
    "start_time": "2022-12-16T13:33:24.753Z"
   },
   {
    "duration": 764,
    "start_time": "2022-12-16T13:33:25.368Z"
   },
   {
    "duration": 25,
    "start_time": "2022-12-16T13:33:26.134Z"
   },
   {
    "duration": 4,
    "start_time": "2022-12-16T13:33:26.160Z"
   },
   {
    "duration": 114,
    "start_time": "2022-12-16T13:33:26.178Z"
   },
   {
    "duration": 0,
    "start_time": "2022-12-16T13:33:26.294Z"
   },
   {
    "duration": 0,
    "start_time": "2022-12-16T13:33:26.295Z"
   },
   {
    "duration": 0,
    "start_time": "2022-12-16T13:33:26.296Z"
   },
   {
    "duration": 0,
    "start_time": "2022-12-16T13:33:26.297Z"
   },
   {
    "duration": 0,
    "start_time": "2022-12-16T13:33:26.299Z"
   },
   {
    "duration": 0,
    "start_time": "2022-12-16T13:33:26.300Z"
   },
   {
    "duration": 0,
    "start_time": "2022-12-16T13:33:26.302Z"
   },
   {
    "duration": 0,
    "start_time": "2022-12-16T13:33:26.304Z"
   },
   {
    "duration": 0,
    "start_time": "2022-12-16T13:33:26.305Z"
   },
   {
    "duration": 0,
    "start_time": "2022-12-16T13:33:26.307Z"
   },
   {
    "duration": 0,
    "start_time": "2022-12-16T13:33:26.308Z"
   },
   {
    "duration": 76,
    "start_time": "2022-12-16T13:33:35.130Z"
   },
   {
    "duration": 16,
    "start_time": "2022-12-16T13:33:38.685Z"
   },
   {
    "duration": 1339,
    "start_time": "2022-12-16T13:33:45.314Z"
   },
   {
    "duration": 688,
    "start_time": "2022-12-16T13:33:46.654Z"
   },
   {
    "duration": 22,
    "start_time": "2022-12-16T13:33:47.344Z"
   },
   {
    "duration": 24,
    "start_time": "2022-12-16T13:33:47.368Z"
   },
   {
    "duration": 4,
    "start_time": "2022-12-16T13:33:47.393Z"
   },
   {
    "duration": 34,
    "start_time": "2022-12-16T13:33:47.398Z"
   },
   {
    "duration": 16,
    "start_time": "2022-12-16T13:33:47.433Z"
   },
   {
    "duration": 3,
    "start_time": "2022-12-16T13:33:47.451Z"
   },
   {
    "duration": 40,
    "start_time": "2022-12-16T13:33:47.456Z"
   },
   {
    "duration": 18,
    "start_time": "2022-12-16T13:33:47.499Z"
   },
   {
    "duration": 4,
    "start_time": "2022-12-16T13:33:47.519Z"
   },
   {
    "duration": 238,
    "start_time": "2022-12-16T13:33:47.524Z"
   },
   {
    "duration": 2,
    "start_time": "2022-12-16T13:33:47.764Z"
   },
   {
    "duration": 9,
    "start_time": "2022-12-16T13:33:47.778Z"
   },
   {
    "duration": 3,
    "start_time": "2022-12-16T13:33:47.789Z"
   },
   {
    "duration": 13,
    "start_time": "2022-12-16T13:33:47.794Z"
   },
   {
    "duration": 9,
    "start_time": "2022-12-16T13:33:47.808Z"
   },
   {
    "duration": 17,
    "start_time": "2022-12-16T13:33:47.819Z"
   },
   {
    "duration": 6,
    "start_time": "2022-12-16T13:33:47.837Z"
   },
   {
    "duration": 7,
    "start_time": "2022-12-16T13:33:47.844Z"
   },
   {
    "duration": 5,
    "start_time": "2022-12-16T13:33:47.852Z"
   },
   {
    "duration": 8,
    "start_time": "2022-12-16T13:33:47.858Z"
   },
   {
    "duration": 11,
    "start_time": "2022-12-16T13:33:47.867Z"
   },
   {
    "duration": 33,
    "start_time": "2022-12-16T13:33:47.880Z"
   },
   {
    "duration": 33,
    "start_time": "2022-12-16T13:33:47.915Z"
   },
   {
    "duration": 59,
    "start_time": "2022-12-16T13:33:47.949Z"
   },
   {
    "duration": 1553,
    "start_time": "2022-12-16T13:33:48.009Z"
   },
   {
    "duration": 740,
    "start_time": "2022-12-16T13:33:49.569Z"
   },
   {
    "duration": 843,
    "start_time": "2022-12-16T13:33:50.310Z"
   },
   {
    "duration": 30,
    "start_time": "2022-12-16T13:33:51.155Z"
   },
   {
    "duration": 6,
    "start_time": "2022-12-16T13:33:51.187Z"
   },
   {
    "duration": 22,
    "start_time": "2022-12-16T13:33:51.194Z"
   },
   {
    "duration": 112,
    "start_time": "2022-12-16T13:33:51.218Z"
   },
   {
    "duration": 0,
    "start_time": "2022-12-16T13:33:51.332Z"
   },
   {
    "duration": 0,
    "start_time": "2022-12-16T13:33:51.333Z"
   },
   {
    "duration": 0,
    "start_time": "2022-12-16T13:33:51.334Z"
   },
   {
    "duration": 0,
    "start_time": "2022-12-16T13:33:51.335Z"
   },
   {
    "duration": 0,
    "start_time": "2022-12-16T13:33:51.337Z"
   },
   {
    "duration": 0,
    "start_time": "2022-12-16T13:33:51.338Z"
   },
   {
    "duration": 0,
    "start_time": "2022-12-16T13:33:51.338Z"
   },
   {
    "duration": 0,
    "start_time": "2022-12-16T13:33:51.339Z"
   },
   {
    "duration": 0,
    "start_time": "2022-12-16T13:33:51.341Z"
   },
   {
    "duration": 0,
    "start_time": "2022-12-16T13:33:51.342Z"
   },
   {
    "duration": 15,
    "start_time": "2022-12-16T13:34:16.225Z"
   },
   {
    "duration": 1329,
    "start_time": "2022-12-16T13:34:21.738Z"
   },
   {
    "duration": 672,
    "start_time": "2022-12-16T13:34:23.069Z"
   },
   {
    "duration": 24,
    "start_time": "2022-12-16T13:34:23.742Z"
   },
   {
    "duration": 18,
    "start_time": "2022-12-16T13:34:23.777Z"
   },
   {
    "duration": 4,
    "start_time": "2022-12-16T13:34:23.796Z"
   },
   {
    "duration": 24,
    "start_time": "2022-12-16T13:34:23.801Z"
   },
   {
    "duration": 14,
    "start_time": "2022-12-16T13:34:23.826Z"
   },
   {
    "duration": 3,
    "start_time": "2022-12-16T13:34:23.842Z"
   },
   {
    "duration": 44,
    "start_time": "2022-12-16T13:34:23.846Z"
   },
   {
    "duration": 17,
    "start_time": "2022-12-16T13:34:23.892Z"
   },
   {
    "duration": 3,
    "start_time": "2022-12-16T13:34:23.911Z"
   },
   {
    "duration": 284,
    "start_time": "2022-12-16T13:34:23.916Z"
   },
   {
    "duration": 3,
    "start_time": "2022-12-16T13:34:24.201Z"
   },
   {
    "duration": 13,
    "start_time": "2022-12-16T13:34:24.205Z"
   },
   {
    "duration": 3,
    "start_time": "2022-12-16T13:34:24.220Z"
   },
   {
    "duration": 9,
    "start_time": "2022-12-16T13:34:24.225Z"
   },
   {
    "duration": 6,
    "start_time": "2022-12-16T13:34:24.235Z"
   },
   {
    "duration": 18,
    "start_time": "2022-12-16T13:34:24.242Z"
   },
   {
    "duration": 3,
    "start_time": "2022-12-16T13:34:24.277Z"
   },
   {
    "duration": 5,
    "start_time": "2022-12-16T13:34:24.281Z"
   },
   {
    "duration": 7,
    "start_time": "2022-12-16T13:34:24.287Z"
   },
   {
    "duration": 4,
    "start_time": "2022-12-16T13:34:24.296Z"
   },
   {
    "duration": 6,
    "start_time": "2022-12-16T13:34:24.302Z"
   },
   {
    "duration": 36,
    "start_time": "2022-12-16T13:34:24.309Z"
   },
   {
    "duration": 41,
    "start_time": "2022-12-16T13:34:24.346Z"
   },
   {
    "duration": 41,
    "start_time": "2022-12-16T13:34:24.388Z"
   },
   {
    "duration": 1474,
    "start_time": "2022-12-16T13:34:24.431Z"
   },
   {
    "duration": 598,
    "start_time": "2022-12-16T13:34:25.908Z"
   },
   {
    "duration": 786,
    "start_time": "2022-12-16T13:34:26.507Z"
   },
   {
    "duration": 25,
    "start_time": "2022-12-16T13:34:27.295Z"
   },
   {
    "duration": 4,
    "start_time": "2022-12-16T13:34:27.322Z"
   },
   {
    "duration": 13,
    "start_time": "2022-12-16T13:34:27.327Z"
   },
   {
    "duration": 123,
    "start_time": "2022-12-16T13:34:27.342Z"
   },
   {
    "duration": 0,
    "start_time": "2022-12-16T13:34:27.467Z"
   },
   {
    "duration": 0,
    "start_time": "2022-12-16T13:34:27.468Z"
   },
   {
    "duration": 0,
    "start_time": "2022-12-16T13:34:27.469Z"
   },
   {
    "duration": 0,
    "start_time": "2022-12-16T13:34:27.470Z"
   },
   {
    "duration": 0,
    "start_time": "2022-12-16T13:34:27.478Z"
   },
   {
    "duration": 0,
    "start_time": "2022-12-16T13:34:27.479Z"
   },
   {
    "duration": 0,
    "start_time": "2022-12-16T13:34:27.480Z"
   },
   {
    "duration": 0,
    "start_time": "2022-12-16T13:34:27.481Z"
   },
   {
    "duration": 0,
    "start_time": "2022-12-16T13:34:27.482Z"
   },
   {
    "duration": 0,
    "start_time": "2022-12-16T13:34:27.483Z"
   },
   {
    "duration": 21,
    "start_time": "2022-12-16T13:35:14.114Z"
   },
   {
    "duration": 1648,
    "start_time": "2022-12-16T13:35:33.166Z"
   },
   {
    "duration": 661,
    "start_time": "2022-12-16T13:35:34.816Z"
   },
   {
    "duration": 24,
    "start_time": "2022-12-16T13:35:35.479Z"
   },
   {
    "duration": 18,
    "start_time": "2022-12-16T13:35:35.505Z"
   },
   {
    "duration": 4,
    "start_time": "2022-12-16T13:35:35.524Z"
   },
   {
    "duration": 21,
    "start_time": "2022-12-16T13:35:35.530Z"
   },
   {
    "duration": 14,
    "start_time": "2022-12-16T13:35:35.578Z"
   },
   {
    "duration": 4,
    "start_time": "2022-12-16T13:35:35.594Z"
   },
   {
    "duration": 29,
    "start_time": "2022-12-16T13:35:35.600Z"
   },
   {
    "duration": 21,
    "start_time": "2022-12-16T13:35:35.632Z"
   },
   {
    "duration": 9,
    "start_time": "2022-12-16T13:35:35.654Z"
   },
   {
    "duration": 240,
    "start_time": "2022-12-16T13:35:35.678Z"
   },
   {
    "duration": 2,
    "start_time": "2022-12-16T13:35:35.920Z"
   },
   {
    "duration": 10,
    "start_time": "2022-12-16T13:35:35.924Z"
   },
   {
    "duration": 6,
    "start_time": "2022-12-16T13:35:35.935Z"
   },
   {
    "duration": 8,
    "start_time": "2022-12-16T13:35:35.943Z"
   },
   {
    "duration": 5,
    "start_time": "2022-12-16T13:35:35.953Z"
   },
   {
    "duration": 35,
    "start_time": "2022-12-16T13:35:35.959Z"
   },
   {
    "duration": 8,
    "start_time": "2022-12-16T13:35:35.995Z"
   },
   {
    "duration": 6,
    "start_time": "2022-12-16T13:35:36.005Z"
   },
   {
    "duration": 6,
    "start_time": "2022-12-16T13:35:36.013Z"
   },
   {
    "duration": 13,
    "start_time": "2022-12-16T13:35:36.021Z"
   },
   {
    "duration": 8,
    "start_time": "2022-12-16T13:35:36.035Z"
   },
   {
    "duration": 38,
    "start_time": "2022-12-16T13:35:36.045Z"
   },
   {
    "duration": 35,
    "start_time": "2022-12-16T13:35:36.085Z"
   },
   {
    "duration": 63,
    "start_time": "2022-12-16T13:35:36.122Z"
   },
   {
    "duration": 1624,
    "start_time": "2022-12-16T13:35:36.187Z"
   },
   {
    "duration": 627,
    "start_time": "2022-12-16T13:35:37.816Z"
   },
   {
    "duration": 741,
    "start_time": "2022-12-16T13:35:38.444Z"
   },
   {
    "duration": 27,
    "start_time": "2022-12-16T13:35:39.186Z"
   },
   {
    "duration": 4,
    "start_time": "2022-12-16T13:35:39.215Z"
   },
   {
    "duration": 15,
    "start_time": "2022-12-16T13:35:39.221Z"
   },
   {
    "duration": 133,
    "start_time": "2022-12-16T13:35:39.237Z"
   },
   {
    "duration": 0,
    "start_time": "2022-12-16T13:35:39.372Z"
   },
   {
    "duration": 0,
    "start_time": "2022-12-16T13:35:39.373Z"
   },
   {
    "duration": 0,
    "start_time": "2022-12-16T13:35:39.378Z"
   },
   {
    "duration": 0,
    "start_time": "2022-12-16T13:35:39.379Z"
   },
   {
    "duration": 0,
    "start_time": "2022-12-16T13:35:39.381Z"
   },
   {
    "duration": 0,
    "start_time": "2022-12-16T13:35:39.382Z"
   },
   {
    "duration": 0,
    "start_time": "2022-12-16T13:35:39.384Z"
   },
   {
    "duration": 0,
    "start_time": "2022-12-16T13:35:39.385Z"
   },
   {
    "duration": 0,
    "start_time": "2022-12-16T13:35:39.386Z"
   },
   {
    "duration": 0,
    "start_time": "2022-12-16T13:35:39.388Z"
   },
   {
    "duration": 1475,
    "start_time": "2022-12-16T13:37:12.833Z"
   },
   {
    "duration": 746,
    "start_time": "2022-12-16T13:37:14.310Z"
   },
   {
    "duration": 25,
    "start_time": "2022-12-16T13:37:15.058Z"
   },
   {
    "duration": 21,
    "start_time": "2022-12-16T13:37:15.085Z"
   },
   {
    "duration": 4,
    "start_time": "2022-12-16T13:37:15.108Z"
   },
   {
    "duration": 26,
    "start_time": "2022-12-16T13:37:15.113Z"
   },
   {
    "duration": 13,
    "start_time": "2022-12-16T13:37:15.141Z"
   },
   {
    "duration": 4,
    "start_time": "2022-12-16T13:37:15.178Z"
   },
   {
    "duration": 28,
    "start_time": "2022-12-16T13:37:15.184Z"
   },
   {
    "duration": 21,
    "start_time": "2022-12-16T13:37:15.215Z"
   },
   {
    "duration": 4,
    "start_time": "2022-12-16T13:37:15.238Z"
   },
   {
    "duration": 257,
    "start_time": "2022-12-16T13:37:15.243Z"
   },
   {
    "duration": 2,
    "start_time": "2022-12-16T13:37:15.502Z"
   },
   {
    "duration": 15,
    "start_time": "2022-12-16T13:37:15.506Z"
   },
   {
    "duration": 10,
    "start_time": "2022-12-16T13:37:15.523Z"
   },
   {
    "duration": 7,
    "start_time": "2022-12-16T13:37:15.535Z"
   },
   {
    "duration": 10,
    "start_time": "2022-12-16T13:37:15.544Z"
   },
   {
    "duration": 31,
    "start_time": "2022-12-16T13:37:15.555Z"
   },
   {
    "duration": 2,
    "start_time": "2022-12-16T13:37:15.588Z"
   },
   {
    "duration": 14,
    "start_time": "2022-12-16T13:37:15.592Z"
   },
   {
    "duration": 10,
    "start_time": "2022-12-16T13:37:15.608Z"
   },
   {
    "duration": 8,
    "start_time": "2022-12-16T13:37:15.620Z"
   },
   {
    "duration": 11,
    "start_time": "2022-12-16T13:37:15.629Z"
   },
   {
    "duration": 37,
    "start_time": "2022-12-16T13:37:15.641Z"
   },
   {
    "duration": 37,
    "start_time": "2022-12-16T13:37:15.679Z"
   },
   {
    "duration": 67,
    "start_time": "2022-12-16T13:37:15.718Z"
   },
   {
    "duration": 1547,
    "start_time": "2022-12-16T13:37:15.787Z"
   },
   {
    "duration": 623,
    "start_time": "2022-12-16T13:37:17.336Z"
   },
   {
    "duration": 809,
    "start_time": "2022-12-16T13:37:17.961Z"
   },
   {
    "duration": 26,
    "start_time": "2022-12-16T13:37:18.772Z"
   },
   {
    "duration": 11,
    "start_time": "2022-12-16T13:37:18.800Z"
   },
   {
    "duration": 25,
    "start_time": "2022-12-16T13:37:18.812Z"
   },
   {
    "duration": 132,
    "start_time": "2022-12-16T13:37:18.839Z"
   },
   {
    "duration": 0,
    "start_time": "2022-12-16T13:37:18.972Z"
   },
   {
    "duration": 1,
    "start_time": "2022-12-16T13:37:18.973Z"
   },
   {
    "duration": 0,
    "start_time": "2022-12-16T13:37:18.978Z"
   },
   {
    "duration": 0,
    "start_time": "2022-12-16T13:37:18.979Z"
   },
   {
    "duration": 0,
    "start_time": "2022-12-16T13:37:18.980Z"
   },
   {
    "duration": 0,
    "start_time": "2022-12-16T13:37:18.982Z"
   },
   {
    "duration": 0,
    "start_time": "2022-12-16T13:37:18.983Z"
   },
   {
    "duration": 0,
    "start_time": "2022-12-16T13:37:18.985Z"
   },
   {
    "duration": 0,
    "start_time": "2022-12-16T13:37:18.987Z"
   },
   {
    "duration": 0,
    "start_time": "2022-12-16T13:37:18.990Z"
   },
   {
    "duration": 1391,
    "start_time": "2022-12-16T13:38:41.249Z"
   },
   {
    "duration": 716,
    "start_time": "2022-12-16T13:38:42.642Z"
   },
   {
    "duration": 22,
    "start_time": "2022-12-16T13:38:43.359Z"
   },
   {
    "duration": 17,
    "start_time": "2022-12-16T13:38:43.382Z"
   },
   {
    "duration": 4,
    "start_time": "2022-12-16T13:38:43.401Z"
   },
   {
    "duration": 19,
    "start_time": "2022-12-16T13:38:43.406Z"
   },
   {
    "duration": 10,
    "start_time": "2022-12-16T13:38:43.427Z"
   },
   {
    "duration": 3,
    "start_time": "2022-12-16T13:38:43.439Z"
   },
   {
    "duration": 48,
    "start_time": "2022-12-16T13:38:43.443Z"
   },
   {
    "duration": 19,
    "start_time": "2022-12-16T13:38:43.493Z"
   },
   {
    "duration": 4,
    "start_time": "2022-12-16T13:38:43.514Z"
   },
   {
    "duration": 246,
    "start_time": "2022-12-16T13:38:43.520Z"
   },
   {
    "duration": 2,
    "start_time": "2022-12-16T13:38:43.767Z"
   },
   {
    "duration": 8,
    "start_time": "2022-12-16T13:38:43.777Z"
   },
   {
    "duration": 4,
    "start_time": "2022-12-16T13:38:43.787Z"
   },
   {
    "duration": 12,
    "start_time": "2022-12-16T13:38:43.792Z"
   },
   {
    "duration": 7,
    "start_time": "2022-12-16T13:38:43.805Z"
   },
   {
    "duration": 17,
    "start_time": "2022-12-16T13:38:43.813Z"
   },
   {
    "duration": 5,
    "start_time": "2022-12-16T13:38:43.831Z"
   },
   {
    "duration": 11,
    "start_time": "2022-12-16T13:38:43.837Z"
   },
   {
    "duration": 15,
    "start_time": "2022-12-16T13:38:43.849Z"
   },
   {
    "duration": 8,
    "start_time": "2022-12-16T13:38:43.865Z"
   },
   {
    "duration": 6,
    "start_time": "2022-12-16T13:38:43.878Z"
   },
   {
    "duration": 39,
    "start_time": "2022-12-16T13:38:43.885Z"
   },
   {
    "duration": 38,
    "start_time": "2022-12-16T13:38:43.925Z"
   },
   {
    "duration": 59,
    "start_time": "2022-12-16T13:38:43.965Z"
   },
   {
    "duration": 1517,
    "start_time": "2022-12-16T13:38:44.026Z"
   },
   {
    "duration": 602,
    "start_time": "2022-12-16T13:38:45.545Z"
   },
   {
    "duration": 726,
    "start_time": "2022-12-16T13:38:46.149Z"
   },
   {
    "duration": 25,
    "start_time": "2022-12-16T13:38:46.876Z"
   },
   {
    "duration": 3,
    "start_time": "2022-12-16T13:38:46.903Z"
   },
   {
    "duration": 13,
    "start_time": "2022-12-16T13:38:46.907Z"
   },
   {
    "duration": 6,
    "start_time": "2022-12-16T13:38:46.921Z"
   },
   {
    "duration": 6,
    "start_time": "2022-12-16T13:38:46.928Z"
   },
   {
    "duration": 6,
    "start_time": "2022-12-16T13:38:46.935Z"
   },
   {
    "duration": 7,
    "start_time": "2022-12-16T13:38:46.942Z"
   },
   {
    "duration": 2533,
    "start_time": "2022-12-16T13:38:46.951Z"
   },
   {
    "duration": 22743,
    "start_time": "2022-12-16T13:38:49.488Z"
   },
   {
    "duration": 86974,
    "start_time": "2022-12-16T13:39:12.233Z"
   },
   {
    "duration": 4,
    "start_time": "2022-12-16T13:40:39.209Z"
   },
   {
    "duration": 3159,
    "start_time": "2022-12-16T13:40:39.216Z"
   },
   {
    "duration": 8,
    "start_time": "2022-12-16T13:40:42.377Z"
   },
   {
    "duration": 78,
    "start_time": "2022-12-16T13:53:20.995Z"
   },
   {
    "duration": 5,
    "start_time": "2022-12-16T13:54:34.316Z"
   },
   {
    "duration": 2,
    "start_time": "2022-12-16T13:56:09.311Z"
   },
   {
    "duration": 1352,
    "start_time": "2022-12-16T13:56:15.097Z"
   },
   {
    "duration": 682,
    "start_time": "2022-12-16T13:56:16.452Z"
   },
   {
    "duration": 21,
    "start_time": "2022-12-16T13:56:17.136Z"
   },
   {
    "duration": 38,
    "start_time": "2022-12-16T13:56:17.159Z"
   },
   {
    "duration": 19,
    "start_time": "2022-12-16T13:56:17.199Z"
   },
   {
    "duration": 26,
    "start_time": "2022-12-16T13:56:17.220Z"
   },
   {
    "duration": 21,
    "start_time": "2022-12-16T13:56:17.248Z"
   },
   {
    "duration": 12,
    "start_time": "2022-12-16T13:56:17.271Z"
   },
   {
    "duration": 33,
    "start_time": "2022-12-16T13:56:17.285Z"
   },
   {
    "duration": 32,
    "start_time": "2022-12-16T13:56:17.320Z"
   },
   {
    "duration": 8,
    "start_time": "2022-12-16T13:56:17.354Z"
   },
   {
    "duration": 260,
    "start_time": "2022-12-16T13:56:17.364Z"
   },
   {
    "duration": 3,
    "start_time": "2022-12-16T13:56:17.625Z"
   },
   {
    "duration": 18,
    "start_time": "2022-12-16T13:56:17.631Z"
   },
   {
    "duration": 42,
    "start_time": "2022-12-16T13:56:17.651Z"
   },
   {
    "duration": 32,
    "start_time": "2022-12-16T13:56:17.695Z"
   },
   {
    "duration": 30,
    "start_time": "2022-12-16T13:56:17.729Z"
   },
   {
    "duration": 35,
    "start_time": "2022-12-16T13:56:17.761Z"
   },
   {
    "duration": 15,
    "start_time": "2022-12-16T13:56:17.797Z"
   },
   {
    "duration": 35,
    "start_time": "2022-12-16T13:56:17.813Z"
   },
   {
    "duration": 21,
    "start_time": "2022-12-16T13:56:17.850Z"
   },
   {
    "duration": 22,
    "start_time": "2022-12-16T13:56:17.873Z"
   },
   {
    "duration": 28,
    "start_time": "2022-12-16T13:56:17.896Z"
   },
   {
    "duration": 35,
    "start_time": "2022-12-16T13:56:17.925Z"
   },
   {
    "duration": 34,
    "start_time": "2022-12-16T13:56:17.962Z"
   },
   {
    "duration": 43,
    "start_time": "2022-12-16T13:56:17.998Z"
   },
   {
    "duration": 1529,
    "start_time": "2022-12-16T13:56:18.043Z"
   },
   {
    "duration": 658,
    "start_time": "2022-12-16T13:56:19.574Z"
   },
   {
    "duration": 805,
    "start_time": "2022-12-16T13:56:20.233Z"
   },
   {
    "duration": 38,
    "start_time": "2022-12-16T13:56:21.040Z"
   },
   {
    "duration": 3,
    "start_time": "2022-12-16T13:56:21.080Z"
   },
   {
    "duration": 22,
    "start_time": "2022-12-16T13:56:21.085Z"
   },
   {
    "duration": 19,
    "start_time": "2022-12-16T13:56:21.109Z"
   },
   {
    "duration": 16,
    "start_time": "2022-12-16T13:56:21.130Z"
   },
   {
    "duration": 9,
    "start_time": "2022-12-16T13:56:21.148Z"
   },
   {
    "duration": 9,
    "start_time": "2022-12-16T13:56:21.159Z"
   },
   {
    "duration": 2715,
    "start_time": "2022-12-16T13:56:21.170Z"
   },
   {
    "duration": 22604,
    "start_time": "2022-12-16T13:56:23.977Z"
   },
   {
    "duration": 1441,
    "start_time": "2022-12-16T13:57:32.583Z"
   },
   {
    "duration": 704,
    "start_time": "2022-12-16T13:57:34.026Z"
   },
   {
    "duration": 24,
    "start_time": "2022-12-16T13:57:34.732Z"
   },
   {
    "duration": 26,
    "start_time": "2022-12-16T13:57:34.758Z"
   },
   {
    "duration": 3,
    "start_time": "2022-12-16T13:57:34.786Z"
   },
   {
    "duration": 23,
    "start_time": "2022-12-16T13:57:34.791Z"
   },
   {
    "duration": 14,
    "start_time": "2022-12-16T13:57:34.815Z"
   },
   {
    "duration": 4,
    "start_time": "2022-12-16T13:57:34.831Z"
   },
   {
    "duration": 43,
    "start_time": "2022-12-16T13:57:34.836Z"
   },
   {
    "duration": 23,
    "start_time": "2022-12-16T13:57:34.880Z"
   },
   {
    "duration": 4,
    "start_time": "2022-12-16T13:57:34.905Z"
   },
   {
    "duration": 235,
    "start_time": "2022-12-16T13:57:34.910Z"
   },
   {
    "duration": 2,
    "start_time": "2022-12-16T13:57:35.147Z"
   },
   {
    "duration": 13,
    "start_time": "2022-12-16T13:57:35.152Z"
   },
   {
    "duration": 14,
    "start_time": "2022-12-16T13:57:35.166Z"
   },
   {
    "duration": 9,
    "start_time": "2022-12-16T13:57:35.181Z"
   },
   {
    "duration": 8,
    "start_time": "2022-12-16T13:57:35.192Z"
   },
   {
    "duration": 25,
    "start_time": "2022-12-16T13:57:35.202Z"
   },
   {
    "duration": 5,
    "start_time": "2022-12-16T13:57:35.229Z"
   },
   {
    "duration": 16,
    "start_time": "2022-12-16T13:57:35.236Z"
   },
   {
    "duration": 6,
    "start_time": "2022-12-16T13:57:35.254Z"
   },
   {
    "duration": 8,
    "start_time": "2022-12-16T13:57:35.261Z"
   },
   {
    "duration": 7,
    "start_time": "2022-12-16T13:57:35.270Z"
   },
   {
    "duration": 36,
    "start_time": "2022-12-16T13:57:35.278Z"
   },
   {
    "duration": 40,
    "start_time": "2022-12-16T13:57:35.316Z"
   },
   {
    "duration": 53,
    "start_time": "2022-12-16T13:57:35.358Z"
   },
   {
    "duration": 1513,
    "start_time": "2022-12-16T13:57:35.413Z"
   },
   {
    "duration": 626,
    "start_time": "2022-12-16T13:57:36.928Z"
   },
   {
    "duration": 743,
    "start_time": "2022-12-16T13:57:37.555Z"
   },
   {
    "duration": 25,
    "start_time": "2022-12-16T13:57:38.300Z"
   },
   {
    "duration": 3,
    "start_time": "2022-12-16T13:57:38.326Z"
   },
   {
    "duration": 7,
    "start_time": "2022-12-16T13:57:38.331Z"
   },
   {
    "duration": 7,
    "start_time": "2022-12-16T13:57:38.339Z"
   },
   {
    "duration": 8,
    "start_time": "2022-12-16T13:57:38.347Z"
   },
   {
    "duration": 22,
    "start_time": "2022-12-16T13:57:38.357Z"
   },
   {
    "duration": 6,
    "start_time": "2022-12-16T13:57:38.381Z"
   },
   {
    "duration": 2792,
    "start_time": "2022-12-16T13:57:38.388Z"
   },
   {
    "duration": 22773,
    "start_time": "2022-12-16T13:57:41.182Z"
   },
   {
    "duration": 86666,
    "start_time": "2022-12-16T13:58:03.957Z"
   },
   {
    "duration": 4,
    "start_time": "2022-12-16T13:59:30.625Z"
   },
   {
    "duration": 3211,
    "start_time": "2022-12-16T13:59:30.633Z"
   },
   {
    "duration": 8,
    "start_time": "2022-12-16T13:59:33.846Z"
   },
   {
    "duration": 5,
    "start_time": "2022-12-16T14:08:15.159Z"
   },
   {
    "duration": 2988,
    "start_time": "2022-12-16T14:08:27.998Z"
   },
   {
    "duration": 2913,
    "start_time": "2022-12-16T14:08:40.671Z"
   },
   {
    "duration": 2927,
    "start_time": "2022-12-16T14:09:12.254Z"
   },
   {
    "duration": 22425,
    "start_time": "2022-12-16T14:10:47.208Z"
   },
   {
    "duration": 22851,
    "start_time": "2022-12-16T14:14:21.668Z"
   },
   {
    "duration": 23069,
    "start_time": "2022-12-16T14:15:06.305Z"
   },
   {
    "duration": 90,
    "start_time": "2022-12-16T17:33:13.551Z"
   },
   {
    "duration": 4,
    "start_time": "2022-12-16T17:36:05.310Z"
   },
   {
    "duration": 90,
    "start_time": "2022-12-16T17:40:29.765Z"
   },
   {
    "duration": 1397,
    "start_time": "2022-12-16T17:41:03.173Z"
   },
   {
    "duration": 675,
    "start_time": "2022-12-16T17:41:04.572Z"
   },
   {
    "duration": 22,
    "start_time": "2022-12-16T17:41:05.249Z"
   },
   {
    "duration": 22,
    "start_time": "2022-12-16T17:41:05.277Z"
   },
   {
    "duration": 4,
    "start_time": "2022-12-16T17:41:05.300Z"
   },
   {
    "duration": 23,
    "start_time": "2022-12-16T17:41:05.305Z"
   },
   {
    "duration": 15,
    "start_time": "2022-12-16T17:41:05.330Z"
   },
   {
    "duration": 3,
    "start_time": "2022-12-16T17:41:05.347Z"
   },
   {
    "duration": 38,
    "start_time": "2022-12-16T17:41:05.352Z"
   },
   {
    "duration": 33,
    "start_time": "2022-12-16T17:41:05.392Z"
   },
   {
    "duration": 4,
    "start_time": "2022-12-16T17:41:05.426Z"
   },
   {
    "duration": 224,
    "start_time": "2022-12-16T17:41:05.431Z"
   },
   {
    "duration": 2,
    "start_time": "2022-12-16T17:41:05.656Z"
   },
   {
    "duration": 11,
    "start_time": "2022-12-16T17:41:05.659Z"
   },
   {
    "duration": 4,
    "start_time": "2022-12-16T17:41:05.677Z"
   },
   {
    "duration": 8,
    "start_time": "2022-12-16T17:41:05.682Z"
   },
   {
    "duration": 8,
    "start_time": "2022-12-16T17:41:05.691Z"
   },
   {
    "duration": 20,
    "start_time": "2022-12-16T17:41:05.700Z"
   },
   {
    "duration": 6,
    "start_time": "2022-12-16T17:41:05.722Z"
   },
   {
    "duration": 8,
    "start_time": "2022-12-16T17:41:05.729Z"
   },
   {
    "duration": 7,
    "start_time": "2022-12-16T17:41:05.738Z"
   },
   {
    "duration": 12,
    "start_time": "2022-12-16T17:41:05.746Z"
   },
   {
    "duration": 15,
    "start_time": "2022-12-16T17:41:05.760Z"
   },
   {
    "duration": 30,
    "start_time": "2022-12-16T17:41:05.776Z"
   },
   {
    "duration": 32,
    "start_time": "2022-12-16T17:41:05.807Z"
   },
   {
    "duration": 57,
    "start_time": "2022-12-16T17:41:05.841Z"
   },
   {
    "duration": 1495,
    "start_time": "2022-12-16T17:41:05.900Z"
   },
   {
    "duration": 606,
    "start_time": "2022-12-16T17:41:07.398Z"
   },
   {
    "duration": 731,
    "start_time": "2022-12-16T17:41:08.006Z"
   },
   {
    "duration": 23,
    "start_time": "2022-12-16T17:41:08.739Z"
   },
   {
    "duration": 14,
    "start_time": "2022-12-16T17:41:08.764Z"
   },
   {
    "duration": 3,
    "start_time": "2022-12-16T17:41:08.780Z"
   },
   {
    "duration": 9,
    "start_time": "2022-12-16T17:41:08.784Z"
   },
   {
    "duration": 8,
    "start_time": "2022-12-16T17:41:08.795Z"
   },
   {
    "duration": 17,
    "start_time": "2022-12-16T17:41:08.804Z"
   },
   {
    "duration": 17,
    "start_time": "2022-12-16T17:41:08.822Z"
   },
   {
    "duration": 3040,
    "start_time": "2022-12-16T17:41:08.841Z"
   },
   {
    "duration": 22799,
    "start_time": "2022-12-16T17:41:11.883Z"
   },
   {
    "duration": 87929,
    "start_time": "2022-12-16T17:41:34.684Z"
   },
   {
    "duration": 166,
    "start_time": "2022-12-16T17:43:02.615Z"
   },
   {
    "duration": 5,
    "start_time": "2022-12-16T17:43:02.783Z"
   },
   {
    "duration": 3239,
    "start_time": "2022-12-16T17:43:02.789Z"
   },
   {
    "duration": 8,
    "start_time": "2022-12-16T17:43:06.030Z"
   },
   {
    "duration": 73,
    "start_time": "2022-12-16T17:43:33.753Z"
   },
   {
    "duration": 59991,
    "start_time": "2022-12-16T17:43:47.896Z"
   },
   {
    "duration": 1343,
    "start_time": "2022-12-16T17:45:38.620Z"
   },
   {
    "duration": 676,
    "start_time": "2022-12-16T17:45:39.965Z"
   },
   {
    "duration": 25,
    "start_time": "2022-12-16T17:45:40.643Z"
   },
   {
    "duration": 25,
    "start_time": "2022-12-16T17:45:40.670Z"
   },
   {
    "duration": 5,
    "start_time": "2022-12-16T17:45:40.696Z"
   },
   {
    "duration": 27,
    "start_time": "2022-12-16T17:45:40.702Z"
   },
   {
    "duration": 20,
    "start_time": "2022-12-16T17:45:40.730Z"
   },
   {
    "duration": 4,
    "start_time": "2022-12-16T17:45:40.751Z"
   },
   {
    "duration": 40,
    "start_time": "2022-12-16T17:45:40.756Z"
   },
   {
    "duration": 26,
    "start_time": "2022-12-16T17:45:40.799Z"
   },
   {
    "duration": 4,
    "start_time": "2022-12-16T17:45:40.826Z"
   },
   {
    "duration": 251,
    "start_time": "2022-12-16T17:45:40.831Z"
   },
   {
    "duration": 3,
    "start_time": "2022-12-16T17:45:41.084Z"
   },
   {
    "duration": 18,
    "start_time": "2022-12-16T17:45:41.088Z"
   },
   {
    "duration": 7,
    "start_time": "2022-12-16T17:45:41.107Z"
   },
   {
    "duration": 8,
    "start_time": "2022-12-16T17:45:41.116Z"
   },
   {
    "duration": 6,
    "start_time": "2022-12-16T17:45:41.126Z"
   },
   {
    "duration": 19,
    "start_time": "2022-12-16T17:45:41.133Z"
   },
   {
    "duration": 4,
    "start_time": "2022-12-16T17:45:41.154Z"
   },
   {
    "duration": 6,
    "start_time": "2022-12-16T17:45:41.159Z"
   },
   {
    "duration": 8,
    "start_time": "2022-12-16T17:45:41.178Z"
   },
   {
    "duration": 6,
    "start_time": "2022-12-16T17:45:41.188Z"
   },
   {
    "duration": 5,
    "start_time": "2022-12-16T17:45:41.196Z"
   },
   {
    "duration": 28,
    "start_time": "2022-12-16T17:45:41.203Z"
   },
   {
    "duration": 45,
    "start_time": "2022-12-16T17:45:41.233Z"
   },
   {
    "duration": 43,
    "start_time": "2022-12-16T17:45:41.279Z"
   },
   {
    "duration": 1524,
    "start_time": "2022-12-16T17:45:41.324Z"
   },
   {
    "duration": 633,
    "start_time": "2022-12-16T17:45:42.852Z"
   },
   {
    "duration": 870,
    "start_time": "2022-12-16T17:45:43.486Z"
   },
   {
    "duration": 34,
    "start_time": "2022-12-16T17:45:44.357Z"
   },
   {
    "duration": 3,
    "start_time": "2022-12-16T17:45:44.392Z"
   },
   {
    "duration": 7,
    "start_time": "2022-12-16T17:45:44.397Z"
   },
   {
    "duration": 6,
    "start_time": "2022-12-16T17:45:44.405Z"
   },
   {
    "duration": 8,
    "start_time": "2022-12-16T17:45:44.413Z"
   },
   {
    "duration": 12,
    "start_time": "2022-12-16T17:45:44.422Z"
   },
   {
    "duration": 9,
    "start_time": "2022-12-16T17:45:44.436Z"
   },
   {
    "duration": 2733,
    "start_time": "2022-12-16T17:45:44.446Z"
   },
   {
    "duration": 22770,
    "start_time": "2022-12-16T17:45:47.181Z"
   },
   {
    "duration": 87268,
    "start_time": "2022-12-16T17:46:09.953Z"
   },
   {
    "duration": 1470,
    "start_time": "2022-12-16T17:59:46.803Z"
   },
   {
    "duration": 0,
    "start_time": "2022-12-16T17:59:48.275Z"
   },
   {
    "duration": 0,
    "start_time": "2022-12-16T17:59:48.276Z"
   },
   {
    "duration": 0,
    "start_time": "2022-12-16T17:59:48.277Z"
   },
   {
    "duration": 0,
    "start_time": "2022-12-16T17:59:48.278Z"
   },
   {
    "duration": 0,
    "start_time": "2022-12-16T17:59:48.279Z"
   },
   {
    "duration": 0,
    "start_time": "2022-12-16T17:59:48.280Z"
   },
   {
    "duration": 0,
    "start_time": "2022-12-16T17:59:48.281Z"
   },
   {
    "duration": 0,
    "start_time": "2022-12-16T17:59:48.282Z"
   },
   {
    "duration": 0,
    "start_time": "2022-12-16T17:59:48.283Z"
   },
   {
    "duration": 0,
    "start_time": "2022-12-16T17:59:48.284Z"
   },
   {
    "duration": 0,
    "start_time": "2022-12-16T17:59:48.285Z"
   },
   {
    "duration": 0,
    "start_time": "2022-12-16T17:59:48.286Z"
   },
   {
    "duration": 0,
    "start_time": "2022-12-16T17:59:48.287Z"
   },
   {
    "duration": 0,
    "start_time": "2022-12-16T17:59:48.288Z"
   },
   {
    "duration": 0,
    "start_time": "2022-12-16T17:59:48.289Z"
   },
   {
    "duration": 0,
    "start_time": "2022-12-16T17:59:48.290Z"
   },
   {
    "duration": 0,
    "start_time": "2022-12-16T17:59:48.291Z"
   },
   {
    "duration": 0,
    "start_time": "2022-12-16T17:59:48.293Z"
   },
   {
    "duration": 0,
    "start_time": "2022-12-16T17:59:48.294Z"
   },
   {
    "duration": 0,
    "start_time": "2022-12-16T17:59:48.295Z"
   },
   {
    "duration": 0,
    "start_time": "2022-12-16T17:59:48.296Z"
   },
   {
    "duration": 1,
    "start_time": "2022-12-16T17:59:48.297Z"
   },
   {
    "duration": 0,
    "start_time": "2022-12-16T17:59:48.299Z"
   },
   {
    "duration": 0,
    "start_time": "2022-12-16T17:59:48.300Z"
   },
   {
    "duration": 0,
    "start_time": "2022-12-16T17:59:48.301Z"
   },
   {
    "duration": 0,
    "start_time": "2022-12-16T17:59:48.302Z"
   },
   {
    "duration": 0,
    "start_time": "2022-12-16T17:59:48.303Z"
   },
   {
    "duration": 0,
    "start_time": "2022-12-16T17:59:48.304Z"
   },
   {
    "duration": 0,
    "start_time": "2022-12-16T17:59:48.305Z"
   },
   {
    "duration": 0,
    "start_time": "2022-12-16T17:59:48.306Z"
   },
   {
    "duration": 0,
    "start_time": "2022-12-16T17:59:48.307Z"
   },
   {
    "duration": 0,
    "start_time": "2022-12-16T17:59:48.308Z"
   },
   {
    "duration": 0,
    "start_time": "2022-12-16T17:59:48.309Z"
   },
   {
    "duration": 0,
    "start_time": "2022-12-16T17:59:48.310Z"
   },
   {
    "duration": 0,
    "start_time": "2022-12-16T17:59:48.311Z"
   },
   {
    "duration": 0,
    "start_time": "2022-12-16T17:59:48.312Z"
   },
   {
    "duration": 0,
    "start_time": "2022-12-16T17:59:48.313Z"
   },
   {
    "duration": 0,
    "start_time": "2022-12-16T17:59:48.378Z"
   },
   {
    "duration": 0,
    "start_time": "2022-12-16T17:59:48.379Z"
   },
   {
    "duration": 0,
    "start_time": "2022-12-16T17:59:48.380Z"
   },
   {
    "duration": 0,
    "start_time": "2022-12-16T17:59:48.381Z"
   },
   {
    "duration": 0,
    "start_time": "2022-12-16T17:59:48.382Z"
   },
   {
    "duration": 10,
    "start_time": "2022-12-16T18:00:08.343Z"
   },
   {
    "duration": 9,
    "start_time": "2022-12-16T18:00:18.304Z"
   },
   {
    "duration": 3,
    "start_time": "2022-12-16T18:00:34.428Z"
   },
   {
    "duration": 1367,
    "start_time": "2022-12-16T18:00:40.723Z"
   },
   {
    "duration": 682,
    "start_time": "2022-12-16T18:00:42.092Z"
   },
   {
    "duration": 25,
    "start_time": "2022-12-16T18:00:42.776Z"
   },
   {
    "duration": 18,
    "start_time": "2022-12-16T18:00:42.803Z"
   },
   {
    "duration": 4,
    "start_time": "2022-12-16T18:00:42.823Z"
   },
   {
    "duration": 20,
    "start_time": "2022-12-16T18:00:42.828Z"
   },
   {
    "duration": 35,
    "start_time": "2022-12-16T18:00:42.850Z"
   },
   {
    "duration": 4,
    "start_time": "2022-12-16T18:00:42.888Z"
   },
   {
    "duration": 35,
    "start_time": "2022-12-16T18:00:42.894Z"
   },
   {
    "duration": 28,
    "start_time": "2022-12-16T18:00:42.933Z"
   },
   {
    "duration": 4,
    "start_time": "2022-12-16T18:00:42.962Z"
   },
   {
    "duration": 243,
    "start_time": "2022-12-16T18:00:42.968Z"
   },
   {
    "duration": 2,
    "start_time": "2022-12-16T18:00:43.212Z"
   },
   {
    "duration": 24,
    "start_time": "2022-12-16T18:00:43.216Z"
   },
   {
    "duration": 5,
    "start_time": "2022-12-16T18:00:43.241Z"
   },
   {
    "duration": 6,
    "start_time": "2022-12-16T18:00:43.248Z"
   },
   {
    "duration": 5,
    "start_time": "2022-12-16T18:00:43.256Z"
   },
   {
    "duration": 23,
    "start_time": "2022-12-16T18:00:43.262Z"
   },
   {
    "duration": 5,
    "start_time": "2022-12-16T18:00:43.286Z"
   },
   {
    "duration": 5,
    "start_time": "2022-12-16T18:00:43.292Z"
   },
   {
    "duration": 5,
    "start_time": "2022-12-16T18:00:43.298Z"
   },
   {
    "duration": 4,
    "start_time": "2022-12-16T18:00:43.305Z"
   },
   {
    "duration": 6,
    "start_time": "2022-12-16T18:00:43.310Z"
   },
   {
    "duration": 31,
    "start_time": "2022-12-16T18:00:43.317Z"
   },
   {
    "duration": 50,
    "start_time": "2022-12-16T18:00:43.350Z"
   },
   {
    "duration": 42,
    "start_time": "2022-12-16T18:00:43.402Z"
   },
   {
    "duration": 1536,
    "start_time": "2022-12-16T18:00:43.446Z"
   },
   {
    "duration": 619,
    "start_time": "2022-12-16T18:00:44.984Z"
   },
   {
    "duration": 731,
    "start_time": "2022-12-16T18:00:45.605Z"
   },
   {
    "duration": 25,
    "start_time": "2022-12-16T18:00:46.338Z"
   },
   {
    "duration": 3,
    "start_time": "2022-12-16T18:00:46.377Z"
   },
   {
    "duration": 9,
    "start_time": "2022-12-16T18:00:46.382Z"
   },
   {
    "duration": 6,
    "start_time": "2022-12-16T18:00:46.393Z"
   },
   {
    "duration": 5,
    "start_time": "2022-12-16T18:00:46.401Z"
   },
   {
    "duration": 9,
    "start_time": "2022-12-16T18:00:46.407Z"
   },
   {
    "duration": 10,
    "start_time": "2022-12-16T18:00:46.418Z"
   },
   {
    "duration": 2857,
    "start_time": "2022-12-16T18:00:46.430Z"
   },
   {
    "duration": 22615,
    "start_time": "2022-12-16T18:00:49.378Z"
   },
   {
    "duration": 87492,
    "start_time": "2022-12-16T18:01:11.995Z"
   },
   {
    "duration": 173,
    "start_time": "2022-12-16T18:02:39.488Z"
   },
   {
    "duration": 5,
    "start_time": "2022-12-16T18:02:39.662Z"
   },
   {
    "duration": 3215,
    "start_time": "2022-12-16T18:02:39.668Z"
   },
   {
    "duration": 9,
    "start_time": "2022-12-16T18:02:42.885Z"
   },
   {
    "duration": 3374,
    "start_time": "2022-12-16T18:03:13.671Z"
   },
   {
    "duration": 41,
    "start_time": "2022-12-16T18:08:58.206Z"
   },
   {
    "duration": 40,
    "start_time": "2022-12-16T18:09:05.070Z"
   },
   {
    "duration": 1327,
    "start_time": "2022-12-16T18:09:09.102Z"
   },
   {
    "duration": 674,
    "start_time": "2022-12-16T18:09:10.431Z"
   },
   {
    "duration": 21,
    "start_time": "2022-12-16T18:09:11.107Z"
   },
   {
    "duration": 42,
    "start_time": "2022-12-16T18:09:11.130Z"
   },
   {
    "duration": 21,
    "start_time": "2022-12-16T18:09:11.174Z"
   },
   {
    "duration": 42,
    "start_time": "2022-12-16T18:09:11.197Z"
   },
   {
    "duration": 38,
    "start_time": "2022-12-16T18:09:11.241Z"
   },
   {
    "duration": 16,
    "start_time": "2022-12-16T18:09:11.281Z"
   },
   {
    "duration": 39,
    "start_time": "2022-12-16T18:09:11.299Z"
   },
   {
    "duration": 45,
    "start_time": "2022-12-16T18:09:11.340Z"
   },
   {
    "duration": 17,
    "start_time": "2022-12-16T18:09:11.387Z"
   },
   {
    "duration": 255,
    "start_time": "2022-12-16T18:09:11.405Z"
   },
   {
    "duration": 2,
    "start_time": "2022-12-16T18:09:11.662Z"
   },
   {
    "duration": 69,
    "start_time": "2022-12-16T18:09:11.666Z"
   },
   {
    "duration": 26,
    "start_time": "2022-12-16T18:09:11.736Z"
   },
   {
    "duration": 38,
    "start_time": "2022-12-16T18:09:11.764Z"
   },
   {
    "duration": 30,
    "start_time": "2022-12-16T18:09:11.804Z"
   },
   {
    "duration": 41,
    "start_time": "2022-12-16T18:09:11.835Z"
   },
   {
    "duration": 51,
    "start_time": "2022-12-16T18:09:11.877Z"
   },
   {
    "duration": 35,
    "start_time": "2022-12-16T18:09:11.930Z"
   },
   {
    "duration": 35,
    "start_time": "2022-12-16T18:09:11.966Z"
   },
   {
    "duration": 25,
    "start_time": "2022-12-16T18:09:12.003Z"
   },
   {
    "duration": 41,
    "start_time": "2022-12-16T18:09:12.030Z"
   },
   {
    "duration": 44,
    "start_time": "2022-12-16T18:09:12.073Z"
   },
   {
    "duration": 39,
    "start_time": "2022-12-16T18:09:12.118Z"
   },
   {
    "duration": 46,
    "start_time": "2022-12-16T18:09:12.159Z"
   },
   {
    "duration": 1587,
    "start_time": "2022-12-16T18:09:12.207Z"
   },
   {
    "duration": 650,
    "start_time": "2022-12-16T18:09:13.797Z"
   },
   {
    "duration": 789,
    "start_time": "2022-12-16T18:09:14.448Z"
   },
   {
    "duration": 26,
    "start_time": "2022-12-16T18:09:15.239Z"
   },
   {
    "duration": 26,
    "start_time": "2022-12-16T18:09:15.267Z"
   },
   {
    "duration": 41,
    "start_time": "2022-12-16T18:09:15.295Z"
   },
   {
    "duration": 52,
    "start_time": "2022-12-16T18:09:15.337Z"
   },
   {
    "duration": 30,
    "start_time": "2022-12-16T18:09:15.391Z"
   },
   {
    "duration": 26,
    "start_time": "2022-12-16T18:09:15.422Z"
   },
   {
    "duration": 30,
    "start_time": "2022-12-16T18:09:15.450Z"
   },
   {
    "duration": 2898,
    "start_time": "2022-12-16T18:09:15.481Z"
   },
   {
    "duration": 97,
    "start_time": "2022-12-16T18:09:18.382Z"
   },
   {
    "duration": 0,
    "start_time": "2022-12-16T18:09:18.480Z"
   },
   {
    "duration": 0,
    "start_time": "2022-12-16T18:09:18.481Z"
   },
   {
    "duration": 0,
    "start_time": "2022-12-16T18:09:18.482Z"
   },
   {
    "duration": 0,
    "start_time": "2022-12-16T18:09:18.483Z"
   },
   {
    "duration": 36,
    "start_time": "2022-12-16T18:10:00.614Z"
   },
   {
    "duration": 39,
    "start_time": "2022-12-16T18:10:08.323Z"
   },
   {
    "duration": 37,
    "start_time": "2022-12-16T18:10:27.941Z"
   },
   {
    "duration": 30346,
    "start_time": "2022-12-16T18:12:01.537Z"
   },
   {
    "duration": 2223,
    "start_time": "2022-12-16T18:14:16.754Z"
   },
   {
    "duration": 87503,
    "start_time": "2022-12-16T18:19:37.078Z"
   },
   {
    "duration": 4,
    "start_time": "2022-12-16T18:24:40.633Z"
   },
   {
    "duration": 5,
    "start_time": "2022-12-16T18:25:30.070Z"
   },
   {
    "duration": 19565,
    "start_time": "2022-12-16T18:27:35.320Z"
   },
   {
    "duration": 1031,
    "start_time": "2022-12-16T18:30:26.102Z"
   },
   {
    "duration": 5,
    "start_time": "2022-12-16T18:30:37.777Z"
   },
   {
    "duration": 3306,
    "start_time": "2022-12-16T18:30:38.961Z"
   },
   {
    "duration": 3,
    "start_time": "2022-12-16T18:39:15.309Z"
   },
   {
    "duration": 10,
    "start_time": "2022-12-16T18:40:46.749Z"
   },
   {
    "duration": 4,
    "start_time": "2022-12-16T18:40:57.485Z"
   },
   {
    "duration": 14,
    "start_time": "2022-12-16T18:41:06.292Z"
   },
   {
    "duration": 14,
    "start_time": "2022-12-16T18:41:20.308Z"
   },
   {
    "duration": 4,
    "start_time": "2022-12-16T18:44:31.812Z"
   },
   {
    "duration": 4,
    "start_time": "2022-12-16T18:45:01.056Z"
   },
   {
    "duration": 6,
    "start_time": "2022-12-16T18:45:06.361Z"
   },
   {
    "duration": 4,
    "start_time": "2022-12-16T18:45:41.304Z"
   },
   {
    "duration": 8,
    "start_time": "2022-12-16T18:46:42.452Z"
   },
   {
    "duration": 9,
    "start_time": "2022-12-16T18:47:07.392Z"
   },
   {
    "duration": 1495,
    "start_time": "2022-12-16T18:51:50.036Z"
   },
   {
    "duration": 659,
    "start_time": "2022-12-16T18:51:51.533Z"
   },
   {
    "duration": 22,
    "start_time": "2022-12-16T18:51:52.194Z"
   },
   {
    "duration": 15,
    "start_time": "2022-12-16T18:51:52.218Z"
   },
   {
    "duration": 3,
    "start_time": "2022-12-16T18:51:52.235Z"
   },
   {
    "duration": 39,
    "start_time": "2022-12-16T18:51:52.239Z"
   },
   {
    "duration": 12,
    "start_time": "2022-12-16T18:51:52.279Z"
   },
   {
    "duration": 6,
    "start_time": "2022-12-16T18:51:52.292Z"
   },
   {
    "duration": 23,
    "start_time": "2022-12-16T18:51:52.300Z"
   },
   {
    "duration": 17,
    "start_time": "2022-12-16T18:51:52.326Z"
   },
   {
    "duration": 3,
    "start_time": "2022-12-16T18:51:52.345Z"
   },
   {
    "duration": 236,
    "start_time": "2022-12-16T18:51:52.378Z"
   },
   {
    "duration": 3,
    "start_time": "2022-12-16T18:51:52.616Z"
   },
   {
    "duration": 12,
    "start_time": "2022-12-16T18:51:52.621Z"
   },
   {
    "duration": 4,
    "start_time": "2022-12-16T18:51:52.635Z"
   },
   {
    "duration": 5,
    "start_time": "2022-12-16T18:51:52.641Z"
   },
   {
    "duration": 15,
    "start_time": "2022-12-16T18:51:52.648Z"
   },
   {
    "duration": 20,
    "start_time": "2022-12-16T18:51:52.679Z"
   },
   {
    "duration": 11,
    "start_time": "2022-12-16T18:51:52.701Z"
   },
   {
    "duration": 12,
    "start_time": "2022-12-16T18:51:52.714Z"
   },
   {
    "duration": 11,
    "start_time": "2022-12-16T18:51:52.727Z"
   },
   {
    "duration": 7,
    "start_time": "2022-12-16T18:51:52.739Z"
   },
   {
    "duration": 5,
    "start_time": "2022-12-16T18:51:52.747Z"
   },
   {
    "duration": 47,
    "start_time": "2022-12-16T18:51:52.753Z"
   },
   {
    "duration": 43,
    "start_time": "2022-12-16T18:51:52.802Z"
   },
   {
    "duration": 66,
    "start_time": "2022-12-16T18:51:52.847Z"
   },
   {
    "duration": 1597,
    "start_time": "2022-12-16T18:51:52.915Z"
   },
   {
    "duration": 630,
    "start_time": "2022-12-16T18:51:54.515Z"
   },
   {
    "duration": 746,
    "start_time": "2022-12-16T18:51:55.146Z"
   },
   {
    "duration": 24,
    "start_time": "2022-12-16T18:51:55.894Z"
   },
   {
    "duration": 3,
    "start_time": "2022-12-16T18:51:55.920Z"
   },
   {
    "duration": 8,
    "start_time": "2022-12-16T18:51:55.925Z"
   },
   {
    "duration": 10,
    "start_time": "2022-12-16T18:51:55.934Z"
   },
   {
    "duration": 5,
    "start_time": "2022-12-16T18:51:55.945Z"
   },
   {
    "duration": 9,
    "start_time": "2022-12-16T18:51:55.952Z"
   },
   {
    "duration": 8,
    "start_time": "2022-12-16T18:51:55.977Z"
   },
   {
    "duration": 2893,
    "start_time": "2022-12-16T18:51:55.986Z"
   },
   {
    "duration": 30436,
    "start_time": "2022-12-16T18:51:58.881Z"
   },
   {
    "duration": 88074,
    "start_time": "2022-12-16T18:52:29.319Z"
   },
   {
    "duration": 27689,
    "start_time": "2022-12-16T18:53:57.395Z"
   },
   {
    "duration": 93,
    "start_time": "2022-12-16T18:54:25.086Z"
   },
   {
    "duration": 3388,
    "start_time": "2022-12-16T18:54:25.181Z"
   },
   {
    "duration": 14,
    "start_time": "2022-12-16T18:54:28.570Z"
   },
   {
    "duration": 125,
    "start_time": "2022-12-16T18:57:20.342Z"
   },
   {
    "duration": 15,
    "start_time": "2022-12-16T18:57:35.103Z"
   },
   {
    "duration": 14,
    "start_time": "2022-12-16T18:57:59.122Z"
   },
   {
    "duration": 15,
    "start_time": "2022-12-16T18:58:25.490Z"
   },
   {
    "duration": 16,
    "start_time": "2022-12-16T18:58:40.162Z"
   },
   {
    "duration": 19,
    "start_time": "2022-12-16T18:59:14.666Z"
   },
   {
    "duration": 16,
    "start_time": "2022-12-16T18:59:26.954Z"
   },
   {
    "duration": 15,
    "start_time": "2022-12-16T18:59:34.322Z"
   },
   {
    "duration": 11,
    "start_time": "2022-12-16T18:59:38.894Z"
   },
   {
    "duration": 17,
    "start_time": "2022-12-16T18:59:41.786Z"
   },
   {
    "duration": 18,
    "start_time": "2022-12-16T18:59:55.218Z"
   },
   {
    "duration": 18,
    "start_time": "2022-12-16T19:00:28.922Z"
   },
   {
    "duration": 12,
    "start_time": "2022-12-16T19:01:39.106Z"
   },
   {
    "duration": 12,
    "start_time": "2022-12-16T19:01:45.546Z"
   },
   {
    "duration": 54,
    "start_time": "2022-12-18T11:00:29.089Z"
   },
   {
    "duration": 1521,
    "start_time": "2022-12-18T11:00:35.558Z"
   },
   {
    "duration": 2131,
    "start_time": "2022-12-18T11:00:37.081Z"
   },
   {
    "duration": 25,
    "start_time": "2022-12-18T11:00:39.214Z"
   },
   {
    "duration": 20,
    "start_time": "2022-12-18T11:00:39.241Z"
   },
   {
    "duration": 3,
    "start_time": "2022-12-18T11:00:39.263Z"
   },
   {
    "duration": 24,
    "start_time": "2022-12-18T11:00:39.268Z"
   },
   {
    "duration": 13,
    "start_time": "2022-12-18T11:00:39.305Z"
   },
   {
    "duration": 3,
    "start_time": "2022-12-18T11:00:39.320Z"
   },
   {
    "duration": 22,
    "start_time": "2022-12-18T11:00:39.325Z"
   },
   {
    "duration": 20,
    "start_time": "2022-12-18T11:00:39.351Z"
   },
   {
    "duration": 34,
    "start_time": "2022-12-18T11:00:39.373Z"
   },
   {
    "duration": 243,
    "start_time": "2022-12-18T11:00:39.409Z"
   },
   {
    "duration": 3,
    "start_time": "2022-12-18T11:00:39.654Z"
   },
   {
    "duration": 27,
    "start_time": "2022-12-18T11:00:39.658Z"
   },
   {
    "duration": 6,
    "start_time": "2022-12-18T11:00:39.686Z"
   },
   {
    "duration": 6,
    "start_time": "2022-12-18T11:00:39.694Z"
   },
   {
    "duration": 5,
    "start_time": "2022-12-18T11:00:39.702Z"
   },
   {
    "duration": 17,
    "start_time": "2022-12-18T11:00:39.709Z"
   },
   {
    "duration": 29,
    "start_time": "2022-12-18T11:00:39.727Z"
   },
   {
    "duration": 67,
    "start_time": "2022-12-18T11:00:39.758Z"
   },
   {
    "duration": 58,
    "start_time": "2022-12-18T11:00:39.827Z"
   },
   {
    "duration": 1614,
    "start_time": "2022-12-18T11:00:39.887Z"
   },
   {
    "duration": 634,
    "start_time": "2022-12-18T11:00:41.502Z"
   },
   {
    "duration": 833,
    "start_time": "2022-12-18T11:00:42.138Z"
   },
   {
    "duration": 33,
    "start_time": "2022-12-18T11:00:42.973Z"
   },
   {
    "duration": 4,
    "start_time": "2022-12-18T11:00:43.009Z"
   },
   {
    "duration": 7,
    "start_time": "2022-12-18T11:00:43.014Z"
   },
   {
    "duration": 6,
    "start_time": "2022-12-18T11:00:43.024Z"
   },
   {
    "duration": 6,
    "start_time": "2022-12-18T11:00:43.031Z"
   },
   {
    "duration": 10,
    "start_time": "2022-12-18T11:00:43.039Z"
   },
   {
    "duration": 12,
    "start_time": "2022-12-18T11:00:43.051Z"
   },
   {
    "duration": 2844,
    "start_time": "2022-12-18T11:00:43.064Z"
   },
   {
    "duration": 33951,
    "start_time": "2022-12-18T11:00:45.910Z"
   },
   {
    "duration": 91176,
    "start_time": "2022-12-18T11:01:19.863Z"
   },
   {
    "duration": 19768,
    "start_time": "2022-12-18T11:02:51.041Z"
   },
   {
    "duration": 91,
    "start_time": "2022-12-18T11:03:10.814Z"
   },
   {
    "duration": 3441,
    "start_time": "2022-12-18T11:03:10.907Z"
   },
   {
    "duration": 0,
    "start_time": "2022-12-18T11:03:14.425Z"
   },
   {
    "duration": 72,
    "start_time": "2022-12-18T11:03:29.581Z"
   },
   {
    "duration": 70,
    "start_time": "2022-12-18T11:03:46.334Z"
   },
   {
    "duration": 72,
    "start_time": "2022-12-18T11:04:00.526Z"
   },
   {
    "duration": 68,
    "start_time": "2022-12-18T11:04:03.370Z"
   },
   {
    "duration": 74,
    "start_time": "2022-12-18T11:04:14.653Z"
   },
   {
    "duration": 619,
    "start_time": "2022-12-18T11:04:23.310Z"
   },
   {
    "duration": 723,
    "start_time": "2022-12-18T11:07:09.933Z"
   },
   {
    "duration": 601,
    "start_time": "2022-12-18T11:07:22.541Z"
   },
   {
    "duration": 624,
    "start_time": "2022-12-18T11:08:59.229Z"
   },
   {
    "duration": 719,
    "start_time": "2022-12-18T11:09:35.365Z"
   },
   {
    "duration": 680,
    "start_time": "2022-12-18T11:09:51.617Z"
   },
   {
    "duration": 672,
    "start_time": "2022-12-18T11:10:12.509Z"
   },
   {
    "duration": 177,
    "start_time": "2022-12-18T11:16:44.453Z"
   },
   {
    "duration": 72,
    "start_time": "2022-12-18T11:17:03.108Z"
   },
   {
    "duration": 74,
    "start_time": "2022-12-18T11:17:11.204Z"
   },
   {
    "duration": 10,
    "start_time": "2022-12-18T11:17:22.032Z"
   },
   {
    "duration": 11,
    "start_time": "2022-12-18T11:17:52.953Z"
   },
   {
    "duration": 9,
    "start_time": "2022-12-18T11:18:01.296Z"
   },
   {
    "duration": 12,
    "start_time": "2022-12-18T11:18:23.740Z"
   },
   {
    "duration": 3,
    "start_time": "2022-12-18T11:19:58.806Z"
   },
   {
    "duration": 73332,
    "start_time": "2022-12-18T11:20:29.980Z"
   },
   {
    "duration": 5721,
    "start_time": "2022-12-18T11:22:32.191Z"
   },
   {
    "duration": 16610,
    "start_time": "2022-12-18T11:23:42.899Z"
   },
   {
    "duration": 5768,
    "start_time": "2022-12-18T11:24:37.050Z"
   },
   {
    "duration": 161,
    "start_time": "2022-12-18T11:37:01.571Z"
   },
   {
    "duration": 3,
    "start_time": "2022-12-18T11:37:27.751Z"
   },
   {
    "duration": 75,
    "start_time": "2022-12-18T11:37:35.742Z"
   },
   {
    "duration": 79,
    "start_time": "2022-12-18T11:37:41.321Z"
   },
   {
    "duration": 78,
    "start_time": "2022-12-18T11:38:38.584Z"
   },
   {
    "duration": 85,
    "start_time": "2022-12-18T11:38:49.174Z"
   },
   {
    "duration": 4,
    "start_time": "2022-12-18T11:39:07.238Z"
   },
   {
    "duration": 4,
    "start_time": "2022-12-18T11:39:30.422Z"
   },
   {
    "duration": 4,
    "start_time": "2022-12-18T11:39:34.046Z"
   },
   {
    "duration": 80,
    "start_time": "2022-12-18T11:40:18.616Z"
   },
   {
    "duration": 91,
    "start_time": "2022-12-18T11:40:37.629Z"
   },
   {
    "duration": 351,
    "start_time": "2022-12-18T11:41:18.116Z"
   },
   {
    "duration": 39,
    "start_time": "2022-12-18T11:42:57.777Z"
   },
   {
    "duration": 383,
    "start_time": "2022-12-18T11:44:07.409Z"
   },
   {
    "duration": 365,
    "start_time": "2022-12-18T11:46:18.024Z"
   },
   {
    "duration": 158,
    "start_time": "2022-12-18T11:46:44.309Z"
   },
   {
    "duration": 37,
    "start_time": "2022-12-18T11:53:31.132Z"
   },
   {
    "duration": 75,
    "start_time": "2022-12-18T11:53:40.228Z"
   },
   {
    "duration": 3,
    "start_time": "2022-12-18T11:53:49.516Z"
   },
   {
    "duration": 101,
    "start_time": "2022-12-18T11:53:55.824Z"
   },
   {
    "duration": 102,
    "start_time": "2022-12-18T11:54:02.380Z"
   },
   {
    "duration": 92,
    "start_time": "2022-12-18T11:54:09.440Z"
   },
   {
    "duration": 4,
    "start_time": "2022-12-18T11:55:08.649Z"
   },
   {
    "duration": 15,
    "start_time": "2022-12-18T11:55:16.256Z"
   },
   {
    "duration": 117,
    "start_time": "2022-12-18T11:56:00.260Z"
   },
   {
    "duration": 1572,
    "start_time": "2022-12-18T11:58:36.117Z"
   },
   {
    "duration": 851,
    "start_time": "2022-12-18T11:58:37.691Z"
   },
   {
    "duration": 26,
    "start_time": "2022-12-18T11:58:38.544Z"
   },
   {
    "duration": 18,
    "start_time": "2022-12-18T11:58:38.572Z"
   },
   {
    "duration": 4,
    "start_time": "2022-12-18T11:58:38.606Z"
   },
   {
    "duration": 26,
    "start_time": "2022-12-18T11:58:38.612Z"
   },
   {
    "duration": 13,
    "start_time": "2022-12-18T11:58:38.640Z"
   },
   {
    "duration": 3,
    "start_time": "2022-12-18T11:58:38.654Z"
   },
   {
    "duration": 48,
    "start_time": "2022-12-18T11:58:38.658Z"
   },
   {
    "duration": 18,
    "start_time": "2022-12-18T11:58:38.708Z"
   },
   {
    "duration": 4,
    "start_time": "2022-12-18T11:58:38.728Z"
   },
   {
    "duration": 285,
    "start_time": "2022-12-18T11:58:38.733Z"
   },
   {
    "duration": 3,
    "start_time": "2022-12-18T11:58:39.020Z"
   },
   {
    "duration": 13,
    "start_time": "2022-12-18T11:58:39.026Z"
   },
   {
    "duration": 4,
    "start_time": "2022-12-18T11:58:39.041Z"
   },
   {
    "duration": 8,
    "start_time": "2022-12-18T11:58:39.047Z"
   },
   {
    "duration": 9,
    "start_time": "2022-12-18T11:58:39.056Z"
   },
   {
    "duration": 52,
    "start_time": "2022-12-18T11:58:39.067Z"
   },
   {
    "duration": 33,
    "start_time": "2022-12-18T11:58:39.121Z"
   },
   {
    "duration": 33,
    "start_time": "2022-12-18T11:58:39.155Z"
   },
   {
    "duration": 44,
    "start_time": "2022-12-18T11:58:39.204Z"
   },
   {
    "duration": 1688,
    "start_time": "2022-12-18T11:58:39.250Z"
   },
   {
    "duration": 692,
    "start_time": "2022-12-18T11:58:40.939Z"
   },
   {
    "duration": 843,
    "start_time": "2022-12-18T11:58:41.633Z"
   },
   {
    "duration": 40,
    "start_time": "2022-12-18T11:58:42.478Z"
   },
   {
    "duration": 3,
    "start_time": "2022-12-18T11:58:42.520Z"
   },
   {
    "duration": 6,
    "start_time": "2022-12-18T11:58:42.525Z"
   },
   {
    "duration": 8,
    "start_time": "2022-12-18T11:58:42.532Z"
   },
   {
    "duration": 10,
    "start_time": "2022-12-18T11:58:42.542Z"
   },
   {
    "duration": 12,
    "start_time": "2022-12-18T11:58:42.554Z"
   },
   {
    "duration": 10,
    "start_time": "2022-12-18T11:58:42.568Z"
   },
   {
    "duration": 5141,
    "start_time": "2022-12-18T11:58:42.580Z"
   },
   {
    "duration": 33525,
    "start_time": "2022-12-18T11:58:47.723Z"
   },
   {
    "duration": 94943,
    "start_time": "2022-12-18T11:59:21.250Z"
   },
   {
    "duration": 199,
    "start_time": "2022-12-18T12:00:56.195Z"
   },
   {
    "duration": 4,
    "start_time": "2022-12-18T12:00:56.396Z"
   },
   {
    "duration": 3672,
    "start_time": "2022-12-18T12:00:56.402Z"
   },
   {
    "duration": 20,
    "start_time": "2022-12-18T12:02:06.812Z"
   },
   {
    "duration": 237,
    "start_time": "2022-12-18T12:06:41.113Z"
   },
   {
    "duration": 1427,
    "start_time": "2022-12-18T12:11:10.666Z"
   },
   {
    "duration": 711,
    "start_time": "2022-12-18T12:11:12.095Z"
   },
   {
    "duration": 26,
    "start_time": "2022-12-18T12:11:12.808Z"
   },
   {
    "duration": 18,
    "start_time": "2022-12-18T12:11:12.837Z"
   },
   {
    "duration": 4,
    "start_time": "2022-12-18T12:11:12.857Z"
   },
   {
    "duration": 59,
    "start_time": "2022-12-18T12:11:12.862Z"
   },
   {
    "duration": 12,
    "start_time": "2022-12-18T12:11:12.923Z"
   },
   {
    "duration": 13,
    "start_time": "2022-12-18T12:11:12.937Z"
   },
   {
    "duration": 27,
    "start_time": "2022-12-18T12:11:12.952Z"
   },
   {
    "duration": 43,
    "start_time": "2022-12-18T12:11:12.983Z"
   },
   {
    "duration": 5,
    "start_time": "2022-12-18T12:11:13.028Z"
   },
   {
    "duration": 251,
    "start_time": "2022-12-18T12:11:13.035Z"
   },
   {
    "duration": 3,
    "start_time": "2022-12-18T12:11:13.287Z"
   },
   {
    "duration": 18,
    "start_time": "2022-12-18T12:11:13.291Z"
   },
   {
    "duration": 10,
    "start_time": "2022-12-18T12:11:13.311Z"
   },
   {
    "duration": 19,
    "start_time": "2022-12-18T12:11:13.323Z"
   },
   {
    "duration": 16,
    "start_time": "2022-12-18T12:11:13.344Z"
   },
   {
    "duration": 21,
    "start_time": "2022-12-18T12:11:13.361Z"
   },
   {
    "duration": 34,
    "start_time": "2022-12-18T12:11:13.383Z"
   },
   {
    "duration": 35,
    "start_time": "2022-12-18T12:11:13.419Z"
   },
   {
    "duration": 77,
    "start_time": "2022-12-18T12:11:13.456Z"
   },
   {
    "duration": 1655,
    "start_time": "2022-12-18T12:11:13.535Z"
   },
   {
    "duration": 639,
    "start_time": "2022-12-18T12:11:15.192Z"
   },
   {
    "duration": 797,
    "start_time": "2022-12-18T12:11:15.833Z"
   },
   {
    "duration": 27,
    "start_time": "2022-12-18T12:11:16.632Z"
   },
   {
    "duration": 3,
    "start_time": "2022-12-18T12:11:16.661Z"
   },
   {
    "duration": 7,
    "start_time": "2022-12-18T12:11:16.665Z"
   },
   {
    "duration": 3,
    "start_time": "2022-12-18T12:11:16.675Z"
   },
   {
    "duration": 3,
    "start_time": "2022-12-18T12:11:16.705Z"
   },
   {
    "duration": 8,
    "start_time": "2022-12-18T12:11:16.710Z"
   },
   {
    "duration": 7,
    "start_time": "2022-12-18T12:11:16.720Z"
   },
   {
    "duration": 2778,
    "start_time": "2022-12-18T12:11:16.729Z"
   },
   {
    "duration": 32113,
    "start_time": "2022-12-18T12:11:19.509Z"
   },
   {
    "duration": 92687,
    "start_time": "2022-12-18T12:11:51.623Z"
   },
   {
    "duration": 54503,
    "start_time": "2022-12-18T12:13:24.311Z"
   },
   {
    "duration": 7,
    "start_time": "2022-12-18T12:14:18.907Z"
   },
   {
    "duration": 3581,
    "start_time": "2022-12-18T12:14:19.004Z"
   },
   {
    "duration": 109402,
    "start_time": "2022-12-18T12:15:32.109Z"
   },
   {
    "duration": 106149,
    "start_time": "2022-12-18T12:19:14.661Z"
   },
   {
    "duration": 5590,
    "start_time": "2022-12-18T12:23:50.016Z"
   },
   {
    "duration": 4916,
    "start_time": "2022-12-18T12:25:15.595Z"
   },
   {
    "duration": 3536,
    "start_time": "2022-12-18T12:25:38.116Z"
   },
   {
    "duration": 7177,
    "start_time": "2022-12-18T12:29:16.136Z"
   },
   {
    "duration": 4602,
    "start_time": "2022-12-18T12:30:19.208Z"
   },
   {
    "duration": 1393,
    "start_time": "2022-12-18T12:31:27.645Z"
   },
   {
    "duration": 721,
    "start_time": "2022-12-18T12:31:29.040Z"
   },
   {
    "duration": 25,
    "start_time": "2022-12-18T12:31:29.762Z"
   },
   {
    "duration": 30,
    "start_time": "2022-12-18T12:31:29.789Z"
   },
   {
    "duration": 4,
    "start_time": "2022-12-18T12:31:29.821Z"
   },
   {
    "duration": 23,
    "start_time": "2022-12-18T12:31:29.826Z"
   },
   {
    "duration": 15,
    "start_time": "2022-12-18T12:31:29.851Z"
   },
   {
    "duration": 4,
    "start_time": "2022-12-18T12:31:29.868Z"
   },
   {
    "duration": 45,
    "start_time": "2022-12-18T12:31:29.873Z"
   },
   {
    "duration": 17,
    "start_time": "2022-12-18T12:31:29.920Z"
   },
   {
    "duration": 4,
    "start_time": "2022-12-18T12:31:29.939Z"
   },
   {
    "duration": 271,
    "start_time": "2022-12-18T12:31:29.944Z"
   },
   {
    "duration": 3,
    "start_time": "2022-12-18T12:31:30.217Z"
   },
   {
    "duration": 35,
    "start_time": "2022-12-18T12:31:30.221Z"
   },
   {
    "duration": 32,
    "start_time": "2022-12-18T12:31:30.258Z"
   },
   {
    "duration": 24,
    "start_time": "2022-12-18T12:31:30.292Z"
   },
   {
    "duration": 37,
    "start_time": "2022-12-18T12:31:30.318Z"
   },
   {
    "duration": 57,
    "start_time": "2022-12-18T12:31:30.357Z"
   },
   {
    "duration": 42,
    "start_time": "2022-12-18T12:31:30.416Z"
   },
   {
    "duration": 71,
    "start_time": "2022-12-18T12:31:30.460Z"
   },
   {
    "duration": 70,
    "start_time": "2022-12-18T12:31:30.533Z"
   },
   {
    "duration": 1629,
    "start_time": "2022-12-18T12:31:30.605Z"
   },
   {
    "duration": 667,
    "start_time": "2022-12-18T12:31:32.237Z"
   },
   {
    "duration": 816,
    "start_time": "2022-12-18T12:31:32.906Z"
   },
   {
    "duration": 25,
    "start_time": "2022-12-18T12:31:33.724Z"
   },
   {
    "duration": 4,
    "start_time": "2022-12-18T12:31:33.750Z"
   },
   {
    "duration": 8,
    "start_time": "2022-12-18T12:31:33.755Z"
   },
   {
    "duration": 4,
    "start_time": "2022-12-18T12:31:33.767Z"
   },
   {
    "duration": 7,
    "start_time": "2022-12-18T12:31:33.772Z"
   },
   {
    "duration": 26,
    "start_time": "2022-12-18T12:31:33.780Z"
   },
   {
    "duration": 5,
    "start_time": "2022-12-18T12:31:33.807Z"
   },
   {
    "duration": 2598,
    "start_time": "2022-12-18T12:31:33.813Z"
   },
   {
    "duration": 31905,
    "start_time": "2022-12-18T12:31:36.413Z"
   },
   {
    "duration": 90550,
    "start_time": "2022-12-18T12:32:08.320Z"
   },
   {
    "duration": 135440,
    "start_time": "2022-12-18T12:33:38.871Z"
   },
   {
    "duration": 93,
    "start_time": "2022-12-18T12:35:54.314Z"
   },
   {
    "duration": 3556,
    "start_time": "2022-12-18T12:35:54.409Z"
   },
   {
    "duration": 5740,
    "start_time": "2022-12-18T12:35:57.966Z"
   },
   {
    "duration": 117,
    "start_time": "2022-12-18T12:38:29.120Z"
   },
   {
    "duration": 10,
    "start_time": "2022-12-18T12:39:18.449Z"
   },
   {
    "duration": 66,
    "start_time": "2022-12-18T12:44:58.907Z"
   },
   {
    "duration": 4614,
    "start_time": "2022-12-19T09:01:05.924Z"
   },
   {
    "duration": 754,
    "start_time": "2022-12-19T09:01:10.540Z"
   },
   {
    "duration": 41,
    "start_time": "2022-12-19T09:01:11.296Z"
   },
   {
    "duration": 20,
    "start_time": "2022-12-19T09:01:11.339Z"
   },
   {
    "duration": 9,
    "start_time": "2022-12-19T09:01:11.361Z"
   },
   {
    "duration": 55,
    "start_time": "2022-12-19T09:01:11.372Z"
   },
   {
    "duration": 25,
    "start_time": "2022-12-19T09:01:11.428Z"
   },
   {
    "duration": 25,
    "start_time": "2022-12-19T09:01:11.455Z"
   },
   {
    "duration": 84,
    "start_time": "2022-12-19T09:01:11.482Z"
   },
   {
    "duration": 38,
    "start_time": "2022-12-19T09:01:11.568Z"
   },
   {
    "duration": 15,
    "start_time": "2022-12-19T09:01:11.608Z"
   },
   {
    "duration": 306,
    "start_time": "2022-12-19T09:01:11.625Z"
   },
   {
    "duration": 2,
    "start_time": "2022-12-19T09:01:11.934Z"
   },
   {
    "duration": 18,
    "start_time": "2022-12-19T09:01:11.939Z"
   },
   {
    "duration": 23,
    "start_time": "2022-12-19T09:01:11.960Z"
   },
   {
    "duration": 17,
    "start_time": "2022-12-19T09:01:11.985Z"
   },
   {
    "duration": 38,
    "start_time": "2022-12-19T09:01:12.004Z"
   },
   {
    "duration": 44,
    "start_time": "2022-12-19T09:01:12.043Z"
   },
   {
    "duration": 74,
    "start_time": "2022-12-19T09:01:12.088Z"
   },
   {
    "duration": 41,
    "start_time": "2022-12-19T09:01:12.164Z"
   },
   {
    "duration": 57,
    "start_time": "2022-12-19T09:01:12.206Z"
   },
   {
    "duration": 1973,
    "start_time": "2022-12-19T09:01:12.265Z"
   },
   {
    "duration": 858,
    "start_time": "2022-12-19T09:01:14.241Z"
   },
   {
    "duration": 960,
    "start_time": "2022-12-19T09:01:15.101Z"
   },
   {
    "duration": 25,
    "start_time": "2022-12-19T09:01:16.063Z"
   },
   {
    "duration": 3,
    "start_time": "2022-12-19T09:01:16.091Z"
   },
   {
    "duration": 7,
    "start_time": "2022-12-19T09:01:16.095Z"
   },
   {
    "duration": 19,
    "start_time": "2022-12-19T09:01:16.104Z"
   },
   {
    "duration": 7,
    "start_time": "2022-12-19T09:01:16.125Z"
   },
   {
    "duration": 9,
    "start_time": "2022-12-19T09:01:16.134Z"
   },
   {
    "duration": 10,
    "start_time": "2022-12-19T09:01:16.145Z"
   },
   {
    "duration": 3275,
    "start_time": "2022-12-19T09:01:16.157Z"
   },
   {
    "duration": 36340,
    "start_time": "2022-12-19T09:01:19.435Z"
   },
   {
    "duration": 220,
    "start_time": "2022-12-19T09:17:36.572Z"
   },
   {
    "duration": 34936,
    "start_time": "2022-12-19T09:23:01.397Z"
   },
   {
    "duration": 123,
    "start_time": "2022-12-19T09:37:22.119Z"
   },
   {
    "duration": 1792,
    "start_time": "2022-12-19T09:37:27.800Z"
   },
   {
    "duration": 2814,
    "start_time": "2022-12-19T09:37:29.594Z"
   },
   {
    "duration": 28,
    "start_time": "2022-12-19T09:37:32.410Z"
   },
   {
    "duration": 29,
    "start_time": "2022-12-19T09:37:32.441Z"
   },
   {
    "duration": 4,
    "start_time": "2022-12-19T09:37:32.472Z"
   },
   {
    "duration": 30,
    "start_time": "2022-12-19T09:37:32.478Z"
   },
   {
    "duration": 31,
    "start_time": "2022-12-19T09:37:32.510Z"
   },
   {
    "duration": 11,
    "start_time": "2022-12-19T09:37:32.542Z"
   },
   {
    "duration": 47,
    "start_time": "2022-12-19T09:37:32.555Z"
   },
   {
    "duration": 55,
    "start_time": "2022-12-19T09:37:32.604Z"
   },
   {
    "duration": 65,
    "start_time": "2022-12-19T09:37:32.661Z"
   },
   {
    "duration": 265,
    "start_time": "2022-12-19T09:37:32.728Z"
   },
   {
    "duration": 3,
    "start_time": "2022-12-19T09:37:32.995Z"
   },
   {
    "duration": 14,
    "start_time": "2022-12-19T09:37:32.999Z"
   },
   {
    "duration": 7,
    "start_time": "2022-12-19T09:37:33.015Z"
   },
   {
    "duration": 11,
    "start_time": "2022-12-19T09:37:33.024Z"
   },
   {
    "duration": 6,
    "start_time": "2022-12-19T09:37:33.037Z"
   },
   {
    "duration": 45,
    "start_time": "2022-12-19T09:37:33.045Z"
   },
   {
    "duration": 38,
    "start_time": "2022-12-19T09:37:33.092Z"
   },
   {
    "duration": 59,
    "start_time": "2022-12-19T09:37:33.132Z"
   },
   {
    "duration": 59,
    "start_time": "2022-12-19T09:37:33.193Z"
   },
   {
    "duration": 1871,
    "start_time": "2022-12-19T09:37:33.254Z"
   },
   {
    "duration": 827,
    "start_time": "2022-12-19T09:37:35.127Z"
   },
   {
    "duration": 981,
    "start_time": "2022-12-19T09:37:35.956Z"
   },
   {
    "duration": 41,
    "start_time": "2022-12-19T09:37:36.939Z"
   },
   {
    "duration": 4,
    "start_time": "2022-12-19T09:37:36.982Z"
   },
   {
    "duration": 33,
    "start_time": "2022-12-19T09:37:36.988Z"
   },
   {
    "duration": 25,
    "start_time": "2022-12-19T09:37:37.026Z"
   },
   {
    "duration": 25,
    "start_time": "2022-12-19T09:37:37.054Z"
   },
   {
    "duration": 19,
    "start_time": "2022-12-19T09:37:37.081Z"
   },
   {
    "duration": 21,
    "start_time": "2022-12-19T09:37:37.102Z"
   },
   {
    "duration": 3053,
    "start_time": "2022-12-19T09:37:37.125Z"
   },
   {
    "duration": 33869,
    "start_time": "2022-12-19T09:37:40.181Z"
   },
   {
    "duration": 94473,
    "start_time": "2022-12-19T09:38:14.052Z"
   },
   {
    "duration": 1490,
    "start_time": "2022-12-19T09:40:11.782Z"
   },
   {
    "duration": 752,
    "start_time": "2022-12-19T09:40:13.279Z"
   },
   {
    "duration": 28,
    "start_time": "2022-12-19T09:40:14.033Z"
   },
   {
    "duration": 30,
    "start_time": "2022-12-19T09:40:14.062Z"
   },
   {
    "duration": 3,
    "start_time": "2022-12-19T09:40:14.094Z"
   },
   {
    "duration": 27,
    "start_time": "2022-12-19T09:40:14.099Z"
   },
   {
    "duration": 14,
    "start_time": "2022-12-19T09:40:14.128Z"
   },
   {
    "duration": 4,
    "start_time": "2022-12-19T09:40:14.144Z"
   },
   {
    "duration": 52,
    "start_time": "2022-12-19T09:40:14.150Z"
   },
   {
    "duration": 20,
    "start_time": "2022-12-19T09:40:14.204Z"
   },
   {
    "duration": 4,
    "start_time": "2022-12-19T09:40:14.225Z"
   },
   {
    "duration": 265,
    "start_time": "2022-12-19T09:40:14.230Z"
   },
   {
    "duration": 3,
    "start_time": "2022-12-19T09:40:14.496Z"
   },
   {
    "duration": 12,
    "start_time": "2022-12-19T09:40:14.500Z"
   },
   {
    "duration": 5,
    "start_time": "2022-12-19T09:40:14.514Z"
   },
   {
    "duration": 10,
    "start_time": "2022-12-19T09:40:14.520Z"
   },
   {
    "duration": 5,
    "start_time": "2022-12-19T09:40:14.532Z"
   },
   {
    "duration": 44,
    "start_time": "2022-12-19T09:40:14.539Z"
   },
   {
    "duration": 32,
    "start_time": "2022-12-19T09:40:14.585Z"
   },
   {
    "duration": 36,
    "start_time": "2022-12-19T09:40:14.619Z"
   },
   {
    "duration": 68,
    "start_time": "2022-12-19T09:40:14.656Z"
   },
   {
    "duration": 1725,
    "start_time": "2022-12-19T09:40:14.726Z"
   },
   {
    "duration": 701,
    "start_time": "2022-12-19T09:40:16.453Z"
   },
   {
    "duration": 910,
    "start_time": "2022-12-19T09:40:17.156Z"
   },
   {
    "duration": 33,
    "start_time": "2022-12-19T09:40:18.068Z"
   },
   {
    "duration": 4,
    "start_time": "2022-12-19T09:40:18.103Z"
   },
   {
    "duration": 7,
    "start_time": "2022-12-19T09:40:18.110Z"
   },
   {
    "duration": 6,
    "start_time": "2022-12-19T09:40:18.119Z"
   },
   {
    "duration": 11,
    "start_time": "2022-12-19T09:40:18.127Z"
   },
   {
    "duration": 11,
    "start_time": "2022-12-19T09:40:18.139Z"
   },
   {
    "duration": 28,
    "start_time": "2022-12-19T09:40:18.151Z"
   },
   {
    "duration": 3005,
    "start_time": "2022-12-19T09:40:18.181Z"
   },
   {
    "duration": 32307,
    "start_time": "2022-12-19T09:40:21.278Z"
   },
   {
    "duration": 95732,
    "start_time": "2022-12-19T09:40:53.587Z"
   },
   {
    "duration": 272475,
    "start_time": "2022-12-19T09:42:29.321Z"
   },
   {
    "duration": 82,
    "start_time": "2022-12-19T09:47:01.799Z"
   },
   {
    "duration": 1689,
    "start_time": "2022-12-19T09:47:10.976Z"
   },
   {
    "duration": 780,
    "start_time": "2022-12-19T09:47:12.667Z"
   },
   {
    "duration": 44,
    "start_time": "2022-12-19T09:47:13.449Z"
   },
   {
    "duration": 45,
    "start_time": "2022-12-19T09:47:13.496Z"
   },
   {
    "duration": 7,
    "start_time": "2022-12-19T09:47:13.543Z"
   },
   {
    "duration": 42,
    "start_time": "2022-12-19T09:47:13.552Z"
   },
   {
    "duration": 21,
    "start_time": "2022-12-19T09:47:13.597Z"
   },
   {
    "duration": 5,
    "start_time": "2022-12-19T09:47:13.621Z"
   },
   {
    "duration": 63,
    "start_time": "2022-12-19T09:47:13.629Z"
   },
   {
    "duration": 30,
    "start_time": "2022-12-19T09:47:13.696Z"
   },
   {
    "duration": 4,
    "start_time": "2022-12-19T09:47:13.728Z"
   },
   {
    "duration": 299,
    "start_time": "2022-12-19T09:47:13.734Z"
   },
   {
    "duration": 3,
    "start_time": "2022-12-19T09:47:14.035Z"
   },
   {
    "duration": 164,
    "start_time": "2022-12-19T09:47:14.040Z"
   },
   {
    "duration": 111,
    "start_time": "2022-12-19T09:47:14.206Z"
   },
   {
    "duration": 33,
    "start_time": "2022-12-19T09:47:14.319Z"
   },
   {
    "duration": 46,
    "start_time": "2022-12-19T09:47:14.354Z"
   },
   {
    "duration": 68,
    "start_time": "2022-12-19T09:47:14.402Z"
   },
   {
    "duration": 88,
    "start_time": "2022-12-19T09:47:14.472Z"
   },
   {
    "duration": 65,
    "start_time": "2022-12-19T09:47:14.563Z"
   },
   {
    "duration": 74,
    "start_time": "2022-12-19T09:47:14.631Z"
   },
   {
    "duration": 2017,
    "start_time": "2022-12-19T09:47:14.708Z"
   },
   {
    "duration": 826,
    "start_time": "2022-12-19T09:47:16.728Z"
   },
   {
    "duration": 1150,
    "start_time": "2022-12-19T09:47:17.556Z"
   },
   {
    "duration": 30,
    "start_time": "2022-12-19T09:47:18.708Z"
   },
   {
    "duration": 5,
    "start_time": "2022-12-19T09:47:18.739Z"
   },
   {
    "duration": 43,
    "start_time": "2022-12-19T09:47:18.746Z"
   },
   {
    "duration": 31,
    "start_time": "2022-12-19T09:47:18.794Z"
   },
   {
    "duration": 42,
    "start_time": "2022-12-19T09:47:18.828Z"
   },
   {
    "duration": 39,
    "start_time": "2022-12-19T09:47:18.872Z"
   },
   {
    "duration": 68,
    "start_time": "2022-12-19T09:47:18.913Z"
   },
   {
    "duration": 314,
    "start_time": "2022-12-19T09:47:18.983Z"
   },
   {
    "duration": 34838,
    "start_time": "2022-12-19T09:47:19.299Z"
   },
   {
    "duration": 92665,
    "start_time": "2022-12-19T09:47:54.139Z"
   },
   {
    "duration": 115871,
    "start_time": "2022-12-19T09:49:26.806Z"
   },
   {
    "duration": 6,
    "start_time": "2022-12-19T09:51:22.679Z"
   },
   {
    "duration": 4292,
    "start_time": "2022-12-19T09:51:22.687Z"
   },
   {
    "duration": 99,
    "start_time": "2022-12-19T09:51:26.981Z"
   },
   {
    "duration": 0,
    "start_time": "2022-12-19T09:51:27.160Z"
   },
   {
    "duration": 2774,
    "start_time": "2022-12-19T09:53:16.907Z"
   },
   {
    "duration": 51,
    "start_time": "2022-12-19T09:53:38.958Z"
   },
   {
    "duration": 1489,
    "start_time": "2022-12-19T09:53:48.927Z"
   },
   {
    "duration": 735,
    "start_time": "2022-12-19T09:53:50.418Z"
   },
   {
    "duration": 30,
    "start_time": "2022-12-19T09:53:51.155Z"
   },
   {
    "duration": 20,
    "start_time": "2022-12-19T09:53:51.187Z"
   },
   {
    "duration": 5,
    "start_time": "2022-12-19T09:53:51.209Z"
   },
   {
    "duration": 30,
    "start_time": "2022-12-19T09:53:51.216Z"
   },
   {
    "duration": 40,
    "start_time": "2022-12-19T09:53:51.248Z"
   },
   {
    "duration": 5,
    "start_time": "2022-12-19T09:53:51.290Z"
   },
   {
    "duration": 32,
    "start_time": "2022-12-19T09:53:51.297Z"
   },
   {
    "duration": 47,
    "start_time": "2022-12-19T09:53:51.333Z"
   },
   {
    "duration": 4,
    "start_time": "2022-12-19T09:53:51.382Z"
   },
   {
    "duration": 278,
    "start_time": "2022-12-19T09:53:51.388Z"
   },
   {
    "duration": 3,
    "start_time": "2022-12-19T09:53:51.667Z"
   },
   {
    "duration": 25,
    "start_time": "2022-12-19T09:53:51.678Z"
   },
   {
    "duration": 25,
    "start_time": "2022-12-19T09:53:51.705Z"
   },
   {
    "duration": 20,
    "start_time": "2022-12-19T09:53:51.733Z"
   },
   {
    "duration": 37,
    "start_time": "2022-12-19T09:53:51.755Z"
   },
   {
    "duration": 45,
    "start_time": "2022-12-19T09:53:51.793Z"
   },
   {
    "duration": 64,
    "start_time": "2022-12-19T09:53:51.840Z"
   },
   {
    "duration": 62,
    "start_time": "2022-12-19T09:53:51.905Z"
   },
   {
    "duration": 49,
    "start_time": "2022-12-19T09:53:51.969Z"
   },
   {
    "duration": 1934,
    "start_time": "2022-12-19T09:53:52.020Z"
   },
   {
    "duration": 705,
    "start_time": "2022-12-19T09:53:53.956Z"
   },
   {
    "duration": 896,
    "start_time": "2022-12-19T09:53:54.662Z"
   },
   {
    "duration": 37,
    "start_time": "2022-12-19T09:53:55.560Z"
   },
   {
    "duration": 4,
    "start_time": "2022-12-19T09:53:55.599Z"
   },
   {
    "duration": 7,
    "start_time": "2022-12-19T09:53:55.605Z"
   },
   {
    "duration": 4,
    "start_time": "2022-12-19T09:53:55.616Z"
   },
   {
    "duration": 5,
    "start_time": "2022-12-19T09:53:55.622Z"
   },
   {
    "duration": 9,
    "start_time": "2022-12-19T09:53:55.628Z"
   },
   {
    "duration": 10,
    "start_time": "2022-12-19T09:53:55.639Z"
   },
   {
    "duration": 2733,
    "start_time": "2022-12-19T09:53:55.651Z"
   },
   {
    "duration": 33375,
    "start_time": "2022-12-19T09:53:58.386Z"
   },
   {
    "duration": 95294,
    "start_time": "2022-12-19T09:54:31.763Z"
   },
   {
    "duration": 127622,
    "start_time": "2022-12-19T09:56:07.059Z"
   },
   {
    "duration": 93,
    "start_time": "2022-12-19T09:58:14.685Z"
   },
   {
    "duration": 4499,
    "start_time": "2022-12-19T09:58:14.780Z"
   },
   {
    "duration": 10,
    "start_time": "2022-12-19T09:58:19.281Z"
   },
   {
    "duration": 727,
    "start_time": "2022-12-19T09:58:19.378Z"
   },
   {
    "duration": 137,
    "start_time": "2022-12-19T09:58:20.107Z"
   },
   {
    "duration": 3363,
    "start_time": "2022-12-19T10:00:51.321Z"
   },
   {
    "duration": 3483,
    "start_time": "2022-12-19T10:01:59.950Z"
   },
   {
    "duration": 3475,
    "start_time": "2022-12-19T10:02:24.878Z"
   },
   {
    "duration": 3406,
    "start_time": "2022-12-19T10:02:55.635Z"
   },
   {
    "duration": 3530,
    "start_time": "2022-12-19T10:03:16.253Z"
   },
   {
    "duration": 1391,
    "start_time": "2022-12-19T10:03:35.202Z"
   },
   {
    "duration": 683,
    "start_time": "2022-12-19T10:03:36.595Z"
   },
   {
    "duration": 25,
    "start_time": "2022-12-19T10:03:37.280Z"
   },
   {
    "duration": 23,
    "start_time": "2022-12-19T10:03:37.308Z"
   },
   {
    "duration": 15,
    "start_time": "2022-12-19T10:03:37.333Z"
   },
   {
    "duration": 39,
    "start_time": "2022-12-19T10:03:37.349Z"
   },
   {
    "duration": 40,
    "start_time": "2022-12-19T10:03:37.390Z"
   },
   {
    "duration": 5,
    "start_time": "2022-12-19T10:03:37.431Z"
   },
   {
    "duration": 37,
    "start_time": "2022-12-19T10:03:37.437Z"
   },
   {
    "duration": 31,
    "start_time": "2022-12-19T10:03:37.477Z"
   },
   {
    "duration": 11,
    "start_time": "2022-12-19T10:03:37.510Z"
   },
   {
    "duration": 251,
    "start_time": "2022-12-19T10:03:37.522Z"
   },
   {
    "duration": 2,
    "start_time": "2022-12-19T10:03:37.778Z"
   },
   {
    "duration": 30,
    "start_time": "2022-12-19T10:03:37.782Z"
   },
   {
    "duration": 22,
    "start_time": "2022-12-19T10:03:37.814Z"
   },
   {
    "duration": 20,
    "start_time": "2022-12-19T10:03:37.838Z"
   },
   {
    "duration": 17,
    "start_time": "2022-12-19T10:03:37.861Z"
   },
   {
    "duration": 30,
    "start_time": "2022-12-19T10:03:37.879Z"
   },
   {
    "duration": 44,
    "start_time": "2022-12-19T10:03:37.911Z"
   },
   {
    "duration": 35,
    "start_time": "2022-12-19T10:03:37.957Z"
   },
   {
    "duration": 47,
    "start_time": "2022-12-19T10:03:37.994Z"
   },
   {
    "duration": 1828,
    "start_time": "2022-12-19T10:03:38.043Z"
   },
   {
    "duration": 672,
    "start_time": "2022-12-19T10:03:39.877Z"
   },
   {
    "duration": 894,
    "start_time": "2022-12-19T10:03:40.551Z"
   },
   {
    "duration": 34,
    "start_time": "2022-12-19T10:03:41.447Z"
   },
   {
    "duration": 4,
    "start_time": "2022-12-19T10:03:41.483Z"
   },
   {
    "duration": 6,
    "start_time": "2022-12-19T10:03:41.489Z"
   },
   {
    "duration": 4,
    "start_time": "2022-12-19T10:03:41.498Z"
   },
   {
    "duration": 7,
    "start_time": "2022-12-19T10:03:41.504Z"
   },
   {
    "duration": 13,
    "start_time": "2022-12-19T10:03:41.513Z"
   },
   {
    "duration": 9,
    "start_time": "2022-12-19T10:03:41.528Z"
   },
   {
    "duration": 2946,
    "start_time": "2022-12-19T10:03:41.538Z"
   },
   {
    "duration": 32798,
    "start_time": "2022-12-19T10:03:44.486Z"
   },
   {
    "duration": 93989,
    "start_time": "2022-12-19T10:04:17.286Z"
   },
   {
    "duration": 97410,
    "start_time": "2022-12-19T10:05:51.276Z"
   },
   {
    "duration": 5,
    "start_time": "2022-12-19T10:07:28.689Z"
   },
   {
    "duration": 3518,
    "start_time": "2022-12-19T10:07:28.779Z"
   },
   {
    "duration": 9,
    "start_time": "2022-12-19T10:07:32.299Z"
   },
   {
    "duration": 3404,
    "start_time": "2022-12-19T10:08:01.014Z"
   },
   {
    "duration": 3331,
    "start_time": "2022-12-19T10:08:11.270Z"
   }
  ],
  "kernelspec": {
   "display_name": "Python 3 (ipykernel)",
   "language": "python",
   "name": "python3"
  },
  "language_info": {
   "codemirror_mode": {
    "name": "ipython",
    "version": 3
   },
   "file_extension": ".py",
   "mimetype": "text/x-python",
   "name": "python",
   "nbconvert_exporter": "python",
   "pygments_lexer": "ipython3",
   "version": "3.9.5"
  },
  "toc": {
   "base_numbering": 1,
   "nav_menu": {},
   "number_sections": true,
   "sideBar": true,
   "skip_h1_title": true,
   "title_cell": "Содержание",
   "title_sidebar": "Contents",
   "toc_cell": true,
   "toc_position": {
    "height": "calc(100% - 180px)",
    "left": "10px",
    "top": "150px",
    "width": "165px"
   },
   "toc_section_display": true,
   "toc_window_display": true
  }
 },
 "nbformat": 4,
 "nbformat_minor": 2
}
