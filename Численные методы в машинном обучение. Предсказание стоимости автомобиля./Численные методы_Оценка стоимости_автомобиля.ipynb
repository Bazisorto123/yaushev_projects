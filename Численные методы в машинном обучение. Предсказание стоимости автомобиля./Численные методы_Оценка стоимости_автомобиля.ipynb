{
 "cells": [
  {
   "cell_type": "markdown",
   "metadata": {},
   "source": [
    "# Определение стоимости автомобилей"
   ]
  },
  {
   "cell_type": "markdown",
   "metadata": {},
   "source": [
    "Сервис по продаже автомобилей с пробегом «Не бит, не крашен» разрабатывает приложение для привлечения новых клиентов. В нём можно быстро узнать рыночную стоимость своего автомобиля. В вашем распоряжении исторические данные: технические характеристики, комплектации и цены автомобилей. Вам нужно построить модель для определения стоимости. \n",
    "\n",
    "Заказчику важны:\n",
    "\n",
    "- качество предсказания;\n",
    "- скорость предсказания;\n",
    "- время обучения."
   ]
  },
  {
   "cell_type": "markdown",
   "metadata": {},
   "source": [
    "## Подготовка данных"
   ]
  },
  {
   "cell_type": "markdown",
   "metadata": {},
   "source": [
    "Подгружаем необходимые бибилиотеки и фиксируем псевдослучайную последовательность."
   ]
  },
  {
   "cell_type": "code",
   "execution_count": 1,
   "metadata": {},
   "outputs": [
    {
     "name": "stdout",
     "output_type": "stream",
     "text": [
      "\u001b[33mWARNING: Ignoring invalid distribution -cikit-learn (/opt/conda/lib/python3.9/site-packages)\u001b[0m\n",
      "\u001b[33mWARNING: Ignoring invalid distribution -cikit-learn (/opt/conda/lib/python3.9/site-packages)\u001b[0m\n",
      "Requirement already satisfied: scikit-learn in /opt/conda/lib/python3.9/site-packages (1.2.1)\n",
      "Requirement already satisfied: joblib>=1.1.1 in /opt/conda/lib/python3.9/site-packages (from scikit-learn) (1.2.0)\n",
      "Requirement already satisfied: threadpoolctl>=2.0.0 in /opt/conda/lib/python3.9/site-packages (from scikit-learn) (3.1.0)\n",
      "Requirement already satisfied: scipy>=1.3.2 in /opt/conda/lib/python3.9/site-packages (from scikit-learn) (1.9.1)\n",
      "Requirement already satisfied: numpy>=1.17.3 in /opt/conda/lib/python3.9/site-packages (from scikit-learn) (1.21.1)\n",
      "\u001b[33mWARNING: Ignoring invalid distribution -cikit-learn (/opt/conda/lib/python3.9/site-packages)\u001b[0m\n",
      "\u001b[33mWARNING: Ignoring invalid distribution -cikit-learn (/opt/conda/lib/python3.9/site-packages)\u001b[0m\n",
      "\u001b[33mWARNING: Ignoring invalid distribution -cikit-learn (/opt/conda/lib/python3.9/site-packages)\u001b[0m\n",
      "\u001b[33mWARNING: Ignoring invalid distribution -cikit-learn (/opt/conda/lib/python3.9/site-packages)\u001b[0m\n"
     ]
    }
   ],
   "source": [
    "!pip install -U scikit-learn\n",
    "\n",
    "\n",
    "import pandas as pd \n",
    "import numpy as np \n",
    "import matplotlib.pyplot as plt\n",
    "\n",
    "import time \n",
    "\n",
    "from sklearn.linear_model import LinearRegression\n",
    "from sklearn.tree import DecisionTreeRegressor\n",
    "from sklearn.ensemble import RandomForestRegressor\n",
    "from sklearn.metrics import mean_squared_error, make_scorer\n",
    "from sklearn.model_selection import train_test_split, GridSearchCV, cross_val_score, RandomizedSearchCV\n",
    "from sklearn.preprocessing import StandardScaler\n",
    "from sklearn.preprocessing import OrdinalEncoder\n",
    "\n",
    "from catboost import CatBoostRegressor \n",
    "from lightgbm import LGBMRegressor\n",
    "\n",
    "state = 12345"
   ]
  },
  {
   "cell_type": "markdown",
   "metadata": {},
   "source": [
    "Изучаем данные. Проверяем их на повторы, количество уникальных значений, распределение значений и удаляем полные дубликаты."
   ]
  },
  {
   "cell_type": "code",
   "execution_count": 2,
   "metadata": {},
   "outputs": [
    {
     "data": {
      "text/html": [
       "<div>\n",
       "<style scoped>\n",
       "    .dataframe tbody tr th:only-of-type {\n",
       "        vertical-align: middle;\n",
       "    }\n",
       "\n",
       "    .dataframe tbody tr th {\n",
       "        vertical-align: top;\n",
       "    }\n",
       "\n",
       "    .dataframe thead th {\n",
       "        text-align: right;\n",
       "    }\n",
       "</style>\n",
       "<table border=\"1\" class=\"dataframe\">\n",
       "  <thead>\n",
       "    <tr style=\"text-align: right;\">\n",
       "      <th></th>\n",
       "      <th>DateCrawled</th>\n",
       "      <th>Price</th>\n",
       "      <th>VehicleType</th>\n",
       "      <th>RegistrationYear</th>\n",
       "      <th>Gearbox</th>\n",
       "      <th>Power</th>\n",
       "      <th>Model</th>\n",
       "      <th>Kilometer</th>\n",
       "      <th>RegistrationMonth</th>\n",
       "      <th>FuelType</th>\n",
       "      <th>Brand</th>\n",
       "      <th>Repaired</th>\n",
       "      <th>DateCreated</th>\n",
       "      <th>NumberOfPictures</th>\n",
       "      <th>PostalCode</th>\n",
       "      <th>LastSeen</th>\n",
       "    </tr>\n",
       "  </thead>\n",
       "  <tbody>\n",
       "    <tr>\n",
       "      <th>0</th>\n",
       "      <td>2016-03-24 11:52:17</td>\n",
       "      <td>480</td>\n",
       "      <td>NaN</td>\n",
       "      <td>1993</td>\n",
       "      <td>manual</td>\n",
       "      <td>0</td>\n",
       "      <td>golf</td>\n",
       "      <td>150000</td>\n",
       "      <td>0</td>\n",
       "      <td>petrol</td>\n",
       "      <td>volkswagen</td>\n",
       "      <td>NaN</td>\n",
       "      <td>2016-03-24 00:00:00</td>\n",
       "      <td>0</td>\n",
       "      <td>70435</td>\n",
       "      <td>2016-04-07 03:16:57</td>\n",
       "    </tr>\n",
       "    <tr>\n",
       "      <th>1</th>\n",
       "      <td>2016-03-24 10:58:45</td>\n",
       "      <td>18300</td>\n",
       "      <td>coupe</td>\n",
       "      <td>2011</td>\n",
       "      <td>manual</td>\n",
       "      <td>190</td>\n",
       "      <td>NaN</td>\n",
       "      <td>125000</td>\n",
       "      <td>5</td>\n",
       "      <td>gasoline</td>\n",
       "      <td>audi</td>\n",
       "      <td>yes</td>\n",
       "      <td>2016-03-24 00:00:00</td>\n",
       "      <td>0</td>\n",
       "      <td>66954</td>\n",
       "      <td>2016-04-07 01:46:50</td>\n",
       "    </tr>\n",
       "    <tr>\n",
       "      <th>2</th>\n",
       "      <td>2016-03-14 12:52:21</td>\n",
       "      <td>9800</td>\n",
       "      <td>suv</td>\n",
       "      <td>2004</td>\n",
       "      <td>auto</td>\n",
       "      <td>163</td>\n",
       "      <td>grand</td>\n",
       "      <td>125000</td>\n",
       "      <td>8</td>\n",
       "      <td>gasoline</td>\n",
       "      <td>jeep</td>\n",
       "      <td>NaN</td>\n",
       "      <td>2016-03-14 00:00:00</td>\n",
       "      <td>0</td>\n",
       "      <td>90480</td>\n",
       "      <td>2016-04-05 12:47:46</td>\n",
       "    </tr>\n",
       "    <tr>\n",
       "      <th>3</th>\n",
       "      <td>2016-03-17 16:54:04</td>\n",
       "      <td>1500</td>\n",
       "      <td>small</td>\n",
       "      <td>2001</td>\n",
       "      <td>manual</td>\n",
       "      <td>75</td>\n",
       "      <td>golf</td>\n",
       "      <td>150000</td>\n",
       "      <td>6</td>\n",
       "      <td>petrol</td>\n",
       "      <td>volkswagen</td>\n",
       "      <td>no</td>\n",
       "      <td>2016-03-17 00:00:00</td>\n",
       "      <td>0</td>\n",
       "      <td>91074</td>\n",
       "      <td>2016-03-17 17:40:17</td>\n",
       "    </tr>\n",
       "    <tr>\n",
       "      <th>4</th>\n",
       "      <td>2016-03-31 17:25:20</td>\n",
       "      <td>3600</td>\n",
       "      <td>small</td>\n",
       "      <td>2008</td>\n",
       "      <td>manual</td>\n",
       "      <td>69</td>\n",
       "      <td>fabia</td>\n",
       "      <td>90000</td>\n",
       "      <td>7</td>\n",
       "      <td>gasoline</td>\n",
       "      <td>skoda</td>\n",
       "      <td>no</td>\n",
       "      <td>2016-03-31 00:00:00</td>\n",
       "      <td>0</td>\n",
       "      <td>60437</td>\n",
       "      <td>2016-04-06 10:17:21</td>\n",
       "    </tr>\n",
       "  </tbody>\n",
       "</table>\n",
       "</div>"
      ],
      "text/plain": [
       "           DateCrawled  Price VehicleType  RegistrationYear Gearbox  Power  \\\n",
       "0  2016-03-24 11:52:17    480         NaN              1993  manual      0   \n",
       "1  2016-03-24 10:58:45  18300       coupe              2011  manual    190   \n",
       "2  2016-03-14 12:52:21   9800         suv              2004    auto    163   \n",
       "3  2016-03-17 16:54:04   1500       small              2001  manual     75   \n",
       "4  2016-03-31 17:25:20   3600       small              2008  manual     69   \n",
       "\n",
       "   Model  Kilometer  RegistrationMonth  FuelType       Brand Repaired  \\\n",
       "0   golf     150000                  0    petrol  volkswagen      NaN   \n",
       "1    NaN     125000                  5  gasoline        audi      yes   \n",
       "2  grand     125000                  8  gasoline        jeep      NaN   \n",
       "3   golf     150000                  6    petrol  volkswagen       no   \n",
       "4  fabia      90000                  7  gasoline       skoda       no   \n",
       "\n",
       "           DateCreated  NumberOfPictures  PostalCode             LastSeen  \n",
       "0  2016-03-24 00:00:00                 0       70435  2016-04-07 03:16:57  \n",
       "1  2016-03-24 00:00:00                 0       66954  2016-04-07 01:46:50  \n",
       "2  2016-03-14 00:00:00                 0       90480  2016-04-05 12:47:46  \n",
       "3  2016-03-17 00:00:00                 0       91074  2016-03-17 17:40:17  \n",
       "4  2016-03-31 00:00:00                 0       60437  2016-04-06 10:17:21  "
      ]
     },
     "metadata": {},
     "output_type": "display_data"
    }
   ],
   "source": [
    "data = pd.read_csv('/datasets/autos.csv')\n",
    "display(data.head())"
   ]
  },
  {
   "cell_type": "code",
   "execution_count": 3,
   "metadata": {},
   "outputs": [
    {
     "name": "stdout",
     "output_type": "stream",
     "text": [
      "<class 'pandas.core.frame.DataFrame'>\n",
      "RangeIndex: 354369 entries, 0 to 354368\n",
      "Data columns (total 16 columns):\n",
      " #   Column             Non-Null Count   Dtype         \n",
      "---  ------             --------------   -----         \n",
      " 0   DateCrawled        354369 non-null  datetime64[ns]\n",
      " 1   Price              354369 non-null  int64         \n",
      " 2   VehicleType        316879 non-null  object        \n",
      " 3   RegistrationYear   354369 non-null  int64         \n",
      " 4   Gearbox            334536 non-null  object        \n",
      " 5   Power              354369 non-null  int64         \n",
      " 6   Model              334664 non-null  object        \n",
      " 7   Kilometer          354369 non-null  int64         \n",
      " 8   RegistrationMonth  354369 non-null  int64         \n",
      " 9   FuelType           321474 non-null  object        \n",
      " 10  Brand              354369 non-null  object        \n",
      " 11  Repaired           283215 non-null  object        \n",
      " 12  DateCreated        354369 non-null  datetime64[ns]\n",
      " 13  NumberOfPictures   354369 non-null  int64         \n",
      " 14  PostalCode         354369 non-null  int64         \n",
      " 15  LastSeen           354369 non-null  object        \n",
      "dtypes: datetime64[ns](2), int64(7), object(7)\n",
      "memory usage: 43.3+ MB\n"
     ]
    },
    {
     "data": {
      "text/plain": [
       "None"
      ]
     },
     "metadata": {},
     "output_type": "display_data"
    },
    {
     "data": {
      "text/html": [
       "<div>\n",
       "<style scoped>\n",
       "    .dataframe tbody tr th:only-of-type {\n",
       "        vertical-align: middle;\n",
       "    }\n",
       "\n",
       "    .dataframe tbody tr th {\n",
       "        vertical-align: top;\n",
       "    }\n",
       "\n",
       "    .dataframe thead th {\n",
       "        text-align: right;\n",
       "    }\n",
       "</style>\n",
       "<table border=\"1\" class=\"dataframe\">\n",
       "  <thead>\n",
       "    <tr style=\"text-align: right;\">\n",
       "      <th></th>\n",
       "      <th>Price</th>\n",
       "      <th>RegistrationYear</th>\n",
       "      <th>Power</th>\n",
       "      <th>Kilometer</th>\n",
       "      <th>RegistrationMonth</th>\n",
       "      <th>NumberOfPictures</th>\n",
       "      <th>PostalCode</th>\n",
       "    </tr>\n",
       "  </thead>\n",
       "  <tbody>\n",
       "    <tr>\n",
       "      <th>count</th>\n",
       "      <td>354369.000000</td>\n",
       "      <td>354369.000000</td>\n",
       "      <td>354369.000000</td>\n",
       "      <td>354369.000000</td>\n",
       "      <td>354369.000000</td>\n",
       "      <td>354369.0</td>\n",
       "      <td>354369.000000</td>\n",
       "    </tr>\n",
       "    <tr>\n",
       "      <th>mean</th>\n",
       "      <td>4416.656776</td>\n",
       "      <td>2004.234448</td>\n",
       "      <td>110.094337</td>\n",
       "      <td>128211.172535</td>\n",
       "      <td>5.714645</td>\n",
       "      <td>0.0</td>\n",
       "      <td>50508.689087</td>\n",
       "    </tr>\n",
       "    <tr>\n",
       "      <th>std</th>\n",
       "      <td>4514.158514</td>\n",
       "      <td>90.227958</td>\n",
       "      <td>189.850405</td>\n",
       "      <td>37905.341530</td>\n",
       "      <td>3.726421</td>\n",
       "      <td>0.0</td>\n",
       "      <td>25783.096248</td>\n",
       "    </tr>\n",
       "    <tr>\n",
       "      <th>min</th>\n",
       "      <td>0.000000</td>\n",
       "      <td>1000.000000</td>\n",
       "      <td>0.000000</td>\n",
       "      <td>5000.000000</td>\n",
       "      <td>0.000000</td>\n",
       "      <td>0.0</td>\n",
       "      <td>1067.000000</td>\n",
       "    </tr>\n",
       "    <tr>\n",
       "      <th>25%</th>\n",
       "      <td>1050.000000</td>\n",
       "      <td>1999.000000</td>\n",
       "      <td>69.000000</td>\n",
       "      <td>125000.000000</td>\n",
       "      <td>3.000000</td>\n",
       "      <td>0.0</td>\n",
       "      <td>30165.000000</td>\n",
       "    </tr>\n",
       "    <tr>\n",
       "      <th>50%</th>\n",
       "      <td>2700.000000</td>\n",
       "      <td>2003.000000</td>\n",
       "      <td>105.000000</td>\n",
       "      <td>150000.000000</td>\n",
       "      <td>6.000000</td>\n",
       "      <td>0.0</td>\n",
       "      <td>49413.000000</td>\n",
       "    </tr>\n",
       "    <tr>\n",
       "      <th>75%</th>\n",
       "      <td>6400.000000</td>\n",
       "      <td>2008.000000</td>\n",
       "      <td>143.000000</td>\n",
       "      <td>150000.000000</td>\n",
       "      <td>9.000000</td>\n",
       "      <td>0.0</td>\n",
       "      <td>71083.000000</td>\n",
       "    </tr>\n",
       "    <tr>\n",
       "      <th>max</th>\n",
       "      <td>20000.000000</td>\n",
       "      <td>9999.000000</td>\n",
       "      <td>20000.000000</td>\n",
       "      <td>150000.000000</td>\n",
       "      <td>12.000000</td>\n",
       "      <td>0.0</td>\n",
       "      <td>99998.000000</td>\n",
       "    </tr>\n",
       "  </tbody>\n",
       "</table>\n",
       "</div>"
      ],
      "text/plain": [
       "               Price  RegistrationYear          Power      Kilometer  \\\n",
       "count  354369.000000     354369.000000  354369.000000  354369.000000   \n",
       "mean     4416.656776       2004.234448     110.094337  128211.172535   \n",
       "std      4514.158514         90.227958     189.850405   37905.341530   \n",
       "min         0.000000       1000.000000       0.000000    5000.000000   \n",
       "25%      1050.000000       1999.000000      69.000000  125000.000000   \n",
       "50%      2700.000000       2003.000000     105.000000  150000.000000   \n",
       "75%      6400.000000       2008.000000     143.000000  150000.000000   \n",
       "max     20000.000000       9999.000000   20000.000000  150000.000000   \n",
       "\n",
       "       RegistrationMonth  NumberOfPictures     PostalCode  \n",
       "count      354369.000000          354369.0  354369.000000  \n",
       "mean            5.714645               0.0   50508.689087  \n",
       "std             3.726421               0.0   25783.096248  \n",
       "min             0.000000               0.0    1067.000000  \n",
       "25%             3.000000               0.0   30165.000000  \n",
       "50%             6.000000               0.0   49413.000000  \n",
       "75%             9.000000               0.0   71083.000000  \n",
       "max            12.000000               0.0   99998.000000  "
      ]
     },
     "metadata": {},
     "output_type": "display_data"
    },
    {
     "data": {
      "text/plain": [
       "DateCrawled              0\n",
       "Price                    0\n",
       "VehicleType          37490\n",
       "RegistrationYear         0\n",
       "Gearbox              19833\n",
       "Power                    0\n",
       "Model                19705\n",
       "Kilometer                0\n",
       "RegistrationMonth        0\n",
       "FuelType             32895\n",
       "Brand                    0\n",
       "Repaired             71154\n",
       "DateCreated              0\n",
       "NumberOfPictures         0\n",
       "PostalCode               0\n",
       "LastSeen                 0\n",
       "dtype: int64"
      ]
     },
     "metadata": {},
     "output_type": "display_data"
    },
    {
     "data": {
      "text/plain": [
       "DateCrawled          271174\n",
       "Price                  3731\n",
       "VehicleType               8\n",
       "RegistrationYear        151\n",
       "Gearbox                   2\n",
       "Power                   712\n",
       "Model                   250\n",
       "Kilometer                13\n",
       "RegistrationMonth        13\n",
       "FuelType                  7\n",
       "Brand                    40\n",
       "Repaired                  2\n",
       "DateCreated             109\n",
       "NumberOfPictures          1\n",
       "PostalCode             8143\n",
       "LastSeen             179150\n",
       "dtype: int64"
      ]
     },
     "metadata": {},
     "output_type": "display_data"
    },
    {
     "data": {
      "text/plain": [
       "4"
      ]
     },
     "metadata": {},
     "output_type": "display_data"
    }
   ],
   "source": [
    "data['DateCrawled'] = pd.to_datetime(data['DateCrawled'], format=\"%Y/%m/%dT%H:%M:%S\")\n",
    "data['DateCreated'] = pd.to_datetime(data['DateCreated'], format=\"%Y/%m/%dT%H:%M:%S\")\n",
    "display(data.info())\n",
    "display(data.describe())\n",
    "display(data.isna().sum())\n",
    "display(data.nunique())\n",
    "display(data.duplicated().sum())   "
   ]
  },
  {
   "cell_type": "markdown",
   "metadata": {},
   "source": [
    "В 5 столбцах есть довольно большое количество пропусков, которые необходимо будет обработать. Также очевидно, что есть много выбросов. Каждый столбец рассмотрим внимательнее по отдельности дилее. Сразу видно, что столбец с количеством фото полностью пустой, его можно удалить уже на данном этапе. Также проверим таблицу на мути-коллинеарность и посмотрим корреляцию между признаками."
   ]
  },
  {
   "cell_type": "code",
   "execution_count": 4,
   "metadata": {},
   "outputs": [
    {
     "data": {
      "text/html": [
       "<div>\n",
       "<style scoped>\n",
       "    .dataframe tbody tr th:only-of-type {\n",
       "        vertical-align: middle;\n",
       "    }\n",
       "\n",
       "    .dataframe tbody tr th {\n",
       "        vertical-align: top;\n",
       "    }\n",
       "\n",
       "    .dataframe thead th {\n",
       "        text-align: right;\n",
       "    }\n",
       "</style>\n",
       "<table border=\"1\" class=\"dataframe\">\n",
       "  <thead>\n",
       "    <tr style=\"text-align: right;\">\n",
       "      <th></th>\n",
       "      <th>Price</th>\n",
       "      <th>RegistrationYear</th>\n",
       "      <th>Power</th>\n",
       "      <th>Kilometer</th>\n",
       "      <th>RegistrationMonth</th>\n",
       "      <th>PostalCode</th>\n",
       "    </tr>\n",
       "  </thead>\n",
       "  <tbody>\n",
       "    <tr>\n",
       "      <th>Price</th>\n",
       "      <td>1.000000</td>\n",
       "      <td>0.026916</td>\n",
       "      <td>0.158872</td>\n",
       "      <td>-0.333207</td>\n",
       "      <td>0.110580</td>\n",
       "      <td>0.076058</td>\n",
       "    </tr>\n",
       "    <tr>\n",
       "      <th>RegistrationYear</th>\n",
       "      <td>0.026916</td>\n",
       "      <td>1.000000</td>\n",
       "      <td>-0.000828</td>\n",
       "      <td>-0.053448</td>\n",
       "      <td>-0.011619</td>\n",
       "      <td>-0.003459</td>\n",
       "    </tr>\n",
       "    <tr>\n",
       "      <th>Power</th>\n",
       "      <td>0.158872</td>\n",
       "      <td>-0.000828</td>\n",
       "      <td>1.000000</td>\n",
       "      <td>0.024006</td>\n",
       "      <td>0.043379</td>\n",
       "      <td>0.021662</td>\n",
       "    </tr>\n",
       "    <tr>\n",
       "      <th>Kilometer</th>\n",
       "      <td>-0.333207</td>\n",
       "      <td>-0.053448</td>\n",
       "      <td>0.024006</td>\n",
       "      <td>1.000000</td>\n",
       "      <td>0.009575</td>\n",
       "      <td>-0.007685</td>\n",
       "    </tr>\n",
       "    <tr>\n",
       "      <th>RegistrationMonth</th>\n",
       "      <td>0.110580</td>\n",
       "      <td>-0.011619</td>\n",
       "      <td>0.043379</td>\n",
       "      <td>0.009575</td>\n",
       "      <td>1.000000</td>\n",
       "      <td>0.013996</td>\n",
       "    </tr>\n",
       "    <tr>\n",
       "      <th>PostalCode</th>\n",
       "      <td>0.076058</td>\n",
       "      <td>-0.003459</td>\n",
       "      <td>0.021662</td>\n",
       "      <td>-0.007685</td>\n",
       "      <td>0.013996</td>\n",
       "      <td>1.000000</td>\n",
       "    </tr>\n",
       "  </tbody>\n",
       "</table>\n",
       "</div>"
      ],
      "text/plain": [
       "                      Price  RegistrationYear     Power  Kilometer  \\\n",
       "Price              1.000000          0.026916  0.158872  -0.333207   \n",
       "RegistrationYear   0.026916          1.000000 -0.000828  -0.053448   \n",
       "Power              0.158872         -0.000828  1.000000   0.024006   \n",
       "Kilometer         -0.333207         -0.053448  0.024006   1.000000   \n",
       "RegistrationMonth  0.110580         -0.011619  0.043379   0.009575   \n",
       "PostalCode         0.076058         -0.003459  0.021662  -0.007685   \n",
       "\n",
       "                   RegistrationMonth  PostalCode  \n",
       "Price                       0.110580    0.076058  \n",
       "RegistrationYear           -0.011619   -0.003459  \n",
       "Power                       0.043379    0.021662  \n",
       "Kilometer                   0.009575   -0.007685  \n",
       "RegistrationMonth           1.000000    0.013996  \n",
       "PostalCode                  0.013996    1.000000  "
      ]
     },
     "metadata": {},
     "output_type": "display_data"
    }
   ],
   "source": [
    "data = data.drop_duplicates()\n",
    "data.drop(['NumberOfPictures'], inplace=True, axis=1)\n",
    "display(data.corr())"
   ]
  },
  {
   "cell_type": "markdown",
   "metadata": {},
   "source": [
    "До обработки данных видно, что единственный признак, которые имеет видимуб корреляцию с ценой - это пробег. Сейчас показатель равен -0.33, что говорит о небольшой обратной зависимости и это логично: чем больше пробег - тем ниже цена."
   ]
  },
  {
   "cell_type": "markdown",
   "metadata": {},
   "source": [
    "Для обучения оставим только те признаки, которые могут влиять на стоимость автомобиля, это:\n",
    "1. Тип кузова - автомобили с разными кузовами имеют разную стоимость\n",
    "2. Год регистрации - вероятно, чем старше автомобиль - тем он дешевле. Однако, для очень старых и раритетных автомобилей существует обратная связь.\n",
    "3. Коробка передач - предположим, что автомобиль на АКПП дороже, чем на МКПП\n",
    "4. Мощность - как правило, более мощные автомобили стоят дороже\n",
    "5. Модель \n",
    "6. Бренд - оба параметра необходимы для определения стоимости\n",
    "7. Пробег - разъяснения есть выше\n",
    "8. Тип топлива - вероятно, автомобиль одной и той же моели будет иметь разную стоимость в заивисимости от типа силовой установки\n",
    "9. Поврежден ли автомобиль - очевидно, что после ДТП автомобиль будет дешевле"
   ]
  },
  {
   "cell_type": "markdown",
   "metadata": {},
   "source": [
    "Таким образом, убраны следующие признаки:\n",
    "1. Даты выгрузки, просмотра и создания объявлений \n",
    "2. Месяц регистрации - на стоимость влияет в основном год, а не месяц\n",
    "3. Количество фото - везде их количество 0, вероятно проблема с выгрузкой данных\n",
    "4. Почтовый индекс - он мало повлияет на стоимость в рамках одной страны, но его удаление ускорит обучение моделей"
   ]
  },
  {
   "cell_type": "markdown",
   "metadata": {},
   "source": [
    "Проанализируем обновленную таблицу и рассмотрим каждый признак отдельно"
   ]
  },
  {
   "cell_type": "code",
   "execution_count": 5,
   "metadata": {},
   "outputs": [
    {
     "name": "stdout",
     "output_type": "stream",
     "text": [
      "<class 'pandas.core.frame.DataFrame'>\n",
      "Int64Index: 354365 entries, 0 to 354368\n",
      "Data columns (total 10 columns):\n",
      " #   Column            Non-Null Count   Dtype \n",
      "---  ------            --------------   ----- \n",
      " 0   Price             354365 non-null  int64 \n",
      " 1   VehicleType       316875 non-null  object\n",
      " 2   RegistrationYear  354365 non-null  int64 \n",
      " 3   Gearbox           334532 non-null  object\n",
      " 4   Power             354365 non-null  int64 \n",
      " 5   Model             334660 non-null  object\n",
      " 6   Kilometer         354365 non-null  int64 \n",
      " 7   FuelType          321470 non-null  object\n",
      " 8   Brand             354365 non-null  object\n",
      " 9   Repaired          283211 non-null  object\n",
      "dtypes: int64(4), object(6)\n",
      "memory usage: 29.7+ MB\n"
     ]
    },
    {
     "data": {
      "text/plain": [
       "None"
      ]
     },
     "metadata": {},
     "output_type": "display_data"
    },
    {
     "data": {
      "text/html": [
       "<div>\n",
       "<style scoped>\n",
       "    .dataframe tbody tr th:only-of-type {\n",
       "        vertical-align: middle;\n",
       "    }\n",
       "\n",
       "    .dataframe tbody tr th {\n",
       "        vertical-align: top;\n",
       "    }\n",
       "\n",
       "    .dataframe thead th {\n",
       "        text-align: right;\n",
       "    }\n",
       "</style>\n",
       "<table border=\"1\" class=\"dataframe\">\n",
       "  <thead>\n",
       "    <tr style=\"text-align: right;\">\n",
       "      <th></th>\n",
       "      <th>Price</th>\n",
       "      <th>RegistrationYear</th>\n",
       "      <th>Power</th>\n",
       "      <th>Kilometer</th>\n",
       "    </tr>\n",
       "  </thead>\n",
       "  <tbody>\n",
       "    <tr>\n",
       "      <th>count</th>\n",
       "      <td>354365.000000</td>\n",
       "      <td>354365.000000</td>\n",
       "      <td>354365.000000</td>\n",
       "      <td>354365.000000</td>\n",
       "    </tr>\n",
       "    <tr>\n",
       "      <th>mean</th>\n",
       "      <td>4416.679830</td>\n",
       "      <td>2004.234481</td>\n",
       "      <td>110.093816</td>\n",
       "      <td>128211.363989</td>\n",
       "    </tr>\n",
       "    <tr>\n",
       "      <th>std</th>\n",
       "      <td>4514.176349</td>\n",
       "      <td>90.228466</td>\n",
       "      <td>189.851330</td>\n",
       "      <td>37905.083858</td>\n",
       "    </tr>\n",
       "    <tr>\n",
       "      <th>min</th>\n",
       "      <td>0.000000</td>\n",
       "      <td>1000.000000</td>\n",
       "      <td>0.000000</td>\n",
       "      <td>5000.000000</td>\n",
       "    </tr>\n",
       "    <tr>\n",
       "      <th>25%</th>\n",
       "      <td>1050.000000</td>\n",
       "      <td>1999.000000</td>\n",
       "      <td>69.000000</td>\n",
       "      <td>125000.000000</td>\n",
       "    </tr>\n",
       "    <tr>\n",
       "      <th>50%</th>\n",
       "      <td>2700.000000</td>\n",
       "      <td>2003.000000</td>\n",
       "      <td>105.000000</td>\n",
       "      <td>150000.000000</td>\n",
       "    </tr>\n",
       "    <tr>\n",
       "      <th>75%</th>\n",
       "      <td>6400.000000</td>\n",
       "      <td>2008.000000</td>\n",
       "      <td>143.000000</td>\n",
       "      <td>150000.000000</td>\n",
       "    </tr>\n",
       "    <tr>\n",
       "      <th>max</th>\n",
       "      <td>20000.000000</td>\n",
       "      <td>9999.000000</td>\n",
       "      <td>20000.000000</td>\n",
       "      <td>150000.000000</td>\n",
       "    </tr>\n",
       "  </tbody>\n",
       "</table>\n",
       "</div>"
      ],
      "text/plain": [
       "               Price  RegistrationYear          Power      Kilometer\n",
       "count  354365.000000     354365.000000  354365.000000  354365.000000\n",
       "mean     4416.679830       2004.234481     110.093816  128211.363989\n",
       "std      4514.176349         90.228466     189.851330   37905.083858\n",
       "min         0.000000       1000.000000       0.000000    5000.000000\n",
       "25%      1050.000000       1999.000000      69.000000  125000.000000\n",
       "50%      2700.000000       2003.000000     105.000000  150000.000000\n",
       "75%      6400.000000       2008.000000     143.000000  150000.000000\n",
       "max     20000.000000       9999.000000   20000.000000  150000.000000"
      ]
     },
     "metadata": {},
     "output_type": "display_data"
    },
    {
     "data": {
      "text/plain": [
       "Price                   0\n",
       "VehicleType         37490\n",
       "RegistrationYear        0\n",
       "Gearbox             19833\n",
       "Power                   0\n",
       "Model               19705\n",
       "Kilometer               0\n",
       "FuelType            32895\n",
       "Brand                   0\n",
       "Repaired            71154\n",
       "dtype: int64"
      ]
     },
     "metadata": {},
     "output_type": "display_data"
    },
    {
     "data": {
      "text/plain": [
       "Price               3731\n",
       "VehicleType            8\n",
       "RegistrationYear     151\n",
       "Gearbox                2\n",
       "Power                712\n",
       "Model                250\n",
       "Kilometer             13\n",
       "FuelType               7\n",
       "Brand                 40\n",
       "Repaired               2\n",
       "dtype: int64"
      ]
     },
     "metadata": {},
     "output_type": "display_data"
    },
    {
     "data": {
      "text/plain": [
       "45036"
      ]
     },
     "metadata": {},
     "output_type": "display_data"
    }
   ],
   "source": [
    "new_data = data[['Price', 'VehicleType', 'RegistrationYear', 'Gearbox',\n",
    "                 'Power', 'Model', 'Kilometer', 'FuelType', 'Brand', 'Repaired']]\n",
    "display(new_data.info())\n",
    "display(new_data.describe())\n",
    "display(new_data.isna().sum())\n",
    "display(new_data.nunique())\n",
    "display(new_data.duplicated().sum())   "
   ]
  },
  {
   "cell_type": "markdown",
   "metadata": {},
   "source": [
    "Сперва рассмотрим количественные признакми. Цена. Это наш целевой признак. Построим гистограмму распределения цены, найдем количество уникальных значений и учитывая наличие значений, равных нулю, найдем 0.1 квантиль, чтобы отсечь объявления без цены, либо с крайне неправдоподобно низкой ценой."
   ]
  },
  {
   "cell_type": "code",
   "execution_count": 6,
   "metadata": {},
   "outputs": [
    {
     "name": "stdout",
     "output_type": "stream",
     "text": [
      "0        10772\n",
      "500       5670\n",
      "1500      5394\n",
      "1000      4648\n",
      "1200      4594\n",
      "         ...  \n",
      "13180        1\n",
      "10879        1\n",
      "2683         1\n",
      "634          1\n",
      "8188         1\n",
      "Name: Price, Length: 3731, dtype: int64\n",
      "0.1    499.0\n",
      "Name: Price, dtype: float64\n"
     ]
    },
    {
     "data": {
      "image/png": "[encoded data removed]",
      "text/plain": [
       "<Figure size 1080x576 with 1 Axes>"
      ]
     },
     "metadata": {
      "needs_background": "light"
     },
     "output_type": "display_data"
    }
   ],
   "source": [
    "plt.figure(figsize=[15, 8])\n",
    "plt.title('График распределения цены', fontsize=15)\n",
    "plt.hist(new_data['Price'], bins=100, color = 'c', alpha = 0.7, ec='black');\n",
    "print(new_data['Price'].value_counts())\n",
    "print(new_data['Price'].quantile([0.1]))"
   ]
  },
  {
   "cell_type": "markdown",
   "metadata": {},
   "source": [
    "Видно, что почти 11000 из 355000 не имеют цены. Это около 3% от выборки. 0.1 квантиль равен 499 евро. В целом, это соответствует цене дешевого европейского автомобиля. Удалим все объявления ниже этой цены."
   ]
  },
  {
   "cell_type": "code",
   "execution_count": 7,
   "metadata": {},
   "outputs": [
    {
     "name": "stdout",
     "output_type": "stream",
     "text": [
      "count    318311.000000\n",
      "mean       4895.114881\n",
      "std        4520.278157\n",
      "min         500.000000\n",
      "25%        1499.000000\n",
      "50%        3200.000000\n",
      "75%        6950.000000\n",
      "max       20000.000000\n",
      "Name: Price, dtype: float64\n"
     ]
    },
    {
     "data": {
      "image/png": "[encoded data removed]",
      "text/plain": [
       "<Figure size 1080x576 with 1 Axes>"
      ]
     },
     "metadata": {
      "needs_background": "light"
     },
     "output_type": "display_data"
    }
   ],
   "source": [
    "new_data = new_data.query('Price > 499')\n",
    "plt.figure(figsize=[15, 8])\n",
    "plt.title('График распределения цены от 499 евро', fontsize=15)\n",
    "plt.hist(new_data['Price'], bins=100, color = 'c', alpha = 0.7, ec='black');\n",
    "print(new_data['Price'].describe())"
   ]
  },
  {
   "cell_type": "markdown",
   "metadata": {},
   "source": [
    "Очевидно, что чем выше цена - тем меньше обявлений. Средняя цена получилась 4895 евро за автомобиль, медианная - 3200 евро."
   ]
  },
  {
   "cell_type": "markdown",
   "metadata": {},
   "source": [
    "Год регистрации. Построим гистограмму, ограничим год с 1950 по 2023 на графике, найдем 0.01 квантиль."
   ]
  },
  {
   "cell_type": "code",
   "execution_count": 8,
   "metadata": {},
   "outputs": [
    {
     "name": "stdout",
     "output_type": "stream",
     "text": [
      "count    318311.000000\n",
      "mean       2004.164672\n",
      "std          65.378165\n",
      "min        1000.000000\n",
      "25%        1999.000000\n",
      "50%        2004.000000\n",
      "75%        2008.000000\n",
      "max        9999.000000\n",
      "Name: RegistrationYear, dtype: float64\n",
      "0.01    1980.0\n",
      "Name: RegistrationYear, dtype: float64\n"
     ]
    },
    {
     "data": {
      "image/png": "[encoded data removed]",
      "text/plain": [
       "<Figure size 1080x576 with 1 Axes>"
      ]
     },
     "metadata": {
      "needs_background": "light"
     },
     "output_type": "display_data"
    }
   ],
   "source": [
    "plt.title('График распределения года регистрации', fontsize=15)\n",
    "new_data['RegistrationYear'].hist(bins=50, range=(1950, 2023), figsize=[15, 8], color = 'r', alpha = 0.7, ec='black')\n",
    "print(new_data['RegistrationYear'].describe())\n",
    "print(new_data['RegistrationYear'].quantile([0.01]))"
   ]
  },
  {
   "cell_type": "markdown",
   "metadata": {},
   "source": [
    "Очевидно, что есть некорректные данные, как 9999 год, 65 год. 0.01 квантиль равен 1980, им и ограничим данные снизу, а сверху ограничим 2016 годом - последний год, когда был добавлен автомобиль в базу. Рассмотрим обновленные данные."
   ]
  },
  {
   "cell_type": "code",
   "execution_count": 9,
   "metadata": {},
   "outputs": [
    {
     "name": "stdout",
     "output_type": "stream",
     "text": [
      "count    302308.000000\n",
      "mean       2003.221066\n",
      "std           5.882211\n",
      "min        1980.000000\n",
      "25%        1999.000000\n",
      "50%        2003.000000\n",
      "75%        2007.000000\n",
      "max        2016.000000\n",
      "Name: RegistrationYear, dtype: float64\n"
     ]
    }
   ],
   "source": [
    "new_data = new_data.query('1980 <= RegistrationYear <= 2016')\n",
    "print(new_data['RegistrationYear'].describe())"
   ]
  },
  {
   "cell_type": "markdown",
   "metadata": {},
   "source": [
    "Видно, что самый новый втомобиль 2016 года. Средний год по таблице - 2003, медианный - 2003."
   ]
  },
  {
   "cell_type": "markdown",
   "metadata": {},
   "source": [
    "Мощность. Построим гистограмму, ограничим мощность от 0 до 700 на графике, найдем 0.1 и 0.99 квантиль."
   ]
  },
  {
   "cell_type": "code",
   "execution_count": 10,
   "metadata": {},
   "outputs": [
    {
     "name": "stdout",
     "output_type": "stream",
     "text": [
      "count    302308.000000\n",
      "mean        116.362475\n",
      "std         185.537927\n",
      "min           0.000000\n",
      "25%          75.000000\n",
      "50%         109.000000\n",
      "75%         147.000000\n",
      "max       20000.000000\n",
      "Name: Power, dtype: float64\n",
      "0.10     50.0\n",
      "0.99    306.0\n",
      "Name: Power, dtype: float64\n"
     ]
    },
    {
     "data": {
      "image/png": "[encoded data removed]",
      "text/plain": [
       "<Figure size 1080x576 with 1 Axes>"
      ]
     },
     "metadata": {
      "needs_background": "light"
     },
     "output_type": "display_data"
    }
   ],
   "source": [
    "plt.title('График распределения по мощности', fontsize=15)\n",
    "new_data['Power'].hist(bins=100, range=(0, 700), figsize=[15, 8], color = 'y', alpha = 0.7, ec='black')\n",
    "print(new_data['Power'].describe())\n",
    "print(new_data['Power'].quantile([0.1, 0.99]))"
   ]
  },
  {
   "cell_type": "markdown",
   "metadata": {},
   "source": [
    "Видно, что большое количество автомобилей без указанной мощности. 0.1 квантиль - 50 л.с, 0.99 - 306 л.с. В целом, этот интервал соответсвует реальному рынку автомобилей. Им и ограничим данные в таблице. Основная часть распределена от 50 до 200 л.с."
   ]
  },
  {
   "cell_type": "code",
   "execution_count": 11,
   "metadata": {},
   "outputs": [
    {
     "name": "stdout",
     "output_type": "stream",
     "text": [
      "count    271694.000000\n",
      "mean        122.358550\n",
      "std          48.884592\n",
      "min          50.000000\n",
      "25%          84.000000\n",
      "50%         116.000000\n",
      "75%         150.000000\n",
      "max         306.000000\n",
      "Name: Power, dtype: float64\n"
     ]
    }
   ],
   "source": [
    "new_data = new_data.query('50 <= Power <= 306')\n",
    "print(new_data['Power'].describe())"
   ]
  },
  {
   "cell_type": "markdown",
   "metadata": {},
   "source": [
    "Среднюю мощность получили 122 л.с., медианную 116 л.с."
   ]
  },
  {
   "cell_type": "markdown",
   "metadata": {},
   "source": [
    "Пробег. Построим гистограмму и посмотрим на данные."
   ]
  },
  {
   "cell_type": "code",
   "execution_count": 12,
   "metadata": {},
   "outputs": [
    {
     "name": "stdout",
     "output_type": "stream",
     "text": [
      "count    271694.000000\n",
      "mean     128053.527130\n",
      "std       36618.195839\n",
      "min        5000.000000\n",
      "25%      125000.000000\n",
      "50%      150000.000000\n",
      "75%      150000.000000\n",
      "max      150000.000000\n",
      "Name: Kilometer, dtype: float64\n"
     ]
    },
    {
     "data": {
      "image/png": "[encoded data removed]",
      "text/plain": [
       "<Figure size 1080x576 with 1 Axes>"
      ]
     },
     "metadata": {
      "needs_background": "light"
     },
     "output_type": "display_data"
    }
   ],
   "source": [
    "plt.title('График распределения по пробегу', fontsize=15)\n",
    "new_data['Kilometer'].hist(bins=30, figsize=[15, 8], color = 'g', alpha = 0.7, ec='black')\n",
    "print(new_data['Kilometer'].describe())"
   ]
  },
  {
   "cell_type": "markdown",
   "metadata": {},
   "source": [
    "Видно, что очень большое количество автомобилей с пробегом ровно 150000 км. Вероятно, это обусловлено ограничением в форме подачи объявления или иными техническими причинами. В целом, пробег от 5000 до 150000 соответвует реальному рынку, столбец не требует изменений."
   ]
  },
  {
   "cell_type": "markdown",
   "metadata": {},
   "source": [
    "Теперь рассмторим качественные признаки. Тип кузова."
   ]
  },
  {
   "cell_type": "code",
   "execution_count": 13,
   "metadata": {},
   "outputs": [
    {
     "name": "stdout",
     "output_type": "stream",
     "text": [
      "sedan          78037\n",
      "small          59806\n",
      "wagon          56440\n",
      "bus            25734\n",
      "convertible    17878\n",
      "coupe          13138\n",
      "suv            10360\n",
      "other           2096\n",
      "Name: VehicleType, dtype: int64\n",
      "8205\n"
     ]
    }
   ],
   "source": [
    "print(new_data['VehicleType'].value_counts())\n",
    "print(new_data['VehicleType'].isna().sum())"
   ]
  },
  {
   "cell_type": "markdown",
   "metadata": {},
   "source": [
    "Видно, что есть 8 типов кузова, один из которых \"другие\". Популярнее всех седаны, компактные автомобили и универсалы(специфика европейского рынка). Много пропусков, около 5% всей выборки. Чтобы не удалять много данных, заполним пропуски значением \"Неизвестно\"."
   ]
  },
  {
   "cell_type": "code",
   "execution_count": 14,
   "metadata": {},
   "outputs": [
    {
     "name": "stdout",
     "output_type": "stream",
     "text": [
      "sedan          78037\n",
      "small          59806\n",
      "wagon          56440\n",
      "bus            25734\n",
      "convertible    17878\n",
      "coupe          13138\n",
      "suv            10360\n",
      "unknown         8205\n",
      "other           2096\n",
      "Name: VehicleType, dtype: int64\n",
      "0\n"
     ]
    }
   ],
   "source": [
    "new_data['VehicleType'] = new_data['VehicleType'].fillna('unknown')\n",
    "print(new_data['VehicleType'].value_counts())\n",
    "print(new_data['VehicleType'].isna().sum())"
   ]
  },
  {
   "cell_type": "markdown",
   "metadata": {},
   "source": [
    "Коробка передач. "
   ]
  },
  {
   "cell_type": "code",
   "execution_count": 15,
   "metadata": {},
   "outputs": [
    {
     "name": "stdout",
     "output_type": "stream",
     "text": [
      "manual    212672\n",
      "auto       54883\n",
      "Name: Gearbox, dtype: int64\n",
      "4139\n"
     ]
    },
    {
     "data": {
      "text/html": [
       "<div>\n",
       "<style scoped>\n",
       "    .dataframe tbody tr th:only-of-type {\n",
       "        vertical-align: middle;\n",
       "    }\n",
       "\n",
       "    .dataframe tbody tr th {\n",
       "        vertical-align: top;\n",
       "    }\n",
       "\n",
       "    .dataframe thead th {\n",
       "        text-align: right;\n",
       "    }\n",
       "</style>\n",
       "<table border=\"1\" class=\"dataframe\">\n",
       "  <thead>\n",
       "    <tr style=\"text-align: right;\">\n",
       "      <th></th>\n",
       "      <th>Price</th>\n",
       "      <th>VehicleType</th>\n",
       "      <th>RegistrationYear</th>\n",
       "      <th>Gearbox</th>\n",
       "      <th>Power</th>\n",
       "      <th>Model</th>\n",
       "      <th>Kilometer</th>\n",
       "      <th>FuelType</th>\n",
       "      <th>Brand</th>\n",
       "      <th>Repaired</th>\n",
       "    </tr>\n",
       "  </thead>\n",
       "  <tbody>\n",
       "    <tr>\n",
       "      <th>151</th>\n",
       "      <td>6799</td>\n",
       "      <td>small</td>\n",
       "      <td>2009</td>\n",
       "      <td>NaN</td>\n",
       "      <td>60</td>\n",
       "      <td>NaN</td>\n",
       "      <td>20000</td>\n",
       "      <td>petrol</td>\n",
       "      <td>volkswagen</td>\n",
       "      <td>no</td>\n",
       "    </tr>\n",
       "    <tr>\n",
       "      <th>161</th>\n",
       "      <td>1495</td>\n",
       "      <td>wagon</td>\n",
       "      <td>2001</td>\n",
       "      <td>NaN</td>\n",
       "      <td>64</td>\n",
       "      <td>NaN</td>\n",
       "      <td>150000</td>\n",
       "      <td>gasoline</td>\n",
       "      <td>volkswagen</td>\n",
       "      <td>NaN</td>\n",
       "    </tr>\n",
       "    <tr>\n",
       "      <th>186</th>\n",
       "      <td>14000</td>\n",
       "      <td>sedan</td>\n",
       "      <td>2008</td>\n",
       "      <td>NaN</td>\n",
       "      <td>235</td>\n",
       "      <td>NaN</td>\n",
       "      <td>150000</td>\n",
       "      <td>NaN</td>\n",
       "      <td>bmw</td>\n",
       "      <td>no</td>\n",
       "    </tr>\n",
       "    <tr>\n",
       "      <th>233</th>\n",
       "      <td>3750</td>\n",
       "      <td>unknown</td>\n",
       "      <td>2005</td>\n",
       "      <td>NaN</td>\n",
       "      <td>75</td>\n",
       "      <td>golf</td>\n",
       "      <td>150000</td>\n",
       "      <td>NaN</td>\n",
       "      <td>volkswagen</td>\n",
       "      <td>NaN</td>\n",
       "    </tr>\n",
       "    <tr>\n",
       "      <th>276</th>\n",
       "      <td>2400</td>\n",
       "      <td>convertible</td>\n",
       "      <td>2001</td>\n",
       "      <td>NaN</td>\n",
       "      <td>115</td>\n",
       "      <td>golf</td>\n",
       "      <td>150000</td>\n",
       "      <td>petrol</td>\n",
       "      <td>volkswagen</td>\n",
       "      <td>no</td>\n",
       "    </tr>\n",
       "    <tr>\n",
       "      <th>...</th>\n",
       "      <td>...</td>\n",
       "      <td>...</td>\n",
       "      <td>...</td>\n",
       "      <td>...</td>\n",
       "      <td>...</td>\n",
       "      <td>...</td>\n",
       "      <td>...</td>\n",
       "      <td>...</td>\n",
       "      <td>...</td>\n",
       "      <td>...</td>\n",
       "    </tr>\n",
       "    <tr>\n",
       "      <th>353557</th>\n",
       "      <td>680</td>\n",
       "      <td>wagon</td>\n",
       "      <td>1998</td>\n",
       "      <td>NaN</td>\n",
       "      <td>120</td>\n",
       "      <td>passat</td>\n",
       "      <td>150000</td>\n",
       "      <td>petrol</td>\n",
       "      <td>volkswagen</td>\n",
       "      <td>NaN</td>\n",
       "    </tr>\n",
       "    <tr>\n",
       "      <th>353653</th>\n",
       "      <td>999</td>\n",
       "      <td>unknown</td>\n",
       "      <td>2016</td>\n",
       "      <td>NaN</td>\n",
       "      <td>125</td>\n",
       "      <td>a3</td>\n",
       "      <td>150000</td>\n",
       "      <td>NaN</td>\n",
       "      <td>audi</td>\n",
       "      <td>NaN</td>\n",
       "    </tr>\n",
       "    <tr>\n",
       "      <th>353664</th>\n",
       "      <td>2350</td>\n",
       "      <td>sedan</td>\n",
       "      <td>2002</td>\n",
       "      <td>NaN</td>\n",
       "      <td>75</td>\n",
       "      <td>golf</td>\n",
       "      <td>125000</td>\n",
       "      <td>NaN</td>\n",
       "      <td>volkswagen</td>\n",
       "      <td>NaN</td>\n",
       "    </tr>\n",
       "    <tr>\n",
       "      <th>353892</th>\n",
       "      <td>7900</td>\n",
       "      <td>bus</td>\n",
       "      <td>2009</td>\n",
       "      <td>NaN</td>\n",
       "      <td>140</td>\n",
       "      <td>NaN</td>\n",
       "      <td>125000</td>\n",
       "      <td>gasoline</td>\n",
       "      <td>sonstige_autos</td>\n",
       "      <td>no</td>\n",
       "    </tr>\n",
       "    <tr>\n",
       "      <th>354285</th>\n",
       "      <td>3500</td>\n",
       "      <td>small</td>\n",
       "      <td>2001</td>\n",
       "      <td>NaN</td>\n",
       "      <td>75</td>\n",
       "      <td>corsa</td>\n",
       "      <td>90000</td>\n",
       "      <td>petrol</td>\n",
       "      <td>opel</td>\n",
       "      <td>no</td>\n",
       "    </tr>\n",
       "  </tbody>\n",
       "</table>\n",
       "<p>4139 rows × 10 columns</p>\n",
       "</div>"
      ],
      "text/plain": [
       "        Price  VehicleType  RegistrationYear Gearbox  Power   Model  \\\n",
       "151      6799        small              2009     NaN     60     NaN   \n",
       "161      1495        wagon              2001     NaN     64     NaN   \n",
       "186     14000        sedan              2008     NaN    235     NaN   \n",
       "233      3750      unknown              2005     NaN     75    golf   \n",
       "276      2400  convertible              2001     NaN    115    golf   \n",
       "...       ...          ...               ...     ...    ...     ...   \n",
       "353557    680        wagon              1998     NaN    120  passat   \n",
       "353653    999      unknown              2016     NaN    125      a3   \n",
       "353664   2350        sedan              2002     NaN     75    golf   \n",
       "353892   7900          bus              2009     NaN    140     NaN   \n",
       "354285   3500        small              2001     NaN     75   corsa   \n",
       "\n",
       "        Kilometer  FuelType           Brand Repaired  \n",
       "151         20000    petrol      volkswagen       no  \n",
       "161        150000  gasoline      volkswagen      NaN  \n",
       "186        150000       NaN             bmw       no  \n",
       "233        150000       NaN      volkswagen      NaN  \n",
       "276        150000    petrol      volkswagen       no  \n",
       "...           ...       ...             ...      ...  \n",
       "353557     150000    petrol      volkswagen      NaN  \n",
       "353653     150000       NaN            audi      NaN  \n",
       "353664     125000       NaN      volkswagen      NaN  \n",
       "353892     125000  gasoline  sonstige_autos       no  \n",
       "354285      90000    petrol            opel       no  \n",
       "\n",
       "[4139 rows x 10 columns]"
      ]
     },
     "metadata": {},
     "output_type": "display_data"
    }
   ],
   "source": [
    "print(new_data['Gearbox'].value_counts())\n",
    "print(new_data['Gearbox'].isna().sum())\n",
    "display(new_data.query('Gearbox.isna()'))"
   ]
  },
  {
   "cell_type": "code",
   "execution_count": 16,
   "metadata": {},
   "outputs": [
    {
     "name": "stdout",
     "output_type": "stream",
     "text": [
      "manual     212672\n",
      "auto        54883\n",
      "unknown      4139\n",
      "Name: Gearbox, dtype: int64\n"
     ]
    }
   ],
   "source": [
    "new_data['Gearbox'] = new_data['Gearbox'].fillna('unknown')\n",
    "print(new_data['Gearbox'].value_counts())"
   ]
  },
  {
   "cell_type": "markdown",
   "metadata": {},
   "source": [
    "Здесь также есть пропуски, заполним их тем же способом. В остальном, все КПП разделены на автоматические и механические. Механических в среднем в 4 раза больше."
   ]
  },
  {
   "cell_type": "markdown",
   "metadata": {},
   "source": [
    "Модель."
   ]
  },
  {
   "cell_type": "code",
   "execution_count": 17,
   "metadata": {},
   "outputs": [
    {
     "name": "stdout",
     "output_type": "stream",
     "text": [
      "golf                  23062\n",
      "other                 17685\n",
      "3er                   16830\n",
      "polo                   8728\n",
      "a4                     8522\n",
      "                      ...  \n",
      "samara                    3\n",
      "serie_2                   2\n",
      "rangerover                2\n",
      "range_rover_evoque        2\n",
      "601                       1\n",
      "Name: Model, Length: 248, dtype: int64\n",
      "248\n",
      "8829\n"
     ]
    },
    {
     "data": {
      "text/html": [
       "<div>\n",
       "<style scoped>\n",
       "    .dataframe tbody tr th:only-of-type {\n",
       "        vertical-align: middle;\n",
       "    }\n",
       "\n",
       "    .dataframe tbody tr th {\n",
       "        vertical-align: top;\n",
       "    }\n",
       "\n",
       "    .dataframe thead th {\n",
       "        text-align: right;\n",
       "    }\n",
       "</style>\n",
       "<table border=\"1\" class=\"dataframe\">\n",
       "  <thead>\n",
       "    <tr style=\"text-align: right;\">\n",
       "      <th></th>\n",
       "      <th>Price</th>\n",
       "      <th>VehicleType</th>\n",
       "      <th>RegistrationYear</th>\n",
       "      <th>Gearbox</th>\n",
       "      <th>Power</th>\n",
       "      <th>Model</th>\n",
       "      <th>Kilometer</th>\n",
       "      <th>FuelType</th>\n",
       "      <th>Brand</th>\n",
       "      <th>Repaired</th>\n",
       "    </tr>\n",
       "  </thead>\n",
       "  <tbody>\n",
       "    <tr>\n",
       "      <th>1</th>\n",
       "      <td>18300</td>\n",
       "      <td>coupe</td>\n",
       "      <td>2011</td>\n",
       "      <td>manual</td>\n",
       "      <td>190</td>\n",
       "      <td>NaN</td>\n",
       "      <td>125000</td>\n",
       "      <td>gasoline</td>\n",
       "      <td>audi</td>\n",
       "      <td>yes</td>\n",
       "    </tr>\n",
       "    <tr>\n",
       "      <th>135</th>\n",
       "      <td>1450</td>\n",
       "      <td>sedan</td>\n",
       "      <td>1992</td>\n",
       "      <td>manual</td>\n",
       "      <td>136</td>\n",
       "      <td>NaN</td>\n",
       "      <td>150000</td>\n",
       "      <td>NaN</td>\n",
       "      <td>audi</td>\n",
       "      <td>no</td>\n",
       "    </tr>\n",
       "    <tr>\n",
       "      <th>151</th>\n",
       "      <td>6799</td>\n",
       "      <td>small</td>\n",
       "      <td>2009</td>\n",
       "      <td>unknown</td>\n",
       "      <td>60</td>\n",
       "      <td>NaN</td>\n",
       "      <td>20000</td>\n",
       "      <td>petrol</td>\n",
       "      <td>volkswagen</td>\n",
       "      <td>no</td>\n",
       "    </tr>\n",
       "    <tr>\n",
       "      <th>161</th>\n",
       "      <td>1495</td>\n",
       "      <td>wagon</td>\n",
       "      <td>2001</td>\n",
       "      <td>unknown</td>\n",
       "      <td>64</td>\n",
       "      <td>NaN</td>\n",
       "      <td>150000</td>\n",
       "      <td>gasoline</td>\n",
       "      <td>volkswagen</td>\n",
       "      <td>NaN</td>\n",
       "    </tr>\n",
       "    <tr>\n",
       "      <th>186</th>\n",
       "      <td>14000</td>\n",
       "      <td>sedan</td>\n",
       "      <td>2008</td>\n",
       "      <td>unknown</td>\n",
       "      <td>235</td>\n",
       "      <td>NaN</td>\n",
       "      <td>150000</td>\n",
       "      <td>NaN</td>\n",
       "      <td>bmw</td>\n",
       "      <td>no</td>\n",
       "    </tr>\n",
       "    <tr>\n",
       "      <th>...</th>\n",
       "      <td>...</td>\n",
       "      <td>...</td>\n",
       "      <td>...</td>\n",
       "      <td>...</td>\n",
       "      <td>...</td>\n",
       "      <td>...</td>\n",
       "      <td>...</td>\n",
       "      <td>...</td>\n",
       "      <td>...</td>\n",
       "      <td>...</td>\n",
       "    </tr>\n",
       "    <tr>\n",
       "      <th>354062</th>\n",
       "      <td>6000</td>\n",
       "      <td>small</td>\n",
       "      <td>2008</td>\n",
       "      <td>manual</td>\n",
       "      <td>155</td>\n",
       "      <td>NaN</td>\n",
       "      <td>150000</td>\n",
       "      <td>petrol</td>\n",
       "      <td>sonstige_autos</td>\n",
       "      <td>no</td>\n",
       "    </tr>\n",
       "    <tr>\n",
       "      <th>354234</th>\n",
       "      <td>5000</td>\n",
       "      <td>sedan</td>\n",
       "      <td>2002</td>\n",
       "      <td>auto</td>\n",
       "      <td>170</td>\n",
       "      <td>NaN</td>\n",
       "      <td>150000</td>\n",
       "      <td>petrol</td>\n",
       "      <td>audi</td>\n",
       "      <td>no</td>\n",
       "    </tr>\n",
       "    <tr>\n",
       "      <th>354245</th>\n",
       "      <td>560</td>\n",
       "      <td>small</td>\n",
       "      <td>2001</td>\n",
       "      <td>auto</td>\n",
       "      <td>170</td>\n",
       "      <td>NaN</td>\n",
       "      <td>90000</td>\n",
       "      <td>petrol</td>\n",
       "      <td>fiat</td>\n",
       "      <td>yes</td>\n",
       "    </tr>\n",
       "    <tr>\n",
       "      <th>354321</th>\n",
       "      <td>9400</td>\n",
       "      <td>wagon</td>\n",
       "      <td>2007</td>\n",
       "      <td>manual</td>\n",
       "      <td>200</td>\n",
       "      <td>NaN</td>\n",
       "      <td>150000</td>\n",
       "      <td>gasoline</td>\n",
       "      <td>sonstige_autos</td>\n",
       "      <td>yes</td>\n",
       "    </tr>\n",
       "    <tr>\n",
       "      <th>354351</th>\n",
       "      <td>1900</td>\n",
       "      <td>unknown</td>\n",
       "      <td>2000</td>\n",
       "      <td>manual</td>\n",
       "      <td>110</td>\n",
       "      <td>NaN</td>\n",
       "      <td>150000</td>\n",
       "      <td>NaN</td>\n",
       "      <td>volkswagen</td>\n",
       "      <td>no</td>\n",
       "    </tr>\n",
       "  </tbody>\n",
       "</table>\n",
       "<p>8829 rows × 10 columns</p>\n",
       "</div>"
      ],
      "text/plain": [
       "        Price VehicleType  RegistrationYear  Gearbox  Power Model  Kilometer  \\\n",
       "1       18300       coupe              2011   manual    190   NaN     125000   \n",
       "135      1450       sedan              1992   manual    136   NaN     150000   \n",
       "151      6799       small              2009  unknown     60   NaN      20000   \n",
       "161      1495       wagon              2001  unknown     64   NaN     150000   \n",
       "186     14000       sedan              2008  unknown    235   NaN     150000   \n",
       "...       ...         ...               ...      ...    ...   ...        ...   \n",
       "354062   6000       small              2008   manual    155   NaN     150000   \n",
       "354234   5000       sedan              2002     auto    170   NaN     150000   \n",
       "354245    560       small              2001     auto    170   NaN      90000   \n",
       "354321   9400       wagon              2007   manual    200   NaN     150000   \n",
       "354351   1900     unknown              2000   manual    110   NaN     150000   \n",
       "\n",
       "        FuelType           Brand Repaired  \n",
       "1       gasoline            audi      yes  \n",
       "135          NaN            audi       no  \n",
       "151       petrol      volkswagen       no  \n",
       "161     gasoline      volkswagen      NaN  \n",
       "186          NaN             bmw       no  \n",
       "...          ...             ...      ...  \n",
       "354062    petrol  sonstige_autos       no  \n",
       "354234    petrol            audi       no  \n",
       "354245    petrol            fiat      yes  \n",
       "354321  gasoline  sonstige_autos      yes  \n",
       "354351       NaN      volkswagen       no  \n",
       "\n",
       "[8829 rows x 10 columns]"
      ]
     },
     "metadata": {},
     "output_type": "display_data"
    }
   ],
   "source": [
    "print(new_data['Model'].value_counts())\n",
    "print(new_data['Model'].value_counts().count())\n",
    "print(new_data['Model'].isna().sum())\n",
    "display(new_data.query('Model.isna()'))"
   ]
  },
  {
   "cell_type": "markdown",
   "metadata": {},
   "source": [
    "Всего 248 моделей, самая популярная - Гольф. Также есть около 10000 пропусков. Их следует удалить, так как без модели сложно корректно рассчитать цену автомобиля."
   ]
  },
  {
   "cell_type": "code",
   "execution_count": 18,
   "metadata": {},
   "outputs": [
    {
     "name": "stdout",
     "output_type": "stream",
     "text": [
      "0\n"
     ]
    }
   ],
   "source": [
    "new_data.dropna(subset=['Model'], inplace=True)\n",
    "print(new_data['Model'].isna().sum())"
   ]
  },
  {
   "cell_type": "markdown",
   "metadata": {},
   "source": [
    "Вид топлива."
   ]
  },
  {
   "cell_type": "code",
   "execution_count": 19,
   "metadata": {},
   "outputs": [
    {
     "name": "stdout",
     "output_type": "stream",
     "text": [
      "petrol      163532\n",
      "gasoline     84336\n",
      "lpg           4154\n",
      "cng            450\n",
      "hybrid         178\n",
      "other           39\n",
      "electric        27\n",
      "Name: FuelType, dtype: int64\n",
      "10149\n"
     ]
    }
   ],
   "source": [
    "print(new_data['FuelType'].value_counts())\n",
    "print(new_data['FuelType'].isna().sum())"
   ]
  },
  {
   "cell_type": "markdown",
   "metadata": {},
   "source": [
    "Заполним пропуски \"заглушкой\". В целом, есть 7 видов силовых установок, но 2 категории наиболее популярны с большим отрывом."
   ]
  },
  {
   "cell_type": "code",
   "execution_count": 20,
   "metadata": {},
   "outputs": [
    {
     "name": "stdout",
     "output_type": "stream",
     "text": [
      "petrol      163532\n",
      "gasoline     84336\n",
      "unknown      10149\n",
      "lpg           4154\n",
      "cng            450\n",
      "hybrid         178\n",
      "other           39\n",
      "electric        27\n",
      "Name: FuelType, dtype: int64\n"
     ]
    }
   ],
   "source": [
    "new_data['FuelType'] = new_data['FuelType'].fillna('unknown')\n",
    "print(new_data['FuelType'].value_counts())"
   ]
  },
  {
   "cell_type": "markdown",
   "metadata": {},
   "source": [
    "Бренд. "
   ]
  },
  {
   "cell_type": "code",
   "execution_count": 21,
   "metadata": {},
   "outputs": [
    {
     "name": "stdout",
     "output_type": "stream",
     "text": [
      "volkswagen       57330\n",
      "bmw              29995\n",
      "opel             27239\n",
      "mercedes_benz    25740\n",
      "audi             23733\n",
      "ford             17720\n",
      "renault          11946\n",
      "peugeot           8243\n",
      "fiat              6327\n",
      "seat              5304\n",
      "skoda             4780\n",
      "mazda             4256\n",
      "toyota            3863\n",
      "citroen           3783\n",
      "nissan            3596\n",
      "smart             3511\n",
      "hyundai           2905\n",
      "mini              2895\n",
      "volvo             2572\n",
      "honda             2160\n",
      "mitsubishi        2141\n",
      "kia               1964\n",
      "alfa_romeo        1762\n",
      "suzuki            1739\n",
      "chevrolet         1305\n",
      "chrysler          1028\n",
      "dacia              786\n",
      "subaru             557\n",
      "jeep               526\n",
      "daihatsu           460\n",
      "saab               439\n",
      "land_rover         436\n",
      "porsche            409\n",
      "jaguar             384\n",
      "daewoo             311\n",
      "lancia             309\n",
      "rover              273\n",
      "lada               134\n",
      "trabant              4\n",
      "Name: Brand, dtype: int64\n",
      "0\n"
     ]
    }
   ],
   "source": [
    "print(new_data['Brand'].value_counts())\n",
    "print(new_data['Brand'].isna().sum())"
   ]
  },
  {
   "cell_type": "markdown",
   "metadata": {},
   "source": [
    "Здесь нет пропусков, корректировки не требуются. Самая популярная марка - фольксваген."
   ]
  },
  {
   "cell_type": "markdown",
   "metadata": {},
   "source": [
    "Повреждения. "
   ]
  },
  {
   "cell_type": "code",
   "execution_count": 22,
   "metadata": {},
   "outputs": [
    {
     "name": "stdout",
     "output_type": "stream",
     "text": [
      "no     208812\n",
      "yes     21524\n",
      "Name: Repaired, dtype: int64\n",
      "32529\n"
     ]
    }
   ],
   "source": [
    "print(new_data['Repaired'].value_counts())\n",
    "print(new_data['Repaired'].isna().sum())"
   ]
  },
  {
   "cell_type": "markdown",
   "metadata": {},
   "source": [
    "Здесь много пропусков, также заполним заглушкой. Авто либо повреждено, либо нет. Теперь будет еще вариант \"неизвестно\"."
   ]
  },
  {
   "cell_type": "code",
   "execution_count": 23,
   "metadata": {},
   "outputs": [
    {
     "name": "stdout",
     "output_type": "stream",
     "text": [
      "no         208812\n",
      "unknown     32529\n",
      "yes         21524\n",
      "Name: Repaired, dtype: int64\n"
     ]
    }
   ],
   "source": [
    "new_data['Repaired'] = new_data['Repaired'].fillna('unknown')\n",
    "print(new_data['Repaired'].value_counts())"
   ]
  },
  {
   "cell_type": "markdown",
   "metadata": {},
   "source": [
    "Заново рассмотрим корреляцию числовых признаков."
   ]
  },
  {
   "cell_type": "code",
   "execution_count": 24,
   "metadata": {},
   "outputs": [
    {
     "data": {
      "text/html": [
       "<div>\n",
       "<style scoped>\n",
       "    .dataframe tbody tr th:only-of-type {\n",
       "        vertical-align: middle;\n",
       "    }\n",
       "\n",
       "    .dataframe tbody tr th {\n",
       "        vertical-align: top;\n",
       "    }\n",
       "\n",
       "    .dataframe thead th {\n",
       "        text-align: right;\n",
       "    }\n",
       "</style>\n",
       "<table border=\"1\" class=\"dataframe\">\n",
       "  <thead>\n",
       "    <tr style=\"text-align: right;\">\n",
       "      <th></th>\n",
       "      <th>Price</th>\n",
       "      <th>RegistrationYear</th>\n",
       "      <th>Power</th>\n",
       "      <th>Kilometer</th>\n",
       "    </tr>\n",
       "  </thead>\n",
       "  <tbody>\n",
       "    <tr>\n",
       "      <th>Price</th>\n",
       "      <td>1.000000</td>\n",
       "      <td>0.587047</td>\n",
       "      <td>0.487865</td>\n",
       "      <td>-0.410645</td>\n",
       "    </tr>\n",
       "    <tr>\n",
       "      <th>RegistrationYear</th>\n",
       "      <td>0.587047</td>\n",
       "      <td>1.000000</td>\n",
       "      <td>0.101863</td>\n",
       "      <td>-0.407382</td>\n",
       "    </tr>\n",
       "    <tr>\n",
       "      <th>Power</th>\n",
       "      <td>0.487865</td>\n",
       "      <td>0.101863</td>\n",
       "      <td>1.000000</td>\n",
       "      <td>0.120368</td>\n",
       "    </tr>\n",
       "    <tr>\n",
       "      <th>Kilometer</th>\n",
       "      <td>-0.410645</td>\n",
       "      <td>-0.407382</td>\n",
       "      <td>0.120368</td>\n",
       "      <td>1.000000</td>\n",
       "    </tr>\n",
       "  </tbody>\n",
       "</table>\n",
       "</div>"
      ],
      "text/plain": [
       "                     Price  RegistrationYear     Power  Kilometer\n",
       "Price             1.000000          0.587047  0.487865  -0.410645\n",
       "RegistrationYear  0.587047          1.000000  0.101863  -0.407382\n",
       "Power             0.487865          0.101863  1.000000   0.120368\n",
       "Kilometer        -0.410645         -0.407382  0.120368   1.000000"
      ]
     },
     "metadata": {},
     "output_type": "display_data"
    }
   ],
   "source": [
    "display(new_data.corr())"
   ]
  },
  {
   "cell_type": "markdown",
   "metadata": {},
   "source": [
    "После внесенных изменений, зависимость стала намного выраженнее по всем числовым признакам."
   ]
  },
  {
   "cell_type": "markdown",
   "metadata": {},
   "source": [
    "Далее переходим к обучению моделей."
   ]
  },
  {
   "cell_type": "markdown",
   "metadata": {},
   "source": [
    "## Обучение моделей"
   ]
  },
  {
   "cell_type": "markdown",
   "metadata": {},
   "source": [
    "Разделим таблицу на признаки и целевые значения."
   ]
  },
  {
   "cell_type": "code",
   "execution_count": 25,
   "metadata": {},
   "outputs": [],
   "source": [
    "new_data=new_data.reset_index(drop=True)\n",
    "features = new_data.drop('Price', axis=1)\n",
    "target = new_data['Price']"
   ]
  },
  {
   "cell_type": "markdown",
   "metadata": {},
   "source": [
    "Разделим данные на тренировочные и тестовые"
   ]
  },
  {
   "cell_type": "code",
   "execution_count": 26,
   "metadata": {
    "scrolled": true
   },
   "outputs": [
    {
     "name": "stdout",
     "output_type": "stream",
     "text": [
      "(210292, 9)\n",
      "(52573, 9)\n",
      "(210292,)\n",
      "(52573,)\n"
     ]
    }
   ],
   "source": [
    "features_train, features_test, target_train, target_test = train_test_split(\n",
    "    features, target, test_size=0.20, random_state=state)\n",
    "print(features_train.shape)\n",
    "print(features_test.shape)\n",
    "print(target_train.shape)\n",
    "print(target_test.shape)"
   ]
  },
  {
   "cell_type": "code",
   "execution_count": null,
   "metadata": {},
   "outputs": [],
   "source": []
  },
  {
   "cell_type": "markdown",
   "metadata": {},
   "source": [
    "Нормализуем числовых признаки."
   ]
  },
  {
   "cell_type": "code",
   "execution_count": 27,
   "metadata": {},
   "outputs": [
    {
     "data": {
      "text/html": [
       "<div>\n",
       "<style scoped>\n",
       "    .dataframe tbody tr th:only-of-type {\n",
       "        vertical-align: middle;\n",
       "    }\n",
       "\n",
       "    .dataframe tbody tr th {\n",
       "        vertical-align: top;\n",
       "    }\n",
       "\n",
       "    .dataframe thead th {\n",
       "        text-align: right;\n",
       "    }\n",
       "</style>\n",
       "<table border=\"1\" class=\"dataframe\">\n",
       "  <thead>\n",
       "    <tr style=\"text-align: right;\">\n",
       "      <th></th>\n",
       "      <th>VehicleType</th>\n",
       "      <th>RegistrationYear</th>\n",
       "      <th>Gearbox</th>\n",
       "      <th>Power</th>\n",
       "      <th>Model</th>\n",
       "      <th>Kilometer</th>\n",
       "      <th>FuelType</th>\n",
       "      <th>Brand</th>\n",
       "      <th>Repaired</th>\n",
       "    </tr>\n",
       "  </thead>\n",
       "  <tbody>\n",
       "    <tr>\n",
       "      <th>73224</th>\n",
       "      <td>sedan</td>\n",
       "      <td>-0.602932</td>\n",
       "      <td>manual</td>\n",
       "      <td>-0.128958</td>\n",
       "      <td>beetle</td>\n",
       "      <td>0.602786</td>\n",
       "      <td>petrol</td>\n",
       "      <td>volkswagen</td>\n",
       "      <td>no</td>\n",
       "    </tr>\n",
       "    <tr>\n",
       "      <th>18269</th>\n",
       "      <td>convertible</td>\n",
       "      <td>-0.427582</td>\n",
       "      <td>manual</td>\n",
       "      <td>-0.252041</td>\n",
       "      <td>golf</td>\n",
       "      <td>0.602786</td>\n",
       "      <td>petrol</td>\n",
       "      <td>volkswagen</td>\n",
       "      <td>no</td>\n",
       "    </tr>\n",
       "    <tr>\n",
       "      <th>2332</th>\n",
       "      <td>wagon</td>\n",
       "      <td>-1.304332</td>\n",
       "      <td>manual</td>\n",
       "      <td>-0.149472</td>\n",
       "      <td>vectra</td>\n",
       "      <td>0.602786</td>\n",
       "      <td>petrol</td>\n",
       "      <td>opel</td>\n",
       "      <td>no</td>\n",
       "    </tr>\n",
       "    <tr>\n",
       "      <th>94198</th>\n",
       "      <td>small</td>\n",
       "      <td>-0.602932</td>\n",
       "      <td>manual</td>\n",
       "      <td>-0.662318</td>\n",
       "      <td>almera</td>\n",
       "      <td>0.602786</td>\n",
       "      <td>unknown</td>\n",
       "      <td>nissan</td>\n",
       "      <td>unknown</td>\n",
       "    </tr>\n",
       "    <tr>\n",
       "      <th>106827</th>\n",
       "      <td>coupe</td>\n",
       "      <td>-0.778282</td>\n",
       "      <td>manual</td>\n",
       "      <td>0.978791</td>\n",
       "      <td>3er</td>\n",
       "      <td>0.602786</td>\n",
       "      <td>petrol</td>\n",
       "      <td>bmw</td>\n",
       "      <td>no</td>\n",
       "    </tr>\n",
       "  </tbody>\n",
       "</table>\n",
       "</div>"
      ],
      "text/plain": [
       "        VehicleType  RegistrationYear Gearbox     Power   Model  Kilometer  \\\n",
       "73224         sedan         -0.602932  manual -0.128958  beetle   0.602786   \n",
       "18269   convertible         -0.427582  manual -0.252041    golf   0.602786   \n",
       "2332          wagon         -1.304332  manual -0.149472  vectra   0.602786   \n",
       "94198         small         -0.602932  manual -0.662318  almera   0.602786   \n",
       "106827        coupe         -0.778282  manual  0.978791     3er   0.602786   \n",
       "\n",
       "       FuelType       Brand Repaired  \n",
       "73224    petrol  volkswagen       no  \n",
       "18269    petrol  volkswagen       no  \n",
       "2332     petrol        opel       no  \n",
       "94198   unknown      nissan  unknown  \n",
       "106827   petrol         bmw       no  "
      ]
     },
     "metadata": {},
     "output_type": "display_data"
    },
    {
     "data": {
      "text/html": [
       "<div>\n",
       "<style scoped>\n",
       "    .dataframe tbody tr th:only-of-type {\n",
       "        vertical-align: middle;\n",
       "    }\n",
       "\n",
       "    .dataframe tbody tr th {\n",
       "        vertical-align: top;\n",
       "    }\n",
       "\n",
       "    .dataframe thead th {\n",
       "        text-align: right;\n",
       "    }\n",
       "</style>\n",
       "<table border=\"1\" class=\"dataframe\">\n",
       "  <thead>\n",
       "    <tr style=\"text-align: right;\">\n",
       "      <th></th>\n",
       "      <th>VehicleType</th>\n",
       "      <th>RegistrationYear</th>\n",
       "      <th>Gearbox</th>\n",
       "      <th>Power</th>\n",
       "      <th>Model</th>\n",
       "      <th>Kilometer</th>\n",
       "      <th>FuelType</th>\n",
       "      <th>Brand</th>\n",
       "      <th>Repaired</th>\n",
       "    </tr>\n",
       "  </thead>\n",
       "  <tbody>\n",
       "    <tr>\n",
       "      <th>2471</th>\n",
       "      <td>sedan</td>\n",
       "      <td>0.098468</td>\n",
       "      <td>manual</td>\n",
       "      <td>0.465945</td>\n",
       "      <td>mondeo</td>\n",
       "      <td>0.602786</td>\n",
       "      <td>petrol</td>\n",
       "      <td>ford</td>\n",
       "      <td>no</td>\n",
       "    </tr>\n",
       "    <tr>\n",
       "      <th>105070</th>\n",
       "      <td>bus</td>\n",
       "      <td>0.799869</td>\n",
       "      <td>auto</td>\n",
       "      <td>0.281320</td>\n",
       "      <td>b_klasse</td>\n",
       "      <td>-0.079903</td>\n",
       "      <td>petrol</td>\n",
       "      <td>mercedes_benz</td>\n",
       "      <td>no</td>\n",
       "    </tr>\n",
       "    <tr>\n",
       "      <th>172741</th>\n",
       "      <td>coupe</td>\n",
       "      <td>-2.882483</td>\n",
       "      <td>manual</td>\n",
       "      <td>-0.559749</td>\n",
       "      <td>scirocco</td>\n",
       "      <td>0.602786</td>\n",
       "      <td>petrol</td>\n",
       "      <td>volkswagen</td>\n",
       "      <td>no</td>\n",
       "    </tr>\n",
       "    <tr>\n",
       "      <th>179950</th>\n",
       "      <td>unknown</td>\n",
       "      <td>2.202669</td>\n",
       "      <td>auto</td>\n",
       "      <td>-1.277734</td>\n",
       "      <td>polo</td>\n",
       "      <td>0.602786</td>\n",
       "      <td>petrol</td>\n",
       "      <td>volkswagen</td>\n",
       "      <td>unknown</td>\n",
       "    </tr>\n",
       "    <tr>\n",
       "      <th>110040</th>\n",
       "      <td>small</td>\n",
       "      <td>-0.427582</td>\n",
       "      <td>manual</td>\n",
       "      <td>-0.128958</td>\n",
       "      <td>cooper</td>\n",
       "      <td>0.602786</td>\n",
       "      <td>petrol</td>\n",
       "      <td>mini</td>\n",
       "      <td>no</td>\n",
       "    </tr>\n",
       "  </tbody>\n",
       "</table>\n",
       "</div>"
      ],
      "text/plain": [
       "       VehicleType  RegistrationYear Gearbox     Power     Model  Kilometer  \\\n",
       "2471         sedan          0.098468  manual  0.465945    mondeo   0.602786   \n",
       "105070         bus          0.799869    auto  0.281320  b_klasse  -0.079903   \n",
       "172741       coupe         -2.882483  manual -0.559749  scirocco   0.602786   \n",
       "179950     unknown          2.202669    auto -1.277734      polo   0.602786   \n",
       "110040       small         -0.427582  manual -0.128958    cooper   0.602786   \n",
       "\n",
       "       FuelType          Brand Repaired  \n",
       "2471     petrol           ford       no  \n",
       "105070   petrol  mercedes_benz       no  \n",
       "172741   petrol     volkswagen       no  \n",
       "179950   petrol     volkswagen  unknown  \n",
       "110040   petrol           mini       no  "
      ]
     },
     "metadata": {},
     "output_type": "display_data"
    },
    {
     "name": "stdout",
     "output_type": "stream",
     "text": [
      "(210292, 9)\n",
      "(52573, 9)\n",
      "(210292,)\n",
      "(52573,)\n"
     ]
    }
   ],
   "source": [
    "numeric=['RegistrationYear','Power','Kilometer']\n",
    "scaler=StandardScaler()\n",
    "scaler.fit(features_train[numeric])\n",
    "\n",
    "features_train[numeric]=scaler.transform(features_train[numeric])\n",
    "features_test[numeric]=scaler.transform(features_test[numeric])\n",
    "\n",
    "display(features_train.head())\n",
    "display(features_test.head())\n",
    "print(features_train.shape)\n",
    "print(features_test.shape)\n",
    "print(target_train.shape)\n",
    "print(target_test.shape)"
   ]
  },
  {
   "cell_type": "markdown",
   "metadata": {},
   "source": [
    "Отдельно возьмем качественные признаки и проведем прямое кодирование, которое улучшит работу моделей дерева, леса и пр."
   ]
  },
  {
   "cell_type": "code",
   "execution_count": 28,
   "metadata": {},
   "outputs": [
    {
     "data": {
      "text/html": [
       "<div>\n",
       "<style scoped>\n",
       "    .dataframe tbody tr th:only-of-type {\n",
       "        vertical-align: middle;\n",
       "    }\n",
       "\n",
       "    .dataframe tbody tr th {\n",
       "        vertical-align: top;\n",
       "    }\n",
       "\n",
       "    .dataframe thead th {\n",
       "        text-align: right;\n",
       "    }\n",
       "</style>\n",
       "<table border=\"1\" class=\"dataframe\">\n",
       "  <thead>\n",
       "    <tr style=\"text-align: right;\">\n",
       "      <th></th>\n",
       "      <th>VehicleType</th>\n",
       "      <th>RegistrationYear</th>\n",
       "      <th>Gearbox</th>\n",
       "      <th>Power</th>\n",
       "      <th>Model</th>\n",
       "      <th>Kilometer</th>\n",
       "      <th>FuelType</th>\n",
       "      <th>Brand</th>\n",
       "      <th>Repaired</th>\n",
       "    </tr>\n",
       "  </thead>\n",
       "  <tbody>\n",
       "    <tr>\n",
       "      <th>73224</th>\n",
       "      <td>4.0</td>\n",
       "      <td>-0.602932</td>\n",
       "      <td>1.0</td>\n",
       "      <td>-0.128958</td>\n",
       "      <td>49.0</td>\n",
       "      <td>0.602786</td>\n",
       "      <td>6.0</td>\n",
       "      <td>37.0</td>\n",
       "      <td>0.0</td>\n",
       "    </tr>\n",
       "    <tr>\n",
       "      <th>18269</th>\n",
       "      <td>1.0</td>\n",
       "      <td>-0.427582</td>\n",
       "      <td>1.0</td>\n",
       "      <td>-0.252041</td>\n",
       "      <td>116.0</td>\n",
       "      <td>0.602786</td>\n",
       "      <td>6.0</td>\n",
       "      <td>37.0</td>\n",
       "      <td>0.0</td>\n",
       "    </tr>\n",
       "    <tr>\n",
       "      <th>2332</th>\n",
       "      <td>8.0</td>\n",
       "      <td>-1.304332</td>\n",
       "      <td>1.0</td>\n",
       "      <td>-0.149472</td>\n",
       "      <td>232.0</td>\n",
       "      <td>0.602786</td>\n",
       "      <td>6.0</td>\n",
       "      <td>24.0</td>\n",
       "      <td>0.0</td>\n",
       "    </tr>\n",
       "    <tr>\n",
       "      <th>94198</th>\n",
       "      <td>5.0</td>\n",
       "      <td>-0.602932</td>\n",
       "      <td>1.0</td>\n",
       "      <td>-0.662318</td>\n",
       "      <td>37.0</td>\n",
       "      <td>0.602786</td>\n",
       "      <td>7.0</td>\n",
       "      <td>23.0</td>\n",
       "      <td>1.0</td>\n",
       "    </tr>\n",
       "    <tr>\n",
       "      <th>106827</th>\n",
       "      <td>2.0</td>\n",
       "      <td>-0.778282</td>\n",
       "      <td>1.0</td>\n",
       "      <td>0.978791</td>\n",
       "      <td>11.0</td>\n",
       "      <td>0.602786</td>\n",
       "      <td>6.0</td>\n",
       "      <td>2.0</td>\n",
       "      <td>0.0</td>\n",
       "    </tr>\n",
       "  </tbody>\n",
       "</table>\n",
       "</div>"
      ],
      "text/plain": [
       "        VehicleType  RegistrationYear  Gearbox     Power  Model  Kilometer  \\\n",
       "73224           4.0         -0.602932      1.0 -0.128958   49.0   0.602786   \n",
       "18269           1.0         -0.427582      1.0 -0.252041  116.0   0.602786   \n",
       "2332            8.0         -1.304332      1.0 -0.149472  232.0   0.602786   \n",
       "94198           5.0         -0.602932      1.0 -0.662318   37.0   0.602786   \n",
       "106827          2.0         -0.778282      1.0  0.978791   11.0   0.602786   \n",
       "\n",
       "        FuelType  Brand  Repaired  \n",
       "73224        6.0   37.0       0.0  \n",
       "18269        6.0   37.0       0.0  \n",
       "2332         6.0   24.0       0.0  \n",
       "94198        7.0   23.0       1.0  \n",
       "106827       6.0    2.0       0.0  "
      ]
     },
     "metadata": {},
     "output_type": "display_data"
    },
    {
     "name": "stdout",
     "output_type": "stream",
     "text": [
      "(210292, 9)\n",
      "(52573, 9)\n",
      "(210292,)\n",
      "(52573,)\n"
     ]
    },
    {
     "data": {
      "text/plain": [
       "VehicleType         0\n",
       "RegistrationYear    0\n",
       "Gearbox             0\n",
       "Power               0\n",
       "Model               0\n",
       "Kilometer           0\n",
       "FuelType            0\n",
       "Brand               0\n",
       "Repaired            0\n",
       "dtype: int64"
      ]
     },
     "metadata": {},
     "output_type": "display_data"
    },
    {
     "data": {
      "text/plain": [
       "VehicleType         0\n",
       "RegistrationYear    0\n",
       "Gearbox             0\n",
       "Power               0\n",
       "Model               0\n",
       "Kilometer           0\n",
       "FuelType            0\n",
       "Brand               0\n",
       "Repaired            0\n",
       "dtype: int64"
      ]
     },
     "metadata": {},
     "output_type": "display_data"
    },
    {
     "name": "stdout",
     "output_type": "stream",
     "text": [
      "Index(['VehicleType', 'RegistrationYear', 'Gearbox', 'Power', 'Model',\n",
      "       'Kilometer', 'FuelType', 'Brand', 'Repaired'],\n",
      "      dtype='object')\n",
      "Index(['VehicleType', 'RegistrationYear', 'Gearbox', 'Power', 'Model',\n",
      "       'Kilometer', 'FuelType', 'Brand', 'Repaired'],\n",
      "      dtype='object')\n"
     ]
    }
   ],
   "source": [
    "col=['VehicleType', 'Gearbox', 'Model',\n",
    "       'FuelType', 'Brand', 'Repaired']\n",
    "encoder = OrdinalEncoder()\n",
    "encoder.fit(features_train[col])\n",
    "features_train_oe=features_train.copy()\n",
    "features_train_oe[col]= pd.DataFrame(encoder.transform(features_train[col]), columns=encoder.feature_names_in_, index=features_train.index)\n",
    "display(features_train_oe.head())\n",
    "print(features_train_oe.shape)\n",
    "print(features_test.shape)\n",
    "print(target_train.shape)\n",
    "print(target_test.shape)\n",
    "display(features_train.isna().sum())\n",
    "display(features_train_oe.isna().sum())\n",
    "print(features_train.columns)\n",
    "print(features_train_oe.columns)"
   ]
  },
  {
   "cell_type": "markdown",
   "metadata": {},
   "source": [
    "Также для модели линейной регрессии проведем \"горячее\" кодирование признаков OHE."
   ]
  },
  {
   "cell_type": "code",
   "execution_count": 29,
   "metadata": {},
   "outputs": [
    {
     "data": {
      "text/html": [
       "<div>\n",
       "<style scoped>\n",
       "    .dataframe tbody tr th:only-of-type {\n",
       "        vertical-align: middle;\n",
       "    }\n",
       "\n",
       "    .dataframe tbody tr th {\n",
       "        vertical-align: top;\n",
       "    }\n",
       "\n",
       "    .dataframe thead th {\n",
       "        text-align: right;\n",
       "    }\n",
       "</style>\n",
       "<table border=\"1\" class=\"dataframe\">\n",
       "  <thead>\n",
       "    <tr style=\"text-align: right;\">\n",
       "      <th></th>\n",
       "      <th>RegistrationYear</th>\n",
       "      <th>Power</th>\n",
       "      <th>Kilometer</th>\n",
       "      <th>VehicleType_convertible</th>\n",
       "      <th>VehicleType_coupe</th>\n",
       "      <th>VehicleType_other</th>\n",
       "      <th>VehicleType_sedan</th>\n",
       "      <th>VehicleType_small</th>\n",
       "      <th>VehicleType_suv</th>\n",
       "      <th>VehicleType_unknown</th>\n",
       "      <th>...</th>\n",
       "      <th>Brand_skoda</th>\n",
       "      <th>Brand_smart</th>\n",
       "      <th>Brand_subaru</th>\n",
       "      <th>Brand_suzuki</th>\n",
       "      <th>Brand_toyota</th>\n",
       "      <th>Brand_trabant</th>\n",
       "      <th>Brand_volkswagen</th>\n",
       "      <th>Brand_volvo</th>\n",
       "      <th>Repaired_unknown</th>\n",
       "      <th>Repaired_yes</th>\n",
       "    </tr>\n",
       "  </thead>\n",
       "  <tbody>\n",
       "    <tr>\n",
       "      <th>73224</th>\n",
       "      <td>-0.602932</td>\n",
       "      <td>-0.128958</td>\n",
       "      <td>0.602786</td>\n",
       "      <td>0</td>\n",
       "      <td>0</td>\n",
       "      <td>0</td>\n",
       "      <td>1</td>\n",
       "      <td>0</td>\n",
       "      <td>0</td>\n",
       "      <td>0</td>\n",
       "      <td>...</td>\n",
       "      <td>0</td>\n",
       "      <td>0</td>\n",
       "      <td>0</td>\n",
       "      <td>0</td>\n",
       "      <td>0</td>\n",
       "      <td>0</td>\n",
       "      <td>1</td>\n",
       "      <td>0</td>\n",
       "      <td>0</td>\n",
       "      <td>0</td>\n",
       "    </tr>\n",
       "    <tr>\n",
       "      <th>18269</th>\n",
       "      <td>-0.427582</td>\n",
       "      <td>-0.252041</td>\n",
       "      <td>0.602786</td>\n",
       "      <td>1</td>\n",
       "      <td>0</td>\n",
       "      <td>0</td>\n",
       "      <td>0</td>\n",
       "      <td>0</td>\n",
       "      <td>0</td>\n",
       "      <td>0</td>\n",
       "      <td>...</td>\n",
       "      <td>0</td>\n",
       "      <td>0</td>\n",
       "      <td>0</td>\n",
       "      <td>0</td>\n",
       "      <td>0</td>\n",
       "      <td>0</td>\n",
       "      <td>1</td>\n",
       "      <td>0</td>\n",
       "      <td>0</td>\n",
       "      <td>0</td>\n",
       "    </tr>\n",
       "    <tr>\n",
       "      <th>2332</th>\n",
       "      <td>-1.304332</td>\n",
       "      <td>-0.149472</td>\n",
       "      <td>0.602786</td>\n",
       "      <td>0</td>\n",
       "      <td>0</td>\n",
       "      <td>0</td>\n",
       "      <td>0</td>\n",
       "      <td>0</td>\n",
       "      <td>0</td>\n",
       "      <td>0</td>\n",
       "      <td>...</td>\n",
       "      <td>0</td>\n",
       "      <td>0</td>\n",
       "      <td>0</td>\n",
       "      <td>0</td>\n",
       "      <td>0</td>\n",
       "      <td>0</td>\n",
       "      <td>0</td>\n",
       "      <td>0</td>\n",
       "      <td>0</td>\n",
       "      <td>0</td>\n",
       "    </tr>\n",
       "    <tr>\n",
       "      <th>94198</th>\n",
       "      <td>-0.602932</td>\n",
       "      <td>-0.662318</td>\n",
       "      <td>0.602786</td>\n",
       "      <td>0</td>\n",
       "      <td>0</td>\n",
       "      <td>0</td>\n",
       "      <td>0</td>\n",
       "      <td>1</td>\n",
       "      <td>0</td>\n",
       "      <td>0</td>\n",
       "      <td>...</td>\n",
       "      <td>0</td>\n",
       "      <td>0</td>\n",
       "      <td>0</td>\n",
       "      <td>0</td>\n",
       "      <td>0</td>\n",
       "      <td>0</td>\n",
       "      <td>0</td>\n",
       "      <td>0</td>\n",
       "      <td>1</td>\n",
       "      <td>0</td>\n",
       "    </tr>\n",
       "    <tr>\n",
       "      <th>106827</th>\n",
       "      <td>-0.778282</td>\n",
       "      <td>0.978791</td>\n",
       "      <td>0.602786</td>\n",
       "      <td>0</td>\n",
       "      <td>1</td>\n",
       "      <td>0</td>\n",
       "      <td>0</td>\n",
       "      <td>0</td>\n",
       "      <td>0</td>\n",
       "      <td>0</td>\n",
       "      <td>...</td>\n",
       "      <td>0</td>\n",
       "      <td>0</td>\n",
       "      <td>0</td>\n",
       "      <td>0</td>\n",
       "      <td>0</td>\n",
       "      <td>0</td>\n",
       "      <td>0</td>\n",
       "      <td>0</td>\n",
       "      <td>0</td>\n",
       "      <td>0</td>\n",
       "    </tr>\n",
       "  </tbody>\n",
       "</table>\n",
       "<p>5 rows × 301 columns</p>\n",
       "</div>"
      ],
      "text/plain": [
       "        RegistrationYear     Power  Kilometer  VehicleType_convertible  \\\n",
       "73224          -0.602932 -0.128958   0.602786                        0   \n",
       "18269          -0.427582 -0.252041   0.602786                        1   \n",
       "2332           -1.304332 -0.149472   0.602786                        0   \n",
       "94198          -0.602932 -0.662318   0.602786                        0   \n",
       "106827         -0.778282  0.978791   0.602786                        0   \n",
       "\n",
       "        VehicleType_coupe  VehicleType_other  VehicleType_sedan  \\\n",
       "73224                   0                  0                  1   \n",
       "18269                   0                  0                  0   \n",
       "2332                    0                  0                  0   \n",
       "94198                   0                  0                  0   \n",
       "106827                  1                  0                  0   \n",
       "\n",
       "        VehicleType_small  VehicleType_suv  VehicleType_unknown  ...  \\\n",
       "73224                   0                0                    0  ...   \n",
       "18269                   0                0                    0  ...   \n",
       "2332                    0                0                    0  ...   \n",
       "94198                   1                0                    0  ...   \n",
       "106827                  0                0                    0  ...   \n",
       "\n",
       "        Brand_skoda  Brand_smart  Brand_subaru  Brand_suzuki  Brand_toyota  \\\n",
       "73224             0            0             0             0             0   \n",
       "18269             0            0             0             0             0   \n",
       "2332              0            0             0             0             0   \n",
       "94198             0            0             0             0             0   \n",
       "106827            0            0             0             0             0   \n",
       "\n",
       "        Brand_trabant  Brand_volkswagen  Brand_volvo  Repaired_unknown  \\\n",
       "73224               0                 1            0                 0   \n",
       "18269               0                 1            0                 0   \n",
       "2332                0                 0            0                 0   \n",
       "94198               0                 0            0                 1   \n",
       "106827              0                 0            0                 0   \n",
       "\n",
       "        Repaired_yes  \n",
       "73224              0  \n",
       "18269              0  \n",
       "2332               0  \n",
       "94198              0  \n",
       "106827             0  \n",
       "\n",
       "[5 rows x 301 columns]"
      ]
     },
     "metadata": {},
     "output_type": "display_data"
    },
    {
     "name": "stdout",
     "output_type": "stream",
     "text": [
      "(210292, 301)\n",
      "(52573, 301)\n",
      "(210292,)\n",
      "(52573,)\n"
     ]
    }
   ],
   "source": [
    "features_train = pd.get_dummies(features_train, drop_first=True)\n",
    "features_test = pd.get_dummies(features_test, drop_first=True)\n",
    "for a in features_train.columns:\n",
    "    if a not in features_test.columns:\n",
    "        features_train = features_train.drop(a, axis=1)\n",
    "display(features_train.head())\n",
    "print(features_train.shape)\n",
    "print(features_test.shape)\n",
    "print(target_train.shape)\n",
    "print(target_test.shape)"
   ]
  },
  {
   "cell_type": "markdown",
   "metadata": {},
   "source": [
    "Напишем функцию вычисления rmse и на ее основе создадим скорер."
   ]
  },
  {
   "cell_type": "code",
   "execution_count": 30,
   "metadata": {},
   "outputs": [],
   "source": [
    "def rmse(predict, actual):\n",
    "    predict = np.array(predict)\n",
    "    actual = np.array(actual)\n",
    "    distance = predict - actual\n",
    "    square_distance = distance ** 2\n",
    "    mean_square_distance = square_distance.mean()\n",
    "    score = np.sqrt(mean_square_distance)\n",
    "    return score\n",
    "\n",
    "rmse_score = make_scorer(rmse, greater_is_better = False)"
   ]
  },
  {
   "cell_type": "markdown",
   "metadata": {},
   "source": [
    "Обучим модель линейной регрессии, такде зафиксируем время обучения и предсказания. Подсчитаем RMSE"
   ]
  },
  {
   "cell_type": "code",
   "execution_count": 31,
   "metadata": {},
   "outputs": [
    {
     "name": "stdout",
     "output_type": "stream",
     "text": [
      "CPU times: user 14.1 s, sys: 6.43 s, total: 20.5 s\n",
      "Wall time: 20.8 s\n"
     ]
    },
    {
     "data": {
      "text/html": [
       "<style>#sk-container-id-1 {color: black;background-color: white;}#sk-container-id-1 pre{padding: 0;}#sk-container-id-1 div.sk-toggleable {background-color: white;}#sk-container-id-1 label.sk-toggleable__label {cursor: pointer;display: block;width: 100%;margin-bottom: 0;padding: 0.3em;box-sizing: border-box;text-align: center;}#sk-container-id-1 label.sk-toggleable__label-arrow:before {content: \"▸\";float: left;margin-right: 0.25em;color: #696969;}#sk-container-id-1 label.sk-toggleable__label-arrow:hover:before {color: black;}#sk-container-id-1 div.sk-estimator:hover label.sk-toggleable__label-arrow:before {color: black;}#sk-container-id-1 div.sk-toggleable__content {max-height: 0;max-width: 0;overflow: hidden;text-align: left;background-color: #f0f8ff;}#sk-container-id-1 div.sk-toggleable__content pre {margin: 0.2em;color: black;border-radius: 0.25em;background-color: #f0f8ff;}#sk-container-id-1 input.sk-toggleable__control:checked~div.sk-toggleable__content {max-height: 200px;max-width: 100%;overflow: auto;}#sk-container-id-1 input.sk-toggleable__control:checked~label.sk-toggleable__label-arrow:before {content: \"▾\";}#sk-container-id-1 div.sk-estimator input.sk-toggleable__control:checked~label.sk-toggleable__label {background-color: #d4ebff;}#sk-container-id-1 div.sk-label input.sk-toggleable__control:checked~label.sk-toggleable__label {background-color: #d4ebff;}#sk-container-id-1 input.sk-hidden--visually {border: 0;clip: rect(1px 1px 1px 1px);clip: rect(1px, 1px, 1px, 1px);height: 1px;margin: -1px;overflow: hidden;padding: 0;position: absolute;width: 1px;}#sk-container-id-1 div.sk-estimator {font-family: monospace;background-color: #f0f8ff;border: 1px dotted black;border-radius: 0.25em;box-sizing: border-box;margin-bottom: 0.5em;}#sk-container-id-1 div.sk-estimator:hover {background-color: #d4ebff;}#sk-container-id-1 div.sk-parallel-item::after {content: \"\";width: 100%;border-bottom: 1px solid gray;flex-grow: 1;}#sk-container-id-1 div.sk-label:hover label.sk-toggleable__label {background-color: #d4ebff;}#sk-container-id-1 div.sk-serial::before {content: \"\";position: absolute;border-left: 1px solid gray;box-sizing: border-box;top: 0;bottom: 0;left: 50%;z-index: 0;}#sk-container-id-1 div.sk-serial {display: flex;flex-direction: column;align-items: center;background-color: white;padding-right: 0.2em;padding-left: 0.2em;position: relative;}#sk-container-id-1 div.sk-item {position: relative;z-index: 1;}#sk-container-id-1 div.sk-parallel {display: flex;align-items: stretch;justify-content: center;background-color: white;position: relative;}#sk-container-id-1 div.sk-item::before, #sk-container-id-1 div.sk-parallel-item::before {content: \"\";position: absolute;border-left: 1px solid gray;box-sizing: border-box;top: 0;bottom: 0;left: 50%;z-index: -1;}#sk-container-id-1 div.sk-parallel-item {display: flex;flex-direction: column;z-index: 1;position: relative;background-color: white;}#sk-container-id-1 div.sk-parallel-item:first-child::after {align-self: flex-end;width: 50%;}#sk-container-id-1 div.sk-parallel-item:last-child::after {align-self: flex-start;width: 50%;}#sk-container-id-1 div.sk-parallel-item:only-child::after {width: 0;}#sk-container-id-1 div.sk-dashed-wrapped {border: 1px dashed gray;margin: 0 0.4em 0.5em 0.4em;box-sizing: border-box;padding-bottom: 0.4em;background-color: white;}#sk-container-id-1 div.sk-label label {font-family: monospace;font-weight: bold;display: inline-block;line-height: 1.2em;}#sk-container-id-1 div.sk-label-container {text-align: center;}#sk-container-id-1 div.sk-container {/* jupyter's `normalize.less` sets `[hidden] { display: none; }` but bootstrap.min.css set `[hidden] { display: none !important; }` so we also need the `!important` here to be able to override the default hidden behavior on the sphinx rendered scikit-learn.org. See: https://github.com/scikit-learn/scikit-learn/issues/21755 */display: inline-block !important;position: relative;}#sk-container-id-1 div.sk-text-repr-fallback {display: none;}</style><div id=\"sk-container-id-1\" class=\"sk-top-container\"><div class=\"sk-text-repr-fallback\"><pre>LinearRegression()</pre><b>In a Jupyter environment, please rerun this cell to show the HTML representation or trust the notebook. <br />On GitHub, the HTML representation is unable to render, please try loading this page with nbviewer.org.</b></div><div class=\"sk-container\" hidden><div class=\"sk-item\"><div class=\"sk-estimator sk-toggleable\"><input class=\"sk-toggleable__control sk-hidden--visually\" id=\"sk-estimator-id-1\" type=\"checkbox\" checked><label for=\"sk-estimator-id-1\" class=\"sk-toggleable__label sk-toggleable__label-arrow\">LinearRegression</label><div class=\"sk-toggleable__content\"><pre>LinearRegression()</pre></div></div></div></div></div>"
      ],
      "text/plain": [
       "LinearRegression()"
      ]
     },
     "execution_count": 31,
     "metadata": {},
     "output_type": "execute_result"
    }
   ],
   "source": [
    "%%time\n",
    "model_lr = LinearRegression()\n",
    "model_lr.fit(features_train, target_train)"
   ]
  },
  {
   "cell_type": "code",
   "execution_count": 32,
   "metadata": {},
   "outputs": [
    {
     "name": "stdout",
     "output_type": "stream",
     "text": [
      "2328.813763678392\n",
      "CPU times: user 80.9 ms, sys: 44 ms, total: 125 ms\n",
      "Wall time: 118 ms\n"
     ]
    }
   ],
   "source": [
    "%%time\n",
    "predict_lr = model_lr.predict(features_test)\n",
    "rmse_lr=mean_squared_error(target_test, predict_lr)**0.5\n",
    "print(rmse_lr)"
   ]
  },
  {
   "cell_type": "markdown",
   "metadata": {},
   "source": [
    "Получили RMSE 2328, время обучения 12 секунд, время предсказания 197 мс"
   ]
  },
  {
   "cell_type": "markdown",
   "metadata": {},
   "source": [
    "Обучим модель дерева решений с перебором гиперпараметра глубины в цикле с помощью кросс-валидации. Используем закодированную OE выборку."
   ]
  },
  {
   "cell_type": "code",
   "execution_count": 33,
   "metadata": {},
   "outputs": [
    {
     "name": "stdout",
     "output_type": "stream",
     "text": [
      "1950.1437663828387 9\n",
      "CPU times: user 7.56 s, sys: 88.2 ms, total: 7.65 s\n",
      "Wall time: 7.71 s\n"
     ]
    }
   ],
   "source": [
    "%%time\n",
    "result_dt = 10000\n",
    "param_dt = 0\n",
    "for n in range(1, 10, 1):\n",
    "    model_dt = DecisionTreeRegressor(max_depth=n, random_state=state)\n",
    "    rmse_dt = cross_val_score(model_dt, features_train_oe, target_train, scoring='neg_root_mean_squared_error', cv=5, n_jobs=-1)\n",
    "    final_rmse_dt = rmse_dt.mean()  \n",
    "    final_rmse_dt = final_rmse_dt * (-1)\n",
    "    if final_rmse_dt < result_dt:\n",
    "        result_dt = final_rmse_dt\n",
    "        param_dt = n\n",
    "print(result_dt, param_dt)"
   ]
  },
  {
   "cell_type": "markdown",
   "metadata": {},
   "source": [
    "Результат уже значительно лучше - 1950 при глубине 9. Общее время - 8 секунд. "
   ]
  },
  {
   "cell_type": "markdown",
   "metadata": {},
   "source": [
    "Обучим модель случайного леса с перебором гиперпараметров глубины и количества деревьев в цикле. Используем закодированную OE выборку."
   ]
  },
  {
   "cell_type": "code",
   "execution_count": 34,
   "metadata": {},
   "outputs": [
    {
     "name": "stdout",
     "output_type": "stream",
     "text": [
      "1869.225161583566 [30, 9]\n",
      "CPU times: user 2min 47s, sys: 677 ms, total: 2min 48s\n",
      "Wall time: 2min 48s\n"
     ]
    }
   ],
   "source": [
    "%%time\n",
    "result_rf = 10000\n",
    "params_rf = []\n",
    "for n in range(10, 31, 10):\n",
    "    for i in range(1,11,2):\n",
    "        model_rf = RandomForestRegressor(n_estimators=n, max_depth=i, random_state=state)\n",
    "        rmse_rf = cross_val_score(model_rf, features_train_oe, target_train, scoring='neg_root_mean_squared_error', cv=5, n_jobs=-1)\n",
    "        final_rmse_dt = rmse_rf.mean()\n",
    "        final_rmse_dt = final_rmse_dt * (-1)\n",
    "        if final_rmse_dt < result_rf:\n",
    "            result_rf = final_rmse_dt\n",
    "            params_rf = [n,i]\n",
    "print(result_rf, params_rf)"
   ]
  },
  {
   "cell_type": "markdown",
   "metadata": {},
   "source": [
    "Результат улучшился - 1869 при глубине 9 и 30 деревьях в лесу. Общее время - 2 минуты, 50 секунд."
   ]
  },
  {
   "cell_type": "markdown",
   "metadata": {},
   "source": [
    "Обучим модель CatBoost с перебором гиперпараметров с помощью GridSearchCV. Используем закодированную OE выборку."
   ]
  },
  {
   "cell_type": "code",
   "execution_count": 35,
   "metadata": {},
   "outputs": [
    {
     "name": "stdout",
     "output_type": "stream",
     "text": [
      "0:\tlearn: 3847.4256946\ttotal: 70.8ms\tremaining: 637ms\n",
      "1:\tlearn: 3360.1246607\ttotal: 89.3ms\tremaining: 357ms\n",
      "2:\tlearn: 3025.0021717\ttotal: 109ms\tremaining: 253ms\n",
      "3:\tlearn: 2802.8113765\ttotal: 128ms\tremaining: 192ms\n",
      "4:\tlearn: 2640.3735089\ttotal: 149ms\tremaining: 149ms\n",
      "5:\tlearn: 2523.6476510\ttotal: 168ms\tremaining: 112ms\n",
      "6:\tlearn: 2431.8037903\ttotal: 186ms\tremaining: 79.8ms\n",
      "7:\tlearn: 2361.4226227\ttotal: 206ms\tremaining: 51.4ms\n",
      "8:\tlearn: 2298.5662031\ttotal: 226ms\tremaining: 25.1ms\n",
      "9:\tlearn: 2251.8622250\ttotal: 245ms\tremaining: 0us\n",
      "0:\tlearn: 3836.8288045\ttotal: 18.3ms\tremaining: 165ms\n",
      "1:\tlearn: 3353.1950524\ttotal: 36.9ms\tremaining: 148ms\n",
      "2:\tlearn: 3018.3699847\ttotal: 55.4ms\tremaining: 129ms\n",
      "3:\tlearn: 2805.2212452\ttotal: 74.5ms\tremaining: 112ms\n",
      "4:\tlearn: 2615.2787672\ttotal: 92.9ms\tremaining: 92.9ms\n",
      "5:\tlearn: 2510.1312558\ttotal: 112ms\tremaining: 74.9ms\n",
      "6:\tlearn: 2418.1650715\ttotal: 131ms\tremaining: 56ms\n",
      "7:\tlearn: 2352.3228056\ttotal: 149ms\tremaining: 37.3ms\n",
      "8:\tlearn: 2293.5123458\ttotal: 168ms\tremaining: 18.7ms\n",
      "9:\tlearn: 2251.4288506\ttotal: 186ms\tremaining: 0us\n",
      "0:\tlearn: 3838.1659418\ttotal: 17.7ms\tremaining: 159ms\n",
      "1:\tlearn: 3353.3084820\ttotal: 35.8ms\tremaining: 143ms\n",
      "2:\tlearn: 3017.6076161\ttotal: 54.7ms\tremaining: 128ms\n",
      "3:\tlearn: 2793.6481718\ttotal: 73.1ms\tremaining: 110ms\n",
      "4:\tlearn: 2632.1128683\ttotal: 90.1ms\tremaining: 90.1ms\n",
      "5:\tlearn: 2515.1457110\ttotal: 109ms\tremaining: 73ms\n",
      "6:\tlearn: 2422.8217656\ttotal: 128ms\tremaining: 54.7ms\n",
      "7:\tlearn: 2359.6456571\ttotal: 144ms\tremaining: 36ms\n",
      "8:\tlearn: 2291.7808400\ttotal: 162ms\tremaining: 18ms\n",
      "9:\tlearn: 2243.8613951\ttotal: 179ms\tremaining: 0us\n",
      "0:\tlearn: 3835.2831040\ttotal: 17.9ms\tremaining: 161ms\n",
      "1:\tlearn: 3349.1911874\ttotal: 35.4ms\tremaining: 142ms\n",
      "2:\tlearn: 3013.3248348\ttotal: 52.2ms\tremaining: 122ms\n",
      "3:\tlearn: 2790.3249728\ttotal: 70.1ms\tremaining: 105ms\n",
      "4:\tlearn: 2628.3440987\ttotal: 87.6ms\tremaining: 87.6ms\n",
      "5:\tlearn: 2511.6736013\ttotal: 107ms\tremaining: 71.2ms\n",
      "6:\tlearn: 2418.6297283\ttotal: 126ms\tremaining: 54.1ms\n",
      "7:\tlearn: 2348.7221822\ttotal: 145ms\tremaining: 36.2ms\n",
      "8:\tlearn: 2295.2537655\ttotal: 163ms\tremaining: 18.1ms\n",
      "9:\tlearn: 2253.9177781\ttotal: 186ms\tremaining: 0us\n",
      "0:\tlearn: 3841.5211690\ttotal: 17.3ms\tremaining: 156ms\n",
      "1:\tlearn: 3355.5907929\ttotal: 35.3ms\tremaining: 141ms\n",
      "2:\tlearn: 3019.7716464\ttotal: 52.7ms\tremaining: 123ms\n",
      "3:\tlearn: 2797.2926925\ttotal: 69.8ms\tremaining: 105ms\n",
      "4:\tlearn: 2636.0898204\ttotal: 87.3ms\tremaining: 87.3ms\n",
      "5:\tlearn: 2519.7647074\ttotal: 106ms\tremaining: 70.5ms\n",
      "6:\tlearn: 2427.2820381\ttotal: 123ms\tremaining: 52.7ms\n",
      "7:\tlearn: 2358.1790941\ttotal: 140ms\tremaining: 35ms\n",
      "8:\tlearn: 2304.2133918\ttotal: 157ms\tremaining: 17.4ms\n",
      "9:\tlearn: 2262.6513422\ttotal: 173ms\tremaining: 0us\n",
      "0:\tlearn: 3847.4256946\ttotal: 21.3ms\tremaining: 1.04s\n",
      "1:\tlearn: 3360.1246607\ttotal: 40.3ms\tremaining: 968ms\n",
      "2:\tlearn: 3025.0021717\ttotal: 58.7ms\tremaining: 919ms\n",
      "3:\tlearn: 2802.8113765\ttotal: 76.5ms\tremaining: 880ms\n",
      "4:\tlearn: 2640.3735089\ttotal: 93.5ms\tremaining: 842ms\n",
      "5:\tlearn: 2523.6476510\ttotal: 111ms\tremaining: 813ms\n",
      "6:\tlearn: 2431.8037903\ttotal: 128ms\tremaining: 787ms\n",
      "7:\tlearn: 2361.4226227\ttotal: 145ms\tremaining: 760ms\n",
      "8:\tlearn: 2298.5662031\ttotal: 162ms\tremaining: 739ms\n",
      "9:\tlearn: 2251.8622250\ttotal: 180ms\tremaining: 718ms\n",
      "10:\tlearn: 2215.8672665\ttotal: 196ms\tremaining: 694ms\n",
      "11:\tlearn: 2182.7900402\ttotal: 213ms\tremaining: 674ms\n",
      "12:\tlearn: 2148.3231423\ttotal: 231ms\tremaining: 658ms\n",
      "13:\tlearn: 2128.1847883\ttotal: 248ms\tremaining: 638ms\n",
      "14:\tlearn: 2109.6956618\ttotal: 265ms\tremaining: 618ms\n",
      "15:\tlearn: 2091.3020147\ttotal: 282ms\tremaining: 599ms\n",
      "16:\tlearn: 2073.5037537\ttotal: 300ms\tremaining: 582ms\n",
      "17:\tlearn: 2062.3245936\ttotal: 316ms\tremaining: 561ms\n",
      "18:\tlearn: 2048.5107340\ttotal: 333ms\tremaining: 543ms\n",
      "19:\tlearn: 2036.5548460\ttotal: 350ms\tremaining: 525ms\n",
      "20:\tlearn: 2028.3715354\ttotal: 366ms\tremaining: 506ms\n",
      "21:\tlearn: 2008.1010803\ttotal: 383ms\tremaining: 488ms\n",
      "22:\tlearn: 1994.4207279\ttotal: 399ms\tremaining: 469ms\n",
      "23:\tlearn: 1988.0885710\ttotal: 416ms\tremaining: 451ms\n",
      "24:\tlearn: 1979.2298491\ttotal: 433ms\tremaining: 433ms\n",
      "25:\tlearn: 1973.6309674\ttotal: 449ms\tremaining: 415ms\n",
      "26:\tlearn: 1962.9541187\ttotal: 467ms\tremaining: 397ms\n",
      "27:\tlearn: 1946.1037019\ttotal: 485ms\tremaining: 381ms\n",
      "28:\tlearn: 1940.0131996\ttotal: 501ms\tremaining: 363ms\n",
      "29:\tlearn: 1926.8382488\ttotal: 518ms\tremaining: 345ms\n",
      "30:\tlearn: 1918.7543976\ttotal: 534ms\tremaining: 327ms\n",
      "31:\tlearn: 1913.4563690\ttotal: 550ms\tremaining: 310ms\n",
      "32:\tlearn: 1908.6887044\ttotal: 566ms\tremaining: 292ms\n",
      "33:\tlearn: 1902.9883475\ttotal: 583ms\tremaining: 275ms\n",
      "34:\tlearn: 1897.6016975\ttotal: 600ms\tremaining: 257ms\n",
      "35:\tlearn: 1891.7155192\ttotal: 617ms\tremaining: 240ms\n",
      "36:\tlearn: 1886.8960676\ttotal: 634ms\tremaining: 223ms\n",
      "37:\tlearn: 1881.4603396\ttotal: 651ms\tremaining: 206ms\n",
      "38:\tlearn: 1875.2901431\ttotal: 669ms\tremaining: 189ms\n",
      "39:\tlearn: 1872.6736585\ttotal: 685ms\tremaining: 171ms\n",
      "40:\tlearn: 1867.7829429\ttotal: 703ms\tremaining: 154ms\n",
      "41:\tlearn: 1863.4804229\ttotal: 720ms\tremaining: 137ms\n",
      "42:\tlearn: 1860.4349039\ttotal: 738ms\tremaining: 120ms\n",
      "43:\tlearn: 1856.8838249\ttotal: 755ms\tremaining: 103ms\n",
      "44:\tlearn: 1852.2959278\ttotal: 772ms\tremaining: 85.8ms\n",
      "45:\tlearn: 1847.8460682\ttotal: 790ms\tremaining: 68.7ms\n",
      "46:\tlearn: 1844.8195011\ttotal: 810ms\tremaining: 51.7ms\n",
      "47:\tlearn: 1840.6385288\ttotal: 827ms\tremaining: 34.4ms\n",
      "48:\tlearn: 1837.8184737\ttotal: 843ms\tremaining: 17.2ms\n",
      "49:\tlearn: 1834.8336344\ttotal: 862ms\tremaining: 0us\n",
      "0:\tlearn: 3836.8288045\ttotal: 18.8ms\tremaining: 922ms\n",
      "1:\tlearn: 3353.1950524\ttotal: 37ms\tremaining: 889ms\n",
      "2:\tlearn: 3018.3699847\ttotal: 54.6ms\tremaining: 856ms\n",
      "3:\tlearn: 2805.2212452\ttotal: 72.1ms\tremaining: 830ms\n",
      "4:\tlearn: 2615.2787672\ttotal: 88.4ms\tremaining: 796ms\n",
      "5:\tlearn: 2510.1312558\ttotal: 106ms\tremaining: 779ms\n",
      "6:\tlearn: 2418.1650715\ttotal: 125ms\tremaining: 769ms\n",
      "7:\tlearn: 2352.3228056\ttotal: 143ms\tremaining: 749ms\n",
      "8:\tlearn: 2293.5123458\ttotal: 161ms\tremaining: 733ms\n",
      "9:\tlearn: 2251.4288506\ttotal: 182ms\tremaining: 727ms\n",
      "10:\tlearn: 2209.9695585\ttotal: 202ms\tremaining: 716ms\n",
      "11:\tlearn: 2180.1948696\ttotal: 222ms\tremaining: 703ms\n",
      "12:\tlearn: 2156.0291823\ttotal: 239ms\tremaining: 681ms\n",
      "13:\tlearn: 2135.1727115\ttotal: 257ms\tremaining: 660ms\n",
      "14:\tlearn: 2110.0383674\ttotal: 274ms\tremaining: 640ms\n",
      "15:\tlearn: 2091.2896910\ttotal: 296ms\tremaining: 629ms\n",
      "16:\tlearn: 2074.4987527\ttotal: 316ms\tremaining: 612ms\n",
      "17:\tlearn: 2056.5532387\ttotal: 335ms\tremaining: 596ms\n",
      "18:\tlearn: 2041.5679559\ttotal: 354ms\tremaining: 578ms\n",
      "19:\tlearn: 2032.0865027\ttotal: 372ms\tremaining: 559ms\n",
      "20:\tlearn: 2021.9182900\ttotal: 391ms\tremaining: 540ms\n",
      "21:\tlearn: 2010.9705272\ttotal: 408ms\tremaining: 520ms\n",
      "22:\tlearn: 1993.0492106\ttotal: 427ms\tremaining: 502ms\n",
      "23:\tlearn: 1982.3974984\ttotal: 444ms\tremaining: 481ms\n",
      "24:\tlearn: 1971.9263868\ttotal: 462ms\tremaining: 462ms\n",
      "25:\tlearn: 1961.1551374\ttotal: 480ms\tremaining: 443ms\n",
      "26:\tlearn: 1955.1880305\ttotal: 497ms\tremaining: 423ms\n",
      "27:\tlearn: 1947.7432975\ttotal: 514ms\tremaining: 404ms\n",
      "28:\tlearn: 1940.9260411\ttotal: 531ms\tremaining: 385ms\n",
      "29:\tlearn: 1933.1720052\ttotal: 550ms\tremaining: 366ms\n",
      "30:\tlearn: 1928.1158941\ttotal: 568ms\tremaining: 348ms\n",
      "31:\tlearn: 1920.8263024\ttotal: 588ms\tremaining: 331ms\n",
      "32:\tlearn: 1911.6090257\ttotal: 605ms\tremaining: 312ms\n",
      "33:\tlearn: 1905.7465161\ttotal: 621ms\tremaining: 292ms\n",
      "34:\tlearn: 1901.4583718\ttotal: 642ms\tremaining: 275ms\n",
      "35:\tlearn: 1895.7516098\ttotal: 659ms\tremaining: 256ms\n",
      "36:\tlearn: 1889.7887442\ttotal: 676ms\tremaining: 238ms\n",
      "37:\tlearn: 1884.3581366\ttotal: 695ms\tremaining: 219ms\n",
      "38:\tlearn: 1880.0339385\ttotal: 712ms\tremaining: 201ms\n",
      "39:\tlearn: 1875.7778567\ttotal: 729ms\tremaining: 182ms\n",
      "40:\tlearn: 1871.2407977\ttotal: 746ms\tremaining: 164ms\n",
      "41:\tlearn: 1867.6113699\ttotal: 761ms\tremaining: 145ms\n",
      "42:\tlearn: 1864.4979514\ttotal: 778ms\tremaining: 127ms\n",
      "43:\tlearn: 1860.6863549\ttotal: 796ms\tremaining: 109ms\n",
      "44:\tlearn: 1857.4065383\ttotal: 813ms\tremaining: 90.3ms\n",
      "45:\tlearn: 1853.8461735\ttotal: 830ms\tremaining: 72.2ms\n",
      "46:\tlearn: 1847.1366116\ttotal: 848ms\tremaining: 54.1ms\n",
      "47:\tlearn: 1843.0104599\ttotal: 865ms\tremaining: 36ms\n",
      "48:\tlearn: 1839.9648319\ttotal: 882ms\tremaining: 18ms\n",
      "49:\tlearn: 1838.2748908\ttotal: 897ms\tremaining: 0us\n",
      "0:\tlearn: 3838.1659418\ttotal: 20.3ms\tremaining: 997ms\n",
      "1:\tlearn: 3353.3084820\ttotal: 41.5ms\tremaining: 996ms\n",
      "2:\tlearn: 3017.6076161\ttotal: 59.4ms\tremaining: 931ms\n",
      "3:\tlearn: 2793.6481718\ttotal: 76.7ms\tremaining: 882ms\n",
      "4:\tlearn: 2632.1128683\ttotal: 92.4ms\tremaining: 832ms\n",
      "5:\tlearn: 2515.1457110\ttotal: 110ms\tremaining: 803ms\n",
      "6:\tlearn: 2422.8217656\ttotal: 130ms\tremaining: 798ms\n",
      "7:\tlearn: 2359.6456571\ttotal: 150ms\tremaining: 786ms\n",
      "8:\tlearn: 2291.7808400\ttotal: 168ms\tremaining: 764ms\n",
      "9:\tlearn: 2243.8613951\ttotal: 185ms\tremaining: 740ms\n",
      "10:\tlearn: 2203.5662690\ttotal: 202ms\tremaining: 714ms\n",
      "11:\tlearn: 2173.5358725\ttotal: 218ms\tremaining: 690ms\n",
      "12:\tlearn: 2145.8543273\ttotal: 235ms\tremaining: 669ms\n",
      "13:\tlearn: 2120.3361593\ttotal: 253ms\tremaining: 650ms\n",
      "14:\tlearn: 2102.5539270\ttotal: 270ms\tremaining: 629ms\n",
      "15:\tlearn: 2079.6531728\ttotal: 288ms\tremaining: 612ms\n",
      "16:\tlearn: 2062.0968727\ttotal: 307ms\tremaining: 596ms\n",
      "17:\tlearn: 2051.0984673\ttotal: 323ms\tremaining: 575ms\n",
      "18:\tlearn: 2031.3330465\ttotal: 342ms\tremaining: 558ms\n",
      "19:\tlearn: 2021.0024895\ttotal: 359ms\tremaining: 539ms\n",
      "20:\tlearn: 2006.5328916\ttotal: 376ms\tremaining: 520ms\n",
      "21:\tlearn: 1994.5321480\ttotal: 392ms\tremaining: 500ms\n",
      "22:\tlearn: 1985.5964757\ttotal: 410ms\tremaining: 482ms\n",
      "23:\tlearn: 1971.9902846\ttotal: 427ms\tremaining: 462ms\n",
      "24:\tlearn: 1961.2079216\ttotal: 443ms\tremaining: 443ms\n",
      "25:\tlearn: 1954.4117475\ttotal: 464ms\tremaining: 428ms\n",
      "26:\tlearn: 1944.8346092\ttotal: 482ms\tremaining: 411ms\n",
      "27:\tlearn: 1937.1160170\ttotal: 499ms\tremaining: 392ms\n",
      "28:\tlearn: 1928.1855410\ttotal: 518ms\tremaining: 375ms\n",
      "29:\tlearn: 1921.6701510\ttotal: 535ms\tremaining: 356ms\n",
      "30:\tlearn: 1916.9204830\ttotal: 552ms\tremaining: 338ms\n",
      "31:\tlearn: 1908.7010349\ttotal: 571ms\tremaining: 321ms\n",
      "32:\tlearn: 1902.1969470\ttotal: 587ms\tremaining: 303ms\n",
      "33:\tlearn: 1896.6619358\ttotal: 605ms\tremaining: 285ms\n",
      "34:\tlearn: 1892.3970080\ttotal: 622ms\tremaining: 267ms\n",
      "35:\tlearn: 1888.6338797\ttotal: 638ms\tremaining: 248ms\n",
      "36:\tlearn: 1884.6287998\ttotal: 655ms\tremaining: 230ms\n",
      "37:\tlearn: 1880.8975001\ttotal: 672ms\tremaining: 212ms\n",
      "38:\tlearn: 1874.1306803\ttotal: 689ms\tremaining: 194ms\n",
      "39:\tlearn: 1869.2669688\ttotal: 706ms\tremaining: 176ms\n",
      "40:\tlearn: 1866.1708391\ttotal: 723ms\tremaining: 159ms\n",
      "41:\tlearn: 1860.8043891\ttotal: 740ms\tremaining: 141ms\n",
      "42:\tlearn: 1857.1361401\ttotal: 758ms\tremaining: 123ms\n",
      "43:\tlearn: 1854.5805658\ttotal: 775ms\tremaining: 106ms\n",
      "44:\tlearn: 1845.6915661\ttotal: 794ms\tremaining: 88.2ms\n",
      "45:\tlearn: 1841.7345619\ttotal: 812ms\tremaining: 70.6ms\n",
      "46:\tlearn: 1838.1882761\ttotal: 830ms\tremaining: 53ms\n",
      "47:\tlearn: 1834.5035736\ttotal: 852ms\tremaining: 35.5ms\n",
      "48:\tlearn: 1831.1630565\ttotal: 868ms\tremaining: 17.7ms\n",
      "49:\tlearn: 1828.9417247\ttotal: 885ms\tremaining: 0us\n",
      "0:\tlearn: 3835.2831040\ttotal: 18.2ms\tremaining: 892ms\n",
      "1:\tlearn: 3349.1911874\ttotal: 37.4ms\tremaining: 897ms\n",
      "2:\tlearn: 3013.3248348\ttotal: 56.7ms\tremaining: 888ms\n",
      "3:\tlearn: 2790.3249728\ttotal: 76.2ms\tremaining: 876ms\n",
      "4:\tlearn: 2628.3440987\ttotal: 95.1ms\tremaining: 856ms\n",
      "5:\tlearn: 2511.6736013\ttotal: 113ms\tremaining: 832ms\n",
      "6:\tlearn: 2418.6297283\ttotal: 132ms\tremaining: 809ms\n",
      "7:\tlearn: 2348.7221822\ttotal: 149ms\tremaining: 784ms\n",
      "8:\tlearn: 2295.2537655\ttotal: 168ms\tremaining: 766ms\n",
      "9:\tlearn: 2253.9177781\ttotal: 187ms\tremaining: 747ms\n",
      "10:\tlearn: 2214.2936556\ttotal: 204ms\tremaining: 725ms\n",
      "11:\tlearn: 2176.7074700\ttotal: 223ms\tremaining: 705ms\n",
      "12:\tlearn: 2145.0112234\ttotal: 241ms\tremaining: 686ms\n",
      "13:\tlearn: 2124.3695416\ttotal: 260ms\tremaining: 667ms\n",
      "14:\tlearn: 2107.3645329\ttotal: 278ms\tremaining: 648ms\n",
      "15:\tlearn: 2083.7960509\ttotal: 299ms\tremaining: 636ms\n",
      "16:\tlearn: 2064.9512111\ttotal: 318ms\tremaining: 617ms\n",
      "17:\tlearn: 2053.6572582\ttotal: 336ms\tremaining: 597ms\n",
      "18:\tlearn: 2039.6711774\ttotal: 354ms\tremaining: 577ms\n",
      "19:\tlearn: 2020.6012706\ttotal: 372ms\tremaining: 558ms\n",
      "20:\tlearn: 2007.3240176\ttotal: 390ms\tremaining: 539ms\n",
      "21:\tlearn: 1997.9845820\ttotal: 407ms\tremaining: 519ms\n",
      "22:\tlearn: 1988.5064790\ttotal: 428ms\tremaining: 502ms\n",
      "23:\tlearn: 1974.3428220\ttotal: 446ms\tremaining: 484ms\n",
      "24:\tlearn: 1964.0266001\ttotal: 465ms\tremaining: 465ms\n",
      "25:\tlearn: 1958.4862065\ttotal: 483ms\tremaining: 446ms\n",
      "26:\tlearn: 1950.4647408\ttotal: 502ms\tremaining: 427ms\n",
      "27:\tlearn: 1937.8261072\ttotal: 520ms\tremaining: 408ms\n",
      "28:\tlearn: 1932.8100267\ttotal: 538ms\tremaining: 389ms\n",
      "29:\tlearn: 1918.1946726\ttotal: 557ms\tremaining: 371ms\n",
      "30:\tlearn: 1911.4367486\ttotal: 575ms\tremaining: 353ms\n",
      "31:\tlearn: 1906.7366340\ttotal: 593ms\tremaining: 333ms\n",
      "32:\tlearn: 1899.4347020\ttotal: 615ms\tremaining: 317ms\n",
      "33:\tlearn: 1896.0019769\ttotal: 636ms\tremaining: 299ms\n",
      "34:\tlearn: 1890.3565946\ttotal: 654ms\tremaining: 280ms\n",
      "35:\tlearn: 1886.8410477\ttotal: 672ms\tremaining: 262ms\n",
      "36:\tlearn: 1883.7282170\ttotal: 689ms\tremaining: 242ms\n",
      "37:\tlearn: 1877.0307511\ttotal: 708ms\tremaining: 224ms\n",
      "38:\tlearn: 1872.4716540\ttotal: 726ms\tremaining: 205ms\n",
      "39:\tlearn: 1865.3161929\ttotal: 745ms\tremaining: 186ms\n",
      "40:\tlearn: 1861.5275453\ttotal: 762ms\tremaining: 167ms\n",
      "41:\tlearn: 1856.9524084\ttotal: 780ms\tremaining: 148ms\n",
      "42:\tlearn: 1851.3677006\ttotal: 797ms\tremaining: 130ms\n",
      "43:\tlearn: 1847.1380171\ttotal: 815ms\tremaining: 111ms\n",
      "44:\tlearn: 1844.3944851\ttotal: 833ms\tremaining: 92.5ms\n",
      "45:\tlearn: 1842.2080480\ttotal: 850ms\tremaining: 74ms\n",
      "46:\tlearn: 1836.9576557\ttotal: 872ms\tremaining: 55.6ms\n",
      "47:\tlearn: 1833.4041473\ttotal: 890ms\tremaining: 37.1ms\n",
      "48:\tlearn: 1829.8215941\ttotal: 909ms\tremaining: 18.5ms\n",
      "49:\tlearn: 1826.8740722\ttotal: 927ms\tremaining: 0us\n",
      "0:\tlearn: 3841.5211690\ttotal: 20.2ms\tremaining: 990ms\n",
      "1:\tlearn: 3355.5907929\ttotal: 39.3ms\tremaining: 943ms\n",
      "2:\tlearn: 3019.7716464\ttotal: 57.3ms\tremaining: 898ms\n",
      "3:\tlearn: 2797.2926925\ttotal: 74.4ms\tremaining: 855ms\n",
      "4:\tlearn: 2636.0898204\ttotal: 92ms\tremaining: 828ms\n",
      "5:\tlearn: 2519.7647074\ttotal: 111ms\tremaining: 813ms\n",
      "6:\tlearn: 2427.2820381\ttotal: 129ms\tremaining: 793ms\n",
      "7:\tlearn: 2358.1790941\ttotal: 146ms\tremaining: 768ms\n",
      "8:\tlearn: 2304.2133918\ttotal: 163ms\tremaining: 743ms\n",
      "9:\tlearn: 2262.6513422\ttotal: 180ms\tremaining: 721ms\n",
      "10:\tlearn: 2221.3050942\ttotal: 198ms\tremaining: 700ms\n",
      "11:\tlearn: 2179.6796101\ttotal: 215ms\tremaining: 681ms\n",
      "12:\tlearn: 2155.7946259\ttotal: 232ms\tremaining: 659ms\n",
      "13:\tlearn: 2135.4539800\ttotal: 249ms\tremaining: 639ms\n",
      "14:\tlearn: 2112.8918286\ttotal: 267ms\tremaining: 624ms\n",
      "15:\tlearn: 2088.1990720\ttotal: 285ms\tremaining: 605ms\n",
      "16:\tlearn: 2066.8519545\ttotal: 303ms\tremaining: 588ms\n",
      "17:\tlearn: 2056.3748472\ttotal: 320ms\tremaining: 570ms\n",
      "18:\tlearn: 2043.1996203\ttotal: 338ms\tremaining: 552ms\n",
      "19:\tlearn: 2021.5258522\ttotal: 357ms\tremaining: 535ms\n",
      "20:\tlearn: 2007.0028634\ttotal: 374ms\tremaining: 516ms\n",
      "21:\tlearn: 2000.5151599\ttotal: 391ms\tremaining: 498ms\n",
      "22:\tlearn: 1993.8426388\ttotal: 409ms\tremaining: 480ms\n",
      "23:\tlearn: 1981.5116616\ttotal: 429ms\tremaining: 465ms\n",
      "24:\tlearn: 1973.1134194\ttotal: 446ms\tremaining: 446ms\n",
      "25:\tlearn: 1956.7896685\ttotal: 465ms\tremaining: 429ms\n",
      "26:\tlearn: 1951.3909221\ttotal: 484ms\tremaining: 412ms\n",
      "27:\tlearn: 1943.0589782\ttotal: 505ms\tremaining: 397ms\n",
      "28:\tlearn: 1931.9687332\ttotal: 523ms\tremaining: 379ms\n",
      "29:\tlearn: 1924.8385634\ttotal: 542ms\tremaining: 361ms\n",
      "30:\tlearn: 1918.7239302\ttotal: 561ms\tremaining: 344ms\n",
      "31:\tlearn: 1912.0107829\ttotal: 579ms\tremaining: 326ms\n",
      "32:\tlearn: 1906.8664621\ttotal: 596ms\tremaining: 307ms\n",
      "33:\tlearn: 1902.4367213\ttotal: 612ms\tremaining: 288ms\n",
      "34:\tlearn: 1899.1119488\ttotal: 630ms\tremaining: 270ms\n",
      "35:\tlearn: 1894.0731240\ttotal: 648ms\tremaining: 252ms\n",
      "36:\tlearn: 1889.2503376\ttotal: 666ms\tremaining: 234ms\n",
      "37:\tlearn: 1885.5052855\ttotal: 683ms\tremaining: 216ms\n",
      "38:\tlearn: 1882.5689879\ttotal: 699ms\tremaining: 197ms\n",
      "39:\tlearn: 1876.0829364\ttotal: 717ms\tremaining: 179ms\n",
      "40:\tlearn: 1871.0301616\ttotal: 735ms\tremaining: 161ms\n",
      "41:\tlearn: 1867.9939305\ttotal: 755ms\tremaining: 144ms\n",
      "42:\tlearn: 1863.9848944\ttotal: 773ms\tremaining: 126ms\n",
      "43:\tlearn: 1858.7784230\ttotal: 790ms\tremaining: 108ms\n",
      "44:\tlearn: 1853.7612473\ttotal: 808ms\tremaining: 89.8ms\n",
      "45:\tlearn: 1850.7807554\ttotal: 826ms\tremaining: 71.8ms\n",
      "46:\tlearn: 1849.1252991\ttotal: 843ms\tremaining: 53.8ms\n",
      "47:\tlearn: 1846.1277945\ttotal: 860ms\tremaining: 35.9ms\n",
      "48:\tlearn: 1842.1846526\ttotal: 878ms\tremaining: 17.9ms\n",
      "49:\tlearn: 1839.3992654\ttotal: 898ms\tremaining: 0us\n",
      "0:\tlearn: 3847.4256946\ttotal: 19.3ms\tremaining: 1.91s\n",
      "1:\tlearn: 3360.1246607\ttotal: 39.2ms\tremaining: 1.92s\n",
      "2:\tlearn: 3025.0021717\ttotal: 57.9ms\tremaining: 1.87s\n",
      "3:\tlearn: 2802.8113765\ttotal: 76.7ms\tremaining: 1.84s\n",
      "4:\tlearn: 2640.3735089\ttotal: 94.1ms\tremaining: 1.79s\n",
      "5:\tlearn: 2523.6476510\ttotal: 112ms\tremaining: 1.75s\n",
      "6:\tlearn: 2431.8037903\ttotal: 129ms\tremaining: 1.71s\n",
      "7:\tlearn: 2361.4226227\ttotal: 146ms\tremaining: 1.68s\n",
      "8:\tlearn: 2298.5662031\ttotal: 164ms\tremaining: 1.66s\n",
      "9:\tlearn: 2251.8622250\ttotal: 183ms\tremaining: 1.64s\n",
      "10:\tlearn: 2215.8672665\ttotal: 205ms\tremaining: 1.66s\n",
      "11:\tlearn: 2182.7900402\ttotal: 226ms\tremaining: 1.66s\n",
      "12:\tlearn: 2148.3231423\ttotal: 246ms\tremaining: 1.65s\n",
      "13:\tlearn: 2128.1847883\ttotal: 267ms\tremaining: 1.64s\n",
      "14:\tlearn: 2109.6956618\ttotal: 286ms\tremaining: 1.62s\n",
      "15:\tlearn: 2091.3020147\ttotal: 306ms\tremaining: 1.6s\n",
      "16:\tlearn: 2073.5037537\ttotal: 327ms\tremaining: 1.6s\n",
      "17:\tlearn: 2062.3245936\ttotal: 346ms\tremaining: 1.58s\n",
      "18:\tlearn: 2048.5107340\ttotal: 370ms\tremaining: 1.57s\n",
      "19:\tlearn: 2036.5548460\ttotal: 394ms\tremaining: 1.58s\n",
      "20:\tlearn: 2028.3715354\ttotal: 413ms\tremaining: 1.55s\n",
      "21:\tlearn: 2008.1010803\ttotal: 434ms\tremaining: 1.54s\n",
      "22:\tlearn: 1994.4207279\ttotal: 453ms\tremaining: 1.52s\n",
      "23:\tlearn: 1988.0885710\ttotal: 473ms\tremaining: 1.5s\n",
      "24:\tlearn: 1979.2298491\ttotal: 494ms\tremaining: 1.48s\n",
      "25:\tlearn: 1973.6309674\ttotal: 511ms\tremaining: 1.45s\n",
      "26:\tlearn: 1962.9541187\ttotal: 527ms\tremaining: 1.43s\n",
      "27:\tlearn: 1946.1037019\ttotal: 546ms\tremaining: 1.4s\n",
      "28:\tlearn: 1940.0131996\ttotal: 563ms\tremaining: 1.38s\n",
      "29:\tlearn: 1926.8382488\ttotal: 580ms\tremaining: 1.35s\n",
      "30:\tlearn: 1918.7543976\ttotal: 598ms\tremaining: 1.33s\n",
      "31:\tlearn: 1913.4563690\ttotal: 615ms\tremaining: 1.31s\n",
      "32:\tlearn: 1908.6887044\ttotal: 632ms\tremaining: 1.28s\n",
      "33:\tlearn: 1902.9883475\ttotal: 651ms\tremaining: 1.26s\n",
      "34:\tlearn: 1897.6016975\ttotal: 668ms\tremaining: 1.24s\n",
      "35:\tlearn: 1891.7155192\ttotal: 685ms\tremaining: 1.22s\n",
      "36:\tlearn: 1886.8960676\ttotal: 701ms\tremaining: 1.19s\n",
      "37:\tlearn: 1881.4603396\ttotal: 718ms\tremaining: 1.17s\n",
      "38:\tlearn: 1875.2901431\ttotal: 737ms\tremaining: 1.15s\n",
      "39:\tlearn: 1872.6736585\ttotal: 754ms\tremaining: 1.13s\n",
      "40:\tlearn: 1867.7829429\ttotal: 772ms\tremaining: 1.11s\n",
      "41:\tlearn: 1863.4804229\ttotal: 789ms\tremaining: 1.09s\n",
      "42:\tlearn: 1860.4349039\ttotal: 806ms\tremaining: 1.07s\n",
      "43:\tlearn: 1856.8838249\ttotal: 822ms\tremaining: 1.05s\n",
      "44:\tlearn: 1852.2959278\ttotal: 841ms\tremaining: 1.03s\n",
      "45:\tlearn: 1847.8460682\ttotal: 859ms\tremaining: 1.01s\n",
      "46:\tlearn: 1844.8195011\ttotal: 879ms\tremaining: 991ms\n",
      "47:\tlearn: 1840.6385288\ttotal: 897ms\tremaining: 971ms\n",
      "48:\tlearn: 1837.8184737\ttotal: 913ms\tremaining: 950ms\n",
      "49:\tlearn: 1834.8336344\ttotal: 930ms\tremaining: 930ms\n",
      "50:\tlearn: 1832.0862910\ttotal: 949ms\tremaining: 911ms\n",
      "51:\tlearn: 1829.4124777\ttotal: 967ms\tremaining: 893ms\n",
      "52:\tlearn: 1826.2516255\ttotal: 986ms\tremaining: 874ms\n",
      "53:\tlearn: 1823.6509197\ttotal: 1s\tremaining: 854ms\n",
      "54:\tlearn: 1820.8271791\ttotal: 1.02s\tremaining: 834ms\n",
      "55:\tlearn: 1819.5199346\ttotal: 1.04s\tremaining: 814ms\n",
      "56:\tlearn: 1817.5758571\ttotal: 1.05s\tremaining: 794ms\n",
      "57:\tlearn: 1814.3399242\ttotal: 1.07s\tremaining: 777ms\n",
      "58:\tlearn: 1811.8725598\ttotal: 1.09s\tremaining: 758ms\n",
      "59:\tlearn: 1809.8135754\ttotal: 1.11s\tremaining: 741ms\n",
      "60:\tlearn: 1808.2457791\ttotal: 1.13s\tremaining: 722ms\n",
      "61:\tlearn: 1805.2991149\ttotal: 1.15s\tremaining: 703ms\n",
      "62:\tlearn: 1800.2109202\ttotal: 1.17s\tremaining: 684ms\n",
      "63:\tlearn: 1798.1496116\ttotal: 1.18s\tremaining: 665ms\n",
      "64:\tlearn: 1796.4507195\ttotal: 1.2s\tremaining: 647ms\n",
      "65:\tlearn: 1794.9414223\ttotal: 1.22s\tremaining: 628ms\n",
      "66:\tlearn: 1791.9635225\ttotal: 1.24s\tremaining: 609ms\n",
      "67:\tlearn: 1789.0983594\ttotal: 1.25s\tremaining: 590ms\n",
      "68:\tlearn: 1787.3400429\ttotal: 1.27s\tremaining: 573ms\n",
      "69:\tlearn: 1786.0537714\ttotal: 1.29s\tremaining: 554ms\n",
      "70:\tlearn: 1784.6488617\ttotal: 1.31s\tremaining: 537ms\n",
      "71:\tlearn: 1782.5153024\ttotal: 1.33s\tremaining: 518ms\n",
      "72:\tlearn: 1778.9571742\ttotal: 1.35s\tremaining: 500ms\n",
      "73:\tlearn: 1777.4644876\ttotal: 1.37s\tremaining: 481ms\n",
      "74:\tlearn: 1775.6427942\ttotal: 1.39s\tremaining: 462ms\n",
      "75:\tlearn: 1774.4354048\ttotal: 1.4s\tremaining: 443ms\n",
      "76:\tlearn: 1773.0379703\ttotal: 1.42s\tremaining: 425ms\n",
      "77:\tlearn: 1771.7175656\ttotal: 1.44s\tremaining: 407ms\n",
      "78:\tlearn: 1770.7674774\ttotal: 1.46s\tremaining: 388ms\n",
      "79:\tlearn: 1769.0044574\ttotal: 1.48s\tremaining: 370ms\n",
      "80:\tlearn: 1767.4926095\ttotal: 1.5s\tremaining: 351ms\n",
      "81:\tlearn: 1766.3178851\ttotal: 1.51s\tremaining: 333ms\n",
      "82:\tlearn: 1765.4921195\ttotal: 1.53s\tremaining: 314ms\n",
      "83:\tlearn: 1763.3491189\ttotal: 1.55s\tremaining: 296ms\n",
      "84:\tlearn: 1761.7700340\ttotal: 1.57s\tremaining: 277ms\n",
      "85:\tlearn: 1760.2191061\ttotal: 1.6s\tremaining: 260ms\n",
      "86:\tlearn: 1759.0445686\ttotal: 1.62s\tremaining: 243ms\n",
      "87:\tlearn: 1757.2562276\ttotal: 1.65s\tremaining: 225ms\n",
      "88:\tlearn: 1755.2198546\ttotal: 1.67s\tremaining: 206ms\n",
      "89:\tlearn: 1753.9894135\ttotal: 1.69s\tremaining: 187ms\n",
      "90:\tlearn: 1752.8582810\ttotal: 1.7s\tremaining: 168ms\n",
      "91:\tlearn: 1751.1985299\ttotal: 1.72s\tremaining: 150ms\n",
      "92:\tlearn: 1750.3878946\ttotal: 1.74s\tremaining: 131ms\n",
      "93:\tlearn: 1749.4009787\ttotal: 1.76s\tremaining: 112ms\n",
      "94:\tlearn: 1748.5522208\ttotal: 1.77s\tremaining: 93.4ms\n",
      "95:\tlearn: 1744.3200869\ttotal: 1.79s\tremaining: 74.6ms\n",
      "96:\tlearn: 1742.9374408\ttotal: 1.81s\tremaining: 55.9ms\n",
      "97:\tlearn: 1741.7557718\ttotal: 1.82s\tremaining: 37.3ms\n",
      "98:\tlearn: 1740.4005337\ttotal: 1.84s\tremaining: 18.6ms\n",
      "99:\tlearn: 1739.4387974\ttotal: 1.86s\tremaining: 0us\n",
      "0:\tlearn: 3836.8288045\ttotal: 18.1ms\tremaining: 1.79s\n",
      "1:\tlearn: 3353.1950524\ttotal: 36.1ms\tremaining: 1.77s\n",
      "2:\tlearn: 3018.3699847\ttotal: 53.3ms\tremaining: 1.72s\n",
      "3:\tlearn: 2805.2212452\ttotal: 71.6ms\tremaining: 1.72s\n",
      "4:\tlearn: 2615.2787672\ttotal: 88.1ms\tremaining: 1.67s\n",
      "5:\tlearn: 2510.1312558\ttotal: 106ms\tremaining: 1.66s\n",
      "6:\tlearn: 2418.1650715\ttotal: 123ms\tremaining: 1.64s\n",
      "7:\tlearn: 2352.3228056\ttotal: 141ms\tremaining: 1.62s\n",
      "8:\tlearn: 2293.5123458\ttotal: 159ms\tremaining: 1.6s\n",
      "9:\tlearn: 2251.4288506\ttotal: 175ms\tremaining: 1.58s\n",
      "10:\tlearn: 2209.9695585\ttotal: 193ms\tremaining: 1.56s\n",
      "11:\tlearn: 2180.1948696\ttotal: 209ms\tremaining: 1.53s\n",
      "12:\tlearn: 2156.0291823\ttotal: 225ms\tremaining: 1.5s\n",
      "13:\tlearn: 2135.1727115\ttotal: 241ms\tremaining: 1.48s\n",
      "14:\tlearn: 2110.0383674\ttotal: 261ms\tremaining: 1.48s\n",
      "15:\tlearn: 2091.2896910\ttotal: 278ms\tremaining: 1.46s\n",
      "16:\tlearn: 2074.4987527\ttotal: 295ms\tremaining: 1.44s\n",
      "17:\tlearn: 2056.5532387\ttotal: 312ms\tremaining: 1.42s\n",
      "18:\tlearn: 2041.5679559\ttotal: 328ms\tremaining: 1.4s\n",
      "19:\tlearn: 2032.0865027\ttotal: 345ms\tremaining: 1.38s\n",
      "20:\tlearn: 2021.9182900\ttotal: 363ms\tremaining: 1.37s\n",
      "21:\tlearn: 2010.9705272\ttotal: 381ms\tremaining: 1.35s\n",
      "22:\tlearn: 1993.0492106\ttotal: 402ms\tremaining: 1.34s\n",
      "23:\tlearn: 1982.3974984\ttotal: 420ms\tremaining: 1.33s\n",
      "24:\tlearn: 1971.9263868\ttotal: 439ms\tremaining: 1.32s\n",
      "25:\tlearn: 1961.1551374\ttotal: 461ms\tremaining: 1.31s\n",
      "26:\tlearn: 1955.1880305\ttotal: 477ms\tremaining: 1.29s\n",
      "27:\tlearn: 1947.7432975\ttotal: 495ms\tremaining: 1.27s\n",
      "28:\tlearn: 1940.9260411\ttotal: 512ms\tremaining: 1.25s\n",
      "29:\tlearn: 1933.1720052\ttotal: 531ms\tremaining: 1.24s\n",
      "30:\tlearn: 1928.1158941\ttotal: 549ms\tremaining: 1.22s\n",
      "31:\tlearn: 1920.8263024\ttotal: 567ms\tremaining: 1.2s\n",
      "32:\tlearn: 1911.6090257\ttotal: 585ms\tremaining: 1.19s\n",
      "33:\tlearn: 1905.7465161\ttotal: 602ms\tremaining: 1.17s\n",
      "34:\tlearn: 1901.4583718\ttotal: 620ms\tremaining: 1.15s\n",
      "35:\tlearn: 1895.7516098\ttotal: 640ms\tremaining: 1.14s\n",
      "36:\tlearn: 1889.7887442\ttotal: 658ms\tremaining: 1.12s\n",
      "37:\tlearn: 1884.3581366\ttotal: 676ms\tremaining: 1.1s\n",
      "38:\tlearn: 1880.0339385\ttotal: 694ms\tremaining: 1.08s\n",
      "39:\tlearn: 1875.7778567\ttotal: 712ms\tremaining: 1.07s\n",
      "40:\tlearn: 1871.2407977\ttotal: 730ms\tremaining: 1.05s\n",
      "41:\tlearn: 1867.6113699\ttotal: 747ms\tremaining: 1.03s\n",
      "42:\tlearn: 1864.4979514\ttotal: 764ms\tremaining: 1.01s\n",
      "43:\tlearn: 1860.6863549\ttotal: 783ms\tremaining: 996ms\n",
      "44:\tlearn: 1857.4065383\ttotal: 800ms\tremaining: 978ms\n",
      "45:\tlearn: 1853.8461735\ttotal: 820ms\tremaining: 962ms\n",
      "46:\tlearn: 1847.1366116\ttotal: 839ms\tremaining: 947ms\n",
      "47:\tlearn: 1843.0104599\ttotal: 860ms\tremaining: 931ms\n",
      "48:\tlearn: 1839.9648319\ttotal: 879ms\tremaining: 915ms\n",
      "49:\tlearn: 1838.2748908\ttotal: 902ms\tremaining: 902ms\n",
      "50:\tlearn: 1835.2360686\ttotal: 924ms\tremaining: 888ms\n",
      "51:\tlearn: 1831.6637361\ttotal: 941ms\tremaining: 868ms\n",
      "52:\tlearn: 1829.3716288\ttotal: 958ms\tremaining: 849ms\n",
      "53:\tlearn: 1826.2728053\ttotal: 978ms\tremaining: 833ms\n",
      "54:\tlearn: 1822.6788283\ttotal: 997ms\tremaining: 815ms\n",
      "55:\tlearn: 1820.1525903\ttotal: 1.01s\tremaining: 796ms\n",
      "56:\tlearn: 1817.9718088\ttotal: 1.03s\tremaining: 778ms\n",
      "57:\tlearn: 1816.3111787\ttotal: 1.05s\tremaining: 760ms\n",
      "58:\tlearn: 1813.9029607\ttotal: 1.07s\tremaining: 741ms\n",
      "59:\tlearn: 1809.9904635\ttotal: 1.08s\tremaining: 723ms\n",
      "60:\tlearn: 1807.4247576\ttotal: 1.1s\tremaining: 706ms\n",
      "61:\tlearn: 1805.6610909\ttotal: 1.12s\tremaining: 689ms\n",
      "62:\tlearn: 1803.5983160\ttotal: 1.14s\tremaining: 670ms\n",
      "63:\tlearn: 1801.2237962\ttotal: 1.16s\tremaining: 651ms\n",
      "64:\tlearn: 1799.4296101\ttotal: 1.17s\tremaining: 632ms\n",
      "65:\tlearn: 1797.8714319\ttotal: 1.19s\tremaining: 613ms\n",
      "66:\tlearn: 1795.1366123\ttotal: 1.21s\tremaining: 595ms\n",
      "67:\tlearn: 1793.6680623\ttotal: 1.23s\tremaining: 577ms\n",
      "68:\tlearn: 1791.7650690\ttotal: 1.24s\tremaining: 558ms\n",
      "69:\tlearn: 1789.4220351\ttotal: 1.26s\tremaining: 541ms\n",
      "70:\tlearn: 1787.8318349\ttotal: 1.28s\tremaining: 522ms\n",
      "71:\tlearn: 1785.5157018\ttotal: 1.3s\tremaining: 505ms\n",
      "72:\tlearn: 1783.9054030\ttotal: 1.32s\tremaining: 487ms\n",
      "73:\tlearn: 1780.8639635\ttotal: 1.34s\tremaining: 470ms\n",
      "74:\tlearn: 1779.2799312\ttotal: 1.35s\tremaining: 451ms\n",
      "75:\tlearn: 1777.6632141\ttotal: 1.37s\tremaining: 433ms\n",
      "76:\tlearn: 1776.6564361\ttotal: 1.39s\tremaining: 415ms\n",
      "77:\tlearn: 1775.4357281\ttotal: 1.41s\tremaining: 397ms\n",
      "78:\tlearn: 1773.8597032\ttotal: 1.43s\tremaining: 379ms\n",
      "79:\tlearn: 1772.7031828\ttotal: 1.44s\tremaining: 361ms\n",
      "80:\tlearn: 1770.9295595\ttotal: 1.46s\tremaining: 343ms\n",
      "81:\tlearn: 1769.6388370\ttotal: 1.48s\tremaining: 325ms\n",
      "82:\tlearn: 1768.1916134\ttotal: 1.5s\tremaining: 307ms\n",
      "83:\tlearn: 1767.0921799\ttotal: 1.51s\tremaining: 288ms\n",
      "84:\tlearn: 1765.3665165\ttotal: 1.53s\tremaining: 270ms\n",
      "85:\tlearn: 1764.2346261\ttotal: 1.55s\tremaining: 252ms\n",
      "86:\tlearn: 1763.4317192\ttotal: 1.56s\tremaining: 234ms\n",
      "87:\tlearn: 1761.7437368\ttotal: 1.58s\tremaining: 216ms\n",
      "88:\tlearn: 1760.6289687\ttotal: 1.6s\tremaining: 198ms\n",
      "89:\tlearn: 1759.3840486\ttotal: 1.61s\tremaining: 179ms\n",
      "90:\tlearn: 1758.5780110\ttotal: 1.63s\tremaining: 161ms\n",
      "91:\tlearn: 1757.8942617\ttotal: 1.65s\tremaining: 143ms\n",
      "92:\tlearn: 1756.7328832\ttotal: 1.66s\tremaining: 125ms\n",
      "93:\tlearn: 1755.7549125\ttotal: 1.68s\tremaining: 107ms\n",
      "94:\tlearn: 1754.7394945\ttotal: 1.7s\tremaining: 89.3ms\n",
      "95:\tlearn: 1753.4572261\ttotal: 1.71s\tremaining: 71.3ms\n",
      "96:\tlearn: 1751.4455892\ttotal: 1.73s\tremaining: 53.5ms\n",
      "97:\tlearn: 1749.8874190\ttotal: 1.75s\tremaining: 35.6ms\n",
      "98:\tlearn: 1748.3226447\ttotal: 1.76s\tremaining: 17.8ms\n",
      "99:\tlearn: 1746.7547158\ttotal: 1.78s\tremaining: 0us\n",
      "0:\tlearn: 3838.1659418\ttotal: 18.5ms\tremaining: 1.83s\n",
      "1:\tlearn: 3353.3084820\ttotal: 37ms\tremaining: 1.81s\n",
      "2:\tlearn: 3017.6076161\ttotal: 54.7ms\tremaining: 1.77s\n",
      "3:\tlearn: 2793.6481718\ttotal: 73.4ms\tremaining: 1.76s\n",
      "4:\tlearn: 2632.1128683\ttotal: 91.9ms\tremaining: 1.75s\n",
      "5:\tlearn: 2515.1457110\ttotal: 111ms\tremaining: 1.74s\n",
      "6:\tlearn: 2422.8217656\ttotal: 129ms\tremaining: 1.71s\n",
      "7:\tlearn: 2359.6456571\ttotal: 147ms\tremaining: 1.69s\n",
      "8:\tlearn: 2291.7808400\ttotal: 166ms\tremaining: 1.68s\n",
      "9:\tlearn: 2243.8613951\ttotal: 184ms\tremaining: 1.66s\n",
      "10:\tlearn: 2203.5662690\ttotal: 202ms\tremaining: 1.63s\n",
      "11:\tlearn: 2173.5358725\ttotal: 220ms\tremaining: 1.61s\n",
      "12:\tlearn: 2145.8543273\ttotal: 239ms\tremaining: 1.6s\n",
      "13:\tlearn: 2120.3361593\ttotal: 257ms\tremaining: 1.58s\n",
      "14:\tlearn: 2102.5539270\ttotal: 274ms\tremaining: 1.55s\n",
      "15:\tlearn: 2079.6531728\ttotal: 293ms\tremaining: 1.53s\n",
      "16:\tlearn: 2062.0968727\ttotal: 311ms\tremaining: 1.52s\n",
      "17:\tlearn: 2051.0984673\ttotal: 327ms\tremaining: 1.49s\n",
      "18:\tlearn: 2031.3330465\ttotal: 346ms\tremaining: 1.47s\n",
      "19:\tlearn: 2021.0024895\ttotal: 363ms\tremaining: 1.45s\n",
      "20:\tlearn: 2006.5328916\ttotal: 379ms\tremaining: 1.43s\n",
      "21:\tlearn: 1994.5321480\ttotal: 396ms\tremaining: 1.4s\n",
      "22:\tlearn: 1985.5964757\ttotal: 412ms\tremaining: 1.38s\n",
      "23:\tlearn: 1971.9902846\ttotal: 429ms\tremaining: 1.36s\n",
      "24:\tlearn: 1961.2079216\ttotal: 447ms\tremaining: 1.34s\n",
      "25:\tlearn: 1954.4117475\ttotal: 464ms\tremaining: 1.32s\n",
      "26:\tlearn: 1944.8346092\ttotal: 484ms\tremaining: 1.31s\n",
      "27:\tlearn: 1937.1160170\ttotal: 502ms\tremaining: 1.29s\n",
      "28:\tlearn: 1928.1855410\ttotal: 526ms\tremaining: 1.29s\n",
      "29:\tlearn: 1921.6701510\ttotal: 543ms\tremaining: 1.27s\n",
      "30:\tlearn: 1916.9204830\ttotal: 560ms\tremaining: 1.25s\n",
      "31:\tlearn: 1908.7010349\ttotal: 579ms\tremaining: 1.23s\n",
      "32:\tlearn: 1902.1969470\ttotal: 595ms\tremaining: 1.21s\n",
      "33:\tlearn: 1896.6619358\ttotal: 612ms\tremaining: 1.19s\n",
      "34:\tlearn: 1892.3970080\ttotal: 630ms\tremaining: 1.17s\n",
      "35:\tlearn: 1888.6338797\ttotal: 646ms\tremaining: 1.15s\n",
      "36:\tlearn: 1884.6287998\ttotal: 661ms\tremaining: 1.13s\n",
      "37:\tlearn: 1880.8975001\ttotal: 681ms\tremaining: 1.11s\n",
      "38:\tlearn: 1874.1306803\ttotal: 697ms\tremaining: 1.09s\n",
      "39:\tlearn: 1869.2669688\ttotal: 713ms\tremaining: 1.07s\n",
      "40:\tlearn: 1866.1708391\ttotal: 729ms\tremaining: 1.05s\n",
      "41:\tlearn: 1860.8043891\ttotal: 747ms\tremaining: 1.03s\n",
      "42:\tlearn: 1857.1361401\ttotal: 765ms\tremaining: 1.01s\n",
      "43:\tlearn: 1854.5805658\ttotal: 781ms\tremaining: 994ms\n",
      "44:\tlearn: 1845.6915661\ttotal: 801ms\tremaining: 979ms\n",
      "45:\tlearn: 1841.7345619\ttotal: 819ms\tremaining: 962ms\n",
      "46:\tlearn: 1838.1882761\ttotal: 837ms\tremaining: 943ms\n",
      "47:\tlearn: 1834.5035736\ttotal: 854ms\tremaining: 926ms\n",
      "48:\tlearn: 1831.1630565\ttotal: 876ms\tremaining: 911ms\n",
      "49:\tlearn: 1828.9417247\ttotal: 893ms\tremaining: 893ms\n",
      "50:\tlearn: 1826.4859143\ttotal: 910ms\tremaining: 874ms\n",
      "51:\tlearn: 1822.7201259\ttotal: 927ms\tremaining: 855ms\n",
      "52:\tlearn: 1820.7433275\ttotal: 945ms\tremaining: 838ms\n",
      "53:\tlearn: 1817.4777994\ttotal: 963ms\tremaining: 820ms\n",
      "54:\tlearn: 1815.9209190\ttotal: 980ms\tremaining: 802ms\n",
      "55:\tlearn: 1813.6440766\ttotal: 996ms\tremaining: 783ms\n",
      "56:\tlearn: 1809.4588182\ttotal: 1.01s\tremaining: 765ms\n",
      "57:\tlearn: 1806.8394002\ttotal: 1.03s\tremaining: 746ms\n",
      "58:\tlearn: 1804.1845954\ttotal: 1.05s\tremaining: 729ms\n",
      "59:\tlearn: 1801.9828359\ttotal: 1.06s\tremaining: 711ms\n",
      "60:\tlearn: 1799.9963448\ttotal: 1.08s\tremaining: 692ms\n",
      "61:\tlearn: 1795.6007291\ttotal: 1.1s\tremaining: 675ms\n",
      "62:\tlearn: 1793.1384972\ttotal: 1.12s\tremaining: 656ms\n",
      "63:\tlearn: 1791.4268004\ttotal: 1.13s\tremaining: 637ms\n",
      "64:\tlearn: 1789.0303974\ttotal: 1.15s\tremaining: 619ms\n",
      "65:\tlearn: 1786.8110107\ttotal: 1.17s\tremaining: 600ms\n",
      "66:\tlearn: 1784.1616346\ttotal: 1.18s\tremaining: 582ms\n",
      "67:\tlearn: 1782.3969876\ttotal: 1.2s\tremaining: 564ms\n",
      "68:\tlearn: 1781.1771472\ttotal: 1.22s\tremaining: 546ms\n",
      "69:\tlearn: 1778.7001047\ttotal: 1.23s\tremaining: 528ms\n",
      "70:\tlearn: 1776.9569410\ttotal: 1.25s\tremaining: 510ms\n",
      "71:\tlearn: 1773.5141816\ttotal: 1.27s\tremaining: 492ms\n",
      "72:\tlearn: 1772.5419842\ttotal: 1.28s\tremaining: 474ms\n",
      "73:\tlearn: 1770.7757273\ttotal: 1.3s\tremaining: 458ms\n",
      "74:\tlearn: 1768.9875256\ttotal: 1.32s\tremaining: 440ms\n",
      "75:\tlearn: 1767.9702286\ttotal: 1.34s\tremaining: 422ms\n",
      "76:\tlearn: 1766.1268689\ttotal: 1.35s\tremaining: 404ms\n",
      "77:\tlearn: 1764.9961069\ttotal: 1.37s\tremaining: 386ms\n",
      "78:\tlearn: 1763.5594876\ttotal: 1.38s\tremaining: 368ms\n",
      "79:\tlearn: 1762.7313255\ttotal: 1.4s\tremaining: 350ms\n",
      "80:\tlearn: 1761.7850320\ttotal: 1.42s\tremaining: 332ms\n",
      "81:\tlearn: 1760.8682712\ttotal: 1.43s\tremaining: 315ms\n",
      "82:\tlearn: 1760.0124785\ttotal: 1.45s\tremaining: 298ms\n",
      "83:\tlearn: 1758.7206616\ttotal: 1.47s\tremaining: 280ms\n",
      "84:\tlearn: 1756.8880016\ttotal: 1.49s\tremaining: 262ms\n",
      "85:\tlearn: 1755.3492285\ttotal: 1.5s\tremaining: 245ms\n",
      "86:\tlearn: 1754.6710478\ttotal: 1.52s\tremaining: 227ms\n",
      "87:\tlearn: 1753.5610258\ttotal: 1.54s\tremaining: 210ms\n",
      "88:\tlearn: 1751.5672417\ttotal: 1.55s\tremaining: 192ms\n",
      "89:\tlearn: 1750.4456209\ttotal: 1.57s\tremaining: 175ms\n",
      "90:\tlearn: 1749.8001339\ttotal: 1.59s\tremaining: 157ms\n",
      "91:\tlearn: 1747.6337403\ttotal: 1.61s\tremaining: 140ms\n",
      "92:\tlearn: 1746.4843528\ttotal: 1.63s\tremaining: 122ms\n",
      "93:\tlearn: 1745.1576264\ttotal: 1.64s\tremaining: 105ms\n",
      "94:\tlearn: 1744.0365002\ttotal: 1.66s\tremaining: 87.4ms\n",
      "95:\tlearn: 1742.4465414\ttotal: 1.68s\tremaining: 69.9ms\n",
      "96:\tlearn: 1741.3712827\ttotal: 1.69s\tremaining: 52.4ms\n",
      "97:\tlearn: 1740.6078809\ttotal: 1.71s\tremaining: 34.9ms\n",
      "98:\tlearn: 1739.4815676\ttotal: 1.73s\tremaining: 17.4ms\n",
      "99:\tlearn: 1738.4644713\ttotal: 1.74s\tremaining: 0us\n",
      "0:\tlearn: 3835.2831040\ttotal: 17ms\tremaining: 1.69s\n",
      "1:\tlearn: 3349.1911874\ttotal: 34.6ms\tremaining: 1.69s\n",
      "2:\tlearn: 3013.3248348\ttotal: 52.8ms\tremaining: 1.71s\n",
      "3:\tlearn: 2790.3249728\ttotal: 70.3ms\tremaining: 1.69s\n",
      "4:\tlearn: 2628.3440987\ttotal: 88.2ms\tremaining: 1.68s\n",
      "5:\tlearn: 2511.6736013\ttotal: 107ms\tremaining: 1.67s\n",
      "6:\tlearn: 2418.6297283\ttotal: 124ms\tremaining: 1.64s\n",
      "7:\tlearn: 2348.7221822\ttotal: 140ms\tremaining: 1.61s\n",
      "8:\tlearn: 2295.2537655\ttotal: 156ms\tremaining: 1.58s\n",
      "9:\tlearn: 2253.9177781\ttotal: 172ms\tremaining: 1.55s\n",
      "10:\tlearn: 2214.2936556\ttotal: 188ms\tremaining: 1.52s\n",
      "11:\tlearn: 2176.7074700\ttotal: 205ms\tremaining: 1.51s\n",
      "12:\tlearn: 2145.0112234\ttotal: 224ms\tremaining: 1.5s\n",
      "13:\tlearn: 2124.3695416\ttotal: 240ms\tremaining: 1.47s\n",
      "14:\tlearn: 2107.3645329\ttotal: 257ms\tremaining: 1.46s\n",
      "15:\tlearn: 2083.7960509\ttotal: 274ms\tremaining: 1.44s\n",
      "16:\tlearn: 2064.9512111\ttotal: 291ms\tremaining: 1.42s\n",
      "17:\tlearn: 2053.6572582\ttotal: 308ms\tremaining: 1.4s\n",
      "18:\tlearn: 2039.6711774\ttotal: 324ms\tremaining: 1.38s\n",
      "19:\tlearn: 2020.6012706\ttotal: 342ms\tremaining: 1.37s\n",
      "20:\tlearn: 2007.3240176\ttotal: 359ms\tremaining: 1.35s\n",
      "21:\tlearn: 1997.9845820\ttotal: 375ms\tremaining: 1.33s\n",
      "22:\tlearn: 1988.5064790\ttotal: 392ms\tremaining: 1.31s\n",
      "23:\tlearn: 1974.3428220\ttotal: 410ms\tremaining: 1.3s\n",
      "24:\tlearn: 1964.0266001\ttotal: 428ms\tremaining: 1.28s\n",
      "25:\tlearn: 1958.4862065\ttotal: 443ms\tremaining: 1.26s\n",
      "26:\tlearn: 1950.4647408\ttotal: 460ms\tremaining: 1.24s\n",
      "27:\tlearn: 1937.8261072\ttotal: 476ms\tremaining: 1.22s\n",
      "28:\tlearn: 1932.8100267\ttotal: 492ms\tremaining: 1.21s\n",
      "29:\tlearn: 1918.1946726\ttotal: 510ms\tremaining: 1.19s\n",
      "30:\tlearn: 1911.4367486\ttotal: 525ms\tremaining: 1.17s\n",
      "31:\tlearn: 1906.7366340\ttotal: 541ms\tremaining: 1.15s\n",
      "32:\tlearn: 1899.4347020\ttotal: 558ms\tremaining: 1.13s\n",
      "33:\tlearn: 1896.0019769\ttotal: 574ms\tremaining: 1.11s\n",
      "34:\tlearn: 1890.3565946\ttotal: 592ms\tremaining: 1.1s\n",
      "35:\tlearn: 1886.8410477\ttotal: 609ms\tremaining: 1.08s\n",
      "36:\tlearn: 1883.7282170\ttotal: 625ms\tremaining: 1.06s\n",
      "37:\tlearn: 1877.0307511\ttotal: 642ms\tremaining: 1.05s\n",
      "38:\tlearn: 1872.4716540\ttotal: 659ms\tremaining: 1.03s\n",
      "39:\tlearn: 1865.3161929\ttotal: 676ms\tremaining: 1.01s\n",
      "40:\tlearn: 1861.5275453\ttotal: 692ms\tremaining: 996ms\n",
      "41:\tlearn: 1856.9524084\ttotal: 708ms\tremaining: 978ms\n",
      "42:\tlearn: 1851.3677006\ttotal: 725ms\tremaining: 961ms\n",
      "43:\tlearn: 1847.1380171\ttotal: 742ms\tremaining: 945ms\n",
      "44:\tlearn: 1844.3944851\ttotal: 760ms\tremaining: 929ms\n",
      "45:\tlearn: 1842.2080480\ttotal: 777ms\tremaining: 912ms\n",
      "46:\tlearn: 1836.9576557\ttotal: 793ms\tremaining: 894ms\n",
      "47:\tlearn: 1833.4041473\ttotal: 809ms\tremaining: 877ms\n",
      "48:\tlearn: 1829.8215941\ttotal: 827ms\tremaining: 860ms\n",
      "49:\tlearn: 1826.8740722\ttotal: 842ms\tremaining: 842ms\n",
      "50:\tlearn: 1824.7529799\ttotal: 858ms\tremaining: 825ms\n",
      "51:\tlearn: 1821.5925759\ttotal: 875ms\tremaining: 808ms\n",
      "52:\tlearn: 1819.6596207\ttotal: 891ms\tremaining: 790ms\n",
      "53:\tlearn: 1816.6329257\ttotal: 909ms\tremaining: 774ms\n",
      "54:\tlearn: 1813.4958875\ttotal: 926ms\tremaining: 757ms\n",
      "55:\tlearn: 1810.8035588\ttotal: 941ms\tremaining: 740ms\n",
      "56:\tlearn: 1808.9171095\ttotal: 958ms\tremaining: 723ms\n",
      "57:\tlearn: 1807.0778993\ttotal: 975ms\tremaining: 706ms\n",
      "58:\tlearn: 1805.1652392\ttotal: 992ms\tremaining: 689ms\n",
      "59:\tlearn: 1802.8365942\ttotal: 1.01s\tremaining: 672ms\n",
      "60:\tlearn: 1799.2332020\ttotal: 1.03s\tremaining: 656ms\n",
      "61:\tlearn: 1797.4431895\ttotal: 1.04s\tremaining: 640ms\n",
      "62:\tlearn: 1792.6097673\ttotal: 1.06s\tremaining: 625ms\n",
      "63:\tlearn: 1790.0485403\ttotal: 1.08s\tremaining: 608ms\n",
      "64:\tlearn: 1787.8682360\ttotal: 1.1s\tremaining: 590ms\n",
      "65:\tlearn: 1785.4396952\ttotal: 1.11s\tremaining: 573ms\n",
      "66:\tlearn: 1784.1501909\ttotal: 1.13s\tremaining: 555ms\n",
      "67:\tlearn: 1781.5721986\ttotal: 1.15s\tremaining: 539ms\n",
      "68:\tlearn: 1779.9183532\ttotal: 1.16s\tremaining: 522ms\n",
      "69:\tlearn: 1778.2116057\ttotal: 1.18s\tremaining: 505ms\n",
      "70:\tlearn: 1776.6118311\ttotal: 1.19s\tremaining: 488ms\n",
      "71:\tlearn: 1775.5322853\ttotal: 1.21s\tremaining: 471ms\n",
      "72:\tlearn: 1773.6441621\ttotal: 1.23s\tremaining: 454ms\n",
      "73:\tlearn: 1772.1805428\ttotal: 1.24s\tremaining: 437ms\n",
      "74:\tlearn: 1770.2502209\ttotal: 1.26s\tremaining: 420ms\n",
      "75:\tlearn: 1769.2474160\ttotal: 1.28s\tremaining: 403ms\n",
      "76:\tlearn: 1767.0458703\ttotal: 1.29s\tremaining: 387ms\n",
      "77:\tlearn: 1765.4772903\ttotal: 1.31s\tremaining: 370ms\n",
      "78:\tlearn: 1763.3766241\ttotal: 1.33s\tremaining: 353ms\n",
      "79:\tlearn: 1761.6949876\ttotal: 1.35s\tremaining: 337ms\n",
      "80:\tlearn: 1760.6901233\ttotal: 1.36s\tremaining: 320ms\n",
      "81:\tlearn: 1759.7712546\ttotal: 1.38s\tremaining: 303ms\n",
      "82:\tlearn: 1758.1441113\ttotal: 1.4s\tremaining: 286ms\n",
      "83:\tlearn: 1756.8234326\ttotal: 1.41s\tremaining: 269ms\n",
      "84:\tlearn: 1754.1471005\ttotal: 1.43s\tremaining: 253ms\n",
      "85:\tlearn: 1752.6928527\ttotal: 1.45s\tremaining: 236ms\n",
      "86:\tlearn: 1751.1342241\ttotal: 1.47s\tremaining: 219ms\n",
      "87:\tlearn: 1748.5610845\ttotal: 1.49s\tremaining: 203ms\n",
      "88:\tlearn: 1746.5950685\ttotal: 1.5s\tremaining: 186ms\n",
      "89:\tlearn: 1745.8119947\ttotal: 1.52s\tremaining: 169ms\n",
      "90:\tlearn: 1744.0630612\ttotal: 1.54s\tremaining: 152ms\n",
      "91:\tlearn: 1742.5571437\ttotal: 1.55s\tremaining: 135ms\n",
      "92:\tlearn: 1741.8727213\ttotal: 1.57s\tremaining: 118ms\n",
      "93:\tlearn: 1740.3381116\ttotal: 1.59s\tremaining: 101ms\n",
      "94:\tlearn: 1739.5786085\ttotal: 1.6s\tremaining: 84.4ms\n",
      "95:\tlearn: 1738.3599799\ttotal: 1.62s\tremaining: 67.5ms\n",
      "96:\tlearn: 1735.7293755\ttotal: 1.64s\tremaining: 50.6ms\n",
      "97:\tlearn: 1733.9326812\ttotal: 1.66s\tremaining: 33.8ms\n",
      "98:\tlearn: 1732.7311480\ttotal: 1.67s\tremaining: 16.9ms\n",
      "99:\tlearn: 1731.8222708\ttotal: 1.69s\tremaining: 0us\n",
      "0:\tlearn: 3841.5211690\ttotal: 18.5ms\tremaining: 1.83s\n",
      "1:\tlearn: 3355.5907929\ttotal: 38.5ms\tremaining: 1.89s\n",
      "2:\tlearn: 3019.7716464\ttotal: 57.8ms\tremaining: 1.87s\n",
      "3:\tlearn: 2797.2926925\ttotal: 77ms\tremaining: 1.85s\n",
      "4:\tlearn: 2636.0898204\ttotal: 94.1ms\tremaining: 1.79s\n",
      "5:\tlearn: 2519.7647074\ttotal: 112ms\tremaining: 1.75s\n",
      "6:\tlearn: 2427.2820381\ttotal: 129ms\tremaining: 1.71s\n",
      "7:\tlearn: 2358.1790941\ttotal: 145ms\tremaining: 1.67s\n",
      "8:\tlearn: 2304.2133918\ttotal: 162ms\tremaining: 1.64s\n",
      "9:\tlearn: 2262.6513422\ttotal: 179ms\tremaining: 1.61s\n",
      "10:\tlearn: 2221.3050942\ttotal: 196ms\tremaining: 1.58s\n",
      "11:\tlearn: 2179.6796101\ttotal: 214ms\tremaining: 1.57s\n",
      "12:\tlearn: 2155.7946259\ttotal: 232ms\tremaining: 1.55s\n",
      "13:\tlearn: 2135.4539800\ttotal: 249ms\tremaining: 1.53s\n",
      "14:\tlearn: 2112.8918286\ttotal: 266ms\tremaining: 1.51s\n",
      "15:\tlearn: 2088.1990720\ttotal: 285ms\tremaining: 1.49s\n",
      "16:\tlearn: 2066.8519545\ttotal: 306ms\tremaining: 1.49s\n",
      "17:\tlearn: 2056.3748472\ttotal: 324ms\tremaining: 1.47s\n",
      "18:\tlearn: 2043.1996203\ttotal: 341ms\tremaining: 1.46s\n",
      "19:\tlearn: 2021.5258522\ttotal: 359ms\tremaining: 1.44s\n",
      "20:\tlearn: 2007.0028634\ttotal: 376ms\tremaining: 1.41s\n",
      "21:\tlearn: 2000.5151599\ttotal: 393ms\tremaining: 1.39s\n",
      "22:\tlearn: 1993.8426388\ttotal: 410ms\tremaining: 1.37s\n",
      "23:\tlearn: 1981.5116616\ttotal: 428ms\tremaining: 1.35s\n",
      "24:\tlearn: 1973.1134194\ttotal: 446ms\tremaining: 1.34s\n",
      "25:\tlearn: 1956.7896685\ttotal: 467ms\tremaining: 1.33s\n",
      "26:\tlearn: 1951.3909221\ttotal: 483ms\tremaining: 1.31s\n",
      "27:\tlearn: 1943.0589782\ttotal: 501ms\tremaining: 1.29s\n",
      "28:\tlearn: 1931.9687332\ttotal: 517ms\tremaining: 1.26s\n",
      "29:\tlearn: 1924.8385634\ttotal: 532ms\tremaining: 1.24s\n",
      "30:\tlearn: 1918.7239302\ttotal: 549ms\tremaining: 1.22s\n",
      "31:\tlearn: 1912.0107829\ttotal: 567ms\tremaining: 1.21s\n",
      "32:\tlearn: 1906.8664621\ttotal: 585ms\tremaining: 1.19s\n",
      "33:\tlearn: 1902.4367213\ttotal: 603ms\tremaining: 1.17s\n",
      "34:\tlearn: 1899.1119488\ttotal: 620ms\tremaining: 1.15s\n",
      "35:\tlearn: 1894.0731240\ttotal: 638ms\tremaining: 1.13s\n",
      "36:\tlearn: 1889.2503376\ttotal: 656ms\tremaining: 1.12s\n",
      "37:\tlearn: 1885.5052855\ttotal: 673ms\tremaining: 1.1s\n",
      "38:\tlearn: 1882.5689879\ttotal: 691ms\tremaining: 1.08s\n",
      "39:\tlearn: 1876.0829364\ttotal: 711ms\tremaining: 1.07s\n",
      "40:\tlearn: 1871.0301616\ttotal: 729ms\tremaining: 1.05s\n",
      "41:\tlearn: 1867.9939305\ttotal: 746ms\tremaining: 1.03s\n",
      "42:\tlearn: 1863.9848944\ttotal: 764ms\tremaining: 1.01s\n",
      "43:\tlearn: 1858.7784230\ttotal: 782ms\tremaining: 995ms\n",
      "44:\tlearn: 1853.7612473\ttotal: 803ms\tremaining: 982ms\n",
      "45:\tlearn: 1850.7807554\ttotal: 824ms\tremaining: 967ms\n",
      "46:\tlearn: 1849.1252991\ttotal: 843ms\tremaining: 950ms\n",
      "47:\tlearn: 1846.1277945\ttotal: 864ms\tremaining: 936ms\n",
      "48:\tlearn: 1842.1846526\ttotal: 889ms\tremaining: 925ms\n",
      "49:\tlearn: 1839.3992654\ttotal: 907ms\tremaining: 907ms\n",
      "50:\tlearn: 1837.1375002\ttotal: 930ms\tremaining: 893ms\n",
      "51:\tlearn: 1834.2835217\ttotal: 951ms\tremaining: 878ms\n",
      "52:\tlearn: 1832.2944260\ttotal: 971ms\tremaining: 861ms\n",
      "53:\tlearn: 1827.1797312\ttotal: 991ms\tremaining: 844ms\n",
      "54:\tlearn: 1824.3862055\ttotal: 1.01s\tremaining: 828ms\n",
      "55:\tlearn: 1821.7455579\ttotal: 1.03s\tremaining: 811ms\n",
      "56:\tlearn: 1819.0143170\ttotal: 1.05s\tremaining: 791ms\n",
      "57:\tlearn: 1816.6681362\ttotal: 1.07s\tremaining: 772ms\n",
      "58:\tlearn: 1813.7499376\ttotal: 1.08s\tremaining: 752ms\n",
      "59:\tlearn: 1811.9269880\ttotal: 1.1s\tremaining: 733ms\n",
      "60:\tlearn: 1809.4132831\ttotal: 1.11s\tremaining: 713ms\n",
      "61:\tlearn: 1807.3005122\ttotal: 1.13s\tremaining: 693ms\n",
      "62:\tlearn: 1805.5205137\ttotal: 1.15s\tremaining: 674ms\n",
      "63:\tlearn: 1803.9452290\ttotal: 1.17s\tremaining: 657ms\n",
      "64:\tlearn: 1802.7407188\ttotal: 1.18s\tremaining: 638ms\n",
      "65:\tlearn: 1799.5276318\ttotal: 1.2s\tremaining: 619ms\n",
      "66:\tlearn: 1796.5297560\ttotal: 1.22s\tremaining: 600ms\n",
      "67:\tlearn: 1791.4708204\ttotal: 1.24s\tremaining: 582ms\n",
      "68:\tlearn: 1787.8233318\ttotal: 1.25s\tremaining: 564ms\n",
      "69:\tlearn: 1785.8800233\ttotal: 1.27s\tremaining: 546ms\n",
      "70:\tlearn: 1784.5500860\ttotal: 1.29s\tremaining: 528ms\n",
      "71:\tlearn: 1782.9252983\ttotal: 1.31s\tremaining: 510ms\n",
      "72:\tlearn: 1781.8492492\ttotal: 1.33s\tremaining: 491ms\n",
      "73:\tlearn: 1779.2704793\ttotal: 1.34s\tremaining: 472ms\n",
      "74:\tlearn: 1777.1210312\ttotal: 1.36s\tremaining: 454ms\n",
      "75:\tlearn: 1775.2613742\ttotal: 1.38s\tremaining: 436ms\n",
      "76:\tlearn: 1774.0146436\ttotal: 1.4s\tremaining: 417ms\n",
      "77:\tlearn: 1772.2073432\ttotal: 1.41s\tremaining: 399ms\n",
      "78:\tlearn: 1770.7886089\ttotal: 1.43s\tremaining: 380ms\n",
      "79:\tlearn: 1769.7549328\ttotal: 1.45s\tremaining: 362ms\n",
      "80:\tlearn: 1768.7987415\ttotal: 1.47s\tremaining: 344ms\n",
      "81:\tlearn: 1765.4690489\ttotal: 1.48s\tremaining: 326ms\n",
      "82:\tlearn: 1763.8514415\ttotal: 1.5s\tremaining: 307ms\n",
      "83:\tlearn: 1760.9043713\ttotal: 1.52s\tremaining: 289ms\n",
      "84:\tlearn: 1759.0200264\ttotal: 1.53s\tremaining: 271ms\n",
      "85:\tlearn: 1757.9084431\ttotal: 1.55s\tremaining: 252ms\n",
      "86:\tlearn: 1757.1907991\ttotal: 1.57s\tremaining: 234ms\n",
      "87:\tlearn: 1756.1361707\ttotal: 1.58s\tremaining: 216ms\n",
      "88:\tlearn: 1754.3442718\ttotal: 1.6s\tremaining: 198ms\n",
      "89:\tlearn: 1753.2940601\ttotal: 1.62s\tremaining: 180ms\n",
      "90:\tlearn: 1751.9001713\ttotal: 1.63s\tremaining: 162ms\n",
      "91:\tlearn: 1749.4807139\ttotal: 1.65s\tremaining: 144ms\n",
      "92:\tlearn: 1748.3178857\ttotal: 1.67s\tremaining: 126ms\n",
      "93:\tlearn: 1746.8032873\ttotal: 1.69s\tremaining: 108ms\n",
      "94:\tlearn: 1744.8303750\ttotal: 1.7s\tremaining: 89.6ms\n",
      "95:\tlearn: 1744.2061696\ttotal: 1.72s\tremaining: 71.6ms\n",
      "96:\tlearn: 1743.0808921\ttotal: 1.74s\tremaining: 53.7ms\n",
      "97:\tlearn: 1742.4744634\ttotal: 1.75s\tremaining: 35.8ms\n",
      "98:\tlearn: 1740.9055695\ttotal: 1.77s\tremaining: 17.9ms\n",
      "99:\tlearn: 1740.3686237\ttotal: 1.79s\tremaining: 0us\n",
      "0:\tlearn: 3675.9326996\ttotal: 27.3ms\tremaining: 246ms\n",
      "1:\tlearn: 3066.8334489\ttotal: 53.8ms\tremaining: 215ms\n",
      "2:\tlearn: 2683.8609173\ttotal: 80.3ms\tremaining: 187ms\n",
      "3:\tlearn: 2427.5334297\ttotal: 105ms\tremaining: 158ms\n",
      "4:\tlearn: 2252.5230349\ttotal: 132ms\tremaining: 132ms\n",
      "5:\tlearn: 2141.9599976\ttotal: 157ms\tremaining: 105ms\n",
      "6:\tlearn: 2067.7649680\ttotal: 181ms\tremaining: 77.6ms\n",
      "7:\tlearn: 1990.0932226\ttotal: 208ms\tremaining: 51.9ms\n",
      "8:\tlearn: 1946.2703249\ttotal: 233ms\tremaining: 25.9ms\n",
      "9:\tlearn: 1918.0061937\ttotal: 257ms\tremaining: 0us\n",
      "0:\tlearn: 3671.6139353\ttotal: 24.3ms\tremaining: 219ms\n",
      "1:\tlearn: 3072.2515486\ttotal: 50.1ms\tremaining: 200ms\n",
      "2:\tlearn: 2668.4903244\ttotal: 74.6ms\tremaining: 174ms\n",
      "3:\tlearn: 2408.4387754\ttotal: 100ms\tremaining: 151ms\n",
      "4:\tlearn: 2240.0250522\ttotal: 124ms\tremaining: 124ms\n",
      "5:\tlearn: 2138.6840130\ttotal: 149ms\tremaining: 99.1ms\n",
      "6:\tlearn: 2051.7572318\ttotal: 174ms\tremaining: 74.5ms\n",
      "7:\tlearn: 1995.8317438\ttotal: 198ms\tremaining: 49.5ms\n",
      "8:\tlearn: 1939.1347403\ttotal: 224ms\tremaining: 24.9ms\n",
      "9:\tlearn: 1905.8855069\ttotal: 248ms\tremaining: 0us\n",
      "0:\tlearn: 3666.2538562\ttotal: 23.4ms\tremaining: 211ms\n",
      "1:\tlearn: 3064.8358663\ttotal: 47.9ms\tremaining: 192ms\n",
      "2:\tlearn: 2682.2792703\ttotal: 72.1ms\tremaining: 168ms\n",
      "3:\tlearn: 2435.1123566\ttotal: 98.5ms\tremaining: 148ms\n",
      "4:\tlearn: 2258.2764519\ttotal: 127ms\tremaining: 127ms\n",
      "5:\tlearn: 2151.3186345\ttotal: 159ms\tremaining: 106ms\n",
      "6:\tlearn: 2064.1254994\ttotal: 188ms\tremaining: 80.7ms\n",
      "7:\tlearn: 2001.6633372\ttotal: 215ms\tremaining: 53.7ms\n",
      "8:\tlearn: 1959.1845584\ttotal: 240ms\tremaining: 26.6ms\n",
      "9:\tlearn: 1916.9632621\ttotal: 264ms\tremaining: 0us\n",
      "0:\tlearn: 3663.3276375\ttotal: 25.4ms\tremaining: 229ms\n",
      "1:\tlearn: 3053.1157573\ttotal: 52.7ms\tremaining: 211ms\n",
      "2:\tlearn: 2670.2882826\ttotal: 78.3ms\tremaining: 183ms\n",
      "3:\tlearn: 2415.7768564\ttotal: 105ms\tremaining: 157ms\n",
      "4:\tlearn: 2241.6743906\ttotal: 132ms\tremaining: 132ms\n",
      "5:\tlearn: 2130.3198769\ttotal: 155ms\tremaining: 103ms\n",
      "6:\tlearn: 2053.5047997\ttotal: 179ms\tremaining: 76.5ms\n",
      "7:\tlearn: 1982.2662298\ttotal: 203ms\tremaining: 50.8ms\n",
      "8:\tlearn: 1941.5878512\ttotal: 226ms\tremaining: 25.1ms\n",
      "9:\tlearn: 1897.3477179\ttotal: 252ms\tremaining: 0us\n",
      "0:\tlearn: 3670.1929858\ttotal: 24.7ms\tremaining: 222ms\n",
      "1:\tlearn: 3061.3188735\ttotal: 50.3ms\tremaining: 201ms\n",
      "2:\tlearn: 2679.5785270\ttotal: 78.6ms\tremaining: 184ms\n",
      "3:\tlearn: 2423.4142760\ttotal: 104ms\tremaining: 156ms\n",
      "4:\tlearn: 2250.4061912\ttotal: 132ms\tremaining: 132ms\n",
      "5:\tlearn: 2142.4332185\ttotal: 156ms\tremaining: 104ms\n",
      "6:\tlearn: 2064.5417941\ttotal: 181ms\tremaining: 77.5ms\n",
      "7:\tlearn: 2011.2800018\ttotal: 204ms\tremaining: 51ms\n",
      "8:\tlearn: 1966.1245290\ttotal: 230ms\tremaining: 25.6ms\n",
      "9:\tlearn: 1926.7942283\ttotal: 255ms\tremaining: 0us\n",
      "0:\tlearn: 3675.9326996\ttotal: 24.8ms\tremaining: 1.22s\n",
      "1:\tlearn: 3066.8334489\ttotal: 50.2ms\tremaining: 1.2s\n",
      "2:\tlearn: 2683.8609173\ttotal: 74.9ms\tremaining: 1.17s\n",
      "3:\tlearn: 2427.5334297\ttotal: 98.2ms\tremaining: 1.13s\n",
      "4:\tlearn: 2252.5230349\ttotal: 123ms\tremaining: 1.11s\n",
      "5:\tlearn: 2141.9599976\ttotal: 146ms\tremaining: 1.07s\n",
      "6:\tlearn: 2067.7649680\ttotal: 169ms\tremaining: 1.04s\n",
      "7:\tlearn: 1990.0932226\ttotal: 195ms\tremaining: 1.02s\n",
      "8:\tlearn: 1946.2703249\ttotal: 220ms\tremaining: 1s\n",
      "9:\tlearn: 1918.0061937\ttotal: 244ms\tremaining: 975ms\n",
      "10:\tlearn: 1894.3989435\ttotal: 267ms\tremaining: 947ms\n",
      "11:\tlearn: 1864.4848968\ttotal: 294ms\tremaining: 930ms\n",
      "12:\tlearn: 1846.0326560\ttotal: 315ms\tremaining: 897ms\n",
      "13:\tlearn: 1831.3680128\ttotal: 338ms\tremaining: 870ms\n",
      "14:\tlearn: 1816.5886209\ttotal: 361ms\tremaining: 843ms\n",
      "15:\tlearn: 1804.0245348\ttotal: 386ms\tremaining: 820ms\n",
      "16:\tlearn: 1783.8734717\ttotal: 409ms\tremaining: 795ms\n",
      "17:\tlearn: 1773.4067044\ttotal: 432ms\tremaining: 769ms\n",
      "18:\tlearn: 1765.7256070\ttotal: 456ms\tremaining: 744ms\n",
      "19:\tlearn: 1758.8406957\ttotal: 479ms\tremaining: 719ms\n",
      "20:\tlearn: 1752.8673137\ttotal: 501ms\tremaining: 692ms\n",
      "21:\tlearn: 1744.8025358\ttotal: 525ms\tremaining: 668ms\n",
      "22:\tlearn: 1740.1444707\ttotal: 548ms\tremaining: 644ms\n",
      "23:\tlearn: 1729.0193964\ttotal: 573ms\tremaining: 621ms\n",
      "24:\tlearn: 1721.5274636\ttotal: 597ms\tremaining: 597ms\n",
      "25:\tlearn: 1716.1294732\ttotal: 621ms\tremaining: 573ms\n",
      "26:\tlearn: 1711.6202320\ttotal: 644ms\tremaining: 549ms\n",
      "27:\tlearn: 1705.9271058\ttotal: 668ms\tremaining: 525ms\n",
      "28:\tlearn: 1702.4257074\ttotal: 693ms\tremaining: 502ms\n",
      "29:\tlearn: 1698.0903636\ttotal: 716ms\tremaining: 477ms\n",
      "30:\tlearn: 1693.4473313\ttotal: 740ms\tremaining: 454ms\n",
      "31:\tlearn: 1687.7948476\ttotal: 765ms\tremaining: 430ms\n",
      "32:\tlearn: 1683.7269600\ttotal: 791ms\tremaining: 407ms\n",
      "33:\tlearn: 1680.3052481\ttotal: 815ms\tremaining: 384ms\n",
      "34:\tlearn: 1675.9313319\ttotal: 840ms\tremaining: 360ms\n",
      "35:\tlearn: 1672.2070723\ttotal: 863ms\tremaining: 336ms\n",
      "36:\tlearn: 1670.0185569\ttotal: 888ms\tremaining: 312ms\n",
      "37:\tlearn: 1666.6507816\ttotal: 913ms\tremaining: 288ms\n",
      "38:\tlearn: 1663.0897010\ttotal: 936ms\tremaining: 264ms\n",
      "39:\tlearn: 1660.1031322\ttotal: 961ms\tremaining: 240ms\n",
      "40:\tlearn: 1656.6008515\ttotal: 984ms\tremaining: 216ms\n",
      "41:\tlearn: 1653.1726357\ttotal: 1.01s\tremaining: 192ms\n",
      "42:\tlearn: 1650.9815481\ttotal: 1.03s\tremaining: 168ms\n",
      "43:\tlearn: 1646.3316675\ttotal: 1.05s\tremaining: 144ms\n",
      "44:\tlearn: 1643.1866847\ttotal: 1.08s\tremaining: 120ms\n",
      "45:\tlearn: 1640.4686239\ttotal: 1.1s\tremaining: 95.9ms\n",
      "46:\tlearn: 1638.2761737\ttotal: 1.13s\tremaining: 71.9ms\n",
      "47:\tlearn: 1633.9929587\ttotal: 1.15s\tremaining: 48ms\n",
      "48:\tlearn: 1631.5025326\ttotal: 1.18s\tremaining: 24ms\n",
      "49:\tlearn: 1628.7897874\ttotal: 1.2s\tremaining: 0us\n",
      "0:\tlearn: 3671.6139353\ttotal: 27.2ms\tremaining: 1.33s\n",
      "1:\tlearn: 3072.2515486\ttotal: 52.1ms\tremaining: 1.25s\n",
      "2:\tlearn: 2668.4903244\ttotal: 76.9ms\tremaining: 1.21s\n",
      "3:\tlearn: 2408.4387754\ttotal: 102ms\tremaining: 1.18s\n",
      "4:\tlearn: 2240.0250522\ttotal: 127ms\tremaining: 1.15s\n",
      "5:\tlearn: 2138.6840130\ttotal: 151ms\tremaining: 1.11s\n",
      "6:\tlearn: 2051.7572318\ttotal: 176ms\tremaining: 1.08s\n",
      "7:\tlearn: 1995.8317438\ttotal: 202ms\tremaining: 1.06s\n",
      "8:\tlearn: 1939.1347403\ttotal: 228ms\tremaining: 1.04s\n",
      "9:\tlearn: 1905.8855069\ttotal: 252ms\tremaining: 1.01s\n",
      "10:\tlearn: 1885.2086188\ttotal: 275ms\tremaining: 975ms\n",
      "11:\tlearn: 1860.8805307\ttotal: 300ms\tremaining: 949ms\n",
      "12:\tlearn: 1837.1001024\ttotal: 322ms\tremaining: 915ms\n",
      "13:\tlearn: 1823.1966141\ttotal: 345ms\tremaining: 887ms\n",
      "14:\tlearn: 1812.0896313\ttotal: 368ms\tremaining: 859ms\n",
      "15:\tlearn: 1793.6427771\ttotal: 393ms\tremaining: 836ms\n",
      "16:\tlearn: 1785.3387525\ttotal: 415ms\tremaining: 806ms\n",
      "17:\tlearn: 1774.2051429\ttotal: 438ms\tremaining: 778ms\n",
      "18:\tlearn: 1766.5024187\ttotal: 464ms\tremaining: 757ms\n",
      "19:\tlearn: 1754.3331575\ttotal: 489ms\tremaining: 733ms\n",
      "20:\tlearn: 1748.1569558\ttotal: 510ms\tremaining: 705ms\n",
      "21:\tlearn: 1741.4796486\ttotal: 533ms\tremaining: 679ms\n",
      "22:\tlearn: 1732.2671378\ttotal: 557ms\tremaining: 654ms\n",
      "23:\tlearn: 1725.9479178\ttotal: 581ms\tremaining: 630ms\n",
      "24:\tlearn: 1718.6714603\ttotal: 605ms\tremaining: 605ms\n",
      "25:\tlearn: 1711.9882441\ttotal: 628ms\tremaining: 580ms\n",
      "26:\tlearn: 1704.5862092\ttotal: 653ms\tremaining: 556ms\n",
      "27:\tlearn: 1701.3576239\ttotal: 677ms\tremaining: 532ms\n",
      "28:\tlearn: 1696.7725982\ttotal: 700ms\tremaining: 507ms\n",
      "29:\tlearn: 1692.1793610\ttotal: 724ms\tremaining: 483ms\n",
      "30:\tlearn: 1686.3394743\ttotal: 749ms\tremaining: 459ms\n",
      "31:\tlearn: 1680.3303362\ttotal: 771ms\tremaining: 434ms\n",
      "32:\tlearn: 1677.3880343\ttotal: 792ms\tremaining: 408ms\n",
      "33:\tlearn: 1674.4366581\ttotal: 814ms\tremaining: 383ms\n",
      "34:\tlearn: 1670.1166563\ttotal: 836ms\tremaining: 358ms\n",
      "35:\tlearn: 1667.1225233\ttotal: 861ms\tremaining: 335ms\n",
      "36:\tlearn: 1661.2236626\ttotal: 888ms\tremaining: 312ms\n",
      "37:\tlearn: 1656.8822390\ttotal: 927ms\tremaining: 293ms\n",
      "38:\tlearn: 1651.7930140\ttotal: 959ms\tremaining: 271ms\n",
      "39:\tlearn: 1649.2301957\ttotal: 984ms\tremaining: 246ms\n",
      "40:\tlearn: 1647.5121294\ttotal: 1.01s\tremaining: 222ms\n",
      "41:\tlearn: 1644.7522866\ttotal: 1.04s\tremaining: 197ms\n",
      "42:\tlearn: 1641.7143038\ttotal: 1.06s\tremaining: 173ms\n",
      "43:\tlearn: 1638.6568198\ttotal: 1.08s\tremaining: 148ms\n",
      "44:\tlearn: 1636.4038252\ttotal: 1.11s\tremaining: 123ms\n",
      "45:\tlearn: 1632.9108333\ttotal: 1.13s\tremaining: 98.5ms\n",
      "46:\tlearn: 1629.4812404\ttotal: 1.16s\tremaining: 74ms\n",
      "47:\tlearn: 1626.7955287\ttotal: 1.18s\tremaining: 49.3ms\n",
      "48:\tlearn: 1624.6045442\ttotal: 1.21s\tremaining: 24.6ms\n",
      "49:\tlearn: 1621.3736676\ttotal: 1.23s\tremaining: 0us\n",
      "0:\tlearn: 3666.2538562\ttotal: 24.7ms\tremaining: 1.21s\n",
      "1:\tlearn: 3064.8358663\ttotal: 47.3ms\tremaining: 1.14s\n",
      "2:\tlearn: 2682.2792703\ttotal: 72.7ms\tremaining: 1.14s\n",
      "3:\tlearn: 2435.1123566\ttotal: 97.5ms\tremaining: 1.12s\n",
      "4:\tlearn: 2258.2764519\ttotal: 123ms\tremaining: 1.1s\n",
      "5:\tlearn: 2151.3186345\ttotal: 147ms\tremaining: 1.08s\n",
      "6:\tlearn: 2064.1254994\ttotal: 172ms\tremaining: 1.06s\n",
      "7:\tlearn: 2001.6633372\ttotal: 202ms\tremaining: 1.06s\n",
      "8:\tlearn: 1959.1845584\ttotal: 229ms\tremaining: 1.04s\n",
      "9:\tlearn: 1916.9632621\ttotal: 259ms\tremaining: 1.03s\n",
      "10:\tlearn: 1888.5783985\ttotal: 284ms\tremaining: 1.01s\n",
      "11:\tlearn: 1868.4650745\ttotal: 312ms\tremaining: 987ms\n",
      "12:\tlearn: 1841.4273423\ttotal: 338ms\tremaining: 961ms\n",
      "13:\tlearn: 1826.7800019\ttotal: 363ms\tremaining: 934ms\n",
      "14:\tlearn: 1811.5264006\ttotal: 389ms\tremaining: 907ms\n",
      "15:\tlearn: 1800.2841895\ttotal: 413ms\tremaining: 877ms\n",
      "16:\tlearn: 1791.8207219\ttotal: 438ms\tremaining: 849ms\n",
      "17:\tlearn: 1781.1897726\ttotal: 466ms\tremaining: 828ms\n",
      "18:\tlearn: 1768.1453515\ttotal: 492ms\tremaining: 802ms\n",
      "19:\tlearn: 1758.6526274\ttotal: 520ms\tremaining: 780ms\n",
      "20:\tlearn: 1750.3078059\ttotal: 545ms\tremaining: 753ms\n",
      "21:\tlearn: 1742.4229008\ttotal: 570ms\tremaining: 725ms\n",
      "22:\tlearn: 1732.5365871\ttotal: 596ms\tremaining: 699ms\n",
      "23:\tlearn: 1725.3067614\ttotal: 621ms\tremaining: 673ms\n",
      "24:\tlearn: 1720.0550645\ttotal: 646ms\tremaining: 646ms\n",
      "25:\tlearn: 1715.6675913\ttotal: 670ms\tremaining: 618ms\n",
      "26:\tlearn: 1710.9236528\ttotal: 694ms\tremaining: 591ms\n",
      "27:\tlearn: 1703.1197395\ttotal: 720ms\tremaining: 566ms\n",
      "28:\tlearn: 1699.1286830\ttotal: 743ms\tremaining: 538ms\n",
      "29:\tlearn: 1694.5940557\ttotal: 766ms\tremaining: 511ms\n",
      "30:\tlearn: 1689.0524848\ttotal: 790ms\tremaining: 484ms\n",
      "31:\tlearn: 1685.8024152\ttotal: 816ms\tremaining: 459ms\n",
      "32:\tlearn: 1683.1998553\ttotal: 839ms\tremaining: 432ms\n",
      "33:\tlearn: 1679.0040922\ttotal: 865ms\tremaining: 407ms\n",
      "34:\tlearn: 1675.1218163\ttotal: 889ms\tremaining: 381ms\n",
      "35:\tlearn: 1668.4335054\ttotal: 913ms\tremaining: 355ms\n",
      "36:\tlearn: 1665.3099918\ttotal: 938ms\tremaining: 330ms\n",
      "37:\tlearn: 1660.5822600\ttotal: 965ms\tremaining: 305ms\n",
      "38:\tlearn: 1657.1917609\ttotal: 991ms\tremaining: 280ms\n",
      "39:\tlearn: 1653.4626930\ttotal: 1.01s\tremaining: 254ms\n",
      "40:\tlearn: 1650.2607599\ttotal: 1.04s\tremaining: 228ms\n",
      "41:\tlearn: 1646.2706312\ttotal: 1.06s\tremaining: 203ms\n",
      "42:\tlearn: 1642.8891244\ttotal: 1.09s\tremaining: 178ms\n",
      "43:\tlearn: 1639.8630813\ttotal: 1.12s\tremaining: 152ms\n",
      "44:\tlearn: 1636.7613681\ttotal: 1.14s\tremaining: 127ms\n",
      "45:\tlearn: 1633.1230653\ttotal: 1.17s\tremaining: 101ms\n",
      "46:\tlearn: 1629.2027185\ttotal: 1.19s\tremaining: 76.1ms\n",
      "47:\tlearn: 1626.4945061\ttotal: 1.22s\tremaining: 50.7ms\n",
      "48:\tlearn: 1623.4309010\ttotal: 1.24s\tremaining: 25.3ms\n",
      "49:\tlearn: 1620.5293856\ttotal: 1.26s\tremaining: 0us\n",
      "0:\tlearn: 3663.3276375\ttotal: 25.6ms\tremaining: 1.25s\n",
      "1:\tlearn: 3053.1157573\ttotal: 51.7ms\tremaining: 1.24s\n",
      "2:\tlearn: 2670.2882826\ttotal: 76.4ms\tremaining: 1.2s\n",
      "3:\tlearn: 2415.7768564\ttotal: 101ms\tremaining: 1.16s\n",
      "4:\tlearn: 2241.6743906\ttotal: 133ms\tremaining: 1.2s\n",
      "5:\tlearn: 2130.3198769\ttotal: 157ms\tremaining: 1.15s\n",
      "6:\tlearn: 2053.5047997\ttotal: 180ms\tremaining: 1.11s\n",
      "7:\tlearn: 1982.2662298\ttotal: 207ms\tremaining: 1.09s\n",
      "8:\tlearn: 1941.5878512\ttotal: 232ms\tremaining: 1.05s\n",
      "9:\tlearn: 1897.3477179\ttotal: 257ms\tremaining: 1.03s\n",
      "10:\tlearn: 1871.7919454\ttotal: 281ms\tremaining: 995ms\n",
      "11:\tlearn: 1847.0547307\ttotal: 307ms\tremaining: 971ms\n",
      "12:\tlearn: 1827.6096799\ttotal: 329ms\tremaining: 938ms\n",
      "13:\tlearn: 1814.8818777\ttotal: 353ms\tremaining: 908ms\n",
      "14:\tlearn: 1800.3367562\ttotal: 379ms\tremaining: 884ms\n",
      "15:\tlearn: 1785.3538547\ttotal: 406ms\tremaining: 863ms\n",
      "16:\tlearn: 1774.4598567\ttotal: 432ms\tremaining: 838ms\n",
      "17:\tlearn: 1763.1598106\ttotal: 456ms\tremaining: 810ms\n",
      "18:\tlearn: 1757.2846561\ttotal: 481ms\tremaining: 785ms\n",
      "19:\tlearn: 1745.2004764\ttotal: 507ms\tremaining: 760ms\n",
      "20:\tlearn: 1738.5991634\ttotal: 532ms\tremaining: 735ms\n",
      "21:\tlearn: 1730.4060515\ttotal: 558ms\tremaining: 711ms\n",
      "22:\tlearn: 1724.7346206\ttotal: 586ms\tremaining: 688ms\n",
      "23:\tlearn: 1719.1755515\ttotal: 610ms\tremaining: 661ms\n",
      "24:\tlearn: 1715.6894606\ttotal: 638ms\tremaining: 638ms\n",
      "25:\tlearn: 1709.2262923\ttotal: 662ms\tremaining: 611ms\n",
      "26:\tlearn: 1704.3241711\ttotal: 690ms\tremaining: 588ms\n",
      "27:\tlearn: 1699.9236570\ttotal: 714ms\tremaining: 561ms\n",
      "28:\tlearn: 1694.5923666\ttotal: 739ms\tremaining: 535ms\n",
      "29:\tlearn: 1687.3435676\ttotal: 762ms\tremaining: 508ms\n",
      "30:\tlearn: 1681.9577340\ttotal: 784ms\tremaining: 480ms\n",
      "31:\tlearn: 1677.3390565\ttotal: 809ms\tremaining: 455ms\n",
      "32:\tlearn: 1672.2128535\ttotal: 835ms\tremaining: 430ms\n",
      "33:\tlearn: 1666.3245727\ttotal: 862ms\tremaining: 405ms\n",
      "34:\tlearn: 1660.9961910\ttotal: 888ms\tremaining: 380ms\n",
      "35:\tlearn: 1657.4094123\ttotal: 911ms\tremaining: 354ms\n",
      "36:\tlearn: 1653.4819416\ttotal: 936ms\tremaining: 329ms\n",
      "37:\tlearn: 1651.1164094\ttotal: 959ms\tremaining: 303ms\n",
      "38:\tlearn: 1647.2714139\ttotal: 984ms\tremaining: 278ms\n",
      "39:\tlearn: 1645.1426271\ttotal: 1.01s\tremaining: 252ms\n",
      "40:\tlearn: 1640.4623518\ttotal: 1.03s\tremaining: 227ms\n",
      "41:\tlearn: 1636.9266955\ttotal: 1.06s\tremaining: 202ms\n",
      "42:\tlearn: 1633.7852713\ttotal: 1.08s\tremaining: 176ms\n",
      "43:\tlearn: 1630.6202762\ttotal: 1.11s\tremaining: 151ms\n",
      "44:\tlearn: 1627.5315138\ttotal: 1.13s\tremaining: 126ms\n",
      "45:\tlearn: 1625.0114778\ttotal: 1.16s\tremaining: 100ms\n",
      "46:\tlearn: 1622.7772495\ttotal: 1.18s\tremaining: 75.1ms\n",
      "47:\tlearn: 1620.3646918\ttotal: 1.2s\tremaining: 50ms\n",
      "48:\tlearn: 1617.4201382\ttotal: 1.22s\tremaining: 25ms\n",
      "49:\tlearn: 1614.4086983\ttotal: 1.25s\tremaining: 0us\n",
      "0:\tlearn: 3670.1929858\ttotal: 28.6ms\tremaining: 1.4s\n",
      "1:\tlearn: 3061.3188735\ttotal: 54ms\tremaining: 1.3s\n",
      "2:\tlearn: 2679.5785270\ttotal: 79.4ms\tremaining: 1.24s\n",
      "3:\tlearn: 2423.4142760\ttotal: 105ms\tremaining: 1.2s\n",
      "4:\tlearn: 2250.4061912\ttotal: 131ms\tremaining: 1.18s\n",
      "5:\tlearn: 2142.4332185\ttotal: 155ms\tremaining: 1.14s\n",
      "6:\tlearn: 2064.5417941\ttotal: 179ms\tremaining: 1.1s\n",
      "7:\tlearn: 2011.2800018\ttotal: 203ms\tremaining: 1.06s\n",
      "8:\tlearn: 1966.1245290\ttotal: 227ms\tremaining: 1.03s\n",
      "9:\tlearn: 1926.7942283\ttotal: 250ms\tremaining: 999ms\n",
      "10:\tlearn: 1900.1505634\ttotal: 273ms\tremaining: 969ms\n",
      "11:\tlearn: 1871.8089652\ttotal: 300ms\tremaining: 950ms\n",
      "12:\tlearn: 1851.9341902\ttotal: 323ms\tremaining: 921ms\n",
      "13:\tlearn: 1836.9396241\ttotal: 347ms\tremaining: 893ms\n",
      "14:\tlearn: 1822.3086784\ttotal: 370ms\tremaining: 864ms\n",
      "15:\tlearn: 1810.6767514\ttotal: 393ms\tremaining: 834ms\n",
      "16:\tlearn: 1795.8495628\ttotal: 419ms\tremaining: 814ms\n",
      "17:\tlearn: 1786.3418015\ttotal: 443ms\tremaining: 787ms\n",
      "18:\tlearn: 1776.3592845\ttotal: 466ms\tremaining: 760ms\n",
      "19:\tlearn: 1761.9477055\ttotal: 493ms\tremaining: 739ms\n",
      "20:\tlearn: 1749.9062483\ttotal: 517ms\tremaining: 714ms\n",
      "21:\tlearn: 1743.0653531\ttotal: 539ms\tremaining: 686ms\n",
      "22:\tlearn: 1734.3432106\ttotal: 562ms\tremaining: 660ms\n",
      "23:\tlearn: 1728.3784967\ttotal: 586ms\tremaining: 635ms\n",
      "24:\tlearn: 1722.5889116\ttotal: 609ms\tremaining: 609ms\n",
      "25:\tlearn: 1718.9993799\ttotal: 633ms\tremaining: 584ms\n",
      "26:\tlearn: 1713.1615159\ttotal: 656ms\tremaining: 559ms\n",
      "27:\tlearn: 1706.4817583\ttotal: 680ms\tremaining: 534ms\n",
      "28:\tlearn: 1701.0408032\ttotal: 704ms\tremaining: 510ms\n",
      "29:\tlearn: 1695.6729952\ttotal: 730ms\tremaining: 487ms\n",
      "30:\tlearn: 1689.9250952\ttotal: 755ms\tremaining: 462ms\n",
      "31:\tlearn: 1683.6444979\ttotal: 783ms\tremaining: 440ms\n",
      "32:\tlearn: 1679.2277325\ttotal: 810ms\tremaining: 417ms\n",
      "33:\tlearn: 1675.8440029\ttotal: 835ms\tremaining: 393ms\n",
      "34:\tlearn: 1672.5930857\ttotal: 862ms\tremaining: 369ms\n",
      "35:\tlearn: 1666.7230886\ttotal: 896ms\tremaining: 349ms\n",
      "36:\tlearn: 1662.9999494\ttotal: 923ms\tremaining: 324ms\n",
      "37:\tlearn: 1659.0458677\ttotal: 954ms\tremaining: 301ms\n",
      "38:\tlearn: 1655.5581305\ttotal: 978ms\tremaining: 276ms\n",
      "39:\tlearn: 1652.4459434\ttotal: 1s\tremaining: 251ms\n",
      "40:\tlearn: 1648.2348491\ttotal: 1.03s\tremaining: 226ms\n",
      "41:\tlearn: 1644.7038060\ttotal: 1.05s\tremaining: 200ms\n",
      "42:\tlearn: 1642.0484062\ttotal: 1.08s\tremaining: 176ms\n",
      "43:\tlearn: 1638.5552868\ttotal: 1.1s\tremaining: 150ms\n",
      "44:\tlearn: 1634.6648357\ttotal: 1.13s\tremaining: 125ms\n",
      "45:\tlearn: 1631.6840911\ttotal: 1.15s\tremaining: 100ms\n",
      "46:\tlearn: 1629.4070629\ttotal: 1.18s\tremaining: 75.3ms\n",
      "47:\tlearn: 1627.0509467\ttotal: 1.2s\tremaining: 50.1ms\n",
      "48:\tlearn: 1622.9528961\ttotal: 1.23s\tremaining: 25.1ms\n",
      "49:\tlearn: 1620.5815949\ttotal: 1.25s\tremaining: 0us\n",
      "0:\tlearn: 3675.9326996\ttotal: 25.2ms\tremaining: 2.5s\n",
      "1:\tlearn: 3066.8334489\ttotal: 50.4ms\tremaining: 2.47s\n",
      "2:\tlearn: 2683.8609173\ttotal: 76.4ms\tremaining: 2.47s\n",
      "3:\tlearn: 2427.5334297\ttotal: 101ms\tremaining: 2.43s\n",
      "4:\tlearn: 2252.5230349\ttotal: 128ms\tremaining: 2.43s\n",
      "5:\tlearn: 2141.9599976\ttotal: 152ms\tremaining: 2.38s\n",
      "6:\tlearn: 2067.7649680\ttotal: 175ms\tremaining: 2.33s\n",
      "7:\tlearn: 1990.0932226\ttotal: 202ms\tremaining: 2.33s\n",
      "8:\tlearn: 1946.2703249\ttotal: 232ms\tremaining: 2.34s\n",
      "9:\tlearn: 1918.0061937\ttotal: 258ms\tremaining: 2.33s\n",
      "10:\tlearn: 1894.3989435\ttotal: 285ms\tremaining: 2.31s\n",
      "11:\tlearn: 1864.4848968\ttotal: 309ms\tremaining: 2.27s\n",
      "12:\tlearn: 1846.0326560\ttotal: 334ms\tremaining: 2.23s\n",
      "13:\tlearn: 1831.3680128\ttotal: 357ms\tremaining: 2.19s\n",
      "14:\tlearn: 1816.5886209\ttotal: 383ms\tremaining: 2.17s\n",
      "15:\tlearn: 1804.0245348\ttotal: 408ms\tremaining: 2.14s\n",
      "16:\tlearn: 1783.8734717\ttotal: 433ms\tremaining: 2.12s\n",
      "17:\tlearn: 1773.4067044\ttotal: 457ms\tremaining: 2.08s\n",
      "18:\tlearn: 1765.7256070\ttotal: 484ms\tremaining: 2.06s\n",
      "19:\tlearn: 1758.8406957\ttotal: 508ms\tremaining: 2.03s\n",
      "20:\tlearn: 1752.8673137\ttotal: 531ms\tremaining: 2s\n",
      "21:\tlearn: 1744.8025358\ttotal: 554ms\tremaining: 1.96s\n",
      "22:\tlearn: 1740.1444707\ttotal: 577ms\tremaining: 1.93s\n",
      "23:\tlearn: 1729.0193964\ttotal: 603ms\tremaining: 1.91s\n",
      "24:\tlearn: 1721.5274636\ttotal: 628ms\tremaining: 1.88s\n",
      "25:\tlearn: 1716.1294732\ttotal: 652ms\tremaining: 1.86s\n",
      "26:\tlearn: 1711.6202320\ttotal: 677ms\tremaining: 1.83s\n",
      "27:\tlearn: 1705.9271058\ttotal: 703ms\tremaining: 1.81s\n",
      "28:\tlearn: 1702.4257074\ttotal: 727ms\tremaining: 1.78s\n",
      "29:\tlearn: 1698.0903636\ttotal: 752ms\tremaining: 1.75s\n",
      "30:\tlearn: 1693.4473313\ttotal: 779ms\tremaining: 1.73s\n",
      "31:\tlearn: 1687.7948476\ttotal: 803ms\tremaining: 1.71s\n",
      "32:\tlearn: 1683.7269600\ttotal: 829ms\tremaining: 1.68s\n",
      "33:\tlearn: 1680.3052481\ttotal: 854ms\tremaining: 1.66s\n",
      "34:\tlearn: 1675.9313319\ttotal: 883ms\tremaining: 1.64s\n",
      "35:\tlearn: 1672.2070723\ttotal: 909ms\tremaining: 1.61s\n",
      "36:\tlearn: 1670.0185569\ttotal: 937ms\tremaining: 1.6s\n",
      "37:\tlearn: 1666.6507816\ttotal: 965ms\tremaining: 1.57s\n",
      "38:\tlearn: 1663.0897010\ttotal: 991ms\tremaining: 1.55s\n",
      "39:\tlearn: 1660.1031322\ttotal: 1.02s\tremaining: 1.53s\n",
      "40:\tlearn: 1656.6008515\ttotal: 1.05s\tremaining: 1.51s\n",
      "41:\tlearn: 1653.1726357\ttotal: 1.07s\tremaining: 1.48s\n",
      "42:\tlearn: 1650.9815481\ttotal: 1.1s\tremaining: 1.46s\n",
      "43:\tlearn: 1646.3316675\ttotal: 1.12s\tremaining: 1.43s\n",
      "44:\tlearn: 1643.1866847\ttotal: 1.15s\tremaining: 1.4s\n",
      "45:\tlearn: 1640.4686239\ttotal: 1.17s\tremaining: 1.38s\n",
      "46:\tlearn: 1638.2761737\ttotal: 1.2s\tremaining: 1.36s\n",
      "47:\tlearn: 1633.9929587\ttotal: 1.23s\tremaining: 1.33s\n",
      "48:\tlearn: 1631.5025326\ttotal: 1.25s\tremaining: 1.3s\n",
      "49:\tlearn: 1628.7897874\ttotal: 1.27s\tremaining: 1.27s\n",
      "50:\tlearn: 1626.4973028\ttotal: 1.3s\tremaining: 1.25s\n",
      "51:\tlearn: 1622.3317648\ttotal: 1.33s\tremaining: 1.22s\n",
      "52:\tlearn: 1620.1663410\ttotal: 1.35s\tremaining: 1.2s\n",
      "53:\tlearn: 1617.5016799\ttotal: 1.38s\tremaining: 1.17s\n",
      "54:\tlearn: 1615.9612190\ttotal: 1.4s\tremaining: 1.15s\n",
      "55:\tlearn: 1613.1817888\ttotal: 1.42s\tremaining: 1.12s\n",
      "56:\tlearn: 1611.0384750\ttotal: 1.45s\tremaining: 1.09s\n",
      "57:\tlearn: 1609.2577809\ttotal: 1.47s\tremaining: 1.07s\n",
      "58:\tlearn: 1606.6637003\ttotal: 1.5s\tremaining: 1.04s\n",
      "59:\tlearn: 1605.3092538\ttotal: 1.52s\tremaining: 1.01s\n",
      "60:\tlearn: 1603.1820395\ttotal: 1.55s\tremaining: 991ms\n",
      "61:\tlearn: 1600.6494671\ttotal: 1.57s\tremaining: 964ms\n",
      "62:\tlearn: 1599.2703997\ttotal: 1.6s\tremaining: 937ms\n",
      "63:\tlearn: 1597.5811168\ttotal: 1.62s\tremaining: 911ms\n",
      "64:\tlearn: 1596.4227473\ttotal: 1.64s\tremaining: 885ms\n",
      "65:\tlearn: 1594.1193999\ttotal: 1.67s\tremaining: 859ms\n",
      "66:\tlearn: 1591.7462643\ttotal: 1.7s\tremaining: 835ms\n",
      "67:\tlearn: 1589.0349888\ttotal: 1.72s\tremaining: 809ms\n",
      "68:\tlearn: 1586.8452153\ttotal: 1.75s\tremaining: 784ms\n",
      "69:\tlearn: 1584.9486423\ttotal: 1.77s\tremaining: 759ms\n",
      "70:\tlearn: 1583.2603055\ttotal: 1.79s\tremaining: 733ms\n",
      "71:\tlearn: 1581.2820424\ttotal: 1.82s\tremaining: 708ms\n",
      "72:\tlearn: 1579.7858533\ttotal: 1.84s\tremaining: 683ms\n",
      "73:\tlearn: 1577.9589533\ttotal: 1.87s\tremaining: 658ms\n",
      "74:\tlearn: 1576.7514893\ttotal: 1.9s\tremaining: 632ms\n",
      "75:\tlearn: 1574.9035567\ttotal: 1.92s\tremaining: 606ms\n",
      "76:\tlearn: 1572.6750501\ttotal: 1.95s\tremaining: 581ms\n",
      "77:\tlearn: 1571.3404792\ttotal: 1.97s\tremaining: 556ms\n",
      "78:\tlearn: 1570.0993685\ttotal: 2s\tremaining: 531ms\n",
      "79:\tlearn: 1568.6364183\ttotal: 2.02s\tremaining: 506ms\n",
      "80:\tlearn: 1566.4909738\ttotal: 2.05s\tremaining: 480ms\n",
      "81:\tlearn: 1564.7009627\ttotal: 2.08s\tremaining: 456ms\n",
      "82:\tlearn: 1562.5713596\ttotal: 2.1s\tremaining: 430ms\n",
      "83:\tlearn: 1561.2302284\ttotal: 2.12s\tremaining: 404ms\n",
      "84:\tlearn: 1559.6794201\ttotal: 2.15s\tremaining: 379ms\n",
      "85:\tlearn: 1558.3261622\ttotal: 2.17s\tremaining: 353ms\n",
      "86:\tlearn: 1556.7361957\ttotal: 2.19s\tremaining: 328ms\n",
      "87:\tlearn: 1555.6473844\ttotal: 2.22s\tremaining: 303ms\n",
      "88:\tlearn: 1554.3443068\ttotal: 2.24s\tremaining: 277ms\n",
      "89:\tlearn: 1553.3957194\ttotal: 2.27s\tremaining: 252ms\n",
      "90:\tlearn: 1551.9036114\ttotal: 2.29s\tremaining: 227ms\n",
      "91:\tlearn: 1549.7328947\ttotal: 2.32s\tremaining: 202ms\n",
      "92:\tlearn: 1548.6782306\ttotal: 2.35s\tremaining: 177ms\n",
      "93:\tlearn: 1547.6669844\ttotal: 2.37s\tremaining: 151ms\n",
      "94:\tlearn: 1545.5738741\ttotal: 2.4s\tremaining: 126ms\n",
      "95:\tlearn: 1544.3244510\ttotal: 2.42s\tremaining: 101ms\n",
      "96:\tlearn: 1543.0832057\ttotal: 2.45s\tremaining: 75.7ms\n",
      "97:\tlearn: 1541.8203168\ttotal: 2.47s\tremaining: 50.4ms\n",
      "98:\tlearn: 1540.5957902\ttotal: 2.49s\tremaining: 25.2ms\n",
      "99:\tlearn: 1539.5633811\ttotal: 2.52s\tremaining: 0us\n",
      "0:\tlearn: 3671.6139353\ttotal: 26ms\tremaining: 2.57s\n",
      "1:\tlearn: 3072.2515486\ttotal: 52.4ms\tremaining: 2.57s\n",
      "2:\tlearn: 2668.4903244\ttotal: 77.3ms\tremaining: 2.5s\n",
      "3:\tlearn: 2408.4387754\ttotal: 102ms\tremaining: 2.44s\n",
      "4:\tlearn: 2240.0250522\ttotal: 126ms\tremaining: 2.39s\n",
      "5:\tlearn: 2138.6840130\ttotal: 151ms\tremaining: 2.37s\n",
      "6:\tlearn: 2051.7572318\ttotal: 176ms\tremaining: 2.34s\n",
      "7:\tlearn: 1995.8317438\ttotal: 200ms\tremaining: 2.3s\n",
      "8:\tlearn: 1939.1347403\ttotal: 227ms\tremaining: 2.29s\n",
      "9:\tlearn: 1905.8855069\ttotal: 254ms\tremaining: 2.28s\n",
      "10:\tlearn: 1885.2086188\ttotal: 279ms\tremaining: 2.26s\n",
      "11:\tlearn: 1860.8805307\ttotal: 307ms\tremaining: 2.25s\n",
      "12:\tlearn: 1837.1001024\ttotal: 331ms\tremaining: 2.22s\n",
      "13:\tlearn: 1823.1966141\ttotal: 355ms\tremaining: 2.18s\n",
      "14:\tlearn: 1812.0896313\ttotal: 378ms\tremaining: 2.14s\n",
      "15:\tlearn: 1793.6427771\ttotal: 404ms\tremaining: 2.12s\n",
      "16:\tlearn: 1785.3387525\ttotal: 426ms\tremaining: 2.08s\n",
      "17:\tlearn: 1774.2051429\ttotal: 450ms\tremaining: 2.05s\n",
      "18:\tlearn: 1766.5024187\ttotal: 475ms\tremaining: 2.02s\n",
      "19:\tlearn: 1754.3331575\ttotal: 503ms\tremaining: 2.01s\n",
      "20:\tlearn: 1748.1569558\ttotal: 526ms\tremaining: 1.98s\n",
      "21:\tlearn: 1741.4796486\ttotal: 551ms\tremaining: 1.95s\n",
      "22:\tlearn: 1732.2671378\ttotal: 575ms\tremaining: 1.93s\n",
      "23:\tlearn: 1725.9479178\ttotal: 598ms\tremaining: 1.89s\n",
      "24:\tlearn: 1718.6714603\ttotal: 620ms\tremaining: 1.86s\n",
      "25:\tlearn: 1711.9882441\ttotal: 643ms\tremaining: 1.83s\n",
      "26:\tlearn: 1704.5862092\ttotal: 669ms\tremaining: 1.81s\n",
      "27:\tlearn: 1701.3576239\ttotal: 697ms\tremaining: 1.79s\n",
      "28:\tlearn: 1696.7725982\ttotal: 720ms\tremaining: 1.76s\n",
      "29:\tlearn: 1692.1793610\ttotal: 742ms\tremaining: 1.73s\n",
      "30:\tlearn: 1686.3394743\ttotal: 767ms\tremaining: 1.71s\n",
      "31:\tlearn: 1680.3303362\ttotal: 789ms\tremaining: 1.68s\n",
      "32:\tlearn: 1677.3880343\ttotal: 812ms\tremaining: 1.65s\n",
      "33:\tlearn: 1674.4366581\ttotal: 834ms\tremaining: 1.62s\n",
      "34:\tlearn: 1670.1166563\ttotal: 858ms\tremaining: 1.59s\n",
      "35:\tlearn: 1667.1225233\ttotal: 882ms\tremaining: 1.57s\n",
      "36:\tlearn: 1661.2236626\ttotal: 906ms\tremaining: 1.54s\n",
      "37:\tlearn: 1656.8822390\ttotal: 930ms\tremaining: 1.52s\n",
      "38:\tlearn: 1651.7930140\ttotal: 954ms\tremaining: 1.49s\n",
      "39:\tlearn: 1649.2301957\ttotal: 978ms\tremaining: 1.47s\n",
      "40:\tlearn: 1647.5121294\ttotal: 1s\tremaining: 1.44s\n",
      "41:\tlearn: 1644.7522866\ttotal: 1.02s\tremaining: 1.41s\n",
      "42:\tlearn: 1641.7143038\ttotal: 1.05s\tremaining: 1.39s\n",
      "43:\tlearn: 1638.6568198\ttotal: 1.07s\tremaining: 1.36s\n",
      "44:\tlearn: 1636.4038252\ttotal: 1.1s\tremaining: 1.34s\n",
      "45:\tlearn: 1632.9108333\ttotal: 1.12s\tremaining: 1.32s\n",
      "46:\tlearn: 1629.4812404\ttotal: 1.15s\tremaining: 1.29s\n",
      "47:\tlearn: 1626.7955287\ttotal: 1.17s\tremaining: 1.27s\n",
      "48:\tlearn: 1624.6045442\ttotal: 1.2s\tremaining: 1.25s\n",
      "49:\tlearn: 1621.3736676\ttotal: 1.22s\tremaining: 1.22s\n",
      "50:\tlearn: 1618.1158453\ttotal: 1.25s\tremaining: 1.2s\n",
      "51:\tlearn: 1615.9508264\ttotal: 1.27s\tremaining: 1.17s\n",
      "52:\tlearn: 1612.2506787\ttotal: 1.3s\tremaining: 1.15s\n",
      "53:\tlearn: 1609.4881789\ttotal: 1.33s\tremaining: 1.13s\n",
      "54:\tlearn: 1607.9091867\ttotal: 1.35s\tremaining: 1.1s\n",
      "55:\tlearn: 1605.4176601\ttotal: 1.38s\tremaining: 1.08s\n",
      "56:\tlearn: 1603.6845510\ttotal: 1.4s\tremaining: 1.06s\n",
      "57:\tlearn: 1601.4510163\ttotal: 1.43s\tremaining: 1.03s\n",
      "58:\tlearn: 1598.9266697\ttotal: 1.45s\tremaining: 1.01s\n",
      "59:\tlearn: 1597.2407960\ttotal: 1.48s\tremaining: 984ms\n",
      "60:\tlearn: 1595.5502762\ttotal: 1.5s\tremaining: 961ms\n",
      "61:\tlearn: 1593.5933725\ttotal: 1.53s\tremaining: 937ms\n",
      "62:\tlearn: 1590.9290828\ttotal: 1.55s\tremaining: 912ms\n",
      "63:\tlearn: 1589.0834560\ttotal: 1.57s\tremaining: 886ms\n",
      "64:\tlearn: 1586.4019825\ttotal: 1.6s\tremaining: 860ms\n",
      "65:\tlearn: 1584.8971054\ttotal: 1.62s\tremaining: 835ms\n",
      "66:\tlearn: 1582.8825513\ttotal: 1.64s\tremaining: 810ms\n",
      "67:\tlearn: 1580.3743942\ttotal: 1.67s\tremaining: 785ms\n",
      "68:\tlearn: 1578.6298150\ttotal: 1.69s\tremaining: 761ms\n",
      "69:\tlearn: 1577.5875878\ttotal: 1.72s\tremaining: 737ms\n",
      "70:\tlearn: 1575.8380277\ttotal: 1.74s\tremaining: 712ms\n",
      "71:\tlearn: 1574.4910805\ttotal: 1.77s\tremaining: 688ms\n",
      "72:\tlearn: 1573.2830493\ttotal: 1.79s\tremaining: 662ms\n",
      "73:\tlearn: 1570.0410545\ttotal: 1.81s\tremaining: 637ms\n",
      "74:\tlearn: 1568.4027618\ttotal: 1.84s\tremaining: 613ms\n",
      "75:\tlearn: 1566.1915625\ttotal: 1.86s\tremaining: 589ms\n",
      "76:\tlearn: 1565.0614808\ttotal: 1.89s\tremaining: 565ms\n",
      "77:\tlearn: 1563.3089977\ttotal: 1.92s\tremaining: 541ms\n",
      "78:\tlearn: 1561.4585055\ttotal: 1.95s\tremaining: 517ms\n",
      "79:\tlearn: 1559.8344096\ttotal: 1.98s\tremaining: 494ms\n",
      "80:\tlearn: 1558.8808859\ttotal: 2s\tremaining: 469ms\n",
      "81:\tlearn: 1557.7326406\ttotal: 2.02s\tremaining: 445ms\n",
      "82:\tlearn: 1556.0889036\ttotal: 2.05s\tremaining: 420ms\n",
      "83:\tlearn: 1553.9396097\ttotal: 2.08s\tremaining: 395ms\n",
      "84:\tlearn: 1552.4076703\ttotal: 2.1s\tremaining: 371ms\n",
      "85:\tlearn: 1550.7575550\ttotal: 2.13s\tremaining: 346ms\n",
      "86:\tlearn: 1549.4313708\ttotal: 2.15s\tremaining: 322ms\n",
      "87:\tlearn: 1547.6063541\ttotal: 2.17s\tremaining: 297ms\n",
      "88:\tlearn: 1545.7071324\ttotal: 2.2s\tremaining: 272ms\n",
      "89:\tlearn: 1543.9587207\ttotal: 2.22s\tremaining: 247ms\n",
      "90:\tlearn: 1542.7312420\ttotal: 2.25s\tremaining: 222ms\n",
      "91:\tlearn: 1541.7053956\ttotal: 2.27s\tremaining: 197ms\n",
      "92:\tlearn: 1540.0635938\ttotal: 2.29s\tremaining: 173ms\n",
      "93:\tlearn: 1538.7829318\ttotal: 2.32s\tremaining: 148ms\n",
      "94:\tlearn: 1537.5287553\ttotal: 2.34s\tremaining: 123ms\n",
      "95:\tlearn: 1536.4487262\ttotal: 2.36s\tremaining: 98.5ms\n",
      "96:\tlearn: 1535.4804871\ttotal: 2.39s\tremaining: 73.8ms\n",
      "97:\tlearn: 1534.7025175\ttotal: 2.41s\tremaining: 49.2ms\n",
      "98:\tlearn: 1533.0624244\ttotal: 2.44s\tremaining: 24.6ms\n",
      "99:\tlearn: 1531.8330210\ttotal: 2.46s\tremaining: 0us\n",
      "0:\tlearn: 3666.2538562\ttotal: 31.3ms\tremaining: 3.1s\n",
      "1:\tlearn: 3064.8358663\ttotal: 62ms\tremaining: 3.04s\n",
      "2:\tlearn: 2682.2792703\ttotal: 92.6ms\tremaining: 2.99s\n",
      "3:\tlearn: 2435.1123566\ttotal: 123ms\tremaining: 2.95s\n",
      "4:\tlearn: 2258.2764519\ttotal: 153ms\tremaining: 2.91s\n",
      "5:\tlearn: 2151.3186345\ttotal: 182ms\tremaining: 2.84s\n",
      "6:\tlearn: 2064.1254994\ttotal: 207ms\tremaining: 2.75s\n",
      "7:\tlearn: 2001.6633372\ttotal: 232ms\tremaining: 2.67s\n",
      "8:\tlearn: 1959.1845584\ttotal: 257ms\tremaining: 2.6s\n",
      "9:\tlearn: 1916.9632621\ttotal: 283ms\tremaining: 2.54s\n",
      "10:\tlearn: 1888.5783985\ttotal: 307ms\tremaining: 2.48s\n",
      "11:\tlearn: 1868.4650745\ttotal: 331ms\tremaining: 2.42s\n",
      "12:\tlearn: 1841.4273423\ttotal: 358ms\tremaining: 2.4s\n",
      "13:\tlearn: 1826.7800019\ttotal: 383ms\tremaining: 2.35s\n",
      "14:\tlearn: 1811.5264006\ttotal: 408ms\tremaining: 2.31s\n",
      "15:\tlearn: 1800.2841895\ttotal: 432ms\tremaining: 2.27s\n",
      "16:\tlearn: 1791.8207219\ttotal: 456ms\tremaining: 2.23s\n",
      "17:\tlearn: 1781.1897726\ttotal: 479ms\tremaining: 2.18s\n",
      "18:\tlearn: 1768.1453515\ttotal: 508ms\tremaining: 2.17s\n",
      "19:\tlearn: 1758.6526274\ttotal: 532ms\tremaining: 2.13s\n",
      "20:\tlearn: 1750.3078059\ttotal: 557ms\tremaining: 2.1s\n",
      "21:\tlearn: 1742.4229008\ttotal: 579ms\tremaining: 2.05s\n",
      "22:\tlearn: 1732.5365871\ttotal: 604ms\tremaining: 2.02s\n",
      "23:\tlearn: 1725.3067614\ttotal: 627ms\tremaining: 1.99s\n",
      "24:\tlearn: 1720.0550645\ttotal: 650ms\tremaining: 1.95s\n",
      "25:\tlearn: 1715.6675913\ttotal: 673ms\tremaining: 1.91s\n",
      "26:\tlearn: 1710.9236528\ttotal: 696ms\tremaining: 1.88s\n",
      "27:\tlearn: 1703.1197395\ttotal: 722ms\tremaining: 1.85s\n",
      "28:\tlearn: 1699.1286830\ttotal: 746ms\tremaining: 1.83s\n",
      "29:\tlearn: 1694.5940557\ttotal: 769ms\tremaining: 1.79s\n",
      "30:\tlearn: 1689.0524848\ttotal: 793ms\tremaining: 1.76s\n",
      "31:\tlearn: 1685.8024152\ttotal: 818ms\tremaining: 1.74s\n",
      "32:\tlearn: 1683.1998553\ttotal: 842ms\tremaining: 1.71s\n",
      "33:\tlearn: 1679.0040922\ttotal: 867ms\tremaining: 1.68s\n",
      "34:\tlearn: 1675.1218163\ttotal: 895ms\tremaining: 1.66s\n",
      "35:\tlearn: 1668.4335054\ttotal: 919ms\tremaining: 1.63s\n",
      "36:\tlearn: 1665.3099918\ttotal: 944ms\tremaining: 1.61s\n",
      "37:\tlearn: 1660.5822600\ttotal: 970ms\tremaining: 1.58s\n",
      "38:\tlearn: 1657.1917609\ttotal: 997ms\tremaining: 1.56s\n",
      "39:\tlearn: 1653.4626930\ttotal: 1.02s\tremaining: 1.53s\n",
      "40:\tlearn: 1650.2607599\ttotal: 1.04s\tremaining: 1.5s\n",
      "41:\tlearn: 1646.2706312\ttotal: 1.07s\tremaining: 1.48s\n",
      "42:\tlearn: 1642.8891244\ttotal: 1.1s\tremaining: 1.45s\n",
      "43:\tlearn: 1639.8630813\ttotal: 1.13s\tremaining: 1.44s\n",
      "44:\tlearn: 1636.7613681\ttotal: 1.16s\tremaining: 1.42s\n",
      "45:\tlearn: 1633.1230653\ttotal: 1.18s\tremaining: 1.39s\n",
      "46:\tlearn: 1629.2027185\ttotal: 1.21s\tremaining: 1.36s\n",
      "47:\tlearn: 1626.4945061\ttotal: 1.23s\tremaining: 1.33s\n",
      "48:\tlearn: 1623.4309010\ttotal: 1.26s\tremaining: 1.31s\n",
      "49:\tlearn: 1620.5293856\ttotal: 1.28s\tremaining: 1.28s\n",
      "50:\tlearn: 1617.4354026\ttotal: 1.3s\tremaining: 1.25s\n",
      "51:\tlearn: 1614.5985184\ttotal: 1.33s\tremaining: 1.23s\n",
      "52:\tlearn: 1612.0457137\ttotal: 1.36s\tremaining: 1.21s\n",
      "53:\tlearn: 1609.8296655\ttotal: 1.39s\tremaining: 1.18s\n",
      "54:\tlearn: 1607.1974949\ttotal: 1.41s\tremaining: 1.16s\n",
      "55:\tlearn: 1604.5889319\ttotal: 1.44s\tremaining: 1.13s\n",
      "56:\tlearn: 1603.3702126\ttotal: 1.47s\tremaining: 1.1s\n",
      "57:\tlearn: 1601.2148243\ttotal: 1.49s\tremaining: 1.08s\n",
      "58:\tlearn: 1599.2573646\ttotal: 1.52s\tremaining: 1.05s\n",
      "59:\tlearn: 1596.8813142\ttotal: 1.54s\tremaining: 1.03s\n",
      "60:\tlearn: 1595.2401882\ttotal: 1.57s\tremaining: 1s\n",
      "61:\tlearn: 1591.7573444\ttotal: 1.59s\tremaining: 975ms\n",
      "62:\tlearn: 1589.3608715\ttotal: 1.62s\tremaining: 950ms\n",
      "63:\tlearn: 1586.8605942\ttotal: 1.64s\tremaining: 924ms\n",
      "64:\tlearn: 1583.3098590\ttotal: 1.67s\tremaining: 899ms\n",
      "65:\tlearn: 1581.6297935\ttotal: 1.69s\tremaining: 872ms\n",
      "66:\tlearn: 1579.6814974\ttotal: 1.72s\tremaining: 845ms\n",
      "67:\tlearn: 1577.7334950\ttotal: 1.74s\tremaining: 819ms\n",
      "68:\tlearn: 1576.4590961\ttotal: 1.77s\tremaining: 794ms\n",
      "69:\tlearn: 1574.5260462\ttotal: 1.79s\tremaining: 767ms\n",
      "70:\tlearn: 1572.9017919\ttotal: 1.81s\tremaining: 741ms\n",
      "71:\tlearn: 1570.3319599\ttotal: 1.84s\tremaining: 716ms\n",
      "72:\tlearn: 1568.7027507\ttotal: 1.86s\tremaining: 690ms\n",
      "73:\tlearn: 1567.5020495\ttotal: 1.89s\tremaining: 664ms\n",
      "74:\tlearn: 1565.7810190\ttotal: 1.92s\tremaining: 638ms\n",
      "75:\tlearn: 1564.0145084\ttotal: 1.94s\tremaining: 613ms\n",
      "76:\tlearn: 1562.8879805\ttotal: 1.97s\tremaining: 587ms\n",
      "77:\tlearn: 1561.2697057\ttotal: 1.99s\tremaining: 561ms\n",
      "78:\tlearn: 1559.4487304\ttotal: 2.02s\tremaining: 536ms\n",
      "79:\tlearn: 1557.9203244\ttotal: 2.04s\tremaining: 510ms\n",
      "80:\tlearn: 1556.8547053\ttotal: 2.06s\tremaining: 484ms\n",
      "81:\tlearn: 1554.9971291\ttotal: 2.09s\tremaining: 459ms\n",
      "82:\tlearn: 1553.3514043\ttotal: 2.12s\tremaining: 434ms\n",
      "83:\tlearn: 1552.2817334\ttotal: 2.14s\tremaining: 408ms\n",
      "84:\tlearn: 1551.4317262\ttotal: 2.17s\tremaining: 383ms\n",
      "85:\tlearn: 1549.3221423\ttotal: 2.19s\tremaining: 357ms\n",
      "86:\tlearn: 1547.3710742\ttotal: 2.22s\tremaining: 332ms\n",
      "87:\tlearn: 1545.8348240\ttotal: 2.24s\tremaining: 306ms\n",
      "88:\tlearn: 1544.7189325\ttotal: 2.27s\tremaining: 280ms\n",
      "89:\tlearn: 1543.5494392\ttotal: 2.29s\tremaining: 255ms\n",
      "90:\tlearn: 1542.0912899\ttotal: 2.32s\tremaining: 229ms\n",
      "91:\tlearn: 1540.6559639\ttotal: 2.34s\tremaining: 204ms\n",
      "92:\tlearn: 1539.3110670\ttotal: 2.37s\tremaining: 178ms\n",
      "93:\tlearn: 1538.1282508\ttotal: 2.39s\tremaining: 153ms\n",
      "94:\tlearn: 1537.0761827\ttotal: 2.42s\tremaining: 127ms\n",
      "95:\tlearn: 1536.1055751\ttotal: 2.44s\tremaining: 102ms\n",
      "96:\tlearn: 1534.8274923\ttotal: 2.46s\tremaining: 76.2ms\n",
      "97:\tlearn: 1533.2971924\ttotal: 2.48s\tremaining: 50.7ms\n",
      "98:\tlearn: 1531.7550157\ttotal: 2.51s\tremaining: 25.3ms\n",
      "99:\tlearn: 1530.0840714\ttotal: 2.53s\tremaining: 0us\n",
      "0:\tlearn: 3663.3276375\ttotal: 26.7ms\tremaining: 2.64s\n",
      "1:\tlearn: 3053.1157573\ttotal: 59.3ms\tremaining: 2.91s\n",
      "2:\tlearn: 2670.2882826\ttotal: 87.3ms\tremaining: 2.82s\n",
      "3:\tlearn: 2415.7768564\ttotal: 118ms\tremaining: 2.84s\n",
      "4:\tlearn: 2241.6743906\ttotal: 145ms\tremaining: 2.76s\n",
      "5:\tlearn: 2130.3198769\ttotal: 170ms\tremaining: 2.66s\n",
      "6:\tlearn: 2053.5047997\ttotal: 193ms\tremaining: 2.57s\n",
      "7:\tlearn: 1982.2662298\ttotal: 222ms\tremaining: 2.55s\n",
      "8:\tlearn: 1941.5878512\ttotal: 247ms\tremaining: 2.5s\n",
      "9:\tlearn: 1897.3477179\ttotal: 273ms\tremaining: 2.46s\n",
      "10:\tlearn: 1871.7919454\ttotal: 296ms\tremaining: 2.4s\n",
      "11:\tlearn: 1847.0547307\ttotal: 319ms\tremaining: 2.34s\n",
      "12:\tlearn: 1827.6096799\ttotal: 342ms\tremaining: 2.29s\n",
      "13:\tlearn: 1814.8818777\ttotal: 367ms\tremaining: 2.26s\n",
      "14:\tlearn: 1800.3367562\ttotal: 392ms\tremaining: 2.22s\n",
      "15:\tlearn: 1785.3538547\ttotal: 419ms\tremaining: 2.2s\n",
      "16:\tlearn: 1774.4598567\ttotal: 443ms\tremaining: 2.16s\n",
      "17:\tlearn: 1763.1598106\ttotal: 469ms\tremaining: 2.13s\n",
      "18:\tlearn: 1757.2846561\ttotal: 492ms\tremaining: 2.1s\n",
      "19:\tlearn: 1745.2004764\ttotal: 517ms\tremaining: 2.07s\n",
      "20:\tlearn: 1738.5991634\ttotal: 540ms\tremaining: 2.03s\n",
      "21:\tlearn: 1730.4060515\ttotal: 563ms\tremaining: 2s\n",
      "22:\tlearn: 1724.7346206\ttotal: 587ms\tremaining: 1.97s\n",
      "23:\tlearn: 1719.1755515\ttotal: 613ms\tremaining: 1.94s\n",
      "24:\tlearn: 1715.6894606\ttotal: 641ms\tremaining: 1.92s\n",
      "25:\tlearn: 1709.2262923\ttotal: 665ms\tremaining: 1.89s\n",
      "26:\tlearn: 1704.3241711\ttotal: 688ms\tremaining: 1.86s\n",
      "27:\tlearn: 1699.9236570\ttotal: 712ms\tremaining: 1.83s\n",
      "28:\tlearn: 1694.5923666\ttotal: 735ms\tremaining: 1.8s\n",
      "29:\tlearn: 1687.3435676\ttotal: 757ms\tremaining: 1.77s\n",
      "30:\tlearn: 1681.9577340\ttotal: 781ms\tremaining: 1.74s\n",
      "31:\tlearn: 1677.3390565\ttotal: 806ms\tremaining: 1.71s\n",
      "32:\tlearn: 1672.2128535\ttotal: 829ms\tremaining: 1.68s\n",
      "33:\tlearn: 1666.3245727\ttotal: 854ms\tremaining: 1.66s\n",
      "34:\tlearn: 1660.9961910\ttotal: 879ms\tremaining: 1.63s\n",
      "35:\tlearn: 1657.4094123\ttotal: 902ms\tremaining: 1.6s\n",
      "36:\tlearn: 1653.4819416\ttotal: 924ms\tremaining: 1.57s\n",
      "37:\tlearn: 1651.1164094\ttotal: 948ms\tremaining: 1.55s\n",
      "38:\tlearn: 1647.2714139\ttotal: 971ms\tremaining: 1.52s\n",
      "39:\tlearn: 1645.1426271\ttotal: 994ms\tremaining: 1.49s\n",
      "40:\tlearn: 1640.4623518\ttotal: 1.02s\tremaining: 1.47s\n",
      "41:\tlearn: 1636.9266955\ttotal: 1.04s\tremaining: 1.44s\n",
      "42:\tlearn: 1633.7852713\ttotal: 1.07s\tremaining: 1.41s\n",
      "43:\tlearn: 1630.6202762\ttotal: 1.09s\tremaining: 1.39s\n",
      "44:\tlearn: 1627.5315138\ttotal: 1.12s\tremaining: 1.37s\n",
      "45:\tlearn: 1625.0114778\ttotal: 1.14s\tremaining: 1.34s\n",
      "46:\tlearn: 1622.7772495\ttotal: 1.17s\tremaining: 1.31s\n",
      "47:\tlearn: 1620.3646918\ttotal: 1.19s\tremaining: 1.29s\n",
      "48:\tlearn: 1617.4201382\ttotal: 1.21s\tremaining: 1.26s\n",
      "49:\tlearn: 1614.4086983\ttotal: 1.24s\tremaining: 1.24s\n",
      "50:\tlearn: 1612.3419219\ttotal: 1.26s\tremaining: 1.21s\n",
      "51:\tlearn: 1608.5944147\ttotal: 1.29s\tremaining: 1.19s\n",
      "52:\tlearn: 1606.2855337\ttotal: 1.31s\tremaining: 1.16s\n",
      "53:\tlearn: 1604.5659903\ttotal: 1.33s\tremaining: 1.14s\n",
      "54:\tlearn: 1601.4783523\ttotal: 1.36s\tremaining: 1.11s\n",
      "55:\tlearn: 1598.4337480\ttotal: 1.39s\tremaining: 1.09s\n",
      "56:\tlearn: 1597.0010759\ttotal: 1.41s\tremaining: 1.06s\n",
      "57:\tlearn: 1595.2461993\ttotal: 1.43s\tremaining: 1.04s\n",
      "58:\tlearn: 1592.2109580\ttotal: 1.46s\tremaining: 1.01s\n",
      "59:\tlearn: 1589.2667732\ttotal: 1.49s\tremaining: 991ms\n",
      "60:\tlearn: 1587.2825184\ttotal: 1.51s\tremaining: 966ms\n",
      "61:\tlearn: 1585.7759185\ttotal: 1.53s\tremaining: 941ms\n",
      "62:\tlearn: 1583.1561383\ttotal: 1.56s\tremaining: 917ms\n",
      "63:\tlearn: 1580.9874839\ttotal: 1.59s\tremaining: 892ms\n",
      "64:\tlearn: 1579.2525215\ttotal: 1.61s\tremaining: 867ms\n",
      "65:\tlearn: 1577.5422453\ttotal: 1.64s\tremaining: 842ms\n",
      "66:\tlearn: 1576.3635354\ttotal: 1.66s\tremaining: 819ms\n",
      "67:\tlearn: 1574.3101046\ttotal: 1.69s\tremaining: 797ms\n",
      "68:\tlearn: 1573.2850107\ttotal: 1.72s\tremaining: 772ms\n",
      "69:\tlearn: 1571.6460145\ttotal: 1.74s\tremaining: 746ms\n",
      "70:\tlearn: 1569.2779138\ttotal: 1.77s\tremaining: 722ms\n",
      "71:\tlearn: 1568.0020629\ttotal: 1.79s\tremaining: 698ms\n",
      "72:\tlearn: 1567.0624898\ttotal: 1.82s\tremaining: 673ms\n",
      "73:\tlearn: 1565.5513868\ttotal: 1.84s\tremaining: 647ms\n",
      "74:\tlearn: 1564.2729221\ttotal: 1.87s\tremaining: 622ms\n",
      "75:\tlearn: 1561.7099715\ttotal: 1.89s\tremaining: 598ms\n",
      "76:\tlearn: 1559.6443396\ttotal: 1.92s\tremaining: 574ms\n",
      "77:\tlearn: 1558.1832218\ttotal: 1.94s\tremaining: 548ms\n",
      "78:\tlearn: 1556.2038636\ttotal: 1.97s\tremaining: 524ms\n",
      "79:\tlearn: 1554.9018726\ttotal: 1.99s\tremaining: 499ms\n",
      "80:\tlearn: 1552.7591010\ttotal: 2.02s\tremaining: 474ms\n",
      "81:\tlearn: 1550.7048287\ttotal: 2.06s\tremaining: 452ms\n",
      "82:\tlearn: 1548.7093047\ttotal: 2.09s\tremaining: 428ms\n",
      "83:\tlearn: 1547.4994413\ttotal: 2.12s\tremaining: 403ms\n",
      "84:\tlearn: 1546.4368831\ttotal: 2.14s\tremaining: 378ms\n",
      "85:\tlearn: 1545.3274624\ttotal: 2.17s\tremaining: 354ms\n",
      "86:\tlearn: 1544.0227139\ttotal: 2.2s\tremaining: 329ms\n",
      "87:\tlearn: 1542.8439119\ttotal: 2.23s\tremaining: 304ms\n",
      "88:\tlearn: 1541.3986916\ttotal: 2.26s\tremaining: 279ms\n",
      "89:\tlearn: 1539.8948800\ttotal: 2.29s\tremaining: 254ms\n",
      "90:\tlearn: 1538.8256960\ttotal: 2.31s\tremaining: 229ms\n",
      "91:\tlearn: 1537.3986781\ttotal: 2.34s\tremaining: 203ms\n",
      "92:\tlearn: 1536.2787094\ttotal: 2.36s\tremaining: 178ms\n",
      "93:\tlearn: 1534.9122037\ttotal: 2.39s\tremaining: 153ms\n",
      "94:\tlearn: 1533.6687313\ttotal: 2.42s\tremaining: 127ms\n",
      "95:\tlearn: 1532.8266305\ttotal: 2.44s\tremaining: 102ms\n",
      "96:\tlearn: 1531.7062439\ttotal: 2.46s\tremaining: 76.2ms\n",
      "97:\tlearn: 1530.3872733\ttotal: 2.49s\tremaining: 50.8ms\n",
      "98:\tlearn: 1529.2509058\ttotal: 2.51s\tremaining: 25.4ms\n",
      "99:\tlearn: 1527.4442845\ttotal: 2.54s\tremaining: 0us\n",
      "0:\tlearn: 3670.1929858\ttotal: 27.6ms\tremaining: 2.73s\n",
      "1:\tlearn: 3061.3188735\ttotal: 52.2ms\tremaining: 2.56s\n",
      "2:\tlearn: 2679.5785270\ttotal: 76.8ms\tremaining: 2.48s\n",
      "3:\tlearn: 2423.4142760\ttotal: 102ms\tremaining: 2.46s\n",
      "4:\tlearn: 2250.4061912\ttotal: 128ms\tremaining: 2.42s\n",
      "5:\tlearn: 2142.4332185\ttotal: 152ms\tremaining: 2.39s\n",
      "6:\tlearn: 2064.5417941\ttotal: 175ms\tremaining: 2.32s\n",
      "7:\tlearn: 2011.2800018\ttotal: 198ms\tremaining: 2.28s\n",
      "8:\tlearn: 1966.1245290\ttotal: 222ms\tremaining: 2.24s\n",
      "9:\tlearn: 1926.7942283\ttotal: 246ms\tremaining: 2.22s\n",
      "10:\tlearn: 1900.1505634\ttotal: 270ms\tremaining: 2.19s\n",
      "11:\tlearn: 1871.8089652\ttotal: 296ms\tremaining: 2.17s\n",
      "12:\tlearn: 1851.9341902\ttotal: 321ms\tremaining: 2.15s\n",
      "13:\tlearn: 1836.9396241\ttotal: 344ms\tremaining: 2.11s\n",
      "14:\tlearn: 1822.3086784\ttotal: 366ms\tremaining: 2.08s\n",
      "15:\tlearn: 1810.6767514\ttotal: 390ms\tremaining: 2.05s\n",
      "16:\tlearn: 1795.8495628\ttotal: 417ms\tremaining: 2.03s\n",
      "17:\tlearn: 1786.3418015\ttotal: 441ms\tremaining: 2.01s\n",
      "18:\tlearn: 1776.3592845\ttotal: 464ms\tremaining: 1.98s\n",
      "19:\tlearn: 1761.9477055\ttotal: 494ms\tremaining: 1.98s\n",
      "20:\tlearn: 1749.9062483\ttotal: 519ms\tremaining: 1.95s\n",
      "21:\tlearn: 1743.0653531\ttotal: 542ms\tremaining: 1.92s\n",
      "22:\tlearn: 1734.3432106\ttotal: 568ms\tremaining: 1.9s\n",
      "23:\tlearn: 1728.3784967\ttotal: 593ms\tremaining: 1.88s\n",
      "24:\tlearn: 1722.5889116\ttotal: 616ms\tremaining: 1.85s\n",
      "25:\tlearn: 1718.9993799\ttotal: 641ms\tremaining: 1.82s\n",
      "26:\tlearn: 1713.1615159\ttotal: 666ms\tremaining: 1.8s\n",
      "27:\tlearn: 1706.4817583\ttotal: 693ms\tremaining: 1.78s\n",
      "28:\tlearn: 1701.0408032\ttotal: 717ms\tremaining: 1.76s\n",
      "29:\tlearn: 1695.6729952\ttotal: 743ms\tremaining: 1.73s\n",
      "30:\tlearn: 1689.9250952\ttotal: 766ms\tremaining: 1.7s\n",
      "31:\tlearn: 1683.6444979\ttotal: 793ms\tremaining: 1.69s\n",
      "32:\tlearn: 1679.2277325\ttotal: 819ms\tremaining: 1.66s\n",
      "33:\tlearn: 1675.8440029\ttotal: 844ms\tremaining: 1.64s\n",
      "34:\tlearn: 1672.5930857\ttotal: 868ms\tremaining: 1.61s\n",
      "35:\tlearn: 1666.7230886\ttotal: 893ms\tremaining: 1.59s\n",
      "36:\tlearn: 1662.9999494\ttotal: 918ms\tremaining: 1.56s\n",
      "37:\tlearn: 1659.0458677\ttotal: 942ms\tremaining: 1.54s\n",
      "38:\tlearn: 1655.5581305\ttotal: 967ms\tremaining: 1.51s\n",
      "39:\tlearn: 1652.4459434\ttotal: 991ms\tremaining: 1.49s\n",
      "40:\tlearn: 1648.2348491\ttotal: 1.02s\tremaining: 1.47s\n",
      "41:\tlearn: 1644.7038060\ttotal: 1.05s\tremaining: 1.45s\n",
      "42:\tlearn: 1642.0484062\ttotal: 1.07s\tremaining: 1.42s\n",
      "43:\tlearn: 1638.5552868\ttotal: 1.1s\tremaining: 1.4s\n",
      "44:\tlearn: 1634.6648357\ttotal: 1.12s\tremaining: 1.37s\n",
      "45:\tlearn: 1631.6840911\ttotal: 1.16s\tremaining: 1.36s\n",
      "46:\tlearn: 1629.4070629\ttotal: 1.19s\tremaining: 1.34s\n",
      "47:\tlearn: 1627.0509467\ttotal: 1.21s\tremaining: 1.31s\n",
      "48:\tlearn: 1622.9528961\ttotal: 1.24s\tremaining: 1.29s\n",
      "49:\tlearn: 1620.5815949\ttotal: 1.28s\tremaining: 1.28s\n",
      "50:\tlearn: 1617.4653346\ttotal: 1.3s\tremaining: 1.25s\n",
      "51:\tlearn: 1614.8798446\ttotal: 1.33s\tremaining: 1.22s\n",
      "52:\tlearn: 1612.5976374\ttotal: 1.35s\tremaining: 1.2s\n",
      "53:\tlearn: 1609.9190751\ttotal: 1.38s\tremaining: 1.17s\n",
      "54:\tlearn: 1606.0552292\ttotal: 1.4s\tremaining: 1.15s\n",
      "55:\tlearn: 1603.5946559\ttotal: 1.43s\tremaining: 1.12s\n",
      "56:\tlearn: 1602.4012572\ttotal: 1.45s\tremaining: 1.09s\n",
      "57:\tlearn: 1600.3116104\ttotal: 1.53s\tremaining: 1.11s\n",
      "58:\tlearn: 1597.7423952\ttotal: 1.56s\tremaining: 1.09s\n",
      "59:\tlearn: 1596.0065410\ttotal: 1.59s\tremaining: 1.06s\n",
      "60:\tlearn: 1594.0636483\ttotal: 1.64s\tremaining: 1.05s\n",
      "61:\tlearn: 1591.6142749\ttotal: 1.66s\tremaining: 1.02s\n",
      "62:\tlearn: 1590.0462295\ttotal: 1.69s\tremaining: 991ms\n",
      "63:\tlearn: 1587.6731394\ttotal: 1.74s\tremaining: 980ms\n",
      "64:\tlearn: 1586.0263356\ttotal: 1.77s\tremaining: 951ms\n",
      "65:\tlearn: 1584.3208543\ttotal: 1.79s\tremaining: 922ms\n",
      "66:\tlearn: 1581.6086491\ttotal: 1.81s\tremaining: 894ms\n",
      "67:\tlearn: 1579.4930077\ttotal: 1.84s\tremaining: 865ms\n",
      "68:\tlearn: 1577.9806890\ttotal: 1.86s\tremaining: 838ms\n",
      "69:\tlearn: 1575.6144163\ttotal: 1.89s\tremaining: 810ms\n",
      "70:\tlearn: 1573.9745053\ttotal: 1.92s\tremaining: 783ms\n",
      "71:\tlearn: 1572.7566357\ttotal: 1.94s\tremaining: 755ms\n",
      "72:\tlearn: 1571.3986502\ttotal: 1.97s\tremaining: 727ms\n",
      "73:\tlearn: 1569.6635207\ttotal: 1.99s\tremaining: 700ms\n",
      "74:\tlearn: 1567.9659733\ttotal: 2.01s\tremaining: 672ms\n",
      "75:\tlearn: 1566.4959940\ttotal: 2.04s\tremaining: 643ms\n",
      "76:\tlearn: 1565.4596624\ttotal: 2.06s\tremaining: 615ms\n",
      "77:\tlearn: 1563.8468344\ttotal: 2.09s\tremaining: 589ms\n",
      "78:\tlearn: 1561.3764162\ttotal: 2.11s\tremaining: 561ms\n",
      "79:\tlearn: 1558.7966113\ttotal: 2.13s\tremaining: 534ms\n",
      "80:\tlearn: 1557.5379224\ttotal: 2.16s\tremaining: 506ms\n",
      "81:\tlearn: 1555.7448540\ttotal: 2.19s\tremaining: 480ms\n",
      "82:\tlearn: 1554.7458095\ttotal: 2.21s\tremaining: 452ms\n",
      "83:\tlearn: 1552.8645952\ttotal: 2.23s\tremaining: 425ms\n",
      "84:\tlearn: 1551.6299994\ttotal: 2.26s\tremaining: 398ms\n",
      "85:\tlearn: 1549.7095701\ttotal: 2.28s\tremaining: 371ms\n",
      "86:\tlearn: 1548.2404651\ttotal: 2.3s\tremaining: 344ms\n",
      "87:\tlearn: 1546.8383977\ttotal: 2.33s\tremaining: 318ms\n",
      "88:\tlearn: 1545.6054245\ttotal: 2.35s\tremaining: 291ms\n",
      "89:\tlearn: 1544.0785957\ttotal: 2.38s\tremaining: 264ms\n",
      "90:\tlearn: 1542.3983571\ttotal: 2.4s\tremaining: 238ms\n",
      "91:\tlearn: 1541.0849341\ttotal: 2.43s\tremaining: 211ms\n",
      "92:\tlearn: 1539.9706577\ttotal: 2.46s\tremaining: 185ms\n",
      "93:\tlearn: 1538.1311094\ttotal: 2.48s\tremaining: 158ms\n",
      "94:\tlearn: 1537.1361421\ttotal: 2.5s\tremaining: 132ms\n",
      "95:\tlearn: 1535.8919492\ttotal: 2.53s\tremaining: 105ms\n",
      "96:\tlearn: 1534.6540511\ttotal: 2.55s\tremaining: 79ms\n",
      "97:\tlearn: 1533.5142633\ttotal: 2.58s\tremaining: 52.6ms\n",
      "98:\tlearn: 1532.3815099\ttotal: 2.6s\tremaining: 26.3ms\n",
      "99:\tlearn: 1531.7304981\ttotal: 2.63s\tremaining: 0us\n",
      "0:\tlearn: 3614.1054161\ttotal: 51.5ms\tremaining: 464ms\n",
      "1:\tlearn: 2975.6701611\ttotal: 101ms\tremaining: 405ms\n",
      "2:\tlearn: 2563.1475680\ttotal: 151ms\tremaining: 353ms\n",
      "3:\tlearn: 2305.2087356\ttotal: 194ms\tremaining: 291ms\n",
      "4:\tlearn: 2131.9860049\ttotal: 235ms\tremaining: 235ms\n",
      "5:\tlearn: 2005.0964769\ttotal: 278ms\tremaining: 185ms\n",
      "6:\tlearn: 1925.0355460\ttotal: 325ms\tremaining: 139ms\n",
      "7:\tlearn: 1873.9038523\ttotal: 373ms\tremaining: 93.4ms\n",
      "8:\tlearn: 1829.4129385\ttotal: 418ms\tremaining: 46.4ms\n",
      "9:\tlearn: 1792.8997245\ttotal: 459ms\tremaining: 0us\n",
      "0:\tlearn: 3612.1098991\ttotal: 52.6ms\tremaining: 473ms\n",
      "1:\tlearn: 2968.2999081\ttotal: 97.1ms\tremaining: 388ms\n",
      "2:\tlearn: 2539.8503631\ttotal: 145ms\tremaining: 337ms\n",
      "3:\tlearn: 2275.4967264\ttotal: 187ms\tremaining: 280ms\n",
      "4:\tlearn: 2097.4663728\ttotal: 232ms\tremaining: 232ms\n",
      "5:\tlearn: 1987.6917543\ttotal: 278ms\tremaining: 186ms\n",
      "6:\tlearn: 1899.1531818\ttotal: 322ms\tremaining: 138ms\n",
      "7:\tlearn: 1845.1537678\ttotal: 362ms\tremaining: 90.6ms\n",
      "8:\tlearn: 1802.7879953\ttotal: 405ms\tremaining: 45ms\n",
      "9:\tlearn: 1775.3099410\ttotal: 447ms\tremaining: 0us\n",
      "0:\tlearn: 3604.5410318\ttotal: 43.2ms\tremaining: 389ms\n",
      "1:\tlearn: 2966.4513658\ttotal: 85.2ms\tremaining: 341ms\n",
      "2:\tlearn: 2564.5471737\ttotal: 128ms\tremaining: 299ms\n",
      "3:\tlearn: 2303.6797104\ttotal: 168ms\tremaining: 252ms\n",
      "4:\tlearn: 2127.6242264\ttotal: 213ms\tremaining: 213ms\n",
      "5:\tlearn: 2017.4916222\ttotal: 257ms\tremaining: 171ms\n",
      "6:\tlearn: 1936.3945746\ttotal: 309ms\tremaining: 133ms\n",
      "7:\tlearn: 1864.5758392\ttotal: 351ms\tremaining: 87.8ms\n",
      "8:\tlearn: 1820.0756162\ttotal: 393ms\tremaining: 43.7ms\n",
      "9:\tlearn: 1787.0074162\ttotal: 435ms\tremaining: 0us\n",
      "0:\tlearn: 3601.4241409\ttotal: 42.6ms\tremaining: 383ms\n",
      "1:\tlearn: 2965.8367282\ttotal: 84.1ms\tremaining: 337ms\n",
      "2:\tlearn: 2556.4457958\ttotal: 125ms\tremaining: 293ms\n",
      "3:\tlearn: 2277.2669113\ttotal: 170ms\tremaining: 255ms\n",
      "4:\tlearn: 2104.0428090\ttotal: 213ms\tremaining: 213ms\n",
      "5:\tlearn: 1994.2425136\ttotal: 262ms\tremaining: 175ms\n",
      "6:\tlearn: 1911.3398637\ttotal: 305ms\tremaining: 131ms\n",
      "7:\tlearn: 1864.8180583\ttotal: 347ms\tremaining: 86.8ms\n",
      "8:\tlearn: 1816.5306869\ttotal: 389ms\tremaining: 43.3ms\n",
      "9:\tlearn: 1784.4103733\ttotal: 434ms\tremaining: 0us\n",
      "0:\tlearn: 3605.3777948\ttotal: 42.7ms\tremaining: 384ms\n",
      "1:\tlearn: 2967.4746158\ttotal: 83.4ms\tremaining: 334ms\n",
      "2:\tlearn: 2557.6489213\ttotal: 127ms\tremaining: 297ms\n",
      "3:\tlearn: 2290.6899109\ttotal: 171ms\tremaining: 256ms\n",
      "4:\tlearn: 2110.6940215\ttotal: 215ms\tremaining: 215ms\n",
      "5:\tlearn: 1996.8771368\ttotal: 263ms\tremaining: 175ms\n",
      "6:\tlearn: 1922.9072983\ttotal: 312ms\tremaining: 134ms\n",
      "7:\tlearn: 1859.8945231\ttotal: 356ms\tremaining: 89.1ms\n",
      "8:\tlearn: 1822.1482276\ttotal: 400ms\tremaining: 44.4ms\n",
      "9:\tlearn: 1795.6232145\ttotal: 445ms\tremaining: 0us\n",
      "0:\tlearn: 3614.1054161\ttotal: 48ms\tremaining: 2.35s\n",
      "1:\tlearn: 2975.6701611\ttotal: 91.3ms\tremaining: 2.19s\n",
      "2:\tlearn: 2563.1475680\ttotal: 133ms\tremaining: 2.08s\n",
      "3:\tlearn: 2305.2087356\ttotal: 175ms\tremaining: 2.01s\n",
      "4:\tlearn: 2131.9860049\ttotal: 218ms\tremaining: 1.96s\n",
      "5:\tlearn: 2005.0964769\ttotal: 258ms\tremaining: 1.89s\n",
      "6:\tlearn: 1925.0355460\ttotal: 302ms\tremaining: 1.86s\n",
      "7:\tlearn: 1873.9038523\ttotal: 344ms\tremaining: 1.8s\n",
      "8:\tlearn: 1829.4129385\ttotal: 385ms\tremaining: 1.76s\n",
      "9:\tlearn: 1792.8997245\ttotal: 429ms\tremaining: 1.72s\n",
      "10:\tlearn: 1769.3312458\ttotal: 471ms\tremaining: 1.67s\n",
      "11:\tlearn: 1742.3644976\ttotal: 515ms\tremaining: 1.63s\n",
      "12:\tlearn: 1730.2950615\ttotal: 560ms\tremaining: 1.59s\n",
      "13:\tlearn: 1712.0681305\ttotal: 602ms\tremaining: 1.55s\n",
      "14:\tlearn: 1694.3650614\ttotal: 645ms\tremaining: 1.5s\n",
      "15:\tlearn: 1685.1581734\ttotal: 688ms\tremaining: 1.46s\n",
      "16:\tlearn: 1676.0904883\ttotal: 733ms\tremaining: 1.42s\n",
      "17:\tlearn: 1664.6805484\ttotal: 776ms\tremaining: 1.38s\n",
      "18:\tlearn: 1655.4694239\ttotal: 819ms\tremaining: 1.34s\n",
      "19:\tlearn: 1648.8189578\ttotal: 861ms\tremaining: 1.29s\n",
      "20:\tlearn: 1637.7347058\ttotal: 905ms\tremaining: 1.25s\n",
      "21:\tlearn: 1630.2215754\ttotal: 948ms\tremaining: 1.21s\n",
      "22:\tlearn: 1624.5527501\ttotal: 996ms\tremaining: 1.17s\n",
      "23:\tlearn: 1619.0597167\ttotal: 1.04s\tremaining: 1.13s\n",
      "24:\tlearn: 1614.2532584\ttotal: 1.09s\tremaining: 1.09s\n",
      "25:\tlearn: 1609.4451379\ttotal: 1.13s\tremaining: 1.04s\n",
      "26:\tlearn: 1604.2815604\ttotal: 1.18s\tremaining: 1s\n",
      "27:\tlearn: 1599.1889059\ttotal: 1.22s\tremaining: 960ms\n",
      "28:\tlearn: 1592.4929380\ttotal: 1.26s\tremaining: 916ms\n",
      "29:\tlearn: 1586.8976908\ttotal: 1.31s\tremaining: 873ms\n",
      "30:\tlearn: 1582.4609243\ttotal: 1.35s\tremaining: 829ms\n",
      "31:\tlearn: 1578.5742563\ttotal: 1.39s\tremaining: 784ms\n",
      "32:\tlearn: 1573.8055014\ttotal: 1.44s\tremaining: 739ms\n",
      "33:\tlearn: 1567.8367275\ttotal: 1.48s\tremaining: 696ms\n",
      "34:\tlearn: 1564.0894301\ttotal: 1.52s\tremaining: 652ms\n",
      "35:\tlearn: 1561.4841473\ttotal: 1.56s\tremaining: 609ms\n",
      "36:\tlearn: 1558.5795100\ttotal: 1.61s\tremaining: 565ms\n",
      "37:\tlearn: 1556.2794264\ttotal: 1.65s\tremaining: 522ms\n",
      "38:\tlearn: 1551.7957889\ttotal: 1.7s\tremaining: 478ms\n",
      "39:\tlearn: 1549.2595339\ttotal: 1.74s\tremaining: 434ms\n",
      "40:\tlearn: 1546.1498336\ttotal: 1.78s\tremaining: 391ms\n",
      "41:\tlearn: 1544.1683118\ttotal: 1.82s\tremaining: 347ms\n",
      "42:\tlearn: 1541.3907751\ttotal: 1.86s\tremaining: 303ms\n",
      "43:\tlearn: 1537.8384767\ttotal: 1.91s\tremaining: 261ms\n",
      "44:\tlearn: 1534.1352328\ttotal: 1.96s\tremaining: 218ms\n",
      "45:\tlearn: 1528.6248570\ttotal: 2s\tremaining: 174ms\n",
      "46:\tlearn: 1525.4713339\ttotal: 2.06s\tremaining: 131ms\n",
      "47:\tlearn: 1523.5915070\ttotal: 2.1s\tremaining: 87.7ms\n",
      "48:\tlearn: 1520.1105502\ttotal: 2.15s\tremaining: 43.8ms\n",
      "49:\tlearn: 1517.9543017\ttotal: 2.19s\tremaining: 0us\n",
      "0:\tlearn: 3612.1098991\ttotal: 44.1ms\tremaining: 2.16s\n",
      "1:\tlearn: 2968.2999081\ttotal: 89.5ms\tremaining: 2.15s\n",
      "2:\tlearn: 2539.8503631\ttotal: 134ms\tremaining: 2.1s\n",
      "3:\tlearn: 2275.4967264\ttotal: 176ms\tremaining: 2.03s\n",
      "4:\tlearn: 2097.4663728\ttotal: 222ms\tremaining: 1.99s\n",
      "5:\tlearn: 1987.6917543\ttotal: 265ms\tremaining: 1.94s\n",
      "6:\tlearn: 1899.1531818\ttotal: 310ms\tremaining: 1.9s\n",
      "7:\tlearn: 1845.1537678\ttotal: 352ms\tremaining: 1.85s\n",
      "8:\tlearn: 1802.7879953\ttotal: 395ms\tremaining: 1.8s\n",
      "9:\tlearn: 1775.3099410\ttotal: 437ms\tremaining: 1.75s\n",
      "10:\tlearn: 1751.5966084\ttotal: 484ms\tremaining: 1.72s\n",
      "11:\tlearn: 1733.5880396\ttotal: 528ms\tremaining: 1.67s\n",
      "12:\tlearn: 1720.3881904\ttotal: 573ms\tremaining: 1.63s\n",
      "13:\tlearn: 1704.9470931\ttotal: 615ms\tremaining: 1.58s\n",
      "14:\tlearn: 1689.6069783\ttotal: 660ms\tremaining: 1.54s\n",
      "15:\tlearn: 1677.1499717\ttotal: 703ms\tremaining: 1.49s\n",
      "16:\tlearn: 1667.0242014\ttotal: 750ms\tremaining: 1.46s\n",
      "17:\tlearn: 1659.2221907\ttotal: 795ms\tremaining: 1.41s\n",
      "18:\tlearn: 1650.3854969\ttotal: 840ms\tremaining: 1.37s\n",
      "19:\tlearn: 1641.0935024\ttotal: 885ms\tremaining: 1.33s\n",
      "20:\tlearn: 1638.1602120\ttotal: 928ms\tremaining: 1.28s\n",
      "21:\tlearn: 1628.1529446\ttotal: 969ms\tremaining: 1.23s\n",
      "22:\tlearn: 1623.0978474\ttotal: 1.01s\tremaining: 1.19s\n",
      "23:\tlearn: 1616.5572937\ttotal: 1.06s\tremaining: 1.15s\n",
      "24:\tlearn: 1610.2348020\ttotal: 1.1s\tremaining: 1.1s\n",
      "25:\tlearn: 1604.5580806\ttotal: 1.14s\tremaining: 1.05s\n",
      "26:\tlearn: 1597.7295862\ttotal: 1.18s\tremaining: 1.01s\n",
      "27:\tlearn: 1594.4967828\ttotal: 1.22s\tremaining: 961ms\n",
      "28:\tlearn: 1589.7960600\ttotal: 1.26s\tremaining: 915ms\n",
      "29:\tlearn: 1582.8867894\ttotal: 1.3s\tremaining: 870ms\n",
      "30:\tlearn: 1577.0360656\ttotal: 1.35s\tremaining: 826ms\n",
      "31:\tlearn: 1572.8857143\ttotal: 1.39s\tremaining: 781ms\n",
      "32:\tlearn: 1569.0284905\ttotal: 1.43s\tremaining: 739ms\n",
      "33:\tlearn: 1563.2228307\ttotal: 1.48s\tremaining: 696ms\n",
      "34:\tlearn: 1558.2589817\ttotal: 1.52s\tremaining: 652ms\n",
      "35:\tlearn: 1554.6575924\ttotal: 1.56s\tremaining: 609ms\n",
      "36:\tlearn: 1552.2152631\ttotal: 1.61s\tremaining: 565ms\n",
      "37:\tlearn: 1549.5143314\ttotal: 1.65s\tremaining: 522ms\n",
      "38:\tlearn: 1546.1340515\ttotal: 1.7s\tremaining: 478ms\n",
      "39:\tlearn: 1543.4350866\ttotal: 1.74s\tremaining: 435ms\n",
      "40:\tlearn: 1541.0465346\ttotal: 1.78s\tremaining: 391ms\n",
      "41:\tlearn: 1537.0793979\ttotal: 1.82s\tremaining: 348ms\n",
      "42:\tlearn: 1532.9573261\ttotal: 1.88s\tremaining: 305ms\n",
      "43:\tlearn: 1530.3414917\ttotal: 1.92s\tremaining: 261ms\n",
      "44:\tlearn: 1526.4326120\ttotal: 1.96s\tremaining: 218ms\n",
      "45:\tlearn: 1523.7185853\ttotal: 2s\tremaining: 174ms\n",
      "46:\tlearn: 1520.3706763\ttotal: 2.04s\tremaining: 131ms\n",
      "47:\tlearn: 1517.0672229\ttotal: 2.08s\tremaining: 86.9ms\n",
      "48:\tlearn: 1515.0582672\ttotal: 2.13s\tremaining: 43.4ms\n",
      "49:\tlearn: 1512.0788859\ttotal: 2.17s\tremaining: 0us\n",
      "0:\tlearn: 3604.5410318\ttotal: 42.9ms\tremaining: 2.1s\n",
      "1:\tlearn: 2966.4513658\ttotal: 92.3ms\tremaining: 2.21s\n",
      "2:\tlearn: 2564.5471737\ttotal: 139ms\tremaining: 2.18s\n",
      "3:\tlearn: 2303.6797104\ttotal: 181ms\tremaining: 2.08s\n",
      "4:\tlearn: 2127.6242264\ttotal: 224ms\tremaining: 2.01s\n",
      "5:\tlearn: 2017.4916222\ttotal: 271ms\tremaining: 1.98s\n",
      "6:\tlearn: 1936.3945746\ttotal: 317ms\tremaining: 1.95s\n",
      "7:\tlearn: 1864.5758392\ttotal: 361ms\tremaining: 1.9s\n",
      "8:\tlearn: 1820.0756162\ttotal: 405ms\tremaining: 1.84s\n",
      "9:\tlearn: 1787.0074162\ttotal: 451ms\tremaining: 1.8s\n",
      "10:\tlearn: 1763.9652225\ttotal: 494ms\tremaining: 1.75s\n",
      "11:\tlearn: 1746.4248521\ttotal: 540ms\tremaining: 1.71s\n",
      "12:\tlearn: 1729.2640529\ttotal: 593ms\tremaining: 1.69s\n",
      "13:\tlearn: 1709.8792981\ttotal: 639ms\tremaining: 1.64s\n",
      "14:\tlearn: 1696.6722798\ttotal: 687ms\tremaining: 1.6s\n",
      "15:\tlearn: 1680.3618549\ttotal: 732ms\tremaining: 1.55s\n",
      "16:\tlearn: 1667.5562427\ttotal: 779ms\tremaining: 1.51s\n",
      "17:\tlearn: 1658.2193165\ttotal: 827ms\tremaining: 1.47s\n",
      "18:\tlearn: 1649.8669932\ttotal: 874ms\tremaining: 1.43s\n",
      "19:\tlearn: 1641.4210784\ttotal: 925ms\tremaining: 1.39s\n",
      "20:\tlearn: 1632.3222053\ttotal: 979ms\tremaining: 1.35s\n",
      "21:\tlearn: 1627.3627303\ttotal: 1.03s\tremaining: 1.31s\n",
      "22:\tlearn: 1621.2074945\ttotal: 1.08s\tremaining: 1.27s\n",
      "23:\tlearn: 1614.4225172\ttotal: 1.13s\tremaining: 1.23s\n",
      "24:\tlearn: 1607.9756735\ttotal: 1.18s\tremaining: 1.18s\n",
      "25:\tlearn: 1603.5486013\ttotal: 1.23s\tremaining: 1.13s\n",
      "26:\tlearn: 1596.4723480\ttotal: 1.27s\tremaining: 1.08s\n",
      "27:\tlearn: 1591.2647537\ttotal: 1.32s\tremaining: 1.04s\n",
      "28:\tlearn: 1585.7398076\ttotal: 1.36s\tremaining: 989ms\n",
      "29:\tlearn: 1579.5931344\ttotal: 1.41s\tremaining: 941ms\n",
      "30:\tlearn: 1576.4310736\ttotal: 1.46s\tremaining: 895ms\n",
      "31:\tlearn: 1570.2822527\ttotal: 1.5s\tremaining: 845ms\n",
      "32:\tlearn: 1564.4209996\ttotal: 1.54s\tremaining: 796ms\n",
      "33:\tlearn: 1559.4248283\ttotal: 1.58s\tremaining: 745ms\n",
      "34:\tlearn: 1555.0972073\ttotal: 1.62s\tremaining: 696ms\n",
      "35:\tlearn: 1553.2889129\ttotal: 1.67s\tremaining: 649ms\n",
      "36:\tlearn: 1551.4594356\ttotal: 1.71s\tremaining: 602ms\n",
      "37:\tlearn: 1548.0475056\ttotal: 1.75s\tremaining: 554ms\n",
      "38:\tlearn: 1544.4518156\ttotal: 1.8s\tremaining: 507ms\n",
      "39:\tlearn: 1540.6850614\ttotal: 1.84s\tremaining: 460ms\n",
      "40:\tlearn: 1534.7204522\ttotal: 1.88s\tremaining: 413ms\n",
      "41:\tlearn: 1530.9557596\ttotal: 1.93s\tremaining: 367ms\n",
      "42:\tlearn: 1528.1947335\ttotal: 1.97s\tremaining: 321ms\n",
      "43:\tlearn: 1525.9555042\ttotal: 2.02s\tremaining: 275ms\n",
      "44:\tlearn: 1523.0480000\ttotal: 2.07s\tremaining: 230ms\n",
      "45:\tlearn: 1520.8523239\ttotal: 2.11s\tremaining: 183ms\n",
      "46:\tlearn: 1517.7934172\ttotal: 2.15s\tremaining: 137ms\n",
      "47:\tlearn: 1514.5712564\ttotal: 2.2s\tremaining: 91.6ms\n",
      "48:\tlearn: 1510.6906152\ttotal: 2.24s\tremaining: 45.8ms\n",
      "49:\tlearn: 1508.4829460\ttotal: 2.29s\tremaining: 0us\n",
      "0:\tlearn: 3601.4241409\ttotal: 42.6ms\tremaining: 2.08s\n",
      "1:\tlearn: 2965.8367282\ttotal: 88.1ms\tremaining: 2.11s\n",
      "2:\tlearn: 2556.4457958\ttotal: 130ms\tremaining: 2.03s\n",
      "3:\tlearn: 2277.2669113\ttotal: 174ms\tremaining: 2s\n",
      "4:\tlearn: 2104.0428090\ttotal: 219ms\tremaining: 1.97s\n",
      "5:\tlearn: 1994.2425136\ttotal: 266ms\tremaining: 1.95s\n",
      "6:\tlearn: 1911.3398637\ttotal: 308ms\tremaining: 1.89s\n",
      "7:\tlearn: 1864.8180583\ttotal: 350ms\tremaining: 1.84s\n",
      "8:\tlearn: 1816.5306869\ttotal: 397ms\tremaining: 1.81s\n",
      "9:\tlearn: 1784.4103733\ttotal: 439ms\tremaining: 1.76s\n",
      "10:\tlearn: 1750.1405621\ttotal: 482ms\tremaining: 1.71s\n",
      "11:\tlearn: 1730.9432233\ttotal: 525ms\tremaining: 1.66s\n",
      "12:\tlearn: 1716.9415653\ttotal: 571ms\tremaining: 1.63s\n",
      "13:\tlearn: 1699.7060367\ttotal: 614ms\tremaining: 1.58s\n",
      "14:\tlearn: 1687.8671543\ttotal: 656ms\tremaining: 1.53s\n",
      "15:\tlearn: 1677.6337601\ttotal: 700ms\tremaining: 1.49s\n",
      "16:\tlearn: 1671.3632890\ttotal: 741ms\tremaining: 1.44s\n",
      "17:\tlearn: 1658.5390220\ttotal: 785ms\tremaining: 1.4s\n",
      "18:\tlearn: 1645.8734115\ttotal: 837ms\tremaining: 1.37s\n",
      "19:\tlearn: 1639.3550089\ttotal: 882ms\tremaining: 1.32s\n",
      "20:\tlearn: 1633.2878821\ttotal: 925ms\tremaining: 1.28s\n",
      "21:\tlearn: 1627.0425019\ttotal: 967ms\tremaining: 1.23s\n",
      "22:\tlearn: 1621.3135791\ttotal: 1.01s\tremaining: 1.19s\n",
      "23:\tlearn: 1616.0278292\ttotal: 1.05s\tremaining: 1.14s\n",
      "24:\tlearn: 1611.9619771\ttotal: 1.1s\tremaining: 1.1s\n",
      "25:\tlearn: 1608.4777492\ttotal: 1.14s\tremaining: 1.05s\n",
      "26:\tlearn: 1602.0055117\ttotal: 1.19s\tremaining: 1.01s\n",
      "27:\tlearn: 1595.6856732\ttotal: 1.24s\tremaining: 973ms\n",
      "28:\tlearn: 1591.4123199\ttotal: 1.29s\tremaining: 935ms\n",
      "29:\tlearn: 1585.6809454\ttotal: 1.34s\tremaining: 895ms\n",
      "30:\tlearn: 1582.1767745\ttotal: 1.39s\tremaining: 851ms\n",
      "31:\tlearn: 1577.0114037\ttotal: 1.43s\tremaining: 805ms\n",
      "32:\tlearn: 1571.5033142\ttotal: 1.47s\tremaining: 760ms\n",
      "33:\tlearn: 1566.0244731\ttotal: 1.52s\tremaining: 715ms\n",
      "34:\tlearn: 1560.9478868\ttotal: 1.56s\tremaining: 671ms\n",
      "35:\tlearn: 1557.1275486\ttotal: 1.61s\tremaining: 625ms\n",
      "36:\tlearn: 1553.9641091\ttotal: 1.66s\tremaining: 582ms\n",
      "37:\tlearn: 1550.4160993\ttotal: 1.7s\tremaining: 537ms\n",
      "38:\tlearn: 1546.0267114\ttotal: 1.74s\tremaining: 492ms\n",
      "39:\tlearn: 1542.6337296\ttotal: 1.78s\tremaining: 446ms\n",
      "40:\tlearn: 1538.6267036\ttotal: 1.83s\tremaining: 402ms\n",
      "41:\tlearn: 1535.9044220\ttotal: 1.87s\tremaining: 357ms\n",
      "42:\tlearn: 1533.3467563\ttotal: 1.92s\tremaining: 312ms\n",
      "43:\tlearn: 1529.2858767\ttotal: 1.96s\tremaining: 267ms\n",
      "44:\tlearn: 1525.5642912\ttotal: 2s\tremaining: 222ms\n",
      "45:\tlearn: 1523.6036864\ttotal: 2.05s\tremaining: 178ms\n",
      "46:\tlearn: 1520.1806793\ttotal: 2.09s\tremaining: 134ms\n",
      "47:\tlearn: 1517.6287494\ttotal: 2.14s\tremaining: 89ms\n",
      "48:\tlearn: 1515.2957491\ttotal: 2.18s\tremaining: 44.5ms\n",
      "49:\tlearn: 1511.9668932\ttotal: 2.23s\tremaining: 0us\n",
      "0:\tlearn: 3605.3777948\ttotal: 40.5ms\tremaining: 1.99s\n",
      "1:\tlearn: 2967.4746158\ttotal: 83.8ms\tremaining: 2.01s\n",
      "2:\tlearn: 2557.6489213\ttotal: 127ms\tremaining: 1.98s\n",
      "3:\tlearn: 2290.6899109\ttotal: 169ms\tremaining: 1.94s\n",
      "4:\tlearn: 2110.6940215\ttotal: 213ms\tremaining: 1.92s\n",
      "5:\tlearn: 1996.8771368\ttotal: 258ms\tremaining: 1.89s\n",
      "6:\tlearn: 1922.9072983\ttotal: 302ms\tremaining: 1.85s\n",
      "7:\tlearn: 1859.8945231\ttotal: 348ms\tremaining: 1.83s\n",
      "8:\tlearn: 1822.1482276\ttotal: 390ms\tremaining: 1.78s\n",
      "9:\tlearn: 1795.6232145\ttotal: 436ms\tremaining: 1.74s\n",
      "10:\tlearn: 1770.4147070\ttotal: 484ms\tremaining: 1.72s\n",
      "11:\tlearn: 1749.9945301\ttotal: 525ms\tremaining: 1.66s\n",
      "12:\tlearn: 1722.2646310\ttotal: 574ms\tremaining: 1.63s\n",
      "13:\tlearn: 1706.7708934\ttotal: 616ms\tremaining: 1.58s\n",
      "14:\tlearn: 1695.7250032\ttotal: 660ms\tremaining: 1.54s\n",
      "15:\tlearn: 1685.7705448\ttotal: 703ms\tremaining: 1.49s\n",
      "16:\tlearn: 1673.5000689\ttotal: 750ms\tremaining: 1.46s\n",
      "17:\tlearn: 1665.5072245\ttotal: 793ms\tremaining: 1.41s\n",
      "18:\tlearn: 1656.0515111\ttotal: 838ms\tremaining: 1.37s\n",
      "19:\tlearn: 1650.7985393\ttotal: 881ms\tremaining: 1.32s\n",
      "20:\tlearn: 1645.8138000\ttotal: 928ms\tremaining: 1.28s\n",
      "21:\tlearn: 1636.9865135\ttotal: 972ms\tremaining: 1.24s\n",
      "22:\tlearn: 1629.4240249\ttotal: 1.02s\tremaining: 1.19s\n",
      "23:\tlearn: 1620.5657618\ttotal: 1.06s\tremaining: 1.15s\n",
      "24:\tlearn: 1613.9716630\ttotal: 1.1s\tremaining: 1.1s\n",
      "25:\tlearn: 1609.1748828\ttotal: 1.15s\tremaining: 1.06s\n",
      "26:\tlearn: 1601.7279796\ttotal: 1.19s\tremaining: 1.01s\n",
      "27:\tlearn: 1598.1738303\ttotal: 1.24s\tremaining: 973ms\n",
      "28:\tlearn: 1591.5060218\ttotal: 1.28s\tremaining: 927ms\n",
      "29:\tlearn: 1586.0636514\ttotal: 1.32s\tremaining: 882ms\n",
      "30:\tlearn: 1582.2076184\ttotal: 1.36s\tremaining: 837ms\n",
      "31:\tlearn: 1575.2456025\ttotal: 1.41s\tremaining: 795ms\n",
      "32:\tlearn: 1571.2923366\ttotal: 1.47s\tremaining: 757ms\n",
      "33:\tlearn: 1566.9135278\ttotal: 1.52s\tremaining: 714ms\n",
      "34:\tlearn: 1559.7720385\ttotal: 1.57s\tremaining: 671ms\n",
      "35:\tlearn: 1556.7881329\ttotal: 1.61s\tremaining: 628ms\n",
      "36:\tlearn: 1552.6704088\ttotal: 1.66s\tremaining: 584ms\n",
      "37:\tlearn: 1549.0758393\ttotal: 1.71s\tremaining: 539ms\n",
      "38:\tlearn: 1545.9461752\ttotal: 1.75s\tremaining: 493ms\n",
      "39:\tlearn: 1541.8405340\ttotal: 1.79s\tremaining: 449ms\n",
      "40:\tlearn: 1538.3325265\ttotal: 1.84s\tremaining: 405ms\n",
      "41:\tlearn: 1534.3732555\ttotal: 1.89s\tremaining: 360ms\n",
      "42:\tlearn: 1531.2852864\ttotal: 1.93s\tremaining: 314ms\n",
      "43:\tlearn: 1528.2113500\ttotal: 1.97s\tremaining: 269ms\n",
      "44:\tlearn: 1524.9301025\ttotal: 2.02s\tremaining: 225ms\n",
      "45:\tlearn: 1520.3033681\ttotal: 2.07s\tremaining: 180ms\n",
      "46:\tlearn: 1516.8061317\ttotal: 2.11s\tremaining: 135ms\n",
      "47:\tlearn: 1514.4899800\ttotal: 2.16s\tremaining: 89.8ms\n",
      "48:\tlearn: 1511.9038245\ttotal: 2.2s\tremaining: 44.9ms\n",
      "49:\tlearn: 1508.7076736\ttotal: 2.25s\tremaining: 0us\n",
      "0:\tlearn: 3614.1054161\ttotal: 40.4ms\tremaining: 4s\n",
      "1:\tlearn: 2975.6701611\ttotal: 81.5ms\tremaining: 4s\n",
      "2:\tlearn: 2563.1475680\ttotal: 122ms\tremaining: 3.94s\n",
      "3:\tlearn: 2305.2087356\ttotal: 164ms\tremaining: 3.93s\n",
      "4:\tlearn: 2131.9860049\ttotal: 207ms\tremaining: 3.93s\n",
      "5:\tlearn: 2005.0964769\ttotal: 247ms\tremaining: 3.87s\n",
      "6:\tlearn: 1925.0355460\ttotal: 287ms\tremaining: 3.82s\n",
      "7:\tlearn: 1873.9038523\ttotal: 329ms\tremaining: 3.78s\n",
      "8:\tlearn: 1829.4129385\ttotal: 375ms\tremaining: 3.79s\n",
      "9:\tlearn: 1792.8997245\ttotal: 417ms\tremaining: 3.75s\n",
      "10:\tlearn: 1769.3312458\ttotal: 458ms\tremaining: 3.7s\n",
      "11:\tlearn: 1742.3644976\ttotal: 499ms\tremaining: 3.66s\n",
      "12:\tlearn: 1730.2950615\ttotal: 545ms\tremaining: 3.65s\n",
      "13:\tlearn: 1712.0681305\ttotal: 586ms\tremaining: 3.6s\n",
      "14:\tlearn: 1694.3650614\ttotal: 629ms\tremaining: 3.56s\n",
      "15:\tlearn: 1685.1581734\ttotal: 671ms\tremaining: 3.52s\n",
      "16:\tlearn: 1676.0904883\ttotal: 713ms\tremaining: 3.48s\n",
      "17:\tlearn: 1664.6805484\ttotal: 760ms\tremaining: 3.46s\n",
      "18:\tlearn: 1655.4694239\ttotal: 804ms\tremaining: 3.43s\n",
      "19:\tlearn: 1648.8189578\ttotal: 847ms\tremaining: 3.39s\n",
      "20:\tlearn: 1637.7347058\ttotal: 890ms\tremaining: 3.35s\n",
      "21:\tlearn: 1630.2215754\ttotal: 935ms\tremaining: 3.31s\n",
      "22:\tlearn: 1624.5527501\ttotal: 978ms\tremaining: 3.27s\n",
      "23:\tlearn: 1619.0597167\ttotal: 1.02s\tremaining: 3.23s\n",
      "24:\tlearn: 1614.2532584\ttotal: 1.06s\tremaining: 3.19s\n",
      "25:\tlearn: 1609.4451379\ttotal: 1.1s\tremaining: 3.14s\n",
      "26:\tlearn: 1604.2815604\ttotal: 1.15s\tremaining: 3.11s\n",
      "27:\tlearn: 1599.1889059\ttotal: 1.2s\tremaining: 3.07s\n",
      "28:\tlearn: 1592.4929380\ttotal: 1.24s\tremaining: 3.03s\n",
      "29:\tlearn: 1586.8976908\ttotal: 1.28s\tremaining: 2.98s\n",
      "30:\tlearn: 1582.4609243\ttotal: 1.32s\tremaining: 2.94s\n",
      "31:\tlearn: 1578.5742563\ttotal: 1.36s\tremaining: 2.9s\n",
      "32:\tlearn: 1573.8055014\ttotal: 1.41s\tremaining: 2.87s\n",
      "33:\tlearn: 1567.8367275\ttotal: 1.46s\tremaining: 2.84s\n",
      "34:\tlearn: 1564.0894301\ttotal: 1.5s\tremaining: 2.79s\n",
      "35:\tlearn: 1561.4841473\ttotal: 1.55s\tremaining: 2.75s\n",
      "36:\tlearn: 1558.5795100\ttotal: 1.59s\tremaining: 2.71s\n",
      "37:\tlearn: 1556.2794264\ttotal: 1.63s\tremaining: 2.66s\n",
      "38:\tlearn: 1551.7957889\ttotal: 1.67s\tremaining: 2.62s\n",
      "39:\tlearn: 1549.2595339\ttotal: 1.72s\tremaining: 2.57s\n",
      "40:\tlearn: 1546.1498336\ttotal: 1.76s\tremaining: 2.53s\n",
      "41:\tlearn: 1544.1683118\ttotal: 1.8s\tremaining: 2.48s\n",
      "42:\tlearn: 1541.3907751\ttotal: 1.84s\tremaining: 2.44s\n",
      "43:\tlearn: 1537.8384767\ttotal: 1.89s\tremaining: 2.4s\n",
      "44:\tlearn: 1534.1352328\ttotal: 1.93s\tremaining: 2.36s\n",
      "45:\tlearn: 1528.6248570\ttotal: 1.97s\tremaining: 2.31s\n",
      "46:\tlearn: 1525.4713339\ttotal: 2.01s\tremaining: 2.27s\n",
      "47:\tlearn: 1523.5915070\ttotal: 2.05s\tremaining: 2.22s\n",
      "48:\tlearn: 1520.1105502\ttotal: 2.09s\tremaining: 2.18s\n",
      "49:\tlearn: 1517.9543017\ttotal: 2.13s\tremaining: 2.13s\n",
      "50:\tlearn: 1515.6588065\ttotal: 2.18s\tremaining: 2.09s\n",
      "51:\tlearn: 1513.5769851\ttotal: 2.22s\tremaining: 2.05s\n",
      "52:\tlearn: 1510.4738113\ttotal: 2.26s\tremaining: 2.01s\n",
      "53:\tlearn: 1507.4238355\ttotal: 2.31s\tremaining: 1.97s\n",
      "54:\tlearn: 1503.6239723\ttotal: 2.35s\tremaining: 1.92s\n",
      "55:\tlearn: 1501.2258527\ttotal: 2.39s\tremaining: 1.88s\n",
      "56:\tlearn: 1498.4057612\ttotal: 2.44s\tremaining: 1.84s\n",
      "57:\tlearn: 1495.9067272\ttotal: 2.48s\tremaining: 1.8s\n",
      "58:\tlearn: 1492.9050198\ttotal: 2.54s\tremaining: 1.76s\n",
      "59:\tlearn: 1489.9182927\ttotal: 2.59s\tremaining: 1.72s\n",
      "60:\tlearn: 1487.5974028\ttotal: 2.64s\tremaining: 1.69s\n",
      "61:\tlearn: 1485.2673283\ttotal: 2.69s\tremaining: 1.65s\n",
      "62:\tlearn: 1482.6955461\ttotal: 2.74s\tremaining: 1.61s\n",
      "63:\tlearn: 1479.8519886\ttotal: 2.79s\tremaining: 1.57s\n",
      "64:\tlearn: 1478.0881626\ttotal: 2.83s\tremaining: 1.52s\n",
      "65:\tlearn: 1475.7853055\ttotal: 2.87s\tremaining: 1.48s\n",
      "66:\tlearn: 1474.0672610\ttotal: 2.92s\tremaining: 1.44s\n",
      "67:\tlearn: 1471.4589484\ttotal: 2.96s\tremaining: 1.4s\n",
      "68:\tlearn: 1469.3373754\ttotal: 3.01s\tremaining: 1.35s\n",
      "69:\tlearn: 1467.5298153\ttotal: 3.05s\tremaining: 1.31s\n",
      "70:\tlearn: 1464.7294942\ttotal: 3.1s\tremaining: 1.26s\n",
      "71:\tlearn: 1463.0163103\ttotal: 3.14s\tremaining: 1.22s\n",
      "72:\tlearn: 1461.0533948\ttotal: 3.19s\tremaining: 1.18s\n",
      "73:\tlearn: 1459.3644153\ttotal: 3.23s\tremaining: 1.14s\n",
      "74:\tlearn: 1458.2043664\ttotal: 3.27s\tremaining: 1.09s\n",
      "75:\tlearn: 1456.8963081\ttotal: 3.32s\tremaining: 1.05s\n",
      "76:\tlearn: 1455.2608686\ttotal: 3.36s\tremaining: 1s\n",
      "77:\tlearn: 1453.9998408\ttotal: 3.41s\tremaining: 961ms\n",
      "78:\tlearn: 1451.3465861\ttotal: 3.45s\tremaining: 917ms\n",
      "79:\tlearn: 1449.8910370\ttotal: 3.49s\tremaining: 873ms\n",
      "80:\tlearn: 1448.6552751\ttotal: 3.54s\tremaining: 830ms\n",
      "81:\tlearn: 1447.0200090\ttotal: 3.58s\tremaining: 786ms\n",
      "82:\tlearn: 1445.2114365\ttotal: 3.63s\tremaining: 743ms\n",
      "83:\tlearn: 1443.9151859\ttotal: 3.67s\tremaining: 699ms\n",
      "84:\tlearn: 1441.6099047\ttotal: 3.71s\tremaining: 655ms\n",
      "85:\tlearn: 1440.0240180\ttotal: 3.76s\tremaining: 612ms\n",
      "86:\tlearn: 1437.8297212\ttotal: 3.81s\tremaining: 569ms\n",
      "87:\tlearn: 1436.3542635\ttotal: 3.85s\tremaining: 525ms\n",
      "88:\tlearn: 1435.1188673\ttotal: 3.9s\tremaining: 482ms\n",
      "89:\tlearn: 1433.3428569\ttotal: 3.94s\tremaining: 438ms\n",
      "90:\tlearn: 1432.1184061\ttotal: 3.99s\tremaining: 395ms\n",
      "91:\tlearn: 1430.1842346\ttotal: 4.03s\tremaining: 351ms\n",
      "92:\tlearn: 1428.0670575\ttotal: 4.08s\tremaining: 307ms\n",
      "93:\tlearn: 1426.4244847\ttotal: 4.12s\tremaining: 263ms\n",
      "94:\tlearn: 1424.7680682\ttotal: 4.16s\tremaining: 219ms\n",
      "95:\tlearn: 1423.5874296\ttotal: 4.21s\tremaining: 175ms\n",
      "96:\tlearn: 1421.7922267\ttotal: 4.25s\tremaining: 131ms\n",
      "97:\tlearn: 1420.5837074\ttotal: 4.3s\tremaining: 87.7ms\n",
      "98:\tlearn: 1418.7916739\ttotal: 4.34s\tremaining: 43.8ms\n",
      "99:\tlearn: 1417.9086053\ttotal: 4.38s\tremaining: 0us\n",
      "0:\tlearn: 3612.1098991\ttotal: 45.1ms\tremaining: 4.46s\n",
      "1:\tlearn: 2968.2999081\ttotal: 87.9ms\tremaining: 4.31s\n",
      "2:\tlearn: 2539.8503631\ttotal: 130ms\tremaining: 4.19s\n",
      "3:\tlearn: 2275.4967264\ttotal: 172ms\tremaining: 4.12s\n",
      "4:\tlearn: 2097.4663728\ttotal: 214ms\tremaining: 4.06s\n",
      "5:\tlearn: 1987.6917543\ttotal: 258ms\tremaining: 4.04s\n",
      "6:\tlearn: 1899.1531818\ttotal: 301ms\tremaining: 4s\n",
      "7:\tlearn: 1845.1537678\ttotal: 349ms\tremaining: 4.02s\n",
      "8:\tlearn: 1802.7879953\ttotal: 393ms\tremaining: 3.97s\n",
      "9:\tlearn: 1775.3099410\ttotal: 435ms\tremaining: 3.92s\n",
      "10:\tlearn: 1751.5966084\ttotal: 479ms\tremaining: 3.87s\n",
      "11:\tlearn: 1733.5880396\ttotal: 525ms\tremaining: 3.85s\n",
      "12:\tlearn: 1720.3881904\ttotal: 568ms\tremaining: 3.8s\n",
      "13:\tlearn: 1704.9470931\ttotal: 611ms\tremaining: 3.75s\n",
      "14:\tlearn: 1689.6069783\ttotal: 654ms\tremaining: 3.71s\n",
      "15:\tlearn: 1677.1499717\ttotal: 696ms\tremaining: 3.65s\n",
      "16:\tlearn: 1667.0242014\ttotal: 745ms\tremaining: 3.64s\n",
      "17:\tlearn: 1659.2221907\ttotal: 800ms\tremaining: 3.64s\n",
      "18:\tlearn: 1650.3854969\ttotal: 845ms\tremaining: 3.6s\n",
      "19:\tlearn: 1641.0935024\ttotal: 890ms\tremaining: 3.56s\n",
      "20:\tlearn: 1638.1602120\ttotal: 939ms\tremaining: 3.53s\n",
      "21:\tlearn: 1628.1529446\ttotal: 988ms\tremaining: 3.5s\n",
      "22:\tlearn: 1623.0978474\ttotal: 1.03s\tremaining: 3.46s\n",
      "23:\tlearn: 1616.5572937\ttotal: 1.07s\tremaining: 3.4s\n",
      "24:\tlearn: 1610.2348020\ttotal: 1.12s\tremaining: 3.35s\n",
      "25:\tlearn: 1604.5580806\ttotal: 1.16s\tremaining: 3.3s\n",
      "26:\tlearn: 1597.7295862\ttotal: 1.2s\tremaining: 3.26s\n",
      "27:\tlearn: 1594.4967828\ttotal: 1.25s\tremaining: 3.21s\n",
      "28:\tlearn: 1589.7960600\ttotal: 1.29s\tremaining: 3.16s\n",
      "29:\tlearn: 1582.8867894\ttotal: 1.34s\tremaining: 3.12s\n",
      "30:\tlearn: 1577.0360656\ttotal: 1.39s\tremaining: 3.08s\n",
      "31:\tlearn: 1572.8857143\ttotal: 1.43s\tremaining: 3.04s\n",
      "32:\tlearn: 1569.0284905\ttotal: 1.47s\tremaining: 2.99s\n",
      "33:\tlearn: 1563.2228307\ttotal: 1.51s\tremaining: 2.94s\n",
      "34:\tlearn: 1558.2589817\ttotal: 1.55s\tremaining: 2.89s\n",
      "35:\tlearn: 1554.6575924\ttotal: 1.6s\tremaining: 2.85s\n",
      "36:\tlearn: 1552.2152631\ttotal: 1.64s\tremaining: 2.8s\n",
      "37:\tlearn: 1549.5143314\ttotal: 1.69s\tremaining: 2.75s\n",
      "38:\tlearn: 1546.1340515\ttotal: 1.73s\tremaining: 2.71s\n",
      "39:\tlearn: 1543.4350866\ttotal: 1.77s\tremaining: 2.66s\n",
      "40:\tlearn: 1541.0465346\ttotal: 1.82s\tremaining: 2.62s\n",
      "41:\tlearn: 1537.0793979\ttotal: 1.86s\tremaining: 2.57s\n",
      "42:\tlearn: 1532.9573261\ttotal: 1.9s\tremaining: 2.52s\n",
      "43:\tlearn: 1530.3414917\ttotal: 1.95s\tremaining: 2.48s\n",
      "44:\tlearn: 1526.4326120\ttotal: 2s\tremaining: 2.44s\n",
      "45:\tlearn: 1523.7185853\ttotal: 2.04s\tremaining: 2.39s\n",
      "46:\tlearn: 1520.3706763\ttotal: 2.08s\tremaining: 2.35s\n",
      "47:\tlearn: 1517.0672229\ttotal: 2.13s\tremaining: 2.31s\n",
      "48:\tlearn: 1515.0582672\ttotal: 2.18s\tremaining: 2.26s\n",
      "49:\tlearn: 1512.0788859\ttotal: 2.22s\tremaining: 2.22s\n",
      "50:\tlearn: 1510.1505137\ttotal: 2.26s\tremaining: 2.18s\n",
      "51:\tlearn: 1508.0159601\ttotal: 2.31s\tremaining: 2.13s\n",
      "52:\tlearn: 1504.3341337\ttotal: 2.35s\tremaining: 2.09s\n",
      "53:\tlearn: 1502.1962833\ttotal: 2.4s\tremaining: 2.04s\n",
      "54:\tlearn: 1498.6398052\ttotal: 2.44s\tremaining: 2s\n",
      "55:\tlearn: 1496.5127755\ttotal: 2.49s\tremaining: 1.95s\n",
      "56:\tlearn: 1493.8670051\ttotal: 2.53s\tremaining: 1.91s\n",
      "57:\tlearn: 1490.7881737\ttotal: 2.57s\tremaining: 1.86s\n",
      "58:\tlearn: 1489.2335277\ttotal: 2.62s\tremaining: 1.82s\n",
      "59:\tlearn: 1487.3850211\ttotal: 2.66s\tremaining: 1.77s\n",
      "60:\tlearn: 1485.8728631\ttotal: 2.7s\tremaining: 1.73s\n",
      "61:\tlearn: 1483.6070718\ttotal: 2.74s\tremaining: 1.68s\n",
      "62:\tlearn: 1481.5612317\ttotal: 2.79s\tremaining: 1.64s\n",
      "63:\tlearn: 1479.6758092\ttotal: 2.83s\tremaining: 1.59s\n",
      "64:\tlearn: 1478.1888982\ttotal: 2.87s\tremaining: 1.55s\n",
      "65:\tlearn: 1475.5669600\ttotal: 2.91s\tremaining: 1.5s\n",
      "66:\tlearn: 1473.7332641\ttotal: 2.96s\tremaining: 1.46s\n",
      "67:\tlearn: 1472.1941895\ttotal: 3.01s\tremaining: 1.41s\n",
      "68:\tlearn: 1469.9919546\ttotal: 3.05s\tremaining: 1.37s\n",
      "69:\tlearn: 1467.7028353\ttotal: 3.09s\tremaining: 1.32s\n",
      "70:\tlearn: 1465.8252279\ttotal: 3.13s\tremaining: 1.28s\n",
      "71:\tlearn: 1463.8384774\ttotal: 3.18s\tremaining: 1.24s\n",
      "72:\tlearn: 1461.1160329\ttotal: 3.22s\tremaining: 1.19s\n",
      "73:\tlearn: 1459.4618681\ttotal: 3.26s\tremaining: 1.15s\n",
      "74:\tlearn: 1458.2259657\ttotal: 3.3s\tremaining: 1.1s\n",
      "75:\tlearn: 1457.0290813\ttotal: 3.35s\tremaining: 1.06s\n",
      "76:\tlearn: 1454.9666852\ttotal: 3.39s\tremaining: 1.01s\n",
      "77:\tlearn: 1453.6220683\ttotal: 3.43s\tremaining: 968ms\n",
      "78:\tlearn: 1452.0390534\ttotal: 3.47s\tremaining: 923ms\n",
      "79:\tlearn: 1450.2652306\ttotal: 3.52s\tremaining: 879ms\n",
      "80:\tlearn: 1447.4173554\ttotal: 3.56s\tremaining: 836ms\n",
      "81:\tlearn: 1445.5967756\ttotal: 3.61s\tremaining: 792ms\n",
      "82:\tlearn: 1443.7567711\ttotal: 3.65s\tremaining: 748ms\n",
      "83:\tlearn: 1442.5045785\ttotal: 3.7s\tremaining: 704ms\n",
      "84:\tlearn: 1441.3317064\ttotal: 3.74s\tremaining: 661ms\n",
      "85:\tlearn: 1440.3445130\ttotal: 3.79s\tremaining: 617ms\n",
      "86:\tlearn: 1438.8150894\ttotal: 3.83s\tremaining: 573ms\n",
      "87:\tlearn: 1437.7868443\ttotal: 3.88s\tremaining: 529ms\n",
      "88:\tlearn: 1435.5536979\ttotal: 3.92s\tremaining: 485ms\n",
      "89:\tlearn: 1434.2069981\ttotal: 3.97s\tremaining: 441ms\n",
      "90:\tlearn: 1433.3884680\ttotal: 4.01s\tremaining: 397ms\n",
      "91:\tlearn: 1431.8373617\ttotal: 4.06s\tremaining: 353ms\n",
      "92:\tlearn: 1429.9086774\ttotal: 4.11s\tremaining: 310ms\n",
      "93:\tlearn: 1428.7068915\ttotal: 4.16s\tremaining: 265ms\n",
      "94:\tlearn: 1427.5154000\ttotal: 4.2s\tremaining: 221ms\n",
      "95:\tlearn: 1425.8441749\ttotal: 4.25s\tremaining: 177ms\n",
      "96:\tlearn: 1424.6448538\ttotal: 4.3s\tremaining: 133ms\n",
      "97:\tlearn: 1423.7472504\ttotal: 4.34s\tremaining: 88.6ms\n",
      "98:\tlearn: 1421.6079978\ttotal: 4.39s\tremaining: 44.3ms\n",
      "99:\tlearn: 1420.6963178\ttotal: 4.43s\tremaining: 0us\n",
      "0:\tlearn: 3604.5410318\ttotal: 41.7ms\tremaining: 4.13s\n",
      "1:\tlearn: 2966.4513658\ttotal: 83.7ms\tremaining: 4.1s\n",
      "2:\tlearn: 2564.5471737\ttotal: 129ms\tremaining: 4.18s\n",
      "3:\tlearn: 2303.6797104\ttotal: 173ms\tremaining: 4.16s\n",
      "4:\tlearn: 2127.6242264\ttotal: 217ms\tremaining: 4.13s\n",
      "5:\tlearn: 2017.4916222\ttotal: 259ms\tremaining: 4.05s\n",
      "6:\tlearn: 1936.3945746\ttotal: 300ms\tremaining: 3.99s\n",
      "7:\tlearn: 1864.5758392\ttotal: 343ms\tremaining: 3.95s\n",
      "8:\tlearn: 1820.0756162\ttotal: 387ms\tremaining: 3.91s\n",
      "9:\tlearn: 1787.0074162\ttotal: 431ms\tremaining: 3.88s\n",
      "10:\tlearn: 1763.9652225\ttotal: 475ms\tremaining: 3.84s\n",
      "11:\tlearn: 1746.4248521\ttotal: 518ms\tremaining: 3.8s\n",
      "12:\tlearn: 1729.2640529\ttotal: 562ms\tremaining: 3.76s\n",
      "13:\tlearn: 1709.8792981\ttotal: 606ms\tremaining: 3.72s\n",
      "14:\tlearn: 1696.6722798\ttotal: 650ms\tremaining: 3.68s\n",
      "15:\tlearn: 1680.3618549\ttotal: 695ms\tremaining: 3.65s\n",
      "16:\tlearn: 1667.5562427\ttotal: 738ms\tremaining: 3.6s\n",
      "17:\tlearn: 1658.2193165\ttotal: 780ms\tremaining: 3.55s\n",
      "18:\tlearn: 1649.8669932\ttotal: 822ms\tremaining: 3.5s\n",
      "19:\tlearn: 1641.4210784\ttotal: 866ms\tremaining: 3.46s\n",
      "20:\tlearn: 1632.3222053\ttotal: 907ms\tremaining: 3.41s\n",
      "21:\tlearn: 1627.3627303\ttotal: 949ms\tremaining: 3.36s\n",
      "22:\tlearn: 1621.2074945\ttotal: 989ms\tremaining: 3.31s\n",
      "23:\tlearn: 1614.4225172\ttotal: 1.03s\tremaining: 3.26s\n",
      "24:\tlearn: 1607.9756735\ttotal: 1.07s\tremaining: 3.21s\n",
      "25:\tlearn: 1603.5486013\ttotal: 1.11s\tremaining: 3.17s\n",
      "26:\tlearn: 1596.4723480\ttotal: 1.16s\tremaining: 3.13s\n",
      "27:\tlearn: 1591.2647537\ttotal: 1.2s\tremaining: 3.09s\n",
      "28:\tlearn: 1585.7398076\ttotal: 1.24s\tremaining: 3.04s\n",
      "29:\tlearn: 1579.5931344\ttotal: 1.28s\tremaining: 3s\n",
      "30:\tlearn: 1576.4310736\ttotal: 1.33s\tremaining: 2.95s\n",
      "31:\tlearn: 1570.2822527\ttotal: 1.37s\tremaining: 2.91s\n",
      "32:\tlearn: 1564.4209996\ttotal: 1.41s\tremaining: 2.87s\n",
      "33:\tlearn: 1559.4248283\ttotal: 1.46s\tremaining: 2.83s\n",
      "34:\tlearn: 1555.0972073\ttotal: 1.5s\tremaining: 2.79s\n",
      "35:\tlearn: 1553.2889129\ttotal: 1.55s\tremaining: 2.76s\n",
      "36:\tlearn: 1551.4594356\ttotal: 1.6s\tremaining: 2.72s\n",
      "37:\tlearn: 1548.0475056\ttotal: 1.64s\tremaining: 2.68s\n",
      "38:\tlearn: 1544.4518156\ttotal: 1.68s\tremaining: 2.63s\n",
      "39:\tlearn: 1540.6850614\ttotal: 1.73s\tremaining: 2.59s\n",
      "40:\tlearn: 1534.7204522\ttotal: 1.77s\tremaining: 2.55s\n",
      "41:\tlearn: 1530.9557596\ttotal: 1.82s\tremaining: 2.51s\n",
      "42:\tlearn: 1528.1947335\ttotal: 1.86s\tremaining: 2.47s\n",
      "43:\tlearn: 1525.9555042\ttotal: 1.91s\tremaining: 2.44s\n",
      "44:\tlearn: 1523.0480000\ttotal: 1.96s\tremaining: 2.4s\n",
      "45:\tlearn: 1520.8523239\ttotal: 2.01s\tremaining: 2.36s\n",
      "46:\tlearn: 1517.7934172\ttotal: 2.06s\tremaining: 2.32s\n",
      "47:\tlearn: 1514.5712564\ttotal: 2.1s\tremaining: 2.28s\n",
      "48:\tlearn: 1510.6906152\ttotal: 2.15s\tremaining: 2.24s\n",
      "49:\tlearn: 1508.4829460\ttotal: 2.2s\tremaining: 2.2s\n",
      "50:\tlearn: 1505.7653334\ttotal: 2.24s\tremaining: 2.15s\n",
      "51:\tlearn: 1501.6296427\ttotal: 2.29s\tremaining: 2.11s\n",
      "52:\tlearn: 1499.3670082\ttotal: 2.33s\tremaining: 2.07s\n",
      "53:\tlearn: 1497.1379537\ttotal: 2.38s\tremaining: 2.02s\n",
      "54:\tlearn: 1493.6864820\ttotal: 2.42s\tremaining: 1.98s\n",
      "55:\tlearn: 1492.2153017\ttotal: 2.47s\tremaining: 1.94s\n",
      "56:\tlearn: 1489.8417124\ttotal: 2.51s\tremaining: 1.9s\n",
      "57:\tlearn: 1486.8417778\ttotal: 2.56s\tremaining: 1.86s\n",
      "58:\tlearn: 1484.0784811\ttotal: 2.62s\tremaining: 1.82s\n",
      "59:\tlearn: 1482.3991697\ttotal: 2.68s\tremaining: 1.79s\n",
      "60:\tlearn: 1479.8740574\ttotal: 2.75s\tremaining: 1.76s\n",
      "61:\tlearn: 1478.6982982\ttotal: 2.84s\tremaining: 1.74s\n",
      "62:\tlearn: 1476.4282581\ttotal: 2.89s\tremaining: 1.7s\n",
      "63:\tlearn: 1474.8172300\ttotal: 2.93s\tremaining: 1.65s\n",
      "64:\tlearn: 1472.8978133\ttotal: 2.98s\tremaining: 1.6s\n",
      "65:\tlearn: 1469.6218787\ttotal: 3.02s\tremaining: 1.56s\n",
      "66:\tlearn: 1468.2003411\ttotal: 3.06s\tremaining: 1.51s\n",
      "67:\tlearn: 1466.7331113\ttotal: 3.11s\tremaining: 1.46s\n",
      "68:\tlearn: 1464.5271219\ttotal: 3.15s\tremaining: 1.42s\n",
      "69:\tlearn: 1462.2011496\ttotal: 3.19s\tremaining: 1.37s\n",
      "70:\tlearn: 1460.5020976\ttotal: 3.24s\tremaining: 1.32s\n",
      "71:\tlearn: 1457.5431723\ttotal: 3.28s\tremaining: 1.28s\n",
      "72:\tlearn: 1455.8844237\ttotal: 3.32s\tremaining: 1.23s\n",
      "73:\tlearn: 1454.2346311\ttotal: 3.37s\tremaining: 1.18s\n",
      "74:\tlearn: 1452.4709833\ttotal: 3.41s\tremaining: 1.14s\n",
      "75:\tlearn: 1450.8932959\ttotal: 3.46s\tremaining: 1.09s\n",
      "76:\tlearn: 1449.2173879\ttotal: 3.5s\tremaining: 1.04s\n",
      "77:\tlearn: 1446.9581484\ttotal: 3.54s\tremaining: 998ms\n",
      "78:\tlearn: 1445.2256769\ttotal: 3.58s\tremaining: 952ms\n",
      "79:\tlearn: 1443.2490121\ttotal: 3.63s\tremaining: 906ms\n",
      "80:\tlearn: 1441.4408816\ttotal: 3.67s\tremaining: 862ms\n",
      "81:\tlearn: 1438.6146626\ttotal: 3.72s\tremaining: 817ms\n",
      "82:\tlearn: 1437.2096777\ttotal: 3.76s\tremaining: 771ms\n",
      "83:\tlearn: 1435.4494456\ttotal: 3.81s\tremaining: 726ms\n",
      "84:\tlearn: 1433.9697668\ttotal: 3.86s\tremaining: 681ms\n",
      "85:\tlearn: 1432.5410190\ttotal: 3.9s\tremaining: 635ms\n",
      "86:\tlearn: 1430.9407032\ttotal: 3.94s\tremaining: 590ms\n",
      "87:\tlearn: 1428.9588948\ttotal: 3.99s\tremaining: 544ms\n",
      "88:\tlearn: 1426.7089908\ttotal: 4.03s\tremaining: 499ms\n",
      "89:\tlearn: 1425.1694621\ttotal: 4.08s\tremaining: 453ms\n",
      "90:\tlearn: 1424.0645900\ttotal: 4.13s\tremaining: 408ms\n",
      "91:\tlearn: 1422.2513910\ttotal: 4.17s\tremaining: 363ms\n",
      "92:\tlearn: 1420.6683927\ttotal: 4.21s\tremaining: 317ms\n",
      "93:\tlearn: 1419.3202375\ttotal: 4.26s\tremaining: 272ms\n",
      "94:\tlearn: 1417.5819788\ttotal: 4.3s\tremaining: 226ms\n",
      "95:\tlearn: 1415.4585250\ttotal: 4.35s\tremaining: 181ms\n",
      "96:\tlearn: 1414.5858284\ttotal: 4.39s\tremaining: 136ms\n",
      "97:\tlearn: 1412.8225708\ttotal: 4.43s\tremaining: 90.5ms\n",
      "98:\tlearn: 1411.7830560\ttotal: 4.48s\tremaining: 45.2ms\n",
      "99:\tlearn: 1410.5980011\ttotal: 4.52s\tremaining: 0us\n",
      "0:\tlearn: 3601.4241409\ttotal: 43.6ms\tremaining: 4.31s\n",
      "1:\tlearn: 2965.8367282\ttotal: 86.2ms\tremaining: 4.22s\n",
      "2:\tlearn: 2556.4457958\ttotal: 128ms\tremaining: 4.12s\n",
      "3:\tlearn: 2277.2669113\ttotal: 169ms\tremaining: 4.07s\n",
      "4:\tlearn: 2104.0428090\ttotal: 211ms\tremaining: 4.01s\n",
      "5:\tlearn: 1994.2425136\ttotal: 253ms\tremaining: 3.96s\n",
      "6:\tlearn: 1911.3398637\ttotal: 294ms\tremaining: 3.9s\n",
      "7:\tlearn: 1864.8180583\ttotal: 338ms\tremaining: 3.89s\n",
      "8:\tlearn: 1816.5306869\ttotal: 380ms\tremaining: 3.85s\n",
      "9:\tlearn: 1784.4103733\ttotal: 424ms\tremaining: 3.82s\n",
      "10:\tlearn: 1750.1405621\ttotal: 467ms\tremaining: 3.78s\n",
      "11:\tlearn: 1730.9432233\ttotal: 510ms\tremaining: 3.74s\n",
      "12:\tlearn: 1716.9415653\ttotal: 554ms\tremaining: 3.71s\n",
      "13:\tlearn: 1699.7060367\ttotal: 602ms\tremaining: 3.69s\n",
      "14:\tlearn: 1687.8671543\ttotal: 657ms\tremaining: 3.72s\n",
      "15:\tlearn: 1677.6337601\ttotal: 704ms\tremaining: 3.69s\n",
      "16:\tlearn: 1671.3632890\ttotal: 754ms\tremaining: 3.68s\n",
      "17:\tlearn: 1658.5390220\ttotal: 798ms\tremaining: 3.63s\n",
      "18:\tlearn: 1645.8734115\ttotal: 842ms\tremaining: 3.59s\n",
      "19:\tlearn: 1639.3550089\ttotal: 887ms\tremaining: 3.55s\n",
      "20:\tlearn: 1633.2878821\ttotal: 929ms\tremaining: 3.5s\n",
      "21:\tlearn: 1627.0425019\ttotal: 972ms\tremaining: 3.45s\n",
      "22:\tlearn: 1621.3135791\ttotal: 1.01s\tremaining: 3.39s\n",
      "23:\tlearn: 1616.0278292\ttotal: 1.05s\tremaining: 3.34s\n",
      "24:\tlearn: 1611.9619771\ttotal: 1.09s\tremaining: 3.29s\n",
      "25:\tlearn: 1608.4777492\ttotal: 1.14s\tremaining: 3.24s\n",
      "26:\tlearn: 1602.0055117\ttotal: 1.18s\tremaining: 3.19s\n",
      "27:\tlearn: 1595.6856732\ttotal: 1.23s\tremaining: 3.16s\n",
      "28:\tlearn: 1591.4123199\ttotal: 1.27s\tremaining: 3.11s\n",
      "29:\tlearn: 1585.6809454\ttotal: 1.31s\tremaining: 3.06s\n",
      "30:\tlearn: 1582.1767745\ttotal: 1.35s\tremaining: 3.02s\n",
      "31:\tlearn: 1577.0114037\ttotal: 1.4s\tremaining: 2.97s\n",
      "32:\tlearn: 1571.5033142\ttotal: 1.44s\tremaining: 2.93s\n",
      "33:\tlearn: 1566.0244731\ttotal: 1.49s\tremaining: 2.88s\n",
      "34:\tlearn: 1560.9478868\ttotal: 1.53s\tremaining: 2.83s\n",
      "35:\tlearn: 1557.1275486\ttotal: 1.57s\tremaining: 2.79s\n",
      "36:\tlearn: 1553.9641091\ttotal: 1.61s\tremaining: 2.74s\n",
      "37:\tlearn: 1550.4160993\ttotal: 1.65s\tremaining: 2.7s\n",
      "38:\tlearn: 1546.0267114\ttotal: 1.7s\tremaining: 2.65s\n",
      "39:\tlearn: 1542.6337296\ttotal: 1.74s\tremaining: 2.61s\n",
      "40:\tlearn: 1538.6267036\ttotal: 1.78s\tremaining: 2.56s\n",
      "41:\tlearn: 1535.9044220\ttotal: 1.82s\tremaining: 2.52s\n",
      "42:\tlearn: 1533.3467563\ttotal: 1.87s\tremaining: 2.47s\n",
      "43:\tlearn: 1529.2858767\ttotal: 1.91s\tremaining: 2.43s\n",
      "44:\tlearn: 1525.5642912\ttotal: 1.95s\tremaining: 2.38s\n",
      "45:\tlearn: 1523.6036864\ttotal: 1.99s\tremaining: 2.34s\n",
      "46:\tlearn: 1520.1806793\ttotal: 2.03s\tremaining: 2.29s\n",
      "47:\tlearn: 1517.6287494\ttotal: 2.08s\tremaining: 2.25s\n",
      "48:\tlearn: 1515.2957491\ttotal: 2.12s\tremaining: 2.2s\n",
      "49:\tlearn: 1511.9668932\ttotal: 2.16s\tremaining: 2.16s\n",
      "50:\tlearn: 1508.7858260\ttotal: 2.2s\tremaining: 2.11s\n",
      "51:\tlearn: 1504.5860568\ttotal: 2.24s\tremaining: 2.07s\n",
      "52:\tlearn: 1501.6421769\ttotal: 2.29s\tremaining: 2.03s\n",
      "53:\tlearn: 1499.4150477\ttotal: 2.33s\tremaining: 1.99s\n",
      "54:\tlearn: 1495.9171001\ttotal: 2.38s\tremaining: 1.94s\n",
      "55:\tlearn: 1493.4270638\ttotal: 2.42s\tremaining: 1.9s\n",
      "56:\tlearn: 1490.8899361\ttotal: 2.46s\tremaining: 1.86s\n",
      "57:\tlearn: 1488.4995080\ttotal: 2.5s\tremaining: 1.81s\n",
      "58:\tlearn: 1486.7856295\ttotal: 2.55s\tremaining: 1.77s\n",
      "59:\tlearn: 1484.4672581\ttotal: 2.59s\tremaining: 1.73s\n",
      "60:\tlearn: 1481.5043967\ttotal: 2.63s\tremaining: 1.68s\n",
      "61:\tlearn: 1479.4379897\ttotal: 2.67s\tremaining: 1.64s\n",
      "62:\tlearn: 1476.5479031\ttotal: 2.72s\tremaining: 1.59s\n",
      "63:\tlearn: 1474.1849740\ttotal: 2.76s\tremaining: 1.55s\n",
      "64:\tlearn: 1472.1515631\ttotal: 2.8s\tremaining: 1.51s\n",
      "65:\tlearn: 1470.4025813\ttotal: 2.84s\tremaining: 1.46s\n",
      "66:\tlearn: 1467.7214761\ttotal: 2.89s\tremaining: 1.42s\n",
      "67:\tlearn: 1465.3601920\ttotal: 2.93s\tremaining: 1.38s\n",
      "68:\tlearn: 1463.1939002\ttotal: 2.97s\tremaining: 1.34s\n",
      "69:\tlearn: 1461.0633752\ttotal: 3.01s\tremaining: 1.29s\n",
      "70:\tlearn: 1458.6334619\ttotal: 3.06s\tremaining: 1.25s\n",
      "71:\tlearn: 1457.2102723\ttotal: 3.1s\tremaining: 1.21s\n",
      "72:\tlearn: 1455.3218529\ttotal: 3.15s\tremaining: 1.16s\n",
      "73:\tlearn: 1452.8508399\ttotal: 3.19s\tremaining: 1.12s\n",
      "74:\tlearn: 1450.9017213\ttotal: 3.24s\tremaining: 1.08s\n",
      "75:\tlearn: 1448.6447288\ttotal: 3.28s\tremaining: 1.03s\n",
      "76:\tlearn: 1446.8542631\ttotal: 3.32s\tremaining: 993ms\n",
      "77:\tlearn: 1445.6534707\ttotal: 3.37s\tremaining: 949ms\n",
      "78:\tlearn: 1444.3039842\ttotal: 3.41s\tremaining: 907ms\n",
      "79:\tlearn: 1443.0697058\ttotal: 3.45s\tremaining: 864ms\n",
      "80:\tlearn: 1441.2961670\ttotal: 3.5s\tremaining: 820ms\n",
      "81:\tlearn: 1439.9439467\ttotal: 3.54s\tremaining: 776ms\n",
      "82:\tlearn: 1437.7121901\ttotal: 3.58s\tremaining: 733ms\n",
      "83:\tlearn: 1436.5685101\ttotal: 3.63s\tremaining: 691ms\n",
      "84:\tlearn: 1435.2243162\ttotal: 3.67s\tremaining: 647ms\n",
      "85:\tlearn: 1433.4062748\ttotal: 3.71s\tremaining: 604ms\n",
      "86:\tlearn: 1431.4303756\ttotal: 3.75s\tremaining: 561ms\n",
      "87:\tlearn: 1429.8929305\ttotal: 3.79s\tremaining: 518ms\n",
      "88:\tlearn: 1428.6793358\ttotal: 3.84s\tremaining: 474ms\n",
      "89:\tlearn: 1427.1734877\ttotal: 3.88s\tremaining: 431ms\n",
      "90:\tlearn: 1426.0520761\ttotal: 3.93s\tremaining: 389ms\n",
      "91:\tlearn: 1424.7259620\ttotal: 3.97s\tremaining: 345ms\n",
      "92:\tlearn: 1423.7335499\ttotal: 4.01s\tremaining: 302ms\n",
      "93:\tlearn: 1422.7445932\ttotal: 4.06s\tremaining: 259ms\n",
      "94:\tlearn: 1420.9359555\ttotal: 4.1s\tremaining: 216ms\n",
      "95:\tlearn: 1419.6299306\ttotal: 4.14s\tremaining: 172ms\n",
      "96:\tlearn: 1418.1162203\ttotal: 4.19s\tremaining: 129ms\n",
      "97:\tlearn: 1416.8033474\ttotal: 4.23s\tremaining: 86.4ms\n",
      "98:\tlearn: 1415.9847586\ttotal: 4.28s\tremaining: 43.2ms\n",
      "99:\tlearn: 1414.3188531\ttotal: 4.32s\tremaining: 0us\n",
      "0:\tlearn: 3605.3777948\ttotal: 42.1ms\tremaining: 4.17s\n",
      "1:\tlearn: 2967.4746158\ttotal: 84.4ms\tremaining: 4.13s\n",
      "2:\tlearn: 2557.6489213\ttotal: 129ms\tremaining: 4.18s\n",
      "3:\tlearn: 2290.6899109\ttotal: 172ms\tremaining: 4.13s\n",
      "4:\tlearn: 2110.6940215\ttotal: 215ms\tremaining: 4.09s\n",
      "5:\tlearn: 1996.8771368\ttotal: 259ms\tremaining: 4.05s\n",
      "6:\tlearn: 1922.9072983\ttotal: 302ms\tremaining: 4.01s\n",
      "7:\tlearn: 1859.8945231\ttotal: 348ms\tremaining: 4s\n",
      "8:\tlearn: 1822.1482276\ttotal: 390ms\tremaining: 3.94s\n",
      "9:\tlearn: 1795.6232145\ttotal: 438ms\tremaining: 3.94s\n",
      "10:\tlearn: 1770.4147070\ttotal: 481ms\tremaining: 3.89s\n",
      "11:\tlearn: 1749.9945301\ttotal: 524ms\tremaining: 3.84s\n",
      "12:\tlearn: 1722.2646310\ttotal: 567ms\tremaining: 3.79s\n",
      "13:\tlearn: 1706.7708934\ttotal: 609ms\tremaining: 3.74s\n",
      "14:\tlearn: 1695.7250032\ttotal: 652ms\tremaining: 3.69s\n",
      "15:\tlearn: 1685.7705448\ttotal: 693ms\tremaining: 3.64s\n",
      "16:\tlearn: 1673.5000689\ttotal: 738ms\tremaining: 3.6s\n",
      "17:\tlearn: 1665.5072245\ttotal: 780ms\tremaining: 3.55s\n",
      "18:\tlearn: 1656.0515111\ttotal: 822ms\tremaining: 3.5s\n",
      "19:\tlearn: 1650.7985393\ttotal: 863ms\tremaining: 3.45s\n",
      "20:\tlearn: 1645.8138000\ttotal: 906ms\tremaining: 3.41s\n",
      "21:\tlearn: 1636.9865135\ttotal: 947ms\tremaining: 3.36s\n",
      "22:\tlearn: 1629.4240249\ttotal: 987ms\tremaining: 3.3s\n",
      "23:\tlearn: 1620.5657618\ttotal: 1.03s\tremaining: 3.26s\n",
      "24:\tlearn: 1613.9716630\ttotal: 1.07s\tremaining: 3.21s\n",
      "25:\tlearn: 1609.1748828\ttotal: 1.11s\tremaining: 3.16s\n",
      "26:\tlearn: 1601.7279796\ttotal: 1.16s\tremaining: 3.12s\n",
      "27:\tlearn: 1598.1738303\ttotal: 1.2s\tremaining: 3.08s\n",
      "28:\tlearn: 1591.5060218\ttotal: 1.24s\tremaining: 3.03s\n",
      "29:\tlearn: 1586.0636514\ttotal: 1.28s\tremaining: 2.98s\n",
      "30:\tlearn: 1582.2076184\ttotal: 1.32s\tremaining: 2.94s\n",
      "31:\tlearn: 1575.2456025\ttotal: 1.36s\tremaining: 2.89s\n",
      "32:\tlearn: 1571.2923366\ttotal: 1.4s\tremaining: 2.85s\n",
      "33:\tlearn: 1566.9135278\ttotal: 1.45s\tremaining: 2.81s\n",
      "34:\tlearn: 1559.7720385\ttotal: 1.49s\tremaining: 2.77s\n",
      "35:\tlearn: 1556.7881329\ttotal: 1.55s\tremaining: 2.76s\n",
      "36:\tlearn: 1552.6704088\ttotal: 1.6s\tremaining: 2.72s\n",
      "37:\tlearn: 1549.0758393\ttotal: 1.65s\tremaining: 2.69s\n",
      "38:\tlearn: 1545.9461752\ttotal: 1.69s\tremaining: 2.64s\n",
      "39:\tlearn: 1541.8405340\ttotal: 1.73s\tremaining: 2.6s\n",
      "40:\tlearn: 1538.3325265\ttotal: 1.78s\tremaining: 2.56s\n",
      "41:\tlearn: 1534.3732555\ttotal: 1.82s\tremaining: 2.52s\n",
      "42:\tlearn: 1531.2852864\ttotal: 1.87s\tremaining: 2.48s\n",
      "43:\tlearn: 1528.2113500\ttotal: 1.91s\tremaining: 2.43s\n",
      "44:\tlearn: 1524.9301025\ttotal: 1.95s\tremaining: 2.39s\n",
      "45:\tlearn: 1520.3033681\ttotal: 2s\tremaining: 2.35s\n",
      "46:\tlearn: 1516.8061317\ttotal: 2.04s\tremaining: 2.3s\n",
      "47:\tlearn: 1514.4899800\ttotal: 2.09s\tremaining: 2.26s\n",
      "48:\tlearn: 1511.9038245\ttotal: 2.13s\tremaining: 2.22s\n",
      "49:\tlearn: 1508.7076736\ttotal: 2.17s\tremaining: 2.17s\n",
      "50:\tlearn: 1505.6636874\ttotal: 2.22s\tremaining: 2.13s\n",
      "51:\tlearn: 1503.0277871\ttotal: 2.26s\tremaining: 2.09s\n",
      "52:\tlearn: 1501.3025178\ttotal: 2.31s\tremaining: 2.05s\n",
      "53:\tlearn: 1498.5129296\ttotal: 2.36s\tremaining: 2.01s\n",
      "54:\tlearn: 1496.8123482\ttotal: 2.41s\tremaining: 1.97s\n",
      "55:\tlearn: 1493.9011975\ttotal: 2.46s\tremaining: 1.93s\n",
      "56:\tlearn: 1491.7115651\ttotal: 2.5s\tremaining: 1.89s\n",
      "57:\tlearn: 1490.1231451\ttotal: 2.55s\tremaining: 1.85s\n",
      "58:\tlearn: 1486.8437744\ttotal: 2.61s\tremaining: 1.81s\n",
      "59:\tlearn: 1485.3765079\ttotal: 2.67s\tremaining: 1.78s\n",
      "60:\tlearn: 1483.2975107\ttotal: 2.72s\tremaining: 1.74s\n",
      "61:\tlearn: 1480.5767288\ttotal: 2.78s\tremaining: 1.7s\n",
      "62:\tlearn: 1478.7593911\ttotal: 2.82s\tremaining: 1.66s\n",
      "63:\tlearn: 1477.0623655\ttotal: 2.86s\tremaining: 1.61s\n",
      "64:\tlearn: 1475.3621540\ttotal: 2.9s\tremaining: 1.56s\n",
      "65:\tlearn: 1473.1800594\ttotal: 2.95s\tremaining: 1.52s\n",
      "66:\tlearn: 1470.2748650\ttotal: 2.99s\tremaining: 1.47s\n",
      "67:\tlearn: 1468.4265358\ttotal: 3.03s\tremaining: 1.43s\n",
      "68:\tlearn: 1465.7638275\ttotal: 3.07s\tremaining: 1.38s\n",
      "69:\tlearn: 1463.6999899\ttotal: 3.12s\tremaining: 1.34s\n",
      "70:\tlearn: 1461.4055467\ttotal: 3.16s\tremaining: 1.29s\n",
      "71:\tlearn: 1459.0374110\ttotal: 3.2s\tremaining: 1.25s\n",
      "72:\tlearn: 1456.4017808\ttotal: 3.25s\tremaining: 1.2s\n",
      "73:\tlearn: 1454.9694881\ttotal: 3.29s\tremaining: 1.16s\n",
      "74:\tlearn: 1453.8349471\ttotal: 3.33s\tremaining: 1.11s\n",
      "75:\tlearn: 1452.5203323\ttotal: 3.38s\tremaining: 1.07s\n",
      "76:\tlearn: 1451.6674106\ttotal: 3.42s\tremaining: 1.02s\n",
      "77:\tlearn: 1450.2298122\ttotal: 3.47s\tremaining: 979ms\n",
      "78:\tlearn: 1447.7433468\ttotal: 3.51s\tremaining: 934ms\n",
      "79:\tlearn: 1446.0817377\ttotal: 3.56s\tremaining: 889ms\n",
      "80:\tlearn: 1444.7356926\ttotal: 3.6s\tremaining: 845ms\n",
      "81:\tlearn: 1443.5265805\ttotal: 3.64s\tremaining: 800ms\n",
      "82:\tlearn: 1442.2917778\ttotal: 3.69s\tremaining: 756ms\n",
      "83:\tlearn: 1440.4834365\ttotal: 3.74s\tremaining: 712ms\n",
      "84:\tlearn: 1438.2526172\ttotal: 3.78s\tremaining: 667ms\n",
      "85:\tlearn: 1436.5594099\ttotal: 3.82s\tremaining: 622ms\n",
      "86:\tlearn: 1434.7611229\ttotal: 3.86s\tremaining: 577ms\n",
      "87:\tlearn: 1432.5101088\ttotal: 3.9s\tremaining: 533ms\n",
      "88:\tlearn: 1431.1928179\ttotal: 3.95s\tremaining: 488ms\n",
      "89:\tlearn: 1429.6295404\ttotal: 3.99s\tremaining: 444ms\n",
      "90:\tlearn: 1427.2202035\ttotal: 4.04s\tremaining: 399ms\n",
      "91:\tlearn: 1426.0238181\ttotal: 4.08s\tremaining: 355ms\n",
      "92:\tlearn: 1424.4922366\ttotal: 4.13s\tremaining: 311ms\n",
      "93:\tlearn: 1423.1308866\ttotal: 4.17s\tremaining: 266ms\n",
      "94:\tlearn: 1422.1571944\ttotal: 4.21s\tremaining: 222ms\n",
      "95:\tlearn: 1419.8743917\ttotal: 4.25s\tremaining: 177ms\n",
      "96:\tlearn: 1417.4023204\ttotal: 4.3s\tremaining: 133ms\n",
      "97:\tlearn: 1415.7323105\ttotal: 4.34s\tremaining: 88.6ms\n",
      "98:\tlearn: 1414.8207723\ttotal: 4.38s\tremaining: 44.3ms\n",
      "99:\tlearn: 1413.3658054\ttotal: 4.42s\tremaining: 0us\n",
      "0:\tlearn: 3155.2843689\ttotal: 18.1ms\tremaining: 163ms\n",
      "1:\tlearn: 2716.6728044\ttotal: 36ms\tremaining: 144ms\n",
      "2:\tlearn: 2498.9638490\ttotal: 52.8ms\tremaining: 123ms\n",
      "3:\tlearn: 2382.3144367\ttotal: 69.6ms\tremaining: 104ms\n",
      "4:\tlearn: 2314.6688335\ttotal: 86.3ms\tremaining: 86.3ms\n",
      "5:\tlearn: 2260.3726572\ttotal: 102ms\tremaining: 68.1ms\n",
      "6:\tlearn: 2217.1145673\ttotal: 117ms\tremaining: 50.3ms\n",
      "7:\tlearn: 2174.2289614\ttotal: 134ms\tremaining: 33.4ms\n",
      "8:\tlearn: 2146.3930314\ttotal: 149ms\tremaining: 16.6ms\n",
      "9:\tlearn: 2126.6617905\ttotal: 165ms\tremaining: 0us\n",
      "0:\tlearn: 3146.7342039\ttotal: 18.7ms\tremaining: 168ms\n",
      "1:\tlearn: 2726.3742185\ttotal: 35.4ms\tremaining: 142ms\n",
      "2:\tlearn: 2544.6306187\ttotal: 53.1ms\tremaining: 124ms\n",
      "3:\tlearn: 2410.9185943\ttotal: 69.8ms\tremaining: 105ms\n",
      "4:\tlearn: 2328.3972679\ttotal: 86ms\tremaining: 86ms\n",
      "5:\tlearn: 2273.0801604\ttotal: 103ms\tremaining: 68.5ms\n",
      "6:\tlearn: 2218.1597169\ttotal: 121ms\tremaining: 51.7ms\n",
      "7:\tlearn: 2170.8661048\ttotal: 140ms\tremaining: 35.1ms\n",
      "8:\tlearn: 2144.9708810\ttotal: 160ms\tremaining: 17.8ms\n",
      "9:\tlearn: 2100.2694774\ttotal: 180ms\tremaining: 0us\n",
      "0:\tlearn: 3146.5623920\ttotal: 18.2ms\tremaining: 163ms\n",
      "1:\tlearn: 2709.3140315\ttotal: 35ms\tremaining: 140ms\n",
      "2:\tlearn: 2489.9130725\ttotal: 52.1ms\tremaining: 122ms\n",
      "3:\tlearn: 2373.1974901\ttotal: 67.4ms\tremaining: 101ms\n",
      "4:\tlearn: 2305.1598466\ttotal: 85.1ms\tremaining: 85.1ms\n",
      "5:\tlearn: 2253.0573007\ttotal: 103ms\tremaining: 68.8ms\n",
      "6:\tlearn: 2210.4550308\ttotal: 121ms\tremaining: 51.8ms\n",
      "7:\tlearn: 2166.0174257\ttotal: 138ms\tremaining: 34.5ms\n",
      "8:\tlearn: 2136.6458615\ttotal: 155ms\tremaining: 17.2ms\n",
      "9:\tlearn: 2111.3564901\ttotal: 172ms\tremaining: 0us\n",
      "0:\tlearn: 3144.2200179\ttotal: 17.5ms\tremaining: 157ms\n",
      "1:\tlearn: 2707.0953015\ttotal: 34.5ms\tremaining: 138ms\n",
      "2:\tlearn: 2487.1696922\ttotal: 50.7ms\tremaining: 118ms\n",
      "3:\tlearn: 2370.6342173\ttotal: 66.8ms\tremaining: 100ms\n",
      "4:\tlearn: 2302.5383262\ttotal: 83.6ms\tremaining: 83.6ms\n",
      "5:\tlearn: 2249.3552692\ttotal: 100ms\tremaining: 66.7ms\n",
      "6:\tlearn: 2207.2743425\ttotal: 117ms\tremaining: 49.9ms\n",
      "7:\tlearn: 2173.3508995\ttotal: 132ms\tremaining: 33ms\n",
      "8:\tlearn: 2144.6893700\ttotal: 148ms\tremaining: 16.5ms\n",
      "9:\tlearn: 2118.5561631\ttotal: 165ms\tremaining: 0us\n",
      "0:\tlearn: 3149.4881721\ttotal: 18.1ms\tremaining: 163ms\n",
      "1:\tlearn: 2713.3983350\ttotal: 35.3ms\tremaining: 141ms\n",
      "2:\tlearn: 2495.7464639\ttotal: 51.8ms\tremaining: 121ms\n",
      "3:\tlearn: 2378.4449339\ttotal: 68.1ms\tremaining: 102ms\n",
      "4:\tlearn: 2310.8625599\ttotal: 85.2ms\tremaining: 85.2ms\n",
      "5:\tlearn: 2255.8210652\ttotal: 102ms\tremaining: 68.3ms\n",
      "6:\tlearn: 2213.5069585\ttotal: 120ms\tremaining: 51.4ms\n",
      "7:\tlearn: 2176.1231607\ttotal: 138ms\tremaining: 34.5ms\n",
      "8:\tlearn: 2149.7656808\ttotal: 154ms\tremaining: 17.1ms\n",
      "9:\tlearn: 2129.2705173\ttotal: 172ms\tremaining: 0us\n",
      "0:\tlearn: 3155.2843689\ttotal: 17.3ms\tremaining: 846ms\n",
      "1:\tlearn: 2716.6728044\ttotal: 34.2ms\tremaining: 820ms\n",
      "2:\tlearn: 2498.9638490\ttotal: 50ms\tremaining: 783ms\n",
      "3:\tlearn: 2382.3144367\ttotal: 66.1ms\tremaining: 760ms\n",
      "4:\tlearn: 2314.6688335\ttotal: 84.7ms\tremaining: 763ms\n",
      "5:\tlearn: 2260.3726572\ttotal: 102ms\tremaining: 746ms\n",
      "6:\tlearn: 2217.1145673\ttotal: 119ms\tremaining: 731ms\n",
      "7:\tlearn: 2174.2289614\ttotal: 138ms\tremaining: 722ms\n",
      "8:\tlearn: 2146.3930314\ttotal: 154ms\tremaining: 700ms\n",
      "9:\tlearn: 2126.6617905\ttotal: 171ms\tremaining: 684ms\n",
      "10:\tlearn: 2094.5871116\ttotal: 187ms\tremaining: 663ms\n",
      "11:\tlearn: 2066.3515545\ttotal: 205ms\tremaining: 648ms\n",
      "12:\tlearn: 2047.1718394\ttotal: 222ms\tremaining: 631ms\n",
      "13:\tlearn: 2029.9118048\ttotal: 238ms\tremaining: 612ms\n",
      "14:\tlearn: 2017.7521123\ttotal: 253ms\tremaining: 591ms\n",
      "15:\tlearn: 2006.5991944\ttotal: 268ms\tremaining: 570ms\n",
      "16:\tlearn: 1997.1261725\ttotal: 285ms\tremaining: 554ms\n",
      "17:\tlearn: 1972.2216557\ttotal: 302ms\tremaining: 537ms\n",
      "18:\tlearn: 1956.5576789\ttotal: 317ms\tremaining: 518ms\n",
      "19:\tlearn: 1945.5455730\ttotal: 335ms\tremaining: 502ms\n",
      "20:\tlearn: 1925.1938600\ttotal: 352ms\tremaining: 486ms\n",
      "21:\tlearn: 1916.1946305\ttotal: 370ms\tremaining: 471ms\n",
      "22:\tlearn: 1903.5228091\ttotal: 388ms\tremaining: 456ms\n",
      "23:\tlearn: 1897.7296900\ttotal: 406ms\tremaining: 440ms\n",
      "24:\tlearn: 1891.3140587\ttotal: 423ms\tremaining: 423ms\n",
      "25:\tlearn: 1878.0583033\ttotal: 439ms\tremaining: 406ms\n",
      "26:\tlearn: 1872.2007817\ttotal: 456ms\tremaining: 388ms\n",
      "27:\tlearn: 1866.4569008\ttotal: 477ms\tremaining: 375ms\n",
      "28:\tlearn: 1856.3367386\ttotal: 493ms\tremaining: 357ms\n",
      "29:\tlearn: 1852.0529334\ttotal: 511ms\tremaining: 341ms\n",
      "30:\tlearn: 1844.3819505\ttotal: 528ms\tremaining: 324ms\n",
      "31:\tlearn: 1837.5787950\ttotal: 546ms\tremaining: 307ms\n",
      "32:\tlearn: 1832.1278123\ttotal: 562ms\tremaining: 290ms\n",
      "33:\tlearn: 1827.8355277\ttotal: 579ms\tremaining: 272ms\n",
      "34:\tlearn: 1823.6945807\ttotal: 596ms\tremaining: 255ms\n",
      "35:\tlearn: 1821.7648521\ttotal: 612ms\tremaining: 238ms\n",
      "36:\tlearn: 1818.4201847\ttotal: 629ms\tremaining: 221ms\n",
      "37:\tlearn: 1813.6502218\ttotal: 647ms\tremaining: 204ms\n",
      "38:\tlearn: 1811.5929599\ttotal: 668ms\tremaining: 189ms\n",
      "39:\tlearn: 1807.8475764\ttotal: 685ms\tremaining: 171ms\n",
      "40:\tlearn: 1805.5083701\ttotal: 704ms\tremaining: 155ms\n",
      "41:\tlearn: 1800.4896397\ttotal: 722ms\tremaining: 137ms\n",
      "42:\tlearn: 1797.1183153\ttotal: 739ms\tremaining: 120ms\n",
      "43:\tlearn: 1793.6468587\ttotal: 756ms\tremaining: 103ms\n",
      "44:\tlearn: 1790.9806103\ttotal: 773ms\tremaining: 85.9ms\n",
      "45:\tlearn: 1786.0039715\ttotal: 788ms\tremaining: 68.6ms\n",
      "46:\tlearn: 1782.9292187\ttotal: 806ms\tremaining: 51.4ms\n",
      "47:\tlearn: 1779.8545557\ttotal: 824ms\tremaining: 34.3ms\n",
      "48:\tlearn: 1777.0110694\ttotal: 841ms\tremaining: 17.2ms\n",
      "49:\tlearn: 1774.9639741\ttotal: 857ms\tremaining: 0us\n",
      "0:\tlearn: 3146.7342039\ttotal: 18.2ms\tremaining: 893ms\n",
      "1:\tlearn: 2726.3742185\ttotal: 34.4ms\tremaining: 826ms\n",
      "2:\tlearn: 2544.6306187\ttotal: 51.3ms\tremaining: 804ms\n",
      "3:\tlearn: 2410.9185943\ttotal: 68.4ms\tremaining: 787ms\n",
      "4:\tlearn: 2328.3972679\ttotal: 86.2ms\tremaining: 775ms\n",
      "5:\tlearn: 2273.0801604\ttotal: 104ms\tremaining: 765ms\n",
      "6:\tlearn: 2218.1597169\ttotal: 122ms\tremaining: 751ms\n",
      "7:\tlearn: 2170.8661048\ttotal: 138ms\tremaining: 724ms\n",
      "8:\tlearn: 2144.9708810\ttotal: 155ms\tremaining: 705ms\n",
      "9:\tlearn: 2100.2694774\ttotal: 174ms\tremaining: 695ms\n",
      "10:\tlearn: 2078.6696785\ttotal: 191ms\tremaining: 676ms\n",
      "11:\tlearn: 2054.8854191\ttotal: 208ms\tremaining: 658ms\n",
      "12:\tlearn: 2040.4041433\ttotal: 225ms\tremaining: 641ms\n",
      "13:\tlearn: 2018.2969793\ttotal: 242ms\tremaining: 623ms\n",
      "14:\tlearn: 2006.2360916\ttotal: 259ms\tremaining: 605ms\n",
      "15:\tlearn: 1989.4634042\ttotal: 276ms\tremaining: 587ms\n",
      "16:\tlearn: 1975.2160768\ttotal: 294ms\tremaining: 570ms\n",
      "17:\tlearn: 1959.5411459\ttotal: 311ms\tremaining: 552ms\n",
      "18:\tlearn: 1945.0415250\ttotal: 329ms\tremaining: 537ms\n",
      "19:\tlearn: 1929.7514234\ttotal: 348ms\tremaining: 522ms\n",
      "20:\tlearn: 1919.0004996\ttotal: 366ms\tremaining: 506ms\n",
      "21:\tlearn: 1909.0235871\ttotal: 384ms\tremaining: 489ms\n",
      "22:\tlearn: 1900.7183479\ttotal: 402ms\tremaining: 472ms\n",
      "23:\tlearn: 1893.5574493\ttotal: 419ms\tremaining: 454ms\n",
      "24:\tlearn: 1883.5070148\ttotal: 442ms\tremaining: 442ms\n",
      "25:\tlearn: 1878.7610478\ttotal: 464ms\tremaining: 428ms\n",
      "26:\tlearn: 1873.8300082\ttotal: 482ms\tremaining: 411ms\n",
      "27:\tlearn: 1870.6969061\ttotal: 500ms\tremaining: 393ms\n",
      "28:\tlearn: 1863.8371619\ttotal: 518ms\tremaining: 375ms\n",
      "29:\tlearn: 1857.4421975\ttotal: 536ms\tremaining: 357ms\n",
      "30:\tlearn: 1854.1668333\ttotal: 552ms\tremaining: 339ms\n",
      "31:\tlearn: 1843.7360243\ttotal: 573ms\tremaining: 322ms\n",
      "32:\tlearn: 1839.6394676\ttotal: 591ms\tremaining: 304ms\n",
      "33:\tlearn: 1835.2190214\ttotal: 609ms\tremaining: 287ms\n",
      "34:\tlearn: 1829.9119889\ttotal: 628ms\tremaining: 269ms\n",
      "35:\tlearn: 1825.3985282\ttotal: 648ms\tremaining: 252ms\n",
      "36:\tlearn: 1820.1428922\ttotal: 666ms\tremaining: 234ms\n",
      "37:\tlearn: 1815.9554803\ttotal: 689ms\tremaining: 218ms\n",
      "38:\tlearn: 1812.3347752\ttotal: 713ms\tremaining: 201ms\n",
      "39:\tlearn: 1809.4823994\ttotal: 731ms\tremaining: 183ms\n",
      "40:\tlearn: 1807.1271589\ttotal: 748ms\tremaining: 164ms\n",
      "41:\tlearn: 1803.3271958\ttotal: 764ms\tremaining: 145ms\n",
      "42:\tlearn: 1799.4233527\ttotal: 780ms\tremaining: 127ms\n",
      "43:\tlearn: 1795.3987266\ttotal: 798ms\tremaining: 109ms\n",
      "44:\tlearn: 1787.8021712\ttotal: 814ms\tremaining: 90.4ms\n",
      "45:\tlearn: 1783.5840111\ttotal: 830ms\tremaining: 72.2ms\n",
      "46:\tlearn: 1778.9166977\ttotal: 847ms\tremaining: 54.1ms\n",
      "47:\tlearn: 1776.2969349\ttotal: 862ms\tremaining: 35.9ms\n",
      "48:\tlearn: 1773.7357922\ttotal: 878ms\tremaining: 17.9ms\n",
      "49:\tlearn: 1771.4514256\ttotal: 894ms\tremaining: 0us\n",
      "0:\tlearn: 3146.5623920\ttotal: 18.7ms\tremaining: 916ms\n",
      "1:\tlearn: 2709.3140315\ttotal: 36.1ms\tremaining: 867ms\n",
      "2:\tlearn: 2489.9130725\ttotal: 52ms\tremaining: 814ms\n",
      "3:\tlearn: 2373.1974901\ttotal: 67.6ms\tremaining: 777ms\n",
      "4:\tlearn: 2305.1598466\ttotal: 84.8ms\tremaining: 763ms\n",
      "5:\tlearn: 2253.0573007\ttotal: 101ms\tremaining: 742ms\n",
      "6:\tlearn: 2210.4550308\ttotal: 117ms\tremaining: 720ms\n",
      "7:\tlearn: 2166.0174257\ttotal: 134ms\tremaining: 705ms\n",
      "8:\tlearn: 2136.6458615\ttotal: 151ms\tremaining: 687ms\n",
      "9:\tlearn: 2111.3564901\ttotal: 167ms\tremaining: 666ms\n",
      "10:\tlearn: 2090.0151661\ttotal: 183ms\tremaining: 649ms\n",
      "11:\tlearn: 2061.8318021\ttotal: 199ms\tremaining: 631ms\n",
      "12:\tlearn: 2033.3499024\ttotal: 217ms\tremaining: 616ms\n",
      "13:\tlearn: 2004.8316142\ttotal: 233ms\tremaining: 599ms\n",
      "14:\tlearn: 1991.0150485\ttotal: 249ms\tremaining: 581ms\n",
      "15:\tlearn: 1972.8690284\ttotal: 265ms\tremaining: 564ms\n",
      "16:\tlearn: 1961.2955017\ttotal: 283ms\tremaining: 549ms\n",
      "17:\tlearn: 1952.2357273\ttotal: 300ms\tremaining: 533ms\n",
      "18:\tlearn: 1943.1896552\ttotal: 315ms\tremaining: 514ms\n",
      "19:\tlearn: 1926.5345106\ttotal: 333ms\tremaining: 499ms\n",
      "20:\tlearn: 1912.6158468\ttotal: 349ms\tremaining: 483ms\n",
      "21:\tlearn: 1903.5175773\ttotal: 366ms\tremaining: 466ms\n",
      "22:\tlearn: 1896.1955077\ttotal: 382ms\tremaining: 448ms\n",
      "23:\tlearn: 1889.5040150\ttotal: 399ms\tremaining: 432ms\n",
      "24:\tlearn: 1878.7540888\ttotal: 416ms\tremaining: 416ms\n",
      "25:\tlearn: 1871.9666863\ttotal: 432ms\tremaining: 399ms\n",
      "26:\tlearn: 1866.9988900\ttotal: 447ms\tremaining: 381ms\n",
      "27:\tlearn: 1859.7057932\ttotal: 463ms\tremaining: 364ms\n",
      "28:\tlearn: 1853.7777636\ttotal: 479ms\tremaining: 347ms\n",
      "29:\tlearn: 1847.4779444\ttotal: 497ms\tremaining: 331ms\n",
      "30:\tlearn: 1841.7418407\ttotal: 512ms\tremaining: 314ms\n",
      "31:\tlearn: 1835.4261484\ttotal: 529ms\tremaining: 297ms\n",
      "32:\tlearn: 1828.6674559\ttotal: 546ms\tremaining: 281ms\n",
      "33:\tlearn: 1824.9045656\ttotal: 562ms\tremaining: 264ms\n",
      "34:\tlearn: 1818.8265081\ttotal: 577ms\tremaining: 247ms\n",
      "35:\tlearn: 1810.8145161\ttotal: 593ms\tremaining: 231ms\n",
      "36:\tlearn: 1807.5129294\ttotal: 610ms\tremaining: 214ms\n",
      "37:\tlearn: 1804.1459403\ttotal: 626ms\tremaining: 198ms\n",
      "38:\tlearn: 1800.1170958\ttotal: 643ms\tremaining: 181ms\n",
      "39:\tlearn: 1796.6140448\ttotal: 659ms\tremaining: 165ms\n",
      "40:\tlearn: 1791.3796012\ttotal: 676ms\tremaining: 148ms\n",
      "41:\tlearn: 1788.1853613\ttotal: 693ms\tremaining: 132ms\n",
      "42:\tlearn: 1783.9857381\ttotal: 709ms\tremaining: 115ms\n",
      "43:\tlearn: 1779.7710351\ttotal: 727ms\tremaining: 99.2ms\n",
      "44:\tlearn: 1776.3169747\ttotal: 749ms\tremaining: 83.2ms\n",
      "45:\tlearn: 1773.9632261\ttotal: 765ms\tremaining: 66.5ms\n",
      "46:\tlearn: 1771.2341852\ttotal: 782ms\tremaining: 49.9ms\n",
      "47:\tlearn: 1768.2102201\ttotal: 800ms\tremaining: 33.4ms\n",
      "48:\tlearn: 1761.7398185\ttotal: 819ms\tremaining: 16.7ms\n",
      "49:\tlearn: 1759.6303320\ttotal: 834ms\tremaining: 0us\n",
      "0:\tlearn: 3144.2200179\ttotal: 17.2ms\tremaining: 844ms\n",
      "1:\tlearn: 2707.0953015\ttotal: 34.8ms\tremaining: 834ms\n",
      "2:\tlearn: 2487.1696922\ttotal: 50.7ms\tremaining: 795ms\n",
      "3:\tlearn: 2370.6342173\ttotal: 65.5ms\tremaining: 753ms\n",
      "4:\tlearn: 2302.5383262\ttotal: 81.5ms\tremaining: 734ms\n",
      "5:\tlearn: 2249.3552692\ttotal: 98.5ms\tremaining: 722ms\n",
      "6:\tlearn: 2207.2743425\ttotal: 114ms\tremaining: 699ms\n",
      "7:\tlearn: 2173.3508995\ttotal: 130ms\tremaining: 684ms\n",
      "8:\tlearn: 2144.6893700\ttotal: 147ms\tremaining: 669ms\n",
      "9:\tlearn: 2118.5561631\ttotal: 165ms\tremaining: 659ms\n",
      "10:\tlearn: 2090.2173550\ttotal: 181ms\tremaining: 641ms\n",
      "11:\tlearn: 2048.4674663\ttotal: 199ms\tremaining: 629ms\n",
      "12:\tlearn: 2024.7963710\ttotal: 214ms\tremaining: 610ms\n",
      "13:\tlearn: 2001.9965996\ttotal: 231ms\tremaining: 594ms\n",
      "14:\tlearn: 1989.7976781\ttotal: 247ms\tremaining: 575ms\n",
      "15:\tlearn: 1968.7776597\ttotal: 264ms\tremaining: 561ms\n",
      "16:\tlearn: 1950.1570108\ttotal: 282ms\tremaining: 547ms\n",
      "17:\tlearn: 1936.8217063\ttotal: 299ms\tremaining: 532ms\n",
      "18:\tlearn: 1925.4297161\ttotal: 318ms\tremaining: 518ms\n",
      "19:\tlearn: 1911.8574710\ttotal: 335ms\tremaining: 502ms\n",
      "20:\tlearn: 1901.6378715\ttotal: 353ms\tremaining: 488ms\n",
      "21:\tlearn: 1893.0843139\ttotal: 370ms\tremaining: 471ms\n",
      "22:\tlearn: 1883.9278968\ttotal: 388ms\tremaining: 456ms\n",
      "23:\tlearn: 1877.4742530\ttotal: 404ms\tremaining: 437ms\n",
      "24:\tlearn: 1870.9426181\ttotal: 422ms\tremaining: 422ms\n",
      "25:\tlearn: 1864.7761477\ttotal: 439ms\tremaining: 405ms\n",
      "26:\tlearn: 1854.1595329\ttotal: 457ms\tremaining: 389ms\n",
      "27:\tlearn: 1847.8345926\ttotal: 476ms\tremaining: 374ms\n",
      "28:\tlearn: 1841.7907917\ttotal: 493ms\tremaining: 357ms\n",
      "29:\tlearn: 1831.3721351\ttotal: 511ms\tremaining: 341ms\n",
      "30:\tlearn: 1827.0563706\ttotal: 528ms\tremaining: 323ms\n",
      "31:\tlearn: 1820.6860067\ttotal: 545ms\tremaining: 307ms\n",
      "32:\tlearn: 1815.9061768\ttotal: 562ms\tremaining: 289ms\n",
      "33:\tlearn: 1812.1012368\ttotal: 581ms\tremaining: 274ms\n",
      "34:\tlearn: 1807.9221167\ttotal: 603ms\tremaining: 258ms\n",
      "35:\tlearn: 1802.8489666\ttotal: 623ms\tremaining: 242ms\n",
      "36:\tlearn: 1798.3217595\ttotal: 645ms\tremaining: 227ms\n",
      "37:\tlearn: 1795.6187653\ttotal: 670ms\tremaining: 212ms\n",
      "38:\tlearn: 1792.6739499\ttotal: 691ms\tremaining: 195ms\n",
      "39:\tlearn: 1790.4322748\ttotal: 711ms\tremaining: 178ms\n",
      "40:\tlearn: 1787.3369203\ttotal: 733ms\tremaining: 161ms\n",
      "41:\tlearn: 1783.2673431\ttotal: 753ms\tremaining: 143ms\n",
      "42:\tlearn: 1780.8464197\ttotal: 772ms\tremaining: 126ms\n",
      "43:\tlearn: 1776.0261180\ttotal: 795ms\tremaining: 108ms\n",
      "44:\tlearn: 1767.6896679\ttotal: 814ms\tremaining: 90.5ms\n",
      "45:\tlearn: 1764.7653735\ttotal: 831ms\tremaining: 72.3ms\n",
      "46:\tlearn: 1762.8594618\ttotal: 848ms\tremaining: 54.1ms\n",
      "47:\tlearn: 1760.1763603\ttotal: 865ms\tremaining: 36ms\n",
      "48:\tlearn: 1757.6932206\ttotal: 881ms\tremaining: 18ms\n",
      "49:\tlearn: 1754.7799931\ttotal: 896ms\tremaining: 0us\n",
      "0:\tlearn: 3149.4881721\ttotal: 16.4ms\tremaining: 805ms\n",
      "1:\tlearn: 2713.3983350\ttotal: 32.4ms\tremaining: 777ms\n",
      "2:\tlearn: 2495.7464639\ttotal: 47.8ms\tremaining: 749ms\n",
      "3:\tlearn: 2378.4449339\ttotal: 62.2ms\tremaining: 716ms\n",
      "4:\tlearn: 2310.8625599\ttotal: 80ms\tremaining: 720ms\n",
      "5:\tlearn: 2255.8210652\ttotal: 95.7ms\tremaining: 702ms\n",
      "6:\tlearn: 2213.5069585\ttotal: 111ms\tremaining: 683ms\n",
      "7:\tlearn: 2176.1231607\ttotal: 128ms\tremaining: 671ms\n",
      "8:\tlearn: 2149.7656808\ttotal: 143ms\tremaining: 653ms\n",
      "9:\tlearn: 2129.2705173\ttotal: 160ms\tremaining: 642ms\n",
      "10:\tlearn: 2100.4792549\ttotal: 177ms\tremaining: 628ms\n",
      "11:\tlearn: 2075.7109151\ttotal: 194ms\tremaining: 613ms\n",
      "12:\tlearn: 2051.2042156\ttotal: 210ms\tremaining: 598ms\n",
      "13:\tlearn: 2040.3478877\ttotal: 226ms\tremaining: 582ms\n",
      "14:\tlearn: 2020.6092669\ttotal: 243ms\tremaining: 566ms\n",
      "15:\tlearn: 1997.2312706\ttotal: 259ms\tremaining: 550ms\n",
      "16:\tlearn: 1984.0613959\ttotal: 277ms\tremaining: 537ms\n",
      "17:\tlearn: 1965.6458776\ttotal: 294ms\tremaining: 523ms\n",
      "18:\tlearn: 1953.4616250\ttotal: 312ms\tremaining: 509ms\n",
      "19:\tlearn: 1938.1894609\ttotal: 330ms\tremaining: 495ms\n",
      "20:\tlearn: 1919.0624886\ttotal: 348ms\tremaining: 481ms\n",
      "21:\tlearn: 1901.9900734\ttotal: 368ms\tremaining: 468ms\n",
      "22:\tlearn: 1892.1067246\ttotal: 389ms\tremaining: 457ms\n",
      "23:\tlearn: 1885.5437842\ttotal: 405ms\tremaining: 439ms\n",
      "24:\tlearn: 1881.0754314\ttotal: 420ms\tremaining: 420ms\n",
      "25:\tlearn: 1869.9630182\ttotal: 438ms\tremaining: 404ms\n",
      "26:\tlearn: 1865.0195502\ttotal: 454ms\tremaining: 387ms\n",
      "27:\tlearn: 1858.3829281\ttotal: 471ms\tremaining: 370ms\n",
      "28:\tlearn: 1851.4307200\ttotal: 487ms\tremaining: 353ms\n",
      "29:\tlearn: 1846.4050922\ttotal: 503ms\tremaining: 335ms\n",
      "30:\tlearn: 1841.2389033\ttotal: 524ms\tremaining: 321ms\n",
      "31:\tlearn: 1837.4444613\ttotal: 540ms\tremaining: 304ms\n",
      "32:\tlearn: 1829.0530585\ttotal: 559ms\tremaining: 288ms\n",
      "33:\tlearn: 1822.7342415\ttotal: 576ms\tremaining: 271ms\n",
      "34:\tlearn: 1817.7896505\ttotal: 594ms\tremaining: 255ms\n",
      "35:\tlearn: 1812.3420250\ttotal: 611ms\tremaining: 238ms\n",
      "36:\tlearn: 1807.7829585\ttotal: 629ms\tremaining: 221ms\n",
      "37:\tlearn: 1804.9808900\ttotal: 646ms\tremaining: 204ms\n",
      "38:\tlearn: 1801.1049190\ttotal: 663ms\tremaining: 187ms\n",
      "39:\tlearn: 1797.3751638\ttotal: 681ms\tremaining: 170ms\n",
      "40:\tlearn: 1794.4853813\ttotal: 697ms\tremaining: 153ms\n",
      "41:\tlearn: 1791.7742495\ttotal: 717ms\tremaining: 137ms\n",
      "42:\tlearn: 1788.4472074\ttotal: 734ms\tremaining: 120ms\n",
      "43:\tlearn: 1785.8507569\ttotal: 751ms\tremaining: 102ms\n",
      "44:\tlearn: 1779.7473230\ttotal: 769ms\tremaining: 85.4ms\n",
      "45:\tlearn: 1777.3221990\ttotal: 785ms\tremaining: 68.3ms\n",
      "46:\tlearn: 1774.1511445\ttotal: 802ms\tremaining: 51.2ms\n",
      "47:\tlearn: 1772.8952954\ttotal: 819ms\tremaining: 34.1ms\n",
      "48:\tlearn: 1769.6085319\ttotal: 835ms\tremaining: 17ms\n",
      "49:\tlearn: 1767.4793254\ttotal: 854ms\tremaining: 0us\n",
      "0:\tlearn: 3155.2843689\ttotal: 17.5ms\tremaining: 1.73s\n",
      "1:\tlearn: 2716.6728044\ttotal: 35ms\tremaining: 1.71s\n",
      "2:\tlearn: 2498.9638490\ttotal: 51.9ms\tremaining: 1.68s\n",
      "3:\tlearn: 2382.3144367\ttotal: 67.6ms\tremaining: 1.62s\n",
      "4:\tlearn: 2314.6688335\ttotal: 84.9ms\tremaining: 1.61s\n",
      "5:\tlearn: 2260.3726572\ttotal: 101ms\tremaining: 1.59s\n",
      "6:\tlearn: 2217.1145673\ttotal: 120ms\tremaining: 1.59s\n",
      "7:\tlearn: 2174.2289614\ttotal: 140ms\tremaining: 1.61s\n",
      "8:\tlearn: 2146.3930314\ttotal: 156ms\tremaining: 1.58s\n",
      "9:\tlearn: 2126.6617905\ttotal: 172ms\tremaining: 1.55s\n",
      "10:\tlearn: 2094.5871116\ttotal: 188ms\tremaining: 1.52s\n",
      "11:\tlearn: 2066.3515545\ttotal: 206ms\tremaining: 1.51s\n",
      "12:\tlearn: 2047.1718394\ttotal: 222ms\tremaining: 1.48s\n",
      "13:\tlearn: 2029.9118048\ttotal: 239ms\tremaining: 1.47s\n",
      "14:\tlearn: 2017.7521123\ttotal: 254ms\tremaining: 1.44s\n",
      "15:\tlearn: 2006.5991944\ttotal: 270ms\tremaining: 1.42s\n",
      "16:\tlearn: 1997.1261725\ttotal: 291ms\tremaining: 1.42s\n",
      "17:\tlearn: 1972.2216557\ttotal: 309ms\tremaining: 1.41s\n",
      "18:\tlearn: 1956.5576789\ttotal: 325ms\tremaining: 1.39s\n",
      "19:\tlearn: 1945.5455730\ttotal: 341ms\tremaining: 1.36s\n",
      "20:\tlearn: 1925.1938600\ttotal: 358ms\tremaining: 1.35s\n",
      "21:\tlearn: 1916.1946305\ttotal: 375ms\tremaining: 1.33s\n",
      "22:\tlearn: 1903.5228091\ttotal: 392ms\tremaining: 1.31s\n",
      "23:\tlearn: 1897.7296900\ttotal: 409ms\tremaining: 1.29s\n",
      "24:\tlearn: 1891.3140587\ttotal: 426ms\tremaining: 1.28s\n",
      "25:\tlearn: 1878.0583033\ttotal: 442ms\tremaining: 1.26s\n",
      "26:\tlearn: 1872.2007817\ttotal: 458ms\tremaining: 1.24s\n",
      "27:\tlearn: 1866.4569008\ttotal: 476ms\tremaining: 1.22s\n",
      "28:\tlearn: 1856.3367386\ttotal: 493ms\tremaining: 1.21s\n",
      "29:\tlearn: 1852.0529334\ttotal: 511ms\tremaining: 1.19s\n",
      "30:\tlearn: 1844.3819505\ttotal: 528ms\tremaining: 1.18s\n",
      "31:\tlearn: 1837.5787950\ttotal: 546ms\tremaining: 1.16s\n",
      "32:\tlearn: 1832.1278123\ttotal: 562ms\tremaining: 1.14s\n",
      "33:\tlearn: 1827.8355277\ttotal: 579ms\tremaining: 1.12s\n",
      "34:\tlearn: 1823.6945807\ttotal: 596ms\tremaining: 1.11s\n",
      "35:\tlearn: 1821.7648521\ttotal: 613ms\tremaining: 1.09s\n",
      "36:\tlearn: 1818.4201847\ttotal: 629ms\tremaining: 1.07s\n",
      "37:\tlearn: 1813.6502218\ttotal: 646ms\tremaining: 1.05s\n",
      "38:\tlearn: 1811.5929599\ttotal: 663ms\tremaining: 1.04s\n",
      "39:\tlearn: 1807.8475764\ttotal: 679ms\tremaining: 1.02s\n",
      "40:\tlearn: 1805.5083701\ttotal: 696ms\tremaining: 1s\n",
      "41:\tlearn: 1800.4896397\ttotal: 713ms\tremaining: 985ms\n",
      "42:\tlearn: 1797.1183153\ttotal: 729ms\tremaining: 967ms\n",
      "43:\tlearn: 1793.6468587\ttotal: 745ms\tremaining: 948ms\n",
      "44:\tlearn: 1790.9806103\ttotal: 762ms\tremaining: 931ms\n",
      "45:\tlearn: 1786.0039715\ttotal: 778ms\tremaining: 914ms\n",
      "46:\tlearn: 1782.9292187\ttotal: 796ms\tremaining: 897ms\n",
      "47:\tlearn: 1779.8545557\ttotal: 812ms\tremaining: 879ms\n",
      "48:\tlearn: 1777.0110694\ttotal: 828ms\tremaining: 862ms\n",
      "49:\tlearn: 1774.9639741\ttotal: 845ms\tremaining: 845ms\n",
      "50:\tlearn: 1769.4942284\ttotal: 863ms\tremaining: 829ms\n",
      "51:\tlearn: 1766.9740098\ttotal: 879ms\tremaining: 811ms\n",
      "52:\tlearn: 1762.9433125\ttotal: 896ms\tremaining: 795ms\n",
      "53:\tlearn: 1755.8309295\ttotal: 912ms\tremaining: 777ms\n",
      "54:\tlearn: 1752.4357241\ttotal: 928ms\tremaining: 759ms\n",
      "55:\tlearn: 1751.0691783\ttotal: 947ms\tremaining: 744ms\n",
      "56:\tlearn: 1749.6907356\ttotal: 967ms\tremaining: 729ms\n",
      "57:\tlearn: 1747.1247309\ttotal: 984ms\tremaining: 712ms\n",
      "58:\tlearn: 1745.0738794\ttotal: 1s\tremaining: 698ms\n",
      "59:\tlearn: 1743.6501300\ttotal: 1.02s\tremaining: 682ms\n",
      "60:\tlearn: 1742.1687913\ttotal: 1.04s\tremaining: 665ms\n",
      "61:\tlearn: 1740.5370331\ttotal: 1.06s\tremaining: 650ms\n",
      "62:\tlearn: 1738.5308494\ttotal: 1.08s\tremaining: 632ms\n",
      "63:\tlearn: 1735.1881975\ttotal: 1.09s\tremaining: 615ms\n",
      "64:\tlearn: 1733.2095358\ttotal: 1.11s\tremaining: 598ms\n",
      "65:\tlearn: 1730.7628865\ttotal: 1.13s\tremaining: 582ms\n",
      "66:\tlearn: 1729.2479816\ttotal: 1.15s\tremaining: 565ms\n",
      "67:\tlearn: 1728.0684241\ttotal: 1.16s\tremaining: 547ms\n",
      "68:\tlearn: 1725.2431070\ttotal: 1.18s\tremaining: 530ms\n",
      "69:\tlearn: 1722.3643245\ttotal: 1.2s\tremaining: 513ms\n",
      "70:\tlearn: 1720.9557877\ttotal: 1.21s\tremaining: 496ms\n",
      "71:\tlearn: 1718.8384674\ttotal: 1.23s\tremaining: 479ms\n",
      "72:\tlearn: 1717.0364027\ttotal: 1.25s\tremaining: 463ms\n",
      "73:\tlearn: 1715.1760599\ttotal: 1.27s\tremaining: 447ms\n",
      "74:\tlearn: 1714.3140641\ttotal: 1.29s\tremaining: 430ms\n",
      "75:\tlearn: 1711.9561741\ttotal: 1.3s\tremaining: 412ms\n",
      "76:\tlearn: 1710.6745028\ttotal: 1.32s\tremaining: 395ms\n",
      "77:\tlearn: 1708.7963277\ttotal: 1.34s\tremaining: 378ms\n",
      "78:\tlearn: 1706.6452471\ttotal: 1.36s\tremaining: 361ms\n",
      "79:\tlearn: 1705.1294977\ttotal: 1.37s\tremaining: 343ms\n",
      "80:\tlearn: 1704.2133994\ttotal: 1.39s\tremaining: 326ms\n",
      "81:\tlearn: 1702.0372515\ttotal: 1.41s\tremaining: 309ms\n",
      "82:\tlearn: 1700.5804409\ttotal: 1.43s\tremaining: 292ms\n",
      "83:\tlearn: 1699.6777943\ttotal: 1.44s\tremaining: 275ms\n",
      "84:\tlearn: 1698.8489134\ttotal: 1.46s\tremaining: 257ms\n",
      "85:\tlearn: 1697.7988081\ttotal: 1.48s\tremaining: 240ms\n",
      "86:\tlearn: 1696.9135462\ttotal: 1.49s\tremaining: 223ms\n",
      "87:\tlearn: 1695.6588594\ttotal: 1.51s\tremaining: 206ms\n",
      "88:\tlearn: 1693.8966266\ttotal: 1.52s\tremaining: 189ms\n",
      "89:\tlearn: 1693.0194322\ttotal: 1.54s\tremaining: 171ms\n",
      "90:\tlearn: 1691.5928969\ttotal: 1.56s\tremaining: 154ms\n",
      "91:\tlearn: 1689.3315304\ttotal: 1.58s\tremaining: 137ms\n",
      "92:\tlearn: 1687.5041975\ttotal: 1.59s\tremaining: 120ms\n",
      "93:\tlearn: 1686.1411918\ttotal: 1.61s\tremaining: 103ms\n",
      "94:\tlearn: 1685.0027127\ttotal: 1.63s\tremaining: 85.8ms\n",
      "95:\tlearn: 1683.9611365\ttotal: 1.65s\tremaining: 68.6ms\n",
      "96:\tlearn: 1682.9026186\ttotal: 1.66s\tremaining: 51.5ms\n",
      "97:\tlearn: 1682.2924800\ttotal: 1.68s\tremaining: 34.3ms\n",
      "98:\tlearn: 1681.1602519\ttotal: 1.7s\tremaining: 17.2ms\n",
      "99:\tlearn: 1680.2179749\ttotal: 1.71s\tremaining: 0us\n",
      "0:\tlearn: 3146.7342039\ttotal: 17.8ms\tremaining: 1.76s\n",
      "1:\tlearn: 2726.3742185\ttotal: 35ms\tremaining: 1.72s\n",
      "2:\tlearn: 2544.6306187\ttotal: 52.5ms\tremaining: 1.7s\n",
      "3:\tlearn: 2410.9185943\ttotal: 69.1ms\tremaining: 1.66s\n",
      "4:\tlearn: 2328.3972679\ttotal: 86.3ms\tremaining: 1.64s\n",
      "5:\tlearn: 2273.0801604\ttotal: 105ms\tremaining: 1.64s\n",
      "6:\tlearn: 2218.1597169\ttotal: 122ms\tremaining: 1.62s\n",
      "7:\tlearn: 2170.8661048\ttotal: 139ms\tremaining: 1.59s\n",
      "8:\tlearn: 2144.9708810\ttotal: 155ms\tremaining: 1.57s\n",
      "9:\tlearn: 2100.2694774\ttotal: 174ms\tremaining: 1.56s\n",
      "10:\tlearn: 2078.6696785\ttotal: 192ms\tremaining: 1.55s\n",
      "11:\tlearn: 2054.8854191\ttotal: 208ms\tremaining: 1.53s\n",
      "12:\tlearn: 2040.4041433\ttotal: 226ms\tremaining: 1.51s\n",
      "13:\tlearn: 2018.2969793\ttotal: 244ms\tremaining: 1.5s\n",
      "14:\tlearn: 2006.2360916\ttotal: 261ms\tremaining: 1.48s\n",
      "15:\tlearn: 1989.4634042\ttotal: 278ms\tremaining: 1.46s\n",
      "16:\tlearn: 1975.2160768\ttotal: 297ms\tremaining: 1.45s\n",
      "17:\tlearn: 1959.5411459\ttotal: 314ms\tremaining: 1.43s\n",
      "18:\tlearn: 1945.0415250\ttotal: 332ms\tremaining: 1.42s\n",
      "19:\tlearn: 1929.7514234\ttotal: 351ms\tremaining: 1.41s\n",
      "20:\tlearn: 1919.0004996\ttotal: 368ms\tremaining: 1.39s\n",
      "21:\tlearn: 1909.0235871\ttotal: 386ms\tremaining: 1.37s\n",
      "22:\tlearn: 1900.7183479\ttotal: 404ms\tremaining: 1.35s\n",
      "23:\tlearn: 1893.5574493\ttotal: 422ms\tremaining: 1.33s\n",
      "24:\tlearn: 1883.5070148\ttotal: 440ms\tremaining: 1.32s\n",
      "25:\tlearn: 1878.7610478\ttotal: 457ms\tremaining: 1.3s\n",
      "26:\tlearn: 1873.8300082\ttotal: 474ms\tremaining: 1.28s\n",
      "27:\tlearn: 1870.6969061\ttotal: 491ms\tremaining: 1.26s\n",
      "28:\tlearn: 1863.8371619\ttotal: 508ms\tremaining: 1.24s\n",
      "29:\tlearn: 1857.4421975\ttotal: 526ms\tremaining: 1.23s\n",
      "30:\tlearn: 1854.1668333\ttotal: 544ms\tremaining: 1.21s\n",
      "31:\tlearn: 1843.7360243\ttotal: 563ms\tremaining: 1.2s\n",
      "32:\tlearn: 1839.6394676\ttotal: 580ms\tremaining: 1.18s\n",
      "33:\tlearn: 1835.2190214\ttotal: 597ms\tremaining: 1.16s\n",
      "34:\tlearn: 1829.9119889\ttotal: 614ms\tremaining: 1.14s\n",
      "35:\tlearn: 1825.3985282\ttotal: 635ms\tremaining: 1.13s\n",
      "36:\tlearn: 1820.1428922\ttotal: 652ms\tremaining: 1.11s\n",
      "37:\tlearn: 1815.9554803\ttotal: 670ms\tremaining: 1.09s\n",
      "38:\tlearn: 1812.3347752\ttotal: 687ms\tremaining: 1.07s\n",
      "39:\tlearn: 1809.4823994\ttotal: 704ms\tremaining: 1.05s\n",
      "40:\tlearn: 1807.1271589\ttotal: 721ms\tremaining: 1.04s\n",
      "41:\tlearn: 1803.3271958\ttotal: 739ms\tremaining: 1.02s\n",
      "42:\tlearn: 1799.4233527\ttotal: 757ms\tremaining: 1s\n",
      "43:\tlearn: 1795.3987266\ttotal: 780ms\tremaining: 993ms\n",
      "44:\tlearn: 1787.8021712\ttotal: 799ms\tremaining: 976ms\n",
      "45:\tlearn: 1783.5840111\ttotal: 816ms\tremaining: 958ms\n",
      "46:\tlearn: 1778.9166977\ttotal: 833ms\tremaining: 939ms\n",
      "47:\tlearn: 1776.2969349\ttotal: 848ms\tremaining: 919ms\n",
      "48:\tlearn: 1773.7357922\ttotal: 866ms\tremaining: 901ms\n",
      "49:\tlearn: 1771.4514256\ttotal: 883ms\tremaining: 883ms\n",
      "50:\tlearn: 1767.8259304\ttotal: 899ms\tremaining: 864ms\n",
      "51:\tlearn: 1763.7427704\ttotal: 922ms\tremaining: 851ms\n",
      "52:\tlearn: 1760.7888444\ttotal: 942ms\tremaining: 836ms\n",
      "53:\tlearn: 1757.7447775\ttotal: 960ms\tremaining: 818ms\n",
      "54:\tlearn: 1756.2569462\ttotal: 976ms\tremaining: 798ms\n",
      "55:\tlearn: 1754.1052111\ttotal: 992ms\tremaining: 780ms\n",
      "56:\tlearn: 1751.4241164\ttotal: 1.01s\tremaining: 762ms\n",
      "57:\tlearn: 1749.9800605\ttotal: 1.03s\tremaining: 744ms\n",
      "58:\tlearn: 1747.4658480\ttotal: 1.04s\tremaining: 726ms\n",
      "59:\tlearn: 1744.5990544\ttotal: 1.06s\tremaining: 707ms\n",
      "60:\tlearn: 1742.7981472\ttotal: 1.08s\tremaining: 688ms\n",
      "61:\tlearn: 1740.8792640\ttotal: 1.09s\tremaining: 670ms\n",
      "62:\tlearn: 1739.0544264\ttotal: 1.11s\tremaining: 654ms\n",
      "63:\tlearn: 1735.2892625\ttotal: 1.13s\tremaining: 636ms\n",
      "64:\tlearn: 1731.3209192\ttotal: 1.15s\tremaining: 618ms\n",
      "65:\tlearn: 1729.3058408\ttotal: 1.17s\tremaining: 600ms\n",
      "66:\tlearn: 1727.9450445\ttotal: 1.18s\tremaining: 582ms\n",
      "67:\tlearn: 1726.2822678\ttotal: 1.2s\tremaining: 563ms\n",
      "68:\tlearn: 1720.5824540\ttotal: 1.21s\tremaining: 545ms\n",
      "69:\tlearn: 1718.5414688\ttotal: 1.23s\tremaining: 527ms\n",
      "70:\tlearn: 1716.8994369\ttotal: 1.25s\tremaining: 510ms\n",
      "71:\tlearn: 1715.5186629\ttotal: 1.26s\tremaining: 492ms\n",
      "72:\tlearn: 1712.8157667\ttotal: 1.28s\tremaining: 474ms\n",
      "73:\tlearn: 1710.9978117\ttotal: 1.3s\tremaining: 455ms\n",
      "74:\tlearn: 1709.8482126\ttotal: 1.31s\tremaining: 437ms\n",
      "75:\tlearn: 1708.2962355\ttotal: 1.33s\tremaining: 419ms\n",
      "76:\tlearn: 1706.5341480\ttotal: 1.34s\tremaining: 401ms\n",
      "77:\tlearn: 1704.1976716\ttotal: 1.36s\tremaining: 384ms\n",
      "78:\tlearn: 1703.1091697\ttotal: 1.37s\tremaining: 365ms\n",
      "79:\tlearn: 1701.5657248\ttotal: 1.39s\tremaining: 348ms\n",
      "80:\tlearn: 1699.4034876\ttotal: 1.41s\tremaining: 330ms\n",
      "81:\tlearn: 1698.0245784\ttotal: 1.42s\tremaining: 312ms\n",
      "82:\tlearn: 1696.3102698\ttotal: 1.44s\tremaining: 295ms\n",
      "83:\tlearn: 1695.4177195\ttotal: 1.46s\tremaining: 277ms\n",
      "84:\tlearn: 1692.8545259\ttotal: 1.47s\tremaining: 260ms\n",
      "85:\tlearn: 1691.3356622\ttotal: 1.49s\tremaining: 243ms\n",
      "86:\tlearn: 1690.0025679\ttotal: 1.51s\tremaining: 226ms\n",
      "87:\tlearn: 1688.7437501\ttotal: 1.53s\tremaining: 208ms\n",
      "88:\tlearn: 1688.0356288\ttotal: 1.54s\tremaining: 191ms\n",
      "89:\tlearn: 1686.9266076\ttotal: 1.56s\tremaining: 173ms\n",
      "90:\tlearn: 1685.5938775\ttotal: 1.58s\tremaining: 156ms\n",
      "91:\tlearn: 1684.4856767\ttotal: 1.59s\tremaining: 139ms\n",
      "92:\tlearn: 1682.7504030\ttotal: 1.61s\tremaining: 121ms\n",
      "93:\tlearn: 1681.7886244\ttotal: 1.63s\tremaining: 104ms\n",
      "94:\tlearn: 1680.7074847\ttotal: 1.64s\tremaining: 86.4ms\n",
      "95:\tlearn: 1679.6487808\ttotal: 1.66s\tremaining: 69.1ms\n",
      "96:\tlearn: 1678.6210849\ttotal: 1.67s\tremaining: 51.8ms\n",
      "97:\tlearn: 1677.5953982\ttotal: 1.69s\tremaining: 34.5ms\n",
      "98:\tlearn: 1676.4956021\ttotal: 1.71s\tremaining: 17.3ms\n",
      "99:\tlearn: 1676.0058489\ttotal: 1.72s\tremaining: 0us\n",
      "0:\tlearn: 3146.5623920\ttotal: 17.4ms\tremaining: 1.72s\n",
      "1:\tlearn: 2709.3140315\ttotal: 36.5ms\tremaining: 1.79s\n",
      "2:\tlearn: 2489.9130725\ttotal: 53.6ms\tremaining: 1.73s\n",
      "3:\tlearn: 2373.1974901\ttotal: 69.4ms\tremaining: 1.67s\n",
      "4:\tlearn: 2305.1598466\ttotal: 86.2ms\tremaining: 1.64s\n",
      "5:\tlearn: 2253.0573007\ttotal: 104ms\tremaining: 1.62s\n",
      "6:\tlearn: 2210.4550308\ttotal: 120ms\tremaining: 1.59s\n",
      "7:\tlearn: 2166.0174257\ttotal: 137ms\tremaining: 1.58s\n",
      "8:\tlearn: 2136.6458615\ttotal: 154ms\tremaining: 1.55s\n",
      "9:\tlearn: 2111.3564901\ttotal: 170ms\tremaining: 1.53s\n",
      "10:\tlearn: 2090.0151661\ttotal: 187ms\tremaining: 1.51s\n",
      "11:\tlearn: 2061.8318021\ttotal: 204ms\tremaining: 1.5s\n",
      "12:\tlearn: 2033.3499024\ttotal: 221ms\tremaining: 1.48s\n",
      "13:\tlearn: 2004.8316142\ttotal: 236ms\tremaining: 1.45s\n",
      "14:\tlearn: 1991.0150485\ttotal: 252ms\tremaining: 1.43s\n",
      "15:\tlearn: 1972.8690284\ttotal: 269ms\tremaining: 1.41s\n",
      "16:\tlearn: 1961.2955017\ttotal: 287ms\tremaining: 1.4s\n",
      "17:\tlearn: 1952.2357273\ttotal: 307ms\tremaining: 1.4s\n",
      "18:\tlearn: 1943.1896552\ttotal: 323ms\tremaining: 1.38s\n",
      "19:\tlearn: 1926.5345106\ttotal: 340ms\tremaining: 1.36s\n",
      "20:\tlearn: 1912.6158468\ttotal: 359ms\tremaining: 1.35s\n",
      "21:\tlearn: 1903.5175773\ttotal: 376ms\tremaining: 1.33s\n",
      "22:\tlearn: 1896.1955077\ttotal: 392ms\tremaining: 1.31s\n",
      "23:\tlearn: 1889.5040150\ttotal: 409ms\tremaining: 1.29s\n",
      "24:\tlearn: 1878.7540888\ttotal: 426ms\tremaining: 1.28s\n",
      "25:\tlearn: 1871.9666863\ttotal: 442ms\tremaining: 1.26s\n",
      "26:\tlearn: 1866.9988900\ttotal: 459ms\tremaining: 1.24s\n",
      "27:\tlearn: 1859.7057932\ttotal: 476ms\tremaining: 1.22s\n",
      "28:\tlearn: 1853.7777636\ttotal: 495ms\tremaining: 1.21s\n",
      "29:\tlearn: 1847.4779444\ttotal: 512ms\tremaining: 1.19s\n",
      "30:\tlearn: 1841.7418407\ttotal: 529ms\tremaining: 1.18s\n",
      "31:\tlearn: 1835.4261484\ttotal: 545ms\tremaining: 1.16s\n",
      "32:\tlearn: 1828.6674559\ttotal: 563ms\tremaining: 1.14s\n",
      "33:\tlearn: 1824.9045656\ttotal: 580ms\tremaining: 1.13s\n",
      "34:\tlearn: 1818.8265081\ttotal: 598ms\tremaining: 1.11s\n",
      "35:\tlearn: 1810.8145161\ttotal: 617ms\tremaining: 1.1s\n",
      "36:\tlearn: 1807.5129294\ttotal: 634ms\tremaining: 1.08s\n",
      "37:\tlearn: 1804.1459403\ttotal: 651ms\tremaining: 1.06s\n",
      "38:\tlearn: 1800.1170958\ttotal: 668ms\tremaining: 1.04s\n",
      "39:\tlearn: 1796.6140448\ttotal: 689ms\tremaining: 1.03s\n",
      "40:\tlearn: 1791.3796012\ttotal: 706ms\tremaining: 1.02s\n",
      "41:\tlearn: 1788.1853613\ttotal: 725ms\tremaining: 1s\n",
      "42:\tlearn: 1783.9857381\ttotal: 742ms\tremaining: 984ms\n",
      "43:\tlearn: 1779.7710351\ttotal: 759ms\tremaining: 966ms\n",
      "44:\tlearn: 1776.3169747\ttotal: 776ms\tremaining: 949ms\n",
      "45:\tlearn: 1773.9632261\ttotal: 793ms\tremaining: 931ms\n",
      "46:\tlearn: 1771.2341852\ttotal: 810ms\tremaining: 914ms\n",
      "47:\tlearn: 1768.2102201\ttotal: 827ms\tremaining: 895ms\n",
      "48:\tlearn: 1761.7398185\ttotal: 843ms\tremaining: 878ms\n",
      "49:\tlearn: 1759.6303320\ttotal: 860ms\tremaining: 860ms\n",
      "50:\tlearn: 1756.7329943\ttotal: 876ms\tremaining: 842ms\n",
      "51:\tlearn: 1755.5355623\ttotal: 893ms\tremaining: 824ms\n",
      "52:\tlearn: 1751.1388117\ttotal: 914ms\tremaining: 811ms\n",
      "53:\tlearn: 1746.5043812\ttotal: 934ms\tremaining: 795ms\n",
      "54:\tlearn: 1744.3982075\ttotal: 951ms\tremaining: 778ms\n",
      "55:\tlearn: 1741.6088014\ttotal: 969ms\tremaining: 761ms\n",
      "56:\tlearn: 1739.4826297\ttotal: 988ms\tremaining: 745ms\n",
      "57:\tlearn: 1737.8725396\ttotal: 1.01s\tremaining: 729ms\n",
      "58:\tlearn: 1736.1312297\ttotal: 1.02s\tremaining: 713ms\n",
      "59:\tlearn: 1733.9260706\ttotal: 1.04s\tremaining: 696ms\n",
      "60:\tlearn: 1732.1570359\ttotal: 1.06s\tremaining: 679ms\n",
      "61:\tlearn: 1729.6664302\ttotal: 1.08s\tremaining: 665ms\n",
      "62:\tlearn: 1727.7625212\ttotal: 1.1s\tremaining: 647ms\n",
      "63:\tlearn: 1726.3651843\ttotal: 1.12s\tremaining: 629ms\n",
      "64:\tlearn: 1723.5636831\ttotal: 1.14s\tremaining: 612ms\n",
      "65:\tlearn: 1721.7793318\ttotal: 1.15s\tremaining: 594ms\n",
      "66:\tlearn: 1720.2925465\ttotal: 1.17s\tremaining: 577ms\n",
      "67:\tlearn: 1719.2293926\ttotal: 1.19s\tremaining: 559ms\n",
      "68:\tlearn: 1717.2825872\ttotal: 1.2s\tremaining: 540ms\n",
      "69:\tlearn: 1714.7753420\ttotal: 1.22s\tremaining: 523ms\n",
      "70:\tlearn: 1713.1294392\ttotal: 1.24s\tremaining: 506ms\n",
      "71:\tlearn: 1711.7277321\ttotal: 1.25s\tremaining: 488ms\n",
      "72:\tlearn: 1710.2677054\ttotal: 1.27s\tremaining: 470ms\n",
      "73:\tlearn: 1708.8797550\ttotal: 1.29s\tremaining: 453ms\n",
      "74:\tlearn: 1706.9744302\ttotal: 1.3s\tremaining: 435ms\n",
      "75:\tlearn: 1705.6810303\ttotal: 1.32s\tremaining: 417ms\n",
      "76:\tlearn: 1704.1062173\ttotal: 1.34s\tremaining: 400ms\n",
      "77:\tlearn: 1703.1632586\ttotal: 1.36s\tremaining: 383ms\n",
      "78:\tlearn: 1701.9635529\ttotal: 1.37s\tremaining: 365ms\n",
      "79:\tlearn: 1700.3641273\ttotal: 1.39s\tremaining: 347ms\n",
      "80:\tlearn: 1699.1242283\ttotal: 1.4s\tremaining: 329ms\n",
      "81:\tlearn: 1698.2454324\ttotal: 1.42s\tremaining: 312ms\n",
      "82:\tlearn: 1697.4605220\ttotal: 1.44s\tremaining: 294ms\n",
      "83:\tlearn: 1695.1784531\ttotal: 1.45s\tremaining: 276ms\n",
      "84:\tlearn: 1693.9024475\ttotal: 1.47s\tremaining: 260ms\n",
      "85:\tlearn: 1692.8436083\ttotal: 1.49s\tremaining: 242ms\n",
      "86:\tlearn: 1691.6677784\ttotal: 1.5s\tremaining: 225ms\n",
      "87:\tlearn: 1689.1588537\ttotal: 1.52s\tremaining: 208ms\n",
      "88:\tlearn: 1687.9619710\ttotal: 1.54s\tremaining: 190ms\n",
      "89:\tlearn: 1686.2344445\ttotal: 1.56s\tremaining: 173ms\n",
      "90:\tlearn: 1685.0452084\ttotal: 1.57s\tremaining: 156ms\n",
      "91:\tlearn: 1683.7624109\ttotal: 1.59s\tremaining: 138ms\n",
      "92:\tlearn: 1682.6013780\ttotal: 1.61s\tremaining: 121ms\n",
      "93:\tlearn: 1681.7837546\ttotal: 1.63s\tremaining: 104ms\n",
      "94:\tlearn: 1680.8156177\ttotal: 1.65s\tremaining: 86.6ms\n",
      "95:\tlearn: 1680.2501440\ttotal: 1.66s\tremaining: 69.3ms\n",
      "96:\tlearn: 1679.5049624\ttotal: 1.68s\tremaining: 51.9ms\n",
      "97:\tlearn: 1678.6381832\ttotal: 1.7s\tremaining: 34.6ms\n",
      "98:\tlearn: 1677.7564756\ttotal: 1.71s\tremaining: 17.3ms\n",
      "99:\tlearn: 1675.8595868\ttotal: 1.73s\tremaining: 0us\n",
      "0:\tlearn: 3144.2200179\ttotal: 21.7ms\tremaining: 2.15s\n",
      "1:\tlearn: 2707.0953015\ttotal: 38.6ms\tremaining: 1.89s\n",
      "2:\tlearn: 2487.1696922\ttotal: 56.4ms\tremaining: 1.82s\n",
      "3:\tlearn: 2370.6342173\ttotal: 74.5ms\tremaining: 1.79s\n",
      "4:\tlearn: 2302.5383262\ttotal: 91.9ms\tremaining: 1.75s\n",
      "5:\tlearn: 2249.3552692\ttotal: 110ms\tremaining: 1.73s\n",
      "6:\tlearn: 2207.2743425\ttotal: 129ms\tremaining: 1.72s\n",
      "7:\tlearn: 2173.3508995\ttotal: 146ms\tremaining: 1.68s\n",
      "8:\tlearn: 2144.6893700\ttotal: 164ms\tremaining: 1.65s\n",
      "9:\tlearn: 2118.5561631\ttotal: 181ms\tremaining: 1.63s\n",
      "10:\tlearn: 2090.2173550\ttotal: 198ms\tremaining: 1.6s\n",
      "11:\tlearn: 2048.4674663\ttotal: 217ms\tremaining: 1.59s\n",
      "12:\tlearn: 2024.7963710\ttotal: 235ms\tremaining: 1.57s\n",
      "13:\tlearn: 2001.9965996\ttotal: 252ms\tremaining: 1.55s\n",
      "14:\tlearn: 1989.7976781\ttotal: 268ms\tremaining: 1.52s\n",
      "15:\tlearn: 1968.7776597\ttotal: 288ms\tremaining: 1.51s\n",
      "16:\tlearn: 1950.1570108\ttotal: 307ms\tremaining: 1.5s\n",
      "17:\tlearn: 1936.8217063\ttotal: 326ms\tremaining: 1.49s\n",
      "18:\tlearn: 1925.4297161\ttotal: 344ms\tremaining: 1.47s\n",
      "19:\tlearn: 1911.8574710\ttotal: 361ms\tremaining: 1.45s\n",
      "20:\tlearn: 1901.6378715\ttotal: 381ms\tremaining: 1.43s\n",
      "21:\tlearn: 1893.0843139\ttotal: 400ms\tremaining: 1.42s\n",
      "22:\tlearn: 1883.9278968\ttotal: 420ms\tremaining: 1.4s\n",
      "23:\tlearn: 1877.4742530\ttotal: 439ms\tremaining: 1.39s\n",
      "24:\tlearn: 1870.9426181\ttotal: 457ms\tremaining: 1.37s\n",
      "25:\tlearn: 1864.7761477\ttotal: 475ms\tremaining: 1.35s\n",
      "26:\tlearn: 1854.1595329\ttotal: 494ms\tremaining: 1.33s\n",
      "27:\tlearn: 1847.8345926\ttotal: 512ms\tremaining: 1.32s\n",
      "28:\tlearn: 1841.7907917\ttotal: 532ms\tremaining: 1.3s\n",
      "29:\tlearn: 1831.3721351\ttotal: 552ms\tremaining: 1.29s\n",
      "30:\tlearn: 1827.0563706\ttotal: 569ms\tremaining: 1.27s\n",
      "31:\tlearn: 1820.6860067\ttotal: 589ms\tremaining: 1.25s\n",
      "32:\tlearn: 1815.9061768\ttotal: 607ms\tremaining: 1.23s\n",
      "33:\tlearn: 1812.1012368\ttotal: 626ms\tremaining: 1.21s\n",
      "34:\tlearn: 1807.9221167\ttotal: 644ms\tremaining: 1.2s\n",
      "35:\tlearn: 1802.8489666\ttotal: 661ms\tremaining: 1.17s\n",
      "36:\tlearn: 1798.3217595\ttotal: 680ms\tremaining: 1.16s\n",
      "37:\tlearn: 1795.6187653\ttotal: 697ms\tremaining: 1.14s\n",
      "38:\tlearn: 1792.6739499\ttotal: 714ms\tremaining: 1.12s\n",
      "39:\tlearn: 1790.4322748\ttotal: 732ms\tremaining: 1.1s\n",
      "40:\tlearn: 1787.3369203\ttotal: 748ms\tremaining: 1.08s\n",
      "41:\tlearn: 1783.2673431\ttotal: 765ms\tremaining: 1.05s\n",
      "42:\tlearn: 1780.8464197\ttotal: 781ms\tremaining: 1.03s\n",
      "43:\tlearn: 1776.0261180\ttotal: 798ms\tremaining: 1.01s\n",
      "44:\tlearn: 1767.6896679\ttotal: 816ms\tremaining: 997ms\n",
      "45:\tlearn: 1764.7653735\ttotal: 832ms\tremaining: 977ms\n",
      "46:\tlearn: 1762.8594618\ttotal: 849ms\tremaining: 957ms\n",
      "47:\tlearn: 1760.1763603\ttotal: 869ms\tremaining: 941ms\n",
      "48:\tlearn: 1757.6932206\ttotal: 888ms\tremaining: 924ms\n",
      "49:\tlearn: 1754.7799931\ttotal: 905ms\tremaining: 905ms\n",
      "50:\tlearn: 1752.3650572\ttotal: 922ms\tremaining: 886ms\n",
      "51:\tlearn: 1751.2470012\ttotal: 938ms\tremaining: 866ms\n",
      "52:\tlearn: 1749.0756252\ttotal: 955ms\tremaining: 847ms\n",
      "53:\tlearn: 1747.7516204\ttotal: 972ms\tremaining: 828ms\n",
      "54:\tlearn: 1745.9466649\ttotal: 990ms\tremaining: 810ms\n",
      "55:\tlearn: 1744.3155533\ttotal: 1.01s\tremaining: 792ms\n",
      "56:\tlearn: 1742.5106979\ttotal: 1.02s\tremaining: 773ms\n",
      "57:\tlearn: 1740.8044739\ttotal: 1.04s\tremaining: 755ms\n",
      "58:\tlearn: 1738.9089445\ttotal: 1.06s\tremaining: 737ms\n",
      "59:\tlearn: 1737.1938545\ttotal: 1.08s\tremaining: 722ms\n",
      "60:\tlearn: 1736.1264927\ttotal: 1.1s\tremaining: 705ms\n",
      "61:\tlearn: 1734.9605442\ttotal: 1.12s\tremaining: 687ms\n",
      "62:\tlearn: 1733.6695363\ttotal: 1.14s\tremaining: 669ms\n",
      "63:\tlearn: 1732.0965501\ttotal: 1.16s\tremaining: 654ms\n",
      "64:\tlearn: 1730.2195304\ttotal: 1.18s\tremaining: 638ms\n",
      "65:\tlearn: 1729.0674553\ttotal: 1.2s\tremaining: 621ms\n",
      "66:\tlearn: 1727.9559726\ttotal: 1.22s\tremaining: 603ms\n",
      "67:\tlearn: 1727.0041172\ttotal: 1.24s\tremaining: 585ms\n",
      "68:\tlearn: 1722.8344281\ttotal: 1.26s\tremaining: 568ms\n",
      "69:\tlearn: 1721.1227318\ttotal: 1.28s\tremaining: 550ms\n",
      "70:\tlearn: 1719.7209472\ttotal: 1.3s\tremaining: 533ms\n",
      "71:\tlearn: 1717.6593942\ttotal: 1.32s\tremaining: 514ms\n",
      "72:\tlearn: 1715.1513660\ttotal: 1.34s\tremaining: 496ms\n",
      "73:\tlearn: 1713.8438572\ttotal: 1.36s\tremaining: 477ms\n",
      "74:\tlearn: 1712.0802406\ttotal: 1.37s\tremaining: 458ms\n",
      "75:\tlearn: 1709.3706567\ttotal: 1.39s\tremaining: 440ms\n",
      "76:\tlearn: 1707.2616115\ttotal: 1.41s\tremaining: 420ms\n",
      "77:\tlearn: 1705.9429149\ttotal: 1.42s\tremaining: 402ms\n",
      "78:\tlearn: 1705.1206768\ttotal: 1.44s\tremaining: 383ms\n",
      "79:\tlearn: 1703.2774175\ttotal: 1.46s\tremaining: 364ms\n",
      "80:\tlearn: 1701.7561871\ttotal: 1.47s\tremaining: 345ms\n",
      "81:\tlearn: 1700.3694273\ttotal: 1.49s\tremaining: 327ms\n",
      "82:\tlearn: 1699.4855841\ttotal: 1.5s\tremaining: 308ms\n",
      "83:\tlearn: 1698.0618286\ttotal: 1.52s\tremaining: 290ms\n",
      "84:\tlearn: 1697.2469355\ttotal: 1.54s\tremaining: 272ms\n",
      "85:\tlearn: 1696.1562031\ttotal: 1.56s\tremaining: 254ms\n",
      "86:\tlearn: 1694.0964043\ttotal: 1.58s\tremaining: 236ms\n",
      "87:\tlearn: 1692.0115908\ttotal: 1.59s\tremaining: 218ms\n",
      "88:\tlearn: 1690.7996711\ttotal: 1.61s\tremaining: 199ms\n",
      "89:\tlearn: 1690.0211082\ttotal: 1.63s\tremaining: 181ms\n",
      "90:\tlearn: 1688.8168589\ttotal: 1.65s\tremaining: 163ms\n",
      "91:\tlearn: 1687.8866392\ttotal: 1.67s\tremaining: 145ms\n",
      "92:\tlearn: 1687.1518033\ttotal: 1.68s\tremaining: 127ms\n",
      "93:\tlearn: 1686.2898809\ttotal: 1.7s\tremaining: 108ms\n",
      "94:\tlearn: 1684.6596109\ttotal: 1.72s\tremaining: 90.3ms\n",
      "95:\tlearn: 1683.6623452\ttotal: 1.73s\tremaining: 72.3ms\n",
      "96:\tlearn: 1683.0913589\ttotal: 1.75s\tremaining: 54.1ms\n",
      "97:\tlearn: 1682.8120913\ttotal: 1.77s\tremaining: 36ms\n",
      "98:\tlearn: 1682.2475075\ttotal: 1.78s\tremaining: 18ms\n",
      "99:\tlearn: 1681.7231602\ttotal: 1.8s\tremaining: 0us\n",
      "0:\tlearn: 3149.4881721\ttotal: 18.6ms\tremaining: 1.84s\n",
      "1:\tlearn: 2713.3983350\ttotal: 38.7ms\tremaining: 1.9s\n",
      "2:\tlearn: 2495.7464639\ttotal: 55.8ms\tremaining: 1.8s\n",
      "3:\tlearn: 2378.4449339\ttotal: 71.3ms\tremaining: 1.71s\n",
      "4:\tlearn: 2310.8625599\ttotal: 89.1ms\tremaining: 1.69s\n",
      "5:\tlearn: 2255.8210652\ttotal: 106ms\tremaining: 1.66s\n",
      "6:\tlearn: 2213.5069585\ttotal: 122ms\tremaining: 1.63s\n",
      "7:\tlearn: 2176.1231607\ttotal: 142ms\tremaining: 1.63s\n",
      "8:\tlearn: 2149.7656808\ttotal: 159ms\tremaining: 1.61s\n",
      "9:\tlearn: 2129.2705173\ttotal: 177ms\tremaining: 1.59s\n",
      "10:\tlearn: 2100.4792549\ttotal: 194ms\tremaining: 1.57s\n",
      "11:\tlearn: 2075.7109151\ttotal: 211ms\tremaining: 1.55s\n",
      "12:\tlearn: 2051.2042156\ttotal: 230ms\tremaining: 1.54s\n",
      "13:\tlearn: 2040.3478877\ttotal: 247ms\tremaining: 1.52s\n",
      "14:\tlearn: 2020.6092669\ttotal: 266ms\tremaining: 1.5s\n",
      "15:\tlearn: 1997.2312706\ttotal: 282ms\tremaining: 1.48s\n",
      "16:\tlearn: 1984.0613959\ttotal: 299ms\tremaining: 1.46s\n",
      "17:\tlearn: 1965.6458776\ttotal: 317ms\tremaining: 1.44s\n",
      "18:\tlearn: 1953.4616250\ttotal: 339ms\tremaining: 1.44s\n",
      "19:\tlearn: 1938.1894609\ttotal: 357ms\tremaining: 1.43s\n",
      "20:\tlearn: 1919.0624886\ttotal: 374ms\tremaining: 1.41s\n",
      "21:\tlearn: 1901.9900734\ttotal: 394ms\tremaining: 1.4s\n",
      "22:\tlearn: 1892.1067246\ttotal: 411ms\tremaining: 1.38s\n",
      "23:\tlearn: 1885.5437842\ttotal: 427ms\tremaining: 1.35s\n",
      "24:\tlearn: 1881.0754314\ttotal: 445ms\tremaining: 1.33s\n",
      "25:\tlearn: 1869.9630182\ttotal: 462ms\tremaining: 1.31s\n",
      "26:\tlearn: 1865.0195502\ttotal: 479ms\tremaining: 1.29s\n",
      "27:\tlearn: 1858.3829281\ttotal: 495ms\tremaining: 1.27s\n",
      "28:\tlearn: 1851.4307200\ttotal: 510ms\tremaining: 1.25s\n",
      "29:\tlearn: 1846.4050922\ttotal: 531ms\tremaining: 1.24s\n",
      "30:\tlearn: 1841.2389033\ttotal: 547ms\tremaining: 1.22s\n",
      "31:\tlearn: 1837.4444613\ttotal: 564ms\tremaining: 1.2s\n",
      "32:\tlearn: 1829.0530585\ttotal: 582ms\tremaining: 1.18s\n",
      "33:\tlearn: 1822.7342415\ttotal: 598ms\tremaining: 1.16s\n",
      "34:\tlearn: 1817.7896505\ttotal: 615ms\tremaining: 1.14s\n",
      "35:\tlearn: 1812.3420250\ttotal: 631ms\tremaining: 1.12s\n",
      "36:\tlearn: 1807.7829585\ttotal: 648ms\tremaining: 1.1s\n",
      "37:\tlearn: 1804.9808900\ttotal: 665ms\tremaining: 1.08s\n",
      "38:\tlearn: 1801.1049190\ttotal: 682ms\tremaining: 1.07s\n",
      "39:\tlearn: 1797.3751638\ttotal: 699ms\tremaining: 1.05s\n",
      "40:\tlearn: 1794.4853813\ttotal: 718ms\tremaining: 1.03s\n",
      "41:\tlearn: 1791.7742495\ttotal: 734ms\tremaining: 1.01s\n",
      "42:\tlearn: 1788.4472074\ttotal: 751ms\tremaining: 996ms\n",
      "43:\tlearn: 1785.8507569\ttotal: 768ms\tremaining: 978ms\n",
      "44:\tlearn: 1779.7473230\ttotal: 785ms\tremaining: 960ms\n",
      "45:\tlearn: 1777.3221990\ttotal: 802ms\tremaining: 941ms\n",
      "46:\tlearn: 1774.1511445\ttotal: 817ms\tremaining: 922ms\n",
      "47:\tlearn: 1772.8952954\ttotal: 833ms\tremaining: 902ms\n",
      "48:\tlearn: 1769.6085319\ttotal: 850ms\tremaining: 885ms\n",
      "49:\tlearn: 1767.4793254\ttotal: 869ms\tremaining: 869ms\n",
      "50:\tlearn: 1765.2170041\ttotal: 887ms\tremaining: 852ms\n",
      "51:\tlearn: 1762.3102237\ttotal: 907ms\tremaining: 837ms\n",
      "52:\tlearn: 1760.8559794\ttotal: 926ms\tremaining: 821ms\n",
      "53:\tlearn: 1758.1111944\ttotal: 943ms\tremaining: 803ms\n",
      "54:\tlearn: 1755.8092254\ttotal: 960ms\tremaining: 785ms\n",
      "55:\tlearn: 1753.7880140\ttotal: 976ms\tremaining: 767ms\n",
      "56:\tlearn: 1750.5687008\ttotal: 993ms\tremaining: 749ms\n",
      "57:\tlearn: 1748.5648423\ttotal: 1.01s\tremaining: 732ms\n",
      "58:\tlearn: 1746.1818241\ttotal: 1.03s\tremaining: 715ms\n",
      "59:\tlearn: 1744.7050102\ttotal: 1.05s\tremaining: 698ms\n",
      "60:\tlearn: 1743.0402077\ttotal: 1.06s\tremaining: 680ms\n",
      "61:\tlearn: 1741.3272894\ttotal: 1.08s\tremaining: 662ms\n",
      "62:\tlearn: 1738.4181465\ttotal: 1.1s\tremaining: 645ms\n",
      "63:\tlearn: 1736.1209307\ttotal: 1.11s\tremaining: 627ms\n",
      "64:\tlearn: 1734.6417942\ttotal: 1.13s\tremaining: 608ms\n",
      "65:\tlearn: 1732.1536331\ttotal: 1.15s\tremaining: 591ms\n",
      "66:\tlearn: 1730.5031034\ttotal: 1.16s\tremaining: 573ms\n",
      "67:\tlearn: 1729.4525046\ttotal: 1.18s\tremaining: 555ms\n",
      "68:\tlearn: 1727.7815055\ttotal: 1.2s\tremaining: 537ms\n",
      "69:\tlearn: 1725.9256461\ttotal: 1.21s\tremaining: 520ms\n",
      "70:\tlearn: 1723.0647897\ttotal: 1.23s\tremaining: 503ms\n",
      "71:\tlearn: 1720.7203080\ttotal: 1.25s\tremaining: 485ms\n",
      "72:\tlearn: 1718.6270402\ttotal: 1.26s\tremaining: 467ms\n",
      "73:\tlearn: 1716.9486846\ttotal: 1.28s\tremaining: 450ms\n",
      "74:\tlearn: 1715.4288633\ttotal: 1.3s\tremaining: 434ms\n",
      "75:\tlearn: 1714.2946786\ttotal: 1.32s\tremaining: 416ms\n",
      "76:\tlearn: 1713.1473936\ttotal: 1.34s\tremaining: 400ms\n",
      "77:\tlearn: 1711.9539175\ttotal: 1.36s\tremaining: 382ms\n",
      "78:\tlearn: 1710.2208473\ttotal: 1.37s\tremaining: 365ms\n",
      "79:\tlearn: 1709.1229605\ttotal: 1.39s\tremaining: 347ms\n",
      "80:\tlearn: 1707.9210484\ttotal: 1.4s\tremaining: 329ms\n",
      "81:\tlearn: 1706.7313208\ttotal: 1.42s\tremaining: 312ms\n",
      "82:\tlearn: 1706.0609079\ttotal: 1.44s\tremaining: 295ms\n",
      "83:\tlearn: 1703.3643108\ttotal: 1.46s\tremaining: 277ms\n",
      "84:\tlearn: 1702.4197507\ttotal: 1.47s\tremaining: 260ms\n",
      "85:\tlearn: 1701.2900182\ttotal: 1.49s\tremaining: 243ms\n",
      "86:\tlearn: 1700.3417820\ttotal: 1.51s\tremaining: 225ms\n",
      "87:\tlearn: 1699.5935062\ttotal: 1.52s\tremaining: 208ms\n",
      "88:\tlearn: 1698.0613120\ttotal: 1.54s\tremaining: 191ms\n",
      "89:\tlearn: 1697.3567337\ttotal: 1.56s\tremaining: 173ms\n",
      "90:\tlearn: 1696.2199577\ttotal: 1.57s\tremaining: 156ms\n",
      "91:\tlearn: 1695.4854679\ttotal: 1.59s\tremaining: 138ms\n",
      "92:\tlearn: 1693.2100829\ttotal: 1.6s\tremaining: 121ms\n",
      "93:\tlearn: 1691.9476788\ttotal: 1.62s\tremaining: 104ms\n",
      "94:\tlearn: 1690.9330335\ttotal: 1.64s\tremaining: 86.4ms\n",
      "95:\tlearn: 1690.3496766\ttotal: 1.66s\tremaining: 69.1ms\n",
      "96:\tlearn: 1685.9370375\ttotal: 1.68s\tremaining: 51.8ms\n",
      "97:\tlearn: 1684.0207037\ttotal: 1.69s\tremaining: 34.5ms\n",
      "98:\tlearn: 1683.4507044\ttotal: 1.71s\tremaining: 17.3ms\n",
      "99:\tlearn: 1681.9517072\ttotal: 1.73s\tremaining: 0us\n",
      "0:\tlearn: 2766.0690054\ttotal: 26.6ms\tremaining: 239ms\n",
      "1:\tlearn: 2264.3641123\ttotal: 53.9ms\tremaining: 215ms\n",
      "2:\tlearn: 2094.0360052\ttotal: 78.9ms\tremaining: 184ms\n",
      "3:\tlearn: 2013.0601453\ttotal: 104ms\tremaining: 156ms\n",
      "4:\tlearn: 1926.7619706\ttotal: 130ms\tremaining: 130ms\n",
      "5:\tlearn: 1883.3123047\ttotal: 157ms\tremaining: 105ms\n",
      "6:\tlearn: 1854.9603269\ttotal: 182ms\tremaining: 77.9ms\n",
      "7:\tlearn: 1830.6316448\ttotal: 208ms\tremaining: 52.1ms\n",
      "8:\tlearn: 1815.8266750\ttotal: 232ms\tremaining: 25.8ms\n",
      "9:\tlearn: 1797.2389606\ttotal: 257ms\tremaining: 0us\n",
      "0:\tlearn: 2771.4188079\ttotal: 24.3ms\tremaining: 219ms\n",
      "1:\tlearn: 2267.3261961\ttotal: 49.5ms\tremaining: 198ms\n",
      "2:\tlearn: 2095.3277251\ttotal: 74.5ms\tremaining: 174ms\n",
      "3:\tlearn: 2024.2276539\ttotal: 98ms\tremaining: 147ms\n",
      "4:\tlearn: 1962.3095809\ttotal: 123ms\tremaining: 123ms\n",
      "5:\tlearn: 1906.2628184\ttotal: 147ms\tremaining: 97.8ms\n",
      "6:\tlearn: 1871.8496141\ttotal: 171ms\tremaining: 73.5ms\n",
      "7:\tlearn: 1849.1774779\ttotal: 194ms\tremaining: 48.5ms\n",
      "8:\tlearn: 1830.4577425\ttotal: 218ms\tremaining: 24.3ms\n",
      "9:\tlearn: 1804.5986741\ttotal: 242ms\tremaining: 0us\n",
      "0:\tlearn: 2756.1523529\ttotal: 26.5ms\tremaining: 239ms\n",
      "1:\tlearn: 2248.2673549\ttotal: 53.7ms\tremaining: 215ms\n",
      "2:\tlearn: 2070.5050111\ttotal: 78.6ms\tremaining: 183ms\n",
      "3:\tlearn: 1993.3331202\ttotal: 102ms\tremaining: 152ms\n",
      "4:\tlearn: 1946.2984513\ttotal: 126ms\tremaining: 126ms\n",
      "5:\tlearn: 1881.4674729\ttotal: 151ms\tremaining: 101ms\n",
      "6:\tlearn: 1854.8636442\ttotal: 175ms\tremaining: 74.8ms\n",
      "7:\tlearn: 1827.1238505\ttotal: 200ms\tremaining: 49.9ms\n",
      "8:\tlearn: 1805.9418585\ttotal: 227ms\tremaining: 25.2ms\n",
      "9:\tlearn: 1786.9042925\ttotal: 252ms\tremaining: 0us\n",
      "0:\tlearn: 2753.7064566\ttotal: 27.6ms\tremaining: 248ms\n",
      "1:\tlearn: 2244.7731299\ttotal: 55.1ms\tremaining: 220ms\n",
      "2:\tlearn: 2067.7065694\ttotal: 80.7ms\tremaining: 188ms\n",
      "3:\tlearn: 1990.3234084\ttotal: 105ms\tremaining: 158ms\n",
      "4:\tlearn: 1943.7753463\ttotal: 130ms\tremaining: 130ms\n",
      "5:\tlearn: 1876.8323981\ttotal: 160ms\tremaining: 106ms\n",
      "6:\tlearn: 1851.2206478\ttotal: 184ms\tremaining: 79ms\n",
      "7:\tlearn: 1835.8539922\ttotal: 210ms\tremaining: 52.4ms\n",
      "8:\tlearn: 1807.5573344\ttotal: 235ms\tremaining: 26.1ms\n",
      "9:\tlearn: 1783.9360582\ttotal: 262ms\tremaining: 0us\n",
      "0:\tlearn: 2760.5057671\ttotal: 24.9ms\tremaining: 225ms\n",
      "1:\tlearn: 2253.2988096\ttotal: 50ms\tremaining: 200ms\n",
      "2:\tlearn: 2078.3856808\ttotal: 74.8ms\tremaining: 174ms\n",
      "3:\tlearn: 2010.1439252\ttotal: 97.6ms\tremaining: 146ms\n",
      "4:\tlearn: 1953.2943499\ttotal: 125ms\tremaining: 125ms\n",
      "5:\tlearn: 1886.6847218\ttotal: 152ms\tremaining: 101ms\n",
      "6:\tlearn: 1849.2533641\ttotal: 176ms\tremaining: 75.2ms\n",
      "7:\tlearn: 1813.2915454\ttotal: 201ms\tremaining: 50.2ms\n",
      "8:\tlearn: 1795.4805836\ttotal: 225ms\tremaining: 25ms\n",
      "9:\tlearn: 1781.0243404\ttotal: 253ms\tremaining: 0us\n",
      "0:\tlearn: 2766.0690054\ttotal: 25.3ms\tremaining: 1.24s\n",
      "1:\tlearn: 2264.3641123\ttotal: 52.3ms\tremaining: 1.25s\n",
      "2:\tlearn: 2094.0360052\ttotal: 76ms\tremaining: 1.19s\n",
      "3:\tlearn: 2013.0601453\ttotal: 101ms\tremaining: 1.16s\n",
      "4:\tlearn: 1926.7619706\ttotal: 128ms\tremaining: 1.15s\n",
      "5:\tlearn: 1883.3123047\ttotal: 155ms\tremaining: 1.14s\n",
      "6:\tlearn: 1854.9603269\ttotal: 180ms\tremaining: 1.1s\n",
      "7:\tlearn: 1830.6316448\ttotal: 205ms\tremaining: 1.08s\n",
      "8:\tlearn: 1815.8266750\ttotal: 231ms\tremaining: 1.05s\n",
      "9:\tlearn: 1797.2389606\ttotal: 259ms\tremaining: 1.03s\n",
      "10:\tlearn: 1781.3678961\ttotal: 284ms\tremaining: 1.01s\n",
      "11:\tlearn: 1768.5729110\ttotal: 312ms\tremaining: 989ms\n",
      "12:\tlearn: 1756.1004484\ttotal: 337ms\tremaining: 960ms\n",
      "13:\tlearn: 1744.6180988\ttotal: 361ms\tremaining: 929ms\n",
      "14:\tlearn: 1735.2835161\ttotal: 386ms\tremaining: 900ms\n",
      "15:\tlearn: 1725.2562477\ttotal: 413ms\tremaining: 877ms\n",
      "16:\tlearn: 1716.0735521\ttotal: 439ms\tremaining: 853ms\n",
      "17:\tlearn: 1704.0465346\ttotal: 466ms\tremaining: 828ms\n",
      "18:\tlearn: 1695.9074387\ttotal: 495ms\tremaining: 808ms\n",
      "19:\tlearn: 1686.1927175\ttotal: 520ms\tremaining: 780ms\n",
      "20:\tlearn: 1677.0421479\ttotal: 546ms\tremaining: 754ms\n",
      "21:\tlearn: 1671.0700757\ttotal: 571ms\tremaining: 726ms\n",
      "22:\tlearn: 1665.2012152\ttotal: 597ms\tremaining: 700ms\n",
      "23:\tlearn: 1658.1651212\ttotal: 622ms\tremaining: 674ms\n",
      "24:\tlearn: 1654.5572322\ttotal: 647ms\tremaining: 647ms\n",
      "25:\tlearn: 1648.9839984\ttotal: 672ms\tremaining: 620ms\n",
      "26:\tlearn: 1646.4637903\ttotal: 698ms\tremaining: 594ms\n",
      "27:\tlearn: 1642.1812118\ttotal: 724ms\tremaining: 569ms\n",
      "28:\tlearn: 1638.2910981\ttotal: 747ms\tremaining: 541ms\n",
      "29:\tlearn: 1632.3889243\ttotal: 777ms\tremaining: 518ms\n",
      "30:\tlearn: 1627.7010100\ttotal: 803ms\tremaining: 492ms\n",
      "31:\tlearn: 1622.6577055\ttotal: 827ms\tremaining: 465ms\n",
      "32:\tlearn: 1616.6254890\ttotal: 853ms\tremaining: 440ms\n",
      "33:\tlearn: 1610.3640801\ttotal: 877ms\tremaining: 413ms\n",
      "34:\tlearn: 1605.0657293\ttotal: 901ms\tremaining: 386ms\n",
      "35:\tlearn: 1600.2520528\ttotal: 926ms\tremaining: 360ms\n",
      "36:\tlearn: 1596.5854564\ttotal: 951ms\tremaining: 334ms\n",
      "37:\tlearn: 1593.3769414\ttotal: 978ms\tremaining: 309ms\n",
      "38:\tlearn: 1589.4962399\ttotal: 1s\tremaining: 283ms\n",
      "39:\tlearn: 1584.8400068\ttotal: 1.03s\tremaining: 258ms\n",
      "40:\tlearn: 1581.2661466\ttotal: 1.06s\tremaining: 232ms\n",
      "41:\tlearn: 1576.9561690\ttotal: 1.08s\tremaining: 206ms\n",
      "42:\tlearn: 1572.9615314\ttotal: 1.11s\tremaining: 181ms\n",
      "43:\tlearn: 1570.6871839\ttotal: 1.14s\tremaining: 155ms\n",
      "44:\tlearn: 1567.6971309\ttotal: 1.16s\tremaining: 129ms\n",
      "45:\tlearn: 1565.5049036\ttotal: 1.18s\tremaining: 103ms\n",
      "46:\tlearn: 1561.7741596\ttotal: 1.21s\tremaining: 77.2ms\n",
      "47:\tlearn: 1559.0722733\ttotal: 1.23s\tremaining: 51.4ms\n",
      "48:\tlearn: 1555.8512098\ttotal: 1.26s\tremaining: 25.7ms\n",
      "49:\tlearn: 1553.1603428\ttotal: 1.28s\tremaining: 0us\n",
      "0:\tlearn: 2771.4188079\ttotal: 24.9ms\tremaining: 1.22s\n",
      "1:\tlearn: 2267.3261961\ttotal: 49.7ms\tremaining: 1.19s\n",
      "2:\tlearn: 2095.3277251\ttotal: 76.4ms\tremaining: 1.2s\n",
      "3:\tlearn: 2024.2276539\ttotal: 105ms\tremaining: 1.21s\n",
      "4:\tlearn: 1962.3095809\ttotal: 129ms\tremaining: 1.16s\n",
      "5:\tlearn: 1906.2628184\ttotal: 152ms\tremaining: 1.12s\n",
      "6:\tlearn: 1871.8496141\ttotal: 179ms\tremaining: 1.1s\n",
      "7:\tlearn: 1849.1774779\ttotal: 205ms\tremaining: 1.07s\n",
      "8:\tlearn: 1830.4577425\ttotal: 231ms\tremaining: 1.05s\n",
      "9:\tlearn: 1804.5986741\ttotal: 258ms\tremaining: 1.03s\n",
      "10:\tlearn: 1779.1966326\ttotal: 283ms\tremaining: 1s\n",
      "11:\tlearn: 1767.6530759\ttotal: 306ms\tremaining: 968ms\n",
      "12:\tlearn: 1755.9558652\ttotal: 328ms\tremaining: 932ms\n",
      "13:\tlearn: 1742.5315915\ttotal: 350ms\tremaining: 899ms\n",
      "14:\tlearn: 1732.5161986\ttotal: 374ms\tremaining: 874ms\n",
      "15:\tlearn: 1722.2383864\ttotal: 399ms\tremaining: 848ms\n",
      "16:\tlearn: 1714.2957992\ttotal: 422ms\tremaining: 819ms\n",
      "17:\tlearn: 1704.1781915\ttotal: 450ms\tremaining: 800ms\n",
      "18:\tlearn: 1692.4319161\ttotal: 476ms\tremaining: 777ms\n",
      "19:\tlearn: 1685.2872932\ttotal: 500ms\tremaining: 750ms\n",
      "20:\tlearn: 1678.0734872\ttotal: 524ms\tremaining: 723ms\n",
      "21:\tlearn: 1671.1589797\ttotal: 547ms\tremaining: 696ms\n",
      "22:\tlearn: 1665.9443877\ttotal: 570ms\tremaining: 669ms\n",
      "23:\tlearn: 1660.7957370\ttotal: 594ms\tremaining: 644ms\n",
      "24:\tlearn: 1656.1454639\ttotal: 620ms\tremaining: 620ms\n",
      "25:\tlearn: 1648.6300810\ttotal: 644ms\tremaining: 594ms\n",
      "26:\tlearn: 1645.1420238\ttotal: 669ms\tremaining: 570ms\n",
      "27:\tlearn: 1641.9254995\ttotal: 691ms\tremaining: 543ms\n",
      "28:\tlearn: 1637.2245439\ttotal: 721ms\tremaining: 522ms\n",
      "29:\tlearn: 1633.0002641\ttotal: 745ms\tremaining: 496ms\n",
      "30:\tlearn: 1625.3674075\ttotal: 769ms\tremaining: 472ms\n",
      "31:\tlearn: 1621.0689521\ttotal: 791ms\tremaining: 445ms\n",
      "32:\tlearn: 1616.9933948\ttotal: 816ms\tremaining: 420ms\n",
      "33:\tlearn: 1610.8193503\ttotal: 843ms\tremaining: 397ms\n",
      "34:\tlearn: 1606.1963270\ttotal: 868ms\tremaining: 372ms\n",
      "35:\tlearn: 1602.8631369\ttotal: 894ms\tremaining: 348ms\n",
      "36:\tlearn: 1598.7436725\ttotal: 924ms\tremaining: 324ms\n",
      "37:\tlearn: 1594.3715047\ttotal: 948ms\tremaining: 299ms\n",
      "38:\tlearn: 1589.8040338\ttotal: 974ms\tremaining: 275ms\n",
      "39:\tlearn: 1585.4668141\ttotal: 1s\tremaining: 250ms\n",
      "40:\tlearn: 1582.2395099\ttotal: 1.02s\tremaining: 225ms\n",
      "41:\tlearn: 1577.4450436\ttotal: 1.05s\tremaining: 201ms\n",
      "42:\tlearn: 1574.9147783\ttotal: 1.08s\tremaining: 176ms\n",
      "43:\tlearn: 1571.4891724\ttotal: 1.11s\tremaining: 152ms\n",
      "44:\tlearn: 1567.5200303\ttotal: 1.14s\tremaining: 127ms\n",
      "45:\tlearn: 1565.1205444\ttotal: 1.17s\tremaining: 101ms\n",
      "46:\tlearn: 1560.7252581\ttotal: 1.19s\tremaining: 76.2ms\n",
      "47:\tlearn: 1559.0552077\ttotal: 1.22s\tremaining: 50.8ms\n",
      "48:\tlearn: 1557.3902130\ttotal: 1.24s\tremaining: 25.3ms\n",
      "49:\tlearn: 1554.8083099\ttotal: 1.27s\tremaining: 0us\n",
      "0:\tlearn: 2756.1523529\ttotal: 24.8ms\tremaining: 1.21s\n",
      "1:\tlearn: 2248.2673549\ttotal: 49.6ms\tremaining: 1.19s\n",
      "2:\tlearn: 2070.5050111\ttotal: 74.1ms\tremaining: 1.16s\n",
      "3:\tlearn: 1993.3331202\ttotal: 96.5ms\tremaining: 1.11s\n",
      "4:\tlearn: 1946.2984513\ttotal: 121ms\tremaining: 1.09s\n",
      "5:\tlearn: 1881.4674729\ttotal: 147ms\tremaining: 1.07s\n",
      "6:\tlearn: 1854.8636442\ttotal: 170ms\tremaining: 1.04s\n",
      "7:\tlearn: 1827.1238505\ttotal: 192ms\tremaining: 1.01s\n",
      "8:\tlearn: 1805.9418585\ttotal: 215ms\tremaining: 979ms\n",
      "9:\tlearn: 1786.9042925\ttotal: 240ms\tremaining: 959ms\n",
      "10:\tlearn: 1766.2286486\ttotal: 270ms\tremaining: 958ms\n",
      "11:\tlearn: 1751.5513192\ttotal: 295ms\tremaining: 935ms\n",
      "12:\tlearn: 1741.4438976\ttotal: 320ms\tremaining: 909ms\n",
      "13:\tlearn: 1732.0487579\ttotal: 342ms\tremaining: 878ms\n",
      "14:\tlearn: 1719.6225857\ttotal: 364ms\tremaining: 850ms\n",
      "15:\tlearn: 1708.7664615\ttotal: 386ms\tremaining: 821ms\n",
      "16:\tlearn: 1698.9520516\ttotal: 412ms\tremaining: 800ms\n",
      "17:\tlearn: 1691.4898512\ttotal: 435ms\tremaining: 774ms\n",
      "18:\tlearn: 1683.4933910\ttotal: 464ms\tremaining: 757ms\n",
      "19:\tlearn: 1677.2538841\ttotal: 490ms\tremaining: 735ms\n",
      "20:\tlearn: 1670.8588744\ttotal: 517ms\tremaining: 713ms\n",
      "21:\tlearn: 1666.7218981\ttotal: 542ms\tremaining: 690ms\n",
      "22:\tlearn: 1659.9139250\ttotal: 568ms\tremaining: 666ms\n",
      "23:\tlearn: 1653.7232857\ttotal: 594ms\tremaining: 644ms\n",
      "24:\tlearn: 1644.0218251\ttotal: 621ms\tremaining: 621ms\n",
      "25:\tlearn: 1638.1434121\ttotal: 644ms\tremaining: 595ms\n",
      "26:\tlearn: 1633.8988427\ttotal: 666ms\tremaining: 568ms\n",
      "27:\tlearn: 1627.7225893\ttotal: 694ms\tremaining: 546ms\n",
      "28:\tlearn: 1623.1556254\ttotal: 720ms\tremaining: 521ms\n",
      "29:\tlearn: 1617.0504192\ttotal: 745ms\tremaining: 497ms\n",
      "30:\tlearn: 1610.3747342\ttotal: 771ms\tremaining: 472ms\n",
      "31:\tlearn: 1606.5820996\ttotal: 795ms\tremaining: 447ms\n",
      "32:\tlearn: 1602.1790025\ttotal: 823ms\tremaining: 424ms\n",
      "33:\tlearn: 1598.8660950\ttotal: 847ms\tremaining: 398ms\n",
      "34:\tlearn: 1592.2740018\ttotal: 874ms\tremaining: 375ms\n",
      "35:\tlearn: 1588.9230280\ttotal: 898ms\tremaining: 349ms\n",
      "36:\tlearn: 1583.0499092\ttotal: 922ms\tremaining: 324ms\n",
      "37:\tlearn: 1578.5746547\ttotal: 947ms\tremaining: 299ms\n",
      "38:\tlearn: 1573.5072909\ttotal: 972ms\tremaining: 274ms\n",
      "39:\tlearn: 1569.8660094\ttotal: 996ms\tremaining: 249ms\n",
      "40:\tlearn: 1567.8702482\ttotal: 1.02s\tremaining: 224ms\n",
      "41:\tlearn: 1565.3542219\ttotal: 1.04s\tremaining: 199ms\n",
      "42:\tlearn: 1562.5572886\ttotal: 1.07s\tremaining: 174ms\n",
      "43:\tlearn: 1560.0898234\ttotal: 1.09s\tremaining: 149ms\n",
      "44:\tlearn: 1557.4972368\ttotal: 1.12s\tremaining: 124ms\n",
      "45:\tlearn: 1555.3959841\ttotal: 1.15s\tremaining: 99.8ms\n",
      "46:\tlearn: 1552.9958022\ttotal: 1.17s\tremaining: 74.9ms\n",
      "47:\tlearn: 1550.5885807\ttotal: 1.2s\tremaining: 50ms\n",
      "48:\tlearn: 1548.2565115\ttotal: 1.22s\tremaining: 25ms\n",
      "49:\tlearn: 1545.1652613\ttotal: 1.25s\tremaining: 0us\n",
      "0:\tlearn: 2753.7064566\ttotal: 24ms\tremaining: 1.18s\n",
      "1:\tlearn: 2244.7731299\ttotal: 49.7ms\tremaining: 1.19s\n",
      "2:\tlearn: 2067.7065694\ttotal: 71.9ms\tremaining: 1.13s\n",
      "3:\tlearn: 1990.3234084\ttotal: 93.9ms\tremaining: 1.08s\n",
      "4:\tlearn: 1943.7753463\ttotal: 117ms\tremaining: 1.05s\n",
      "5:\tlearn: 1876.8323981\ttotal: 142ms\tremaining: 1.04s\n",
      "6:\tlearn: 1851.2206478\ttotal: 168ms\tremaining: 1.03s\n",
      "7:\tlearn: 1835.8539922\ttotal: 191ms\tremaining: 1s\n",
      "8:\tlearn: 1807.5573344\ttotal: 215ms\tremaining: 978ms\n",
      "9:\tlearn: 1783.9360582\ttotal: 241ms\tremaining: 963ms\n",
      "10:\tlearn: 1768.7509360\ttotal: 266ms\tremaining: 944ms\n",
      "11:\tlearn: 1755.2815931\ttotal: 291ms\tremaining: 922ms\n",
      "12:\tlearn: 1746.1953606\ttotal: 316ms\tremaining: 900ms\n",
      "13:\tlearn: 1735.7207141\ttotal: 341ms\tremaining: 877ms\n",
      "14:\tlearn: 1722.4343717\ttotal: 366ms\tremaining: 855ms\n",
      "15:\tlearn: 1713.5802393\ttotal: 392ms\tremaining: 832ms\n",
      "16:\tlearn: 1706.7974995\ttotal: 416ms\tremaining: 807ms\n",
      "17:\tlearn: 1697.5229017\ttotal: 440ms\tremaining: 783ms\n",
      "18:\tlearn: 1690.4516219\ttotal: 467ms\tremaining: 761ms\n",
      "19:\tlearn: 1679.2241568\ttotal: 493ms\tremaining: 740ms\n",
      "20:\tlearn: 1671.8352412\ttotal: 520ms\tremaining: 718ms\n",
      "21:\tlearn: 1667.2518020\ttotal: 546ms\tremaining: 695ms\n",
      "22:\tlearn: 1661.0454957\ttotal: 573ms\tremaining: 672ms\n",
      "23:\tlearn: 1653.7139944\ttotal: 598ms\tremaining: 648ms\n",
      "24:\tlearn: 1646.1002709\ttotal: 624ms\tremaining: 624ms\n",
      "25:\tlearn: 1640.4190674\ttotal: 652ms\tremaining: 602ms\n",
      "26:\tlearn: 1635.2257075\ttotal: 677ms\tremaining: 576ms\n",
      "27:\tlearn: 1629.0034754\ttotal: 702ms\tremaining: 552ms\n",
      "28:\tlearn: 1624.0202373\ttotal: 728ms\tremaining: 527ms\n",
      "29:\tlearn: 1620.8745881\ttotal: 753ms\tremaining: 502ms\n",
      "30:\tlearn: 1615.4443591\ttotal: 782ms\tremaining: 479ms\n",
      "31:\tlearn: 1610.8594985\ttotal: 813ms\tremaining: 457ms\n",
      "32:\tlearn: 1608.0443509\ttotal: 843ms\tremaining: 434ms\n",
      "33:\tlearn: 1603.8394277\ttotal: 870ms\tremaining: 409ms\n",
      "34:\tlearn: 1598.2489091\ttotal: 896ms\tremaining: 384ms\n",
      "35:\tlearn: 1593.1033128\ttotal: 920ms\tremaining: 358ms\n",
      "36:\tlearn: 1588.3266032\ttotal: 946ms\tremaining: 332ms\n",
      "37:\tlearn: 1584.6393860\ttotal: 969ms\tremaining: 306ms\n",
      "38:\tlearn: 1580.9058180\ttotal: 995ms\tremaining: 281ms\n",
      "39:\tlearn: 1577.4733992\ttotal: 1.02s\tremaining: 255ms\n",
      "40:\tlearn: 1574.9210673\ttotal: 1.05s\tremaining: 230ms\n",
      "41:\tlearn: 1571.2290753\ttotal: 1.08s\tremaining: 205ms\n",
      "42:\tlearn: 1568.9626740\ttotal: 1.1s\tremaining: 179ms\n",
      "43:\tlearn: 1564.3564443\ttotal: 1.13s\tremaining: 154ms\n",
      "44:\tlearn: 1561.1759618\ttotal: 1.15s\tremaining: 128ms\n",
      "45:\tlearn: 1559.3074569\ttotal: 1.18s\tremaining: 102ms\n",
      "46:\tlearn: 1555.8258910\ttotal: 1.2s\tremaining: 76.7ms\n",
      "47:\tlearn: 1553.2955126\ttotal: 1.23s\tremaining: 51ms\n",
      "48:\tlearn: 1550.2166821\ttotal: 1.25s\tremaining: 25.5ms\n",
      "49:\tlearn: 1548.2034319\ttotal: 1.27s\tremaining: 0us\n",
      "0:\tlearn: 2760.5057671\ttotal: 23.5ms\tremaining: 1.15s\n",
      "1:\tlearn: 2253.2988096\ttotal: 47.5ms\tremaining: 1.14s\n",
      "2:\tlearn: 2078.3856808\ttotal: 71.3ms\tremaining: 1.12s\n",
      "3:\tlearn: 2010.1439252\ttotal: 95.6ms\tremaining: 1.1s\n",
      "4:\tlearn: 1953.2943499\ttotal: 121ms\tremaining: 1.09s\n",
      "5:\tlearn: 1886.6847218\ttotal: 147ms\tremaining: 1.08s\n",
      "6:\tlearn: 1849.2533641\ttotal: 170ms\tremaining: 1.05s\n",
      "7:\tlearn: 1813.2915454\ttotal: 195ms\tremaining: 1.02s\n",
      "8:\tlearn: 1795.4805836\ttotal: 219ms\tremaining: 999ms\n",
      "9:\tlearn: 1781.0243404\ttotal: 246ms\tremaining: 983ms\n",
      "10:\tlearn: 1770.0694033\ttotal: 268ms\tremaining: 950ms\n",
      "11:\tlearn: 1750.2351972\ttotal: 296ms\tremaining: 936ms\n",
      "12:\tlearn: 1739.4295367\ttotal: 321ms\tremaining: 913ms\n",
      "13:\tlearn: 1729.7013346\ttotal: 344ms\tremaining: 885ms\n",
      "14:\tlearn: 1719.7069043\ttotal: 371ms\tremaining: 865ms\n",
      "15:\tlearn: 1713.7092379\ttotal: 396ms\tremaining: 841ms\n",
      "16:\tlearn: 1707.7391552\ttotal: 421ms\tremaining: 816ms\n",
      "17:\tlearn: 1698.1303838\ttotal: 448ms\tremaining: 796ms\n",
      "18:\tlearn: 1690.0623104\ttotal: 470ms\tremaining: 767ms\n",
      "19:\tlearn: 1680.1747784\ttotal: 496ms\tremaining: 744ms\n",
      "20:\tlearn: 1668.5282010\ttotal: 521ms\tremaining: 719ms\n",
      "21:\tlearn: 1660.1125631\ttotal: 543ms\tremaining: 691ms\n",
      "22:\tlearn: 1655.8324087\ttotal: 565ms\tremaining: 663ms\n",
      "23:\tlearn: 1645.9705974\ttotal: 588ms\tremaining: 637ms\n",
      "24:\tlearn: 1640.0382798\ttotal: 611ms\tremaining: 611ms\n",
      "25:\tlearn: 1634.2886738\ttotal: 635ms\tremaining: 586ms\n",
      "26:\tlearn: 1629.7820002\ttotal: 660ms\tremaining: 562ms\n",
      "27:\tlearn: 1626.2522277\ttotal: 683ms\tremaining: 537ms\n",
      "28:\tlearn: 1621.8062484\ttotal: 708ms\tremaining: 512ms\n",
      "29:\tlearn: 1614.8559261\ttotal: 734ms\tremaining: 489ms\n",
      "30:\tlearn: 1611.2132781\ttotal: 759ms\tremaining: 465ms\n",
      "31:\tlearn: 1605.2395033\ttotal: 785ms\tremaining: 442ms\n",
      "32:\tlearn: 1602.1087601\ttotal: 808ms\tremaining: 416ms\n",
      "33:\tlearn: 1596.7339587\ttotal: 834ms\tremaining: 392ms\n",
      "34:\tlearn: 1592.0410137\ttotal: 859ms\tremaining: 368ms\n",
      "35:\tlearn: 1587.2761134\ttotal: 883ms\tremaining: 344ms\n",
      "36:\tlearn: 1584.1619599\ttotal: 908ms\tremaining: 319ms\n",
      "37:\tlearn: 1581.4323518\ttotal: 931ms\tremaining: 294ms\n",
      "38:\tlearn: 1578.2426685\ttotal: 958ms\tremaining: 270ms\n",
      "39:\tlearn: 1574.1565652\ttotal: 982ms\tremaining: 245ms\n",
      "40:\tlearn: 1571.0483284\ttotal: 1.01s\tremaining: 222ms\n",
      "41:\tlearn: 1568.4529295\ttotal: 1.04s\tremaining: 198ms\n",
      "42:\tlearn: 1565.5434602\ttotal: 1.06s\tremaining: 173ms\n",
      "43:\tlearn: 1562.7310572\ttotal: 1.09s\tremaining: 148ms\n",
      "44:\tlearn: 1559.4935444\ttotal: 1.12s\tremaining: 124ms\n",
      "45:\tlearn: 1557.2189713\ttotal: 1.15s\tremaining: 99.7ms\n",
      "46:\tlearn: 1554.9051109\ttotal: 1.17s\tremaining: 74.7ms\n",
      "47:\tlearn: 1552.6141933\ttotal: 1.2s\tremaining: 49.9ms\n",
      "48:\tlearn: 1549.6164725\ttotal: 1.22s\tremaining: 25ms\n",
      "49:\tlearn: 1547.3122505\ttotal: 1.25s\tremaining: 0us\n",
      "0:\tlearn: 2766.0690054\ttotal: 25.5ms\tremaining: 2.52s\n",
      "1:\tlearn: 2264.3641123\ttotal: 51.7ms\tremaining: 2.54s\n",
      "2:\tlearn: 2094.0360052\ttotal: 75.8ms\tremaining: 2.45s\n",
      "3:\tlearn: 2013.0601453\ttotal: 99.3ms\tremaining: 2.38s\n",
      "4:\tlearn: 1926.7619706\ttotal: 126ms\tremaining: 2.39s\n",
      "5:\tlearn: 1883.3123047\ttotal: 151ms\tremaining: 2.36s\n",
      "6:\tlearn: 1854.9603269\ttotal: 176ms\tremaining: 2.33s\n",
      "7:\tlearn: 1830.6316448\ttotal: 201ms\tremaining: 2.31s\n",
      "8:\tlearn: 1815.8266750\ttotal: 229ms\tremaining: 2.32s\n",
      "9:\tlearn: 1797.2389606\ttotal: 254ms\tremaining: 2.29s\n",
      "10:\tlearn: 1781.3678961\ttotal: 276ms\tremaining: 2.24s\n",
      "11:\tlearn: 1768.5729110\ttotal: 301ms\tremaining: 2.2s\n",
      "12:\tlearn: 1756.1004484\ttotal: 324ms\tremaining: 2.17s\n",
      "13:\tlearn: 1744.6180988\ttotal: 347ms\tremaining: 2.13s\n",
      "14:\tlearn: 1735.2835161\ttotal: 371ms\tremaining: 2.1s\n",
      "15:\tlearn: 1725.2562477\ttotal: 398ms\tremaining: 2.09s\n",
      "16:\tlearn: 1716.0735521\ttotal: 424ms\tremaining: 2.07s\n",
      "17:\tlearn: 1704.0465346\ttotal: 453ms\tremaining: 2.06s\n",
      "18:\tlearn: 1695.9074387\ttotal: 478ms\tremaining: 2.04s\n",
      "19:\tlearn: 1686.1927175\ttotal: 502ms\tremaining: 2.01s\n",
      "20:\tlearn: 1677.0421479\ttotal: 527ms\tremaining: 1.98s\n",
      "21:\tlearn: 1671.0700757\ttotal: 552ms\tremaining: 1.96s\n",
      "22:\tlearn: 1665.2012152\ttotal: 578ms\tremaining: 1.93s\n",
      "23:\tlearn: 1658.1651212\ttotal: 604ms\tremaining: 1.91s\n",
      "24:\tlearn: 1654.5572322\ttotal: 629ms\tremaining: 1.89s\n",
      "25:\tlearn: 1648.9839984\ttotal: 657ms\tremaining: 1.87s\n",
      "26:\tlearn: 1646.4637903\ttotal: 680ms\tremaining: 1.84s\n",
      "27:\tlearn: 1642.1812118\ttotal: 706ms\tremaining: 1.81s\n",
      "28:\tlearn: 1638.2910981\ttotal: 733ms\tremaining: 1.79s\n",
      "29:\tlearn: 1632.3889243\ttotal: 760ms\tremaining: 1.77s\n",
      "30:\tlearn: 1627.7010100\ttotal: 784ms\tremaining: 1.75s\n",
      "31:\tlearn: 1622.6577055\ttotal: 810ms\tremaining: 1.72s\n",
      "32:\tlearn: 1616.6254890\ttotal: 838ms\tremaining: 1.7s\n",
      "33:\tlearn: 1610.3640801\ttotal: 864ms\tremaining: 1.68s\n",
      "34:\tlearn: 1605.0657293\ttotal: 890ms\tremaining: 1.65s\n",
      "35:\tlearn: 1600.2520528\ttotal: 917ms\tremaining: 1.63s\n",
      "36:\tlearn: 1596.5854564\ttotal: 944ms\tremaining: 1.61s\n",
      "37:\tlearn: 1593.3769414\ttotal: 966ms\tremaining: 1.58s\n",
      "38:\tlearn: 1589.4962399\ttotal: 993ms\tremaining: 1.55s\n",
      "39:\tlearn: 1584.8400068\ttotal: 1.02s\tremaining: 1.53s\n",
      "40:\tlearn: 1581.2661466\ttotal: 1.05s\tremaining: 1.51s\n",
      "41:\tlearn: 1576.9561690\ttotal: 1.07s\tremaining: 1.49s\n",
      "42:\tlearn: 1572.9615314\ttotal: 1.1s\tremaining: 1.46s\n",
      "43:\tlearn: 1570.6871839\ttotal: 1.13s\tremaining: 1.44s\n",
      "44:\tlearn: 1567.6971309\ttotal: 1.16s\tremaining: 1.41s\n",
      "45:\tlearn: 1565.5049036\ttotal: 1.18s\tremaining: 1.39s\n",
      "46:\tlearn: 1561.7741596\ttotal: 1.21s\tremaining: 1.36s\n",
      "47:\tlearn: 1559.0722733\ttotal: 1.24s\tremaining: 1.34s\n",
      "48:\tlearn: 1555.8512098\ttotal: 1.26s\tremaining: 1.31s\n",
      "49:\tlearn: 1553.1603428\ttotal: 1.29s\tremaining: 1.29s\n",
      "50:\tlearn: 1551.3875670\ttotal: 1.32s\tremaining: 1.26s\n",
      "51:\tlearn: 1548.7750922\ttotal: 1.34s\tremaining: 1.24s\n",
      "52:\tlearn: 1545.9732061\ttotal: 1.37s\tremaining: 1.22s\n",
      "53:\tlearn: 1542.3120414\ttotal: 1.4s\tremaining: 1.19s\n",
      "54:\tlearn: 1538.6109010\ttotal: 1.43s\tremaining: 1.17s\n",
      "55:\tlearn: 1536.1204041\ttotal: 1.45s\tremaining: 1.14s\n",
      "56:\tlearn: 1534.7855560\ttotal: 1.48s\tremaining: 1.11s\n",
      "57:\tlearn: 1532.5033365\ttotal: 1.51s\tremaining: 1.09s\n",
      "58:\tlearn: 1531.1323856\ttotal: 1.53s\tremaining: 1.06s\n",
      "59:\tlearn: 1529.4712360\ttotal: 1.56s\tremaining: 1.04s\n",
      "60:\tlearn: 1527.4853702\ttotal: 1.58s\tremaining: 1.01s\n",
      "61:\tlearn: 1524.8137874\ttotal: 1.61s\tremaining: 985ms\n",
      "62:\tlearn: 1523.4067913\ttotal: 1.63s\tremaining: 958ms\n",
      "63:\tlearn: 1521.8648337\ttotal: 1.66s\tremaining: 931ms\n",
      "64:\tlearn: 1520.5070257\ttotal: 1.68s\tremaining: 904ms\n",
      "65:\tlearn: 1517.4202805\ttotal: 1.7s\tremaining: 877ms\n",
      "66:\tlearn: 1514.8020060\ttotal: 1.73s\tremaining: 851ms\n",
      "67:\tlearn: 1512.1286357\ttotal: 1.75s\tremaining: 824ms\n",
      "68:\tlearn: 1510.1994562\ttotal: 1.78s\tremaining: 799ms\n",
      "69:\tlearn: 1509.0874214\ttotal: 1.8s\tremaining: 773ms\n",
      "70:\tlearn: 1507.6999657\ttotal: 1.83s\tremaining: 746ms\n",
      "71:\tlearn: 1506.1941781\ttotal: 1.85s\tremaining: 720ms\n",
      "72:\tlearn: 1504.5153637\ttotal: 1.88s\tremaining: 694ms\n",
      "73:\tlearn: 1502.5569620\ttotal: 1.9s\tremaining: 669ms\n",
      "74:\tlearn: 1501.4026311\ttotal: 1.93s\tremaining: 643ms\n",
      "75:\tlearn: 1499.7525501\ttotal: 1.95s\tremaining: 616ms\n",
      "76:\tlearn: 1498.2390095\ttotal: 1.98s\tremaining: 590ms\n",
      "77:\tlearn: 1496.3809137\ttotal: 2s\tremaining: 565ms\n",
      "78:\tlearn: 1495.0817087\ttotal: 2.03s\tremaining: 539ms\n",
      "79:\tlearn: 1493.3027984\ttotal: 2.05s\tremaining: 513ms\n",
      "80:\tlearn: 1491.5571819\ttotal: 2.08s\tremaining: 487ms\n",
      "81:\tlearn: 1490.5832912\ttotal: 2.1s\tremaining: 461ms\n",
      "82:\tlearn: 1489.1432258\ttotal: 2.12s\tremaining: 435ms\n",
      "83:\tlearn: 1488.0745918\ttotal: 2.15s\tremaining: 409ms\n",
      "84:\tlearn: 1486.5105433\ttotal: 2.17s\tremaining: 383ms\n",
      "85:\tlearn: 1485.0533012\ttotal: 2.19s\tremaining: 357ms\n",
      "86:\tlearn: 1484.1701990\ttotal: 2.22s\tremaining: 331ms\n",
      "87:\tlearn: 1482.7668619\ttotal: 2.24s\tremaining: 306ms\n",
      "88:\tlearn: 1481.4661236\ttotal: 2.27s\tremaining: 280ms\n",
      "89:\tlearn: 1480.0184797\ttotal: 2.29s\tremaining: 255ms\n",
      "90:\tlearn: 1478.5266718\ttotal: 2.32s\tremaining: 229ms\n",
      "91:\tlearn: 1476.9573462\ttotal: 2.34s\tremaining: 204ms\n",
      "92:\tlearn: 1475.0534759\ttotal: 2.37s\tremaining: 178ms\n",
      "93:\tlearn: 1473.4550865\ttotal: 2.39s\tremaining: 153ms\n",
      "94:\tlearn: 1472.5888838\ttotal: 2.42s\tremaining: 127ms\n",
      "95:\tlearn: 1471.6694034\ttotal: 2.44s\tremaining: 102ms\n",
      "96:\tlearn: 1470.5200529\ttotal: 2.46s\tremaining: 76.2ms\n",
      "97:\tlearn: 1469.0399934\ttotal: 2.49s\tremaining: 50.8ms\n",
      "98:\tlearn: 1467.8821152\ttotal: 2.51s\tremaining: 25.4ms\n",
      "99:\tlearn: 1466.5062647\ttotal: 2.54s\tremaining: 0us\n",
      "0:\tlearn: 2771.4188079\ttotal: 28.4ms\tremaining: 2.81s\n",
      "1:\tlearn: 2267.3261961\ttotal: 56.6ms\tremaining: 2.77s\n",
      "2:\tlearn: 2095.3277251\ttotal: 83.6ms\tremaining: 2.7s\n",
      "3:\tlearn: 2024.2276539\ttotal: 109ms\tremaining: 2.62s\n",
      "4:\tlearn: 1962.3095809\ttotal: 134ms\tremaining: 2.55s\n",
      "5:\tlearn: 1906.2628184\ttotal: 159ms\tremaining: 2.49s\n",
      "6:\tlearn: 1871.8496141\ttotal: 183ms\tremaining: 2.42s\n",
      "7:\tlearn: 1849.1774779\ttotal: 207ms\tremaining: 2.38s\n",
      "8:\tlearn: 1830.4577425\ttotal: 238ms\tremaining: 2.4s\n",
      "9:\tlearn: 1804.5986741\ttotal: 265ms\tremaining: 2.39s\n",
      "10:\tlearn: 1779.1966326\ttotal: 293ms\tremaining: 2.37s\n",
      "11:\tlearn: 1767.6530759\ttotal: 317ms\tremaining: 2.33s\n",
      "12:\tlearn: 1755.9558652\ttotal: 339ms\tremaining: 2.27s\n",
      "13:\tlearn: 1742.5315915\ttotal: 361ms\tremaining: 2.22s\n",
      "14:\tlearn: 1732.5161986\ttotal: 385ms\tremaining: 2.18s\n",
      "15:\tlearn: 1722.2383864\ttotal: 412ms\tremaining: 2.16s\n",
      "16:\tlearn: 1714.2957992\ttotal: 435ms\tremaining: 2.12s\n",
      "17:\tlearn: 1704.1781915\ttotal: 461ms\tremaining: 2.1s\n",
      "18:\tlearn: 1692.4319161\ttotal: 487ms\tremaining: 2.07s\n",
      "19:\tlearn: 1685.2872932\ttotal: 509ms\tremaining: 2.04s\n",
      "20:\tlearn: 1678.0734872\ttotal: 532ms\tremaining: 2s\n",
      "21:\tlearn: 1671.1589797\ttotal: 557ms\tremaining: 1.98s\n",
      "22:\tlearn: 1665.9443877\ttotal: 581ms\tremaining: 1.95s\n",
      "23:\tlearn: 1660.7957370\ttotal: 605ms\tremaining: 1.91s\n",
      "24:\tlearn: 1656.1454639\ttotal: 631ms\tremaining: 1.89s\n",
      "25:\tlearn: 1648.6300810\ttotal: 658ms\tremaining: 1.87s\n",
      "26:\tlearn: 1645.1420238\ttotal: 680ms\tremaining: 1.84s\n",
      "27:\tlearn: 1641.9254995\ttotal: 702ms\tremaining: 1.81s\n",
      "28:\tlearn: 1637.2245439\ttotal: 729ms\tremaining: 1.78s\n",
      "29:\tlearn: 1633.0002641\ttotal: 752ms\tremaining: 1.75s\n",
      "30:\tlearn: 1625.3674075\ttotal: 777ms\tremaining: 1.73s\n",
      "31:\tlearn: 1621.0689521\ttotal: 798ms\tremaining: 1.7s\n",
      "32:\tlearn: 1616.9933948\ttotal: 821ms\tremaining: 1.67s\n",
      "33:\tlearn: 1610.8193503\ttotal: 848ms\tremaining: 1.65s\n",
      "34:\tlearn: 1606.1963270\ttotal: 872ms\tremaining: 1.62s\n",
      "35:\tlearn: 1602.8631369\ttotal: 896ms\tremaining: 1.59s\n",
      "36:\tlearn: 1598.7436725\ttotal: 924ms\tremaining: 1.57s\n",
      "37:\tlearn: 1594.3715047\ttotal: 952ms\tremaining: 1.55s\n",
      "38:\tlearn: 1589.8040338\ttotal: 978ms\tremaining: 1.53s\n",
      "39:\tlearn: 1585.4668141\ttotal: 1s\tremaining: 1.5s\n",
      "40:\tlearn: 1582.2395099\ttotal: 1.02s\tremaining: 1.47s\n",
      "41:\tlearn: 1577.4450436\ttotal: 1.05s\tremaining: 1.45s\n",
      "42:\tlearn: 1574.9147783\ttotal: 1.08s\tremaining: 1.44s\n",
      "43:\tlearn: 1571.4891724\ttotal: 1.12s\tremaining: 1.42s\n",
      "44:\tlearn: 1567.5200303\ttotal: 1.15s\tremaining: 1.4s\n",
      "45:\tlearn: 1565.1205444\ttotal: 1.18s\tremaining: 1.39s\n",
      "46:\tlearn: 1560.7252581\ttotal: 1.21s\tremaining: 1.36s\n",
      "47:\tlearn: 1559.0552077\ttotal: 1.24s\tremaining: 1.35s\n",
      "48:\tlearn: 1557.3902130\ttotal: 1.27s\tremaining: 1.32s\n",
      "49:\tlearn: 1554.8083099\ttotal: 1.3s\tremaining: 1.3s\n",
      "50:\tlearn: 1552.1814206\ttotal: 1.33s\tremaining: 1.28s\n",
      "51:\tlearn: 1550.9107442\ttotal: 1.35s\tremaining: 1.25s\n",
      "52:\tlearn: 1547.1949530\ttotal: 1.38s\tremaining: 1.22s\n",
      "53:\tlearn: 1543.7920486\ttotal: 1.4s\tremaining: 1.19s\n",
      "54:\tlearn: 1541.1851465\ttotal: 1.42s\tremaining: 1.17s\n",
      "55:\tlearn: 1538.8787815\ttotal: 1.45s\tremaining: 1.14s\n",
      "56:\tlearn: 1536.1250745\ttotal: 1.47s\tremaining: 1.11s\n",
      "57:\tlearn: 1533.5483908\ttotal: 1.5s\tremaining: 1.08s\n",
      "58:\tlearn: 1532.0230531\ttotal: 1.52s\tremaining: 1.06s\n",
      "59:\tlearn: 1530.4077461\ttotal: 1.55s\tremaining: 1.03s\n",
      "60:\tlearn: 1527.7549206\ttotal: 1.57s\tremaining: 1s\n",
      "61:\tlearn: 1525.2484277\ttotal: 1.6s\tremaining: 980ms\n",
      "62:\tlearn: 1522.7483870\ttotal: 1.63s\tremaining: 955ms\n",
      "63:\tlearn: 1521.6288531\ttotal: 1.65s\tremaining: 928ms\n",
      "64:\tlearn: 1519.4520177\ttotal: 1.68s\tremaining: 902ms\n",
      "65:\tlearn: 1517.7695260\ttotal: 1.7s\tremaining: 875ms\n",
      "66:\tlearn: 1516.5644574\ttotal: 1.72s\tremaining: 849ms\n",
      "67:\tlearn: 1514.6188510\ttotal: 1.75s\tremaining: 823ms\n",
      "68:\tlearn: 1513.0543602\ttotal: 1.77s\tremaining: 797ms\n",
      "69:\tlearn: 1511.7375876\ttotal: 1.8s\tremaining: 770ms\n",
      "70:\tlearn: 1509.5781564\ttotal: 1.82s\tremaining: 744ms\n",
      "71:\tlearn: 1507.4728302\ttotal: 1.84s\tremaining: 718ms\n",
      "72:\tlearn: 1505.4363406\ttotal: 1.87s\tremaining: 692ms\n",
      "73:\tlearn: 1504.3545610\ttotal: 1.9s\tremaining: 666ms\n",
      "74:\tlearn: 1502.2440561\ttotal: 1.92s\tremaining: 640ms\n",
      "75:\tlearn: 1501.1965192\ttotal: 1.94s\tremaining: 614ms\n",
      "76:\tlearn: 1500.1230155\ttotal: 1.97s\tremaining: 588ms\n",
      "77:\tlearn: 1499.2943657\ttotal: 1.99s\tremaining: 562ms\n",
      "78:\tlearn: 1497.3271170\ttotal: 2.02s\tremaining: 537ms\n",
      "79:\tlearn: 1495.6625804\ttotal: 2.04s\tremaining: 511ms\n",
      "80:\tlearn: 1494.4238678\ttotal: 2.07s\tremaining: 486ms\n",
      "81:\tlearn: 1493.2701420\ttotal: 2.09s\tremaining: 460ms\n",
      "82:\tlearn: 1491.0665105\ttotal: 2.12s\tremaining: 434ms\n",
      "83:\tlearn: 1489.9551433\ttotal: 2.14s\tremaining: 408ms\n",
      "84:\tlearn: 1488.9346491\ttotal: 2.17s\tremaining: 383ms\n",
      "85:\tlearn: 1487.9169331\ttotal: 2.19s\tremaining: 357ms\n",
      "86:\tlearn: 1486.2826098\ttotal: 2.22s\tremaining: 332ms\n",
      "87:\tlearn: 1485.1961648\ttotal: 2.25s\tremaining: 307ms\n",
      "88:\tlearn: 1483.3924620\ttotal: 2.28s\tremaining: 282ms\n",
      "89:\tlearn: 1482.4623171\ttotal: 2.31s\tremaining: 256ms\n",
      "90:\tlearn: 1481.2760068\ttotal: 2.33s\tremaining: 231ms\n",
      "91:\tlearn: 1478.9366568\ttotal: 2.36s\tremaining: 205ms\n",
      "92:\tlearn: 1477.5015537\ttotal: 2.38s\tremaining: 179ms\n",
      "93:\tlearn: 1476.6709307\ttotal: 2.4s\tremaining: 153ms\n",
      "94:\tlearn: 1475.2961480\ttotal: 2.43s\tremaining: 128ms\n",
      "95:\tlearn: 1473.4165902\ttotal: 2.45s\tremaining: 102ms\n",
      "96:\tlearn: 1472.5504659\ttotal: 2.47s\tremaining: 76.5ms\n",
      "97:\tlearn: 1470.9483670\ttotal: 2.5s\tremaining: 51ms\n",
      "98:\tlearn: 1469.1997310\ttotal: 2.53s\tremaining: 25.5ms\n",
      "99:\tlearn: 1468.3472508\ttotal: 2.55s\tremaining: 0us\n",
      "0:\tlearn: 2756.1523529\ttotal: 24.9ms\tremaining: 2.46s\n",
      "1:\tlearn: 2248.2673549\ttotal: 49.1ms\tremaining: 2.4s\n",
      "2:\tlearn: 2070.5050111\ttotal: 73.8ms\tremaining: 2.38s\n",
      "3:\tlearn: 1993.3331202\ttotal: 98.2ms\tremaining: 2.36s\n",
      "4:\tlearn: 1946.2984513\ttotal: 122ms\tremaining: 2.32s\n",
      "5:\tlearn: 1881.4674729\ttotal: 148ms\tremaining: 2.33s\n",
      "6:\tlearn: 1854.8636442\ttotal: 172ms\tremaining: 2.29s\n",
      "7:\tlearn: 1827.1238505\ttotal: 196ms\tremaining: 2.25s\n",
      "8:\tlearn: 1805.9418585\ttotal: 220ms\tremaining: 2.22s\n",
      "9:\tlearn: 1786.9042925\ttotal: 245ms\tremaining: 2.21s\n",
      "10:\tlearn: 1766.2286486\ttotal: 276ms\tremaining: 2.23s\n",
      "11:\tlearn: 1751.5513192\ttotal: 305ms\tremaining: 2.23s\n",
      "12:\tlearn: 1741.4438976\ttotal: 331ms\tremaining: 2.21s\n",
      "13:\tlearn: 1732.0487579\ttotal: 353ms\tremaining: 2.17s\n",
      "14:\tlearn: 1719.6225857\ttotal: 377ms\tremaining: 2.14s\n",
      "15:\tlearn: 1708.7664615\ttotal: 401ms\tremaining: 2.11s\n",
      "16:\tlearn: 1698.9520516\ttotal: 430ms\tremaining: 2.1s\n",
      "17:\tlearn: 1691.4898512\ttotal: 454ms\tremaining: 2.07s\n",
      "18:\tlearn: 1683.4933910\ttotal: 484ms\tremaining: 2.06s\n",
      "19:\tlearn: 1677.2538841\ttotal: 510ms\tremaining: 2.04s\n",
      "20:\tlearn: 1670.8588744\ttotal: 535ms\tremaining: 2.01s\n",
      "21:\tlearn: 1666.7218981\ttotal: 559ms\tremaining: 1.98s\n",
      "22:\tlearn: 1659.9139250\ttotal: 583ms\tremaining: 1.95s\n",
      "23:\tlearn: 1653.7232857\ttotal: 608ms\tremaining: 1.93s\n",
      "24:\tlearn: 1644.0218251\ttotal: 633ms\tremaining: 1.9s\n",
      "25:\tlearn: 1638.1434121\ttotal: 660ms\tremaining: 1.88s\n",
      "26:\tlearn: 1633.8988427\ttotal: 686ms\tremaining: 1.85s\n",
      "27:\tlearn: 1627.7225893\ttotal: 712ms\tremaining: 1.83s\n",
      "28:\tlearn: 1623.1556254\ttotal: 736ms\tremaining: 1.8s\n",
      "29:\tlearn: 1617.0504192\ttotal: 763ms\tremaining: 1.78s\n",
      "30:\tlearn: 1610.3747342\ttotal: 788ms\tremaining: 1.75s\n",
      "31:\tlearn: 1606.5820996\ttotal: 813ms\tremaining: 1.73s\n",
      "32:\tlearn: 1602.1790025\ttotal: 837ms\tremaining: 1.7s\n",
      "33:\tlearn: 1598.8660950\ttotal: 863ms\tremaining: 1.68s\n",
      "34:\tlearn: 1592.2740018\ttotal: 892ms\tremaining: 1.66s\n",
      "35:\tlearn: 1588.9230280\ttotal: 917ms\tremaining: 1.63s\n",
      "36:\tlearn: 1583.0499092\ttotal: 943ms\tremaining: 1.6s\n",
      "37:\tlearn: 1578.5746547\ttotal: 967ms\tremaining: 1.58s\n",
      "38:\tlearn: 1573.5072909\ttotal: 995ms\tremaining: 1.55s\n",
      "39:\tlearn: 1569.8660094\ttotal: 1.02s\tremaining: 1.53s\n",
      "40:\tlearn: 1567.8702482\ttotal: 1.04s\tremaining: 1.5s\n",
      "41:\tlearn: 1565.3542219\ttotal: 1.07s\tremaining: 1.48s\n",
      "42:\tlearn: 1562.5572886\ttotal: 1.09s\tremaining: 1.45s\n",
      "43:\tlearn: 1560.0898234\ttotal: 1.12s\tremaining: 1.42s\n",
      "44:\tlearn: 1557.4972368\ttotal: 1.15s\tremaining: 1.4s\n",
      "45:\tlearn: 1555.3959841\ttotal: 1.18s\tremaining: 1.38s\n",
      "46:\tlearn: 1552.9958022\ttotal: 1.21s\tremaining: 1.36s\n",
      "47:\tlearn: 1550.5885807\ttotal: 1.23s\tremaining: 1.34s\n",
      "48:\tlearn: 1548.2565115\ttotal: 1.26s\tremaining: 1.31s\n",
      "49:\tlearn: 1545.1652613\ttotal: 1.29s\tremaining: 1.29s\n",
      "50:\tlearn: 1543.8856187\ttotal: 1.31s\tremaining: 1.26s\n",
      "51:\tlearn: 1540.9261169\ttotal: 1.34s\tremaining: 1.24s\n",
      "52:\tlearn: 1538.3051830\ttotal: 1.36s\tremaining: 1.21s\n",
      "53:\tlearn: 1534.8148607\ttotal: 1.39s\tremaining: 1.18s\n",
      "54:\tlearn: 1531.5636743\ttotal: 1.41s\tremaining: 1.16s\n",
      "55:\tlearn: 1529.0960116\ttotal: 1.44s\tremaining: 1.13s\n",
      "56:\tlearn: 1527.5128773\ttotal: 1.46s\tremaining: 1.1s\n",
      "57:\tlearn: 1525.6927198\ttotal: 1.48s\tremaining: 1.07s\n",
      "58:\tlearn: 1524.5189673\ttotal: 1.51s\tremaining: 1.05s\n",
      "59:\tlearn: 1522.7522054\ttotal: 1.54s\tremaining: 1.02s\n",
      "60:\tlearn: 1520.2798351\ttotal: 1.56s\tremaining: 999ms\n",
      "61:\tlearn: 1517.0512812\ttotal: 1.59s\tremaining: 974ms\n",
      "62:\tlearn: 1514.8367185\ttotal: 1.61s\tremaining: 948ms\n",
      "63:\tlearn: 1512.6918086\ttotal: 1.64s\tremaining: 922ms\n",
      "64:\tlearn: 1511.1531400\ttotal: 1.66s\tremaining: 896ms\n",
      "65:\tlearn: 1509.8122125\ttotal: 1.69s\tremaining: 871ms\n",
      "66:\tlearn: 1507.9240203\ttotal: 1.72s\tremaining: 845ms\n",
      "67:\tlearn: 1505.7621027\ttotal: 1.74s\tremaining: 820ms\n",
      "68:\tlearn: 1503.9825743\ttotal: 1.76s\tremaining: 793ms\n",
      "69:\tlearn: 1503.0303258\ttotal: 1.79s\tremaining: 766ms\n",
      "70:\tlearn: 1501.1454653\ttotal: 1.81s\tremaining: 740ms\n",
      "71:\tlearn: 1499.3820382\ttotal: 1.83s\tremaining: 714ms\n",
      "72:\tlearn: 1497.6909096\ttotal: 1.86s\tremaining: 688ms\n",
      "73:\tlearn: 1496.3777741\ttotal: 1.89s\tremaining: 662ms\n",
      "74:\tlearn: 1495.1850159\ttotal: 1.91s\tremaining: 636ms\n",
      "75:\tlearn: 1492.7624440\ttotal: 1.93s\tremaining: 611ms\n",
      "76:\tlearn: 1490.8724831\ttotal: 1.96s\tremaining: 585ms\n",
      "77:\tlearn: 1489.3132315\ttotal: 1.98s\tremaining: 559ms\n",
      "78:\tlearn: 1488.1103554\ttotal: 2s\tremaining: 533ms\n",
      "79:\tlearn: 1486.7270740\ttotal: 2.03s\tremaining: 507ms\n",
      "80:\tlearn: 1485.4898508\ttotal: 2.05s\tremaining: 482ms\n",
      "81:\tlearn: 1483.7496354\ttotal: 2.08s\tremaining: 456ms\n",
      "82:\tlearn: 1482.3388236\ttotal: 2.1s\tremaining: 430ms\n",
      "83:\tlearn: 1481.1962897\ttotal: 2.13s\tremaining: 405ms\n",
      "84:\tlearn: 1479.1553569\ttotal: 2.15s\tremaining: 380ms\n",
      "85:\tlearn: 1476.8605800\ttotal: 2.18s\tremaining: 355ms\n",
      "86:\tlearn: 1475.7146982\ttotal: 2.2s\tremaining: 329ms\n",
      "87:\tlearn: 1474.5341411\ttotal: 2.23s\tremaining: 304ms\n",
      "88:\tlearn: 1473.5788671\ttotal: 2.25s\tremaining: 278ms\n",
      "89:\tlearn: 1472.2963608\ttotal: 2.28s\tremaining: 253ms\n",
      "90:\tlearn: 1470.7821722\ttotal: 2.31s\tremaining: 228ms\n",
      "91:\tlearn: 1468.1053107\ttotal: 2.33s\tremaining: 203ms\n",
      "92:\tlearn: 1466.2824675\ttotal: 2.36s\tremaining: 177ms\n",
      "93:\tlearn: 1465.1655602\ttotal: 2.38s\tremaining: 152ms\n",
      "94:\tlearn: 1463.9910211\ttotal: 2.4s\tremaining: 127ms\n",
      "95:\tlearn: 1462.6365279\ttotal: 2.43s\tremaining: 101ms\n",
      "96:\tlearn: 1461.4506578\ttotal: 2.45s\tremaining: 75.9ms\n",
      "97:\tlearn: 1460.4240177\ttotal: 2.48s\tremaining: 50.6ms\n",
      "98:\tlearn: 1459.2277928\ttotal: 2.5s\tremaining: 25.3ms\n",
      "99:\tlearn: 1458.4608291\ttotal: 2.53s\tremaining: 0us\n",
      "0:\tlearn: 2753.7064566\ttotal: 24.5ms\tremaining: 2.43s\n",
      "1:\tlearn: 2244.7731299\ttotal: 48.4ms\tremaining: 2.37s\n",
      "2:\tlearn: 2067.7065694\ttotal: 71.9ms\tremaining: 2.32s\n",
      "3:\tlearn: 1990.3234084\ttotal: 96.9ms\tremaining: 2.32s\n",
      "4:\tlearn: 1943.7753463\ttotal: 123ms\tremaining: 2.33s\n",
      "5:\tlearn: 1876.8323981\ttotal: 148ms\tremaining: 2.32s\n",
      "6:\tlearn: 1851.2206478\ttotal: 172ms\tremaining: 2.29s\n",
      "7:\tlearn: 1835.8539922\ttotal: 196ms\tremaining: 2.25s\n",
      "8:\tlearn: 1807.5573344\ttotal: 220ms\tremaining: 2.23s\n",
      "9:\tlearn: 1783.9360582\ttotal: 247ms\tremaining: 2.22s\n",
      "10:\tlearn: 1768.7509360\ttotal: 272ms\tremaining: 2.2s\n",
      "11:\tlearn: 1755.2815931\ttotal: 296ms\tremaining: 2.17s\n",
      "12:\tlearn: 1746.1953606\ttotal: 320ms\tremaining: 2.14s\n",
      "13:\tlearn: 1735.7207141\ttotal: 343ms\tremaining: 2.11s\n",
      "14:\tlearn: 1722.4343717\ttotal: 373ms\tremaining: 2.11s\n",
      "15:\tlearn: 1713.5802393\ttotal: 397ms\tremaining: 2.08s\n",
      "16:\tlearn: 1706.7974995\ttotal: 420ms\tremaining: 2.05s\n",
      "17:\tlearn: 1697.5229017\ttotal: 444ms\tremaining: 2.02s\n",
      "18:\tlearn: 1690.4516219\ttotal: 469ms\tremaining: 2s\n",
      "19:\tlearn: 1679.2241568\ttotal: 493ms\tremaining: 1.97s\n",
      "20:\tlearn: 1671.8352412\ttotal: 518ms\tremaining: 1.95s\n",
      "21:\tlearn: 1667.2518020\ttotal: 547ms\tremaining: 1.94s\n",
      "22:\tlearn: 1661.0454957\ttotal: 571ms\tremaining: 1.91s\n",
      "23:\tlearn: 1653.7139944\ttotal: 595ms\tremaining: 1.88s\n",
      "24:\tlearn: 1646.1002709\ttotal: 621ms\tremaining: 1.86s\n",
      "25:\tlearn: 1640.4190674\ttotal: 647ms\tremaining: 1.84s\n",
      "26:\tlearn: 1635.2257075\ttotal: 671ms\tremaining: 1.81s\n",
      "27:\tlearn: 1629.0034754\ttotal: 695ms\tremaining: 1.79s\n",
      "28:\tlearn: 1624.0202373\ttotal: 718ms\tremaining: 1.76s\n",
      "29:\tlearn: 1620.8745881\ttotal: 746ms\tremaining: 1.74s\n",
      "30:\tlearn: 1615.4443591\ttotal: 770ms\tremaining: 1.71s\n",
      "31:\tlearn: 1610.8594985\ttotal: 796ms\tremaining: 1.69s\n",
      "32:\tlearn: 1608.0443509\ttotal: 817ms\tremaining: 1.66s\n",
      "33:\tlearn: 1603.8394277\ttotal: 842ms\tremaining: 1.63s\n",
      "34:\tlearn: 1598.2489091\ttotal: 866ms\tremaining: 1.61s\n",
      "35:\tlearn: 1593.1033128\ttotal: 890ms\tremaining: 1.58s\n",
      "36:\tlearn: 1588.3266032\ttotal: 917ms\tremaining: 1.56s\n",
      "37:\tlearn: 1584.6393860\ttotal: 943ms\tremaining: 1.54s\n",
      "38:\tlearn: 1580.9058180\ttotal: 967ms\tremaining: 1.51s\n",
      "39:\tlearn: 1577.4733992\ttotal: 992ms\tremaining: 1.49s\n",
      "40:\tlearn: 1574.9210673\ttotal: 1.02s\tremaining: 1.46s\n",
      "41:\tlearn: 1571.2290753\ttotal: 1.04s\tremaining: 1.44s\n",
      "42:\tlearn: 1568.9626740\ttotal: 1.06s\tremaining: 1.41s\n",
      "43:\tlearn: 1564.3564443\ttotal: 1.09s\tremaining: 1.39s\n",
      "44:\tlearn: 1561.1759618\ttotal: 1.11s\tremaining: 1.36s\n",
      "45:\tlearn: 1559.3074569\ttotal: 1.14s\tremaining: 1.34s\n",
      "46:\tlearn: 1555.8258910\ttotal: 1.17s\tremaining: 1.32s\n",
      "47:\tlearn: 1553.2955126\ttotal: 1.19s\tremaining: 1.29s\n",
      "48:\tlearn: 1550.2166821\ttotal: 1.22s\tremaining: 1.27s\n",
      "49:\tlearn: 1548.2034319\ttotal: 1.24s\tremaining: 1.24s\n",
      "50:\tlearn: 1545.2364128\ttotal: 1.27s\tremaining: 1.22s\n",
      "51:\tlearn: 1543.1468461\ttotal: 1.29s\tremaining: 1.19s\n",
      "52:\tlearn: 1540.4812030\ttotal: 1.32s\tremaining: 1.17s\n",
      "53:\tlearn: 1537.9231352\ttotal: 1.34s\tremaining: 1.14s\n",
      "54:\tlearn: 1535.6360151\ttotal: 1.36s\tremaining: 1.12s\n",
      "55:\tlearn: 1533.4972316\ttotal: 1.39s\tremaining: 1.09s\n",
      "56:\tlearn: 1530.6887731\ttotal: 1.41s\tremaining: 1.07s\n",
      "57:\tlearn: 1528.7241712\ttotal: 1.44s\tremaining: 1.04s\n",
      "58:\tlearn: 1527.0215636\ttotal: 1.46s\tremaining: 1.01s\n",
      "59:\tlearn: 1523.2027270\ttotal: 1.49s\tremaining: 992ms\n",
      "60:\tlearn: 1520.8075706\ttotal: 1.51s\tremaining: 967ms\n",
      "61:\tlearn: 1519.3946976\ttotal: 1.53s\tremaining: 941ms\n",
      "62:\tlearn: 1517.4656673\ttotal: 1.56s\tremaining: 915ms\n",
      "63:\tlearn: 1515.8847296\ttotal: 1.58s\tremaining: 890ms\n",
      "64:\tlearn: 1513.2173366\ttotal: 1.61s\tremaining: 865ms\n",
      "65:\tlearn: 1511.1079730\ttotal: 1.63s\tremaining: 842ms\n",
      "66:\tlearn: 1509.2092936\ttotal: 1.66s\tremaining: 818ms\n",
      "67:\tlearn: 1507.6841394\ttotal: 1.68s\tremaining: 793ms\n",
      "68:\tlearn: 1505.2635104\ttotal: 1.71s\tremaining: 767ms\n",
      "69:\tlearn: 1503.7881858\ttotal: 1.73s\tremaining: 742ms\n",
      "70:\tlearn: 1502.3163389\ttotal: 1.76s\tremaining: 718ms\n",
      "71:\tlearn: 1500.8112644\ttotal: 1.78s\tremaining: 693ms\n",
      "72:\tlearn: 1499.8834509\ttotal: 1.8s\tremaining: 668ms\n",
      "73:\tlearn: 1498.4231035\ttotal: 1.83s\tremaining: 642ms\n",
      "74:\tlearn: 1496.6915499\ttotal: 1.85s\tremaining: 617ms\n",
      "75:\tlearn: 1495.2675432\ttotal: 1.88s\tremaining: 593ms\n",
      "76:\tlearn: 1493.7375709\ttotal: 1.9s\tremaining: 568ms\n",
      "77:\tlearn: 1491.5046356\ttotal: 1.93s\tremaining: 543ms\n",
      "78:\tlearn: 1489.9049347\ttotal: 1.95s\tremaining: 519ms\n",
      "79:\tlearn: 1488.4532757\ttotal: 1.97s\tremaining: 493ms\n",
      "80:\tlearn: 1487.5531348\ttotal: 1.99s\tremaining: 468ms\n",
      "81:\tlearn: 1485.4366985\ttotal: 2.02s\tremaining: 444ms\n",
      "82:\tlearn: 1483.3017331\ttotal: 2.04s\tremaining: 419ms\n",
      "83:\tlearn: 1481.9281684\ttotal: 2.07s\tremaining: 394ms\n",
      "84:\tlearn: 1480.8172090\ttotal: 2.09s\tremaining: 370ms\n",
      "85:\tlearn: 1479.3555663\ttotal: 2.12s\tremaining: 345ms\n",
      "86:\tlearn: 1477.7278733\ttotal: 2.14s\tremaining: 320ms\n",
      "87:\tlearn: 1476.5250788\ttotal: 2.17s\tremaining: 296ms\n",
      "88:\tlearn: 1474.9218511\ttotal: 2.19s\tremaining: 271ms\n",
      "89:\tlearn: 1474.0376700\ttotal: 2.21s\tremaining: 246ms\n",
      "90:\tlearn: 1472.7451219\ttotal: 2.24s\tremaining: 221ms\n",
      "91:\tlearn: 1471.5977103\ttotal: 2.26s\tremaining: 197ms\n",
      "92:\tlearn: 1470.2904453\ttotal: 2.29s\tremaining: 172ms\n",
      "93:\tlearn: 1469.0344288\ttotal: 2.31s\tremaining: 147ms\n",
      "94:\tlearn: 1467.7194318\ttotal: 2.33s\tremaining: 123ms\n",
      "95:\tlearn: 1466.4568408\ttotal: 2.36s\tremaining: 98.3ms\n",
      "96:\tlearn: 1465.6984174\ttotal: 2.38s\tremaining: 73.6ms\n",
      "97:\tlearn: 1464.7633089\ttotal: 2.4s\tremaining: 49.1ms\n",
      "98:\tlearn: 1464.2991857\ttotal: 2.43s\tremaining: 24.5ms\n",
      "99:\tlearn: 1462.9509728\ttotal: 2.45s\tremaining: 0us\n",
      "0:\tlearn: 2760.5057671\ttotal: 25.2ms\tremaining: 2.5s\n",
      "1:\tlearn: 2253.2988096\ttotal: 51.4ms\tremaining: 2.52s\n",
      "2:\tlearn: 2078.3856808\ttotal: 76ms\tremaining: 2.46s\n",
      "3:\tlearn: 2010.1439252\ttotal: 100ms\tremaining: 2.41s\n",
      "4:\tlearn: 1953.2943499\ttotal: 126ms\tremaining: 2.39s\n",
      "5:\tlearn: 1886.6847218\ttotal: 150ms\tremaining: 2.36s\n",
      "6:\tlearn: 1849.2533641\ttotal: 175ms\tremaining: 2.33s\n",
      "7:\tlearn: 1813.2915454\ttotal: 202ms\tremaining: 2.32s\n",
      "8:\tlearn: 1795.4805836\ttotal: 226ms\tremaining: 2.29s\n",
      "9:\tlearn: 1781.0243404\ttotal: 252ms\tremaining: 2.27s\n",
      "10:\tlearn: 1770.0694033\ttotal: 275ms\tremaining: 2.22s\n",
      "11:\tlearn: 1750.2351972\ttotal: 302ms\tremaining: 2.21s\n",
      "12:\tlearn: 1739.4295367\ttotal: 327ms\tremaining: 2.19s\n",
      "13:\tlearn: 1729.7013346\ttotal: 348ms\tremaining: 2.13s\n",
      "14:\tlearn: 1719.7069043\ttotal: 372ms\tremaining: 2.11s\n",
      "15:\tlearn: 1713.7092379\ttotal: 397ms\tremaining: 2.08s\n",
      "16:\tlearn: 1707.7391552\ttotal: 421ms\tremaining: 2.05s\n",
      "17:\tlearn: 1698.1303838\ttotal: 446ms\tremaining: 2.03s\n",
      "18:\tlearn: 1690.0623104\ttotal: 471ms\tremaining: 2.01s\n",
      "19:\tlearn: 1680.1747784\ttotal: 494ms\tremaining: 1.98s\n",
      "20:\tlearn: 1668.5282010\ttotal: 520ms\tremaining: 1.96s\n",
      "21:\tlearn: 1660.1125631\ttotal: 543ms\tremaining: 1.92s\n",
      "22:\tlearn: 1655.8324087\ttotal: 565ms\tremaining: 1.89s\n",
      "23:\tlearn: 1645.9705974\ttotal: 589ms\tremaining: 1.86s\n",
      "24:\tlearn: 1640.0382798\ttotal: 615ms\tremaining: 1.84s\n",
      "25:\tlearn: 1634.2886738\ttotal: 639ms\tremaining: 1.82s\n",
      "26:\tlearn: 1629.7820002\ttotal: 664ms\tremaining: 1.79s\n",
      "27:\tlearn: 1626.2522277\ttotal: 690ms\tremaining: 1.77s\n",
      "28:\tlearn: 1621.8062484\ttotal: 714ms\tremaining: 1.75s\n",
      "29:\tlearn: 1614.8559261\ttotal: 739ms\tremaining: 1.73s\n",
      "30:\tlearn: 1611.2132781\ttotal: 774ms\tremaining: 1.72s\n",
      "31:\tlearn: 1605.2395033\ttotal: 802ms\tremaining: 1.7s\n",
      "32:\tlearn: 1602.1087601\ttotal: 826ms\tremaining: 1.68s\n",
      "33:\tlearn: 1596.7339587\ttotal: 851ms\tremaining: 1.65s\n",
      "34:\tlearn: 1592.0410137\ttotal: 878ms\tremaining: 1.63s\n",
      "35:\tlearn: 1587.2761134\ttotal: 902ms\tremaining: 1.6s\n",
      "36:\tlearn: 1584.1619599\ttotal: 927ms\tremaining: 1.58s\n",
      "37:\tlearn: 1581.4323518\ttotal: 956ms\tremaining: 1.56s\n",
      "38:\tlearn: 1578.2426685\ttotal: 982ms\tremaining: 1.53s\n",
      "39:\tlearn: 1574.1565652\ttotal: 1.01s\tremaining: 1.51s\n",
      "40:\tlearn: 1571.0483284\ttotal: 1.04s\tremaining: 1.49s\n",
      "41:\tlearn: 1568.4529295\ttotal: 1.07s\tremaining: 1.47s\n",
      "42:\tlearn: 1565.5434602\ttotal: 1.09s\tremaining: 1.44s\n",
      "43:\tlearn: 1562.7310572\ttotal: 1.11s\tremaining: 1.42s\n",
      "44:\tlearn: 1559.4935444\ttotal: 1.14s\tremaining: 1.4s\n",
      "45:\tlearn: 1557.2189713\ttotal: 1.17s\tremaining: 1.37s\n",
      "46:\tlearn: 1554.9051109\ttotal: 1.19s\tremaining: 1.34s\n",
      "47:\tlearn: 1552.6141933\ttotal: 1.22s\tremaining: 1.32s\n",
      "48:\tlearn: 1549.6164725\ttotal: 1.25s\tremaining: 1.3s\n",
      "49:\tlearn: 1547.3122505\ttotal: 1.27s\tremaining: 1.27s\n",
      "50:\tlearn: 1544.6038778\ttotal: 1.3s\tremaining: 1.25s\n",
      "51:\tlearn: 1542.0572009\ttotal: 1.32s\tremaining: 1.22s\n",
      "52:\tlearn: 1539.7293774\ttotal: 1.35s\tremaining: 1.2s\n",
      "53:\tlearn: 1537.7176117\ttotal: 1.37s\tremaining: 1.17s\n",
      "54:\tlearn: 1536.0835109\ttotal: 1.4s\tremaining: 1.14s\n",
      "55:\tlearn: 1533.8752503\ttotal: 1.42s\tremaining: 1.12s\n",
      "56:\tlearn: 1532.8491056\ttotal: 1.45s\tremaining: 1.09s\n",
      "57:\tlearn: 1530.0803705\ttotal: 1.48s\tremaining: 1.07s\n",
      "58:\tlearn: 1527.4326210\ttotal: 1.5s\tremaining: 1.05s\n",
      "59:\tlearn: 1525.6776713\ttotal: 1.53s\tremaining: 1.02s\n",
      "60:\tlearn: 1523.4342908\ttotal: 1.56s\tremaining: 997ms\n",
      "61:\tlearn: 1521.0595654\ttotal: 1.59s\tremaining: 973ms\n",
      "62:\tlearn: 1518.5499483\ttotal: 1.61s\tremaining: 947ms\n",
      "63:\tlearn: 1517.2316037\ttotal: 1.64s\tremaining: 921ms\n",
      "64:\tlearn: 1515.9775038\ttotal: 1.66s\tremaining: 895ms\n",
      "65:\tlearn: 1513.9678804\ttotal: 1.69s\tremaining: 868ms\n",
      "66:\tlearn: 1512.2858857\ttotal: 1.71s\tremaining: 843ms\n",
      "67:\tlearn: 1511.2751676\ttotal: 1.73s\tremaining: 816ms\n",
      "68:\tlearn: 1509.2364458\ttotal: 1.76s\tremaining: 793ms\n",
      "69:\tlearn: 1507.1342265\ttotal: 1.79s\tremaining: 768ms\n",
      "70:\tlearn: 1505.5842753\ttotal: 1.81s\tremaining: 741ms\n",
      "71:\tlearn: 1504.3517957\ttotal: 1.84s\tremaining: 715ms\n",
      "72:\tlearn: 1503.4334561\ttotal: 1.86s\tremaining: 689ms\n",
      "73:\tlearn: 1501.3424029\ttotal: 1.89s\tremaining: 663ms\n",
      "74:\tlearn: 1499.8278623\ttotal: 1.91s\tremaining: 638ms\n",
      "75:\tlearn: 1498.0083010\ttotal: 1.94s\tremaining: 613ms\n",
      "76:\tlearn: 1495.4850919\ttotal: 1.97s\tremaining: 587ms\n",
      "77:\tlearn: 1494.3394093\ttotal: 1.99s\tremaining: 561ms\n",
      "78:\tlearn: 1493.6536887\ttotal: 2.01s\tremaining: 535ms\n",
      "79:\tlearn: 1492.6448472\ttotal: 2.04s\tremaining: 509ms\n",
      "80:\tlearn: 1490.4914561\ttotal: 2.07s\tremaining: 485ms\n",
      "81:\tlearn: 1489.4436113\ttotal: 2.09s\tremaining: 460ms\n",
      "82:\tlearn: 1486.6453837\ttotal: 2.13s\tremaining: 436ms\n",
      "83:\tlearn: 1485.4446635\ttotal: 2.16s\tremaining: 411ms\n",
      "84:\tlearn: 1483.3346988\ttotal: 2.19s\tremaining: 386ms\n",
      "85:\tlearn: 1482.4217920\ttotal: 2.22s\tremaining: 361ms\n",
      "86:\tlearn: 1480.9213210\ttotal: 2.24s\tremaining: 335ms\n",
      "87:\tlearn: 1479.5359092\ttotal: 2.27s\tremaining: 309ms\n",
      "88:\tlearn: 1478.2068152\ttotal: 2.29s\tremaining: 283ms\n",
      "89:\tlearn: 1477.1002091\ttotal: 2.32s\tremaining: 257ms\n",
      "90:\tlearn: 1476.1067145\ttotal: 2.34s\tremaining: 232ms\n",
      "91:\tlearn: 1475.3184240\ttotal: 2.36s\tremaining: 206ms\n",
      "92:\tlearn: 1473.7147471\ttotal: 2.39s\tremaining: 180ms\n",
      "93:\tlearn: 1472.0808203\ttotal: 2.41s\tremaining: 154ms\n",
      "94:\tlearn: 1470.8734333\ttotal: 2.44s\tremaining: 128ms\n",
      "95:\tlearn: 1469.5823121\ttotal: 2.46s\tremaining: 103ms\n",
      "96:\tlearn: 1468.3208817\ttotal: 2.49s\tremaining: 77.1ms\n",
      "97:\tlearn: 1467.6781914\ttotal: 2.52s\tremaining: 51.3ms\n",
      "98:\tlearn: 1465.9638470\ttotal: 2.54s\tremaining: 25.6ms\n",
      "99:\tlearn: 1464.3132503\ttotal: 2.57s\tremaining: 0us\n",
      "0:\tlearn: 2615.3521296\ttotal: 46ms\tremaining: 414ms\n",
      "1:\tlearn: 2120.1179859\ttotal: 89.4ms\tremaining: 357ms\n",
      "2:\tlearn: 1967.4799089\ttotal: 140ms\tremaining: 326ms\n",
      "3:\tlearn: 1860.4083266\ttotal: 186ms\tremaining: 279ms\n",
      "4:\tlearn: 1800.8421484\ttotal: 228ms\tremaining: 228ms\n",
      "5:\tlearn: 1775.9171767\ttotal: 269ms\tremaining: 179ms\n",
      "6:\tlearn: 1748.1035671\ttotal: 312ms\tremaining: 134ms\n",
      "7:\tlearn: 1723.9329236\ttotal: 357ms\tremaining: 89.2ms\n",
      "8:\tlearn: 1703.1864682\ttotal: 402ms\tremaining: 44.7ms\n",
      "9:\tlearn: 1684.5633817\ttotal: 454ms\tremaining: 0us\n",
      "0:\tlearn: 2625.0228702\ttotal: 42.4ms\tremaining: 382ms\n",
      "1:\tlearn: 2094.1109164\ttotal: 86.2ms\tremaining: 345ms\n",
      "2:\tlearn: 1931.1115520\ttotal: 130ms\tremaining: 304ms\n",
      "3:\tlearn: 1843.1213638\ttotal: 171ms\tremaining: 257ms\n",
      "4:\tlearn: 1789.3538293\ttotal: 217ms\tremaining: 217ms\n",
      "5:\tlearn: 1761.2439554\ttotal: 262ms\tremaining: 175ms\n",
      "6:\tlearn: 1736.5677543\ttotal: 309ms\tremaining: 133ms\n",
      "7:\tlearn: 1709.7918677\ttotal: 357ms\tremaining: 89.2ms\n",
      "8:\tlearn: 1694.3294485\ttotal: 398ms\tremaining: 44.3ms\n",
      "9:\tlearn: 1678.4209996\ttotal: 438ms\tremaining: 0us\n",
      "0:\tlearn: 2605.5651353\ttotal: 40.1ms\tremaining: 361ms\n",
      "1:\tlearn: 2112.0141922\ttotal: 81.3ms\tremaining: 325ms\n",
      "2:\tlearn: 1947.7411439\ttotal: 122ms\tremaining: 285ms\n",
      "3:\tlearn: 1850.6186080\ttotal: 165ms\tremaining: 247ms\n",
      "4:\tlearn: 1794.7910573\ttotal: 208ms\tremaining: 208ms\n",
      "5:\tlearn: 1762.3508397\ttotal: 252ms\tremaining: 168ms\n",
      "6:\tlearn: 1736.7748265\ttotal: 296ms\tremaining: 127ms\n",
      "7:\tlearn: 1714.9899226\ttotal: 351ms\tremaining: 87.8ms\n",
      "8:\tlearn: 1694.5521688\ttotal: 403ms\tremaining: 44.8ms\n",
      "9:\tlearn: 1684.0375246\ttotal: 447ms\tremaining: 0us\n",
      "0:\tlearn: 2602.6380640\ttotal: 43.7ms\tremaining: 394ms\n",
      "1:\tlearn: 2099.6908727\ttotal: 87.4ms\tremaining: 350ms\n",
      "2:\tlearn: 1947.4270421\ttotal: 131ms\tremaining: 307ms\n",
      "3:\tlearn: 1842.5733252\ttotal: 171ms\tremaining: 257ms\n",
      "4:\tlearn: 1797.2259633\ttotal: 212ms\tremaining: 212ms\n",
      "5:\tlearn: 1760.1959737\ttotal: 254ms\tremaining: 170ms\n",
      "6:\tlearn: 1739.2007642\ttotal: 298ms\tremaining: 128ms\n",
      "7:\tlearn: 1714.9333845\ttotal: 344ms\tremaining: 85.9ms\n",
      "8:\tlearn: 1700.3318887\ttotal: 387ms\tremaining: 43ms\n",
      "9:\tlearn: 1687.9042623\ttotal: 429ms\tremaining: 0us\n",
      "0:\tlearn: 2602.5236506\ttotal: 46.9ms\tremaining: 422ms\n",
      "1:\tlearn: 2105.6489580\ttotal: 88.1ms\tremaining: 352ms\n",
      "2:\tlearn: 1955.6259863\ttotal: 130ms\tremaining: 303ms\n",
      "3:\tlearn: 1854.3603209\ttotal: 172ms\tremaining: 259ms\n",
      "4:\tlearn: 1813.8587393\ttotal: 216ms\tremaining: 216ms\n",
      "5:\tlearn: 1779.7759824\ttotal: 260ms\tremaining: 173ms\n",
      "6:\tlearn: 1749.1236180\ttotal: 304ms\tremaining: 130ms\n",
      "7:\tlearn: 1721.4324176\ttotal: 347ms\tremaining: 86.9ms\n",
      "8:\tlearn: 1710.9923516\ttotal: 390ms\tremaining: 43.3ms\n",
      "9:\tlearn: 1695.3758985\ttotal: 435ms\tremaining: 0us\n",
      "0:\tlearn: 2615.3521296\ttotal: 41.8ms\tremaining: 2.05s\n",
      "1:\tlearn: 2120.1179859\ttotal: 85.6ms\tremaining: 2.06s\n",
      "2:\tlearn: 1967.4799089\ttotal: 131ms\tremaining: 2.05s\n",
      "3:\tlearn: 1860.4083266\ttotal: 182ms\tremaining: 2.09s\n",
      "4:\tlearn: 1800.8421484\ttotal: 227ms\tremaining: 2.04s\n",
      "5:\tlearn: 1775.9171767\ttotal: 270ms\tremaining: 1.98s\n",
      "6:\tlearn: 1748.1035671\ttotal: 314ms\tremaining: 1.93s\n",
      "7:\tlearn: 1723.9329236\ttotal: 355ms\tremaining: 1.86s\n",
      "8:\tlearn: 1703.1864682\ttotal: 396ms\tremaining: 1.81s\n",
      "9:\tlearn: 1684.5633817\ttotal: 438ms\tremaining: 1.75s\n",
      "10:\tlearn: 1670.7345252\ttotal: 479ms\tremaining: 1.7s\n",
      "11:\tlearn: 1654.7261104\ttotal: 522ms\tremaining: 1.65s\n",
      "12:\tlearn: 1639.2050193\ttotal: 568ms\tremaining: 1.62s\n",
      "13:\tlearn: 1629.3206103\ttotal: 611ms\tremaining: 1.57s\n",
      "14:\tlearn: 1621.9635126\ttotal: 654ms\tremaining: 1.52s\n",
      "15:\tlearn: 1607.3747282\ttotal: 696ms\tremaining: 1.48s\n",
      "16:\tlearn: 1593.3592978\ttotal: 745ms\tremaining: 1.45s\n",
      "17:\tlearn: 1584.5735933\ttotal: 788ms\tremaining: 1.4s\n",
      "18:\tlearn: 1579.6293013\ttotal: 831ms\tremaining: 1.35s\n",
      "19:\tlearn: 1573.7439576\ttotal: 874ms\tremaining: 1.31s\n",
      "20:\tlearn: 1568.0917411\ttotal: 916ms\tremaining: 1.26s\n",
      "21:\tlearn: 1558.0222081\ttotal: 963ms\tremaining: 1.23s\n",
      "22:\tlearn: 1552.2743281\ttotal: 1.01s\tremaining: 1.19s\n",
      "23:\tlearn: 1545.5297036\ttotal: 1.05s\tremaining: 1.14s\n",
      "24:\tlearn: 1540.7295217\ttotal: 1.09s\tremaining: 1.09s\n",
      "25:\tlearn: 1532.6573882\ttotal: 1.14s\tremaining: 1.05s\n",
      "26:\tlearn: 1524.6168051\ttotal: 1.18s\tremaining: 1.01s\n",
      "27:\tlearn: 1519.5153522\ttotal: 1.23s\tremaining: 967ms\n",
      "28:\tlearn: 1515.3205265\ttotal: 1.27s\tremaining: 922ms\n",
      "29:\tlearn: 1509.7313115\ttotal: 1.32s\tremaining: 879ms\n",
      "30:\tlearn: 1504.4020104\ttotal: 1.36s\tremaining: 835ms\n",
      "31:\tlearn: 1499.2727341\ttotal: 1.4s\tremaining: 790ms\n",
      "32:\tlearn: 1494.9196219\ttotal: 1.45s\tremaining: 747ms\n",
      "33:\tlearn: 1491.4833907\ttotal: 1.49s\tremaining: 703ms\n",
      "34:\tlearn: 1486.8997923\ttotal: 1.54s\tremaining: 659ms\n",
      "35:\tlearn: 1483.5078251\ttotal: 1.58s\tremaining: 616ms\n",
      "36:\tlearn: 1481.1924883\ttotal: 1.63s\tremaining: 572ms\n",
      "37:\tlearn: 1478.3280650\ttotal: 1.67s\tremaining: 529ms\n",
      "38:\tlearn: 1475.0895512\ttotal: 1.72s\tremaining: 484ms\n",
      "39:\tlearn: 1469.4099932\ttotal: 1.76s\tremaining: 440ms\n",
      "40:\tlearn: 1467.4762471\ttotal: 1.8s\tremaining: 396ms\n",
      "41:\tlearn: 1464.1389585\ttotal: 1.85s\tremaining: 353ms\n",
      "42:\tlearn: 1460.0562070\ttotal: 1.89s\tremaining: 308ms\n",
      "43:\tlearn: 1455.0082795\ttotal: 1.93s\tremaining: 264ms\n",
      "44:\tlearn: 1452.0500671\ttotal: 1.98s\tremaining: 220ms\n",
      "45:\tlearn: 1449.1251388\ttotal: 2.02s\tremaining: 176ms\n",
      "46:\tlearn: 1446.8248192\ttotal: 2.07s\tremaining: 132ms\n",
      "47:\tlearn: 1444.4266104\ttotal: 2.11s\tremaining: 87.8ms\n",
      "48:\tlearn: 1441.5225570\ttotal: 2.15s\tremaining: 43.9ms\n",
      "49:\tlearn: 1437.9497368\ttotal: 2.19s\tremaining: 0us\n",
      "0:\tlearn: 2625.0228702\ttotal: 48.5ms\tremaining: 2.38s\n",
      "1:\tlearn: 2094.1109164\ttotal: 99.7ms\tremaining: 2.39s\n",
      "2:\tlearn: 1931.1115520\ttotal: 152ms\tremaining: 2.39s\n",
      "3:\tlearn: 1843.1213638\ttotal: 200ms\tremaining: 2.29s\n",
      "4:\tlearn: 1789.3538293\ttotal: 247ms\tremaining: 2.22s\n",
      "5:\tlearn: 1761.2439554\ttotal: 298ms\tremaining: 2.19s\n",
      "6:\tlearn: 1736.5677543\ttotal: 351ms\tremaining: 2.15s\n",
      "7:\tlearn: 1709.7918677\ttotal: 399ms\tremaining: 2.1s\n",
      "8:\tlearn: 1694.3294485\ttotal: 453ms\tremaining: 2.06s\n",
      "9:\tlearn: 1678.4209996\ttotal: 495ms\tremaining: 1.98s\n",
      "10:\tlearn: 1664.1965214\ttotal: 541ms\tremaining: 1.92s\n",
      "11:\tlearn: 1653.2783967\ttotal: 588ms\tremaining: 1.86s\n",
      "12:\tlearn: 1635.2022329\ttotal: 632ms\tremaining: 1.8s\n",
      "13:\tlearn: 1621.9890839\ttotal: 674ms\tremaining: 1.73s\n",
      "14:\tlearn: 1612.8246186\ttotal: 723ms\tremaining: 1.69s\n",
      "15:\tlearn: 1603.7896393\ttotal: 771ms\tremaining: 1.64s\n",
      "16:\tlearn: 1597.0446151\ttotal: 817ms\tremaining: 1.59s\n",
      "17:\tlearn: 1586.3090314\ttotal: 864ms\tremaining: 1.53s\n",
      "18:\tlearn: 1578.0822526\ttotal: 910ms\tremaining: 1.49s\n",
      "19:\tlearn: 1569.9486490\ttotal: 959ms\tremaining: 1.44s\n",
      "20:\tlearn: 1561.8270246\ttotal: 1.01s\tremaining: 1.39s\n",
      "21:\tlearn: 1554.1947102\ttotal: 1.06s\tremaining: 1.35s\n",
      "22:\tlearn: 1549.0034365\ttotal: 1.12s\tremaining: 1.31s\n",
      "23:\tlearn: 1541.8466815\ttotal: 1.16s\tremaining: 1.26s\n",
      "24:\tlearn: 1538.1987315\ttotal: 1.21s\tremaining: 1.21s\n",
      "25:\tlearn: 1530.0280986\ttotal: 1.25s\tremaining: 1.16s\n",
      "26:\tlearn: 1522.5714656\ttotal: 1.3s\tremaining: 1.1s\n",
      "27:\tlearn: 1517.1275257\ttotal: 1.34s\tremaining: 1.06s\n",
      "28:\tlearn: 1513.1143666\ttotal: 1.39s\tremaining: 1s\n",
      "29:\tlearn: 1506.4710973\ttotal: 1.43s\tremaining: 953ms\n",
      "30:\tlearn: 1502.0717959\ttotal: 1.47s\tremaining: 903ms\n",
      "31:\tlearn: 1497.7312240\ttotal: 1.52s\tremaining: 855ms\n",
      "32:\tlearn: 1493.0336896\ttotal: 1.56s\tremaining: 807ms\n",
      "33:\tlearn: 1487.0547188\ttotal: 1.61s\tremaining: 758ms\n",
      "34:\tlearn: 1480.9555725\ttotal: 1.66s\tremaining: 710ms\n",
      "35:\tlearn: 1476.8783334\ttotal: 1.7s\tremaining: 662ms\n",
      "36:\tlearn: 1472.7946386\ttotal: 1.74s\tremaining: 613ms\n",
      "37:\tlearn: 1468.7349940\ttotal: 1.78s\tremaining: 564ms\n",
      "38:\tlearn: 1464.9098870\ttotal: 1.84s\tremaining: 519ms\n",
      "39:\tlearn: 1461.9969028\ttotal: 1.89s\tremaining: 474ms\n",
      "40:\tlearn: 1457.7973118\ttotal: 1.95s\tremaining: 428ms\n",
      "41:\tlearn: 1455.2765885\ttotal: 2s\tremaining: 381ms\n",
      "42:\tlearn: 1450.3333798\ttotal: 2.05s\tremaining: 334ms\n",
      "43:\tlearn: 1447.2442865\ttotal: 2.09s\tremaining: 286ms\n",
      "44:\tlearn: 1443.7209853\ttotal: 2.14s\tremaining: 238ms\n",
      "45:\tlearn: 1441.2960839\ttotal: 2.18s\tremaining: 190ms\n",
      "46:\tlearn: 1438.1671142\ttotal: 2.23s\tremaining: 142ms\n",
      "47:\tlearn: 1435.3081376\ttotal: 2.27s\tremaining: 94.5ms\n",
      "48:\tlearn: 1432.7449990\ttotal: 2.31s\tremaining: 47.2ms\n",
      "49:\tlearn: 1431.0660421\ttotal: 2.36s\tremaining: 0us\n",
      "0:\tlearn: 2605.5651353\ttotal: 43.6ms\tremaining: 2.13s\n",
      "1:\tlearn: 2112.0141922\ttotal: 86.6ms\tremaining: 2.08s\n",
      "2:\tlearn: 1947.7411439\ttotal: 131ms\tremaining: 2.06s\n",
      "3:\tlearn: 1850.6186080\ttotal: 175ms\tremaining: 2.01s\n",
      "4:\tlearn: 1794.7910573\ttotal: 219ms\tremaining: 1.97s\n",
      "5:\tlearn: 1762.3508397\ttotal: 262ms\tremaining: 1.92s\n",
      "6:\tlearn: 1736.7748265\ttotal: 304ms\tremaining: 1.87s\n",
      "7:\tlearn: 1714.9899226\ttotal: 349ms\tremaining: 1.83s\n",
      "8:\tlearn: 1694.5521688\ttotal: 392ms\tremaining: 1.78s\n",
      "9:\tlearn: 1684.0375246\ttotal: 434ms\tremaining: 1.74s\n",
      "10:\tlearn: 1663.9206970\ttotal: 477ms\tremaining: 1.69s\n",
      "11:\tlearn: 1645.8341717\ttotal: 521ms\tremaining: 1.65s\n",
      "12:\tlearn: 1635.7814065\ttotal: 566ms\tremaining: 1.61s\n",
      "13:\tlearn: 1626.2572480\ttotal: 610ms\tremaining: 1.57s\n",
      "14:\tlearn: 1614.0644497\ttotal: 651ms\tremaining: 1.52s\n",
      "15:\tlearn: 1604.2461751\ttotal: 694ms\tremaining: 1.47s\n",
      "16:\tlearn: 1597.8492850\ttotal: 738ms\tremaining: 1.43s\n",
      "17:\tlearn: 1590.8928980\ttotal: 786ms\tremaining: 1.4s\n",
      "18:\tlearn: 1583.5024627\ttotal: 827ms\tremaining: 1.35s\n",
      "19:\tlearn: 1575.4963827\ttotal: 869ms\tremaining: 1.3s\n",
      "20:\tlearn: 1566.3975787\ttotal: 911ms\tremaining: 1.26s\n",
      "21:\tlearn: 1559.1111438\ttotal: 957ms\tremaining: 1.22s\n",
      "22:\tlearn: 1554.3369225\ttotal: 998ms\tremaining: 1.17s\n",
      "23:\tlearn: 1544.3209196\ttotal: 1.04s\tremaining: 1.13s\n",
      "24:\tlearn: 1537.9129794\ttotal: 1.08s\tremaining: 1.08s\n",
      "25:\tlearn: 1531.3525444\ttotal: 1.14s\tremaining: 1.05s\n",
      "26:\tlearn: 1521.0521399\ttotal: 1.18s\tremaining: 1.01s\n",
      "27:\tlearn: 1518.7811291\ttotal: 1.23s\tremaining: 964ms\n",
      "28:\tlearn: 1511.6655507\ttotal: 1.27s\tremaining: 919ms\n",
      "29:\tlearn: 1508.2844113\ttotal: 1.31s\tremaining: 874ms\n",
      "30:\tlearn: 1503.0860365\ttotal: 1.35s\tremaining: 829ms\n",
      "31:\tlearn: 1499.1352329\ttotal: 1.4s\tremaining: 785ms\n",
      "32:\tlearn: 1490.9573958\ttotal: 1.44s\tremaining: 741ms\n",
      "33:\tlearn: 1487.2936391\ttotal: 1.49s\tremaining: 699ms\n",
      "34:\tlearn: 1482.1206766\ttotal: 1.53s\tremaining: 655ms\n",
      "35:\tlearn: 1476.7194734\ttotal: 1.57s\tremaining: 611ms\n",
      "36:\tlearn: 1473.1179188\ttotal: 1.61s\tremaining: 566ms\n",
      "37:\tlearn: 1468.0636523\ttotal: 1.65s\tremaining: 523ms\n",
      "38:\tlearn: 1465.3622280\ttotal: 1.7s\tremaining: 479ms\n",
      "39:\tlearn: 1461.4376028\ttotal: 1.74s\tremaining: 435ms\n",
      "40:\tlearn: 1456.8126992\ttotal: 1.79s\tremaining: 394ms\n",
      "41:\tlearn: 1453.0044490\ttotal: 1.84s\tremaining: 350ms\n",
      "42:\tlearn: 1448.9570302\ttotal: 1.88s\tremaining: 306ms\n",
      "43:\tlearn: 1445.9386285\ttotal: 1.92s\tremaining: 262ms\n",
      "44:\tlearn: 1443.7805070\ttotal: 1.97s\tremaining: 219ms\n",
      "45:\tlearn: 1440.7684455\ttotal: 2.01s\tremaining: 175ms\n",
      "46:\tlearn: 1437.7772015\ttotal: 2.07s\tremaining: 132ms\n",
      "47:\tlearn: 1434.5593338\ttotal: 2.12s\tremaining: 88.4ms\n",
      "48:\tlearn: 1431.3873086\ttotal: 2.16s\tremaining: 44.2ms\n",
      "49:\tlearn: 1428.2650980\ttotal: 2.21s\tremaining: 0us\n",
      "0:\tlearn: 2602.6380640\ttotal: 43.7ms\tremaining: 2.14s\n",
      "1:\tlearn: 2099.6908727\ttotal: 83.9ms\tremaining: 2.01s\n",
      "2:\tlearn: 1947.4270421\ttotal: 128ms\tremaining: 2s\n",
      "3:\tlearn: 1842.5733252\ttotal: 168ms\tremaining: 1.93s\n",
      "4:\tlearn: 1797.2259633\ttotal: 207ms\tremaining: 1.86s\n",
      "5:\tlearn: 1760.1959737\ttotal: 250ms\tremaining: 1.83s\n",
      "6:\tlearn: 1739.2007642\ttotal: 293ms\tremaining: 1.8s\n",
      "7:\tlearn: 1714.9333845\ttotal: 338ms\tremaining: 1.77s\n",
      "8:\tlearn: 1700.3318887\ttotal: 381ms\tremaining: 1.74s\n",
      "9:\tlearn: 1687.9042623\ttotal: 423ms\tremaining: 1.69s\n",
      "10:\tlearn: 1663.4492047\ttotal: 469ms\tremaining: 1.66s\n",
      "11:\tlearn: 1646.3104013\ttotal: 512ms\tremaining: 1.62s\n",
      "12:\tlearn: 1629.2279192\ttotal: 553ms\tremaining: 1.57s\n",
      "13:\tlearn: 1622.4476838\ttotal: 595ms\tremaining: 1.53s\n",
      "14:\tlearn: 1612.6360487\ttotal: 636ms\tremaining: 1.48s\n",
      "15:\tlearn: 1600.5280768\ttotal: 681ms\tremaining: 1.45s\n",
      "16:\tlearn: 1593.6637544\ttotal: 724ms\tremaining: 1.41s\n",
      "17:\tlearn: 1584.8644739\ttotal: 771ms\tremaining: 1.37s\n",
      "18:\tlearn: 1573.2550802\ttotal: 813ms\tremaining: 1.33s\n",
      "19:\tlearn: 1562.5676631\ttotal: 856ms\tremaining: 1.28s\n",
      "20:\tlearn: 1553.4612045\ttotal: 899ms\tremaining: 1.24s\n",
      "21:\tlearn: 1545.1750755\ttotal: 949ms\tremaining: 1.21s\n",
      "22:\tlearn: 1538.6489155\ttotal: 993ms\tremaining: 1.17s\n",
      "23:\tlearn: 1532.1672127\ttotal: 1.04s\tremaining: 1.12s\n",
      "24:\tlearn: 1524.7263975\ttotal: 1.08s\tremaining: 1.08s\n",
      "25:\tlearn: 1520.7707933\ttotal: 1.13s\tremaining: 1.04s\n",
      "26:\tlearn: 1514.8391476\ttotal: 1.17s\tremaining: 998ms\n",
      "27:\tlearn: 1508.0443537\ttotal: 1.21s\tremaining: 954ms\n",
      "28:\tlearn: 1501.0941231\ttotal: 1.26s\tremaining: 911ms\n",
      "29:\tlearn: 1497.5793354\ttotal: 1.3s\tremaining: 868ms\n",
      "30:\tlearn: 1494.2044437\ttotal: 1.35s\tremaining: 825ms\n",
      "31:\tlearn: 1488.8428595\ttotal: 1.39s\tremaining: 783ms\n",
      "32:\tlearn: 1484.4617251\ttotal: 1.43s\tremaining: 739ms\n",
      "33:\tlearn: 1481.3268289\ttotal: 1.48s\tremaining: 696ms\n",
      "34:\tlearn: 1476.6782651\ttotal: 1.52s\tremaining: 652ms\n",
      "35:\tlearn: 1473.4119220\ttotal: 1.56s\tremaining: 608ms\n",
      "36:\tlearn: 1468.8617238\ttotal: 1.61s\tremaining: 565ms\n",
      "37:\tlearn: 1465.4067821\ttotal: 1.65s\tremaining: 522ms\n",
      "38:\tlearn: 1462.0567319\ttotal: 1.7s\tremaining: 479ms\n",
      "39:\tlearn: 1456.9405347\ttotal: 1.74s\tremaining: 435ms\n",
      "40:\tlearn: 1454.2074086\ttotal: 1.78s\tremaining: 391ms\n",
      "41:\tlearn: 1450.9656426\ttotal: 1.83s\tremaining: 349ms\n",
      "42:\tlearn: 1446.6165703\ttotal: 1.87s\tremaining: 305ms\n",
      "43:\tlearn: 1443.1882311\ttotal: 1.92s\tremaining: 261ms\n",
      "44:\tlearn: 1439.6423685\ttotal: 1.96s\tremaining: 218ms\n",
      "45:\tlearn: 1436.7337351\ttotal: 2s\tremaining: 174ms\n",
      "46:\tlearn: 1433.7609972\ttotal: 2.05s\tremaining: 131ms\n",
      "47:\tlearn: 1430.7936858\ttotal: 2.09s\tremaining: 87.2ms\n",
      "48:\tlearn: 1426.2219979\ttotal: 2.14s\tremaining: 43.6ms\n",
      "49:\tlearn: 1424.0150723\ttotal: 2.19s\tremaining: 0us\n",
      "0:\tlearn: 2602.5236506\ttotal: 44.6ms\tremaining: 2.19s\n",
      "1:\tlearn: 2105.6489580\ttotal: 89.4ms\tremaining: 2.15s\n",
      "2:\tlearn: 1955.6259863\ttotal: 135ms\tremaining: 2.11s\n",
      "3:\tlearn: 1854.3603209\ttotal: 178ms\tremaining: 2.05s\n",
      "4:\tlearn: 1813.8587393\ttotal: 220ms\tremaining: 1.98s\n",
      "5:\tlearn: 1779.7759824\ttotal: 266ms\tremaining: 1.95s\n",
      "6:\tlearn: 1749.1236180\ttotal: 316ms\tremaining: 1.94s\n",
      "7:\tlearn: 1721.4324176\ttotal: 363ms\tremaining: 1.9s\n",
      "8:\tlearn: 1710.9923516\ttotal: 405ms\tremaining: 1.85s\n",
      "9:\tlearn: 1695.3758985\ttotal: 450ms\tremaining: 1.8s\n",
      "10:\tlearn: 1677.0219497\ttotal: 499ms\tremaining: 1.77s\n",
      "11:\tlearn: 1655.6018031\ttotal: 545ms\tremaining: 1.73s\n",
      "12:\tlearn: 1643.3341253\ttotal: 592ms\tremaining: 1.68s\n",
      "13:\tlearn: 1633.8928405\ttotal: 640ms\tremaining: 1.65s\n",
      "14:\tlearn: 1625.6979293\ttotal: 689ms\tremaining: 1.61s\n",
      "15:\tlearn: 1612.0711379\ttotal: 737ms\tremaining: 1.56s\n",
      "16:\tlearn: 1599.5949511\ttotal: 783ms\tremaining: 1.52s\n",
      "17:\tlearn: 1591.3160601\ttotal: 826ms\tremaining: 1.47s\n",
      "18:\tlearn: 1581.0837184\ttotal: 869ms\tremaining: 1.42s\n",
      "19:\tlearn: 1573.0382668\ttotal: 912ms\tremaining: 1.37s\n",
      "20:\tlearn: 1562.1842356\ttotal: 956ms\tremaining: 1.32s\n",
      "21:\tlearn: 1554.6188085\ttotal: 1s\tremaining: 1.27s\n",
      "22:\tlearn: 1549.5115297\ttotal: 1.04s\tremaining: 1.23s\n",
      "23:\tlearn: 1542.2095231\ttotal: 1.09s\tremaining: 1.18s\n",
      "24:\tlearn: 1536.7780287\ttotal: 1.13s\tremaining: 1.13s\n",
      "25:\tlearn: 1531.1819541\ttotal: 1.17s\tremaining: 1.08s\n",
      "26:\tlearn: 1526.3593920\ttotal: 1.22s\tremaining: 1.04s\n",
      "27:\tlearn: 1520.1541168\ttotal: 1.26s\tremaining: 994ms\n",
      "28:\tlearn: 1516.1606897\ttotal: 1.31s\tremaining: 948ms\n",
      "29:\tlearn: 1512.5208439\ttotal: 1.35s\tremaining: 901ms\n",
      "30:\tlearn: 1506.7049291\ttotal: 1.4s\tremaining: 856ms\n",
      "31:\tlearn: 1500.3796543\ttotal: 1.44s\tremaining: 809ms\n",
      "32:\tlearn: 1496.3834278\ttotal: 1.49s\tremaining: 765ms\n",
      "33:\tlearn: 1489.9053307\ttotal: 1.53s\tremaining: 720ms\n",
      "34:\tlearn: 1488.2250548\ttotal: 1.56s\tremaining: 667ms\n",
      "35:\tlearn: 1480.8591205\ttotal: 1.6s\tremaining: 622ms\n",
      "36:\tlearn: 1477.5183242\ttotal: 1.64s\tremaining: 576ms\n",
      "37:\tlearn: 1473.5705163\ttotal: 1.68s\tremaining: 532ms\n",
      "38:\tlearn: 1470.2906322\ttotal: 1.73s\tremaining: 487ms\n",
      "39:\tlearn: 1466.6172834\ttotal: 1.77s\tremaining: 442ms\n",
      "40:\tlearn: 1464.1109911\ttotal: 1.81s\tremaining: 398ms\n",
      "41:\tlearn: 1461.0953625\ttotal: 1.85s\tremaining: 353ms\n",
      "42:\tlearn: 1455.4805218\ttotal: 1.9s\tremaining: 309ms\n",
      "43:\tlearn: 1451.2408469\ttotal: 1.94s\tremaining: 265ms\n",
      "44:\tlearn: 1448.4146841\ttotal: 1.98s\tremaining: 220ms\n",
      "45:\tlearn: 1444.3382243\ttotal: 2.02s\tremaining: 176ms\n",
      "46:\tlearn: 1442.0262427\ttotal: 2.07s\tremaining: 132ms\n",
      "47:\tlearn: 1438.5392581\ttotal: 2.11s\tremaining: 88ms\n",
      "48:\tlearn: 1435.5036719\ttotal: 2.15s\tremaining: 44ms\n",
      "49:\tlearn: 1433.8713080\ttotal: 2.2s\tremaining: 0us\n",
      "0:\tlearn: 2615.3521296\ttotal: 42.5ms\tremaining: 4.21s\n",
      "1:\tlearn: 2120.1179859\ttotal: 86.3ms\tremaining: 4.23s\n",
      "2:\tlearn: 1967.4799089\ttotal: 129ms\tremaining: 4.16s\n",
      "3:\tlearn: 1860.4083266\ttotal: 170ms\tremaining: 4.07s\n",
      "4:\tlearn: 1800.8421484\ttotal: 215ms\tremaining: 4.08s\n",
      "5:\tlearn: 1775.9171767\ttotal: 257ms\tremaining: 4.03s\n",
      "6:\tlearn: 1748.1035671\ttotal: 309ms\tremaining: 4.11s\n",
      "7:\tlearn: 1723.9329236\ttotal: 363ms\tremaining: 4.17s\n",
      "8:\tlearn: 1703.1864682\ttotal: 408ms\tremaining: 4.13s\n",
      "9:\tlearn: 1684.5633817\ttotal: 456ms\tremaining: 4.11s\n",
      "10:\tlearn: 1670.7345252\ttotal: 502ms\tremaining: 4.06s\n",
      "11:\tlearn: 1654.7261104\ttotal: 551ms\tremaining: 4.04s\n",
      "12:\tlearn: 1639.2050193\ttotal: 598ms\tremaining: 4s\n",
      "13:\tlearn: 1629.3206103\ttotal: 645ms\tremaining: 3.96s\n",
      "14:\tlearn: 1621.9635126\ttotal: 699ms\tremaining: 3.96s\n",
      "15:\tlearn: 1607.3747282\ttotal: 754ms\tremaining: 3.96s\n",
      "16:\tlearn: 1593.3592978\ttotal: 805ms\tremaining: 3.93s\n",
      "17:\tlearn: 1584.5735933\ttotal: 864ms\tremaining: 3.94s\n",
      "18:\tlearn: 1579.6293013\ttotal: 912ms\tremaining: 3.89s\n",
      "19:\tlearn: 1573.7439576\ttotal: 960ms\tremaining: 3.84s\n",
      "20:\tlearn: 1568.0917411\ttotal: 1s\tremaining: 3.77s\n",
      "21:\tlearn: 1558.0222081\ttotal: 1.04s\tremaining: 3.71s\n",
      "22:\tlearn: 1552.2743281\ttotal: 1.09s\tremaining: 3.65s\n",
      "23:\tlearn: 1545.5297036\ttotal: 1.14s\tremaining: 3.6s\n",
      "24:\tlearn: 1540.7295217\ttotal: 1.18s\tremaining: 3.55s\n",
      "25:\tlearn: 1532.6573882\ttotal: 1.23s\tremaining: 3.49s\n",
      "26:\tlearn: 1524.6168051\ttotal: 1.27s\tremaining: 3.44s\n",
      "27:\tlearn: 1519.5153522\ttotal: 1.31s\tremaining: 3.38s\n",
      "28:\tlearn: 1515.3205265\ttotal: 1.36s\tremaining: 3.32s\n",
      "29:\tlearn: 1509.7313115\ttotal: 1.4s\tremaining: 3.27s\n",
      "30:\tlearn: 1504.4020104\ttotal: 1.45s\tremaining: 3.23s\n",
      "31:\tlearn: 1499.2727341\ttotal: 1.49s\tremaining: 3.17s\n",
      "32:\tlearn: 1494.9196219\ttotal: 1.54s\tremaining: 3.12s\n",
      "33:\tlearn: 1491.4833907\ttotal: 1.58s\tremaining: 3.06s\n",
      "34:\tlearn: 1486.8997923\ttotal: 1.62s\tremaining: 3.01s\n",
      "35:\tlearn: 1483.5078251\ttotal: 1.67s\tremaining: 2.96s\n",
      "36:\tlearn: 1481.1924883\ttotal: 1.71s\tremaining: 2.91s\n",
      "37:\tlearn: 1478.3280650\ttotal: 1.75s\tremaining: 2.86s\n",
      "38:\tlearn: 1475.0895512\ttotal: 1.79s\tremaining: 2.8s\n",
      "39:\tlearn: 1469.4099932\ttotal: 1.84s\tremaining: 2.76s\n",
      "40:\tlearn: 1467.4762471\ttotal: 1.88s\tremaining: 2.71s\n",
      "41:\tlearn: 1464.1389585\ttotal: 1.92s\tremaining: 2.65s\n",
      "42:\tlearn: 1460.0562070\ttotal: 1.96s\tremaining: 2.6s\n",
      "43:\tlearn: 1455.0082795\ttotal: 2s\tremaining: 2.55s\n",
      "44:\tlearn: 1452.0500671\ttotal: 2.05s\tremaining: 2.5s\n",
      "45:\tlearn: 1449.1251388\ttotal: 2.09s\tremaining: 2.46s\n",
      "46:\tlearn: 1446.8248192\ttotal: 2.14s\tremaining: 2.41s\n",
      "47:\tlearn: 1444.4266104\ttotal: 2.18s\tremaining: 2.37s\n",
      "48:\tlearn: 1441.5225570\ttotal: 2.23s\tremaining: 2.32s\n",
      "49:\tlearn: 1437.9497368\ttotal: 2.27s\tremaining: 2.27s\n",
      "50:\tlearn: 1435.5960197\ttotal: 2.32s\tremaining: 2.23s\n",
      "51:\tlearn: 1432.8896339\ttotal: 2.36s\tremaining: 2.18s\n",
      "52:\tlearn: 1430.4363104\ttotal: 2.41s\tremaining: 2.13s\n",
      "53:\tlearn: 1426.4930240\ttotal: 2.45s\tremaining: 2.09s\n",
      "54:\tlearn: 1424.0113657\ttotal: 2.49s\tremaining: 2.04s\n",
      "55:\tlearn: 1421.5408144\ttotal: 2.54s\tremaining: 1.99s\n",
      "56:\tlearn: 1418.4934183\ttotal: 2.58s\tremaining: 1.95s\n",
      "57:\tlearn: 1415.5696712\ttotal: 2.62s\tremaining: 1.9s\n",
      "58:\tlearn: 1412.3619559\ttotal: 2.67s\tremaining: 1.85s\n",
      "59:\tlearn: 1410.1988494\ttotal: 2.71s\tremaining: 1.81s\n",
      "60:\tlearn: 1407.6493396\ttotal: 2.76s\tremaining: 1.76s\n",
      "61:\tlearn: 1405.0350885\ttotal: 2.8s\tremaining: 1.72s\n",
      "62:\tlearn: 1403.0417372\ttotal: 2.86s\tremaining: 1.68s\n",
      "63:\tlearn: 1400.9224216\ttotal: 2.9s\tremaining: 1.63s\n",
      "64:\tlearn: 1397.5098239\ttotal: 2.95s\tremaining: 1.59s\n",
      "65:\tlearn: 1395.4190977\ttotal: 2.99s\tremaining: 1.54s\n",
      "66:\tlearn: 1392.8971025\ttotal: 3.04s\tremaining: 1.5s\n",
      "67:\tlearn: 1391.2288050\ttotal: 3.08s\tremaining: 1.45s\n",
      "68:\tlearn: 1389.0530585\ttotal: 3.13s\tremaining: 1.4s\n",
      "69:\tlearn: 1387.2951565\ttotal: 3.17s\tremaining: 1.36s\n",
      "70:\tlearn: 1383.9790021\ttotal: 3.22s\tremaining: 1.31s\n",
      "71:\tlearn: 1381.9165030\ttotal: 3.26s\tremaining: 1.27s\n",
      "72:\tlearn: 1380.3585034\ttotal: 3.31s\tremaining: 1.22s\n",
      "73:\tlearn: 1379.1346499\ttotal: 3.35s\tremaining: 1.18s\n",
      "74:\tlearn: 1377.2806668\ttotal: 3.39s\tremaining: 1.13s\n",
      "75:\tlearn: 1374.4175943\ttotal: 3.44s\tremaining: 1.08s\n",
      "76:\tlearn: 1372.6450614\ttotal: 3.48s\tremaining: 1.04s\n",
      "77:\tlearn: 1371.2422567\ttotal: 3.52s\tremaining: 993ms\n",
      "78:\tlearn: 1369.1121584\ttotal: 3.56s\tremaining: 947ms\n",
      "79:\tlearn: 1367.5740224\ttotal: 3.61s\tremaining: 903ms\n",
      "80:\tlearn: 1366.1954060\ttotal: 3.65s\tremaining: 857ms\n",
      "81:\tlearn: 1364.2247484\ttotal: 3.7s\tremaining: 811ms\n",
      "82:\tlearn: 1363.1080900\ttotal: 3.74s\tremaining: 766ms\n",
      "83:\tlearn: 1361.3963815\ttotal: 3.79s\tremaining: 722ms\n",
      "84:\tlearn: 1360.1573166\ttotal: 3.85s\tremaining: 679ms\n",
      "85:\tlearn: 1359.0172297\ttotal: 3.9s\tremaining: 634ms\n",
      "86:\tlearn: 1356.7377784\ttotal: 3.94s\tremaining: 589ms\n",
      "87:\tlearn: 1354.6571490\ttotal: 3.98s\tremaining: 543ms\n",
      "88:\tlearn: 1353.1570823\ttotal: 4.03s\tremaining: 498ms\n",
      "89:\tlearn: 1351.8498552\ttotal: 4.07s\tremaining: 453ms\n",
      "90:\tlearn: 1350.4317841\ttotal: 4.12s\tremaining: 407ms\n",
      "91:\tlearn: 1348.7449725\ttotal: 4.16s\tremaining: 362ms\n",
      "92:\tlearn: 1347.6187647\ttotal: 4.2s\tremaining: 316ms\n",
      "93:\tlearn: 1345.3932579\ttotal: 4.24s\tremaining: 271ms\n",
      "94:\tlearn: 1343.8283471\ttotal: 4.29s\tremaining: 226ms\n",
      "95:\tlearn: 1342.3042630\ttotal: 4.33s\tremaining: 180ms\n",
      "96:\tlearn: 1340.9033920\ttotal: 4.37s\tremaining: 135ms\n",
      "97:\tlearn: 1339.8391834\ttotal: 4.41s\tremaining: 90.1ms\n",
      "98:\tlearn: 1338.7277484\ttotal: 4.46s\tremaining: 45.1ms\n",
      "99:\tlearn: 1337.4745916\ttotal: 4.5s\tremaining: 0us\n",
      "0:\tlearn: 2625.0228702\ttotal: 41.5ms\tremaining: 4.11s\n",
      "1:\tlearn: 2094.1109164\ttotal: 83.4ms\tremaining: 4.08s\n",
      "2:\tlearn: 1931.1115520\ttotal: 128ms\tremaining: 4.12s\n",
      "3:\tlearn: 1843.1213638\ttotal: 173ms\tremaining: 4.15s\n",
      "4:\tlearn: 1789.3538293\ttotal: 219ms\tremaining: 4.16s\n",
      "5:\tlearn: 1761.2439554\ttotal: 265ms\tremaining: 4.14s\n",
      "6:\tlearn: 1736.5677543\ttotal: 313ms\tremaining: 4.16s\n",
      "7:\tlearn: 1709.7918677\ttotal: 356ms\tremaining: 4.09s\n",
      "8:\tlearn: 1694.3294485\ttotal: 401ms\tremaining: 4.05s\n",
      "9:\tlearn: 1678.4209996\ttotal: 445ms\tremaining: 4s\n",
      "10:\tlearn: 1664.1965214\ttotal: 495ms\tremaining: 4s\n",
      "11:\tlearn: 1653.2783967\ttotal: 541ms\tremaining: 3.97s\n",
      "12:\tlearn: 1635.2022329\ttotal: 584ms\tremaining: 3.9s\n",
      "13:\tlearn: 1621.9890839\ttotal: 628ms\tremaining: 3.86s\n",
      "14:\tlearn: 1612.8246186\ttotal: 673ms\tremaining: 3.81s\n",
      "15:\tlearn: 1603.7896393\ttotal: 719ms\tremaining: 3.77s\n",
      "16:\tlearn: 1597.0446151\ttotal: 762ms\tremaining: 3.72s\n",
      "17:\tlearn: 1586.3090314\ttotal: 809ms\tremaining: 3.68s\n",
      "18:\tlearn: 1578.0822526\ttotal: 852ms\tremaining: 3.63s\n",
      "19:\tlearn: 1569.9486490\ttotal: 897ms\tremaining: 3.59s\n",
      "20:\tlearn: 1561.8270246\ttotal: 943ms\tremaining: 3.54s\n",
      "21:\tlearn: 1554.1947102\ttotal: 986ms\tremaining: 3.49s\n",
      "22:\tlearn: 1549.0034365\ttotal: 1.03s\tremaining: 3.44s\n",
      "23:\tlearn: 1541.8466815\ttotal: 1.07s\tremaining: 3.38s\n",
      "24:\tlearn: 1538.1987315\ttotal: 1.11s\tremaining: 3.34s\n",
      "25:\tlearn: 1530.0280986\ttotal: 1.16s\tremaining: 3.29s\n",
      "26:\tlearn: 1522.5714656\ttotal: 1.2s\tremaining: 3.26s\n",
      "27:\tlearn: 1517.1275257\ttotal: 1.25s\tremaining: 3.21s\n",
      "28:\tlearn: 1513.1143666\ttotal: 1.29s\tremaining: 3.15s\n",
      "29:\tlearn: 1506.4710973\ttotal: 1.33s\tremaining: 3.11s\n",
      "30:\tlearn: 1502.0717959\ttotal: 1.37s\tremaining: 3.06s\n",
      "31:\tlearn: 1497.7312240\ttotal: 1.42s\tremaining: 3.01s\n",
      "32:\tlearn: 1493.0336896\ttotal: 1.46s\tremaining: 2.96s\n",
      "33:\tlearn: 1487.0547188\ttotal: 1.5s\tremaining: 2.91s\n",
      "34:\tlearn: 1480.9555725\ttotal: 1.54s\tremaining: 2.86s\n",
      "35:\tlearn: 1476.8783334\ttotal: 1.58s\tremaining: 2.82s\n",
      "36:\tlearn: 1472.7946386\ttotal: 1.63s\tremaining: 2.77s\n",
      "37:\tlearn: 1468.7349940\ttotal: 1.67s\tremaining: 2.73s\n",
      "38:\tlearn: 1464.9098870\ttotal: 1.71s\tremaining: 2.68s\n",
      "39:\tlearn: 1461.9969028\ttotal: 1.75s\tremaining: 2.63s\n",
      "40:\tlearn: 1457.7973118\ttotal: 1.79s\tremaining: 2.58s\n",
      "41:\tlearn: 1455.2765885\ttotal: 1.84s\tremaining: 2.54s\n",
      "42:\tlearn: 1450.3333798\ttotal: 1.88s\tremaining: 2.5s\n",
      "43:\tlearn: 1447.2442865\ttotal: 1.93s\tremaining: 2.45s\n",
      "44:\tlearn: 1443.7209853\ttotal: 1.97s\tremaining: 2.41s\n",
      "45:\tlearn: 1441.2960839\ttotal: 2.02s\tremaining: 2.37s\n",
      "46:\tlearn: 1438.1671142\ttotal: 2.06s\tremaining: 2.33s\n",
      "47:\tlearn: 1435.3081376\ttotal: 2.11s\tremaining: 2.28s\n",
      "48:\tlearn: 1432.7449990\ttotal: 2.15s\tremaining: 2.24s\n",
      "49:\tlearn: 1431.0660421\ttotal: 2.19s\tremaining: 2.19s\n",
      "50:\tlearn: 1428.2101441\ttotal: 2.24s\tremaining: 2.15s\n",
      "51:\tlearn: 1423.8848421\ttotal: 2.28s\tremaining: 2.11s\n",
      "52:\tlearn: 1420.6095772\ttotal: 2.33s\tremaining: 2.06s\n",
      "53:\tlearn: 1418.8395777\ttotal: 2.37s\tremaining: 2.02s\n",
      "54:\tlearn: 1416.4955074\ttotal: 2.42s\tremaining: 1.98s\n",
      "55:\tlearn: 1413.6856037\ttotal: 2.47s\tremaining: 1.94s\n",
      "56:\tlearn: 1411.3433045\ttotal: 2.51s\tremaining: 1.89s\n",
      "57:\tlearn: 1408.8625220\ttotal: 2.55s\tremaining: 1.85s\n",
      "58:\tlearn: 1405.6611958\ttotal: 2.59s\tremaining: 1.8s\n",
      "59:\tlearn: 1403.0545087\ttotal: 2.63s\tremaining: 1.76s\n",
      "60:\tlearn: 1400.7676195\ttotal: 2.68s\tremaining: 1.71s\n",
      "61:\tlearn: 1399.4856936\ttotal: 2.72s\tremaining: 1.67s\n",
      "62:\tlearn: 1398.0545333\ttotal: 2.77s\tremaining: 1.62s\n",
      "63:\tlearn: 1395.9868715\ttotal: 2.81s\tremaining: 1.58s\n",
      "64:\tlearn: 1392.3245510\ttotal: 2.86s\tremaining: 1.54s\n",
      "65:\tlearn: 1389.1950571\ttotal: 2.9s\tremaining: 1.5s\n",
      "66:\tlearn: 1387.0786960\ttotal: 2.95s\tremaining: 1.45s\n",
      "67:\tlearn: 1385.5650238\ttotal: 2.99s\tremaining: 1.41s\n",
      "68:\tlearn: 1383.8736314\ttotal: 3.03s\tremaining: 1.36s\n",
      "69:\tlearn: 1381.8755380\ttotal: 3.07s\tremaining: 1.32s\n",
      "70:\tlearn: 1379.2190310\ttotal: 3.12s\tremaining: 1.27s\n",
      "71:\tlearn: 1376.5595863\ttotal: 3.18s\tremaining: 1.24s\n",
      "72:\tlearn: 1374.5772528\ttotal: 3.23s\tremaining: 1.19s\n",
      "73:\tlearn: 1372.6940729\ttotal: 3.27s\tremaining: 1.15s\n",
      "74:\tlearn: 1371.4150308\ttotal: 3.31s\tremaining: 1.1s\n",
      "75:\tlearn: 1369.2177938\ttotal: 3.39s\tremaining: 1.07s\n",
      "76:\tlearn: 1367.3938507\ttotal: 3.48s\tremaining: 1.04s\n",
      "77:\tlearn: 1366.1511139\ttotal: 3.56s\tremaining: 1s\n",
      "78:\tlearn: 1364.8045495\ttotal: 3.65s\tremaining: 970ms\n",
      "79:\tlearn: 1363.4026317\ttotal: 3.69s\tremaining: 923ms\n",
      "80:\tlearn: 1362.1827479\ttotal: 3.73s\tremaining: 876ms\n",
      "81:\tlearn: 1360.7123575\ttotal: 3.78s\tremaining: 829ms\n",
      "82:\tlearn: 1358.0905615\ttotal: 3.82s\tremaining: 782ms\n",
      "83:\tlearn: 1356.1871637\ttotal: 3.86s\tremaining: 736ms\n",
      "84:\tlearn: 1355.2048382\ttotal: 3.91s\tremaining: 689ms\n",
      "85:\tlearn: 1353.7773061\ttotal: 3.95s\tremaining: 643ms\n",
      "86:\tlearn: 1351.9636048\ttotal: 3.99s\tremaining: 597ms\n",
      "87:\tlearn: 1349.4278620\ttotal: 4.04s\tremaining: 551ms\n",
      "88:\tlearn: 1348.3130673\ttotal: 4.08s\tremaining: 504ms\n",
      "89:\tlearn: 1345.5616984\ttotal: 4.12s\tremaining: 458ms\n",
      "90:\tlearn: 1344.1441492\ttotal: 4.16s\tremaining: 412ms\n",
      "91:\tlearn: 1342.4784785\ttotal: 4.21s\tremaining: 366ms\n",
      "92:\tlearn: 1340.9103663\ttotal: 4.25s\tremaining: 320ms\n",
      "93:\tlearn: 1340.0275460\ttotal: 4.29s\tremaining: 274ms\n",
      "94:\tlearn: 1338.9999942\ttotal: 4.33s\tremaining: 228ms\n",
      "95:\tlearn: 1337.9544271\ttotal: 4.38s\tremaining: 182ms\n",
      "96:\tlearn: 1336.8398898\ttotal: 4.42s\tremaining: 137ms\n",
      "97:\tlearn: 1334.8723240\ttotal: 4.46s\tremaining: 91.1ms\n",
      "98:\tlearn: 1333.2346536\ttotal: 4.51s\tremaining: 45.5ms\n",
      "99:\tlearn: 1332.2381386\ttotal: 4.55s\tremaining: 0us\n",
      "0:\tlearn: 2605.5651353\ttotal: 48.5ms\tremaining: 4.8s\n",
      "1:\tlearn: 2112.0141922\ttotal: 100ms\tremaining: 4.91s\n",
      "2:\tlearn: 1947.7411439\ttotal: 148ms\tremaining: 4.78s\n",
      "3:\tlearn: 1850.6186080\ttotal: 194ms\tremaining: 4.66s\n",
      "4:\tlearn: 1794.7910573\ttotal: 237ms\tremaining: 4.51s\n",
      "5:\tlearn: 1762.3508397\ttotal: 285ms\tremaining: 4.46s\n",
      "6:\tlearn: 1736.7748265\ttotal: 328ms\tremaining: 4.35s\n",
      "7:\tlearn: 1714.9899226\ttotal: 373ms\tremaining: 4.29s\n",
      "8:\tlearn: 1694.5521688\ttotal: 417ms\tremaining: 4.22s\n",
      "9:\tlearn: 1684.0375246\ttotal: 465ms\tremaining: 4.19s\n",
      "10:\tlearn: 1663.9206970\ttotal: 521ms\tremaining: 4.22s\n",
      "11:\tlearn: 1645.8341717\ttotal: 573ms\tremaining: 4.2s\n",
      "12:\tlearn: 1635.7814065\ttotal: 630ms\tremaining: 4.22s\n",
      "13:\tlearn: 1626.2572480\ttotal: 689ms\tremaining: 4.23s\n",
      "14:\tlearn: 1614.0644497\ttotal: 745ms\tremaining: 4.22s\n",
      "15:\tlearn: 1604.2461751\ttotal: 805ms\tremaining: 4.22s\n",
      "16:\tlearn: 1597.8492850\ttotal: 849ms\tremaining: 4.15s\n",
      "17:\tlearn: 1590.8928980\ttotal: 891ms\tremaining: 4.06s\n",
      "18:\tlearn: 1583.5024627\ttotal: 934ms\tremaining: 3.98s\n",
      "19:\tlearn: 1575.4963827\ttotal: 984ms\tremaining: 3.93s\n",
      "20:\tlearn: 1566.3975787\ttotal: 1.03s\tremaining: 3.88s\n",
      "21:\tlearn: 1559.1111438\ttotal: 1.07s\tremaining: 3.81s\n",
      "22:\tlearn: 1554.3369225\ttotal: 1.12s\tremaining: 3.74s\n",
      "23:\tlearn: 1544.3209196\ttotal: 1.16s\tremaining: 3.68s\n",
      "24:\tlearn: 1537.9129794\ttotal: 1.21s\tremaining: 3.62s\n",
      "25:\tlearn: 1531.3525444\ttotal: 1.25s\tremaining: 3.55s\n",
      "26:\tlearn: 1521.0521399\ttotal: 1.29s\tremaining: 3.49s\n",
      "27:\tlearn: 1518.7811291\ttotal: 1.33s\tremaining: 3.43s\n",
      "28:\tlearn: 1511.6655507\ttotal: 1.38s\tremaining: 3.37s\n",
      "29:\tlearn: 1508.2844113\ttotal: 1.42s\tremaining: 3.31s\n",
      "30:\tlearn: 1503.0860365\ttotal: 1.47s\tremaining: 3.26s\n",
      "31:\tlearn: 1499.1352329\ttotal: 1.51s\tremaining: 3.21s\n",
      "32:\tlearn: 1490.9573958\ttotal: 1.55s\tremaining: 3.15s\n",
      "33:\tlearn: 1487.2936391\ttotal: 1.6s\tremaining: 3.1s\n",
      "34:\tlearn: 1482.1206766\ttotal: 1.64s\tremaining: 3.05s\n",
      "35:\tlearn: 1476.7194734\ttotal: 1.69s\tremaining: 3s\n",
      "36:\tlearn: 1473.1179188\ttotal: 1.73s\tremaining: 2.95s\n",
      "37:\tlearn: 1468.0636523\ttotal: 1.77s\tremaining: 2.9s\n",
      "38:\tlearn: 1465.3622280\ttotal: 1.82s\tremaining: 2.84s\n",
      "39:\tlearn: 1461.4376028\ttotal: 1.86s\tremaining: 2.79s\n",
      "40:\tlearn: 1456.8126992\ttotal: 1.9s\tremaining: 2.74s\n",
      "41:\tlearn: 1453.0044490\ttotal: 1.95s\tremaining: 2.69s\n",
      "42:\tlearn: 1448.9570302\ttotal: 1.99s\tremaining: 2.64s\n",
      "43:\tlearn: 1445.9386285\ttotal: 2.04s\tremaining: 2.59s\n",
      "44:\tlearn: 1443.7805070\ttotal: 2.08s\tremaining: 2.54s\n",
      "45:\tlearn: 1440.7684455\ttotal: 2.12s\tremaining: 2.49s\n",
      "46:\tlearn: 1437.7772015\ttotal: 2.17s\tremaining: 2.45s\n",
      "47:\tlearn: 1434.5593338\ttotal: 2.22s\tremaining: 2.4s\n",
      "48:\tlearn: 1431.3873086\ttotal: 2.26s\tremaining: 2.35s\n",
      "49:\tlearn: 1428.2650980\ttotal: 2.3s\tremaining: 2.3s\n",
      "50:\tlearn: 1425.8515331\ttotal: 2.35s\tremaining: 2.25s\n",
      "51:\tlearn: 1423.6099534\ttotal: 2.39s\tremaining: 2.2s\n",
      "52:\tlearn: 1421.2963928\ttotal: 2.43s\tremaining: 2.16s\n",
      "53:\tlearn: 1419.0486104\ttotal: 2.47s\tremaining: 2.11s\n",
      "54:\tlearn: 1416.0487104\ttotal: 2.52s\tremaining: 2.06s\n",
      "55:\tlearn: 1414.3707060\ttotal: 2.56s\tremaining: 2.01s\n",
      "56:\tlearn: 1411.9972036\ttotal: 2.6s\tremaining: 1.96s\n",
      "57:\tlearn: 1409.1714992\ttotal: 2.64s\tremaining: 1.91s\n",
      "58:\tlearn: 1406.5612941\ttotal: 2.69s\tremaining: 1.86s\n",
      "59:\tlearn: 1404.1172551\ttotal: 2.73s\tremaining: 1.82s\n",
      "60:\tlearn: 1402.4942233\ttotal: 2.77s\tremaining: 1.77s\n",
      "61:\tlearn: 1399.9584589\ttotal: 2.81s\tremaining: 1.72s\n",
      "62:\tlearn: 1397.4985142\ttotal: 2.85s\tremaining: 1.68s\n",
      "63:\tlearn: 1395.0268439\ttotal: 2.89s\tremaining: 1.63s\n",
      "64:\tlearn: 1392.1544849\ttotal: 2.94s\tremaining: 1.58s\n",
      "65:\tlearn: 1388.3854148\ttotal: 2.98s\tremaining: 1.53s\n",
      "66:\tlearn: 1385.6296811\ttotal: 3.03s\tremaining: 1.49s\n",
      "67:\tlearn: 1383.9363935\ttotal: 3.07s\tremaining: 1.45s\n",
      "68:\tlearn: 1381.3356537\ttotal: 3.12s\tremaining: 1.4s\n",
      "69:\tlearn: 1379.1443058\ttotal: 3.16s\tremaining: 1.35s\n",
      "70:\tlearn: 1377.6329207\ttotal: 3.2s\tremaining: 1.31s\n",
      "71:\tlearn: 1376.0947145\ttotal: 3.25s\tremaining: 1.26s\n",
      "72:\tlearn: 1374.3536393\ttotal: 3.29s\tremaining: 1.22s\n",
      "73:\tlearn: 1372.5234229\ttotal: 3.33s\tremaining: 1.17s\n",
      "74:\tlearn: 1371.0366771\ttotal: 3.37s\tremaining: 1.12s\n",
      "75:\tlearn: 1367.8777884\ttotal: 3.42s\tremaining: 1.08s\n",
      "76:\tlearn: 1366.3893204\ttotal: 3.46s\tremaining: 1.03s\n",
      "77:\tlearn: 1364.8333350\ttotal: 3.5s\tremaining: 988ms\n",
      "78:\tlearn: 1363.3665200\ttotal: 3.55s\tremaining: 943ms\n",
      "79:\tlearn: 1361.8353913\ttotal: 3.59s\tremaining: 898ms\n",
      "80:\tlearn: 1360.3249735\ttotal: 3.65s\tremaining: 856ms\n",
      "81:\tlearn: 1357.0990381\ttotal: 3.7s\tremaining: 812ms\n",
      "82:\tlearn: 1355.5557011\ttotal: 3.74s\tremaining: 766ms\n",
      "83:\tlearn: 1353.4661761\ttotal: 3.78s\tremaining: 721ms\n",
      "84:\tlearn: 1352.1554738\ttotal: 3.83s\tremaining: 676ms\n",
      "85:\tlearn: 1350.5901979\ttotal: 3.87s\tremaining: 631ms\n",
      "86:\tlearn: 1349.5485516\ttotal: 3.92s\tremaining: 585ms\n",
      "87:\tlearn: 1346.4731868\ttotal: 3.96s\tremaining: 540ms\n",
      "88:\tlearn: 1345.0293023\ttotal: 4.01s\tremaining: 495ms\n",
      "89:\tlearn: 1344.1964008\ttotal: 4.05s\tremaining: 450ms\n",
      "90:\tlearn: 1342.9293562\ttotal: 4.09s\tremaining: 405ms\n",
      "91:\tlearn: 1341.4629319\ttotal: 4.14s\tremaining: 360ms\n",
      "92:\tlearn: 1340.0596140\ttotal: 4.19s\tremaining: 315ms\n",
      "93:\tlearn: 1338.6220535\ttotal: 4.23s\tremaining: 270ms\n",
      "94:\tlearn: 1336.4850708\ttotal: 4.28s\tremaining: 225ms\n",
      "95:\tlearn: 1335.0985144\ttotal: 4.32s\tremaining: 180ms\n",
      "96:\tlearn: 1334.0205140\ttotal: 4.36s\tremaining: 135ms\n",
      "97:\tlearn: 1332.8189111\ttotal: 4.41s\tremaining: 90ms\n",
      "98:\tlearn: 1330.8597352\ttotal: 4.45s\tremaining: 45ms\n",
      "99:\tlearn: 1329.0702967\ttotal: 4.49s\tremaining: 0us\n",
      "0:\tlearn: 2602.6380640\ttotal: 40.9ms\tremaining: 4.04s\n",
      "1:\tlearn: 2099.6908727\ttotal: 82.6ms\tremaining: 4.04s\n",
      "2:\tlearn: 1947.4270421\ttotal: 125ms\tremaining: 4.06s\n",
      "3:\tlearn: 1842.5733252\ttotal: 168ms\tremaining: 4.04s\n",
      "4:\tlearn: 1797.2259633\ttotal: 211ms\tremaining: 4.01s\n",
      "5:\tlearn: 1760.1959737\ttotal: 252ms\tremaining: 3.94s\n",
      "6:\tlearn: 1739.2007642\ttotal: 295ms\tremaining: 3.92s\n",
      "7:\tlearn: 1714.9333845\ttotal: 337ms\tremaining: 3.88s\n",
      "8:\tlearn: 1700.3318887\ttotal: 381ms\tremaining: 3.85s\n",
      "9:\tlearn: 1687.9042623\ttotal: 425ms\tremaining: 3.82s\n",
      "10:\tlearn: 1663.4492047\ttotal: 466ms\tremaining: 3.77s\n",
      "11:\tlearn: 1646.3104013\ttotal: 508ms\tremaining: 3.73s\n",
      "12:\tlearn: 1629.2279192\ttotal: 553ms\tremaining: 3.7s\n",
      "13:\tlearn: 1622.4476838\ttotal: 598ms\tremaining: 3.67s\n",
      "14:\tlearn: 1612.6360487\ttotal: 641ms\tremaining: 3.63s\n",
      "15:\tlearn: 1600.5280768\ttotal: 685ms\tremaining: 3.6s\n",
      "16:\tlearn: 1593.6637544\ttotal: 726ms\tremaining: 3.54s\n",
      "17:\tlearn: 1584.8644739\ttotal: 770ms\tremaining: 3.51s\n",
      "18:\tlearn: 1573.2550802\ttotal: 812ms\tremaining: 3.46s\n",
      "19:\tlearn: 1562.5676631\ttotal: 854ms\tremaining: 3.42s\n",
      "20:\tlearn: 1553.4612045\ttotal: 897ms\tremaining: 3.37s\n",
      "21:\tlearn: 1545.1750755\ttotal: 945ms\tremaining: 3.35s\n",
      "22:\tlearn: 1538.6489155\ttotal: 989ms\tremaining: 3.31s\n",
      "23:\tlearn: 1532.1672127\ttotal: 1.03s\tremaining: 3.27s\n",
      "24:\tlearn: 1524.7263975\ttotal: 1.07s\tremaining: 3.23s\n",
      "25:\tlearn: 1520.7707933\ttotal: 1.12s\tremaining: 3.19s\n",
      "26:\tlearn: 1514.8391476\ttotal: 1.16s\tremaining: 3.15s\n",
      "27:\tlearn: 1508.0443537\ttotal: 1.21s\tremaining: 3.1s\n",
      "28:\tlearn: 1501.0941231\ttotal: 1.25s\tremaining: 3.06s\n",
      "29:\tlearn: 1497.5793354\ttotal: 1.29s\tremaining: 3.02s\n",
      "30:\tlearn: 1494.2044437\ttotal: 1.34s\tremaining: 2.98s\n",
      "31:\tlearn: 1488.8428595\ttotal: 1.38s\tremaining: 2.93s\n",
      "32:\tlearn: 1484.4617251\ttotal: 1.42s\tremaining: 2.88s\n",
      "33:\tlearn: 1481.3268289\ttotal: 1.46s\tremaining: 2.84s\n",
      "34:\tlearn: 1476.6782651\ttotal: 1.5s\tremaining: 2.79s\n",
      "35:\tlearn: 1473.4119220\ttotal: 1.55s\tremaining: 2.75s\n",
      "36:\tlearn: 1468.8617238\ttotal: 1.59s\tremaining: 2.71s\n",
      "37:\tlearn: 1465.4067821\ttotal: 1.64s\tremaining: 2.67s\n",
      "38:\tlearn: 1462.0567319\ttotal: 1.68s\tremaining: 2.63s\n",
      "39:\tlearn: 1456.9405347\ttotal: 1.72s\tremaining: 2.58s\n",
      "40:\tlearn: 1454.2074086\ttotal: 1.76s\tremaining: 2.53s\n",
      "41:\tlearn: 1450.9656426\ttotal: 1.8s\tremaining: 2.49s\n",
      "42:\tlearn: 1446.6165703\ttotal: 1.84s\tremaining: 2.44s\n",
      "43:\tlearn: 1443.1882311\ttotal: 1.88s\tremaining: 2.4s\n",
      "44:\tlearn: 1439.6423685\ttotal: 1.93s\tremaining: 2.35s\n",
      "45:\tlearn: 1436.7337351\ttotal: 1.97s\tremaining: 2.31s\n",
      "46:\tlearn: 1433.7609972\ttotal: 2.01s\tremaining: 2.27s\n",
      "47:\tlearn: 1430.7936858\ttotal: 2.06s\tremaining: 2.23s\n",
      "48:\tlearn: 1426.2219979\ttotal: 2.11s\tremaining: 2.19s\n",
      "49:\tlearn: 1424.0150723\ttotal: 2.16s\tremaining: 2.16s\n",
      "50:\tlearn: 1420.8565858\ttotal: 2.2s\tremaining: 2.11s\n",
      "51:\tlearn: 1418.7549377\ttotal: 2.24s\tremaining: 2.07s\n",
      "52:\tlearn: 1416.0632972\ttotal: 2.29s\tremaining: 2.03s\n",
      "53:\tlearn: 1413.4975426\ttotal: 2.33s\tremaining: 1.99s\n",
      "54:\tlearn: 1410.3892560\ttotal: 2.37s\tremaining: 1.94s\n",
      "55:\tlearn: 1408.8960137\ttotal: 2.42s\tremaining: 1.9s\n",
      "56:\tlearn: 1407.3888885\ttotal: 2.46s\tremaining: 1.85s\n",
      "57:\tlearn: 1404.2673725\ttotal: 2.5s\tremaining: 1.81s\n",
      "58:\tlearn: 1402.7033739\ttotal: 2.55s\tremaining: 1.77s\n",
      "59:\tlearn: 1399.5902415\ttotal: 2.59s\tremaining: 1.73s\n",
      "60:\tlearn: 1396.4562088\ttotal: 2.63s\tremaining: 1.68s\n",
      "61:\tlearn: 1394.6333835\ttotal: 2.68s\tremaining: 1.64s\n",
      "62:\tlearn: 1391.6283943\ttotal: 2.73s\tremaining: 1.6s\n",
      "63:\tlearn: 1389.1145671\ttotal: 2.77s\tremaining: 1.56s\n",
      "64:\tlearn: 1387.4332430\ttotal: 2.82s\tremaining: 1.52s\n",
      "65:\tlearn: 1385.7235612\ttotal: 2.86s\tremaining: 1.47s\n",
      "66:\tlearn: 1384.0570887\ttotal: 2.9s\tremaining: 1.43s\n",
      "67:\tlearn: 1381.6961170\ttotal: 2.95s\tremaining: 1.39s\n",
      "68:\tlearn: 1379.3902871\ttotal: 2.99s\tremaining: 1.34s\n",
      "69:\tlearn: 1377.5000929\ttotal: 3.03s\tremaining: 1.3s\n",
      "70:\tlearn: 1375.4335398\ttotal: 3.07s\tremaining: 1.25s\n",
      "71:\tlearn: 1373.6616406\ttotal: 3.11s\tremaining: 1.21s\n",
      "72:\tlearn: 1372.1619488\ttotal: 3.16s\tremaining: 1.17s\n",
      "73:\tlearn: 1370.6721146\ttotal: 3.2s\tremaining: 1.12s\n",
      "74:\tlearn: 1368.9487588\ttotal: 3.24s\tremaining: 1.08s\n",
      "75:\tlearn: 1366.5917555\ttotal: 3.28s\tremaining: 1.04s\n",
      "76:\tlearn: 1365.1067932\ttotal: 3.33s\tremaining: 994ms\n",
      "77:\tlearn: 1363.6771246\ttotal: 3.37s\tremaining: 951ms\n",
      "78:\tlearn: 1361.7452318\ttotal: 3.41s\tremaining: 907ms\n",
      "79:\tlearn: 1359.3977157\ttotal: 3.45s\tremaining: 864ms\n",
      "80:\tlearn: 1357.4325596\ttotal: 3.5s\tremaining: 820ms\n",
      "81:\tlearn: 1356.3134176\ttotal: 3.54s\tremaining: 776ms\n",
      "82:\tlearn: 1354.5300754\ttotal: 3.58s\tremaining: 733ms\n",
      "83:\tlearn: 1352.7734902\ttotal: 3.62s\tremaining: 690ms\n",
      "84:\tlearn: 1351.3789437\ttotal: 3.66s\tremaining: 646ms\n",
      "85:\tlearn: 1349.7218193\ttotal: 3.7s\tremaining: 603ms\n",
      "86:\tlearn: 1348.6296380\ttotal: 3.75s\tremaining: 560ms\n",
      "87:\tlearn: 1347.3851309\ttotal: 3.79s\tremaining: 517ms\n",
      "88:\tlearn: 1345.2324497\ttotal: 3.83s\tremaining: 474ms\n",
      "89:\tlearn: 1342.7824974\ttotal: 3.87s\tremaining: 431ms\n",
      "90:\tlearn: 1341.3730955\ttotal: 3.92s\tremaining: 387ms\n",
      "91:\tlearn: 1339.9358209\ttotal: 3.96s\tremaining: 344ms\n",
      "92:\tlearn: 1337.0508605\ttotal: 4s\tremaining: 301ms\n",
      "93:\tlearn: 1336.1821314\ttotal: 4.05s\tremaining: 258ms\n",
      "94:\tlearn: 1334.2898458\ttotal: 4.09s\tremaining: 215ms\n",
      "95:\tlearn: 1332.0387883\ttotal: 4.13s\tremaining: 172ms\n",
      "96:\tlearn: 1329.0064866\ttotal: 4.18s\tremaining: 129ms\n",
      "97:\tlearn: 1327.0738053\ttotal: 4.22s\tremaining: 86.2ms\n",
      "98:\tlearn: 1325.2557138\ttotal: 4.27s\tremaining: 43.1ms\n",
      "99:\tlearn: 1324.4069072\ttotal: 4.31s\tremaining: 0us\n",
      "0:\tlearn: 2602.5236506\ttotal: 42.1ms\tremaining: 4.17s\n",
      "1:\tlearn: 2105.6489580\ttotal: 83.6ms\tremaining: 4.1s\n",
      "2:\tlearn: 1955.6259863\ttotal: 128ms\tremaining: 4.14s\n",
      "3:\tlearn: 1854.3603209\ttotal: 173ms\tremaining: 4.16s\n",
      "4:\tlearn: 1813.8587393\ttotal: 219ms\tremaining: 4.16s\n",
      "5:\tlearn: 1779.7759824\ttotal: 267ms\tremaining: 4.19s\n",
      "6:\tlearn: 1749.1236180\ttotal: 315ms\tremaining: 4.18s\n",
      "7:\tlearn: 1721.4324176\ttotal: 367ms\tremaining: 4.22s\n",
      "8:\tlearn: 1710.9923516\ttotal: 416ms\tremaining: 4.2s\n",
      "9:\tlearn: 1695.3758985\ttotal: 462ms\tremaining: 4.15s\n",
      "10:\tlearn: 1677.0219497\ttotal: 509ms\tremaining: 4.12s\n",
      "11:\tlearn: 1655.6018031\ttotal: 563ms\tremaining: 4.13s\n",
      "12:\tlearn: 1643.3341253\ttotal: 614ms\tremaining: 4.11s\n",
      "13:\tlearn: 1633.8928405\ttotal: 669ms\tremaining: 4.11s\n",
      "14:\tlearn: 1625.6979293\ttotal: 727ms\tremaining: 4.12s\n",
      "15:\tlearn: 1612.0711379\ttotal: 778ms\tremaining: 4.09s\n",
      "16:\tlearn: 1599.5949511\ttotal: 838ms\tremaining: 4.09s\n",
      "17:\tlearn: 1591.3160601\ttotal: 897ms\tremaining: 4.09s\n",
      "18:\tlearn: 1581.0837184\ttotal: 946ms\tremaining: 4.03s\n",
      "19:\tlearn: 1573.0382668\ttotal: 993ms\tremaining: 3.97s\n",
      "20:\tlearn: 1562.1842356\ttotal: 1.04s\tremaining: 3.93s\n",
      "21:\tlearn: 1554.6188085\ttotal: 1.09s\tremaining: 3.87s\n",
      "22:\tlearn: 1549.5115297\ttotal: 1.13s\tremaining: 3.8s\n",
      "23:\tlearn: 1542.2095231\ttotal: 1.18s\tremaining: 3.73s\n",
      "24:\tlearn: 1536.7780287\ttotal: 1.22s\tremaining: 3.66s\n",
      "25:\tlearn: 1531.1819541\ttotal: 1.26s\tremaining: 3.59s\n",
      "26:\tlearn: 1526.3593920\ttotal: 1.3s\tremaining: 3.52s\n",
      "27:\tlearn: 1520.1541168\ttotal: 1.35s\tremaining: 3.47s\n",
      "28:\tlearn: 1516.1606897\ttotal: 1.39s\tremaining: 3.41s\n",
      "29:\tlearn: 1512.5208439\ttotal: 1.44s\tremaining: 3.36s\n",
      "30:\tlearn: 1506.7049291\ttotal: 1.48s\tremaining: 3.3s\n",
      "31:\tlearn: 1500.3796543\ttotal: 1.52s\tremaining: 3.23s\n",
      "32:\tlearn: 1496.3834278\ttotal: 1.56s\tremaining: 3.17s\n",
      "33:\tlearn: 1489.9053307\ttotal: 1.61s\tremaining: 3.12s\n",
      "34:\tlearn: 1488.2250548\ttotal: 1.64s\tremaining: 3.04s\n",
      "35:\tlearn: 1480.8591205\ttotal: 1.68s\tremaining: 2.99s\n",
      "36:\tlearn: 1477.5183242\ttotal: 1.72s\tremaining: 2.93s\n",
      "37:\tlearn: 1473.5705163\ttotal: 1.77s\tremaining: 2.89s\n",
      "38:\tlearn: 1470.2906322\ttotal: 1.81s\tremaining: 2.84s\n",
      "39:\tlearn: 1466.6172834\ttotal: 1.86s\tremaining: 2.79s\n",
      "40:\tlearn: 1464.1109911\ttotal: 1.9s\tremaining: 2.74s\n",
      "41:\tlearn: 1461.0953625\ttotal: 1.95s\tremaining: 2.69s\n",
      "42:\tlearn: 1455.4805218\ttotal: 1.99s\tremaining: 2.63s\n",
      "43:\tlearn: 1451.2408469\ttotal: 2.03s\tremaining: 2.59s\n",
      "44:\tlearn: 1448.4146841\ttotal: 2.08s\tremaining: 2.54s\n",
      "45:\tlearn: 1444.3382243\ttotal: 2.12s\tremaining: 2.49s\n",
      "46:\tlearn: 1442.0262427\ttotal: 2.16s\tremaining: 2.44s\n",
      "47:\tlearn: 1438.5392581\ttotal: 2.21s\tremaining: 2.39s\n",
      "48:\tlearn: 1435.5036719\ttotal: 2.25s\tremaining: 2.34s\n",
      "49:\tlearn: 1433.8713080\ttotal: 2.29s\tremaining: 2.29s\n",
      "50:\tlearn: 1430.4516170\ttotal: 2.34s\tremaining: 2.25s\n",
      "51:\tlearn: 1427.3262340\ttotal: 2.39s\tremaining: 2.2s\n",
      "52:\tlearn: 1423.8792814\ttotal: 2.43s\tremaining: 2.15s\n",
      "53:\tlearn: 1420.1422736\ttotal: 2.47s\tremaining: 2.11s\n",
      "54:\tlearn: 1418.4141585\ttotal: 2.52s\tremaining: 2.06s\n",
      "55:\tlearn: 1415.1096246\ttotal: 2.57s\tremaining: 2.02s\n",
      "56:\tlearn: 1412.7208872\ttotal: 2.61s\tremaining: 1.97s\n",
      "57:\tlearn: 1409.8909625\ttotal: 2.65s\tremaining: 1.92s\n",
      "58:\tlearn: 1406.9997798\ttotal: 2.7s\tremaining: 1.88s\n",
      "59:\tlearn: 1405.0772541\ttotal: 2.75s\tremaining: 1.83s\n",
      "60:\tlearn: 1402.5350288\ttotal: 2.79s\tremaining: 1.78s\n",
      "61:\tlearn: 1400.1418068\ttotal: 2.84s\tremaining: 1.74s\n",
      "62:\tlearn: 1397.1337463\ttotal: 2.88s\tremaining: 1.69s\n",
      "63:\tlearn: 1395.4651250\ttotal: 2.93s\tremaining: 1.65s\n",
      "64:\tlearn: 1393.7734773\ttotal: 2.97s\tremaining: 1.6s\n",
      "65:\tlearn: 1391.3946943\ttotal: 3.02s\tremaining: 1.55s\n",
      "66:\tlearn: 1388.9679964\ttotal: 3.06s\tremaining: 1.51s\n",
      "67:\tlearn: 1386.7054577\ttotal: 3.1s\tremaining: 1.46s\n",
      "68:\tlearn: 1384.2255598\ttotal: 3.14s\tremaining: 1.41s\n",
      "69:\tlearn: 1381.6368733\ttotal: 3.19s\tremaining: 1.37s\n",
      "70:\tlearn: 1380.4019282\ttotal: 3.23s\tremaining: 1.32s\n",
      "71:\tlearn: 1378.5027112\ttotal: 3.27s\tremaining: 1.27s\n",
      "72:\tlearn: 1375.5514418\ttotal: 3.32s\tremaining: 1.23s\n",
      "73:\tlearn: 1374.5748434\ttotal: 3.36s\tremaining: 1.18s\n",
      "74:\tlearn: 1372.5338427\ttotal: 3.41s\tremaining: 1.14s\n",
      "75:\tlearn: 1370.6238297\ttotal: 3.45s\tremaining: 1.09s\n",
      "76:\tlearn: 1368.6855013\ttotal: 3.49s\tremaining: 1.04s\n",
      "77:\tlearn: 1365.9182333\ttotal: 3.54s\tremaining: 998ms\n",
      "78:\tlearn: 1364.4177682\ttotal: 3.58s\tremaining: 952ms\n",
      "79:\tlearn: 1363.1427285\ttotal: 3.63s\tremaining: 907ms\n",
      "80:\tlearn: 1361.5238789\ttotal: 3.68s\tremaining: 862ms\n",
      "81:\tlearn: 1359.9531839\ttotal: 3.73s\tremaining: 819ms\n",
      "82:\tlearn: 1359.3490739\ttotal: 3.78s\tremaining: 774ms\n",
      "83:\tlearn: 1357.7067276\ttotal: 3.82s\tremaining: 728ms\n",
      "84:\tlearn: 1356.1190495\ttotal: 3.87s\tremaining: 682ms\n",
      "85:\tlearn: 1355.3670161\ttotal: 3.91s\tremaining: 637ms\n",
      "86:\tlearn: 1354.1026089\ttotal: 3.95s\tremaining: 591ms\n",
      "87:\tlearn: 1351.3241087\ttotal: 4s\tremaining: 545ms\n",
      "88:\tlearn: 1349.8355804\ttotal: 4.04s\tremaining: 500ms\n",
      "89:\tlearn: 1348.4276176\ttotal: 4.09s\tremaining: 455ms\n",
      "90:\tlearn: 1347.0821825\ttotal: 4.14s\tremaining: 409ms\n",
      "91:\tlearn: 1345.3285051\ttotal: 4.18s\tremaining: 364ms\n",
      "92:\tlearn: 1344.1603244\ttotal: 4.23s\tremaining: 318ms\n",
      "93:\tlearn: 1343.1320755\ttotal: 4.28s\tremaining: 273ms\n",
      "94:\tlearn: 1341.9566172\ttotal: 4.32s\tremaining: 227ms\n",
      "95:\tlearn: 1340.4118943\ttotal: 4.36s\tremaining: 182ms\n",
      "96:\tlearn: 1339.1696994\ttotal: 4.41s\tremaining: 136ms\n",
      "97:\tlearn: 1338.1850293\ttotal: 4.45s\tremaining: 90.9ms\n",
      "98:\tlearn: 1336.9411716\ttotal: 4.5s\tremaining: 45.4ms\n",
      "99:\tlearn: 1335.9491723\ttotal: 4.54s\tremaining: 0us\n",
      "0:\tlearn: 3612.3094169\ttotal: 51.9ms\tremaining: 5.14s\n",
      "1:\tlearn: 2975.2212877\ttotal: 106ms\tremaining: 5.19s\n",
      "2:\tlearn: 2548.7556742\ttotal: 158ms\tremaining: 5.09s\n",
      "3:\tlearn: 2287.5580753\ttotal: 208ms\tremaining: 4.99s\n",
      "4:\tlearn: 2114.3349298\ttotal: 264ms\tremaining: 5.02s\n",
      "5:\tlearn: 2013.7370393\ttotal: 319ms\tremaining: 5s\n",
      "6:\tlearn: 1929.5872517\ttotal: 374ms\tremaining: 4.97s\n",
      "7:\tlearn: 1877.7095324\ttotal: 433ms\tremaining: 4.97s\n",
      "8:\tlearn: 1825.8660379\ttotal: 483ms\tremaining: 4.88s\n",
      "9:\tlearn: 1792.1064915\ttotal: 537ms\tremaining: 4.83s\n",
      "10:\tlearn: 1769.2510689\ttotal: 590ms\tremaining: 4.78s\n",
      "11:\tlearn: 1750.3655202\ttotal: 642ms\tremaining: 4.71s\n",
      "12:\tlearn: 1732.5874072\ttotal: 695ms\tremaining: 4.65s\n",
      "13:\tlearn: 1713.0207694\ttotal: 747ms\tremaining: 4.59s\n",
      "14:\tlearn: 1703.1012920\ttotal: 799ms\tremaining: 4.53s\n",
      "15:\tlearn: 1692.6292972\ttotal: 851ms\tremaining: 4.47s\n",
      "16:\tlearn: 1684.1409866\ttotal: 903ms\tremaining: 4.41s\n",
      "17:\tlearn: 1674.8912600\ttotal: 957ms\tremaining: 4.36s\n",
      "18:\tlearn: 1663.7952164\ttotal: 1.01s\tremaining: 4.3s\n",
      "19:\tlearn: 1657.7232556\ttotal: 1.06s\tremaining: 4.24s\n",
      "20:\tlearn: 1648.4483839\ttotal: 1.11s\tremaining: 4.18s\n",
      "21:\tlearn: 1640.3354977\ttotal: 1.17s\tremaining: 4.13s\n",
      "22:\tlearn: 1632.9746617\ttotal: 1.22s\tremaining: 4.07s\n",
      "23:\tlearn: 1624.1363374\ttotal: 1.27s\tremaining: 4.02s\n",
      "24:\tlearn: 1620.0050041\ttotal: 1.32s\tremaining: 3.97s\n",
      "25:\tlearn: 1614.6450247\ttotal: 1.38s\tremaining: 3.92s\n",
      "26:\tlearn: 1608.0377196\ttotal: 1.43s\tremaining: 3.88s\n",
      "27:\tlearn: 1601.2211477\ttotal: 1.48s\tremaining: 3.82s\n",
      "28:\tlearn: 1597.1889390\ttotal: 1.54s\tremaining: 3.76s\n",
      "29:\tlearn: 1593.6524454\ttotal: 1.59s\tremaining: 3.71s\n",
      "30:\tlearn: 1589.4175568\ttotal: 1.65s\tremaining: 3.66s\n",
      "31:\tlearn: 1585.9871396\ttotal: 1.7s\tremaining: 3.61s\n",
      "32:\tlearn: 1582.0179367\ttotal: 1.75s\tremaining: 3.55s\n",
      "33:\tlearn: 1577.8590071\ttotal: 1.8s\tremaining: 3.49s\n",
      "34:\tlearn: 1574.6522662\ttotal: 1.85s\tremaining: 3.44s\n",
      "35:\tlearn: 1570.5519548\ttotal: 1.91s\tremaining: 3.39s\n",
      "36:\tlearn: 1568.4270173\ttotal: 1.96s\tremaining: 3.33s\n",
      "37:\tlearn: 1563.1281179\ttotal: 2.01s\tremaining: 3.28s\n",
      "38:\tlearn: 1559.2755356\ttotal: 2.06s\tremaining: 3.23s\n",
      "39:\tlearn: 1554.4914662\ttotal: 2.11s\tremaining: 3.17s\n",
      "40:\tlearn: 1551.7290589\ttotal: 2.16s\tremaining: 3.11s\n",
      "41:\tlearn: 1548.9865937\ttotal: 2.22s\tremaining: 3.06s\n",
      "42:\tlearn: 1544.9556331\ttotal: 2.27s\tremaining: 3.01s\n",
      "43:\tlearn: 1541.0200807\ttotal: 2.33s\tremaining: 2.96s\n",
      "44:\tlearn: 1536.0285678\ttotal: 2.38s\tremaining: 2.91s\n",
      "45:\tlearn: 1532.6273186\ttotal: 2.44s\tremaining: 2.87s\n",
      "46:\tlearn: 1530.4126412\ttotal: 2.5s\tremaining: 2.81s\n",
      "47:\tlearn: 1527.4766976\ttotal: 2.55s\tremaining: 2.76s\n",
      "48:\tlearn: 1522.7576836\ttotal: 2.61s\tremaining: 2.72s\n",
      "49:\tlearn: 1520.1668180\ttotal: 2.67s\tremaining: 2.67s\n",
      "50:\tlearn: 1517.5094089\ttotal: 2.72s\tremaining: 2.62s\n",
      "51:\tlearn: 1514.5702997\ttotal: 2.78s\tremaining: 2.56s\n",
      "52:\tlearn: 1510.4057567\ttotal: 2.83s\tremaining: 2.51s\n",
      "53:\tlearn: 1508.0908757\ttotal: 2.88s\tremaining: 2.45s\n",
      "54:\tlearn: 1506.0218096\ttotal: 2.94s\tremaining: 2.4s\n",
      "55:\tlearn: 1503.6471165\ttotal: 2.99s\tremaining: 2.35s\n",
      "56:\tlearn: 1501.9942357\ttotal: 3.04s\tremaining: 2.29s\n",
      "57:\tlearn: 1498.5816530\ttotal: 3.09s\tremaining: 2.24s\n",
      "58:\tlearn: 1496.2385304\ttotal: 3.14s\tremaining: 2.18s\n",
      "59:\tlearn: 1493.7441487\ttotal: 3.19s\tremaining: 2.13s\n",
      "60:\tlearn: 1492.0733452\ttotal: 3.24s\tremaining: 2.07s\n",
      "61:\tlearn: 1489.3755382\ttotal: 3.29s\tremaining: 2.02s\n",
      "62:\tlearn: 1487.2788888\ttotal: 3.34s\tremaining: 1.96s\n",
      "63:\tlearn: 1485.2868842\ttotal: 3.39s\tremaining: 1.91s\n",
      "64:\tlearn: 1482.7471972\ttotal: 3.45s\tremaining: 1.85s\n",
      "65:\tlearn: 1480.7987564\ttotal: 3.5s\tremaining: 1.8s\n",
      "66:\tlearn: 1478.8018150\ttotal: 3.55s\tremaining: 1.75s\n",
      "67:\tlearn: 1477.2023685\ttotal: 3.6s\tremaining: 1.69s\n",
      "68:\tlearn: 1475.5274311\ttotal: 3.65s\tremaining: 1.64s\n",
      "69:\tlearn: 1472.4876144\ttotal: 3.7s\tremaining: 1.59s\n",
      "70:\tlearn: 1470.5733340\ttotal: 3.76s\tremaining: 1.53s\n",
      "71:\tlearn: 1468.7153304\ttotal: 3.81s\tremaining: 1.48s\n",
      "72:\tlearn: 1467.3885602\ttotal: 3.86s\tremaining: 1.43s\n",
      "73:\tlearn: 1465.2233445\ttotal: 3.91s\tremaining: 1.37s\n",
      "74:\tlearn: 1463.6244461\ttotal: 3.96s\tremaining: 1.32s\n",
      "75:\tlearn: 1462.7851276\ttotal: 4.01s\tremaining: 1.27s\n",
      "76:\tlearn: 1460.3001632\ttotal: 4.07s\tremaining: 1.21s\n",
      "77:\tlearn: 1458.9855510\ttotal: 4.12s\tremaining: 1.16s\n",
      "78:\tlearn: 1457.5719550\ttotal: 4.17s\tremaining: 1.11s\n",
      "79:\tlearn: 1456.3900625\ttotal: 4.22s\tremaining: 1.05s\n",
      "80:\tlearn: 1454.1998049\ttotal: 4.27s\tremaining: 1s\n",
      "81:\tlearn: 1452.6638335\ttotal: 4.33s\tremaining: 950ms\n",
      "82:\tlearn: 1451.1831759\ttotal: 4.39s\tremaining: 899ms\n",
      "83:\tlearn: 1449.7992161\ttotal: 4.44s\tremaining: 846ms\n",
      "84:\tlearn: 1448.2423329\ttotal: 4.5s\tremaining: 793ms\n",
      "85:\tlearn: 1447.1319397\ttotal: 4.55s\tremaining: 740ms\n",
      "86:\tlearn: 1445.8529084\ttotal: 4.61s\tremaining: 689ms\n",
      "87:\tlearn: 1444.3378823\ttotal: 4.66s\tremaining: 636ms\n",
      "88:\tlearn: 1442.7279202\ttotal: 4.72s\tremaining: 583ms\n",
      "89:\tlearn: 1440.9062599\ttotal: 4.77s\tremaining: 530ms\n",
      "90:\tlearn: 1439.4819749\ttotal: 4.83s\tremaining: 478ms\n",
      "91:\tlearn: 1437.6224699\ttotal: 4.88s\tremaining: 424ms\n",
      "92:\tlearn: 1435.7438543\ttotal: 4.93s\tremaining: 371ms\n",
      "93:\tlearn: 1434.3867083\ttotal: 4.98s\tremaining: 318ms\n",
      "94:\tlearn: 1432.5885178\ttotal: 5.03s\tremaining: 265ms\n",
      "95:\tlearn: 1431.0858808\ttotal: 5.09s\tremaining: 212ms\n",
      "96:\tlearn: 1429.7404433\ttotal: 5.14s\tremaining: 159ms\n",
      "97:\tlearn: 1428.8072873\ttotal: 5.2s\tremaining: 106ms\n",
      "98:\tlearn: 1427.2353887\ttotal: 5.25s\tremaining: 53.1ms\n",
      "99:\tlearn: 1425.9393945\ttotal: 5.31s\tremaining: 0us\n",
      "Best params for CatBoost:  {'learning_rate': 0.3, 'max_depth': 10, 'n_estimators': 100, 'random_state': 12345}\n",
      "Best RMSE for CatBoost 1510.5442932738179\n",
      "CPU times: user 2min 33s, sys: 1.35 s, total: 2min 35s\n",
      "Wall time: 3min 11s\n"
     ]
    }
   ],
   "source": [
    "%%time\n",
    "model_cb = CatBoostRegressor()\n",
    "params = {\n",
    "        'n_estimators' : [10, 50, 100],\n",
    "        'random_state' : [state],\n",
    "        'max_depth' : [3, 7, 10],\n",
    "        'learning_rate' : [0.3, 0.7] \n",
    "    }\n",
    "search = GridSearchCV(model_cb, params, scoring='neg_root_mean_squared_error', n_jobs=-1, cv=5)\n",
    "search.fit(features_train_oe, target_train)\n",
    "rmse_cb = (search.best_score_) * (-1)\n",
    "print('Best params for CatBoost: ', search.best_params_)\n",
    "print('Best RMSE for CatBoost', rmse_cb)"
   ]
  },
  {
   "cell_type": "markdown",
   "metadata": {},
   "source": [
    "Результат значительно улучшился до 1510, общее время вычислений 3 минуты 17 секунд."
   ]
  },
  {
   "cell_type": "markdown",
   "metadata": {},
   "source": [
    "Обучим модель LGBM с перебором гиперпараметров с помощью GridSearchCV. Используем закодированную OE выборку."
   ]
  },
  {
   "cell_type": "code",
   "execution_count": 36,
   "metadata": {},
   "outputs": [
    {
     "name": "stdout",
     "output_type": "stream",
     "text": [
      "Best params:  {'learning_rate': 0.1, 'num_leaves': 100, 'random_state': 12345}\n",
      "Best RMSE 1510.1932337890648\n",
      "CPU times: user 2min 2s, sys: 268 ms, total: 2min 2s\n",
      "Wall time: 2min 3s\n"
     ]
    }
   ],
   "source": [
    "%%time\n",
    "model_LGBM = LGBMRegressor() \n",
    "params = {\n",
    "        'num_leaves':[30, 100],\n",
    "        'random_state' : [state],\n",
    "        'learning_rate' :[0.1, 0.9] \n",
    "    }\n",
    "search = GridSearchCV(model_LGBM, params, scoring='neg_root_mean_squared_error', n_jobs=-1, cv=5)\n",
    "search.fit(features_train_oe, target_train)\n",
    "rmse_LGBM = (search.best_score_) * (-1)\n",
    "print('Best params: ', search.best_params_)\n",
    "print('Best RMSE', rmse_LGBM)"
   ]
  },
  {
   "cell_type": "markdown",
   "metadata": {},
   "source": [
    "Результат практически не изменился и равен 1510, общее время вычислений немного ниже, 2 минуты 8 секунд."
   ]
  },
  {
   "cell_type": "markdown",
   "metadata": {},
   "source": [
    "## Анализ моделей"
   ]
  },
  {
   "cell_type": "markdown",
   "metadata": {},
   "source": [
    "Проанализируем модели, рассмотрим отдельно время обучения и предсказания, лучшую модель проверим на тестовой выборке. Сначала модель дерева решений."
   ]
  },
  {
   "cell_type": "code",
   "execution_count": 37,
   "metadata": {},
   "outputs": [
    {
     "name": "stdout",
     "output_type": "stream",
     "text": [
      "CPU times: user 3.42 s, sys: 210 ms, total: 3.63 s\n",
      "Wall time: 3.69 s\n"
     ]
    },
    {
     "data": {
      "text/html": [
       "<style>#sk-container-id-2 {color: black;background-color: white;}#sk-container-id-2 pre{padding: 0;}#sk-container-id-2 div.sk-toggleable {background-color: white;}#sk-container-id-2 label.sk-toggleable__label {cursor: pointer;display: block;width: 100%;margin-bottom: 0;padding: 0.3em;box-sizing: border-box;text-align: center;}#sk-container-id-2 label.sk-toggleable__label-arrow:before {content: \"▸\";float: left;margin-right: 0.25em;color: #696969;}#sk-container-id-2 label.sk-toggleable__label-arrow:hover:before {color: black;}#sk-container-id-2 div.sk-estimator:hover label.sk-toggleable__label-arrow:before {color: black;}#sk-container-id-2 div.sk-toggleable__content {max-height: 0;max-width: 0;overflow: hidden;text-align: left;background-color: #f0f8ff;}#sk-container-id-2 div.sk-toggleable__content pre {margin: 0.2em;color: black;border-radius: 0.25em;background-color: #f0f8ff;}#sk-container-id-2 input.sk-toggleable__control:checked~div.sk-toggleable__content {max-height: 200px;max-width: 100%;overflow: auto;}#sk-container-id-2 input.sk-toggleable__control:checked~label.sk-toggleable__label-arrow:before {content: \"▾\";}#sk-container-id-2 div.sk-estimator input.sk-toggleable__control:checked~label.sk-toggleable__label {background-color: #d4ebff;}#sk-container-id-2 div.sk-label input.sk-toggleable__control:checked~label.sk-toggleable__label {background-color: #d4ebff;}#sk-container-id-2 input.sk-hidden--visually {border: 0;clip: rect(1px 1px 1px 1px);clip: rect(1px, 1px, 1px, 1px);height: 1px;margin: -1px;overflow: hidden;padding: 0;position: absolute;width: 1px;}#sk-container-id-2 div.sk-estimator {font-family: monospace;background-color: #f0f8ff;border: 1px dotted black;border-radius: 0.25em;box-sizing: border-box;margin-bottom: 0.5em;}#sk-container-id-2 div.sk-estimator:hover {background-color: #d4ebff;}#sk-container-id-2 div.sk-parallel-item::after {content: \"\";width: 100%;border-bottom: 1px solid gray;flex-grow: 1;}#sk-container-id-2 div.sk-label:hover label.sk-toggleable__label {background-color: #d4ebff;}#sk-container-id-2 div.sk-serial::before {content: \"\";position: absolute;border-left: 1px solid gray;box-sizing: border-box;top: 0;bottom: 0;left: 50%;z-index: 0;}#sk-container-id-2 div.sk-serial {display: flex;flex-direction: column;align-items: center;background-color: white;padding-right: 0.2em;padding-left: 0.2em;position: relative;}#sk-container-id-2 div.sk-item {position: relative;z-index: 1;}#sk-container-id-2 div.sk-parallel {display: flex;align-items: stretch;justify-content: center;background-color: white;position: relative;}#sk-container-id-2 div.sk-item::before, #sk-container-id-2 div.sk-parallel-item::before {content: \"\";position: absolute;border-left: 1px solid gray;box-sizing: border-box;top: 0;bottom: 0;left: 50%;z-index: -1;}#sk-container-id-2 div.sk-parallel-item {display: flex;flex-direction: column;z-index: 1;position: relative;background-color: white;}#sk-container-id-2 div.sk-parallel-item:first-child::after {align-self: flex-end;width: 50%;}#sk-container-id-2 div.sk-parallel-item:last-child::after {align-self: flex-start;width: 50%;}#sk-container-id-2 div.sk-parallel-item:only-child::after {width: 0;}#sk-container-id-2 div.sk-dashed-wrapped {border: 1px dashed gray;margin: 0 0.4em 0.5em 0.4em;box-sizing: border-box;padding-bottom: 0.4em;background-color: white;}#sk-container-id-2 div.sk-label label {font-family: monospace;font-weight: bold;display: inline-block;line-height: 1.2em;}#sk-container-id-2 div.sk-label-container {text-align: center;}#sk-container-id-2 div.sk-container {/* jupyter's `normalize.less` sets `[hidden] { display: none; }` but bootstrap.min.css set `[hidden] { display: none !important; }` so we also need the `!important` here to be able to override the default hidden behavior on the sphinx rendered scikit-learn.org. See: https://github.com/scikit-learn/scikit-learn/issues/21755 */display: inline-block !important;position: relative;}#sk-container-id-2 div.sk-text-repr-fallback {display: none;}</style><div id=\"sk-container-id-2\" class=\"sk-top-container\"><div class=\"sk-text-repr-fallback\"><pre>DecisionTreeRegressor(max_depth=9, random_state=12345)</pre><b>In a Jupyter environment, please rerun this cell to show the HTML representation or trust the notebook. <br />On GitHub, the HTML representation is unable to render, please try loading this page with nbviewer.org.</b></div><div class=\"sk-container\" hidden><div class=\"sk-item\"><div class=\"sk-estimator sk-toggleable\"><input class=\"sk-toggleable__control sk-hidden--visually\" id=\"sk-estimator-id-2\" type=\"checkbox\" checked><label for=\"sk-estimator-id-2\" class=\"sk-toggleable__label sk-toggleable__label-arrow\">DecisionTreeRegressor</label><div class=\"sk-toggleable__content\"><pre>DecisionTreeRegressor(max_depth=9, random_state=12345)</pre></div></div></div></div></div>"
      ],
      "text/plain": [
       "DecisionTreeRegressor(max_depth=9, random_state=12345)"
      ]
     },
     "execution_count": 37,
     "metadata": {},
     "output_type": "execute_result"
    }
   ],
   "source": [
    "%%time\n",
    "model_dt = DecisionTreeRegressor(max_depth=9, random_state=state)\n",
    "model_dt.fit(features_train, target_train)"
   ]
  },
  {
   "cell_type": "code",
   "execution_count": 38,
   "metadata": {},
   "outputs": [
    {
     "name": "stdout",
     "output_type": "stream",
     "text": [
      "CPU times: user 34.8 ms, sys: 53.6 ms, total: 88.4 ms\n",
      "Wall time: 93.9 ms\n"
     ]
    }
   ],
   "source": [
    "%%time\n",
    "predict_dt = model_dt.predict(features_test)"
   ]
  },
  {
   "cell_type": "markdown",
   "metadata": {},
   "source": [
    "Обучение заняло 3,64 секунды. Предсказание - 95 мс. Далее модель случайного леса."
   ]
  },
  {
   "cell_type": "code",
   "execution_count": 39,
   "metadata": {},
   "outputs": [
    {
     "name": "stdout",
     "output_type": "stream",
     "text": [
      "CPU times: user 6.95 s, sys: 36.7 ms, total: 6.99 s\n",
      "Wall time: 7 s\n"
     ]
    },
    {
     "data": {
      "text/html": [
       "<style>#sk-container-id-3 {color: black;background-color: white;}#sk-container-id-3 pre{padding: 0;}#sk-container-id-3 div.sk-toggleable {background-color: white;}#sk-container-id-3 label.sk-toggleable__label {cursor: pointer;display: block;width: 100%;margin-bottom: 0;padding: 0.3em;box-sizing: border-box;text-align: center;}#sk-container-id-3 label.sk-toggleable__label-arrow:before {content: \"▸\";float: left;margin-right: 0.25em;color: #696969;}#sk-container-id-3 label.sk-toggleable__label-arrow:hover:before {color: black;}#sk-container-id-3 div.sk-estimator:hover label.sk-toggleable__label-arrow:before {color: black;}#sk-container-id-3 div.sk-toggleable__content {max-height: 0;max-width: 0;overflow: hidden;text-align: left;background-color: #f0f8ff;}#sk-container-id-3 div.sk-toggleable__content pre {margin: 0.2em;color: black;border-radius: 0.25em;background-color: #f0f8ff;}#sk-container-id-3 input.sk-toggleable__control:checked~div.sk-toggleable__content {max-height: 200px;max-width: 100%;overflow: auto;}#sk-container-id-3 input.sk-toggleable__control:checked~label.sk-toggleable__label-arrow:before {content: \"▾\";}#sk-container-id-3 div.sk-estimator input.sk-toggleable__control:checked~label.sk-toggleable__label {background-color: #d4ebff;}#sk-container-id-3 div.sk-label input.sk-toggleable__control:checked~label.sk-toggleable__label {background-color: #d4ebff;}#sk-container-id-3 input.sk-hidden--visually {border: 0;clip: rect(1px 1px 1px 1px);clip: rect(1px, 1px, 1px, 1px);height: 1px;margin: -1px;overflow: hidden;padding: 0;position: absolute;width: 1px;}#sk-container-id-3 div.sk-estimator {font-family: monospace;background-color: #f0f8ff;border: 1px dotted black;border-radius: 0.25em;box-sizing: border-box;margin-bottom: 0.5em;}#sk-container-id-3 div.sk-estimator:hover {background-color: #d4ebff;}#sk-container-id-3 div.sk-parallel-item::after {content: \"\";width: 100%;border-bottom: 1px solid gray;flex-grow: 1;}#sk-container-id-3 div.sk-label:hover label.sk-toggleable__label {background-color: #d4ebff;}#sk-container-id-3 div.sk-serial::before {content: \"\";position: absolute;border-left: 1px solid gray;box-sizing: border-box;top: 0;bottom: 0;left: 50%;z-index: 0;}#sk-container-id-3 div.sk-serial {display: flex;flex-direction: column;align-items: center;background-color: white;padding-right: 0.2em;padding-left: 0.2em;position: relative;}#sk-container-id-3 div.sk-item {position: relative;z-index: 1;}#sk-container-id-3 div.sk-parallel {display: flex;align-items: stretch;justify-content: center;background-color: white;position: relative;}#sk-container-id-3 div.sk-item::before, #sk-container-id-3 div.sk-parallel-item::before {content: \"\";position: absolute;border-left: 1px solid gray;box-sizing: border-box;top: 0;bottom: 0;left: 50%;z-index: -1;}#sk-container-id-3 div.sk-parallel-item {display: flex;flex-direction: column;z-index: 1;position: relative;background-color: white;}#sk-container-id-3 div.sk-parallel-item:first-child::after {align-self: flex-end;width: 50%;}#sk-container-id-3 div.sk-parallel-item:last-child::after {align-self: flex-start;width: 50%;}#sk-container-id-3 div.sk-parallel-item:only-child::after {width: 0;}#sk-container-id-3 div.sk-dashed-wrapped {border: 1px dashed gray;margin: 0 0.4em 0.5em 0.4em;box-sizing: border-box;padding-bottom: 0.4em;background-color: white;}#sk-container-id-3 div.sk-label label {font-family: monospace;font-weight: bold;display: inline-block;line-height: 1.2em;}#sk-container-id-3 div.sk-label-container {text-align: center;}#sk-container-id-3 div.sk-container {/* jupyter's `normalize.less` sets `[hidden] { display: none; }` but bootstrap.min.css set `[hidden] { display: none !important; }` so we also need the `!important` here to be able to override the default hidden behavior on the sphinx rendered scikit-learn.org. See: https://github.com/scikit-learn/scikit-learn/issues/21755 */display: inline-block !important;position: relative;}#sk-container-id-3 div.sk-text-repr-fallback {display: none;}</style><div id=\"sk-container-id-3\" class=\"sk-top-container\"><div class=\"sk-text-repr-fallback\"><pre>RandomForestRegressor(max_depth=9, n_estimators=30, random_state=12345)</pre><b>In a Jupyter environment, please rerun this cell to show the HTML representation or trust the notebook. <br />On GitHub, the HTML representation is unable to render, please try loading this page with nbviewer.org.</b></div><div class=\"sk-container\" hidden><div class=\"sk-item\"><div class=\"sk-estimator sk-toggleable\"><input class=\"sk-toggleable__control sk-hidden--visually\" id=\"sk-estimator-id-3\" type=\"checkbox\" checked><label for=\"sk-estimator-id-3\" class=\"sk-toggleable__label sk-toggleable__label-arrow\">RandomForestRegressor</label><div class=\"sk-toggleable__content\"><pre>RandomForestRegressor(max_depth=9, n_estimators=30, random_state=12345)</pre></div></div></div></div></div>"
      ],
      "text/plain": [
       "RandomForestRegressor(max_depth=9, n_estimators=30, random_state=12345)"
      ]
     },
     "execution_count": 39,
     "metadata": {},
     "output_type": "execute_result"
    }
   ],
   "source": [
    "%%time\n",
    "model_rf = RandomForestRegressor(n_estimators=30, max_depth=9, random_state=state)\n",
    "model_rf.fit(features_train_oe, target_train)"
   ]
  },
  {
   "cell_type": "code",
   "execution_count": 40,
   "metadata": {},
   "outputs": [
    {
     "name": "stdout",
     "output_type": "stream",
     "text": [
      "CPU times: user 42.3 ms, sys: 42.3 ms, total: 84.6 ms\n",
      "Wall time: 93.3 ms\n"
     ]
    }
   ],
   "source": [
    "%%time\n",
    "predict_rf = model_dt.predict(features_test)"
   ]
  },
  {
   "cell_type": "markdown",
   "metadata": {},
   "source": [
    "Время обучения - 7 секунд, время предсказания - 92 мс. Далее модель Catboost."
   ]
  },
  {
   "cell_type": "code",
   "execution_count": 41,
   "metadata": {},
   "outputs": [
    {
     "name": "stdout",
     "output_type": "stream",
     "text": [
      "0:\tlearn: 2614.2873925\ttotal: 54.3ms\tremaining: 5.38s\n",
      "1:\tlearn: 2108.9909465\ttotal: 109ms\tremaining: 5.32s\n",
      "2:\tlearn: 1908.0005475\ttotal: 164ms\tremaining: 5.3s\n",
      "3:\tlearn: 1854.9504435\ttotal: 217ms\tremaining: 5.21s\n",
      "4:\tlearn: 1800.9320162\ttotal: 270ms\tremaining: 5.13s\n",
      "5:\tlearn: 1774.6147054\ttotal: 329ms\tremaining: 5.15s\n",
      "6:\tlearn: 1735.0155737\ttotal: 382ms\tremaining: 5.07s\n",
      "7:\tlearn: 1712.9313594\ttotal: 437ms\tremaining: 5.03s\n",
      "8:\tlearn: 1701.7501566\ttotal: 493ms\tremaining: 4.98s\n",
      "9:\tlearn: 1684.4645751\ttotal: 550ms\tremaining: 4.95s\n",
      "10:\tlearn: 1662.2794089\ttotal: 606ms\tremaining: 4.9s\n",
      "11:\tlearn: 1650.6928441\ttotal: 665ms\tremaining: 4.87s\n",
      "12:\tlearn: 1641.4678798\ttotal: 721ms\tremaining: 4.82s\n",
      "13:\tlearn: 1633.7258368\ttotal: 777ms\tremaining: 4.77s\n",
      "14:\tlearn: 1624.1212460\ttotal: 835ms\tremaining: 4.73s\n",
      "15:\tlearn: 1608.8456224\ttotal: 893ms\tremaining: 4.69s\n",
      "16:\tlearn: 1598.4614190\ttotal: 951ms\tremaining: 4.64s\n",
      "17:\tlearn: 1591.9022109\ttotal: 1s\tremaining: 4.58s\n",
      "18:\tlearn: 1587.2251476\ttotal: 1.06s\tremaining: 4.53s\n",
      "19:\tlearn: 1579.3864968\ttotal: 1.11s\tremaining: 4.46s\n",
      "20:\tlearn: 1574.6459086\ttotal: 1.17s\tremaining: 4.4s\n",
      "21:\tlearn: 1570.1151782\ttotal: 1.24s\tremaining: 4.39s\n",
      "22:\tlearn: 1562.3395604\ttotal: 1.29s\tremaining: 4.32s\n",
      "23:\tlearn: 1552.0639855\ttotal: 1.35s\tremaining: 4.27s\n",
      "24:\tlearn: 1539.1085689\ttotal: 1.4s\tremaining: 4.21s\n",
      "25:\tlearn: 1535.2831082\ttotal: 1.46s\tremaining: 4.15s\n",
      "26:\tlearn: 1531.8487385\ttotal: 1.51s\tremaining: 4.09s\n",
      "27:\tlearn: 1527.9128421\ttotal: 1.56s\tremaining: 4.03s\n",
      "28:\tlearn: 1525.0528014\ttotal: 1.62s\tremaining: 3.96s\n",
      "29:\tlearn: 1521.5465600\ttotal: 1.67s\tremaining: 3.9s\n",
      "30:\tlearn: 1516.4969765\ttotal: 1.73s\tremaining: 3.85s\n",
      "31:\tlearn: 1513.4720412\ttotal: 1.78s\tremaining: 3.78s\n",
      "32:\tlearn: 1509.5585962\ttotal: 1.83s\tremaining: 3.72s\n",
      "33:\tlearn: 1504.9096797\ttotal: 1.89s\tremaining: 3.68s\n",
      "34:\tlearn: 1500.6393327\ttotal: 1.95s\tremaining: 3.62s\n",
      "35:\tlearn: 1497.1613761\ttotal: 2s\tremaining: 3.56s\n",
      "36:\tlearn: 1494.1815026\ttotal: 2.06s\tremaining: 3.5s\n",
      "37:\tlearn: 1491.6501438\ttotal: 2.12s\tremaining: 3.45s\n",
      "38:\tlearn: 1489.8252278\ttotal: 2.17s\tremaining: 3.39s\n",
      "39:\tlearn: 1486.1478477\ttotal: 2.22s\tremaining: 3.33s\n",
      "40:\tlearn: 1483.9910060\ttotal: 2.28s\tremaining: 3.28s\n",
      "41:\tlearn: 1482.5990446\ttotal: 2.33s\tremaining: 3.23s\n",
      "42:\tlearn: 1480.4536109\ttotal: 2.39s\tremaining: 3.17s\n",
      "43:\tlearn: 1477.1060647\ttotal: 2.45s\tremaining: 3.12s\n",
      "44:\tlearn: 1475.3410805\ttotal: 2.51s\tremaining: 3.07s\n",
      "45:\tlearn: 1472.6669848\ttotal: 2.56s\tremaining: 3.01s\n",
      "46:\tlearn: 1470.4495667\ttotal: 2.62s\tremaining: 2.96s\n",
      "47:\tlearn: 1466.5462092\ttotal: 2.67s\tremaining: 2.9s\n",
      "48:\tlearn: 1464.2701125\ttotal: 2.73s\tremaining: 2.84s\n",
      "49:\tlearn: 1461.7967999\ttotal: 2.79s\tremaining: 2.79s\n",
      "50:\tlearn: 1457.8555087\ttotal: 2.85s\tremaining: 2.73s\n",
      "51:\tlearn: 1455.9176568\ttotal: 2.9s\tremaining: 2.68s\n",
      "52:\tlearn: 1454.4339588\ttotal: 2.97s\tremaining: 2.63s\n",
      "53:\tlearn: 1450.4633485\ttotal: 3.04s\tremaining: 2.59s\n",
      "54:\tlearn: 1448.3625654\ttotal: 3.09s\tremaining: 2.53s\n",
      "55:\tlearn: 1446.7318811\ttotal: 3.15s\tremaining: 2.48s\n",
      "56:\tlearn: 1445.5131558\ttotal: 3.21s\tremaining: 2.42s\n",
      "57:\tlearn: 1443.2855756\ttotal: 3.27s\tremaining: 2.37s\n",
      "58:\tlearn: 1440.7859149\ttotal: 3.33s\tremaining: 2.31s\n",
      "59:\tlearn: 1438.8762328\ttotal: 3.39s\tremaining: 2.26s\n",
      "60:\tlearn: 1437.6318176\ttotal: 3.45s\tremaining: 2.2s\n",
      "61:\tlearn: 1435.0655632\ttotal: 3.51s\tremaining: 2.15s\n",
      "62:\tlearn: 1433.6593330\ttotal: 3.57s\tremaining: 2.1s\n",
      "63:\tlearn: 1431.8653678\ttotal: 3.63s\tremaining: 2.04s\n",
      "64:\tlearn: 1429.9269743\ttotal: 3.68s\tremaining: 1.98s\n",
      "65:\tlearn: 1427.0315744\ttotal: 3.74s\tremaining: 1.93s\n",
      "66:\tlearn: 1426.2040598\ttotal: 3.8s\tremaining: 1.87s\n",
      "67:\tlearn: 1424.3843645\ttotal: 3.86s\tremaining: 1.81s\n",
      "68:\tlearn: 1422.1386156\ttotal: 3.92s\tremaining: 1.76s\n",
      "69:\tlearn: 1420.8806311\ttotal: 3.98s\tremaining: 1.71s\n",
      "70:\tlearn: 1419.7229028\ttotal: 4.05s\tremaining: 1.66s\n",
      "71:\tlearn: 1417.2574027\ttotal: 4.12s\tremaining: 1.6s\n",
      "72:\tlearn: 1414.6801386\ttotal: 4.2s\tremaining: 1.55s\n",
      "73:\tlearn: 1411.8835965\ttotal: 4.26s\tremaining: 1.5s\n",
      "74:\tlearn: 1410.3218217\ttotal: 4.31s\tremaining: 1.44s\n",
      "75:\tlearn: 1409.2467016\ttotal: 4.37s\tremaining: 1.38s\n",
      "76:\tlearn: 1407.5586235\ttotal: 4.42s\tremaining: 1.32s\n",
      "77:\tlearn: 1406.7475411\ttotal: 4.48s\tremaining: 1.26s\n",
      "78:\tlearn: 1404.6289619\ttotal: 4.54s\tremaining: 1.21s\n",
      "79:\tlearn: 1403.6475318\ttotal: 4.6s\tremaining: 1.15s\n",
      "80:\tlearn: 1402.0442939\ttotal: 4.65s\tremaining: 1.09s\n",
      "81:\tlearn: 1400.9271552\ttotal: 4.71s\tremaining: 1.03s\n",
      "82:\tlearn: 1399.7836749\ttotal: 4.76s\tremaining: 975ms\n",
      "83:\tlearn: 1398.3636139\ttotal: 4.81s\tremaining: 917ms\n",
      "84:\tlearn: 1396.4595644\ttotal: 4.87s\tremaining: 860ms\n",
      "85:\tlearn: 1394.8248897\ttotal: 4.93s\tremaining: 802ms\n",
      "86:\tlearn: 1393.5723470\ttotal: 4.98s\tremaining: 745ms\n",
      "87:\tlearn: 1391.7745015\ttotal: 5.04s\tremaining: 688ms\n",
      "88:\tlearn: 1390.0139638\ttotal: 5.1s\tremaining: 630ms\n",
      "89:\tlearn: 1389.1073355\ttotal: 5.16s\tremaining: 573ms\n",
      "90:\tlearn: 1388.1677989\ttotal: 5.22s\tremaining: 516ms\n",
      "91:\tlearn: 1387.2605940\ttotal: 5.27s\tremaining: 458ms\n",
      "92:\tlearn: 1385.9925035\ttotal: 5.32s\tremaining: 401ms\n",
      "93:\tlearn: 1384.9749538\ttotal: 5.38s\tremaining: 343ms\n",
      "94:\tlearn: 1384.2789412\ttotal: 5.43s\tremaining: 286ms\n",
      "95:\tlearn: 1383.1234794\ttotal: 5.49s\tremaining: 229ms\n",
      "96:\tlearn: 1382.2057726\ttotal: 5.54s\tremaining: 171ms\n",
      "97:\tlearn: 1380.8615542\ttotal: 5.6s\tremaining: 114ms\n",
      "98:\tlearn: 1380.0411759\ttotal: 5.65s\tremaining: 57.1ms\n",
      "99:\tlearn: 1378.4342712\ttotal: 5.71s\tremaining: 0us\n",
      "CPU times: user 6.84 s, sys: 35.6 ms, total: 6.87 s\n",
      "Wall time: 7.34 s\n"
     ]
    },
    {
     "data": {
      "text/plain": [
       "<catboost.core.CatBoostRegressor at 0x7f22091e7fd0>"
      ]
     },
     "execution_count": 41,
     "metadata": {},
     "output_type": "execute_result"
    }
   ],
   "source": [
    "%%time\n",
    "model_cb = CatBoostRegressor(learning_rate=0.7, max_depth=10, n_estimators=100, random_state=state)\n",
    "model_cb.fit(features_train, target_train)"
   ]
  },
  {
   "cell_type": "code",
   "execution_count": 42,
   "metadata": {},
   "outputs": [
    {
     "name": "stdout",
     "output_type": "stream",
     "text": [
      "CPU times: user 70.4 ms, sys: 27 µs, total: 70.4 ms\n",
      "Wall time: 68.7 ms\n"
     ]
    }
   ],
   "source": [
    "%%time\n",
    "predict_cb = model_cb.predict(features_test)"
   ]
  },
  {
   "cell_type": "markdown",
   "metadata": {},
   "source": [
    "Время обучения - около 7 секунд, время предсказания 72 мс. Далее модель LGBM."
   ]
  },
  {
   "cell_type": "code",
   "execution_count": 43,
   "metadata": {},
   "outputs": [
    {
     "name": "stdout",
     "output_type": "stream",
     "text": [
      "CPU times: user 6.91 s, sys: 286 ms, total: 7.2 s\n",
      "Wall time: 7.26 s\n"
     ]
    },
    {
     "data": {
      "text/html": [
       "<style>#sk-container-id-4 {color: black;background-color: white;}#sk-container-id-4 pre{padding: 0;}#sk-container-id-4 div.sk-toggleable {background-color: white;}#sk-container-id-4 label.sk-toggleable__label {cursor: pointer;display: block;width: 100%;margin-bottom: 0;padding: 0.3em;box-sizing: border-box;text-align: center;}#sk-container-id-4 label.sk-toggleable__label-arrow:before {content: \"▸\";float: left;margin-right: 0.25em;color: #696969;}#sk-container-id-4 label.sk-toggleable__label-arrow:hover:before {color: black;}#sk-container-id-4 div.sk-estimator:hover label.sk-toggleable__label-arrow:before {color: black;}#sk-container-id-4 div.sk-toggleable__content {max-height: 0;max-width: 0;overflow: hidden;text-align: left;background-color: #f0f8ff;}#sk-container-id-4 div.sk-toggleable__content pre {margin: 0.2em;color: black;border-radius: 0.25em;background-color: #f0f8ff;}#sk-container-id-4 input.sk-toggleable__control:checked~div.sk-toggleable__content {max-height: 200px;max-width: 100%;overflow: auto;}#sk-container-id-4 input.sk-toggleable__control:checked~label.sk-toggleable__label-arrow:before {content: \"▾\";}#sk-container-id-4 div.sk-estimator input.sk-toggleable__control:checked~label.sk-toggleable__label {background-color: #d4ebff;}#sk-container-id-4 div.sk-label input.sk-toggleable__control:checked~label.sk-toggleable__label {background-color: #d4ebff;}#sk-container-id-4 input.sk-hidden--visually {border: 0;clip: rect(1px 1px 1px 1px);clip: rect(1px, 1px, 1px, 1px);height: 1px;margin: -1px;overflow: hidden;padding: 0;position: absolute;width: 1px;}#sk-container-id-4 div.sk-estimator {font-family: monospace;background-color: #f0f8ff;border: 1px dotted black;border-radius: 0.25em;box-sizing: border-box;margin-bottom: 0.5em;}#sk-container-id-4 div.sk-estimator:hover {background-color: #d4ebff;}#sk-container-id-4 div.sk-parallel-item::after {content: \"\";width: 100%;border-bottom: 1px solid gray;flex-grow: 1;}#sk-container-id-4 div.sk-label:hover label.sk-toggleable__label {background-color: #d4ebff;}#sk-container-id-4 div.sk-serial::before {content: \"\";position: absolute;border-left: 1px solid gray;box-sizing: border-box;top: 0;bottom: 0;left: 50%;z-index: 0;}#sk-container-id-4 div.sk-serial {display: flex;flex-direction: column;align-items: center;background-color: white;padding-right: 0.2em;padding-left: 0.2em;position: relative;}#sk-container-id-4 div.sk-item {position: relative;z-index: 1;}#sk-container-id-4 div.sk-parallel {display: flex;align-items: stretch;justify-content: center;background-color: white;position: relative;}#sk-container-id-4 div.sk-item::before, #sk-container-id-4 div.sk-parallel-item::before {content: \"\";position: absolute;border-left: 1px solid gray;box-sizing: border-box;top: 0;bottom: 0;left: 50%;z-index: -1;}#sk-container-id-4 div.sk-parallel-item {display: flex;flex-direction: column;z-index: 1;position: relative;background-color: white;}#sk-container-id-4 div.sk-parallel-item:first-child::after {align-self: flex-end;width: 50%;}#sk-container-id-4 div.sk-parallel-item:last-child::after {align-self: flex-start;width: 50%;}#sk-container-id-4 div.sk-parallel-item:only-child::after {width: 0;}#sk-container-id-4 div.sk-dashed-wrapped {border: 1px dashed gray;margin: 0 0.4em 0.5em 0.4em;box-sizing: border-box;padding-bottom: 0.4em;background-color: white;}#sk-container-id-4 div.sk-label label {font-family: monospace;font-weight: bold;display: inline-block;line-height: 1.2em;}#sk-container-id-4 div.sk-label-container {text-align: center;}#sk-container-id-4 div.sk-container {/* jupyter's `normalize.less` sets `[hidden] { display: none; }` but bootstrap.min.css set `[hidden] { display: none !important; }` so we also need the `!important` here to be able to override the default hidden behavior on the sphinx rendered scikit-learn.org. See: https://github.com/scikit-learn/scikit-learn/issues/21755 */display: inline-block !important;position: relative;}#sk-container-id-4 div.sk-text-repr-fallback {display: none;}</style><div id=\"sk-container-id-4\" class=\"sk-top-container\"><div class=\"sk-text-repr-fallback\"><pre>LGBMRegressor()</pre><b>In a Jupyter environment, please rerun this cell to show the HTML representation or trust the notebook. <br />On GitHub, the HTML representation is unable to render, please try loading this page with nbviewer.org.</b></div><div class=\"sk-container\" hidden><div class=\"sk-item\"><div class=\"sk-estimator sk-toggleable\"><input class=\"sk-toggleable__control sk-hidden--visually\" id=\"sk-estimator-id-4\" type=\"checkbox\" checked><label for=\"sk-estimator-id-4\" class=\"sk-toggleable__label sk-toggleable__label-arrow\">LGBMRegressor</label><div class=\"sk-toggleable__content\"><pre>LGBMRegressor()</pre></div></div></div></div></div>"
      ],
      "text/plain": [
       "LGBMRegressor()"
      ]
     },
     "execution_count": 43,
     "metadata": {},
     "output_type": "execute_result"
    }
   ],
   "source": [
    "%%time\n",
    "model_LGBM = LGBMRegressor() \n",
    "model_LGBM.fit(features_train, target_train)"
   ]
  },
  {
   "cell_type": "code",
   "execution_count": 44,
   "metadata": {},
   "outputs": [
    {
     "name": "stdout",
     "output_type": "stream",
     "text": [
      "CPU times: user 576 ms, sys: 51.5 ms, total: 627 ms\n",
      "Wall time: 613 ms\n"
     ]
    }
   ],
   "source": [
    "%%time\n",
    "predict_LGBM = model_LGBM.predict(features_test)"
   ]
  },
  {
   "cell_type": "markdown",
   "metadata": {},
   "source": [
    "Время обучения - около 6.6 секунд, время предсказания 610 мс."
   ]
  },
  {
   "cell_type": "code",
   "execution_count": 49,
   "metadata": {},
   "outputs": [
    {
     "data": {
      "text/html": [
       "<div>\n",
       "<style scoped>\n",
       "    .dataframe tbody tr th:only-of-type {\n",
       "        vertical-align: middle;\n",
       "    }\n",
       "\n",
       "    .dataframe tbody tr th {\n",
       "        vertical-align: top;\n",
       "    }\n",
       "\n",
       "    .dataframe thead th {\n",
       "        text-align: right;\n",
       "    }\n",
       "</style>\n",
       "<table border=\"1\" class=\"dataframe\">\n",
       "  <thead>\n",
       "    <tr style=\"text-align: right;\">\n",
       "      <th></th>\n",
       "      <th>RMSE</th>\n",
       "      <th>Время обучения</th>\n",
       "      <th>Время предсказания</th>\n",
       "      <th>Общее время</th>\n",
       "    </tr>\n",
       "  </thead>\n",
       "  <tbody>\n",
       "    <tr>\n",
       "      <th>LinearRegression</th>\n",
       "      <td>2328.813764</td>\n",
       "      <td>29.00</td>\n",
       "      <td>0.1140</td>\n",
       "      <td>29.1140</td>\n",
       "    </tr>\n",
       "    <tr>\n",
       "      <th>DecisionTreeRegressor_OE</th>\n",
       "      <td>1950.143766</td>\n",
       "      <td>3.64</td>\n",
       "      <td>0.0947</td>\n",
       "      <td>3.7347</td>\n",
       "    </tr>\n",
       "    <tr>\n",
       "      <th>RandomForestRegressor_OE</th>\n",
       "      <td>1869.225162</td>\n",
       "      <td>7.18</td>\n",
       "      <td>0.0923</td>\n",
       "      <td>7.2723</td>\n",
       "    </tr>\n",
       "    <tr>\n",
       "      <th>CatBoostRegressor_OE</th>\n",
       "      <td>1510.544293</td>\n",
       "      <td>7.17</td>\n",
       "      <td>0.0720</td>\n",
       "      <td>7.2420</td>\n",
       "    </tr>\n",
       "    <tr>\n",
       "      <th>LGBMRegressor_OE</th>\n",
       "      <td>1510.193234</td>\n",
       "      <td>6.59</td>\n",
       "      <td>0.0610</td>\n",
       "      <td>6.6510</td>\n",
       "    </tr>\n",
       "  </tbody>\n",
       "</table>\n",
       "</div>"
      ],
      "text/plain": [
       "                                 RMSE  Время обучения  Время предсказания  \\\n",
       "LinearRegression          2328.813764           29.00              0.1140   \n",
       "DecisionTreeRegressor_OE  1950.143766            3.64              0.0947   \n",
       "RandomForestRegressor_OE  1869.225162            7.18              0.0923   \n",
       "CatBoostRegressor_OE      1510.544293            7.17              0.0720   \n",
       "LGBMRegressor_OE          1510.193234            6.59              0.0610   \n",
       "\n",
       "                          Общее время  \n",
       "LinearRegression              29.1140  \n",
       "DecisionTreeRegressor_OE       3.7347  \n",
       "RandomForestRegressor_OE       7.2723  \n",
       "CatBoostRegressor_OE           7.2420  \n",
       "LGBMRegressor_OE               6.6510  "
      ]
     },
     "metadata": {},
     "output_type": "display_data"
    }
   ],
   "source": [
    "index = ['LinearRegression',\n",
    "         'DecisionTreeRegressor_OE',\n",
    "         'RandomForestRegressor_OE',\n",
    "         'CatBoostRegressor_OE',\n",
    "         'LGBMRegressor_OE']\n",
    "data = {'RMSE':[rmse_lr,\n",
    "                            result_dt,\n",
    "                            result_rf,\n",
    "                            rmse_cb,\n",
    "                            rmse_LGBM],\n",
    "        'Время обучения':[29,\n",
    "                                     3.64,\n",
    "                                     7.18,\n",
    "                                     7.17,\n",
    "                                     6.59],\n",
    "        'Время предсказания':[0.114,\n",
    "                                          0.0947,\n",
    "                                          0.0923,\n",
    "                                          0.072,\n",
    "                                          0.0610]}\n",
    "\n",
    "scores_time = pd.DataFrame(data=data, index=index)\n",
    "scores_time['Общее время'] = (scores_time['Время обучения'] + \n",
    "                                               scores_time['Время предсказания'])\n",
    "display(scores_time)"
   ]
  },
  {
   "cell_type": "markdown",
   "metadata": {},
   "source": [
    "Таким образом, 2 последние модели имеют лучшие из всех и очень близкие показатели качества и очень близкие показатели по времени. Рассчитаем метрику на тестовой выборке для обеих моделей."
   ]
  },
  {
   "cell_type": "code",
   "execution_count": 46,
   "metadata": {},
   "outputs": [
    {
     "name": "stdout",
     "output_type": "stream",
     "text": [
      "1486.2666599292036\n"
     ]
    }
   ],
   "source": [
    "rmse_final=mean_squared_error(target_test, predict_cb)**0.5\n",
    "print(rmse_final)"
   ]
  },
  {
   "cell_type": "code",
   "execution_count": 47,
   "metadata": {},
   "outputs": [
    {
     "name": "stdout",
     "output_type": "stream",
     "text": [
      "1582.9829243041236\n"
     ]
    }
   ],
   "source": [
    "rmse_final_1=mean_squared_error(target_test, predict_LGBM)**0.5\n",
    "print(rmse_final_1)"
   ]
  },
  {
   "cell_type": "markdown",
   "metadata": {},
   "source": [
    "RMSE на тестовой выборке значительно лучше у CatBoost. Ее и будем считать лучшей моделью."
   ]
  },
  {
   "cell_type": "markdown",
   "metadata": {},
   "source": [
    "## Итоги"
   ]
  },
  {
   "cell_type": "markdown",
   "metadata": {},
   "source": [
    "1. Были изучены и проанализированы входные данные. Мы внесли изменения в датасет, рассмотрели распределение данных, убрали лишние данные, выбросы, применили разные виды кодирования данных.\n",
    "2. Мы обучили 5 разных моделей с перебором гиперпараметров и кросс-валидацией, вычислили для каждой из них метрику качества RMSE и время обучения и предсказания.\n",
    "3. С учетом требований заказчика, приоритетами которого являются низкий показатель RMSE и быстрое время обучения и предсказания, лучшей моделью быа выбрана CatBoostRegressor.\n",
    "4. Требование к занчению метрики менее 2500 выполнено для всех 5 моделей из данного исследования."
   ]
  },
  {
   "cell_type": "markdown",
   "metadata": {},
   "source": [
    "# <font color='orange'>Рекомендации 🔥</font>\n",
    "* Доступное объяснение про работу градиентного бустинга https://www.youtube.com/watch?v=ZNJ3lKyI-EY&t=995s\n",
    "* После просмотра видео можешь почитать статью про ансамбли и бустинги https://habr.com/ru/company/ods/blog/645887/\n",
    "* Подбор гиперпараметров для CatBoost https://habr.com/ru/company/otus/blog/527554/\n",
    "* Подбор гиперпараметров для LightGBM https://programmersought.com/article/40776531516/\n",
    "* Разумные способы кодирования категориальных данных для машинного обучения https://machinelearningmastery.ru/smarter-ways-to-encode-categorical-data-for-machine-learning-part-1-of-3-6dca2f71b159/\n",
    "* Статья про \"непонятную\" метрику ROC-AUC https://dyakonov.org/2017/07/28/auc-roc-площадь-под-кривой-ошибок/\n",
    "* Хочешь подтянуть математику для DS?) https://academy.stepik.org/math-for-data-science\n",
    "* Результы обучения моделей можно визуализировать 😎 https://www.datatechnotes.com/2019/08/elasticnet-regression-example-in-python.html\n",
    "* В нашем деле нужно быть всегда в курсе всех новинок, новостей и тд, вот тут публикуют новости в области DS: https://www.infoq.com/data-analysis/news/\n",
    "* Всем аналитикам данных рекомендую книгу Даниела Канемана \"Думай медленно, решай быстро\""
   ]
  }
 ],
 "metadata": {
  "ExecuteTimeLog": [
   {
    "duration": 63,
    "start_time": "2023-01-24T11:48:09.155Z"
   },
   {
    "duration": 1637,
    "start_time": "2023-01-24T11:48:11.619Z"
   },
   {
    "duration": 1434,
    "start_time": "2023-01-24T11:48:19.078Z"
   },
   {
    "duration": 992,
    "start_time": "2023-01-24T11:48:44.514Z"
   },
   {
    "duration": 1011,
    "start_time": "2023-01-24T11:48:51.317Z"
   },
   {
    "duration": 116,
    "start_time": "2023-01-24T11:49:53.405Z"
   },
   {
    "duration": 4,
    "start_time": "2023-01-24T11:49:57.425Z"
   },
   {
    "duration": 250,
    "start_time": "2023-01-24T11:51:59.773Z"
   },
   {
    "duration": 1406,
    "start_time": "2023-01-24T11:52:23.455Z"
   },
   {
    "duration": 490,
    "start_time": "2023-01-24T11:54:21.281Z"
   },
   {
    "duration": 598,
    "start_time": "2023-01-24T11:56:53.155Z"
   },
   {
    "duration": 497,
    "start_time": "2023-01-24T11:58:42.380Z"
   },
   {
    "duration": 491,
    "start_time": "2023-01-24T11:58:57.397Z"
   },
   {
    "duration": 528,
    "start_time": "2023-01-24T11:59:56.092Z"
   },
   {
    "duration": 1439,
    "start_time": "2023-01-24T12:00:31.304Z"
   },
   {
    "duration": 1421,
    "start_time": "2023-01-24T12:00:50.389Z"
   },
   {
    "duration": 1447,
    "start_time": "2023-01-24T12:00:59.492Z"
   },
   {
    "duration": 979,
    "start_time": "2023-01-24T12:01:00.944Z"
   },
   {
    "duration": 1528,
    "start_time": "2023-01-24T12:01:01.925Z"
   },
   {
    "duration": 708,
    "start_time": "2023-01-24T12:01:03.455Z"
   },
   {
    "duration": 558,
    "start_time": "2023-01-24T12:01:17.896Z"
   },
   {
    "duration": 690,
    "start_time": "2023-01-24T12:01:23.628Z"
   },
   {
    "duration": 390,
    "start_time": "2023-01-24T12:06:22.956Z"
   },
   {
    "duration": 1313,
    "start_time": "2023-01-24T12:06:35.397Z"
   },
   {
    "duration": 1208,
    "start_time": "2023-01-24T12:07:00.555Z"
   },
   {
    "duration": 18,
    "start_time": "2023-01-24T12:24:23.793Z"
   },
   {
    "duration": 886,
    "start_time": "2023-01-24T12:25:26.481Z"
   },
   {
    "duration": 173,
    "start_time": "2023-01-24T12:28:03.713Z"
   },
   {
    "duration": 223,
    "start_time": "2023-01-24T12:29:07.904Z"
   },
   {
    "duration": 246,
    "start_time": "2023-01-24T12:29:29.929Z"
   },
   {
    "duration": 238,
    "start_time": "2023-01-24T12:29:34.736Z"
   },
   {
    "duration": 336,
    "start_time": "2023-01-24T12:29:37.272Z"
   },
   {
    "duration": 220,
    "start_time": "2023-01-24T12:29:40.562Z"
   },
   {
    "duration": 212,
    "start_time": "2023-01-24T12:34:15.087Z"
   },
   {
    "duration": 237,
    "start_time": "2023-01-24T12:34:30.667Z"
   },
   {
    "duration": 271,
    "start_time": "2023-01-24T12:35:12.039Z"
   },
   {
    "duration": 253,
    "start_time": "2023-01-24T12:35:28.181Z"
   },
   {
    "duration": 234,
    "start_time": "2023-01-24T12:35:37.878Z"
   },
   {
    "duration": 237,
    "start_time": "2023-01-24T12:36:24.160Z"
   },
   {
    "duration": 52,
    "start_time": "2023-01-25T10:13:31.264Z"
   },
   {
    "duration": 1509,
    "start_time": "2023-01-25T10:13:35.700Z"
   },
   {
    "duration": 999,
    "start_time": "2023-01-25T10:13:37.211Z"
   },
   {
    "duration": 1057,
    "start_time": "2023-01-25T10:13:38.212Z"
   },
   {
    "duration": 446,
    "start_time": "2023-01-25T10:13:39.271Z"
   },
   {
    "duration": 585,
    "start_time": "2023-01-25T10:13:39.718Z"
   },
   {
    "duration": 278,
    "start_time": "2023-01-25T10:13:40.305Z"
   },
   {
    "duration": 549,
    "start_time": "2023-01-25T10:15:30.544Z"
   },
   {
    "duration": 284,
    "start_time": "2023-01-25T10:16:33.251Z"
   },
   {
    "duration": 420,
    "start_time": "2023-01-25T10:17:07.116Z"
   },
   {
    "duration": 279,
    "start_time": "2023-01-25T10:17:12.272Z"
   },
   {
    "duration": 279,
    "start_time": "2023-01-25T10:17:17.439Z"
   },
   {
    "duration": 303,
    "start_time": "2023-01-25T10:18:22.008Z"
   },
   {
    "duration": 299,
    "start_time": "2023-01-25T10:19:15.979Z"
   },
   {
    "duration": 879,
    "start_time": "2023-01-25T10:25:16.001Z"
   },
   {
    "duration": 377,
    "start_time": "2023-01-25T10:25:23.456Z"
   },
   {
    "duration": 298,
    "start_time": "2023-01-25T10:25:49.004Z"
   },
   {
    "duration": 308,
    "start_time": "2023-01-25T10:25:58.328Z"
   },
   {
    "duration": 307,
    "start_time": "2023-01-25T10:26:58.893Z"
   },
   {
    "duration": 265,
    "start_time": "2023-01-25T10:29:49.353Z"
   },
   {
    "duration": 200,
    "start_time": "2023-01-25T10:29:56.681Z"
   },
   {
    "duration": 167,
    "start_time": "2023-01-25T10:30:06.825Z"
   },
   {
    "duration": 279,
    "start_time": "2023-01-25T10:31:59.261Z"
   },
   {
    "duration": 219,
    "start_time": "2023-01-25T10:32:13.204Z"
   },
   {
    "duration": 73,
    "start_time": "2023-01-25T10:36:09.861Z"
   },
   {
    "duration": 30,
    "start_time": "2023-01-25T10:36:15.797Z"
   },
   {
    "duration": 19,
    "start_time": "2023-01-25T10:36:17.612Z"
   },
   {
    "duration": 31,
    "start_time": "2023-01-25T10:36:25.141Z"
   },
   {
    "duration": 230,
    "start_time": "2023-01-25T10:36:37.681Z"
   },
   {
    "duration": 37,
    "start_time": "2023-01-25T10:36:52.894Z"
   },
   {
    "duration": 12,
    "start_time": "2023-01-25T10:40:36.720Z"
   },
   {
    "duration": 11,
    "start_time": "2023-01-25T10:40:43.915Z"
   },
   {
    "duration": 10,
    "start_time": "2023-01-25T10:40:49.405Z"
   },
   {
    "duration": 233,
    "start_time": "2023-01-25T10:41:53.844Z"
   },
   {
    "duration": 38,
    "start_time": "2023-01-25T10:45:00.641Z"
   },
   {
    "duration": 307,
    "start_time": "2023-01-25T10:45:33.002Z"
   },
   {
    "duration": 286,
    "start_time": "2023-01-25T10:45:57.237Z"
   },
   {
    "duration": 397,
    "start_time": "2023-01-25T10:46:47.274Z"
   },
   {
    "duration": 279,
    "start_time": "2023-01-25T10:46:56.270Z"
   },
   {
    "duration": 280,
    "start_time": "2023-01-25T10:47:00.529Z"
   },
   {
    "duration": 13,
    "start_time": "2023-01-25T10:47:32.833Z"
   },
   {
    "duration": 9,
    "start_time": "2023-01-25T10:47:39.125Z"
   },
   {
    "duration": 264,
    "start_time": "2023-01-25T10:47:49.417Z"
   },
   {
    "duration": 1288,
    "start_time": "2023-01-25T10:47:58.458Z"
   },
   {
    "duration": 769,
    "start_time": "2023-01-25T10:47:59.748Z"
   },
   {
    "duration": 1110,
    "start_time": "2023-01-25T10:48:00.518Z"
   },
   {
    "duration": 459,
    "start_time": "2023-01-25T10:48:01.630Z"
   },
   {
    "duration": 546,
    "start_time": "2023-01-25T10:48:02.095Z"
   },
   {
    "duration": 318,
    "start_time": "2023-01-25T10:48:02.642Z"
   },
   {
    "duration": 350,
    "start_time": "2023-01-25T10:48:02.963Z"
   },
   {
    "duration": 343,
    "start_time": "2023-01-25T10:48:03.314Z"
   },
   {
    "duration": 52,
    "start_time": "2023-01-25T10:48:03.659Z"
   },
   {
    "duration": 298,
    "start_time": "2023-01-25T10:48:03.713Z"
   },
   {
    "duration": 32,
    "start_time": "2023-01-25T10:48:04.013Z"
   },
   {
    "duration": 33,
    "start_time": "2023-01-25T10:49:49.044Z"
   },
   {
    "duration": 32,
    "start_time": "2023-01-25T10:49:55.452Z"
   },
   {
    "duration": 305,
    "start_time": "2023-01-25T10:52:02.308Z"
   },
   {
    "duration": 297,
    "start_time": "2023-01-25T10:52:08.008Z"
   },
   {
    "duration": 222,
    "start_time": "2023-01-25T10:52:26.009Z"
   },
   {
    "duration": 207,
    "start_time": "2023-01-25T10:55:10.348Z"
   },
   {
    "duration": 205,
    "start_time": "2023-01-25T10:55:21.300Z"
   },
   {
    "duration": 4,
    "start_time": "2023-01-25T10:57:37.627Z"
   },
   {
    "duration": 4,
    "start_time": "2023-01-25T10:57:42.364Z"
   },
   {
    "duration": 4,
    "start_time": "2023-01-25T10:57:50.900Z"
   },
   {
    "duration": 29,
    "start_time": "2023-01-25T10:59:04.014Z"
   },
   {
    "duration": 21,
    "start_time": "2023-01-25T11:00:29.598Z"
   },
   {
    "duration": 51,
    "start_time": "2023-01-25T11:00:44.964Z"
   },
   {
    "duration": 40,
    "start_time": "2023-01-25T11:00:52.096Z"
   },
   {
    "duration": 41,
    "start_time": "2023-01-25T11:01:08.068Z"
   },
   {
    "duration": 30,
    "start_time": "2023-01-25T11:01:54.397Z"
   },
   {
    "duration": 61,
    "start_time": "2023-01-25T11:04:09.872Z"
   },
   {
    "duration": 13,
    "start_time": "2023-01-25T11:05:33.120Z"
   },
   {
    "duration": 34,
    "start_time": "2023-01-25T11:05:47.198Z"
   },
   {
    "duration": 39,
    "start_time": "2023-01-25T11:05:53.456Z"
   },
   {
    "duration": 57,
    "start_time": "2023-01-25T11:06:58.881Z"
   },
   {
    "duration": 163,
    "start_time": "2023-01-25T11:07:48.256Z"
   },
   {
    "duration": 67,
    "start_time": "2023-01-25T11:08:02.320Z"
   },
   {
    "duration": 88,
    "start_time": "2023-01-25T11:08:11.876Z"
   },
   {
    "duration": 59,
    "start_time": "2023-01-25T11:08:22.677Z"
   },
   {
    "duration": 70,
    "start_time": "2023-01-25T11:09:39.248Z"
   },
   {
    "duration": 2,
    "start_time": "2023-01-25T11:10:34.964Z"
   },
   {
    "duration": 1465,
    "start_time": "2023-01-25T11:11:03.016Z"
   },
   {
    "duration": 726,
    "start_time": "2023-01-25T11:11:04.483Z"
   },
   {
    "duration": 1061,
    "start_time": "2023-01-25T11:11:05.211Z"
   },
   {
    "duration": 404,
    "start_time": "2023-01-25T11:11:06.273Z"
   },
   {
    "duration": 562,
    "start_time": "2023-01-25T11:11:06.679Z"
   },
   {
    "duration": 322,
    "start_time": "2023-01-25T11:11:07.243Z"
   },
   {
    "duration": 323,
    "start_time": "2023-01-25T11:11:07.567Z"
   },
   {
    "duration": 321,
    "start_time": "2023-01-25T11:11:07.892Z"
   },
   {
    "duration": 32,
    "start_time": "2023-01-25T11:11:08.215Z"
   },
   {
    "duration": 288,
    "start_time": "2023-01-25T11:11:08.248Z"
   },
   {
    "duration": 30,
    "start_time": "2023-01-25T11:11:08.538Z"
   },
   {
    "duration": 228,
    "start_time": "2023-01-25T11:11:08.570Z"
   },
   {
    "duration": 30,
    "start_time": "2023-01-25T11:11:08.800Z"
   },
   {
    "duration": 62,
    "start_time": "2023-01-25T11:11:08.833Z"
   },
   {
    "duration": 55,
    "start_time": "2023-01-25T11:11:08.898Z"
   },
   {
    "duration": 47,
    "start_time": "2023-01-25T11:11:08.955Z"
   },
   {
    "duration": 53,
    "start_time": "2023-01-25T11:11:09.004Z"
   },
   {
    "duration": 64,
    "start_time": "2023-01-25T11:11:09.059Z"
   },
   {
    "duration": 3,
    "start_time": "2023-01-25T11:11:09.124Z"
   },
   {
    "duration": 50,
    "start_time": "2023-01-25T11:28:16.429Z"
   },
   {
    "duration": 1622,
    "start_time": "2023-01-25T11:28:24.077Z"
   },
   {
    "duration": 1045,
    "start_time": "2023-01-25T11:28:25.701Z"
   },
   {
    "duration": 1136,
    "start_time": "2023-01-25T11:28:26.747Z"
   },
   {
    "duration": 453,
    "start_time": "2023-01-25T11:28:27.886Z"
   },
   {
    "duration": 572,
    "start_time": "2023-01-25T11:28:28.341Z"
   },
   {
    "duration": 329,
    "start_time": "2023-01-25T11:28:28.915Z"
   },
   {
    "duration": 348,
    "start_time": "2023-01-25T11:28:29.246Z"
   },
   {
    "duration": 338,
    "start_time": "2023-01-25T11:28:29.596Z"
   },
   {
    "duration": 36,
    "start_time": "2023-01-25T11:28:29.936Z"
   },
   {
    "duration": 334,
    "start_time": "2023-01-25T11:28:29.975Z"
   },
   {
    "duration": 34,
    "start_time": "2023-01-25T11:28:30.311Z"
   },
   {
    "duration": 249,
    "start_time": "2023-01-25T11:28:30.347Z"
   },
   {
    "duration": 36,
    "start_time": "2023-01-25T11:28:30.602Z"
   },
   {
    "duration": 67,
    "start_time": "2023-01-25T11:28:30.640Z"
   },
   {
    "duration": 61,
    "start_time": "2023-01-25T11:28:30.709Z"
   },
   {
    "duration": 47,
    "start_time": "2023-01-25T11:28:30.771Z"
   },
   {
    "duration": 65,
    "start_time": "2023-01-25T11:28:30.820Z"
   },
   {
    "duration": 41,
    "start_time": "2023-01-25T11:28:30.903Z"
   },
   {
    "duration": 2,
    "start_time": "2023-01-25T11:28:30.946Z"
   },
   {
    "duration": 140,
    "start_time": "2023-01-25T11:30:26.305Z"
   },
   {
    "duration": 50,
    "start_time": "2023-01-25T11:30:47.125Z"
   },
   {
    "duration": 44,
    "start_time": "2023-01-25T11:30:53.126Z"
   },
   {
    "duration": 89,
    "start_time": "2023-01-25T11:30:56.738Z"
   },
   {
    "duration": 36,
    "start_time": "2023-01-25T11:31:53.437Z"
   },
   {
    "duration": 32,
    "start_time": "2023-01-25T11:32:56.905Z"
   },
   {
    "duration": 33,
    "start_time": "2023-01-25T11:33:09.105Z"
   },
   {
    "duration": 30,
    "start_time": "2023-01-25T11:33:58.400Z"
   },
   {
    "duration": 35,
    "start_time": "2023-01-25T11:34:18.889Z"
   },
   {
    "duration": 26,
    "start_time": "2023-01-25T11:35:10.753Z"
   },
   {
    "duration": 395,
    "start_time": "2023-01-25T11:35:27.677Z"
   },
   {
    "duration": 1478,
    "start_time": "2023-01-25T11:35:39.389Z"
   },
   {
    "duration": 856,
    "start_time": "2023-01-25T11:35:40.869Z"
   },
   {
    "duration": 1129,
    "start_time": "2023-01-25T11:35:41.727Z"
   },
   {
    "duration": 488,
    "start_time": "2023-01-25T11:35:42.858Z"
   },
   {
    "duration": 578,
    "start_time": "2023-01-25T11:35:43.349Z"
   },
   {
    "duration": 415,
    "start_time": "2023-01-25T11:35:43.929Z"
   },
   {
    "duration": 366,
    "start_time": "2023-01-25T11:35:44.346Z"
   },
   {
    "duration": 356,
    "start_time": "2023-01-25T11:35:44.714Z"
   },
   {
    "duration": 44,
    "start_time": "2023-01-25T11:35:45.072Z"
   },
   {
    "duration": 345,
    "start_time": "2023-01-25T11:35:45.119Z"
   },
   {
    "duration": 41,
    "start_time": "2023-01-25T11:35:45.467Z"
   },
   {
    "duration": 239,
    "start_time": "2023-01-25T11:35:45.510Z"
   },
   {
    "duration": 34,
    "start_time": "2023-01-25T11:35:45.751Z"
   },
   {
    "duration": 43,
    "start_time": "2023-01-25T11:35:45.803Z"
   },
   {
    "duration": 71,
    "start_time": "2023-01-25T11:35:45.848Z"
   },
   {
    "duration": 36,
    "start_time": "2023-01-25T11:35:45.921Z"
   },
   {
    "duration": 84,
    "start_time": "2023-01-25T11:35:45.958Z"
   },
   {
    "duration": 59,
    "start_time": "2023-01-25T11:35:46.044Z"
   },
   {
    "duration": 35,
    "start_time": "2023-01-25T11:35:46.105Z"
   },
   {
    "duration": 36,
    "start_time": "2023-01-25T11:35:46.142Z"
   },
   {
    "duration": 53,
    "start_time": "2023-01-25T11:35:46.180Z"
   },
   {
    "duration": 31,
    "start_time": "2023-01-25T11:35:46.235Z"
   },
   {
    "duration": 57,
    "start_time": "2023-01-25T11:35:46.268Z"
   },
   {
    "duration": 29,
    "start_time": "2023-01-25T11:35:46.327Z"
   },
   {
    "duration": 1732,
    "start_time": "2023-01-26T11:06:37.286Z"
   },
   {
    "duration": 2879,
    "start_time": "2023-01-26T11:06:39.021Z"
   },
   {
    "duration": 1197,
    "start_time": "2023-01-26T11:06:41.904Z"
   },
   {
    "duration": 485,
    "start_time": "2023-01-26T11:06:43.103Z"
   },
   {
    "duration": 659,
    "start_time": "2023-01-26T11:06:43.590Z"
   },
   {
    "duration": 363,
    "start_time": "2023-01-26T11:06:44.251Z"
   },
   {
    "duration": 447,
    "start_time": "2023-01-26T11:06:44.621Z"
   },
   {
    "duration": 382,
    "start_time": "2023-01-26T11:06:45.070Z"
   },
   {
    "duration": 35,
    "start_time": "2023-01-26T11:06:45.453Z"
   },
   {
    "duration": 335,
    "start_time": "2023-01-26T11:06:45.490Z"
   },
   {
    "duration": 32,
    "start_time": "2023-01-26T11:06:45.827Z"
   },
   {
    "duration": 243,
    "start_time": "2023-01-26T11:06:45.861Z"
   },
   {
    "duration": 45,
    "start_time": "2023-01-26T11:06:46.107Z"
   },
   {
    "duration": 57,
    "start_time": "2023-01-26T11:06:46.154Z"
   },
   {
    "duration": 68,
    "start_time": "2023-01-26T11:06:46.221Z"
   },
   {
    "duration": 61,
    "start_time": "2023-01-26T11:06:46.291Z"
   },
   {
    "duration": 85,
    "start_time": "2023-01-26T11:06:46.354Z"
   },
   {
    "duration": 43,
    "start_time": "2023-01-26T11:06:46.441Z"
   },
   {
    "duration": 58,
    "start_time": "2023-01-26T11:06:46.485Z"
   },
   {
    "duration": 39,
    "start_time": "2023-01-26T11:06:46.545Z"
   },
   {
    "duration": 56,
    "start_time": "2023-01-26T11:06:46.586Z"
   },
   {
    "duration": 36,
    "start_time": "2023-01-26T11:06:46.644Z"
   },
   {
    "duration": 71,
    "start_time": "2023-01-26T11:06:46.683Z"
   },
   {
    "duration": 28,
    "start_time": "2023-01-26T11:06:46.756Z"
   },
   {
    "duration": 258,
    "start_time": "2023-01-26T11:08:29.707Z"
   },
   {
    "duration": 1482,
    "start_time": "2023-01-26T11:08:36.090Z"
   },
   {
    "duration": 869,
    "start_time": "2023-01-26T11:08:37.574Z"
   },
   {
    "duration": 1336,
    "start_time": "2023-01-26T11:08:38.446Z"
   },
   {
    "duration": 503,
    "start_time": "2023-01-26T11:08:39.785Z"
   },
   {
    "duration": 647,
    "start_time": "2023-01-26T11:08:40.289Z"
   },
   {
    "duration": 332,
    "start_time": "2023-01-26T11:08:40.937Z"
   },
   {
    "duration": 381,
    "start_time": "2023-01-26T11:08:41.272Z"
   },
   {
    "duration": 348,
    "start_time": "2023-01-26T11:08:41.654Z"
   },
   {
    "duration": 47,
    "start_time": "2023-01-26T11:08:42.005Z"
   },
   {
    "duration": 382,
    "start_time": "2023-01-26T11:08:42.056Z"
   },
   {
    "duration": 37,
    "start_time": "2023-01-26T11:08:42.440Z"
   },
   {
    "duration": 273,
    "start_time": "2023-01-26T11:08:42.479Z"
   },
   {
    "duration": 40,
    "start_time": "2023-01-26T11:08:42.754Z"
   },
   {
    "duration": 75,
    "start_time": "2023-01-26T11:08:42.796Z"
   },
   {
    "duration": 90,
    "start_time": "2023-01-26T11:08:42.873Z"
   },
   {
    "duration": 42,
    "start_time": "2023-01-26T11:08:42.965Z"
   },
   {
    "duration": 73,
    "start_time": "2023-01-26T11:08:43.021Z"
   },
   {
    "duration": 60,
    "start_time": "2023-01-26T11:08:43.095Z"
   },
   {
    "duration": 40,
    "start_time": "2023-01-26T11:08:43.156Z"
   },
   {
    "duration": 53,
    "start_time": "2023-01-26T11:08:43.198Z"
   },
   {
    "duration": 39,
    "start_time": "2023-01-26T11:08:43.252Z"
   },
   {
    "duration": 54,
    "start_time": "2023-01-26T11:08:43.292Z"
   },
   {
    "duration": 47,
    "start_time": "2023-01-26T11:08:43.348Z"
   },
   {
    "duration": 39,
    "start_time": "2023-01-26T11:08:43.397Z"
   },
   {
    "duration": 284,
    "start_time": "2023-01-26T11:08:52.958Z"
   },
   {
    "duration": 1500,
    "start_time": "2023-01-26T11:08:59.815Z"
   },
   {
    "duration": 885,
    "start_time": "2023-01-26T11:09:01.317Z"
   },
   {
    "duration": 1281,
    "start_time": "2023-01-26T11:09:02.203Z"
   },
   {
    "duration": 503,
    "start_time": "2023-01-26T11:09:03.487Z"
   },
   {
    "duration": 728,
    "start_time": "2023-01-26T11:09:03.993Z"
   },
   {
    "duration": 373,
    "start_time": "2023-01-26T11:09:04.723Z"
   },
   {
    "duration": 376,
    "start_time": "2023-01-26T11:09:05.098Z"
   },
   {
    "duration": 382,
    "start_time": "2023-01-26T11:09:05.475Z"
   },
   {
    "duration": 38,
    "start_time": "2023-01-26T11:09:05.859Z"
   },
   {
    "duration": 331,
    "start_time": "2023-01-26T11:09:05.899Z"
   },
   {
    "duration": 35,
    "start_time": "2023-01-26T11:09:06.232Z"
   },
   {
    "duration": 265,
    "start_time": "2023-01-26T11:09:06.268Z"
   },
   {
    "duration": 42,
    "start_time": "2023-01-26T11:09:06.535Z"
   },
   {
    "duration": 70,
    "start_time": "2023-01-26T11:09:06.580Z"
   },
   {
    "duration": 84,
    "start_time": "2023-01-26T11:09:06.652Z"
   },
   {
    "duration": 43,
    "start_time": "2023-01-26T11:09:06.738Z"
   },
   {
    "duration": 88,
    "start_time": "2023-01-26T11:09:06.784Z"
   },
   {
    "duration": 63,
    "start_time": "2023-01-26T11:09:06.874Z"
   },
   {
    "duration": 40,
    "start_time": "2023-01-26T11:09:06.939Z"
   },
   {
    "duration": 60,
    "start_time": "2023-01-26T11:09:06.981Z"
   },
   {
    "duration": 43,
    "start_time": "2023-01-26T11:09:07.044Z"
   },
   {
    "duration": 59,
    "start_time": "2023-01-26T11:09:07.089Z"
   },
   {
    "duration": 45,
    "start_time": "2023-01-26T11:09:07.150Z"
   },
   {
    "duration": 46,
    "start_time": "2023-01-26T11:09:07.197Z"
   },
   {
    "duration": 268,
    "start_time": "2023-01-26T11:09:30.371Z"
   },
   {
    "duration": 273,
    "start_time": "2023-01-26T11:09:39.079Z"
   },
   {
    "duration": 1473,
    "start_time": "2023-01-26T11:09:47.038Z"
   },
   {
    "duration": 867,
    "start_time": "2023-01-26T11:09:48.513Z"
   },
   {
    "duration": 1287,
    "start_time": "2023-01-26T11:09:49.382Z"
   },
   {
    "duration": 503,
    "start_time": "2023-01-26T11:09:50.670Z"
   },
   {
    "duration": 646,
    "start_time": "2023-01-26T11:09:51.175Z"
   },
   {
    "duration": 346,
    "start_time": "2023-01-26T11:09:51.823Z"
   },
   {
    "duration": 374,
    "start_time": "2023-01-26T11:09:52.171Z"
   },
   {
    "duration": 394,
    "start_time": "2023-01-26T11:09:52.546Z"
   },
   {
    "duration": 38,
    "start_time": "2023-01-26T11:09:52.942Z"
   },
   {
    "duration": 351,
    "start_time": "2023-01-26T11:09:52.983Z"
   },
   {
    "duration": 37,
    "start_time": "2023-01-26T11:09:53.337Z"
   },
   {
    "duration": 256,
    "start_time": "2023-01-26T11:09:53.377Z"
   },
   {
    "duration": 41,
    "start_time": "2023-01-26T11:09:53.636Z"
   },
   {
    "duration": 72,
    "start_time": "2023-01-26T11:09:53.680Z"
   },
   {
    "duration": 91,
    "start_time": "2023-01-26T11:09:53.754Z"
   },
   {
    "duration": 51,
    "start_time": "2023-01-26T11:09:53.847Z"
   },
   {
    "duration": 87,
    "start_time": "2023-01-26T11:09:53.900Z"
   },
   {
    "duration": 64,
    "start_time": "2023-01-26T11:09:53.989Z"
   },
   {
    "duration": 42,
    "start_time": "2023-01-26T11:09:54.055Z"
   },
   {
    "duration": 60,
    "start_time": "2023-01-26T11:09:54.099Z"
   },
   {
    "duration": 40,
    "start_time": "2023-01-26T11:09:54.161Z"
   },
   {
    "duration": 52,
    "start_time": "2023-01-26T11:09:54.203Z"
   },
   {
    "duration": 42,
    "start_time": "2023-01-26T11:09:54.256Z"
   },
   {
    "duration": 51,
    "start_time": "2023-01-26T11:09:54.300Z"
   },
   {
    "duration": 35,
    "start_time": "2023-01-26T11:10:11.850Z"
   },
   {
    "duration": 1643,
    "start_time": "2023-01-26T11:10:24.090Z"
   },
   {
    "duration": 984,
    "start_time": "2023-01-26T11:10:25.735Z"
   },
   {
    "duration": 1281,
    "start_time": "2023-01-26T11:10:26.721Z"
   },
   {
    "duration": 505,
    "start_time": "2023-01-26T11:10:28.004Z"
   },
   {
    "duration": 708,
    "start_time": "2023-01-26T11:10:28.511Z"
   },
   {
    "duration": 357,
    "start_time": "2023-01-26T11:10:29.221Z"
   },
   {
    "duration": 375,
    "start_time": "2023-01-26T11:10:29.580Z"
   },
   {
    "duration": 391,
    "start_time": "2023-01-26T11:10:29.957Z"
   },
   {
    "duration": 45,
    "start_time": "2023-01-26T11:10:30.351Z"
   },
   {
    "duration": 341,
    "start_time": "2023-01-26T11:10:30.399Z"
   },
   {
    "duration": 34,
    "start_time": "2023-01-26T11:10:30.742Z"
   },
   {
    "duration": 256,
    "start_time": "2023-01-26T11:10:30.778Z"
   },
   {
    "duration": 48,
    "start_time": "2023-01-26T11:10:31.036Z"
   },
   {
    "duration": 74,
    "start_time": "2023-01-26T11:10:31.085Z"
   },
   {
    "duration": 74,
    "start_time": "2023-01-26T11:10:31.160Z"
   },
   {
    "duration": 44,
    "start_time": "2023-01-26T11:10:31.236Z"
   },
   {
    "duration": 84,
    "start_time": "2023-01-26T11:10:31.282Z"
   },
   {
    "duration": 55,
    "start_time": "2023-01-26T11:10:31.368Z"
   },
   {
    "duration": 42,
    "start_time": "2023-01-26T11:10:31.425Z"
   },
   {
    "duration": 71,
    "start_time": "2023-01-26T11:10:31.469Z"
   },
   {
    "duration": 87,
    "start_time": "2023-01-26T11:10:31.542Z"
   },
   {
    "duration": 61,
    "start_time": "2023-01-26T11:10:31.631Z"
   },
   {
    "duration": 55,
    "start_time": "2023-01-26T11:10:31.693Z"
   },
   {
    "duration": 28,
    "start_time": "2023-01-26T11:10:31.750Z"
   },
   {
    "duration": 27,
    "start_time": "2023-01-26T11:14:35.826Z"
   },
   {
    "duration": 136,
    "start_time": "2023-01-26T11:15:15.983Z"
   },
   {
    "duration": 620,
    "start_time": "2023-01-26T11:15:27.942Z"
   },
   {
    "duration": 709,
    "start_time": "2023-01-26T11:16:35.002Z"
   },
   {
    "duration": 668,
    "start_time": "2023-01-26T11:16:47.882Z"
   },
   {
    "duration": 214,
    "start_time": "2023-01-26T11:19:32.837Z"
   },
   {
    "duration": 254,
    "start_time": "2023-01-26T11:22:45.577Z"
   },
   {
    "duration": 319,
    "start_time": "2023-01-26T11:23:31.053Z"
   },
   {
    "duration": 355,
    "start_time": "2023-01-26T11:24:26.077Z"
   },
   {
    "duration": 302,
    "start_time": "2023-01-26T11:24:45.389Z"
   },
   {
    "duration": 89,
    "start_time": "2023-01-26T11:28:13.946Z"
   },
   {
    "duration": 78,
    "start_time": "2023-01-26T11:28:55.173Z"
   },
   {
    "duration": 1578,
    "start_time": "2023-01-26T11:29:05.873Z"
   },
   {
    "duration": 1019,
    "start_time": "2023-01-26T11:29:07.454Z"
   },
   {
    "duration": 1346,
    "start_time": "2023-01-26T11:29:08.475Z"
   },
   {
    "duration": 521,
    "start_time": "2023-01-26T11:29:09.824Z"
   },
   {
    "duration": 709,
    "start_time": "2023-01-26T11:29:10.347Z"
   },
   {
    "duration": 353,
    "start_time": "2023-01-26T11:29:11.058Z"
   },
   {
    "duration": 375,
    "start_time": "2023-01-26T11:29:11.413Z"
   },
   {
    "duration": 381,
    "start_time": "2023-01-26T11:29:11.789Z"
   },
   {
    "duration": 52,
    "start_time": "2023-01-26T11:29:12.172Z"
   },
   {
    "duration": 341,
    "start_time": "2023-01-26T11:29:12.227Z"
   },
   {
    "duration": 51,
    "start_time": "2023-01-26T11:29:12.570Z"
   },
   {
    "duration": 251,
    "start_time": "2023-01-26T11:29:12.623Z"
   },
   {
    "duration": 47,
    "start_time": "2023-01-26T11:29:12.876Z"
   },
   {
    "duration": 55,
    "start_time": "2023-01-26T11:29:12.925Z"
   },
   {
    "duration": 85,
    "start_time": "2023-01-26T11:29:12.982Z"
   },
   {
    "duration": 58,
    "start_time": "2023-01-26T11:29:13.069Z"
   },
   {
    "duration": 92,
    "start_time": "2023-01-26T11:29:13.129Z"
   },
   {
    "duration": 45,
    "start_time": "2023-01-26T11:29:13.223Z"
   },
   {
    "duration": 55,
    "start_time": "2023-01-26T11:29:13.270Z"
   },
   {
    "duration": 63,
    "start_time": "2023-01-26T11:29:13.327Z"
   },
   {
    "duration": 41,
    "start_time": "2023-01-26T11:29:13.392Z"
   },
   {
    "duration": 42,
    "start_time": "2023-01-26T11:29:13.436Z"
   },
   {
    "duration": 67,
    "start_time": "2023-01-26T11:29:13.480Z"
   },
   {
    "duration": 28,
    "start_time": "2023-01-26T11:29:13.548Z"
   },
   {
    "duration": 727,
    "start_time": "2023-01-26T11:29:13.578Z"
   },
   {
    "duration": 219,
    "start_time": "2023-01-26T11:29:14.308Z"
   },
   {
    "duration": 400,
    "start_time": "2023-01-26T11:29:14.529Z"
   },
   {
    "duration": 17398,
    "start_time": "2023-01-26T11:29:34.025Z"
   },
   {
    "duration": 181,
    "start_time": "2023-01-26T11:34:54.449Z"
   },
   {
    "duration": 23562,
    "start_time": "2023-01-26T11:35:02.167Z"
   },
   {
    "duration": 294,
    "start_time": "2023-01-26T11:35:25.731Z"
   },
   {
    "duration": 212,
    "start_time": "2023-01-26T11:37:01.512Z"
   },
   {
    "duration": 189,
    "start_time": "2023-01-26T11:37:20.337Z"
   },
   {
    "duration": 130,
    "start_time": "2023-01-26T11:37:41.296Z"
   },
   {
    "duration": 131,
    "start_time": "2023-01-26T11:42:53.103Z"
   },
   {
    "duration": 106,
    "start_time": "2023-01-26T11:43:03.623Z"
   },
   {
    "duration": 15,
    "start_time": "2023-01-26T11:44:59.966Z"
   },
   {
    "duration": 24,
    "start_time": "2023-01-26T11:45:41.971Z"
   },
   {
    "duration": 5,
    "start_time": "2023-01-26T11:46:25.496Z"
   },
   {
    "duration": 14,
    "start_time": "2023-01-26T12:01:08.970Z"
   },
   {
    "duration": 4,
    "start_time": "2023-01-26T12:03:09.850Z"
   },
   {
    "duration": 83844,
    "start_time": "2023-01-26T12:03:13.778Z"
   },
   {
    "duration": 18203,
    "start_time": "2023-01-26T12:04:59.025Z"
   },
   {
    "duration": 70,
    "start_time": "2023-01-26T12:05:19.774Z"
   },
   {
    "duration": 77794,
    "start_time": "2023-01-26T12:08:44.734Z"
   },
   {
    "duration": 85342,
    "start_time": "2023-01-26T12:14:45.513Z"
   },
   {
    "duration": 68572,
    "start_time": "2023-01-26T12:19:04.524Z"
   },
   {
    "duration": 66521,
    "start_time": "2023-01-26T12:24:48.106Z"
   },
   {
    "duration": 105,
    "start_time": "2023-01-26T12:26:56.857Z"
   },
   {
    "duration": 68954,
    "start_time": "2023-01-26T12:29:36.756Z"
   },
   {
    "duration": 96,
    "start_time": "2023-01-26T12:33:23.247Z"
   },
   {
    "duration": 13,
    "start_time": "2023-01-26T12:33:59.688Z"
   },
   {
    "duration": 1495,
    "start_time": "2023-01-26T12:34:06.377Z"
   },
   {
    "duration": 959,
    "start_time": "2023-01-26T12:34:07.875Z"
   },
   {
    "duration": 1339,
    "start_time": "2023-01-26T12:34:08.837Z"
   },
   {
    "duration": 580,
    "start_time": "2023-01-26T12:34:10.178Z"
   },
   {
    "duration": 730,
    "start_time": "2023-01-26T12:34:10.761Z"
   },
   {
    "duration": 432,
    "start_time": "2023-01-26T12:34:11.493Z"
   },
   {
    "duration": 463,
    "start_time": "2023-01-26T12:34:11.929Z"
   },
   {
    "duration": 292,
    "start_time": "2023-01-26T12:34:12.394Z"
   },
   {
    "duration": 55,
    "start_time": "2023-01-26T12:34:12.688Z"
   },
   {
    "duration": 347,
    "start_time": "2023-01-26T12:34:12.745Z"
   },
   {
    "duration": 45,
    "start_time": "2023-01-26T12:34:13.094Z"
   },
   {
    "duration": 250,
    "start_time": "2023-01-26T12:34:13.141Z"
   },
   {
    "duration": 69,
    "start_time": "2023-01-26T12:34:13.393Z"
   },
   {
    "duration": 75,
    "start_time": "2023-01-26T12:34:13.465Z"
   },
   {
    "duration": 84,
    "start_time": "2023-01-26T12:34:13.542Z"
   },
   {
    "duration": 45,
    "start_time": "2023-01-26T12:34:13.633Z"
   },
   {
    "duration": 97,
    "start_time": "2023-01-26T12:34:13.680Z"
   },
   {
    "duration": 68,
    "start_time": "2023-01-26T12:34:13.779Z"
   },
   {
    "duration": 41,
    "start_time": "2023-01-26T12:34:13.848Z"
   },
   {
    "duration": 82,
    "start_time": "2023-01-26T12:34:13.891Z"
   },
   {
    "duration": 41,
    "start_time": "2023-01-26T12:34:13.975Z"
   },
   {
    "duration": 50,
    "start_time": "2023-01-26T12:34:14.020Z"
   },
   {
    "duration": 49,
    "start_time": "2023-01-26T12:34:14.072Z"
   },
   {
    "duration": 30,
    "start_time": "2023-01-26T12:34:14.132Z"
   },
   {
    "duration": 728,
    "start_time": "2023-01-26T12:34:14.163Z"
   },
   {
    "duration": 271,
    "start_time": "2023-01-26T12:34:14.893Z"
   },
   {
    "duration": 350,
    "start_time": "2023-01-26T12:34:15.166Z"
   },
   {
    "duration": 12,
    "start_time": "2023-01-26T12:34:15.520Z"
   },
   {
    "duration": 35609,
    "start_time": "2023-01-26T12:34:15.536Z"
   },
   {
    "duration": 274,
    "start_time": "2023-01-26T12:34:51.148Z"
   },
   {
    "duration": 67736,
    "start_time": "2023-01-26T12:34:51.425Z"
   },
   {
    "duration": 2395,
    "start_time": "2023-01-26T12:46:19.600Z"
   },
   {
    "duration": 1600,
    "start_time": "2023-01-26T12:47:46.849Z"
   },
   {
    "duration": 918,
    "start_time": "2023-01-26T12:47:48.451Z"
   },
   {
    "duration": 1386,
    "start_time": "2023-01-26T12:47:49.370Z"
   },
   {
    "duration": 537,
    "start_time": "2023-01-26T12:47:50.758Z"
   },
   {
    "duration": 746,
    "start_time": "2023-01-26T12:47:51.298Z"
   },
   {
    "duration": 380,
    "start_time": "2023-01-26T12:47:52.047Z"
   },
   {
    "duration": 469,
    "start_time": "2023-01-26T12:47:52.428Z"
   },
   {
    "duration": 327,
    "start_time": "2023-01-26T12:47:52.899Z"
   },
   {
    "duration": 38,
    "start_time": "2023-01-26T12:47:53.234Z"
   },
   {
    "duration": 384,
    "start_time": "2023-01-26T12:47:53.274Z"
   },
   {
    "duration": 33,
    "start_time": "2023-01-26T12:47:53.661Z"
   },
   {
    "duration": 288,
    "start_time": "2023-01-26T12:47:53.696Z"
   },
   {
    "duration": 62,
    "start_time": "2023-01-26T12:47:53.986Z"
   },
   {
    "duration": 60,
    "start_time": "2023-01-26T12:47:54.052Z"
   },
   {
    "duration": 81,
    "start_time": "2023-01-26T12:47:54.124Z"
   },
   {
    "duration": 66,
    "start_time": "2023-01-26T12:47:54.207Z"
   },
   {
    "duration": 113,
    "start_time": "2023-01-26T12:47:54.275Z"
   },
   {
    "duration": 72,
    "start_time": "2023-01-26T12:47:54.390Z"
   },
   {
    "duration": 75,
    "start_time": "2023-01-26T12:47:54.464Z"
   },
   {
    "duration": 59,
    "start_time": "2023-01-26T12:47:54.542Z"
   },
   {
    "duration": 73,
    "start_time": "2023-01-26T12:47:54.603Z"
   },
   {
    "duration": 71,
    "start_time": "2023-01-26T12:47:54.678Z"
   },
   {
    "duration": 53,
    "start_time": "2023-01-26T12:47:54.751Z"
   },
   {
    "duration": 53,
    "start_time": "2023-01-26T12:47:54.806Z"
   },
   {
    "duration": 688,
    "start_time": "2023-01-26T12:47:54.862Z"
   },
   {
    "duration": 230,
    "start_time": "2023-01-26T12:47:55.553Z"
   },
   {
    "duration": 365,
    "start_time": "2023-01-26T12:47:55.784Z"
   },
   {
    "duration": 5,
    "start_time": "2023-01-26T12:47:56.152Z"
   },
   {
    "duration": 36277,
    "start_time": "2023-01-26T12:47:56.159Z"
   },
   {
    "duration": 293,
    "start_time": "2023-01-26T12:48:32.438Z"
   },
   {
    "duration": 65676,
    "start_time": "2023-01-26T12:48:32.733Z"
   },
   {
    "duration": 1619,
    "start_time": "2023-01-26T12:58:33.287Z"
   },
   {
    "duration": 925,
    "start_time": "2023-01-26T12:58:34.909Z"
   },
   {
    "duration": 1288,
    "start_time": "2023-01-26T12:58:35.838Z"
   },
   {
    "duration": 501,
    "start_time": "2023-01-26T12:58:37.128Z"
   },
   {
    "duration": 652,
    "start_time": "2023-01-26T12:58:37.631Z"
   },
   {
    "duration": 339,
    "start_time": "2023-01-26T12:58:38.285Z"
   },
   {
    "duration": 434,
    "start_time": "2023-01-26T12:58:38.629Z"
   },
   {
    "duration": 285,
    "start_time": "2023-01-26T12:58:39.066Z"
   },
   {
    "duration": 38,
    "start_time": "2023-01-26T12:58:39.353Z"
   },
   {
    "duration": 343,
    "start_time": "2023-01-26T12:58:39.393Z"
   },
   {
    "duration": 34,
    "start_time": "2023-01-26T12:58:39.737Z"
   },
   {
    "duration": 252,
    "start_time": "2023-01-26T12:58:39.773Z"
   },
   {
    "duration": 39,
    "start_time": "2023-01-26T12:58:40.027Z"
   },
   {
    "duration": 70,
    "start_time": "2023-01-26T12:58:40.070Z"
   },
   {
    "duration": 65,
    "start_time": "2023-01-26T12:58:40.142Z"
   },
   {
    "duration": 41,
    "start_time": "2023-01-26T12:58:40.221Z"
   },
   {
    "duration": 88,
    "start_time": "2023-01-26T12:58:40.264Z"
   },
   {
    "duration": 43,
    "start_time": "2023-01-26T12:58:40.354Z"
   },
   {
    "duration": 50,
    "start_time": "2023-01-26T12:58:40.399Z"
   },
   {
    "duration": 46,
    "start_time": "2023-01-26T12:58:40.450Z"
   },
   {
    "duration": 48,
    "start_time": "2023-01-26T12:58:40.497Z"
   },
   {
    "duration": 39,
    "start_time": "2023-01-26T12:58:40.547Z"
   },
   {
    "duration": 87,
    "start_time": "2023-01-26T12:58:40.588Z"
   },
   {
    "duration": 26,
    "start_time": "2023-01-26T12:58:40.677Z"
   },
   {
    "duration": 638,
    "start_time": "2023-01-26T12:58:40.704Z"
   },
   {
    "duration": 226,
    "start_time": "2023-01-26T12:58:41.343Z"
   },
   {
    "duration": 375,
    "start_time": "2023-01-26T12:58:41.571Z"
   },
   {
    "duration": 5,
    "start_time": "2023-01-26T12:58:41.948Z"
   },
   {
    "duration": 16271,
    "start_time": "2023-01-26T12:58:41.955Z"
   },
   {
    "duration": 197,
    "start_time": "2023-01-26T12:58:58.228Z"
   },
   {
    "duration": 65900,
    "start_time": "2023-01-26T12:58:58.428Z"
   },
   {
    "duration": 609034,
    "start_time": "2023-01-26T13:00:04.331Z"
   },
   {
    "duration": 791068,
    "start_time": "2023-01-26T13:10:13.367Z"
   },
   {
    "duration": 205,
    "start_time": "2023-01-26T13:47:25.457Z"
   },
   {
    "duration": 124,
    "start_time": "2023-01-26T13:47:40.025Z"
   },
   {
    "duration": 19,
    "start_time": "2023-01-26T13:47:52.589Z"
   },
   {
    "duration": 1568,
    "start_time": "2023-01-26T13:52:49.397Z"
   },
   {
    "duration": 935,
    "start_time": "2023-01-26T13:52:50.968Z"
   },
   {
    "duration": 1294,
    "start_time": "2023-01-26T13:52:51.905Z"
   },
   {
    "duration": 514,
    "start_time": "2023-01-26T13:52:53.201Z"
   },
   {
    "duration": 700,
    "start_time": "2023-01-26T13:52:53.717Z"
   },
   {
    "duration": 452,
    "start_time": "2023-01-26T13:52:54.421Z"
   },
   {
    "duration": 479,
    "start_time": "2023-01-26T13:52:54.876Z"
   },
   {
    "duration": 286,
    "start_time": "2023-01-26T13:52:55.357Z"
   },
   {
    "duration": 40,
    "start_time": "2023-01-26T13:52:55.645Z"
   },
   {
    "duration": 345,
    "start_time": "2023-01-26T13:52:55.687Z"
   },
   {
    "duration": 35,
    "start_time": "2023-01-26T13:52:56.034Z"
   },
   {
    "duration": 267,
    "start_time": "2023-01-26T13:52:56.071Z"
   },
   {
    "duration": 45,
    "start_time": "2023-01-26T13:52:56.340Z"
   },
   {
    "duration": 67,
    "start_time": "2023-01-26T13:52:56.388Z"
   },
   {
    "duration": 85,
    "start_time": "2023-01-26T13:52:56.457Z"
   },
   {
    "duration": 41,
    "start_time": "2023-01-26T13:52:56.544Z"
   },
   {
    "duration": 89,
    "start_time": "2023-01-26T13:52:56.586Z"
   },
   {
    "duration": 65,
    "start_time": "2023-01-26T13:52:56.678Z"
   },
   {
    "duration": 39,
    "start_time": "2023-01-26T13:52:56.745Z"
   },
   {
    "duration": 56,
    "start_time": "2023-01-26T13:52:56.785Z"
   },
   {
    "duration": 38,
    "start_time": "2023-01-26T13:52:56.843Z"
   },
   {
    "duration": 54,
    "start_time": "2023-01-26T13:52:56.883Z"
   },
   {
    "duration": 40,
    "start_time": "2023-01-26T13:52:56.939Z"
   },
   {
    "duration": 48,
    "start_time": "2023-01-26T13:52:56.981Z"
   },
   {
    "duration": 556,
    "start_time": "2023-01-26T13:52:57.031Z"
   },
   {
    "duration": 224,
    "start_time": "2023-01-26T13:52:57.589Z"
   },
   {
    "duration": 335,
    "start_time": "2023-01-26T13:52:57.820Z"
   },
   {
    "duration": 4,
    "start_time": "2023-01-26T13:52:58.157Z"
   },
   {
    "duration": 21059,
    "start_time": "2023-01-26T13:52:58.162Z"
   },
   {
    "duration": 201,
    "start_time": "2023-01-26T13:53:19.223Z"
   },
   {
    "duration": 65075,
    "start_time": "2023-01-26T13:53:19.427Z"
   },
   {
    "duration": 603693,
    "start_time": "2023-01-26T13:54:24.504Z"
   },
   {
    "duration": 64582,
    "start_time": "2023-01-26T14:04:28.199Z"
   },
   {
    "duration": 47,
    "start_time": "2023-01-26T14:07:54.384Z"
   },
   {
    "duration": 143031,
    "start_time": "2023-01-26T14:08:03.316Z"
   },
   {
    "duration": 237,
    "start_time": "2023-01-26T14:11:01.907Z"
   },
   {
    "duration": 302354,
    "start_time": "2023-01-26T14:11:16.704Z"
   },
   {
    "duration": 6,
    "start_time": "2023-01-26T14:20:44.667Z"
   },
   {
    "duration": 321181,
    "start_time": "2023-01-26T14:20:48.566Z"
   },
   {
    "duration": 1553,
    "start_time": "2023-01-26T14:27:06.931Z"
   },
   {
    "duration": 970,
    "start_time": "2023-01-26T14:27:08.486Z"
   },
   {
    "duration": 1425,
    "start_time": "2023-01-26T14:27:09.458Z"
   },
   {
    "duration": 585,
    "start_time": "2023-01-26T14:27:10.885Z"
   },
   {
    "duration": 817,
    "start_time": "2023-01-26T14:27:11.473Z"
   },
   {
    "duration": 394,
    "start_time": "2023-01-26T14:27:12.293Z"
   },
   {
    "duration": 470,
    "start_time": "2023-01-26T14:27:12.689Z"
   },
   {
    "duration": 332,
    "start_time": "2023-01-26T14:27:13.160Z"
   },
   {
    "duration": 57,
    "start_time": "2023-01-26T14:27:13.494Z"
   },
   {
    "duration": 390,
    "start_time": "2023-01-26T14:27:13.553Z"
   },
   {
    "duration": 37,
    "start_time": "2023-01-26T14:27:13.948Z"
   },
   {
    "duration": 268,
    "start_time": "2023-01-26T14:27:13.989Z"
   },
   {
    "duration": 41,
    "start_time": "2023-01-26T14:27:14.260Z"
   },
   {
    "duration": 101,
    "start_time": "2023-01-26T14:27:14.331Z"
   },
   {
    "duration": 101,
    "start_time": "2023-01-26T14:27:14.436Z"
   },
   {
    "duration": 80,
    "start_time": "2023-01-26T14:27:14.539Z"
   },
   {
    "duration": 147,
    "start_time": "2023-01-26T14:27:14.621Z"
   },
   {
    "duration": 69,
    "start_time": "2023-01-26T14:27:14.770Z"
   },
   {
    "duration": 76,
    "start_time": "2023-01-26T14:27:14.846Z"
   },
   {
    "duration": 76,
    "start_time": "2023-01-26T14:27:14.926Z"
   },
   {
    "duration": 67,
    "start_time": "2023-01-26T14:27:15.004Z"
   },
   {
    "duration": 51,
    "start_time": "2023-01-26T14:27:15.074Z"
   },
   {
    "duration": 127,
    "start_time": "2023-01-26T14:27:15.130Z"
   },
   {
    "duration": 42,
    "start_time": "2023-01-26T14:27:15.260Z"
   },
   {
    "duration": 576,
    "start_time": "2023-01-26T14:27:15.304Z"
   },
   {
    "duration": 233,
    "start_time": "2023-01-26T14:27:15.882Z"
   },
   {
    "duration": 358,
    "start_time": "2023-01-26T14:27:16.120Z"
   },
   {
    "duration": 4,
    "start_time": "2023-01-26T14:27:16.480Z"
   },
   {
    "duration": 50465,
    "start_time": "2023-01-26T14:27:16.486Z"
   },
   {
    "duration": 263,
    "start_time": "2023-01-26T14:28:06.957Z"
   },
   {
    "duration": 69557,
    "start_time": "2023-01-26T14:28:07.228Z"
   },
   {
    "duration": 621443,
    "start_time": "2023-01-26T14:29:16.788Z"
   },
   {
    "duration": 287276,
    "start_time": "2023-01-26T14:39:38.240Z"
   },
   {
    "duration": 1693,
    "start_time": "2023-01-26T14:45:05.632Z"
   },
   {
    "duration": 948,
    "start_time": "2023-01-26T14:45:07.332Z"
   },
   {
    "duration": 1389,
    "start_time": "2023-01-26T14:45:08.282Z"
   },
   {
    "duration": 535,
    "start_time": "2023-01-26T14:45:09.674Z"
   },
   {
    "duration": 715,
    "start_time": "2023-01-26T14:45:10.211Z"
   },
   {
    "duration": 351,
    "start_time": "2023-01-26T14:45:10.928Z"
   },
   {
    "duration": 470,
    "start_time": "2023-01-26T14:45:11.281Z"
   },
   {
    "duration": 307,
    "start_time": "2023-01-26T14:45:11.753Z"
   },
   {
    "duration": 34,
    "start_time": "2023-01-26T14:45:12.062Z"
   },
   {
    "duration": 356,
    "start_time": "2023-01-26T14:45:12.099Z"
   },
   {
    "duration": 34,
    "start_time": "2023-01-26T14:45:12.457Z"
   },
   {
    "duration": 255,
    "start_time": "2023-01-26T14:45:12.493Z"
   },
   {
    "duration": 34,
    "start_time": "2023-01-26T14:45:12.749Z"
   },
   {
    "duration": 75,
    "start_time": "2023-01-26T14:45:12.785Z"
   },
   {
    "duration": 77,
    "start_time": "2023-01-26T14:45:12.861Z"
   },
   {
    "duration": 38,
    "start_time": "2023-01-26T14:45:12.940Z"
   },
   {
    "duration": 97,
    "start_time": "2023-01-26T14:45:12.980Z"
   },
   {
    "duration": 64,
    "start_time": "2023-01-26T14:45:13.079Z"
   },
   {
    "duration": 37,
    "start_time": "2023-01-26T14:45:13.145Z"
   },
   {
    "duration": 66,
    "start_time": "2023-01-26T14:45:13.183Z"
   },
   {
    "duration": 40,
    "start_time": "2023-01-26T14:45:13.251Z"
   },
   {
    "duration": 62,
    "start_time": "2023-01-26T14:45:13.292Z"
   },
   {
    "duration": 40,
    "start_time": "2023-01-26T14:45:13.356Z"
   },
   {
    "duration": 44,
    "start_time": "2023-01-26T14:45:13.397Z"
   },
   {
    "duration": 605,
    "start_time": "2023-01-26T14:45:13.443Z"
   },
   {
    "duration": 224,
    "start_time": "2023-01-26T14:45:14.050Z"
   },
   {
    "duration": 402,
    "start_time": "2023-01-26T14:45:14.276Z"
   },
   {
    "duration": 4,
    "start_time": "2023-01-26T14:45:14.681Z"
   },
   {
    "duration": 27041,
    "start_time": "2023-01-26T14:45:14.686Z"
   },
   {
    "duration": 115,
    "start_time": "2023-01-26T14:45:41.737Z"
   },
   {
    "duration": 67688,
    "start_time": "2023-01-26T14:45:41.927Z"
   },
   {
    "duration": 1589,
    "start_time": "2023-01-26T14:47:53.328Z"
   },
   {
    "duration": 955,
    "start_time": "2023-01-26T14:47:54.922Z"
   },
   {
    "duration": 1358,
    "start_time": "2023-01-26T14:47:55.880Z"
   },
   {
    "duration": 527,
    "start_time": "2023-01-26T14:47:57.240Z"
   },
   {
    "duration": 761,
    "start_time": "2023-01-26T14:47:57.769Z"
   },
   {
    "duration": 368,
    "start_time": "2023-01-26T14:47:58.531Z"
   },
   {
    "duration": 469,
    "start_time": "2023-01-26T14:47:58.901Z"
   },
   {
    "duration": 304,
    "start_time": "2023-01-26T14:47:59.372Z"
   },
   {
    "duration": 48,
    "start_time": "2023-01-26T14:47:59.677Z"
   },
   {
    "duration": 344,
    "start_time": "2023-01-26T14:47:59.729Z"
   },
   {
    "duration": 33,
    "start_time": "2023-01-26T14:48:00.075Z"
   },
   {
    "duration": 246,
    "start_time": "2023-01-26T14:48:00.120Z"
   },
   {
    "duration": 40,
    "start_time": "2023-01-26T14:48:00.367Z"
   },
   {
    "duration": 64,
    "start_time": "2023-01-26T14:48:00.423Z"
   },
   {
    "duration": 78,
    "start_time": "2023-01-26T14:48:00.489Z"
   },
   {
    "duration": 39,
    "start_time": "2023-01-26T14:48:00.569Z"
   },
   {
    "duration": 90,
    "start_time": "2023-01-26T14:48:00.609Z"
   },
   {
    "duration": 62,
    "start_time": "2023-01-26T14:48:00.701Z"
   },
   {
    "duration": 41,
    "start_time": "2023-01-26T14:48:00.765Z"
   },
   {
    "duration": 71,
    "start_time": "2023-01-26T14:48:00.808Z"
   },
   {
    "duration": 61,
    "start_time": "2023-01-26T14:48:00.881Z"
   },
   {
    "duration": 37,
    "start_time": "2023-01-26T14:48:00.944Z"
   },
   {
    "duration": 89,
    "start_time": "2023-01-26T14:48:00.982Z"
   },
   {
    "duration": 34,
    "start_time": "2023-01-26T14:48:01.073Z"
   },
   {
    "duration": 605,
    "start_time": "2023-01-26T14:48:01.109Z"
   },
   {
    "duration": 219,
    "start_time": "2023-01-26T14:48:01.716Z"
   },
   {
    "duration": 343,
    "start_time": "2023-01-26T14:48:01.937Z"
   },
   {
    "duration": 4,
    "start_time": "2023-01-26T14:48:02.283Z"
   },
   {
    "duration": 33735,
    "start_time": "2023-01-26T14:48:02.289Z"
   },
   {
    "duration": 200,
    "start_time": "2023-01-26T14:48:36.026Z"
   },
   {
    "duration": 68428,
    "start_time": "2023-01-26T14:48:36.229Z"
   },
   {
    "duration": 1641,
    "start_time": "2023-01-26T14:59:16.703Z"
   },
   {
    "duration": 978,
    "start_time": "2023-01-26T14:59:18.346Z"
   },
   {
    "duration": 1332,
    "start_time": "2023-01-26T14:59:19.334Z"
   },
   {
    "duration": 558,
    "start_time": "2023-01-26T14:59:20.668Z"
   },
   {
    "duration": 746,
    "start_time": "2023-01-26T14:59:21.228Z"
   },
   {
    "duration": 364,
    "start_time": "2023-01-26T14:59:21.976Z"
   },
   {
    "duration": 457,
    "start_time": "2023-01-26T14:59:22.342Z"
   },
   {
    "duration": 309,
    "start_time": "2023-01-26T14:59:22.802Z"
   },
   {
    "duration": 46,
    "start_time": "2023-01-26T14:59:23.113Z"
   },
   {
    "duration": 376,
    "start_time": "2023-01-26T14:59:23.164Z"
   },
   {
    "duration": 35,
    "start_time": "2023-01-26T14:59:23.542Z"
   },
   {
    "duration": 263,
    "start_time": "2023-01-26T14:59:23.579Z"
   },
   {
    "duration": 40,
    "start_time": "2023-01-26T14:59:23.844Z"
   },
   {
    "duration": 80,
    "start_time": "2023-01-26T14:59:23.886Z"
   },
   {
    "duration": 91,
    "start_time": "2023-01-26T14:59:23.969Z"
   },
   {
    "duration": 38,
    "start_time": "2023-01-26T14:59:24.062Z"
   },
   {
    "duration": 88,
    "start_time": "2023-01-26T14:59:24.101Z"
   },
   {
    "duration": 74,
    "start_time": "2023-01-26T14:59:24.191Z"
   },
   {
    "duration": 40,
    "start_time": "2023-01-26T14:59:24.266Z"
   },
   {
    "duration": 71,
    "start_time": "2023-01-26T14:59:24.307Z"
   },
   {
    "duration": 75,
    "start_time": "2023-01-26T14:59:24.380Z"
   },
   {
    "duration": 65,
    "start_time": "2023-01-26T14:59:24.457Z"
   },
   {
    "duration": 104,
    "start_time": "2023-01-26T14:59:24.525Z"
   },
   {
    "duration": 38,
    "start_time": "2023-01-26T14:59:24.630Z"
   },
   {
    "duration": 643,
    "start_time": "2023-01-26T14:59:24.670Z"
   },
   {
    "duration": 229,
    "start_time": "2023-01-26T14:59:25.315Z"
   },
   {
    "duration": 354,
    "start_time": "2023-01-26T14:59:25.546Z"
   },
   {
    "duration": 4,
    "start_time": "2023-01-26T14:59:25.903Z"
   },
   {
    "duration": 29929,
    "start_time": "2023-01-26T14:59:25.909Z"
   },
   {
    "duration": 193,
    "start_time": "2023-01-26T14:59:55.841Z"
   },
   {
    "duration": 67931,
    "start_time": "2023-01-26T14:59:56.039Z"
   },
   {
    "duration": 1781,
    "start_time": "2023-01-26T15:01:53.407Z"
   },
   {
    "duration": 917,
    "start_time": "2023-01-26T15:01:55.191Z"
   },
   {
    "duration": 1352,
    "start_time": "2023-01-26T15:01:56.109Z"
   },
   {
    "duration": 540,
    "start_time": "2023-01-26T15:01:57.464Z"
   },
   {
    "duration": 867,
    "start_time": "2023-01-26T15:01:58.005Z"
   },
   {
    "duration": 355,
    "start_time": "2023-01-26T15:01:58.873Z"
   },
   {
    "duration": 434,
    "start_time": "2023-01-26T15:01:59.236Z"
   },
   {
    "duration": 288,
    "start_time": "2023-01-26T15:01:59.672Z"
   },
   {
    "duration": 35,
    "start_time": "2023-01-26T15:01:59.962Z"
   },
   {
    "duration": 360,
    "start_time": "2023-01-26T15:02:00.000Z"
   },
   {
    "duration": 39,
    "start_time": "2023-01-26T15:02:00.362Z"
   },
   {
    "duration": 261,
    "start_time": "2023-01-26T15:02:00.403Z"
   },
   {
    "duration": 57,
    "start_time": "2023-01-26T15:02:00.665Z"
   },
   {
    "duration": 86,
    "start_time": "2023-01-26T15:02:00.730Z"
   },
   {
    "duration": 81,
    "start_time": "2023-01-26T15:02:00.818Z"
   },
   {
    "duration": 55,
    "start_time": "2023-01-26T15:02:00.901Z"
   },
   {
    "duration": 86,
    "start_time": "2023-01-26T15:02:00.957Z"
   },
   {
    "duration": 45,
    "start_time": "2023-01-26T15:02:01.044Z"
   },
   {
    "duration": 64,
    "start_time": "2023-01-26T15:02:01.091Z"
   },
   {
    "duration": 44,
    "start_time": "2023-01-26T15:02:01.157Z"
   },
   {
    "duration": 61,
    "start_time": "2023-01-26T15:02:01.203Z"
   },
   {
    "duration": 48,
    "start_time": "2023-01-26T15:02:01.266Z"
   },
   {
    "duration": 59,
    "start_time": "2023-01-26T15:02:01.316Z"
   },
   {
    "duration": 28,
    "start_time": "2023-01-26T15:02:01.377Z"
   },
   {
    "duration": 589,
    "start_time": "2023-01-26T15:02:01.407Z"
   },
   {
    "duration": 230,
    "start_time": "2023-01-26T15:02:01.998Z"
   },
   {
    "duration": 337,
    "start_time": "2023-01-26T15:02:02.231Z"
   },
   {
    "duration": 4,
    "start_time": "2023-01-26T15:02:02.570Z"
   },
   {
    "duration": 35651,
    "start_time": "2023-01-26T15:02:02.575Z"
   },
   {
    "duration": 195,
    "start_time": "2023-01-26T15:02:38.230Z"
   },
   {
    "duration": 67081,
    "start_time": "2023-01-26T15:02:38.427Z"
   },
   {
    "duration": 616158,
    "start_time": "2023-01-26T15:03:45.510Z"
   },
   {
    "duration": 288930,
    "start_time": "2023-01-26T15:14:01.670Z"
   },
   {
    "duration": 1706,
    "start_time": "2023-01-26T15:45:24.442Z"
   },
   {
    "duration": 1010,
    "start_time": "2023-01-26T15:45:26.150Z"
   },
   {
    "duration": 1538,
    "start_time": "2023-01-26T15:45:27.162Z"
   },
   {
    "duration": 562,
    "start_time": "2023-01-26T15:45:28.703Z"
   },
   {
    "duration": 743,
    "start_time": "2023-01-26T15:45:29.268Z"
   },
   {
    "duration": 378,
    "start_time": "2023-01-26T15:45:30.012Z"
   },
   {
    "duration": 471,
    "start_time": "2023-01-26T15:45:30.393Z"
   },
   {
    "duration": 306,
    "start_time": "2023-01-26T15:45:30.866Z"
   },
   {
    "duration": 53,
    "start_time": "2023-01-26T15:45:31.174Z"
   },
   {
    "duration": 350,
    "start_time": "2023-01-26T15:45:31.230Z"
   },
   {
    "duration": 58,
    "start_time": "2023-01-26T15:45:31.581Z"
   },
   {
    "duration": 268,
    "start_time": "2023-01-26T15:45:31.642Z"
   },
   {
    "duration": 40,
    "start_time": "2023-01-26T15:45:31.921Z"
   },
   {
    "duration": 84,
    "start_time": "2023-01-26T15:45:31.964Z"
   },
   {
    "duration": 92,
    "start_time": "2023-01-26T15:45:32.051Z"
   },
   {
    "duration": 46,
    "start_time": "2023-01-26T15:45:32.145Z"
   },
   {
    "duration": 135,
    "start_time": "2023-01-26T15:45:32.193Z"
   },
   {
    "duration": 72,
    "start_time": "2023-01-26T15:45:32.331Z"
   },
   {
    "duration": 40,
    "start_time": "2023-01-26T15:45:32.421Z"
   },
   {
    "duration": 61,
    "start_time": "2023-01-26T15:45:32.463Z"
   },
   {
    "duration": 59,
    "start_time": "2023-01-26T15:45:32.527Z"
   },
   {
    "duration": 74,
    "start_time": "2023-01-26T15:45:32.588Z"
   },
   {
    "duration": 71,
    "start_time": "2023-01-26T15:45:32.664Z"
   },
   {
    "duration": 29,
    "start_time": "2023-01-26T15:45:32.738Z"
   },
   {
    "duration": 708,
    "start_time": "2023-01-26T15:45:32.769Z"
   },
   {
    "duration": 234,
    "start_time": "2023-01-26T15:45:33.480Z"
   },
   {
    "duration": 364,
    "start_time": "2023-01-26T15:45:33.717Z"
   },
   {
    "duration": 5,
    "start_time": "2023-01-26T15:45:34.086Z"
   },
   {
    "duration": 43736,
    "start_time": "2023-01-26T15:45:34.093Z"
   },
   {
    "duration": 195,
    "start_time": "2023-01-26T15:46:17.831Z"
   },
   {
    "duration": 66709,
    "start_time": "2023-01-26T15:46:18.028Z"
   },
   {
    "duration": 605377,
    "start_time": "2023-01-26T15:47:24.739Z"
   },
   {
    "duration": 286064,
    "start_time": "2023-01-26T15:57:30.118Z"
   },
   {
    "duration": 1925,
    "start_time": "2023-01-26T16:29:51.648Z"
   },
   {
    "duration": 1041,
    "start_time": "2023-01-26T16:29:53.576Z"
   },
   {
    "duration": 1567,
    "start_time": "2023-01-26T16:29:54.620Z"
   },
   {
    "duration": 579,
    "start_time": "2023-01-26T16:29:56.189Z"
   },
   {
    "duration": 867,
    "start_time": "2023-01-26T16:29:56.771Z"
   },
   {
    "duration": 357,
    "start_time": "2023-01-26T16:29:57.639Z"
   },
   {
    "duration": 513,
    "start_time": "2023-01-26T16:29:57.998Z"
   },
   {
    "duration": 368,
    "start_time": "2023-01-26T16:29:58.513Z"
   },
   {
    "duration": 55,
    "start_time": "2023-01-26T16:29:58.883Z"
   },
   {
    "duration": 430,
    "start_time": "2023-01-26T16:29:58.942Z"
   },
   {
    "duration": 71,
    "start_time": "2023-01-26T16:29:59.375Z"
   },
   {
    "duration": 419,
    "start_time": "2023-01-26T16:29:59.453Z"
   },
   {
    "duration": 81,
    "start_time": "2023-01-26T16:29:59.874Z"
   },
   {
    "duration": 99,
    "start_time": "2023-01-26T16:29:59.960Z"
   },
   {
    "duration": 133,
    "start_time": "2023-01-26T16:30:00.061Z"
   },
   {
    "duration": 79,
    "start_time": "2023-01-26T16:30:00.197Z"
   },
   {
    "duration": 145,
    "start_time": "2023-01-26T16:30:00.280Z"
   },
   {
    "duration": 77,
    "start_time": "2023-01-26T16:30:00.428Z"
   },
   {
    "duration": 70,
    "start_time": "2023-01-26T16:30:00.507Z"
   },
   {
    "duration": 80,
    "start_time": "2023-01-26T16:30:00.580Z"
   },
   {
    "duration": 63,
    "start_time": "2023-01-26T16:30:00.663Z"
   },
   {
    "duration": 65,
    "start_time": "2023-01-26T16:30:00.729Z"
   },
   {
    "duration": 62,
    "start_time": "2023-01-26T16:30:00.796Z"
   },
   {
    "duration": 35,
    "start_time": "2023-01-26T16:30:00.861Z"
   },
   {
    "duration": 50,
    "start_time": "2023-01-26T16:30:00.898Z"
   },
   {
    "duration": 632,
    "start_time": "2023-01-26T16:30:00.950Z"
   },
   {
    "duration": 620,
    "start_time": "2023-01-26T16:30:01.585Z"
   },
   {
    "duration": 273,
    "start_time": "2023-01-26T16:30:02.206Z"
   },
   {
    "duration": 349,
    "start_time": "2023-01-26T16:30:02.481Z"
   },
   {
    "duration": 7,
    "start_time": "2023-01-26T16:30:02.832Z"
   },
   {
    "duration": 40596,
    "start_time": "2023-01-26T16:30:02.840Z"
   },
   {
    "duration": 192,
    "start_time": "2023-01-26T16:30:43.442Z"
   },
   {
    "duration": 69571,
    "start_time": "2023-01-26T16:30:43.643Z"
   },
   {
    "duration": 1665,
    "start_time": "2023-01-26T16:32:17.111Z"
   },
   {
    "duration": 962,
    "start_time": "2023-01-26T16:32:18.778Z"
   },
   {
    "duration": 1435,
    "start_time": "2023-01-26T16:32:19.742Z"
   },
   {
    "duration": 574,
    "start_time": "2023-01-26T16:32:21.180Z"
   },
   {
    "duration": 736,
    "start_time": "2023-01-26T16:32:21.757Z"
   },
   {
    "duration": 389,
    "start_time": "2023-01-26T16:32:22.496Z"
   },
   {
    "duration": 514,
    "start_time": "2023-01-26T16:32:22.888Z"
   },
   {
    "duration": 305,
    "start_time": "2023-01-26T16:32:23.405Z"
   },
   {
    "duration": 43,
    "start_time": "2023-01-26T16:32:23.720Z"
   },
   {
    "duration": 389,
    "start_time": "2023-01-26T16:32:23.769Z"
   },
   {
    "duration": 35,
    "start_time": "2023-01-26T16:32:24.160Z"
   },
   {
    "duration": 368,
    "start_time": "2023-01-26T16:32:24.197Z"
   },
   {
    "duration": 75,
    "start_time": "2023-01-26T16:32:24.567Z"
   },
   {
    "duration": 91,
    "start_time": "2023-01-26T16:32:24.645Z"
   },
   {
    "duration": 123,
    "start_time": "2023-01-26T16:32:24.738Z"
   },
   {
    "duration": 60,
    "start_time": "2023-01-26T16:32:24.863Z"
   },
   {
    "duration": 129,
    "start_time": "2023-01-26T16:32:24.925Z"
   },
   {
    "duration": 89,
    "start_time": "2023-01-26T16:32:25.059Z"
   },
   {
    "duration": 45,
    "start_time": "2023-01-26T16:32:25.150Z"
   },
   {
    "duration": 86,
    "start_time": "2023-01-26T16:32:25.197Z"
   },
   {
    "duration": 61,
    "start_time": "2023-01-26T16:32:25.285Z"
   },
   {
    "duration": 49,
    "start_time": "2023-01-26T16:32:25.348Z"
   },
   {
    "duration": 75,
    "start_time": "2023-01-26T16:32:25.399Z"
   },
   {
    "duration": 50,
    "start_time": "2023-01-26T16:32:25.477Z"
   },
   {
    "duration": 24,
    "start_time": "2023-01-26T16:32:25.529Z"
   },
   {
    "duration": 529,
    "start_time": "2023-01-26T16:32:25.555Z"
   },
   {
    "duration": 625,
    "start_time": "2023-01-26T16:32:26.086Z"
   },
   {
    "duration": 228,
    "start_time": "2023-01-26T16:32:26.714Z"
   },
   {
    "duration": 173,
    "start_time": "2023-01-26T16:32:26.944Z"
   },
   {
    "duration": 354,
    "start_time": "2023-01-26T16:32:27.118Z"
   },
   {
    "duration": 5,
    "start_time": "2023-01-26T16:32:27.474Z"
   },
   {
    "duration": 32954,
    "start_time": "2023-01-26T16:32:27.482Z"
   },
   {
    "duration": 193,
    "start_time": "2023-01-26T16:33:00.438Z"
   },
   {
    "duration": 1593,
    "start_time": "2023-01-26T16:34:05.543Z"
   },
   {
    "duration": 906,
    "start_time": "2023-01-26T16:34:07.138Z"
   },
   {
    "duration": 1314,
    "start_time": "2023-01-26T16:34:08.045Z"
   },
   {
    "duration": 584,
    "start_time": "2023-01-26T16:34:09.361Z"
   },
   {
    "duration": 846,
    "start_time": "2023-01-26T16:34:09.951Z"
   },
   {
    "duration": 428,
    "start_time": "2023-01-26T16:34:10.799Z"
   },
   {
    "duration": 448,
    "start_time": "2023-01-26T16:34:11.237Z"
   },
   {
    "duration": 311,
    "start_time": "2023-01-26T16:34:11.687Z"
   },
   {
    "duration": 49,
    "start_time": "2023-01-26T16:34:12.000Z"
   },
   {
    "duration": 339,
    "start_time": "2023-01-26T16:34:12.051Z"
   },
   {
    "duration": 51,
    "start_time": "2023-01-26T16:34:12.392Z"
   },
   {
    "duration": 242,
    "start_time": "2023-01-26T16:34:12.445Z"
   },
   {
    "duration": 55,
    "start_time": "2023-01-26T16:34:12.690Z"
   },
   {
    "duration": 95,
    "start_time": "2023-01-26T16:34:12.749Z"
   },
   {
    "duration": 95,
    "start_time": "2023-01-26T16:34:12.846Z"
   },
   {
    "duration": 40,
    "start_time": "2023-01-26T16:34:12.943Z"
   },
   {
    "duration": 93,
    "start_time": "2023-01-26T16:34:12.984Z"
   },
   {
    "duration": 65,
    "start_time": "2023-01-26T16:34:13.079Z"
   },
   {
    "duration": 40,
    "start_time": "2023-01-26T16:34:13.145Z"
   },
   {
    "duration": 73,
    "start_time": "2023-01-26T16:34:13.186Z"
   },
   {
    "duration": 41,
    "start_time": "2023-01-26T16:34:13.261Z"
   },
   {
    "duration": 58,
    "start_time": "2023-01-26T16:34:13.304Z"
   },
   {
    "duration": 43,
    "start_time": "2023-01-26T16:34:13.364Z"
   },
   {
    "duration": 43,
    "start_time": "2023-01-26T16:34:13.422Z"
   },
   {
    "duration": 26,
    "start_time": "2023-01-26T16:34:13.467Z"
   },
   {
    "duration": 564,
    "start_time": "2023-01-26T16:34:13.496Z"
   },
   {
    "duration": 583,
    "start_time": "2023-01-26T16:34:14.061Z"
   },
   {
    "duration": 266,
    "start_time": "2023-01-26T16:34:14.646Z"
   },
   {
    "duration": 198,
    "start_time": "2023-01-26T16:34:14.914Z"
   },
   {
    "duration": 377,
    "start_time": "2023-01-26T16:34:15.115Z"
   },
   {
    "duration": 69,
    "start_time": "2023-01-26T16:34:15.494Z"
   },
   {
    "duration": 4,
    "start_time": "2023-01-26T16:34:15.567Z"
   },
   {
    "duration": 40559,
    "start_time": "2023-01-26T16:34:15.573Z"
   },
   {
    "duration": 200,
    "start_time": "2023-01-26T16:34:56.138Z"
   },
   {
    "duration": 67342,
    "start_time": "2023-01-26T16:34:56.342Z"
   },
   {
    "duration": 1505,
    "start_time": "2023-01-26T16:36:22.053Z"
   },
   {
    "duration": 916,
    "start_time": "2023-01-26T16:36:23.560Z"
   },
   {
    "duration": 1408,
    "start_time": "2023-01-26T16:36:24.480Z"
   },
   {
    "duration": 511,
    "start_time": "2023-01-26T16:36:25.890Z"
   },
   {
    "duration": 701,
    "start_time": "2023-01-26T16:36:26.403Z"
   },
   {
    "duration": 339,
    "start_time": "2023-01-26T16:36:27.105Z"
   },
   {
    "duration": 435,
    "start_time": "2023-01-26T16:36:27.445Z"
   },
   {
    "duration": 293,
    "start_time": "2023-01-26T16:36:27.881Z"
   },
   {
    "duration": 52,
    "start_time": "2023-01-26T16:36:28.176Z"
   },
   {
    "duration": 343,
    "start_time": "2023-01-26T16:36:28.235Z"
   },
   {
    "duration": 51,
    "start_time": "2023-01-26T16:36:28.580Z"
   },
   {
    "duration": 258,
    "start_time": "2023-01-26T16:36:28.635Z"
   },
   {
    "duration": 54,
    "start_time": "2023-01-26T16:36:28.895Z"
   },
   {
    "duration": 49,
    "start_time": "2023-01-26T16:36:28.951Z"
   },
   {
    "duration": 96,
    "start_time": "2023-01-26T16:36:29.001Z"
   },
   {
    "duration": 59,
    "start_time": "2023-01-26T16:36:29.099Z"
   },
   {
    "duration": 81,
    "start_time": "2023-01-26T16:36:29.160Z"
   },
   {
    "duration": 43,
    "start_time": "2023-01-26T16:36:29.242Z"
   },
   {
    "duration": 65,
    "start_time": "2023-01-26T16:36:29.287Z"
   },
   {
    "duration": 40,
    "start_time": "2023-01-26T16:36:29.353Z"
   },
   {
    "duration": 67,
    "start_time": "2023-01-26T16:36:29.395Z"
   },
   {
    "duration": 40,
    "start_time": "2023-01-26T16:36:29.466Z"
   },
   {
    "duration": 60,
    "start_time": "2023-01-26T16:36:29.508Z"
   },
   {
    "duration": 25,
    "start_time": "2023-01-26T16:36:29.570Z"
   },
   {
    "duration": 45,
    "start_time": "2023-01-26T16:36:29.597Z"
   },
   {
    "duration": 497,
    "start_time": "2023-01-26T16:36:29.645Z"
   },
   {
    "duration": 564,
    "start_time": "2023-01-26T16:36:30.147Z"
   },
   {
    "duration": 224,
    "start_time": "2023-01-26T16:36:30.713Z"
   },
   {
    "duration": 221,
    "start_time": "2023-01-26T16:36:30.940Z"
   },
   {
    "duration": 347,
    "start_time": "2023-01-26T16:36:31.164Z"
   },
   {
    "duration": 76,
    "start_time": "2023-01-26T16:36:31.513Z"
   },
   {
    "duration": 4,
    "start_time": "2023-01-26T16:36:31.592Z"
   },
   {
    "duration": 31134,
    "start_time": "2023-01-26T16:36:31.598Z"
   },
   {
    "duration": 186,
    "start_time": "2023-01-26T16:37:02.741Z"
   },
   {
    "duration": 65069,
    "start_time": "2023-01-26T16:37:02.930Z"
   },
   {
    "duration": 6416,
    "start_time": "2023-01-26T16:38:08.001Z"
   },
   {
    "duration": 618719,
    "start_time": "2023-01-26T16:38:14.418Z"
   },
   {
    "duration": 69776,
    "start_time": "2023-01-26T16:48:33.143Z"
   },
   {
    "duration": 206915,
    "start_time": "2023-01-26T16:49:42.925Z"
   },
   {
    "duration": 1945,
    "start_time": "2023-01-26T17:56:11.613Z"
   },
   {
    "duration": 1141,
    "start_time": "2023-01-26T17:56:13.561Z"
   },
   {
    "duration": 1743,
    "start_time": "2023-01-26T17:56:14.704Z"
   },
   {
    "duration": 610,
    "start_time": "2023-01-26T17:56:16.449Z"
   },
   {
    "duration": 816,
    "start_time": "2023-01-26T17:56:17.063Z"
   },
   {
    "duration": 389,
    "start_time": "2023-01-26T17:56:17.881Z"
   },
   {
    "duration": 496,
    "start_time": "2023-01-26T17:56:18.272Z"
   },
   {
    "duration": 317,
    "start_time": "2023-01-26T17:56:18.771Z"
   },
   {
    "duration": 55,
    "start_time": "2023-01-26T17:56:19.090Z"
   },
   {
    "duration": 350,
    "start_time": "2023-01-26T17:56:19.147Z"
   },
   {
    "duration": 66,
    "start_time": "2023-01-26T17:56:19.500Z"
   },
   {
    "duration": 281,
    "start_time": "2023-01-26T17:56:19.569Z"
   },
   {
    "duration": 42,
    "start_time": "2023-01-26T17:56:19.851Z"
   },
   {
    "duration": 138,
    "start_time": "2023-01-26T17:56:19.897Z"
   },
   {
    "duration": 81,
    "start_time": "2023-01-26T17:56:20.042Z"
   },
   {
    "duration": 68,
    "start_time": "2023-01-26T17:56:20.126Z"
   },
   {
    "duration": 129,
    "start_time": "2023-01-26T17:56:20.197Z"
   },
   {
    "duration": 58,
    "start_time": "2023-01-26T17:56:20.331Z"
   },
   {
    "duration": 55,
    "start_time": "2023-01-26T17:56:20.392Z"
   },
   {
    "duration": 57,
    "start_time": "2023-01-26T17:56:20.451Z"
   },
   {
    "duration": 62,
    "start_time": "2023-01-26T17:56:20.511Z"
   },
   {
    "duration": 72,
    "start_time": "2023-01-26T17:56:20.576Z"
   },
   {
    "duration": 52,
    "start_time": "2023-01-26T17:56:20.650Z"
   },
   {
    "duration": 47,
    "start_time": "2023-01-26T17:56:20.704Z"
   },
   {
    "duration": 37,
    "start_time": "2023-01-26T17:56:20.754Z"
   },
   {
    "duration": 542,
    "start_time": "2023-01-26T17:56:20.793Z"
   },
   {
    "duration": 615,
    "start_time": "2023-01-26T17:56:21.336Z"
   },
   {
    "duration": 219,
    "start_time": "2023-01-26T17:56:21.953Z"
   },
   {
    "duration": 176,
    "start_time": "2023-01-26T17:56:22.174Z"
   },
   {
    "duration": 346,
    "start_time": "2023-01-26T17:56:22.352Z"
   },
   {
    "duration": 74,
    "start_time": "2023-01-26T17:56:22.700Z"
   },
   {
    "duration": 4,
    "start_time": "2023-01-26T17:56:22.776Z"
   },
   {
    "duration": 41762,
    "start_time": "2023-01-26T17:56:22.782Z"
   },
   {
    "duration": 212,
    "start_time": "2023-01-26T17:57:04.546Z"
   },
   {
    "duration": 6731,
    "start_time": "2023-01-26T17:57:04.822Z"
   },
   {
    "duration": 138157,
    "start_time": "2023-01-26T17:57:11.555Z"
   },
   {
    "duration": 190804,
    "start_time": "2023-01-26T17:59:29.714Z"
   },
   {
    "duration": 2612201,
    "start_time": "2023-01-26T18:02:40.521Z"
   },
   {
    "duration": 1428,
    "start_time": "2023-01-27T11:09:42.435Z"
   },
   {
    "duration": 981,
    "start_time": "2023-01-27T11:09:43.864Z"
   },
   {
    "duration": 954,
    "start_time": "2023-01-27T11:09:44.847Z"
   },
   {
    "duration": 404,
    "start_time": "2023-01-27T11:09:45.803Z"
   },
   {
    "duration": 496,
    "start_time": "2023-01-27T11:09:46.208Z"
   },
   {
    "duration": 278,
    "start_time": "2023-01-27T11:09:46.706Z"
   },
   {
    "duration": 370,
    "start_time": "2023-01-27T11:09:46.986Z"
   },
   {
    "duration": 236,
    "start_time": "2023-01-27T11:09:47.358Z"
   },
   {
    "duration": 32,
    "start_time": "2023-01-27T11:09:47.595Z"
   },
   {
    "duration": 278,
    "start_time": "2023-01-27T11:09:47.636Z"
   },
   {
    "duration": 35,
    "start_time": "2023-01-27T11:09:47.915Z"
   },
   {
    "duration": 198,
    "start_time": "2023-01-27T11:09:47.951Z"
   },
   {
    "duration": 28,
    "start_time": "2023-01-27T11:09:48.151Z"
   },
   {
    "duration": 54,
    "start_time": "2023-01-27T11:09:48.182Z"
   },
   {
    "duration": 50,
    "start_time": "2023-01-27T11:09:48.237Z"
   },
   {
    "duration": 29,
    "start_time": "2023-01-27T11:09:48.288Z"
   },
   {
    "duration": 73,
    "start_time": "2023-01-27T11:09:48.319Z"
   },
   {
    "duration": 44,
    "start_time": "2023-01-27T11:09:48.394Z"
   },
   {
    "duration": 28,
    "start_time": "2023-01-27T11:09:48.440Z"
   },
   {
    "duration": 36,
    "start_time": "2023-01-27T11:09:48.469Z"
   },
   {
    "duration": 46,
    "start_time": "2023-01-27T11:09:48.507Z"
   },
   {
    "duration": 32,
    "start_time": "2023-01-27T11:09:48.555Z"
   },
   {
    "duration": 30,
    "start_time": "2023-01-27T11:09:48.588Z"
   },
   {
    "duration": 39,
    "start_time": "2023-01-27T11:09:48.619Z"
   },
   {
    "duration": 19,
    "start_time": "2023-01-27T11:09:48.659Z"
   },
   {
    "duration": 380,
    "start_time": "2023-01-27T11:09:48.680Z"
   },
   {
    "duration": 463,
    "start_time": "2023-01-27T11:09:49.061Z"
   },
   {
    "duration": 187,
    "start_time": "2023-01-27T11:09:49.525Z"
   },
   {
    "duration": 116,
    "start_time": "2023-01-27T11:09:49.713Z"
   },
   {
    "duration": 223,
    "start_time": "2023-01-27T11:09:49.837Z"
   },
   {
    "duration": 39,
    "start_time": "2023-01-27T11:09:50.062Z"
   },
   {
    "duration": 3,
    "start_time": "2023-01-27T11:09:50.103Z"
   },
   {
    "duration": 15631,
    "start_time": "2023-01-27T11:09:50.108Z"
   },
   {
    "duration": 111,
    "start_time": "2023-01-27T11:10:05.740Z"
   },
   {
    "duration": 5080,
    "start_time": "2023-01-27T11:10:05.852Z"
   },
   {
    "duration": 1296,
    "start_time": "2023-01-27T11:10:56.760Z"
   },
   {
    "duration": 763,
    "start_time": "2023-01-27T11:10:58.057Z"
   },
   {
    "duration": 965,
    "start_time": "2023-01-27T11:10:58.822Z"
   },
   {
    "duration": 433,
    "start_time": "2023-01-27T11:10:59.789Z"
   },
   {
    "duration": 530,
    "start_time": "2023-01-27T11:11:00.224Z"
   },
   {
    "duration": 288,
    "start_time": "2023-01-27T11:11:00.755Z"
   },
   {
    "duration": 368,
    "start_time": "2023-01-27T11:11:01.045Z"
   },
   {
    "duration": 237,
    "start_time": "2023-01-27T11:11:01.414Z"
   },
   {
    "duration": 34,
    "start_time": "2023-01-27T11:11:01.653Z"
   },
   {
    "duration": 285,
    "start_time": "2023-01-27T11:11:01.688Z"
   },
   {
    "duration": 32,
    "start_time": "2023-01-27T11:11:01.975Z"
   },
   {
    "duration": 207,
    "start_time": "2023-01-27T11:11:02.009Z"
   },
   {
    "duration": 36,
    "start_time": "2023-01-27T11:11:02.218Z"
   },
   {
    "duration": 48,
    "start_time": "2023-01-27T11:11:02.256Z"
   },
   {
    "duration": 65,
    "start_time": "2023-01-27T11:11:02.306Z"
   },
   {
    "duration": 32,
    "start_time": "2023-01-27T11:11:02.372Z"
   },
   {
    "duration": 80,
    "start_time": "2023-01-27T11:11:02.407Z"
   },
   {
    "duration": 60,
    "start_time": "2023-01-27T11:11:02.489Z"
   },
   {
    "duration": 34,
    "start_time": "2023-01-27T11:11:02.551Z"
   },
   {
    "duration": 51,
    "start_time": "2023-01-27T11:11:02.588Z"
   },
   {
    "duration": 30,
    "start_time": "2023-01-27T11:11:02.641Z"
   },
   {
    "duration": 32,
    "start_time": "2023-01-27T11:11:02.673Z"
   },
   {
    "duration": 46,
    "start_time": "2023-01-27T11:11:02.706Z"
   },
   {
    "duration": 24,
    "start_time": "2023-01-27T11:11:02.753Z"
   },
   {
    "duration": 19,
    "start_time": "2023-01-27T11:11:02.779Z"
   },
   {
    "duration": 396,
    "start_time": "2023-01-27T11:11:02.800Z"
   },
   {
    "duration": 487,
    "start_time": "2023-01-27T11:11:03.197Z"
   },
   {
    "duration": 181,
    "start_time": "2023-01-27T11:11:03.685Z"
   },
   {
    "duration": 124,
    "start_time": "2023-01-27T11:11:03.868Z"
   },
   {
    "duration": 235,
    "start_time": "2023-01-27T11:11:03.994Z"
   },
   {
    "duration": 43,
    "start_time": "2023-01-27T11:11:04.230Z"
   },
   {
    "duration": 3,
    "start_time": "2023-01-27T11:11:04.274Z"
   },
   {
    "duration": 18367,
    "start_time": "2023-01-27T11:11:04.279Z"
   },
   {
    "duration": 191,
    "start_time": "2023-01-27T11:11:22.648Z"
   },
   {
    "duration": 5229,
    "start_time": "2023-01-27T11:11:22.842Z"
   },
   {
    "duration": 1235,
    "start_time": "2023-01-27T11:11:53.927Z"
   },
   {
    "duration": 733,
    "start_time": "2023-01-27T11:11:55.164Z"
   },
   {
    "duration": 1018,
    "start_time": "2023-01-27T11:11:55.899Z"
   },
   {
    "duration": 421,
    "start_time": "2023-01-27T11:11:56.920Z"
   },
   {
    "duration": 502,
    "start_time": "2023-01-27T11:11:57.342Z"
   },
   {
    "duration": 282,
    "start_time": "2023-01-27T11:11:57.846Z"
   },
   {
    "duration": 368,
    "start_time": "2023-01-27T11:11:58.129Z"
   },
   {
    "duration": 238,
    "start_time": "2023-01-27T11:11:58.499Z"
   },
   {
    "duration": 32,
    "start_time": "2023-01-27T11:11:58.739Z"
   },
   {
    "duration": 276,
    "start_time": "2023-01-27T11:11:58.773Z"
   },
   {
    "duration": 31,
    "start_time": "2023-01-27T11:11:59.050Z"
   },
   {
    "duration": 215,
    "start_time": "2023-01-27T11:11:59.083Z"
   },
   {
    "duration": 27,
    "start_time": "2023-01-27T11:11:59.300Z"
   },
   {
    "duration": 39,
    "start_time": "2023-01-27T11:11:59.336Z"
   },
   {
    "duration": 66,
    "start_time": "2023-01-27T11:11:59.376Z"
   },
   {
    "duration": 32,
    "start_time": "2023-01-27T11:11:59.443Z"
   },
   {
    "duration": 74,
    "start_time": "2023-01-27T11:11:59.477Z"
   },
   {
    "duration": 34,
    "start_time": "2023-01-27T11:11:59.553Z"
   },
   {
    "duration": 29,
    "start_time": "2023-01-27T11:11:59.589Z"
   },
   {
    "duration": 48,
    "start_time": "2023-01-27T11:11:59.619Z"
   },
   {
    "duration": 29,
    "start_time": "2023-01-27T11:11:59.668Z"
   },
   {
    "duration": 48,
    "start_time": "2023-01-27T11:11:59.699Z"
   },
   {
    "duration": 30,
    "start_time": "2023-01-27T11:11:59.748Z"
   },
   {
    "duration": 25,
    "start_time": "2023-01-27T11:11:59.779Z"
   },
   {
    "duration": 42,
    "start_time": "2023-01-27T11:11:59.805Z"
   },
   {
    "duration": 406,
    "start_time": "2023-01-27T11:11:59.848Z"
   },
   {
    "duration": 479,
    "start_time": "2023-01-27T11:12:00.256Z"
   },
   {
    "duration": 188,
    "start_time": "2023-01-27T11:12:00.738Z"
   },
   {
    "duration": 130,
    "start_time": "2023-01-27T11:12:00.927Z"
   },
   {
    "duration": 231,
    "start_time": "2023-01-27T11:12:01.058Z"
   },
   {
    "duration": 48,
    "start_time": "2023-01-27T11:12:01.291Z"
   },
   {
    "duration": 4,
    "start_time": "2023-01-27T11:12:01.340Z"
   },
   {
    "duration": 1329,
    "start_time": "2023-01-27T11:12:20.020Z"
   },
   {
    "duration": 715,
    "start_time": "2023-01-27T11:12:21.351Z"
   },
   {
    "duration": 1050,
    "start_time": "2023-01-27T11:12:22.068Z"
   },
   {
    "duration": 415,
    "start_time": "2023-01-27T11:12:23.119Z"
   },
   {
    "duration": 495,
    "start_time": "2023-01-27T11:12:23.535Z"
   },
   {
    "duration": 282,
    "start_time": "2023-01-27T11:12:24.032Z"
   },
   {
    "duration": 364,
    "start_time": "2023-01-27T11:12:24.316Z"
   },
   {
    "duration": 247,
    "start_time": "2023-01-27T11:12:24.682Z"
   },
   {
    "duration": 34,
    "start_time": "2023-01-27T11:12:24.930Z"
   },
   {
    "duration": 278,
    "start_time": "2023-01-27T11:12:24.967Z"
   },
   {
    "duration": 31,
    "start_time": "2023-01-27T11:12:25.246Z"
   },
   {
    "duration": 205,
    "start_time": "2023-01-27T11:12:25.278Z"
   },
   {
    "duration": 27,
    "start_time": "2023-01-27T11:12:25.485Z"
   },
   {
    "duration": 51,
    "start_time": "2023-01-27T11:12:25.513Z"
   },
   {
    "duration": 52,
    "start_time": "2023-01-27T11:12:25.565Z"
   },
   {
    "duration": 41,
    "start_time": "2023-01-27T11:12:25.619Z"
   },
   {
    "duration": 64,
    "start_time": "2023-01-27T11:12:25.662Z"
   },
   {
    "duration": 47,
    "start_time": "2023-01-27T11:12:25.727Z"
   },
   {
    "duration": 28,
    "start_time": "2023-01-27T11:12:25.776Z"
   },
   {
    "duration": 51,
    "start_time": "2023-01-27T11:12:25.805Z"
   },
   {
    "duration": 29,
    "start_time": "2023-01-27T11:12:25.857Z"
   },
   {
    "duration": 34,
    "start_time": "2023-01-27T11:12:25.887Z"
   },
   {
    "duration": 42,
    "start_time": "2023-01-27T11:12:25.922Z"
   },
   {
    "duration": 27,
    "start_time": "2023-01-27T11:12:25.965Z"
   },
   {
    "duration": 19,
    "start_time": "2023-01-27T11:12:25.994Z"
   },
   {
    "duration": 419,
    "start_time": "2023-01-27T11:12:26.015Z"
   },
   {
    "duration": 482,
    "start_time": "2023-01-27T11:12:26.437Z"
   },
   {
    "duration": 203,
    "start_time": "2023-01-27T11:12:26.923Z"
   },
   {
    "duration": 129,
    "start_time": "2023-01-27T11:12:27.127Z"
   },
   {
    "duration": 250,
    "start_time": "2023-01-27T11:12:27.258Z"
   },
   {
    "duration": 47,
    "start_time": "2023-01-27T11:12:27.510Z"
   },
   {
    "duration": 4,
    "start_time": "2023-01-27T11:12:27.558Z"
   },
   {
    "duration": 16980,
    "start_time": "2023-01-27T11:12:27.563Z"
   },
   {
    "duration": 196,
    "start_time": "2023-01-27T11:12:44.544Z"
   },
   {
    "duration": 5058,
    "start_time": "2023-01-27T11:12:44.742Z"
   },
   {
    "duration": 104513,
    "start_time": "2023-01-27T11:12:49.801Z"
   },
   {
    "duration": 144511,
    "start_time": "2023-01-27T11:14:34.315Z"
   },
   {
    "duration": 1382,
    "start_time": "2023-01-27T11:42:32.176Z"
   },
   {
    "duration": 749,
    "start_time": "2023-01-27T11:42:33.560Z"
   },
   {
    "duration": 1022,
    "start_time": "2023-01-27T11:42:34.310Z"
   },
   {
    "duration": 447,
    "start_time": "2023-01-27T11:42:35.334Z"
   },
   {
    "duration": 559,
    "start_time": "2023-01-27T11:42:35.783Z"
   },
   {
    "duration": 319,
    "start_time": "2023-01-27T11:42:36.344Z"
   },
   {
    "duration": 406,
    "start_time": "2023-01-27T11:42:36.665Z"
   },
   {
    "duration": 259,
    "start_time": "2023-01-27T11:42:37.073Z"
   },
   {
    "duration": 34,
    "start_time": "2023-01-27T11:42:37.334Z"
   },
   {
    "duration": 332,
    "start_time": "2023-01-27T11:42:37.371Z"
   },
   {
    "duration": 43,
    "start_time": "2023-01-27T11:42:37.705Z"
   },
   {
    "duration": 231,
    "start_time": "2023-01-27T11:42:37.750Z"
   },
   {
    "duration": 55,
    "start_time": "2023-01-27T11:42:37.983Z"
   },
   {
    "duration": 64,
    "start_time": "2023-01-27T11:42:38.039Z"
   },
   {
    "duration": 55,
    "start_time": "2023-01-27T11:42:38.104Z"
   },
   {
    "duration": 43,
    "start_time": "2023-01-27T11:42:38.161Z"
   },
   {
    "duration": 74,
    "start_time": "2023-01-27T11:42:38.206Z"
   },
   {
    "duration": 36,
    "start_time": "2023-01-27T11:42:38.282Z"
   },
   {
    "duration": 42,
    "start_time": "2023-01-27T11:42:38.320Z"
   },
   {
    "duration": 46,
    "start_time": "2023-01-27T11:42:38.364Z"
   },
   {
    "duration": 34,
    "start_time": "2023-01-27T11:42:38.412Z"
   },
   {
    "duration": 44,
    "start_time": "2023-01-27T11:42:38.447Z"
   },
   {
    "duration": 40,
    "start_time": "2023-01-27T11:42:38.493Z"
   },
   {
    "duration": 25,
    "start_time": "2023-01-27T11:42:38.535Z"
   },
   {
    "duration": 22,
    "start_time": "2023-01-27T11:42:38.563Z"
   },
   {
    "duration": 427,
    "start_time": "2023-01-27T11:42:38.586Z"
   },
   {
    "duration": 514,
    "start_time": "2023-01-27T11:42:39.014Z"
   },
   {
    "duration": 194,
    "start_time": "2023-01-27T11:42:39.536Z"
   },
   {
    "duration": 126,
    "start_time": "2023-01-27T11:42:39.731Z"
   },
   {
    "duration": 239,
    "start_time": "2023-01-27T11:42:39.858Z"
   },
   {
    "duration": 54,
    "start_time": "2023-01-27T11:42:40.099Z"
   },
   {
    "duration": 4,
    "start_time": "2023-01-27T11:42:40.155Z"
   },
   {
    "duration": 21882,
    "start_time": "2023-01-27T11:42:40.161Z"
   },
   {
    "duration": 199,
    "start_time": "2023-01-27T11:43:02.044Z"
   },
   {
    "duration": 5574,
    "start_time": "2023-01-27T11:43:02.245Z"
   },
   {
    "duration": 115087,
    "start_time": "2023-01-27T11:43:07.821Z"
   },
   {
    "duration": 154391,
    "start_time": "2023-01-27T11:45:02.909Z"
   },
   {
    "duration": 576943,
    "start_time": "2023-01-27T11:47:37.302Z"
   },
   {
    "duration": 43,
    "start_time": "2023-01-27T12:04:45.921Z"
   },
   {
    "duration": 94,
    "start_time": "2023-01-27T12:17:09.613Z"
   },
   {
    "duration": 65,
    "start_time": "2023-01-27T12:22:15.010Z"
   },
   {
    "duration": 62,
    "start_time": "2023-01-27T12:24:38.680Z"
   },
   {
    "duration": 1340,
    "start_time": "2023-01-27T12:24:50.653Z"
   },
   {
    "duration": 782,
    "start_time": "2023-01-27T12:24:51.994Z"
   },
   {
    "duration": 1010,
    "start_time": "2023-01-27T12:24:52.777Z"
   },
   {
    "duration": 414,
    "start_time": "2023-01-27T12:24:53.789Z"
   },
   {
    "duration": 516,
    "start_time": "2023-01-27T12:24:54.204Z"
   },
   {
    "duration": 275,
    "start_time": "2023-01-27T12:24:54.721Z"
   },
   {
    "duration": 354,
    "start_time": "2023-01-27T12:24:54.998Z"
   },
   {
    "duration": 252,
    "start_time": "2023-01-27T12:24:55.354Z"
   },
   {
    "duration": 40,
    "start_time": "2023-01-27T12:24:55.608Z"
   },
   {
    "duration": 287,
    "start_time": "2023-01-27T12:24:55.650Z"
   },
   {
    "duration": 36,
    "start_time": "2023-01-27T12:24:55.939Z"
   },
   {
    "duration": 221,
    "start_time": "2023-01-27T12:24:55.977Z"
   },
   {
    "duration": 38,
    "start_time": "2023-01-27T12:24:56.200Z"
   },
   {
    "duration": 38,
    "start_time": "2023-01-27T12:24:56.240Z"
   },
   {
    "duration": 72,
    "start_time": "2023-01-27T12:24:56.279Z"
   },
   {
    "duration": 32,
    "start_time": "2023-01-27T12:24:56.353Z"
   },
   {
    "duration": 90,
    "start_time": "2023-01-27T12:24:56.386Z"
   },
   {
    "duration": 36,
    "start_time": "2023-01-27T12:24:56.477Z"
   },
   {
    "duration": 43,
    "start_time": "2023-01-27T12:24:56.514Z"
   },
   {
    "duration": 36,
    "start_time": "2023-01-27T12:24:56.559Z"
   },
   {
    "duration": 42,
    "start_time": "2023-01-27T12:24:56.596Z"
   },
   {
    "duration": 28,
    "start_time": "2023-01-27T12:24:56.640Z"
   },
   {
    "duration": 33,
    "start_time": "2023-01-27T12:24:56.670Z"
   },
   {
    "duration": 38,
    "start_time": "2023-01-27T12:24:56.705Z"
   },
   {
    "duration": 20,
    "start_time": "2023-01-27T12:24:56.744Z"
   },
   {
    "duration": 401,
    "start_time": "2023-01-27T12:24:56.765Z"
   },
   {
    "duration": 517,
    "start_time": "2023-01-27T12:24:57.167Z"
   },
   {
    "duration": 189,
    "start_time": "2023-01-27T12:24:57.687Z"
   },
   {
    "duration": 127,
    "start_time": "2023-01-27T12:24:57.878Z"
   },
   {
    "duration": 237,
    "start_time": "2023-01-27T12:24:58.007Z"
   },
   {
    "duration": 42,
    "start_time": "2023-01-27T12:24:58.245Z"
   },
   {
    "duration": 3,
    "start_time": "2023-01-27T12:24:58.288Z"
   },
   {
    "duration": 17753,
    "start_time": "2023-01-27T12:24:58.293Z"
   },
   {
    "duration": 107,
    "start_time": "2023-01-27T12:25:16.138Z"
   },
   {
    "duration": 5451,
    "start_time": "2023-01-27T12:25:16.248Z"
   },
   {
    "duration": 112704,
    "start_time": "2023-01-27T12:25:21.700Z"
   },
   {
    "duration": 145896,
    "start_time": "2023-01-27T12:27:14.406Z"
   },
   {
    "duration": 55234,
    "start_time": "2023-01-27T12:29:40.303Z"
   },
   {
    "duration": 44,
    "start_time": "2023-01-27T12:30:35.539Z"
   },
   {
    "duration": 0,
    "start_time": "2023-01-27T12:30:35.584Z"
   },
   {
    "duration": 75,
    "start_time": "2023-01-27T12:32:31.983Z"
   },
   {
    "duration": 29,
    "start_time": "2023-01-27T12:36:34.405Z"
   },
   {
    "duration": 1264,
    "start_time": "2023-01-27T12:36:39.508Z"
   },
   {
    "duration": 705,
    "start_time": "2023-01-27T12:36:40.774Z"
   },
   {
    "duration": 991,
    "start_time": "2023-01-27T12:36:41.481Z"
   },
   {
    "duration": 459,
    "start_time": "2023-01-27T12:36:42.474Z"
   },
   {
    "duration": 512,
    "start_time": "2023-01-27T12:36:42.934Z"
   },
   {
    "duration": 306,
    "start_time": "2023-01-27T12:36:43.448Z"
   },
   {
    "duration": 392,
    "start_time": "2023-01-27T12:36:43.756Z"
   },
   {
    "duration": 259,
    "start_time": "2023-01-27T12:36:44.150Z"
   },
   {
    "duration": 42,
    "start_time": "2023-01-27T12:36:44.411Z"
   },
   {
    "duration": 294,
    "start_time": "2023-01-27T12:36:44.455Z"
   },
   {
    "duration": 31,
    "start_time": "2023-01-27T12:36:44.751Z"
   },
   {
    "duration": 212,
    "start_time": "2023-01-27T12:36:44.784Z"
   },
   {
    "duration": 41,
    "start_time": "2023-01-27T12:36:44.997Z"
   },
   {
    "duration": 57,
    "start_time": "2023-01-27T12:36:45.040Z"
   },
   {
    "duration": 52,
    "start_time": "2023-01-27T12:36:45.099Z"
   },
   {
    "duration": 36,
    "start_time": "2023-01-27T12:36:45.153Z"
   },
   {
    "duration": 46,
    "start_time": "2023-01-27T12:36:45.191Z"
   },
   {
    "duration": 0,
    "start_time": "2023-01-27T12:36:45.239Z"
   },
   {
    "duration": 0,
    "start_time": "2023-01-27T12:36:45.240Z"
   },
   {
    "duration": 0,
    "start_time": "2023-01-27T12:36:45.241Z"
   },
   {
    "duration": 0,
    "start_time": "2023-01-27T12:36:45.242Z"
   },
   {
    "duration": 0,
    "start_time": "2023-01-27T12:36:45.243Z"
   },
   {
    "duration": 0,
    "start_time": "2023-01-27T12:36:45.244Z"
   },
   {
    "duration": 0,
    "start_time": "2023-01-27T12:36:45.245Z"
   },
   {
    "duration": 0,
    "start_time": "2023-01-27T12:36:45.246Z"
   },
   {
    "duration": 0,
    "start_time": "2023-01-27T12:36:45.246Z"
   },
   {
    "duration": 0,
    "start_time": "2023-01-27T12:36:45.247Z"
   },
   {
    "duration": 0,
    "start_time": "2023-01-27T12:36:45.248Z"
   },
   {
    "duration": 0,
    "start_time": "2023-01-27T12:36:45.249Z"
   },
   {
    "duration": 0,
    "start_time": "2023-01-27T12:36:45.250Z"
   },
   {
    "duration": 0,
    "start_time": "2023-01-27T12:36:45.251Z"
   },
   {
    "duration": 0,
    "start_time": "2023-01-27T12:36:45.252Z"
   },
   {
    "duration": 0,
    "start_time": "2023-01-27T12:36:45.253Z"
   },
   {
    "duration": 0,
    "start_time": "2023-01-27T12:36:45.254Z"
   },
   {
    "duration": 0,
    "start_time": "2023-01-27T12:36:45.255Z"
   },
   {
    "duration": 0,
    "start_time": "2023-01-27T12:36:45.256Z"
   },
   {
    "duration": 0,
    "start_time": "2023-01-27T12:36:45.257Z"
   },
   {
    "duration": 0,
    "start_time": "2023-01-27T12:36:45.258Z"
   },
   {
    "duration": 0,
    "start_time": "2023-01-27T12:36:45.259Z"
   },
   {
    "duration": 0,
    "start_time": "2023-01-27T12:36:45.260Z"
   },
   {
    "duration": 52,
    "start_time": "2023-01-27T12:37:13.211Z"
   },
   {
    "duration": 1286,
    "start_time": "2023-01-27T12:37:38.760Z"
   },
   {
    "duration": 744,
    "start_time": "2023-01-27T12:37:40.048Z"
   },
   {
    "duration": 1011,
    "start_time": "2023-01-27T12:37:40.794Z"
   },
   {
    "duration": 482,
    "start_time": "2023-01-27T12:37:41.807Z"
   },
   {
    "duration": 641,
    "start_time": "2023-01-27T12:37:42.291Z"
   },
   {
    "duration": 312,
    "start_time": "2023-01-27T12:37:42.943Z"
   },
   {
    "duration": 459,
    "start_time": "2023-01-27T12:37:43.258Z"
   },
   {
    "duration": 264,
    "start_time": "2023-01-27T12:37:43.718Z"
   },
   {
    "duration": 34,
    "start_time": "2023-01-27T12:37:43.984Z"
   },
   {
    "duration": 320,
    "start_time": "2023-01-27T12:37:44.020Z"
   },
   {
    "duration": 37,
    "start_time": "2023-01-27T12:37:44.342Z"
   },
   {
    "duration": 217,
    "start_time": "2023-01-27T12:37:44.381Z"
   },
   {
    "duration": 30,
    "start_time": "2023-01-27T12:37:44.599Z"
   },
   {
    "duration": 42,
    "start_time": "2023-01-27T12:37:44.636Z"
   },
   {
    "duration": 81,
    "start_time": "2023-01-27T12:37:44.679Z"
   },
   {
    "duration": 33,
    "start_time": "2023-01-27T12:37:44.762Z"
   },
   {
    "duration": 147,
    "start_time": "2023-01-27T12:37:44.796Z"
   },
   {
    "duration": 38,
    "start_time": "2023-01-27T12:37:44.944Z"
   },
   {
    "duration": 53,
    "start_time": "2023-01-27T12:37:44.984Z"
   },
   {
    "duration": 35,
    "start_time": "2023-01-27T12:37:45.040Z"
   },
   {
    "duration": 29,
    "start_time": "2023-01-27T12:37:45.077Z"
   },
   {
    "duration": 47,
    "start_time": "2023-01-27T12:37:45.108Z"
   },
   {
    "duration": 0,
    "start_time": "2023-01-27T12:37:45.157Z"
   },
   {
    "duration": 0,
    "start_time": "2023-01-27T12:37:45.158Z"
   },
   {
    "duration": 0,
    "start_time": "2023-01-27T12:37:45.160Z"
   },
   {
    "duration": 0,
    "start_time": "2023-01-27T12:37:45.161Z"
   },
   {
    "duration": 0,
    "start_time": "2023-01-27T12:37:45.163Z"
   },
   {
    "duration": 0,
    "start_time": "2023-01-27T12:37:45.164Z"
   },
   {
    "duration": 0,
    "start_time": "2023-01-27T12:37:45.165Z"
   },
   {
    "duration": 0,
    "start_time": "2023-01-27T12:37:45.167Z"
   },
   {
    "duration": 0,
    "start_time": "2023-01-27T12:37:45.168Z"
   },
   {
    "duration": 0,
    "start_time": "2023-01-27T12:37:45.169Z"
   },
   {
    "duration": 0,
    "start_time": "2023-01-27T12:37:45.169Z"
   },
   {
    "duration": 0,
    "start_time": "2023-01-27T12:37:45.170Z"
   },
   {
    "duration": 0,
    "start_time": "2023-01-27T12:37:45.171Z"
   },
   {
    "duration": 0,
    "start_time": "2023-01-27T12:37:45.172Z"
   },
   {
    "duration": 0,
    "start_time": "2023-01-27T12:37:45.173Z"
   },
   {
    "duration": 0,
    "start_time": "2023-01-27T12:37:45.175Z"
   },
   {
    "duration": 0,
    "start_time": "2023-01-27T12:37:45.176Z"
   },
   {
    "duration": 1254,
    "start_time": "2023-01-27T12:38:58.584Z"
   },
   {
    "duration": 733,
    "start_time": "2023-01-27T12:38:59.840Z"
   },
   {
    "duration": 1038,
    "start_time": "2023-01-27T12:39:00.574Z"
   },
   {
    "duration": 435,
    "start_time": "2023-01-27T12:39:01.614Z"
   },
   {
    "duration": 604,
    "start_time": "2023-01-27T12:39:02.051Z"
   },
   {
    "duration": 326,
    "start_time": "2023-01-27T12:39:02.657Z"
   },
   {
    "duration": 389,
    "start_time": "2023-01-27T12:39:02.985Z"
   },
   {
    "duration": 266,
    "start_time": "2023-01-27T12:39:03.376Z"
   },
   {
    "duration": 32,
    "start_time": "2023-01-27T12:39:03.644Z"
   },
   {
    "duration": 302,
    "start_time": "2023-01-27T12:39:03.678Z"
   },
   {
    "duration": 31,
    "start_time": "2023-01-27T12:39:03.982Z"
   },
   {
    "duration": 216,
    "start_time": "2023-01-27T12:39:04.014Z"
   },
   {
    "duration": 31,
    "start_time": "2023-01-27T12:39:04.232Z"
   },
   {
    "duration": 50,
    "start_time": "2023-01-27T12:39:04.266Z"
   },
   {
    "duration": 67,
    "start_time": "2023-01-27T12:39:04.318Z"
   },
   {
    "duration": 65,
    "start_time": "2023-01-27T12:39:04.387Z"
   },
   {
    "duration": 100,
    "start_time": "2023-01-27T12:39:04.454Z"
   },
   {
    "duration": 37,
    "start_time": "2023-01-27T12:39:04.555Z"
   },
   {
    "duration": 52,
    "start_time": "2023-01-27T12:39:04.594Z"
   },
   {
    "duration": 32,
    "start_time": "2023-01-27T12:39:04.648Z"
   },
   {
    "duration": 29,
    "start_time": "2023-01-27T12:39:04.682Z"
   },
   {
    "duration": 49,
    "start_time": "2023-01-27T12:39:04.713Z"
   },
   {
    "duration": 31,
    "start_time": "2023-01-27T12:39:04.764Z"
   },
   {
    "duration": 24,
    "start_time": "2023-01-27T12:39:04.796Z"
   },
   {
    "duration": 34,
    "start_time": "2023-01-27T12:39:04.822Z"
   },
   {
    "duration": 397,
    "start_time": "2023-01-27T12:39:04.858Z"
   },
   {
    "duration": 494,
    "start_time": "2023-01-27T12:39:05.257Z"
   },
   {
    "duration": 205,
    "start_time": "2023-01-27T12:39:05.753Z"
   },
   {
    "duration": 131,
    "start_time": "2023-01-27T12:39:05.960Z"
   },
   {
    "duration": 247,
    "start_time": "2023-01-27T12:39:06.093Z"
   },
   {
    "duration": 44,
    "start_time": "2023-01-27T12:39:06.342Z"
   },
   {
    "duration": 3,
    "start_time": "2023-01-27T12:39:06.388Z"
   },
   {
    "duration": 21847,
    "start_time": "2023-01-27T12:39:06.392Z"
   },
   {
    "duration": 199,
    "start_time": "2023-01-27T12:39:28.240Z"
   },
   {
    "duration": 7135,
    "start_time": "2023-01-27T12:39:28.441Z"
   },
   {
    "duration": 150931,
    "start_time": "2023-01-27T12:39:35.578Z"
   },
   {
    "duration": 180192,
    "start_time": "2023-01-27T12:42:06.510Z"
   },
   {
    "duration": 65847,
    "start_time": "2023-01-27T12:45:06.704Z"
   },
   {
    "duration": 48,
    "start_time": "2023-01-27T12:46:12.555Z"
   },
   {
    "duration": 1264,
    "start_time": "2023-01-27T12:48:57.659Z"
   },
   {
    "duration": 710,
    "start_time": "2023-01-27T12:48:58.925Z"
   },
   {
    "duration": 1008,
    "start_time": "2023-01-27T12:48:59.637Z"
   },
   {
    "duration": 424,
    "start_time": "2023-01-27T12:49:00.646Z"
   },
   {
    "duration": 501,
    "start_time": "2023-01-27T12:49:01.072Z"
   },
   {
    "duration": 287,
    "start_time": "2023-01-27T12:49:01.575Z"
   },
   {
    "duration": 353,
    "start_time": "2023-01-27T12:49:01.864Z"
   },
   {
    "duration": 261,
    "start_time": "2023-01-27T12:49:02.219Z"
   },
   {
    "duration": 38,
    "start_time": "2023-01-27T12:49:02.482Z"
   },
   {
    "duration": 317,
    "start_time": "2023-01-27T12:49:02.522Z"
   },
   {
    "duration": 31,
    "start_time": "2023-01-27T12:49:02.841Z"
   },
   {
    "duration": 213,
    "start_time": "2023-01-27T12:49:02.874Z"
   },
   {
    "duration": 28,
    "start_time": "2023-01-27T12:49:03.088Z"
   },
   {
    "duration": 52,
    "start_time": "2023-01-27T12:49:03.119Z"
   },
   {
    "duration": 52,
    "start_time": "2023-01-27T12:49:03.173Z"
   },
   {
    "duration": 31,
    "start_time": "2023-01-27T12:49:03.236Z"
   },
   {
    "duration": 84,
    "start_time": "2023-01-27T12:49:03.268Z"
   },
   {
    "duration": 36,
    "start_time": "2023-01-27T12:49:03.353Z"
   },
   {
    "duration": 28,
    "start_time": "2023-01-27T12:49:03.390Z"
   },
   {
    "duration": 31,
    "start_time": "2023-01-27T12:49:03.436Z"
   },
   {
    "duration": 29,
    "start_time": "2023-01-27T12:49:03.468Z"
   },
   {
    "duration": 40,
    "start_time": "2023-01-27T12:49:03.498Z"
   },
   {
    "duration": 30,
    "start_time": "2023-01-27T12:49:03.540Z"
   },
   {
    "duration": 25,
    "start_time": "2023-01-27T12:49:03.572Z"
   },
   {
    "duration": 41,
    "start_time": "2023-01-27T12:49:03.598Z"
   },
   {
    "duration": 396,
    "start_time": "2023-01-27T12:49:03.641Z"
   },
   {
    "duration": 478,
    "start_time": "2023-01-27T12:49:04.038Z"
   },
   {
    "duration": 190,
    "start_time": "2023-01-27T12:49:04.518Z"
   },
   {
    "duration": 126,
    "start_time": "2023-01-27T12:49:04.709Z"
   },
   {
    "duration": 231,
    "start_time": "2023-01-27T12:49:04.836Z"
   },
   {
    "duration": 44,
    "start_time": "2023-01-27T12:49:05.069Z"
   },
   {
    "duration": 4,
    "start_time": "2023-01-27T12:49:05.114Z"
   },
   {
    "duration": 31427,
    "start_time": "2023-01-27T12:49:05.119Z"
   },
   {
    "duration": 193,
    "start_time": "2023-01-27T12:49:36.547Z"
   },
   {
    "duration": 7109,
    "start_time": "2023-01-27T12:49:36.744Z"
   },
   {
    "duration": 150633,
    "start_time": "2023-01-27T12:49:43.856Z"
   },
   {
    "duration": 179954,
    "start_time": "2023-01-27T12:52:14.491Z"
   },
   {
    "duration": 128905,
    "start_time": "2023-01-27T12:55:14.447Z"
   },
   {
    "duration": 53,
    "start_time": "2023-01-27T12:59:28.601Z"
   },
   {
    "duration": 3571,
    "start_time": "2023-01-27T12:59:35.342Z"
   },
   {
    "duration": 103,
    "start_time": "2023-01-27T12:59:42.516Z"
   },
   {
    "duration": 68459,
    "start_time": "2023-01-27T12:59:44.308Z"
   },
   {
    "duration": 98,
    "start_time": "2023-01-27T13:00:55.850Z"
   },
   {
    "duration": 6970,
    "start_time": "2023-01-27T13:00:57.566Z"
   },
   {
    "duration": 66,
    "start_time": "2023-01-27T13:01:59.612Z"
   },
   {
    "duration": 6411,
    "start_time": "2023-01-27T13:02:00.931Z"
   },
   {
    "duration": 619,
    "start_time": "2023-01-27T13:02:32.420Z"
   },
   {
    "duration": 138899,
    "start_time": "2023-01-27T13:18:25.848Z"
   },
   {
    "duration": 4,
    "start_time": "2023-01-27T13:25:23.844Z"
   },
   {
    "duration": 4,
    "start_time": "2023-01-27T13:25:50.316Z"
   },
   {
    "duration": 1252,
    "start_time": "2023-01-27T13:32:37.102Z"
   },
   {
    "duration": 744,
    "start_time": "2023-01-27T13:32:38.356Z"
   },
   {
    "duration": 1001,
    "start_time": "2023-01-27T13:32:39.102Z"
   },
   {
    "duration": 427,
    "start_time": "2023-01-27T13:32:40.105Z"
   },
   {
    "duration": 533,
    "start_time": "2023-01-27T13:32:40.534Z"
   },
   {
    "duration": 284,
    "start_time": "2023-01-27T13:32:41.069Z"
   },
   {
    "duration": 373,
    "start_time": "2023-01-27T13:32:41.354Z"
   },
   {
    "duration": 234,
    "start_time": "2023-01-27T13:32:41.728Z"
   },
   {
    "duration": 33,
    "start_time": "2023-01-27T13:32:41.963Z"
   },
   {
    "duration": 283,
    "start_time": "2023-01-27T13:32:41.999Z"
   },
   {
    "duration": 31,
    "start_time": "2023-01-27T13:32:42.284Z"
   },
   {
    "duration": 263,
    "start_time": "2023-01-27T13:32:42.317Z"
   },
   {
    "duration": 35,
    "start_time": "2023-01-27T13:32:42.582Z"
   },
   {
    "duration": 50,
    "start_time": "2023-01-27T13:32:42.618Z"
   },
   {
    "duration": 52,
    "start_time": "2023-01-27T13:32:42.669Z"
   },
   {
    "duration": 37,
    "start_time": "2023-01-27T13:32:42.737Z"
   },
   {
    "duration": 84,
    "start_time": "2023-01-27T13:32:42.775Z"
   },
   {
    "duration": 35,
    "start_time": "2023-01-27T13:32:42.861Z"
   },
   {
    "duration": 42,
    "start_time": "2023-01-27T13:32:42.898Z"
   },
   {
    "duration": 35,
    "start_time": "2023-01-27T13:32:42.941Z"
   },
   {
    "duration": 30,
    "start_time": "2023-01-27T13:32:42.977Z"
   },
   {
    "duration": 46,
    "start_time": "2023-01-27T13:32:43.009Z"
   },
   {
    "duration": 33,
    "start_time": "2023-01-27T13:32:43.056Z"
   },
   {
    "duration": 24,
    "start_time": "2023-01-27T13:32:43.091Z"
   },
   {
    "duration": 34,
    "start_time": "2023-01-27T13:32:43.116Z"
   },
   {
    "duration": 405,
    "start_time": "2023-01-27T13:32:43.152Z"
   },
   {
    "duration": 480,
    "start_time": "2023-01-27T13:32:43.558Z"
   },
   {
    "duration": 187,
    "start_time": "2023-01-27T13:32:44.041Z"
   },
   {
    "duration": 132,
    "start_time": "2023-01-27T13:32:44.230Z"
   },
   {
    "duration": 237,
    "start_time": "2023-01-27T13:32:44.363Z"
   },
   {
    "duration": 48,
    "start_time": "2023-01-27T13:32:44.602Z"
   },
   {
    "duration": 3,
    "start_time": "2023-01-27T13:32:44.651Z"
   },
   {
    "duration": 17783,
    "start_time": "2023-01-27T13:32:44.656Z"
   },
   {
    "duration": 112,
    "start_time": "2023-01-27T13:33:02.441Z"
   },
   {
    "duration": 7357,
    "start_time": "2023-01-27T13:33:02.555Z"
   },
   {
    "duration": 155141,
    "start_time": "2023-01-27T13:33:09.914Z"
   },
   {
    "duration": 179084,
    "start_time": "2023-01-27T13:35:45.057Z"
   },
   {
    "duration": 119499,
    "start_time": "2023-01-27T13:38:44.143Z"
   },
   {
    "duration": 3659,
    "start_time": "2023-01-27T13:40:43.643Z"
   },
   {
    "duration": 98,
    "start_time": "2023-01-27T13:40:47.304Z"
   },
   {
    "duration": 45,
    "start_time": "2023-01-29T10:06:29.228Z"
   },
   {
    "duration": 1544,
    "start_time": "2023-01-29T10:06:45.486Z"
   },
   {
    "duration": 1038,
    "start_time": "2023-01-29T10:06:47.032Z"
   },
   {
    "duration": 1022,
    "start_time": "2023-01-29T10:06:48.071Z"
   },
   {
    "duration": 457,
    "start_time": "2023-01-29T10:06:49.095Z"
   },
   {
    "duration": 557,
    "start_time": "2023-01-29T10:06:49.554Z"
   },
   {
    "duration": 313,
    "start_time": "2023-01-29T10:06:50.113Z"
   },
   {
    "duration": 407,
    "start_time": "2023-01-29T10:06:51.796Z"
   },
   {
    "duration": 251,
    "start_time": "2023-01-29T10:06:58.486Z"
   },
   {
    "duration": 35,
    "start_time": "2023-01-29T10:07:03.304Z"
   },
   {
    "duration": 58,
    "start_time": "2023-01-29T10:07:46.455Z"
   },
   {
    "duration": 76,
    "start_time": "2023-01-29T10:11:56.797Z"
   },
   {
    "duration": 30,
    "start_time": "2023-01-29T10:12:00.941Z"
   },
   {
    "duration": 23,
    "start_time": "2023-01-29T10:12:03.061Z"
   },
   {
    "duration": 63,
    "start_time": "2023-01-29T10:12:11.035Z"
   },
   {
    "duration": 249,
    "start_time": "2023-01-29T10:12:24.728Z"
   },
   {
    "duration": 34,
    "start_time": "2023-01-29T10:12:28.568Z"
   },
   {
    "duration": 48,
    "start_time": "2023-01-29T10:12:29.028Z"
   },
   {
    "duration": 62,
    "start_time": "2023-01-29T10:12:29.660Z"
   },
   {
    "duration": 36,
    "start_time": "2023-01-29T10:12:29.936Z"
   },
   {
    "duration": 275,
    "start_time": "2023-01-29T10:12:33.342Z"
   },
   {
    "duration": 40,
    "start_time": "2023-01-29T10:12:33.732Z"
   },
   {
    "duration": 294,
    "start_time": "2023-01-29T10:12:35.643Z"
   },
   {
    "duration": 38,
    "start_time": "2023-01-29T10:12:36.218Z"
   },
   {
    "duration": 231,
    "start_time": "2023-01-29T10:12:39.387Z"
   },
   {
    "duration": 40,
    "start_time": "2023-01-29T10:12:44.128Z"
   },
   {
    "duration": 58,
    "start_time": "2023-01-29T10:12:45.481Z"
   },
   {
    "duration": 46,
    "start_time": "2023-01-29T10:12:47.040Z"
   },
   {
    "duration": 34,
    "start_time": "2023-01-29T10:12:47.689Z"
   },
   {
    "duration": 79,
    "start_time": "2023-01-29T10:12:50.213Z"
   },
   {
    "duration": 40,
    "start_time": "2023-01-29T10:12:51.065Z"
   },
   {
    "duration": 31,
    "start_time": "2023-01-29T10:12:52.896Z"
   },
   {
    "duration": 36,
    "start_time": "2023-01-29T10:12:53.656Z"
   },
   {
    "duration": 31,
    "start_time": "2023-01-29T10:12:55.445Z"
   },
   {
    "duration": 31,
    "start_time": "2023-01-29T10:12:57.887Z"
   },
   {
    "duration": 33,
    "start_time": "2023-01-29T10:12:58.652Z"
   },
   {
    "duration": 25,
    "start_time": "2023-01-29T10:12:59.677Z"
   },
   {
    "duration": 24,
    "start_time": "2023-01-29T10:13:01.242Z"
   },
   {
    "duration": 54,
    "start_time": "2023-01-29T10:13:01.489Z"
   },
   {
    "duration": 400,
    "start_time": "2023-01-29T10:13:02.454Z"
   },
   {
    "duration": 394,
    "start_time": "2023-01-29T10:15:30.588Z"
   },
   {
    "duration": 386,
    "start_time": "2023-01-29T10:16:04.956Z"
   },
   {
    "duration": 161,
    "start_time": "2023-01-29T10:16:40.388Z"
   },
   {
    "duration": 111,
    "start_time": "2023-01-29T10:17:02.731Z"
   },
   {
    "duration": 38,
    "start_time": "2023-01-29T10:17:45.481Z"
   },
   {
    "duration": 4,
    "start_time": "2023-01-29T10:17:51.047Z"
   },
   {
    "duration": 18295,
    "start_time": "2023-01-29T10:17:55.321Z"
   },
   {
    "duration": 73,
    "start_time": "2023-01-29T10:18:13.705Z"
   },
   {
    "duration": 62,
    "start_time": "2023-01-29T10:18:44.151Z"
   },
   {
    "duration": 612,
    "start_time": "2023-01-29T10:19:30.037Z"
   },
   {
    "duration": 1411,
    "start_time": "2023-01-29T10:19:50.188Z"
   },
   {
    "duration": 816,
    "start_time": "2023-01-29T10:19:51.601Z"
   },
   {
    "duration": 1209,
    "start_time": "2023-01-29T10:19:52.419Z"
   },
   {
    "duration": 548,
    "start_time": "2023-01-29T10:19:53.630Z"
   },
   {
    "duration": 666,
    "start_time": "2023-01-29T10:19:54.180Z"
   },
   {
    "duration": 358,
    "start_time": "2023-01-29T10:19:54.848Z"
   },
   {
    "duration": 430,
    "start_time": "2023-01-29T10:19:55.208Z"
   },
   {
    "duration": 287,
    "start_time": "2023-01-29T10:19:55.640Z"
   },
   {
    "duration": 37,
    "start_time": "2023-01-29T10:19:55.929Z"
   },
   {
    "duration": 339,
    "start_time": "2023-01-29T10:19:55.968Z"
   },
   {
    "duration": 36,
    "start_time": "2023-01-29T10:19:56.309Z"
   },
   {
    "duration": 251,
    "start_time": "2023-01-29T10:19:56.346Z"
   },
   {
    "duration": 33,
    "start_time": "2023-01-29T10:19:56.602Z"
   },
   {
    "duration": 49,
    "start_time": "2023-01-29T10:19:56.637Z"
   },
   {
    "duration": 58,
    "start_time": "2023-01-29T10:19:56.703Z"
   },
   {
    "duration": 77,
    "start_time": "2023-01-29T10:19:56.762Z"
   },
   {
    "duration": 134,
    "start_time": "2023-01-29T10:19:56.841Z"
   },
   {
    "duration": 63,
    "start_time": "2023-01-29T10:19:56.978Z"
   },
   {
    "duration": 64,
    "start_time": "2023-01-29T10:19:57.043Z"
   },
   {
    "duration": 41,
    "start_time": "2023-01-29T10:19:57.109Z"
   },
   {
    "duration": 56,
    "start_time": "2023-01-29T10:19:57.152Z"
   },
   {
    "duration": 66,
    "start_time": "2023-01-29T10:19:57.210Z"
   },
   {
    "duration": 38,
    "start_time": "2023-01-29T10:19:57.278Z"
   },
   {
    "duration": 27,
    "start_time": "2023-01-29T10:19:57.318Z"
   },
   {
    "duration": 21,
    "start_time": "2023-01-29T10:19:57.347Z"
   },
   {
    "duration": 79,
    "start_time": "2023-01-29T10:19:57.370Z"
   },
   {
    "duration": 430,
    "start_time": "2023-01-29T10:19:57.451Z"
   },
   {
    "duration": 430,
    "start_time": "2023-01-29T10:19:57.885Z"
   },
   {
    "duration": 171,
    "start_time": "2023-01-29T10:19:58.317Z"
   },
   {
    "duration": 125,
    "start_time": "2023-01-29T10:19:58.491Z"
   },
   {
    "duration": 10,
    "start_time": "2023-01-29T10:19:58.618Z"
   },
   {
    "duration": 23673,
    "start_time": "2023-01-29T10:19:58.631Z"
   },
   {
    "duration": 220,
    "start_time": "2023-01-29T10:20:22.306Z"
   },
   {
    "duration": 608,
    "start_time": "2023-01-29T10:20:22.527Z"
   },
   {
    "duration": 54,
    "start_time": "2023-01-29T10:20:23.137Z"
   },
   {
    "duration": 52,
    "start_time": "2023-01-29T10:20:23.193Z"
   },
   {
    "duration": 53,
    "start_time": "2023-01-29T10:20:23.247Z"
   },
   {
    "duration": 3805,
    "start_time": "2023-01-29T10:20:23.301Z"
   },
   {
    "duration": 68,
    "start_time": "2023-01-29T10:20:27.107Z"
   },
   {
    "duration": 70566,
    "start_time": "2023-01-29T10:20:27.177Z"
   },
   {
    "duration": 67,
    "start_time": "2023-01-29T10:21:37.744Z"
   },
   {
    "duration": 1336,
    "start_time": "2023-01-29T10:21:47.332Z"
   },
   {
    "duration": 765,
    "start_time": "2023-01-29T10:21:48.670Z"
   },
   {
    "duration": 1099,
    "start_time": "2023-01-29T10:21:49.439Z"
   },
   {
    "duration": 456,
    "start_time": "2023-01-29T10:21:50.541Z"
   },
   {
    "duration": 563,
    "start_time": "2023-01-29T10:21:50.998Z"
   },
   {
    "duration": 323,
    "start_time": "2023-01-29T10:21:51.563Z"
   },
   {
    "duration": 436,
    "start_time": "2023-01-29T10:21:51.887Z"
   },
   {
    "duration": 272,
    "start_time": "2023-01-29T10:21:52.324Z"
   },
   {
    "duration": 38,
    "start_time": "2023-01-29T10:21:52.598Z"
   },
   {
    "duration": 322,
    "start_time": "2023-01-29T10:21:52.638Z"
   },
   {
    "duration": 47,
    "start_time": "2023-01-29T10:21:52.962Z"
   },
   {
    "duration": 247,
    "start_time": "2023-01-29T10:21:53.011Z"
   },
   {
    "duration": 32,
    "start_time": "2023-01-29T10:21:53.261Z"
   },
   {
    "duration": 55,
    "start_time": "2023-01-29T10:21:53.294Z"
   },
   {
    "duration": 69,
    "start_time": "2023-01-29T10:21:53.351Z"
   },
   {
    "duration": 35,
    "start_time": "2023-01-29T10:21:53.422Z"
   },
   {
    "duration": 100,
    "start_time": "2023-01-29T10:21:53.459Z"
   },
   {
    "duration": 63,
    "start_time": "2023-01-29T10:21:53.561Z"
   },
   {
    "duration": 33,
    "start_time": "2023-01-29T10:21:53.626Z"
   },
   {
    "duration": 54,
    "start_time": "2023-01-29T10:21:53.661Z"
   },
   {
    "duration": 35,
    "start_time": "2023-01-29T10:21:53.717Z"
   },
   {
    "duration": 51,
    "start_time": "2023-01-29T10:21:53.754Z"
   },
   {
    "duration": 36,
    "start_time": "2023-01-29T10:21:53.806Z"
   },
   {
    "duration": 27,
    "start_time": "2023-01-29T10:21:53.844Z"
   },
   {
    "duration": 41,
    "start_time": "2023-01-29T10:21:53.873Z"
   },
   {
    "duration": 55,
    "start_time": "2023-01-29T10:21:53.916Z"
   },
   {
    "duration": 474,
    "start_time": "2023-01-29T10:21:53.972Z"
   },
   {
    "duration": 421,
    "start_time": "2023-01-29T10:21:54.448Z"
   },
   {
    "duration": 172,
    "start_time": "2023-01-29T10:21:54.870Z"
   },
   {
    "duration": 120,
    "start_time": "2023-01-29T10:21:55.044Z"
   },
   {
    "duration": 4,
    "start_time": "2023-01-29T10:21:55.166Z"
   },
   {
    "duration": 18543,
    "start_time": "2023-01-29T10:21:55.171Z"
   },
   {
    "duration": 193,
    "start_time": "2023-01-29T10:22:13.804Z"
   },
   {
    "duration": 665,
    "start_time": "2023-01-29T10:22:13.999Z"
   },
   {
    "duration": 56,
    "start_time": "2023-01-29T10:22:14.666Z"
   },
   {
    "duration": 53,
    "start_time": "2023-01-29T10:22:14.724Z"
   },
   {
    "duration": 47,
    "start_time": "2023-01-29T10:22:14.779Z"
   },
   {
    "duration": 3722,
    "start_time": "2023-01-29T10:22:14.828Z"
   },
   {
    "duration": 78,
    "start_time": "2023-01-29T10:22:18.551Z"
   },
   {
    "duration": 69697,
    "start_time": "2023-01-29T10:22:18.633Z"
   },
   {
    "duration": 66,
    "start_time": "2023-01-29T10:23:28.332Z"
   },
   {
    "duration": 7521,
    "start_time": "2023-01-29T10:23:28.401Z"
   },
   {
    "duration": 1881,
    "start_time": "2023-01-29T10:23:35.925Z"
   },
   {
    "duration": 7100,
    "start_time": "2023-01-29T10:23:37.808Z"
   },
   {
    "duration": 49,
    "start_time": "2023-01-29T10:23:44.910Z"
   },
   {
    "duration": 11,
    "start_time": "2023-01-29T10:23:44.960Z"
   },
   {
    "duration": 0,
    "start_time": "2023-01-29T10:23:44.972Z"
   },
   {
    "duration": 17,
    "start_time": "2023-01-29T10:25:43.563Z"
   },
   {
    "duration": 13,
    "start_time": "2023-01-29T10:26:09.359Z"
   },
   {
    "duration": 1342,
    "start_time": "2023-01-29T10:26:18.231Z"
   },
   {
    "duration": 783,
    "start_time": "2023-01-29T10:26:19.574Z"
   },
   {
    "duration": 1161,
    "start_time": "2023-01-29T10:26:20.358Z"
   },
   {
    "duration": 464,
    "start_time": "2023-01-29T10:26:21.521Z"
   },
   {
    "duration": 572,
    "start_time": "2023-01-29T10:26:21.987Z"
   },
   {
    "duration": 328,
    "start_time": "2023-01-29T10:26:22.560Z"
   },
   {
    "duration": 440,
    "start_time": "2023-01-29T10:26:22.890Z"
   },
   {
    "duration": 272,
    "start_time": "2023-01-29T10:26:23.332Z"
   },
   {
    "duration": 35,
    "start_time": "2023-01-29T10:26:23.605Z"
   },
   {
    "duration": 323,
    "start_time": "2023-01-29T10:26:23.643Z"
   },
   {
    "duration": 45,
    "start_time": "2023-01-29T10:26:23.968Z"
   },
   {
    "duration": 290,
    "start_time": "2023-01-29T10:26:24.015Z"
   },
   {
    "duration": 34,
    "start_time": "2023-01-29T10:26:24.307Z"
   },
   {
    "duration": 62,
    "start_time": "2023-01-29T10:26:24.343Z"
   },
   {
    "duration": 56,
    "start_time": "2023-01-29T10:26:24.407Z"
   },
   {
    "duration": 50,
    "start_time": "2023-01-29T10:26:24.465Z"
   },
   {
    "duration": 96,
    "start_time": "2023-01-29T10:26:24.517Z"
   },
   {
    "duration": 37,
    "start_time": "2023-01-29T10:26:24.615Z"
   },
   {
    "duration": 49,
    "start_time": "2023-01-29T10:26:24.654Z"
   },
   {
    "duration": 32,
    "start_time": "2023-01-29T10:26:24.705Z"
   },
   {
    "duration": 30,
    "start_time": "2023-01-29T10:26:24.739Z"
   },
   {
    "duration": 52,
    "start_time": "2023-01-29T10:26:24.771Z"
   },
   {
    "duration": 34,
    "start_time": "2023-01-29T10:26:24.825Z"
   },
   {
    "duration": 46,
    "start_time": "2023-01-29T10:26:24.861Z"
   },
   {
    "duration": 21,
    "start_time": "2023-01-29T10:26:24.909Z"
   },
   {
    "duration": 72,
    "start_time": "2023-01-29T10:26:24.932Z"
   },
   {
    "duration": 428,
    "start_time": "2023-01-29T10:26:25.006Z"
   },
   {
    "duration": 429,
    "start_time": "2023-01-29T10:26:25.438Z"
   },
   {
    "duration": 177,
    "start_time": "2023-01-29T10:26:25.869Z"
   },
   {
    "duration": 114,
    "start_time": "2023-01-29T10:26:26.048Z"
   },
   {
    "duration": 3,
    "start_time": "2023-01-29T10:26:26.164Z"
   },
   {
    "duration": 21536,
    "start_time": "2023-01-29T10:26:26.169Z"
   },
   {
    "duration": 178,
    "start_time": "2023-01-29T10:26:47.706Z"
   },
   {
    "duration": 582,
    "start_time": "2023-01-29T10:26:47.886Z"
   },
   {
    "duration": 51,
    "start_time": "2023-01-29T10:26:48.470Z"
   },
   {
    "duration": 58,
    "start_time": "2023-01-29T10:26:48.522Z"
   },
   {
    "duration": 65,
    "start_time": "2023-01-29T10:26:48.582Z"
   },
   {
    "duration": 3662,
    "start_time": "2023-01-29T10:26:48.649Z"
   },
   {
    "duration": 65,
    "start_time": "2023-01-29T10:26:52.313Z"
   },
   {
    "duration": 70571,
    "start_time": "2023-01-29T10:26:52.380Z"
   },
   {
    "duration": 68,
    "start_time": "2023-01-29T10:28:02.953Z"
   },
   {
    "duration": 7279,
    "start_time": "2023-01-29T10:28:03.023Z"
   },
   {
    "duration": 1553,
    "start_time": "2023-01-29T10:28:10.303Z"
   },
   {
    "duration": 1502,
    "start_time": "2023-01-29T10:32:02.248Z"
   },
   {
    "duration": 890,
    "start_time": "2023-01-29T10:32:03.754Z"
   },
   {
    "duration": 1182,
    "start_time": "2023-01-29T10:32:04.645Z"
   },
   {
    "duration": 475,
    "start_time": "2023-01-29T10:32:05.829Z"
   },
   {
    "duration": 570,
    "start_time": "2023-01-29T10:32:06.306Z"
   },
   {
    "duration": 347,
    "start_time": "2023-01-29T10:32:06.878Z"
   },
   {
    "duration": 446,
    "start_time": "2023-01-29T10:32:07.227Z"
   },
   {
    "duration": 280,
    "start_time": "2023-01-29T10:32:07.675Z"
   },
   {
    "duration": 49,
    "start_time": "2023-01-29T10:32:07.958Z"
   },
   {
    "duration": 372,
    "start_time": "2023-01-29T10:32:08.009Z"
   },
   {
    "duration": 45,
    "start_time": "2023-01-29T10:32:08.383Z"
   },
   {
    "duration": 248,
    "start_time": "2023-01-29T10:32:08.431Z"
   },
   {
    "duration": 40,
    "start_time": "2023-01-29T10:32:08.680Z"
   },
   {
    "duration": 49,
    "start_time": "2023-01-29T10:32:08.723Z"
   },
   {
    "duration": 72,
    "start_time": "2023-01-29T10:32:08.773Z"
   },
   {
    "duration": 35,
    "start_time": "2023-01-29T10:32:08.846Z"
   },
   {
    "duration": 121,
    "start_time": "2023-01-29T10:32:08.883Z"
   },
   {
    "duration": 39,
    "start_time": "2023-01-29T10:32:09.006Z"
   },
   {
    "duration": 32,
    "start_time": "2023-01-29T10:32:09.047Z"
   },
   {
    "duration": 49,
    "start_time": "2023-01-29T10:32:09.081Z"
   },
   {
    "duration": 32,
    "start_time": "2023-01-29T10:32:09.132Z"
   },
   {
    "duration": 53,
    "start_time": "2023-01-29T10:32:09.166Z"
   },
   {
    "duration": 37,
    "start_time": "2023-01-29T10:32:09.221Z"
   },
   {
    "duration": 27,
    "start_time": "2023-01-29T10:32:09.260Z"
   },
   {
    "duration": 22,
    "start_time": "2023-01-29T10:32:09.303Z"
   },
   {
    "duration": 56,
    "start_time": "2023-01-29T10:32:09.327Z"
   },
   {
    "duration": 135,
    "start_time": "2023-01-29T10:32:09.402Z"
   },
   {
    "duration": 409,
    "start_time": "2023-01-29T10:32:09.539Z"
   },
   {
    "duration": 400,
    "start_time": "2023-01-29T10:32:09.950Z"
   },
   {
    "duration": 52,
    "start_time": "2023-01-29T10:32:10.352Z"
   },
   {
    "duration": 5,
    "start_time": "2023-01-29T10:32:10.406Z"
   },
   {
    "duration": 24401,
    "start_time": "2023-01-29T10:32:10.413Z"
   },
   {
    "duration": 185,
    "start_time": "2023-01-29T10:32:34.904Z"
   },
   {
    "duration": 627,
    "start_time": "2023-01-29T10:32:35.091Z"
   },
   {
    "duration": 53,
    "start_time": "2023-01-29T10:32:35.719Z"
   },
   {
    "duration": 52,
    "start_time": "2023-01-29T10:32:35.774Z"
   },
   {
    "duration": 57,
    "start_time": "2023-01-29T10:32:35.828Z"
   },
   {
    "duration": 3721,
    "start_time": "2023-01-29T10:32:35.887Z"
   },
   {
    "duration": 59,
    "start_time": "2023-01-29T10:32:39.610Z"
   },
   {
    "duration": 1464,
    "start_time": "2023-01-29T10:32:59.905Z"
   },
   {
    "duration": 868,
    "start_time": "2023-01-29T10:33:01.371Z"
   },
   {
    "duration": 1190,
    "start_time": "2023-01-29T10:33:02.240Z"
   },
   {
    "duration": 505,
    "start_time": "2023-01-29T10:33:03.432Z"
   },
   {
    "duration": 649,
    "start_time": "2023-01-29T10:33:03.940Z"
   },
   {
    "duration": 334,
    "start_time": "2023-01-29T10:33:04.591Z"
   },
   {
    "duration": 444,
    "start_time": "2023-01-29T10:33:04.927Z"
   },
   {
    "duration": 295,
    "start_time": "2023-01-29T10:33:05.373Z"
   },
   {
    "duration": 52,
    "start_time": "2023-01-29T10:33:05.670Z"
   },
   {
    "duration": 374,
    "start_time": "2023-01-29T10:33:05.725Z"
   },
   {
    "duration": 37,
    "start_time": "2023-01-29T10:33:06.102Z"
   },
   {
    "duration": 279,
    "start_time": "2023-01-29T10:33:06.141Z"
   },
   {
    "duration": 38,
    "start_time": "2023-01-29T10:33:06.422Z"
   },
   {
    "duration": 84,
    "start_time": "2023-01-29T10:33:06.464Z"
   },
   {
    "duration": 70,
    "start_time": "2023-01-29T10:33:06.550Z"
   },
   {
    "duration": 42,
    "start_time": "2023-01-29T10:33:06.622Z"
   },
   {
    "duration": 99,
    "start_time": "2023-01-29T10:33:06.666Z"
   },
   {
    "duration": 58,
    "start_time": "2023-01-29T10:33:06.767Z"
   },
   {
    "duration": 33,
    "start_time": "2023-01-29T10:33:06.827Z"
   },
   {
    "duration": 67,
    "start_time": "2023-01-29T10:33:06.862Z"
   },
   {
    "duration": 59,
    "start_time": "2023-01-29T10:33:06.931Z"
   },
   {
    "duration": 79,
    "start_time": "2023-01-29T10:33:06.992Z"
   },
   {
    "duration": 69,
    "start_time": "2023-01-29T10:33:07.073Z"
   },
   {
    "duration": 46,
    "start_time": "2023-01-29T10:33:07.144Z"
   },
   {
    "duration": 23,
    "start_time": "2023-01-29T10:33:07.192Z"
   },
   {
    "duration": 85,
    "start_time": "2023-01-29T10:33:07.217Z"
   },
   {
    "duration": 122,
    "start_time": "2023-01-29T10:33:07.303Z"
   },
   {
    "duration": 415,
    "start_time": "2023-01-29T10:33:07.426Z"
   },
   {
    "duration": 407,
    "start_time": "2023-01-29T10:33:07.842Z"
   },
   {
    "duration": 4,
    "start_time": "2023-01-29T10:33:08.250Z"
   },
   {
    "duration": 23654,
    "start_time": "2023-01-29T10:33:08.255Z"
   },
   {
    "duration": 199,
    "start_time": "2023-01-29T10:33:31.910Z"
   },
   {
    "duration": 634,
    "start_time": "2023-01-29T10:33:32.111Z"
   },
   {
    "duration": 63,
    "start_time": "2023-01-29T10:33:32.747Z"
   },
   {
    "duration": 51,
    "start_time": "2023-01-29T10:33:32.812Z"
   },
   {
    "duration": 55,
    "start_time": "2023-01-29T10:33:32.864Z"
   },
   {
    "duration": 3741,
    "start_time": "2023-01-29T10:33:32.922Z"
   },
   {
    "duration": 65,
    "start_time": "2023-01-29T10:33:36.665Z"
   },
   {
    "duration": 71577,
    "start_time": "2023-01-29T10:33:36.732Z"
   },
   {
    "duration": 69,
    "start_time": "2023-01-29T10:34:48.311Z"
   },
   {
    "duration": 7365,
    "start_time": "2023-01-29T10:34:48.385Z"
   },
   {
    "duration": 1591,
    "start_time": "2023-01-29T10:34:55.751Z"
   },
   {
    "duration": 1505,
    "start_time": "2023-01-29T10:35:42.940Z"
   },
   {
    "duration": 827,
    "start_time": "2023-01-29T10:35:44.447Z"
   },
   {
    "duration": 1156,
    "start_time": "2023-01-29T10:35:45.276Z"
   },
   {
    "duration": 508,
    "start_time": "2023-01-29T10:35:46.434Z"
   },
   {
    "duration": 596,
    "start_time": "2023-01-29T10:35:46.945Z"
   },
   {
    "duration": 338,
    "start_time": "2023-01-29T10:35:47.542Z"
   },
   {
    "duration": 421,
    "start_time": "2023-01-29T10:35:47.882Z"
   },
   {
    "duration": 275,
    "start_time": "2023-01-29T10:35:48.305Z"
   },
   {
    "duration": 46,
    "start_time": "2023-01-29T10:35:48.582Z"
   },
   {
    "duration": 352,
    "start_time": "2023-01-29T10:35:48.631Z"
   },
   {
    "duration": 43,
    "start_time": "2023-01-29T10:35:48.984Z"
   },
   {
    "duration": 244,
    "start_time": "2023-01-29T10:35:49.029Z"
   },
   {
    "duration": 41,
    "start_time": "2023-01-29T10:35:49.275Z"
   },
   {
    "duration": 42,
    "start_time": "2023-01-29T10:35:49.319Z"
   },
   {
    "duration": 74,
    "start_time": "2023-01-29T10:35:49.363Z"
   },
   {
    "duration": 35,
    "start_time": "2023-01-29T10:35:49.438Z"
   },
   {
    "duration": 102,
    "start_time": "2023-01-29T10:35:49.475Z"
   },
   {
    "duration": 59,
    "start_time": "2023-01-29T10:35:49.578Z"
   },
   {
    "duration": 33,
    "start_time": "2023-01-29T10:35:49.639Z"
   },
   {
    "duration": 49,
    "start_time": "2023-01-29T10:35:49.673Z"
   },
   {
    "duration": 32,
    "start_time": "2023-01-29T10:35:49.724Z"
   },
   {
    "duration": 52,
    "start_time": "2023-01-29T10:35:49.757Z"
   },
   {
    "duration": 37,
    "start_time": "2023-01-29T10:35:49.811Z"
   },
   {
    "duration": 27,
    "start_time": "2023-01-29T10:35:49.849Z"
   },
   {
    "duration": 41,
    "start_time": "2023-01-29T10:35:49.878Z"
   },
   {
    "duration": 53,
    "start_time": "2023-01-29T10:35:49.921Z"
   },
   {
    "duration": 262,
    "start_time": "2023-01-29T10:35:49.976Z"
   },
   {
    "duration": 0,
    "start_time": "2023-01-29T10:35:50.240Z"
   },
   {
    "duration": 0,
    "start_time": "2023-01-29T10:35:50.242Z"
   },
   {
    "duration": 0,
    "start_time": "2023-01-29T10:35:50.243Z"
   },
   {
    "duration": 0,
    "start_time": "2023-01-29T10:35:50.244Z"
   },
   {
    "duration": 0,
    "start_time": "2023-01-29T10:35:50.246Z"
   },
   {
    "duration": 0,
    "start_time": "2023-01-29T10:35:50.248Z"
   },
   {
    "duration": 0,
    "start_time": "2023-01-29T10:35:50.249Z"
   },
   {
    "duration": 0,
    "start_time": "2023-01-29T10:35:50.251Z"
   },
   {
    "duration": 0,
    "start_time": "2023-01-29T10:35:50.252Z"
   },
   {
    "duration": 0,
    "start_time": "2023-01-29T10:35:50.254Z"
   },
   {
    "duration": 0,
    "start_time": "2023-01-29T10:35:50.255Z"
   },
   {
    "duration": 0,
    "start_time": "2023-01-29T10:35:50.256Z"
   },
   {
    "duration": 0,
    "start_time": "2023-01-29T10:35:50.258Z"
   },
   {
    "duration": 0,
    "start_time": "2023-01-29T10:35:50.260Z"
   },
   {
    "duration": 0,
    "start_time": "2023-01-29T10:35:50.260Z"
   },
   {
    "duration": 0,
    "start_time": "2023-01-29T10:35:50.261Z"
   },
   {
    "duration": 0,
    "start_time": "2023-01-29T10:35:50.263Z"
   },
   {
    "duration": 0,
    "start_time": "2023-01-29T10:35:50.264Z"
   },
   {
    "duration": 0,
    "start_time": "2023-01-29T10:35:50.304Z"
   },
   {
    "duration": 113,
    "start_time": "2023-01-29T10:36:08.743Z"
   },
   {
    "duration": 132,
    "start_time": "2023-01-29T10:37:23.679Z"
   },
   {
    "duration": 428,
    "start_time": "2023-01-29T10:37:45.277Z"
   },
   {
    "duration": 393,
    "start_time": "2023-01-29T10:38:11.301Z"
   },
   {
    "duration": 388,
    "start_time": "2023-01-29T10:38:21.441Z"
   },
   {
    "duration": 399,
    "start_time": "2023-01-29T10:38:25.969Z"
   },
   {
    "duration": 4,
    "start_time": "2023-01-29T10:38:41.926Z"
   },
   {
    "duration": 20146,
    "start_time": "2023-01-29T10:38:43.456Z"
   },
   {
    "duration": 72,
    "start_time": "2023-01-29T10:39:03.605Z"
   },
   {
    "duration": 655,
    "start_time": "2023-01-29T10:39:03.679Z"
   },
   {
    "duration": 59,
    "start_time": "2023-01-29T10:39:04.336Z"
   },
   {
    "duration": 16,
    "start_time": "2023-01-29T10:45:55.829Z"
   },
   {
    "duration": 1488,
    "start_time": "2023-01-29T10:46:03.128Z"
   },
   {
    "duration": 842,
    "start_time": "2023-01-29T10:46:04.619Z"
   },
   {
    "duration": 1230,
    "start_time": "2023-01-29T10:46:05.462Z"
   },
   {
    "duration": 511,
    "start_time": "2023-01-29T10:46:06.694Z"
   },
   {
    "duration": 634,
    "start_time": "2023-01-29T10:46:07.209Z"
   },
   {
    "duration": 363,
    "start_time": "2023-01-29T10:46:07.845Z"
   },
   {
    "duration": 402,
    "start_time": "2023-01-29T10:46:08.210Z"
   },
   {
    "duration": 299,
    "start_time": "2023-01-29T10:46:08.614Z"
   },
   {
    "duration": 38,
    "start_time": "2023-01-29T10:46:08.915Z"
   },
   {
    "duration": 352,
    "start_time": "2023-01-29T10:46:08.955Z"
   },
   {
    "duration": 35,
    "start_time": "2023-01-29T10:46:09.309Z"
   },
   {
    "duration": 259,
    "start_time": "2023-01-29T10:46:09.346Z"
   },
   {
    "duration": 34,
    "start_time": "2023-01-29T10:46:09.607Z"
   },
   {
    "duration": 60,
    "start_time": "2023-01-29T10:46:09.644Z"
   },
   {
    "duration": 67,
    "start_time": "2023-01-29T10:46:09.706Z"
   },
   {
    "duration": 73,
    "start_time": "2023-01-29T10:46:09.775Z"
   },
   {
    "duration": 127,
    "start_time": "2023-01-29T10:46:09.851Z"
   },
   {
    "duration": 54,
    "start_time": "2023-01-29T10:46:09.979Z"
   },
   {
    "duration": 32,
    "start_time": "2023-01-29T10:46:10.035Z"
   },
   {
    "duration": 49,
    "start_time": "2023-01-29T10:46:10.069Z"
   },
   {
    "duration": 32,
    "start_time": "2023-01-29T10:46:10.119Z"
   },
   {
    "duration": 52,
    "start_time": "2023-01-29T10:46:10.153Z"
   },
   {
    "duration": 72,
    "start_time": "2023-01-29T10:46:10.207Z"
   },
   {
    "duration": 28,
    "start_time": "2023-01-29T10:46:10.280Z"
   },
   {
    "duration": 24,
    "start_time": "2023-01-29T10:46:10.310Z"
   },
   {
    "duration": 94,
    "start_time": "2023-01-29T10:46:10.337Z"
   },
   {
    "duration": 197,
    "start_time": "2023-01-29T10:46:10.434Z"
   },
   {
    "duration": 446,
    "start_time": "2023-01-29T10:46:10.633Z"
   },
   {
    "duration": 441,
    "start_time": "2023-01-29T10:46:11.081Z"
   },
   {
    "duration": 3,
    "start_time": "2023-01-29T10:46:11.524Z"
   },
   {
    "duration": 24284,
    "start_time": "2023-01-29T10:46:11.529Z"
   },
   {
    "duration": 279,
    "start_time": "2023-01-29T10:46:35.815Z"
   },
   {
    "duration": 632,
    "start_time": "2023-01-29T10:46:36.095Z"
   },
   {
    "duration": 48,
    "start_time": "2023-01-29T10:46:36.728Z"
   },
   {
    "duration": 49,
    "start_time": "2023-01-29T10:46:36.778Z"
   },
   {
    "duration": 48,
    "start_time": "2023-01-29T10:46:36.828Z"
   },
   {
    "duration": 3696,
    "start_time": "2023-01-29T10:46:36.878Z"
   },
   {
    "duration": 67,
    "start_time": "2023-01-29T10:46:40.575Z"
   },
   {
    "duration": 71924,
    "start_time": "2023-01-29T10:46:40.644Z"
   },
   {
    "duration": 67,
    "start_time": "2023-01-29T10:47:52.570Z"
   },
   {
    "duration": 7194,
    "start_time": "2023-01-29T10:47:52.641Z"
   },
   {
    "duration": 1643,
    "start_time": "2023-01-29T10:47:59.837Z"
   },
   {
    "duration": 13534,
    "start_time": "2023-01-29T10:48:01.482Z"
   },
   {
    "duration": 137,
    "start_time": "2023-01-29T10:48:15.018Z"
   },
   {
    "duration": 10,
    "start_time": "2023-01-29T10:48:15.157Z"
   },
   {
    "duration": 0,
    "start_time": "2023-01-29T10:48:15.168Z"
   },
   {
    "duration": 208,
    "start_time": "2023-01-29T10:50:16.686Z"
   },
   {
    "duration": 1388,
    "start_time": "2023-01-29T10:50:29.135Z"
   },
   {
    "duration": 955,
    "start_time": "2023-01-29T10:50:30.525Z"
   },
   {
    "duration": 1189,
    "start_time": "2023-01-29T10:50:31.482Z"
   },
   {
    "duration": 502,
    "start_time": "2023-01-29T10:50:32.673Z"
   },
   {
    "duration": 600,
    "start_time": "2023-01-29T10:50:33.177Z"
   },
   {
    "duration": 349,
    "start_time": "2023-01-29T10:50:33.778Z"
   },
   {
    "duration": 464,
    "start_time": "2023-01-29T10:50:34.129Z"
   },
   {
    "duration": 282,
    "start_time": "2023-01-29T10:50:34.595Z"
   },
   {
    "duration": 42,
    "start_time": "2023-01-29T10:50:34.878Z"
   },
   {
    "duration": 327,
    "start_time": "2023-01-29T10:50:34.922Z"
   },
   {
    "duration": 39,
    "start_time": "2023-01-29T10:50:35.251Z"
   },
   {
    "duration": 242,
    "start_time": "2023-01-29T10:50:35.292Z"
   },
   {
    "duration": 33,
    "start_time": "2023-01-29T10:50:35.536Z"
   },
   {
    "duration": 58,
    "start_time": "2023-01-29T10:50:35.572Z"
   },
   {
    "duration": 80,
    "start_time": "2023-01-29T10:50:35.631Z"
   },
   {
    "duration": 44,
    "start_time": "2023-01-29T10:50:35.713Z"
   },
   {
    "duration": 145,
    "start_time": "2023-01-29T10:50:35.759Z"
   },
   {
    "duration": 53,
    "start_time": "2023-01-29T10:50:35.906Z"
   },
   {
    "duration": 52,
    "start_time": "2023-01-29T10:50:35.961Z"
   },
   {
    "duration": 42,
    "start_time": "2023-01-29T10:50:36.015Z"
   },
   {
    "duration": 45,
    "start_time": "2023-01-29T10:50:36.059Z"
   },
   {
    "duration": 35,
    "start_time": "2023-01-29T10:50:36.106Z"
   },
   {
    "duration": 38,
    "start_time": "2023-01-29T10:50:36.143Z"
   },
   {
    "duration": 46,
    "start_time": "2023-01-29T10:50:36.182Z"
   },
   {
    "duration": 22,
    "start_time": "2023-01-29T10:50:36.230Z"
   },
   {
    "duration": 79,
    "start_time": "2023-01-29T10:50:36.254Z"
   },
   {
    "duration": 168,
    "start_time": "2023-01-29T10:50:36.336Z"
   },
   {
    "duration": 410,
    "start_time": "2023-01-29T10:50:36.505Z"
   },
   {
    "duration": 511,
    "start_time": "2023-01-29T10:50:36.917Z"
   },
   {
    "duration": 3,
    "start_time": "2023-01-29T10:50:37.429Z"
   },
   {
    "duration": 22279,
    "start_time": "2023-01-29T10:50:37.434Z"
   },
   {
    "duration": 272,
    "start_time": "2023-01-29T10:50:59.803Z"
   },
   {
    "duration": 634,
    "start_time": "2023-01-29T10:51:00.077Z"
   },
   {
    "duration": 55,
    "start_time": "2023-01-29T10:51:00.713Z"
   },
   {
    "duration": 47,
    "start_time": "2023-01-29T10:51:00.770Z"
   },
   {
    "duration": 56,
    "start_time": "2023-01-29T10:51:00.819Z"
   },
   {
    "duration": 3816,
    "start_time": "2023-01-29T10:51:00.877Z"
   },
   {
    "duration": 168,
    "start_time": "2023-01-29T10:51:04.695Z"
   },
   {
    "duration": 69574,
    "start_time": "2023-01-29T10:51:04.864Z"
   },
   {
    "duration": 150,
    "start_time": "2023-01-29T10:52:14.440Z"
   },
   {
    "duration": 7087,
    "start_time": "2023-01-29T10:52:14.594Z"
   },
   {
    "duration": 421,
    "start_time": "2023-01-29T10:52:21.682Z"
   },
   {
    "duration": 7306,
    "start_time": "2023-01-29T10:52:22.105Z"
   },
   {
    "duration": 59,
    "start_time": "2023-01-29T10:52:29.413Z"
   },
   {
    "duration": 35,
    "start_time": "2023-01-29T10:52:29.474Z"
   },
   {
    "duration": 0,
    "start_time": "2023-01-29T10:52:29.511Z"
   },
   {
    "duration": 593,
    "start_time": "2023-01-29T10:55:01.063Z"
   },
   {
    "duration": 1402,
    "start_time": "2023-01-29T10:55:10.323Z"
   },
   {
    "duration": 835,
    "start_time": "2023-01-29T10:55:11.728Z"
   },
   {
    "duration": 1244,
    "start_time": "2023-01-29T10:55:12.565Z"
   },
   {
    "duration": 558,
    "start_time": "2023-01-29T10:55:13.810Z"
   },
   {
    "duration": 601,
    "start_time": "2023-01-29T10:55:14.370Z"
   },
   {
    "duration": 345,
    "start_time": "2023-01-29T10:55:14.972Z"
   },
   {
    "duration": 427,
    "start_time": "2023-01-29T10:55:15.320Z"
   },
   {
    "duration": 279,
    "start_time": "2023-01-29T10:55:15.749Z"
   },
   {
    "duration": 35,
    "start_time": "2023-01-29T10:55:16.030Z"
   },
   {
    "duration": 339,
    "start_time": "2023-01-29T10:55:16.067Z"
   },
   {
    "duration": 35,
    "start_time": "2023-01-29T10:55:16.408Z"
   },
   {
    "duration": 248,
    "start_time": "2023-01-29T10:55:16.444Z"
   },
   {
    "duration": 39,
    "start_time": "2023-01-29T10:55:16.694Z"
   },
   {
    "duration": 50,
    "start_time": "2023-01-29T10:55:16.736Z"
   },
   {
    "duration": 70,
    "start_time": "2023-01-29T10:55:16.788Z"
   },
   {
    "duration": 50,
    "start_time": "2023-01-29T10:55:16.860Z"
   },
   {
    "duration": 92,
    "start_time": "2023-01-29T10:55:16.912Z"
   },
   {
    "duration": 50,
    "start_time": "2023-01-29T10:55:17.006Z"
   },
   {
    "duration": 57,
    "start_time": "2023-01-29T10:55:17.058Z"
   },
   {
    "duration": 33,
    "start_time": "2023-01-29T10:55:17.117Z"
   },
   {
    "duration": 33,
    "start_time": "2023-01-29T10:55:17.152Z"
   },
   {
    "duration": 43,
    "start_time": "2023-01-29T10:55:17.204Z"
   },
   {
    "duration": 56,
    "start_time": "2023-01-29T10:55:17.248Z"
   },
   {
    "duration": 29,
    "start_time": "2023-01-29T10:55:17.306Z"
   },
   {
    "duration": 24,
    "start_time": "2023-01-29T10:55:17.337Z"
   },
   {
    "duration": 97,
    "start_time": "2023-01-29T10:55:17.363Z"
   },
   {
    "duration": 159,
    "start_time": "2023-01-29T10:55:17.462Z"
   },
   {
    "duration": 421,
    "start_time": "2023-01-29T10:55:17.623Z"
   },
   {
    "duration": 992,
    "start_time": "2023-01-29T10:55:18.046Z"
   },
   {
    "duration": 3,
    "start_time": "2023-01-29T10:55:19.040Z"
   },
   {
    "duration": 21460,
    "start_time": "2023-01-29T10:55:19.044Z"
   },
   {
    "duration": 200,
    "start_time": "2023-01-29T10:55:40.506Z"
   },
   {
    "duration": 745,
    "start_time": "2023-01-29T10:55:40.708Z"
   },
   {
    "duration": 171,
    "start_time": "2023-01-29T10:55:41.455Z"
   },
   {
    "duration": 51,
    "start_time": "2023-01-29T10:55:41.628Z"
   },
   {
    "duration": 45,
    "start_time": "2023-01-29T10:55:41.680Z"
   },
   {
    "duration": 3745,
    "start_time": "2023-01-29T10:55:41.727Z"
   },
   {
    "duration": 108,
    "start_time": "2023-01-29T10:55:45.474Z"
   },
   {
    "duration": 69941,
    "start_time": "2023-01-29T10:55:45.584Z"
   },
   {
    "duration": 109,
    "start_time": "2023-01-29T10:56:55.527Z"
   },
   {
    "duration": 7172,
    "start_time": "2023-01-29T10:56:55.641Z"
   },
   {
    "duration": 74,
    "start_time": "2023-01-29T10:57:02.815Z"
   },
   {
    "duration": 1356,
    "start_time": "2023-01-29T10:57:10.038Z"
   },
   {
    "duration": 802,
    "start_time": "2023-01-29T10:57:11.396Z"
   },
   {
    "duration": 1178,
    "start_time": "2023-01-29T10:57:12.200Z"
   },
   {
    "duration": 510,
    "start_time": "2023-01-29T10:57:13.380Z"
   },
   {
    "duration": 644,
    "start_time": "2023-01-29T10:57:13.891Z"
   },
   {
    "duration": 336,
    "start_time": "2023-01-29T10:57:14.537Z"
   },
   {
    "duration": 429,
    "start_time": "2023-01-29T10:57:14.876Z"
   },
   {
    "duration": 270,
    "start_time": "2023-01-29T10:57:15.307Z"
   },
   {
    "duration": 48,
    "start_time": "2023-01-29T10:57:15.579Z"
   },
   {
    "duration": 314,
    "start_time": "2023-01-29T10:57:15.630Z"
   },
   {
    "duration": 35,
    "start_time": "2023-01-29T10:57:15.946Z"
   },
   {
    "duration": 239,
    "start_time": "2023-01-29T10:57:15.984Z"
   },
   {
    "duration": 31,
    "start_time": "2023-01-29T10:57:16.226Z"
   },
   {
    "duration": 65,
    "start_time": "2023-01-29T10:57:16.259Z"
   },
   {
    "duration": 60,
    "start_time": "2023-01-29T10:57:16.326Z"
   },
   {
    "duration": 34,
    "start_time": "2023-01-29T10:57:16.402Z"
   },
   {
    "duration": 96,
    "start_time": "2023-01-29T10:57:16.437Z"
   },
   {
    "duration": 40,
    "start_time": "2023-01-29T10:57:16.535Z"
   },
   {
    "duration": 46,
    "start_time": "2023-01-29T10:57:16.577Z"
   },
   {
    "duration": 35,
    "start_time": "2023-01-29T10:57:16.625Z"
   },
   {
    "duration": 43,
    "start_time": "2023-01-29T10:57:16.662Z"
   },
   {
    "duration": 35,
    "start_time": "2023-01-29T10:57:16.707Z"
   },
   {
    "duration": 35,
    "start_time": "2023-01-29T10:57:16.744Z"
   },
   {
    "duration": 46,
    "start_time": "2023-01-29T10:57:16.780Z"
   },
   {
    "duration": 20,
    "start_time": "2023-01-29T10:57:16.828Z"
   },
   {
    "duration": 71,
    "start_time": "2023-01-29T10:57:16.850Z"
   },
   {
    "duration": 161,
    "start_time": "2023-01-29T10:57:16.923Z"
   },
   {
    "duration": 439,
    "start_time": "2023-01-29T10:57:17.089Z"
   },
   {
    "duration": 996,
    "start_time": "2023-01-29T10:57:17.530Z"
   },
   {
    "duration": 4,
    "start_time": "2023-01-29T10:57:18.527Z"
   },
   {
    "duration": 17778,
    "start_time": "2023-01-29T10:57:18.532Z"
   },
   {
    "duration": 193,
    "start_time": "2023-01-29T10:57:36.311Z"
   },
   {
    "duration": 747,
    "start_time": "2023-01-29T10:57:36.508Z"
   },
   {
    "duration": 1010,
    "start_time": "2023-01-29T10:57:37.257Z"
   },
   {
    "duration": 187204,
    "start_time": "2023-01-29T10:57:38.269Z"
   },
   {
    "duration": 140934,
    "start_time": "2023-01-29T11:00:45.475Z"
   },
   {
    "duration": 3693,
    "start_time": "2023-01-29T11:03:06.411Z"
   },
   {
    "duration": 99,
    "start_time": "2023-01-29T11:03:10.105Z"
   },
   {
    "duration": 69605,
    "start_time": "2023-01-29T11:03:10.206Z"
   },
   {
    "duration": 101,
    "start_time": "2023-01-29T11:04:19.813Z"
   },
   {
    "duration": 7146,
    "start_time": "2023-01-29T11:04:19.916Z"
   },
   {
    "duration": 68,
    "start_time": "2023-01-29T11:04:27.064Z"
   },
   {
    "duration": 7181,
    "start_time": "2023-01-29T11:04:27.134Z"
   },
   {
    "duration": 696,
    "start_time": "2023-01-29T11:04:34.316Z"
   },
   {
    "duration": 4,
    "start_time": "2023-01-29T11:04:35.014Z"
   },
   {
    "duration": 13,
    "start_time": "2023-01-29T11:04:35.020Z"
   },
   {
    "duration": 147,
    "start_time": "2023-01-29T11:04:35.036Z"
   },
   {
    "duration": 75,
    "start_time": "2023-01-29T11:07:48.941Z"
   },
   {
    "duration": 1395,
    "start_time": "2023-01-29T11:08:47.765Z"
   },
   {
    "duration": 842,
    "start_time": "2023-01-29T11:08:49.162Z"
   },
   {
    "duration": 1115,
    "start_time": "2023-01-29T11:08:50.006Z"
   },
   {
    "duration": 482,
    "start_time": "2023-01-29T11:08:51.123Z"
   },
   {
    "duration": 560,
    "start_time": "2023-01-29T11:08:51.607Z"
   },
   {
    "duration": 321,
    "start_time": "2023-01-29T11:08:52.169Z"
   },
   {
    "duration": 401,
    "start_time": "2023-01-29T11:08:52.491Z"
   },
   {
    "duration": 282,
    "start_time": "2023-01-29T11:08:52.893Z"
   },
   {
    "duration": 48,
    "start_time": "2023-01-29T11:08:53.176Z"
   },
   {
    "duration": 332,
    "start_time": "2023-01-29T11:08:53.227Z"
   },
   {
    "duration": 33,
    "start_time": "2023-01-29T11:08:53.561Z"
   },
   {
    "duration": 239,
    "start_time": "2023-01-29T11:08:53.603Z"
   },
   {
    "duration": 33,
    "start_time": "2023-01-29T11:08:53.843Z"
   },
   {
    "duration": 66,
    "start_time": "2023-01-29T11:08:53.878Z"
   },
   {
    "duration": 67,
    "start_time": "2023-01-29T11:08:53.946Z"
   },
   {
    "duration": 35,
    "start_time": "2023-01-29T11:08:54.015Z"
   },
   {
    "duration": 115,
    "start_time": "2023-01-29T11:08:54.052Z"
   },
   {
    "duration": 65,
    "start_time": "2023-01-29T11:08:54.169Z"
   },
   {
    "duration": 40,
    "start_time": "2023-01-29T11:08:54.237Z"
   },
   {
    "duration": 60,
    "start_time": "2023-01-29T11:08:54.279Z"
   },
   {
    "duration": 35,
    "start_time": "2023-01-29T11:08:54.340Z"
   },
   {
    "duration": 45,
    "start_time": "2023-01-29T11:08:54.376Z"
   },
   {
    "duration": 35,
    "start_time": "2023-01-29T11:08:54.422Z"
   },
   {
    "duration": 44,
    "start_time": "2023-01-29T11:08:54.459Z"
   },
   {
    "duration": 22,
    "start_time": "2023-01-29T11:08:54.505Z"
   },
   {
    "duration": 53,
    "start_time": "2023-01-29T11:08:54.529Z"
   },
   {
    "duration": 167,
    "start_time": "2023-01-29T11:08:54.583Z"
   },
   {
    "duration": 405,
    "start_time": "2023-01-29T11:08:54.753Z"
   },
   {
    "duration": 963,
    "start_time": "2023-01-29T11:08:55.160Z"
   },
   {
    "duration": 3,
    "start_time": "2023-01-29T11:08:56.125Z"
   },
   {
    "duration": 17178,
    "start_time": "2023-01-29T11:08:56.130Z"
   },
   {
    "duration": 132,
    "start_time": "2023-01-29T11:09:13.310Z"
   },
   {
    "duration": 759,
    "start_time": "2023-01-29T11:09:13.515Z"
   },
   {
    "duration": 1012,
    "start_time": "2023-01-29T11:09:14.276Z"
   },
   {
    "duration": 1370,
    "start_time": "2023-01-29T11:10:16.601Z"
   },
   {
    "duration": 808,
    "start_time": "2023-01-29T11:10:17.973Z"
   },
   {
    "duration": 1142,
    "start_time": "2023-01-29T11:10:18.782Z"
   },
   {
    "duration": 490,
    "start_time": "2023-01-29T11:10:19.926Z"
   },
   {
    "duration": 600,
    "start_time": "2023-01-29T11:10:20.418Z"
   },
   {
    "duration": 340,
    "start_time": "2023-01-29T11:10:21.020Z"
   },
   {
    "duration": 413,
    "start_time": "2023-01-29T11:10:21.362Z"
   },
   {
    "duration": 265,
    "start_time": "2023-01-29T11:10:21.776Z"
   },
   {
    "duration": 37,
    "start_time": "2023-01-29T11:10:22.043Z"
   },
   {
    "duration": 322,
    "start_time": "2023-01-29T11:10:22.082Z"
   },
   {
    "duration": 34,
    "start_time": "2023-01-29T11:10:22.406Z"
   },
   {
    "duration": 233,
    "start_time": "2023-01-29T11:10:22.442Z"
   },
   {
    "duration": 39,
    "start_time": "2023-01-29T11:10:22.677Z"
   },
   {
    "duration": 42,
    "start_time": "2023-01-29T11:10:22.718Z"
   },
   {
    "duration": 71,
    "start_time": "2023-01-29T11:10:22.762Z"
   },
   {
    "duration": 35,
    "start_time": "2023-01-29T11:10:22.835Z"
   },
   {
    "duration": 105,
    "start_time": "2023-01-29T11:10:22.872Z"
   },
   {
    "duration": 61,
    "start_time": "2023-01-29T11:10:22.979Z"
   },
   {
    "duration": 32,
    "start_time": "2023-01-29T11:10:23.043Z"
   },
   {
    "duration": 52,
    "start_time": "2023-01-29T11:10:23.077Z"
   },
   {
    "duration": 35,
    "start_time": "2023-01-29T11:10:23.131Z"
   },
   {
    "duration": 56,
    "start_time": "2023-01-29T11:10:23.168Z"
   },
   {
    "duration": 52,
    "start_time": "2023-01-29T11:10:23.226Z"
   },
   {
    "duration": 37,
    "start_time": "2023-01-29T11:10:23.280Z"
   },
   {
    "duration": 23,
    "start_time": "2023-01-29T11:10:23.319Z"
   },
   {
    "duration": 73,
    "start_time": "2023-01-29T11:10:23.344Z"
   },
   {
    "duration": 157,
    "start_time": "2023-01-29T11:10:23.418Z"
   },
   {
    "duration": 538,
    "start_time": "2023-01-29T11:10:23.578Z"
   },
   {
    "duration": 0,
    "start_time": "2023-01-29T11:10:24.117Z"
   },
   {
    "duration": 0,
    "start_time": "2023-01-29T11:10:24.118Z"
   },
   {
    "duration": 0,
    "start_time": "2023-01-29T11:10:24.119Z"
   },
   {
    "duration": 0,
    "start_time": "2023-01-29T11:10:24.120Z"
   },
   {
    "duration": 0,
    "start_time": "2023-01-29T11:10:24.121Z"
   },
   {
    "duration": 0,
    "start_time": "2023-01-29T11:10:24.122Z"
   },
   {
    "duration": 0,
    "start_time": "2023-01-29T11:10:24.123Z"
   },
   {
    "duration": 0,
    "start_time": "2023-01-29T11:10:24.124Z"
   },
   {
    "duration": 0,
    "start_time": "2023-01-29T11:10:24.125Z"
   },
   {
    "duration": 0,
    "start_time": "2023-01-29T11:10:24.126Z"
   },
   {
    "duration": 0,
    "start_time": "2023-01-29T11:10:24.127Z"
   },
   {
    "duration": 0,
    "start_time": "2023-01-29T11:10:24.127Z"
   },
   {
    "duration": 0,
    "start_time": "2023-01-29T11:10:24.128Z"
   },
   {
    "duration": 0,
    "start_time": "2023-01-29T11:10:24.129Z"
   },
   {
    "duration": 0,
    "start_time": "2023-01-29T11:10:24.130Z"
   },
   {
    "duration": 0,
    "start_time": "2023-01-29T11:10:24.131Z"
   },
   {
    "duration": 0,
    "start_time": "2023-01-29T11:10:24.132Z"
   },
   {
    "duration": 0,
    "start_time": "2023-01-29T11:10:24.132Z"
   },
   {
    "duration": 408,
    "start_time": "2023-01-29T11:11:09.853Z"
   },
   {
    "duration": 473,
    "start_time": "2023-01-29T11:12:59.069Z"
   },
   {
    "duration": 458,
    "start_time": "2023-01-29T11:17:21.456Z"
   },
   {
    "duration": 460,
    "start_time": "2023-01-29T11:19:21.924Z"
   },
   {
    "duration": 2204,
    "start_time": "2023-01-29T11:20:09.092Z"
   },
   {
    "duration": 1409,
    "start_time": "2023-01-29T11:20:29.270Z"
   },
   {
    "duration": 859,
    "start_time": "2023-01-29T11:20:30.681Z"
   },
   {
    "duration": 1119,
    "start_time": "2023-01-29T11:20:31.541Z"
   },
   {
    "duration": 496,
    "start_time": "2023-01-29T11:20:32.662Z"
   },
   {
    "duration": 611,
    "start_time": "2023-01-29T11:20:33.160Z"
   },
   {
    "duration": 375,
    "start_time": "2023-01-29T11:20:33.772Z"
   },
   {
    "duration": 445,
    "start_time": "2023-01-29T11:20:34.150Z"
   },
   {
    "duration": 278,
    "start_time": "2023-01-29T11:20:34.597Z"
   },
   {
    "duration": 48,
    "start_time": "2023-01-29T11:20:34.877Z"
   },
   {
    "duration": 324,
    "start_time": "2023-01-29T11:20:34.928Z"
   },
   {
    "duration": 36,
    "start_time": "2023-01-29T11:20:35.254Z"
   },
   {
    "duration": 225,
    "start_time": "2023-01-29T11:20:35.304Z"
   },
   {
    "duration": 33,
    "start_time": "2023-01-29T11:20:35.531Z"
   },
   {
    "duration": 59,
    "start_time": "2023-01-29T11:20:35.567Z"
   },
   {
    "duration": 60,
    "start_time": "2023-01-29T11:20:35.628Z"
   },
   {
    "duration": 45,
    "start_time": "2023-01-29T11:20:35.689Z"
   },
   {
    "duration": 101,
    "start_time": "2023-01-29T11:20:35.736Z"
   },
   {
    "duration": 42,
    "start_time": "2023-01-29T11:20:35.839Z"
   },
   {
    "duration": 45,
    "start_time": "2023-01-29T11:20:35.882Z"
   },
   {
    "duration": 41,
    "start_time": "2023-01-29T11:20:35.928Z"
   },
   {
    "duration": 45,
    "start_time": "2023-01-29T11:20:35.971Z"
   },
   {
    "duration": 34,
    "start_time": "2023-01-29T11:20:36.017Z"
   },
   {
    "duration": 50,
    "start_time": "2023-01-29T11:20:36.053Z"
   },
   {
    "duration": 28,
    "start_time": "2023-01-29T11:20:36.104Z"
   },
   {
    "duration": 22,
    "start_time": "2023-01-29T11:20:36.133Z"
   },
   {
    "duration": 69,
    "start_time": "2023-01-29T11:20:36.157Z"
   },
   {
    "duration": 167,
    "start_time": "2023-01-29T11:20:36.228Z"
   },
   {
    "duration": 49,
    "start_time": "2023-01-29T11:20:36.404Z"
   },
   {
    "duration": 0,
    "start_time": "2023-01-29T11:20:36.455Z"
   },
   {
    "duration": 0,
    "start_time": "2023-01-29T11:20:36.456Z"
   },
   {
    "duration": 0,
    "start_time": "2023-01-29T11:20:36.457Z"
   },
   {
    "duration": 0,
    "start_time": "2023-01-29T11:20:36.457Z"
   },
   {
    "duration": 0,
    "start_time": "2023-01-29T11:20:36.458Z"
   },
   {
    "duration": 0,
    "start_time": "2023-01-29T11:20:36.459Z"
   },
   {
    "duration": 0,
    "start_time": "2023-01-29T11:20:36.460Z"
   },
   {
    "duration": 0,
    "start_time": "2023-01-29T11:20:36.461Z"
   },
   {
    "duration": 0,
    "start_time": "2023-01-29T11:20:36.462Z"
   },
   {
    "duration": 0,
    "start_time": "2023-01-29T11:20:36.463Z"
   },
   {
    "duration": 0,
    "start_time": "2023-01-29T11:20:36.464Z"
   },
   {
    "duration": 0,
    "start_time": "2023-01-29T11:20:36.465Z"
   },
   {
    "duration": 0,
    "start_time": "2023-01-29T11:20:36.465Z"
   },
   {
    "duration": 0,
    "start_time": "2023-01-29T11:20:36.466Z"
   },
   {
    "duration": 0,
    "start_time": "2023-01-29T11:20:36.467Z"
   },
   {
    "duration": 0,
    "start_time": "2023-01-29T11:20:36.468Z"
   },
   {
    "duration": 0,
    "start_time": "2023-01-29T11:20:36.469Z"
   },
   {
    "duration": 0,
    "start_time": "2023-01-29T11:20:36.470Z"
   },
   {
    "duration": 460,
    "start_time": "2023-01-29T11:21:15.776Z"
   },
   {
    "duration": 978,
    "start_time": "2023-01-29T11:21:18.718Z"
   },
   {
    "duration": 5,
    "start_time": "2023-01-29T11:21:23.043Z"
   },
   {
    "duration": 22592,
    "start_time": "2023-01-29T11:21:24.621Z"
   },
   {
    "duration": 117,
    "start_time": "2023-01-29T11:21:47.303Z"
   },
   {
    "duration": 84260,
    "start_time": "2023-01-29T11:21:47.504Z"
   },
   {
    "duration": 1393,
    "start_time": "2023-01-29T11:28:45.470Z"
   },
   {
    "duration": 849,
    "start_time": "2023-01-29T11:28:46.865Z"
   },
   {
    "duration": 1134,
    "start_time": "2023-01-29T11:28:47.716Z"
   },
   {
    "duration": 472,
    "start_time": "2023-01-29T11:28:48.852Z"
   },
   {
    "duration": 579,
    "start_time": "2023-01-29T11:28:49.325Z"
   },
   {
    "duration": 317,
    "start_time": "2023-01-29T11:28:49.905Z"
   },
   {
    "duration": 414,
    "start_time": "2023-01-29T11:28:50.223Z"
   },
   {
    "duration": 272,
    "start_time": "2023-01-29T11:28:50.638Z"
   },
   {
    "duration": 38,
    "start_time": "2023-01-29T11:28:50.911Z"
   },
   {
    "duration": 359,
    "start_time": "2023-01-29T11:28:50.952Z"
   },
   {
    "duration": 34,
    "start_time": "2023-01-29T11:28:51.313Z"
   },
   {
    "duration": 256,
    "start_time": "2023-01-29T11:28:51.349Z"
   },
   {
    "duration": 36,
    "start_time": "2023-01-29T11:28:51.607Z"
   },
   {
    "duration": 60,
    "start_time": "2023-01-29T11:28:51.645Z"
   },
   {
    "duration": 60,
    "start_time": "2023-01-29T11:28:51.707Z"
   },
   {
    "duration": 47,
    "start_time": "2023-01-29T11:28:51.769Z"
   },
   {
    "duration": 111,
    "start_time": "2023-01-29T11:28:51.818Z"
   },
   {
    "duration": 41,
    "start_time": "2023-01-29T11:28:51.931Z"
   },
   {
    "duration": 44,
    "start_time": "2023-01-29T11:28:51.973Z"
   },
   {
    "duration": 44,
    "start_time": "2023-01-29T11:28:52.019Z"
   },
   {
    "duration": 39,
    "start_time": "2023-01-29T11:28:52.065Z"
   },
   {
    "duration": 34,
    "start_time": "2023-01-29T11:28:52.107Z"
   },
   {
    "duration": 42,
    "start_time": "2023-01-29T11:28:52.143Z"
   },
   {
    "duration": 33,
    "start_time": "2023-01-29T11:28:52.186Z"
   },
   {
    "duration": 21,
    "start_time": "2023-01-29T11:28:52.221Z"
   },
   {
    "duration": 65,
    "start_time": "2023-01-29T11:28:52.244Z"
   },
   {
    "duration": 154,
    "start_time": "2023-01-29T11:28:52.311Z"
   },
   {
    "duration": 457,
    "start_time": "2023-01-29T11:28:52.468Z"
   },
   {
    "duration": 974,
    "start_time": "2023-01-29T11:28:52.926Z"
   },
   {
    "duration": 3,
    "start_time": "2023-01-29T11:28:53.903Z"
   },
   {
    "duration": 17596,
    "start_time": "2023-01-29T11:28:53.908Z"
   },
   {
    "duration": 121,
    "start_time": "2023-01-29T11:29:11.505Z"
   },
   {
    "duration": 1363,
    "start_time": "2023-01-29T11:29:21.938Z"
   },
   {
    "duration": 866,
    "start_time": "2023-01-29T11:29:23.303Z"
   },
   {
    "duration": 1191,
    "start_time": "2023-01-29T11:29:24.171Z"
   },
   {
    "duration": 491,
    "start_time": "2023-01-29T11:29:25.364Z"
   },
   {
    "duration": 576,
    "start_time": "2023-01-29T11:29:25.858Z"
   },
   {
    "duration": 322,
    "start_time": "2023-01-29T11:29:26.436Z"
   },
   {
    "duration": 429,
    "start_time": "2023-01-29T11:29:26.760Z"
   },
   {
    "duration": 294,
    "start_time": "2023-01-29T11:29:27.191Z"
   },
   {
    "duration": 44,
    "start_time": "2023-01-29T11:29:27.486Z"
   },
   {
    "duration": 322,
    "start_time": "2023-01-29T11:29:27.532Z"
   },
   {
    "duration": 34,
    "start_time": "2023-01-29T11:29:27.856Z"
   },
   {
    "duration": 239,
    "start_time": "2023-01-29T11:29:27.903Z"
   },
   {
    "duration": 30,
    "start_time": "2023-01-29T11:29:28.144Z"
   },
   {
    "duration": 64,
    "start_time": "2023-01-29T11:29:28.177Z"
   },
   {
    "duration": 65,
    "start_time": "2023-01-29T11:29:28.243Z"
   },
   {
    "duration": 34,
    "start_time": "2023-01-29T11:29:28.310Z"
   },
   {
    "duration": 103,
    "start_time": "2023-01-29T11:29:28.346Z"
   },
   {
    "duration": 55,
    "start_time": "2023-01-29T11:29:28.451Z"
   },
   {
    "duration": 34,
    "start_time": "2023-01-29T11:29:28.508Z"
   },
   {
    "duration": 59,
    "start_time": "2023-01-29T11:29:28.544Z"
   },
   {
    "duration": 32,
    "start_time": "2023-01-29T11:29:28.605Z"
   },
   {
    "duration": 57,
    "start_time": "2023-01-29T11:29:28.639Z"
   },
   {
    "duration": 52,
    "start_time": "2023-01-29T11:29:28.698Z"
   },
   {
    "duration": 28,
    "start_time": "2023-01-29T11:29:28.752Z"
   },
   {
    "duration": 30,
    "start_time": "2023-01-29T11:29:28.782Z"
   },
   {
    "duration": 54,
    "start_time": "2023-01-29T11:29:28.814Z"
   },
   {
    "duration": 173,
    "start_time": "2023-01-29T11:29:28.870Z"
   },
   {
    "duration": 502,
    "start_time": "2023-01-29T11:29:29.045Z"
   },
   {
    "duration": 985,
    "start_time": "2023-01-29T11:29:29.549Z"
   },
   {
    "duration": 3,
    "start_time": "2023-01-29T11:29:30.536Z"
   },
   {
    "duration": 17674,
    "start_time": "2023-01-29T11:29:30.540Z"
   },
   {
    "duration": 191,
    "start_time": "2023-01-29T11:29:48.216Z"
   },
   {
    "duration": 89136,
    "start_time": "2023-01-29T11:29:48.409Z"
   },
   {
    "duration": 1694,
    "start_time": "2023-01-29T11:34:13.677Z"
   },
   {
    "duration": 886,
    "start_time": "2023-01-29T11:34:15.375Z"
   },
   {
    "duration": 1314,
    "start_time": "2023-01-29T11:34:16.263Z"
   },
   {
    "duration": 518,
    "start_time": "2023-01-29T11:34:17.579Z"
   },
   {
    "duration": 629,
    "start_time": "2023-01-29T11:34:18.099Z"
   },
   {
    "duration": 353,
    "start_time": "2023-01-29T11:34:18.730Z"
   },
   {
    "duration": 469,
    "start_time": "2023-01-29T11:34:19.085Z"
   },
   {
    "duration": 304,
    "start_time": "2023-01-29T11:34:19.557Z"
   },
   {
    "duration": 52,
    "start_time": "2023-01-29T11:34:19.862Z"
   },
   {
    "duration": 335,
    "start_time": "2023-01-29T11:34:19.916Z"
   },
   {
    "duration": 36,
    "start_time": "2023-01-29T11:34:20.253Z"
   },
   {
    "duration": 269,
    "start_time": "2023-01-29T11:34:20.290Z"
   },
   {
    "duration": 45,
    "start_time": "2023-01-29T11:34:20.561Z"
   },
   {
    "duration": 53,
    "start_time": "2023-01-29T11:34:20.611Z"
   },
   {
    "duration": 73,
    "start_time": "2023-01-29T11:34:20.667Z"
   },
   {
    "duration": 33,
    "start_time": "2023-01-29T11:34:20.742Z"
   },
   {
    "duration": 107,
    "start_time": "2023-01-29T11:34:20.776Z"
   },
   {
    "duration": 65,
    "start_time": "2023-01-29T11:34:20.885Z"
   },
   {
    "duration": 30,
    "start_time": "2023-01-29T11:34:20.952Z"
   },
   {
    "duration": 43,
    "start_time": "2023-01-29T11:34:21.002Z"
   },
   {
    "duration": 35,
    "start_time": "2023-01-29T11:34:21.047Z"
   },
   {
    "duration": 54,
    "start_time": "2023-01-29T11:34:21.084Z"
   },
   {
    "duration": 37,
    "start_time": "2023-01-29T11:34:21.140Z"
   },
   {
    "duration": 59,
    "start_time": "2023-01-29T11:34:21.179Z"
   },
   {
    "duration": 22,
    "start_time": "2023-01-29T11:34:21.240Z"
   },
   {
    "duration": 82,
    "start_time": "2023-01-29T11:34:21.264Z"
   },
   {
    "duration": 169,
    "start_time": "2023-01-29T11:34:21.348Z"
   },
   {
    "duration": 456,
    "start_time": "2023-01-29T11:34:21.518Z"
   },
   {
    "duration": 0,
    "start_time": "2023-01-29T11:34:21.976Z"
   },
   {
    "duration": 0,
    "start_time": "2023-01-29T11:34:21.980Z"
   },
   {
    "duration": 0,
    "start_time": "2023-01-29T11:34:21.981Z"
   },
   {
    "duration": 0,
    "start_time": "2023-01-29T11:34:21.983Z"
   },
   {
    "duration": 0,
    "start_time": "2023-01-29T11:34:21.984Z"
   },
   {
    "duration": 0,
    "start_time": "2023-01-29T11:34:21.985Z"
   },
   {
    "duration": 0,
    "start_time": "2023-01-29T11:34:21.986Z"
   },
   {
    "duration": 0,
    "start_time": "2023-01-29T11:34:22.003Z"
   },
   {
    "duration": 0,
    "start_time": "2023-01-29T11:34:22.005Z"
   },
   {
    "duration": 0,
    "start_time": "2023-01-29T11:34:22.006Z"
   },
   {
    "duration": 0,
    "start_time": "2023-01-29T11:34:22.007Z"
   },
   {
    "duration": 0,
    "start_time": "2023-01-29T11:34:22.009Z"
   },
   {
    "duration": 0,
    "start_time": "2023-01-29T11:34:22.010Z"
   },
   {
    "duration": 0,
    "start_time": "2023-01-29T11:34:22.011Z"
   },
   {
    "duration": 0,
    "start_time": "2023-01-29T11:34:22.013Z"
   },
   {
    "duration": 0,
    "start_time": "2023-01-29T11:34:22.014Z"
   },
   {
    "duration": 0,
    "start_time": "2023-01-29T11:34:22.016Z"
   },
   {
    "duration": 0,
    "start_time": "2023-01-29T11:34:22.017Z"
   },
   {
    "duration": 331,
    "start_time": "2023-01-29T11:36:59.554Z"
   },
   {
    "duration": 4070,
    "start_time": "2023-01-29T11:38:16.737Z"
   },
   {
    "duration": 817,
    "start_time": "2023-01-29T11:38:20.809Z"
   },
   {
    "duration": 1142,
    "start_time": "2023-01-29T11:38:21.628Z"
   },
   {
    "duration": 489,
    "start_time": "2023-01-29T11:38:22.772Z"
   },
   {
    "duration": 571,
    "start_time": "2023-01-29T11:38:23.263Z"
   },
   {
    "duration": 356,
    "start_time": "2023-01-29T11:38:23.836Z"
   },
   {
    "duration": 383,
    "start_time": "2023-01-29T11:38:24.194Z"
   },
   {
    "duration": 360,
    "start_time": "2023-01-29T11:38:24.579Z"
   },
   {
    "duration": 36,
    "start_time": "2023-01-29T11:38:24.941Z"
   },
   {
    "duration": 327,
    "start_time": "2023-01-29T11:38:24.979Z"
   },
   {
    "duration": 35,
    "start_time": "2023-01-29T11:38:25.308Z"
   },
   {
    "duration": 266,
    "start_time": "2023-01-29T11:38:25.345Z"
   },
   {
    "duration": 33,
    "start_time": "2023-01-29T11:38:25.613Z"
   },
   {
    "duration": 59,
    "start_time": "2023-01-29T11:38:25.650Z"
   },
   {
    "duration": 63,
    "start_time": "2023-01-29T11:38:25.710Z"
   },
   {
    "duration": 49,
    "start_time": "2023-01-29T11:38:25.774Z"
   },
   {
    "duration": 96,
    "start_time": "2023-01-29T11:38:25.825Z"
   },
   {
    "duration": 37,
    "start_time": "2023-01-29T11:38:25.923Z"
   },
   {
    "duration": 47,
    "start_time": "2023-01-29T11:38:25.962Z"
   },
   {
    "duration": 33,
    "start_time": "2023-01-29T11:38:26.010Z"
   },
   {
    "duration": 32,
    "start_time": "2023-01-29T11:38:26.045Z"
   },
   {
    "duration": 45,
    "start_time": "2023-01-29T11:38:26.078Z"
   },
   {
    "duration": 33,
    "start_time": "2023-01-29T11:38:26.125Z"
   },
   {
    "duration": 49,
    "start_time": "2023-01-29T11:38:26.161Z"
   },
   {
    "duration": 21,
    "start_time": "2023-01-29T11:38:26.213Z"
   },
   {
    "duration": 68,
    "start_time": "2023-01-29T11:38:26.236Z"
   },
   {
    "duration": 147,
    "start_time": "2023-01-29T11:38:26.306Z"
   },
   {
    "duration": 372,
    "start_time": "2023-01-29T11:38:26.455Z"
   },
   {
    "duration": 989,
    "start_time": "2023-01-29T11:38:26.829Z"
   },
   {
    "duration": 4,
    "start_time": "2023-01-29T11:38:27.819Z"
   },
   {
    "duration": 28203,
    "start_time": "2023-01-29T11:38:27.824Z"
   },
   {
    "duration": 176,
    "start_time": "2023-01-29T11:38:56.029Z"
   },
   {
    "duration": 83670,
    "start_time": "2023-01-29T11:38:56.208Z"
   },
   {
    "duration": 3727,
    "start_time": "2023-01-29T11:41:01.319Z"
   },
   {
    "duration": 861,
    "start_time": "2023-01-29T11:41:05.049Z"
   },
   {
    "duration": 1166,
    "start_time": "2023-01-29T11:41:05.913Z"
   },
   {
    "duration": 552,
    "start_time": "2023-01-29T11:41:07.082Z"
   },
   {
    "duration": 586,
    "start_time": "2023-01-29T11:41:07.635Z"
   },
   {
    "duration": 343,
    "start_time": "2023-01-29T11:41:08.223Z"
   },
   {
    "duration": 361,
    "start_time": "2023-01-29T11:41:08.568Z"
   },
   {
    "duration": 400,
    "start_time": "2023-01-29T11:41:08.930Z"
   },
   {
    "duration": 37,
    "start_time": "2023-01-29T11:41:09.332Z"
   },
   {
    "duration": 332,
    "start_time": "2023-01-29T11:41:09.371Z"
   },
   {
    "duration": 36,
    "start_time": "2023-01-29T11:41:09.704Z"
   },
   {
    "duration": 247,
    "start_time": "2023-01-29T11:41:09.741Z"
   },
   {
    "duration": 36,
    "start_time": "2023-01-29T11:41:09.991Z"
   },
   {
    "duration": 46,
    "start_time": "2023-01-29T11:41:10.028Z"
   },
   {
    "duration": 77,
    "start_time": "2023-01-29T11:41:10.075Z"
   },
   {
    "duration": 50,
    "start_time": "2023-01-29T11:41:10.154Z"
   },
   {
    "duration": 102,
    "start_time": "2023-01-29T11:41:10.205Z"
   },
   {
    "duration": 41,
    "start_time": "2023-01-29T11:41:10.309Z"
   },
   {
    "duration": 58,
    "start_time": "2023-01-29T11:41:10.352Z"
   },
   {
    "duration": 45,
    "start_time": "2023-01-29T11:41:10.412Z"
   },
   {
    "duration": 28,
    "start_time": "2023-01-29T11:41:10.459Z"
   },
   {
    "duration": 31,
    "start_time": "2023-01-29T11:41:10.503Z"
   },
   {
    "duration": 34,
    "start_time": "2023-01-29T11:41:10.536Z"
   },
   {
    "duration": 54,
    "start_time": "2023-01-29T11:41:10.572Z"
   },
   {
    "duration": 23,
    "start_time": "2023-01-29T11:41:10.628Z"
   },
   {
    "duration": 70,
    "start_time": "2023-01-29T11:41:10.653Z"
   },
   {
    "duration": 164,
    "start_time": "2023-01-29T11:41:10.725Z"
   },
   {
    "duration": 379,
    "start_time": "2023-01-29T11:41:10.891Z"
   },
   {
    "duration": 999,
    "start_time": "2023-01-29T11:41:11.272Z"
   },
   {
    "duration": 4,
    "start_time": "2023-01-29T11:41:12.272Z"
   },
   {
    "duration": 29048,
    "start_time": "2023-01-29T11:41:12.277Z"
   },
   {
    "duration": 176,
    "start_time": "2023-01-29T11:41:41.327Z"
   },
   {
    "duration": 7841,
    "start_time": "2023-01-29T11:41:41.506Z"
   },
   {
    "duration": 170614,
    "start_time": "2023-01-29T11:41:49.349Z"
   },
   {
    "duration": 197021,
    "start_time": "2023-01-29T11:44:39.965Z"
   },
   {
    "duration": 3651,
    "start_time": "2023-01-29T11:50:58.414Z"
   },
   {
    "duration": 99,
    "start_time": "2023-01-29T11:51:02.066Z"
   },
   {
    "duration": 7191,
    "start_time": "2023-01-29T11:51:02.167Z"
   },
   {
    "duration": 96,
    "start_time": "2023-01-29T11:51:09.361Z"
   },
   {
    "duration": 7178,
    "start_time": "2023-01-29T11:51:09.459Z"
   },
   {
    "duration": 76,
    "start_time": "2023-01-29T11:51:16.638Z"
   },
   {
    "duration": 6593,
    "start_time": "2023-01-29T11:51:16.715Z"
   },
   {
    "duration": 614,
    "start_time": "2023-01-29T11:51:23.310Z"
   },
   {
    "duration": 5,
    "start_time": "2023-01-29T11:51:23.926Z"
   },
   {
    "duration": 74,
    "start_time": "2023-01-29T11:51:23.932Z"
   },
   {
    "duration": 146000,
    "start_time": "2023-01-29T11:53:27.014Z"
   },
   {
    "duration": 127871,
    "start_time": "2023-01-29T11:58:51.044Z"
   },
   {
    "duration": 143724,
    "start_time": "2023-01-29T12:01:48.232Z"
   },
   {
    "duration": 219360,
    "start_time": "2023-01-29T12:07:18.650Z"
   },
   {
    "duration": 12,
    "start_time": "2023-01-29T12:14:06.442Z"
   },
   {
    "duration": 3517,
    "start_time": "2023-01-29T12:16:25.129Z"
   },
   {
    "duration": 828,
    "start_time": "2023-01-29T12:16:28.648Z"
   },
   {
    "duration": 1146,
    "start_time": "2023-01-29T12:16:29.478Z"
   },
   {
    "duration": 528,
    "start_time": "2023-01-29T12:16:30.626Z"
   },
   {
    "duration": 600,
    "start_time": "2023-01-29T12:16:31.156Z"
   },
   {
    "duration": 324,
    "start_time": "2023-01-29T12:16:31.758Z"
   },
   {
    "duration": 338,
    "start_time": "2023-01-29T12:16:32.085Z"
   },
   {
    "duration": 346,
    "start_time": "2023-01-29T12:16:32.425Z"
   },
   {
    "duration": 43,
    "start_time": "2023-01-29T12:16:32.772Z"
   },
   {
    "duration": 311,
    "start_time": "2023-01-29T12:16:32.818Z"
   },
   {
    "duration": 36,
    "start_time": "2023-01-29T12:16:33.131Z"
   },
   {
    "duration": 253,
    "start_time": "2023-01-29T12:16:33.169Z"
   },
   {
    "duration": 32,
    "start_time": "2023-01-29T12:16:33.423Z"
   },
   {
    "duration": 58,
    "start_time": "2023-01-29T12:16:33.457Z"
   },
   {
    "duration": 56,
    "start_time": "2023-01-29T12:16:33.517Z"
   },
   {
    "duration": 49,
    "start_time": "2023-01-29T12:16:33.575Z"
   },
   {
    "duration": 101,
    "start_time": "2023-01-29T12:16:33.626Z"
   },
   {
    "duration": 40,
    "start_time": "2023-01-29T12:16:33.729Z"
   },
   {
    "duration": 49,
    "start_time": "2023-01-29T12:16:33.771Z"
   },
   {
    "duration": 38,
    "start_time": "2023-01-29T12:16:33.823Z"
   },
   {
    "duration": 44,
    "start_time": "2023-01-29T12:16:33.863Z"
   },
   {
    "duration": 34,
    "start_time": "2023-01-29T12:16:33.909Z"
   },
   {
    "duration": 37,
    "start_time": "2023-01-29T12:16:33.945Z"
   },
   {
    "duration": 33,
    "start_time": "2023-01-29T12:16:34.003Z"
   },
   {
    "duration": 25,
    "start_time": "2023-01-29T12:16:34.038Z"
   },
   {
    "duration": 84,
    "start_time": "2023-01-29T12:16:34.065Z"
   },
   {
    "duration": 172,
    "start_time": "2023-01-29T12:16:34.151Z"
   },
   {
    "duration": 385,
    "start_time": "2023-01-29T12:16:34.326Z"
   },
   {
    "duration": 1009,
    "start_time": "2023-01-29T12:16:34.713Z"
   },
   {
    "duration": 3,
    "start_time": "2023-01-29T12:16:35.723Z"
   },
   {
    "duration": 20789,
    "start_time": "2023-01-29T12:16:35.728Z"
   },
   {
    "duration": 186,
    "start_time": "2023-01-29T12:16:56.518Z"
   },
   {
    "duration": 7715,
    "start_time": "2023-01-29T12:16:56.707Z"
   },
   {
    "duration": 168281,
    "start_time": "2023-01-29T12:17:04.424Z"
   },
   {
    "duration": 191438,
    "start_time": "2023-01-29T12:19:52.706Z"
   },
   {
    "duration": 123568,
    "start_time": "2023-01-29T12:23:04.146Z"
   },
   {
    "duration": 3700,
    "start_time": "2023-01-29T12:25:07.716Z"
   },
   {
    "duration": 98,
    "start_time": "2023-01-29T12:25:11.417Z"
   },
   {
    "duration": 7005,
    "start_time": "2023-01-29T12:25:11.517Z"
   },
   {
    "duration": 96,
    "start_time": "2023-01-29T12:25:18.524Z"
   },
   {
    "duration": 7349,
    "start_time": "2023-01-29T12:25:18.622Z"
   },
   {
    "duration": 72,
    "start_time": "2023-01-29T12:25:25.973Z"
   },
   {
    "duration": 7263,
    "start_time": "2023-01-29T12:25:26.048Z"
   },
   {
    "duration": 621,
    "start_time": "2023-01-29T12:25:33.313Z"
   },
   {
    "duration": 30,
    "start_time": "2023-01-29T12:25:34.004Z"
   },
   {
    "duration": 14,
    "start_time": "2023-01-29T12:25:34.037Z"
   },
   {
    "duration": 9,
    "start_time": "2023-01-29T12:25:34.053Z"
   },
   {
    "duration": 47,
    "start_time": "2023-01-29T12:25:34.066Z"
   },
   {
    "duration": 0,
    "start_time": "2023-01-29T12:25:34.115Z"
   },
   {
    "duration": 12,
    "start_time": "2023-01-29T12:26:50.473Z"
   }
  ],
  "kernelspec": {
   "display_name": "Python 3 (ipykernel)",
   "language": "python",
   "name": "python3"
  },
  "language_info": {
   "codemirror_mode": {
    "name": "ipython",
    "version": 3
   },
   "file_extension": ".py",
   "mimetype": "text/x-python",
   "name": "python",
   "nbconvert_exporter": "python",
   "pygments_lexer": "ipython3",
   "version": "3.9.5"
  },
  "toc": {
   "base_numbering": 1,
   "nav_menu": {},
   "number_sections": true,
   "sideBar": true,
   "skip_h1_title": true,
   "title_cell": "Table of Contents",
   "title_sidebar": "Contents",
   "toc_cell": false,
   "toc_position": {},
   "toc_section_display": true,
   "toc_window_display": false
  }
 },
 "nbformat": 4,
 "nbformat_minor": 2
}
